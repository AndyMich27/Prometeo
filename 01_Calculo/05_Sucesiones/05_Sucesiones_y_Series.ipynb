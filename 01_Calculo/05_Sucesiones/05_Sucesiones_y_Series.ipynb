{
  "nbformat": 4,
  "nbformat_minor": 0,
  "metadata": {
    "colab": {
      "name": "05_Sucesiones_y_Series.ipynb",
      "provenance": [],
      "collapsed_sections": []
    },
    "kernelspec": {
      "display_name": "Python 3",
      "language": "python",
      "name": "python3"
    },
    "language_info": {
      "codemirror_mode": {
        "name": "ipython",
        "version": 3
      },
      "file_extension": ".py",
      "mimetype": "text/x-python",
      "name": "python",
      "nbconvert_exporter": "python",
      "pygments_lexer": "ipython3",
      "version": "3.7.3"
    }
  },
  "cells": [
    {
      "cell_type": "markdown",
      "metadata": {
        "colab_type": "text",
        "id": "MfrLEZ67VFAW"
      },
      "source": [
        "<font color=\"Teal\" face=\"Comic Sans MS,arial\">\n",
        "  <h1 align=\"center\"><i> Sucesiones y series</i></h1>\n",
        "  </font>\n",
        "  <font color=\"Black\" face=\"Comic Sans MS,arial\">\n",
        "  <h5 align=\"center\"><i></i></h5>\n",
        "  <h5 align=\"center\"><i>Proyecto PAPIME PE101019</i></h5>\n",
        "  </font>\n",
        "\n",
        "\n",
        "---\n",
        "\n",
        " \n"
      ]
    },
    {
      "cell_type": "markdown",
      "metadata": {
        "colab_type": "text",
        "id": "h2kkneD2IB2P"
      },
      "source": [
        "*   Autores: \n",
        "    - Ingrid Pamela Ruiz Puga\n",
        "    - José de Jesús Tapia López\n",
        "*   Rev: miér septiembre 09 17:09:25 CDT 2020\n",
        "\n",
        "\n"
      ]
    },
    {
      "cell_type": "code",
      "metadata": {
        "colab_type": "code",
        "id": "t2NCQHFVjInW",
        "colab": {
          "resources": {
            "http://localhost:8080/nbextensions/google.colab/files.js": {
              "data": "Ly8gQ29weXJpZ2h0IDIwMTcgR29vZ2xlIExMQwovLwovLyBMaWNlbnNlZCB1bmRlciB0aGUgQXBhY2hlIExpY2Vuc2UsIFZlcnNpb24gMi4wICh0aGUgIkxpY2Vuc2UiKTsKLy8geW91IG1heSBub3QgdXNlIHRoaXMgZmlsZSBleGNlcHQgaW4gY29tcGxpYW5jZSB3aXRoIHRoZSBMaWNlbnNlLgovLyBZb3UgbWF5IG9idGFpbiBhIGNvcHkgb2YgdGhlIExpY2Vuc2UgYXQKLy8KLy8gICAgICBodHRwOi8vd3d3LmFwYWNoZS5vcmcvbGljZW5zZXMvTElDRU5TRS0yLjAKLy8KLy8gVW5sZXNzIHJlcXVpcmVkIGJ5IGFwcGxpY2FibGUgbGF3IG9yIGFncmVlZCB0byBpbiB3cml0aW5nLCBzb2Z0d2FyZQovLyBkaXN0cmlidXRlZCB1bmRlciB0aGUgTGljZW5zZSBpcyBkaXN0cmlidXRlZCBvbiBhbiAiQVMgSVMiIEJBU0lTLAovLyBXSVRIT1VUIFdBUlJBTlRJRVMgT1IgQ09ORElUSU9OUyBPRiBBTlkgS0lORCwgZWl0aGVyIGV4cHJlc3Mgb3IgaW1wbGllZC4KLy8gU2VlIHRoZSBMaWNlbnNlIGZvciB0aGUgc3BlY2lmaWMgbGFuZ3VhZ2UgZ292ZXJuaW5nIHBlcm1pc3Npb25zIGFuZAovLyBsaW1pdGF0aW9ucyB1bmRlciB0aGUgTGljZW5zZS4KCi8qKgogKiBAZmlsZW92ZXJ2aWV3IEhlbHBlcnMgZm9yIGdvb2dsZS5jb2xhYiBQeXRob24gbW9kdWxlLgogKi8KKGZ1bmN0aW9uKHNjb3BlKSB7CmZ1bmN0aW9uIHNwYW4odGV4dCwgc3R5bGVBdHRyaWJ1dGVzID0ge30pIHsKICBjb25zdCBlbGVtZW50ID0gZG9jdW1lbnQuY3JlYXRlRWxlbWVudCgnc3BhbicpOwogIGVsZW1lbnQudGV4dENvbnRlbnQgPSB0ZXh0OwogIGZvciAoY29uc3Qga2V5IG9mIE9iamVjdC5rZXlzKHN0eWxlQXR0cmlidXRlcykpIHsKICAgIGVsZW1lbnQuc3R5bGVba2V5XSA9IHN0eWxlQXR0cmlidXRlc1trZXldOwogIH0KICByZXR1cm4gZWxlbWVudDsKfQoKLy8gTWF4IG51bWJlciBvZiBieXRlcyB3aGljaCB3aWxsIGJlIHVwbG9hZGVkIGF0IGEgdGltZS4KY29uc3QgTUFYX1BBWUxPQURfU0laRSA9IDEwMCAqIDEwMjQ7CgpmdW5jdGlvbiBfdXBsb2FkRmlsZXMoaW5wdXRJZCwgb3V0cHV0SWQpIHsKICBjb25zdCBzdGVwcyA9IHVwbG9hZEZpbGVzU3RlcChpbnB1dElkLCBvdXRwdXRJZCk7CiAgY29uc3Qgb3V0cHV0RWxlbWVudCA9IGRvY3VtZW50LmdldEVsZW1lbnRCeUlkKG91dHB1dElkKTsKICAvLyBDYWNoZSBzdGVwcyBvbiB0aGUgb3V0cHV0RWxlbWVudCB0byBtYWtlIGl0IGF2YWlsYWJsZSBmb3IgdGhlIG5leHQgY2FsbAogIC8vIHRvIHVwbG9hZEZpbGVzQ29udGludWUgZnJvbSBQeXRob24uCiAgb3V0cHV0RWxlbWVudC5zdGVwcyA9IHN0ZXBzOwoKICByZXR1cm4gX3VwbG9hZEZpbGVzQ29udGludWUob3V0cHV0SWQpOwp9CgovLyBUaGlzIGlzIHJvdWdobHkgYW4gYXN5bmMgZ2VuZXJhdG9yIChub3Qgc3VwcG9ydGVkIGluIHRoZSBicm93c2VyIHlldCksCi8vIHdoZXJlIHRoZXJlIGFyZSBtdWx0aXBsZSBhc3luY2hyb25vdXMgc3RlcHMgYW5kIHRoZSBQeXRob24gc2lkZSBpcyBnb2luZwovLyB0byBwb2xsIGZvciBjb21wbGV0aW9uIG9mIGVhY2ggc3RlcC4KLy8gVGhpcyB1c2VzIGEgUHJvbWlzZSB0byBibG9jayB0aGUgcHl0aG9uIHNpZGUgb24gY29tcGxldGlvbiBvZiBlYWNoIHN0ZXAsCi8vIHRoZW4gcGFzc2VzIHRoZSByZXN1bHQgb2YgdGhlIHByZXZpb3VzIHN0ZXAgYXMgdGhlIGlucHV0IHRvIHRoZSBuZXh0IHN0ZXAuCmZ1bmN0aW9uIF91cGxvYWRGaWxlc0NvbnRpbnVlKG91dHB1dElkKSB7CiAgY29uc3Qgb3V0cHV0RWxlbWVudCA9IGRvY3VtZW50LmdldEVsZW1lbnRCeUlkKG91dHB1dElkKTsKICBjb25zdCBzdGVwcyA9IG91dHB1dEVsZW1lbnQuc3RlcHM7CgogIGNvbnN0IG5leHQgPSBzdGVwcy5uZXh0KG91dHB1dEVsZW1lbnQubGFzdFByb21pc2VWYWx1ZSk7CiAgcmV0dXJuIFByb21pc2UucmVzb2x2ZShuZXh0LnZhbHVlLnByb21pc2UpLnRoZW4oKHZhbHVlKSA9PiB7CiAgICAvLyBDYWNoZSB0aGUgbGFzdCBwcm9taXNlIHZhbHVlIHRvIG1ha2UgaXQgYXZhaWxhYmxlIHRvIHRoZSBuZXh0CiAgICAvLyBzdGVwIG9mIHRoZSBnZW5lcmF0b3IuCiAgICBvdXRwdXRFbGVtZW50Lmxhc3RQcm9taXNlVmFsdWUgPSB2YWx1ZTsKICAgIHJldHVybiBuZXh0LnZhbHVlLnJlc3BvbnNlOwogIH0pOwp9CgovKioKICogR2VuZXJhdG9yIGZ1bmN0aW9uIHdoaWNoIGlzIGNhbGxlZCBiZXR3ZWVuIGVhY2ggYXN5bmMgc3RlcCBvZiB0aGUgdXBsb2FkCiAqIHByb2Nlc3MuCiAqIEBwYXJhbSB7c3RyaW5nfSBpbnB1dElkIEVsZW1lbnQgSUQgb2YgdGhlIGlucHV0IGZpbGUgcGlja2VyIGVsZW1lbnQuCiAqIEBwYXJhbSB7c3RyaW5nfSBvdXRwdXRJZCBFbGVtZW50IElEIG9mIHRoZSBvdXRwdXQgZGlzcGxheS4KICogQHJldHVybiB7IUl0ZXJhYmxlPCFPYmplY3Q+fSBJdGVyYWJsZSBvZiBuZXh0IHN0ZXBzLgogKi8KZnVuY3Rpb24qIHVwbG9hZEZpbGVzU3RlcChpbnB1dElkLCBvdXRwdXRJZCkgewogIGNvbnN0IGlucHV0RWxlbWVudCA9IGRvY3VtZW50LmdldEVsZW1lbnRCeUlkKGlucHV0SWQpOwogIGlucHV0RWxlbWVudC5kaXNhYmxlZCA9IGZhbHNlOwoKICBjb25zdCBvdXRwdXRFbGVtZW50ID0gZG9jdW1lbnQuZ2V0RWxlbWVudEJ5SWQob3V0cHV0SWQpOwogIG91dHB1dEVsZW1lbnQuaW5uZXJIVE1MID0gJyc7CgogIGNvbnN0IHBpY2tlZFByb21pc2UgPSBuZXcgUHJvbWlzZSgocmVzb2x2ZSkgPT4gewogICAgaW5wdXRFbGVtZW50LmFkZEV2ZW50TGlzdGVuZXIoJ2NoYW5nZScsIChlKSA9PiB7CiAgICAgIHJlc29sdmUoZS50YXJnZXQuZmlsZXMpOwogICAgfSk7CiAgfSk7CgogIGNvbnN0IGNhbmNlbCA9IGRvY3VtZW50LmNyZWF0ZUVsZW1lbnQoJ2J1dHRvbicpOwogIGlucHV0RWxlbWVudC5wYXJlbnRFbGVtZW50LmFwcGVuZENoaWxkKGNhbmNlbCk7CiAgY2FuY2VsLnRleHRDb250ZW50ID0gJ0NhbmNlbCB1cGxvYWQnOwogIGNvbnN0IGNhbmNlbFByb21pc2UgPSBuZXcgUHJvbWlzZSgocmVzb2x2ZSkgPT4gewogICAgY2FuY2VsLm9uY2xpY2sgPSAoKSA9PiB7CiAgICAgIHJlc29sdmUobnVsbCk7CiAgICB9OwogIH0pOwoKICAvLyBXYWl0IGZvciB0aGUgdXNlciB0byBwaWNrIHRoZSBmaWxlcy4KICBjb25zdCBmaWxlcyA9IHlpZWxkIHsKICAgIHByb21pc2U6IFByb21pc2UucmFjZShbcGlja2VkUHJvbWlzZSwgY2FuY2VsUHJvbWlzZV0pLAogICAgcmVzcG9uc2U6IHsKICAgICAgYWN0aW9uOiAnc3RhcnRpbmcnLAogICAgfQogIH07CgogIGNhbmNlbC5yZW1vdmUoKTsKCiAgLy8gRGlzYWJsZSB0aGUgaW5wdXQgZWxlbWVudCBzaW5jZSBmdXJ0aGVyIHBpY2tzIGFyZSBub3QgYWxsb3dlZC4KICBpbnB1dEVsZW1lbnQuZGlzYWJsZWQgPSB0cnVlOwoKICBpZiAoIWZpbGVzKSB7CiAgICByZXR1cm4gewogICAgICByZXNwb25zZTogewogICAgICAgIGFjdGlvbjogJ2NvbXBsZXRlJywKICAgICAgfQogICAgfTsKICB9CgogIGZvciAoY29uc3QgZmlsZSBvZiBmaWxlcykgewogICAgY29uc3QgbGkgPSBkb2N1bWVudC5jcmVhdGVFbGVtZW50KCdsaScpOwogICAgbGkuYXBwZW5kKHNwYW4oZmlsZS5uYW1lLCB7Zm9udFdlaWdodDogJ2JvbGQnfSkpOwogICAgbGkuYXBwZW5kKHNwYW4oCiAgICAgICAgYCgke2ZpbGUudHlwZSB8fCAnbi9hJ30pIC0gJHtmaWxlLnNpemV9IGJ5dGVzLCBgICsKICAgICAgICBgbGFzdCBtb2RpZmllZDogJHsKICAgICAgICAgICAgZmlsZS5sYXN0TW9kaWZpZWREYXRlID8gZmlsZS5sYXN0TW9kaWZpZWREYXRlLnRvTG9jYWxlRGF0ZVN0cmluZygpIDoKICAgICAgICAgICAgICAgICAgICAgICAgICAgICAgICAgICAgJ24vYSd9IC0gYCkpOwogICAgY29uc3QgcGVyY2VudCA9IHNwYW4oJzAlIGRvbmUnKTsKICAgIGxpLmFwcGVuZENoaWxkKHBlcmNlbnQpOwoKICAgIG91dHB1dEVsZW1lbnQuYXBwZW5kQ2hpbGQobGkpOwoKICAgIGNvbnN0IGZpbGVEYXRhUHJvbWlzZSA9IG5ldyBQcm9taXNlKChyZXNvbHZlKSA9PiB7CiAgICAgIGNvbnN0IHJlYWRlciA9IG5ldyBGaWxlUmVhZGVyKCk7CiAgICAgIHJlYWRlci5vbmxvYWQgPSAoZSkgPT4gewogICAgICAgIHJlc29sdmUoZS50YXJnZXQucmVzdWx0KTsKICAgICAgfTsKICAgICAgcmVhZGVyLnJlYWRBc0FycmF5QnVmZmVyKGZpbGUpOwogICAgfSk7CiAgICAvLyBXYWl0IGZvciB0aGUgZGF0YSB0byBiZSByZWFkeS4KICAgIGxldCBmaWxlRGF0YSA9IHlpZWxkIHsKICAgICAgcHJvbWlzZTogZmlsZURhdGFQcm9taXNlLAogICAgICByZXNwb25zZTogewogICAgICAgIGFjdGlvbjogJ2NvbnRpbnVlJywKICAgICAgfQogICAgfTsKCiAgICAvLyBVc2UgYSBjaHVua2VkIHNlbmRpbmcgdG8gYXZvaWQgbWVzc2FnZSBzaXplIGxpbWl0cy4gU2VlIGIvNjIxMTU2NjAuCiAgICBsZXQgcG9zaXRpb24gPSAwOwogICAgd2hpbGUgKHBvc2l0aW9uIDwgZmlsZURhdGEuYnl0ZUxlbmd0aCkgewogICAgICBjb25zdCBsZW5ndGggPSBNYXRoLm1pbihmaWxlRGF0YS5ieXRlTGVuZ3RoIC0gcG9zaXRpb24sIE1BWF9QQVlMT0FEX1NJWkUpOwogICAgICBjb25zdCBjaHVuayA9IG5ldyBVaW50OEFycmF5KGZpbGVEYXRhLCBwb3NpdGlvbiwgbGVuZ3RoKTsKICAgICAgcG9zaXRpb24gKz0gbGVuZ3RoOwoKICAgICAgY29uc3QgYmFzZTY0ID0gYnRvYShTdHJpbmcuZnJvbUNoYXJDb2RlLmFwcGx5KG51bGwsIGNodW5rKSk7CiAgICAgIHlpZWxkIHsKICAgICAgICByZXNwb25zZTogewogICAgICAgICAgYWN0aW9uOiAnYXBwZW5kJywKICAgICAgICAgIGZpbGU6IGZpbGUubmFtZSwKICAgICAgICAgIGRhdGE6IGJhc2U2NCwKICAgICAgICB9LAogICAgICB9OwogICAgICBwZXJjZW50LnRleHRDb250ZW50ID0KICAgICAgICAgIGAke01hdGgucm91bmQoKHBvc2l0aW9uIC8gZmlsZURhdGEuYnl0ZUxlbmd0aCkgKiAxMDApfSUgZG9uZWA7CiAgICB9CiAgfQoKICAvLyBBbGwgZG9uZS4KICB5aWVsZCB7CiAgICByZXNwb25zZTogewogICAgICBhY3Rpb246ICdjb21wbGV0ZScsCiAgICB9CiAgfTsKfQoKc2NvcGUuZ29vZ2xlID0gc2NvcGUuZ29vZ2xlIHx8IHt9OwpzY29wZS5nb29nbGUuY29sYWIgPSBzY29wZS5nb29nbGUuY29sYWIgfHwge307CnNjb3BlLmdvb2dsZS5jb2xhYi5fZmlsZXMgPSB7CiAgX3VwbG9hZEZpbGVzLAogIF91cGxvYWRGaWxlc0NvbnRpbnVlLAp9Owp9KShzZWxmKTsK",
              "ok": true,
              "headers": [
                [
                  "content-type",
                  "application/javascript"
                ]
              ],
              "status": 200,
              "status_text": ""
            }
          },
          "base_uri": "https://localhost:8080/",
          "height": 73
        },
        "outputId": "3e391635-91ca-456a-f263-9049c097bc87"
      },
      "source": [
        "from google.colab import files\n",
        "files.upload()\n",
        "# choose the file on your computer to upload it then\n",
        "import gutils"
      ],
      "execution_count": 2,
      "outputs": [
        {
          "output_type": "display_data",
          "data": {
            "text/html": [
              "\n",
              "     <input type=\"file\" id=\"files-8ec4835b-2bf0-45f9-9c57-8d3f4aa135ea\" name=\"files[]\" multiple disabled\n",
              "        style=\"border:none\" />\n",
              "     <output id=\"result-8ec4835b-2bf0-45f9-9c57-8d3f4aa135ea\">\n",
              "      Upload widget is only available when the cell has been executed in the\n",
              "      current browser session. Please rerun this cell to enable.\n",
              "      </output>\n",
              "      <script src=\"/nbextensions/google.colab/files.js\"></script> "
            ],
            "text/plain": [
              "<IPython.core.display.HTML object>"
            ]
          },
          "metadata": {
            "tags": []
          }
        },
        {
          "output_type": "stream",
          "text": [
            "Saving gutils.py to gutils.py\n"
          ],
          "name": "stdout"
        }
      ]
    },
    {
      "cell_type": "code",
      "metadata": {
        "id": "lOSnM0OFSqxs",
        "colab_type": "code",
        "colab": {
          "base_uri": "https://localhost:8080/",
          "height": 129
        },
        "outputId": "95678869-ba09-473a-ed33-ca3de1d82987"
      },
      "source": [
        "from google.colab import drive\n",
        "drive.mount('/content/drive')"
      ],
      "execution_count": null,
      "outputs": [
        {
          "output_type": "stream",
          "text": [
            "Go to this URL in a browser: https://accounts.google.com/o/oauth2/auth?client_id=947318989803-6bn6qk8qdgf4n4g3pfee6491hc0brc4i.apps.googleusercontent.com&redirect_uri=urn%3aietf%3awg%3aoauth%3a2.0%3aoob&scope=email%20https%3a%2f%2fwww.googleapis.com%2fauth%2fdocs.test%20https%3a%2f%2fwww.googleapis.com%2fauth%2fdrive%20https%3a%2f%2fwww.googleapis.com%2fauth%2fdrive.photos.readonly%20https%3a%2f%2fwww.googleapis.com%2fauth%2fpeopleapi.readonly&response_type=code\n",
            "\n",
            "Enter your authorization code:\n",
            "4/4AFsBLlniOpx2RzY5A8xGMIg-lcU-sQBreLIU4GUvaCfJ2hHWWLX54Y\n",
            "Mounted at /content/drive\n"
          ],
          "name": "stdout"
        }
      ]
    },
    {
      "cell_type": "code",
      "metadata": {
        "colab_type": "code",
        "id": "0fuG26-ZiiZZ",
        "colab": {}
      },
      "source": [
        "from sympy import limit, oo, Symbol \n",
        "import math\n",
        "import matplotlib.pyplot as plt\n",
        "import numpy as np\n",
        "%matplotlib inline\n",
        "from math import *\n",
        "import gutils as vis"
      ],
      "execution_count": 3,
      "outputs": []
    },
    {
      "cell_type": "markdown",
      "metadata": {
        "colab_type": "text",
        "id": "ahdxUvGvM6Qk"
      },
      "source": [
        "#Sucesiones \n",
        "En muchas situaciones cotidianas aparecen secuencias o listas de diversos\n",
        "objetos o personas. En particular, seguramente habrás presentado exámenes\n",
        "o pruebas psicométricas y encontrado listas de números como éstas:\n",
        "\n",
        "$2,5,8,11,14,...$\n",
        "\n",
        "$\\frac{1}{2}, \\frac{2}{3}, \\frac{3}{4}, \\frac{4}{5}, \\frac{5}{6}$\n",
        "\n",
        "$1,4,9,16, 25$\n",
        "\n",
        "Para cada una de las listas anteriores puedes determinar el número que aparece en cualquier lugar de la secuencia (por ejemplo, el número que ocupa la posición 12020). Para estas sucesiones numéricas, se acostumbra resumir esta información de la siguiente manera: El lugar del número se representa mediante una letra, por lo general la letra $n$, de modo que\n",
        "\n",
        " \n",
        "\n",
        "*   Dada la lista $2,5,8,11,14, ...$ en el lugar $n$ debe aparecer el elemento de la lista número $3n-1$.\n",
        "* La lista $1,4,9,16, 25, ...$ puede escribirse como $1^2, 2^2, 3^2, 4^2, 5^2, ...$, por lo que que en el lugar $n$ debe aparecer el número $2n$.\n",
        "\n",
        "La manera de determinar el número que debe aparecer en cada lugar de\n",
        "la lista se llama también la regla de correspondencia de la lista. \n",
        "\n",
        "\n",
        "A continuación presentamos las respectivas reglas de correspondencias de las listas anteriores:\n",
        "\n",
        "\n"
      ]
    },
    {
      "cell_type": "code",
      "metadata": {
        "colab_type": "code",
        "id": "Dnsa5uv7ICRg",
        "colab": {
          "base_uri": "https://localhost:8080/",
          "height": 72
        },
        "outputId": "371f11db-ec7c-41ef-a64c-04cee73fb47c"
      },
      "source": [
        "def sucesion1(n):\n",
        "  return 3*n-1\n",
        "\n",
        "def sucesion2(n):\n",
        "  return n**2\n",
        "\n",
        "\n",
        "num = int(input(\"Introduzca un número natural: \"))\n",
        "print(\"El lugar \" +str(num)+ \" de la primera lista es ocupado por el número: \", sucesion1(num))\n",
        "print(\"El lugar \" +str(num)+ \" de la segunda lista es ocupado por el número: \", sucesion2(num))"
      ],
      "execution_count": null,
      "outputs": [
        {
          "output_type": "stream",
          "text": [
            "Introduzca un número natural: 345\n",
            "El lugar 345 de la primera lista es ocupado por el número:  1034\n",
            "El lugar 345 de la segunda lista es ocupado por el número:  119025\n"
          ],
          "name": "stdout"
        }
      ]
    },
    {
      "cell_type": "markdown",
      "metadata": {
        "colab_type": "text",
        "id": "d1kjbzDNICj0"
      },
      "source": [
        "Hasta ahora hemos considerado secuencias de números ordenados de acuerdo con los números naturales: listas con un primer elemento (que podemos asociar al 1), un segundo elemento (asociado al 2), etcétera.\n",
        "Asís, dado un conjunto $A$, formamos una lista asociando elementos de $A$\n",
        "a los números naturales en $\\mathbb{N}$. Esto nos conduce a la siguiente definición.\n",
        "\n",
        "Una **sucesión** de elementos en $A$ es una función que a cada\n",
        "número natural le asocia un elemento de $A$. \n",
        "\n",
        "Una **sucesión numérica** es una función cuyo dominio es el\n",
        "conjunto de los números naturales y cuyo contradominio es el conjunto de\n",
        "los números reales. Así, una sucesión de este tipo es una función que a cada número natural le hace corresponder uno y sólo un número real.\n",
        "\n",
        "\n",
        "Las siguientes listas se pueden describir mediante funciones. Por ejemplo:\n",
        "\n",
        "* La lista $1, 2, 3, 4, 5, . . .$ se puede describir como la función que a cada número natural le asocia el mismo natural. En este caso, la función $f$ sería de la forma $f(n)=n$.\n",
        "* La lista $1, 1 + 2, 1 + 2 + 2^2 , 1 + 2 + 2^2 + 2^3 , ..., 1 + 2 + 2^2 + 2^3 + ... + 2^n-1 , ...$. En este caso, la función $f$ se podría describir  como la función que a cada número natural $n$ le\n",
        "asocia el número $1 + 2 + 2^2 + 2^3 + ... + 2^n-1$, es decir, $f(n)=1 + 2 + 2^2 + 2^3 + ... + 2^n-1$.\n",
        "\n",
        "Se acostumbra describir a la sucesión mediante los elementos de su imagen\n",
        "ordenados, llamando a éstos los términos de la sucesión, escritos mediante letras con subı́ndices $a_1, a_2, a_3, . . . , a_n , . . .$ .Esto significa que al número 1 le corresponde a 1 , que es la imagen del natural 1 bajo la función y el primer elemento de la sucesión; al 2 le corresponde el segundo elemento a 2 ; al 3 le corresponde el tercer elemento a 3 , y ası́ sucesivamente; por lo cual se tiene que al número\n",
        "natural $n$ le corresponde el $n$-ésimo elemento a $n$. De esta manera escribimos la sucesión como la lista ordenada de números reales $a_1 , a_2 , a_3 , . . . , a_n , . . .$ .\n",
        "\n",
        "\n",
        "**Ejemplos**\n",
        "\n",
        "1. La sucesión $\\frac{1}{2}, \\frac{4}{3}, \\frac{9}{4}, ..., \\frac{n^2}{n+1},...$ \n",
        "tiene como regla de correspondencia que al número natural $n$ se le\n",
        "asigna el número real $\\frac{n^2}{n+1}$. Ası́, el término 171 de la sucesión es $\\frac{171^2}{171+1}=\\frac{29241}{172}$.\n",
        "2. En la sucesión $\\pi, \\pi, \\pi, ..., \\pi, . . .$, a cada natural $n$ se le asigna el número real $\\pi$. Este tipo de sucesión se llama **sucesión constante**, porque todos los términos son iguales. \n",
        "3. La sucesión $1, 1, 2, 1, 2, 3, 1, 2, 3, 4, 1, 2, 3, 4, 5, 1, 2, 3, 4, 5, 6, . . .$ no está dada por una fórmula, sino por un procedimiento. Primero escribimos el primer número natural, en seguida los dos prime-\n",
        "ros naturales, después los tres primeros naturales y ası́ sucesivamente.\n",
        "Para saber cuál es el número que ocupa una cierta posición, por ejem-\n",
        "plo la 16, podemos fijarnos en el quinto número triangular, el 15 y por\n",
        "lo tanto afirmar que en la posición 16 hay un 1. (¿Cómo se justifica\n",
        "este procedimiento?)\n",
        "\n",
        "Notemos que una sucesión tiene una infinidad de términos: Como una\n",
        "sucesión es una función que tiene como dominio un conjunto infinito (los\n",
        "naturales), también tiene un número infinito de imágenes. Generalmente escribiremos de manera abreviada $\\{a_n\\}_{n=1}^\\infty$, en lugar de la lista $a_1, a_2 , a_3 , . . . , a_n , . . . $, o bien solamente ${a_n}$ entendiendo que $n \\in \\mathbb{N}$ y que $a_n$ es el término general de la sucesión.\n",
        "\n",
        "\n",
        "\n"
      ]
    },
    {
      "cell_type": "markdown",
      "metadata": {
        "colab_type": "text",
        "id": "e68YxCfZdz_l"
      },
      "source": [
        "## Operaciones con sucesiones\n",
        "Sean $\\{a_n\\}$ y $\\{b_n\\}$ dos sucesiones.\n",
        "1. La **suma** de sucesiones es una nueva sucesión cuyo término general está dado por la suma de los términos generales de cada una de las sucesiones. Esto es: $\\{a_n\\} + \\{b_n\\} = \\{a_n + b_n \\}$.\n",
        "\n",
        "2. La **resta** de sucesiones es una nueva sucesión cuyo término general está dado por la resta de los términos generales de cada una de las sucesiones. Esto es: $\\{a_n\\} - \\{b_n\\} = \\{a_n - b_n \\}$.\n",
        "\n",
        "3. El **producto** de sucesiones es una nueva sucesión cuyo término general está dado por el producto de los términos generales de cada una de las sucesiones. Esto es: $\\{a_n\\} \\cdot \\{b_n\\} = \\{a_n \\cdot b_n \\}$.\n",
        "\n",
        "4. Definimos la **división** de sucesiones como una nueva sucesión cuyo\n",
        "término general es el cociente de los términos generales de las dos su-\n",
        "cesiones originales, siempre y cuando la sucesión que aparece en el\n",
        "denominador nunca tome el valor cero. Esto es: $\\frac{\\{a_n\\}}{\\{b_n\\}} = \\{\\frac{a_n}{b_n}\\}$, con $b_n \\neq 0$ para toda $n \\in \\mathbb{N}$.\n",
        "\n",
        "5. La multiplicación de una sucesión por un escalar es una nueva sucesión, cuyo término general se obtiene multiplicando el número dado por el término general de la sucesión original; esto es, si $\\lambda \\in \\mathbb{R}$, entonces $\\lambda\\{a_n\\} = \\{\\lambda a_n\\}$."
      ]
    },
    {
      "cell_type": "markdown",
      "metadata": {
        "colab_type": "text",
        "id": "4QjBmaYMhOZn"
      },
      "source": [
        "## Convergencia de una sucesión\n",
        "\n",
        "\n",
        "Decimos que la sucesión $\\{a_n\\}$ converge a número real $a$ si y sólo si para toda $ \\epsilon > 0$ existe un número natural $N$ tal que si $n > N$ entonces $|a_n - a| < \\epsilon$. Si la sucesión $\\{a_n\\}$ converge a $a$, decimos que el lı́mite de la sucesión $\\{a_n\\}$ es $a$ y escribimos $\\lim_{x \\to \\infty} a_n = a$\n",
        "\n",
        "Esta definición nos dice que dado cualquier número positivo $\\epsilon$, podemos encontrar un número natural $N$, que depende de $\\epsilon$, tal que si nos fijamos en los índices mayores que $N$ (es decir, $N + 1, N + 2, . . . , N + k, . . .)$, entonces los términos de la sucesión\n",
        "$a_{N +1}, a_{N +2} ,  . . . , a_{N +k}, . . .$ distan de $a$ menos que $\\epsilon$.\n",
        "\n",
        "Además, sabemos que:\n",
        "$|a_n - a| < \\epsilon \\Leftrightarrow - \\epsilon < a_n - a < \\epsilon \\Leftrightarrow a - \\epsilon < a_n < a + \\epsilon$,\n",
        "\n",
        "entonces la definición de convergencia implica que todos los elementos de\n",
        "la sucesión cuyos índices sean mayores que $N$ están en el intervalo abierto $(a - \\epsilon, a + \\epsilon)$ y solamente un número finito se encuentra fuera de él.\n",
        "\n",
        "![](https://drive.google.com/uc?export=view&id=1otQSu6FF9W9FP9MkSohP70qabmgJXVW8)"
      ]
    },
    {
      "cell_type": "markdown",
      "metadata": {
        "colab_type": "text",
        "id": "nNLOZMGoOpkN"
      },
      "source": [
        "**Ejemplo:** La sucesión $\\frac{1}{n}$\n",
        "converge a cero; esto es, $\\lim_{x \\to \\infty} \\frac{1}{n} = 0$\n",
        "Tomemos distintos valores de $\\epsilon$ y encontremos el valor de $N$. Para esto, primero debemos resolver la siguiente desigualdad:\n",
        "\n",
        "$|\\frac{1}{n}-0| = \\frac{1}{n}< \\epsilon \\Leftrightarrow n > \\frac{1}{\\epsilon}$.\n",
        "\n",
        "Proponemos $ N = \\lfloor {\\frac{1}{\\epsilon}} \\rfloor + 1$. Ası́, si $\\epsilon = 0.3$, entonces $N =\\lfloor {\\frac{1}{0.3}} \\rfloor + 1 = 4$\n",
        "\n",
        "Veamos el comportamiento de $N$ al variar $\\epsilon$:\n",
        "\n",
        "| $\\epsilon$ | n |  Así, si  | entonces $\\frac{1}{n}$ es menor que: | \n",
        "|---|---|----|---|\n",
        "| 0.3 | 4 |n > 4| 0.3 | \n",
        "| 0.15 | 7 |n > 7| 0.15 |\n",
        "| 0.1 | 10 |n > 10| 0.1 | \n",
        "| 0.025 | 41 |n > 41| 0.025 |\n",
        "| 0.01 | 100 |n > 100| 0.01 | \n",
        "| 0.001 | 1000 |n > 1000| 0.001 |\n",
        "| 0.00001 | 100000 |n > 100000| 0.00001 | \n",
        "\n",
        "Antes de continuar, analizaremos con un poco más de detalle esta tabla:\n",
        "¿Qué términos de la sucesión cumplen el tercer renglón? Como $n > 7$,\n",
        "los términos son $\\frac{1}{8},\\frac{1}{9},\\frac{1}{10}, . . . ,$ etcétera.\n",
        "¿Qué términos de la sucesión distan del cero menos que $0.025$? En el\n",
        "quinto renglón tenemos que $\\epsilon = 0.025$ y para este valor se tiene que $N = 41$, de modo que los términos de la sucesión que distan de cero\n",
        "menos que $0.025$ aparecen a partir del término número $42$ de la sucesión.\n",
        "\n",
        "¿Cuáles son los índices tales que los términos correspondientes de la\n",
        "sucesión cumplen la desigualdad $|\\frac{1}{n}-0| < 0.001$?\n",
        "\n",
        "En la tabla tenemos que $N = 1000$, de modo que los ı́ndices correspondientes a los términos de la sucesión que satisfacen la desigualdad anterior son: $1001, 1002, 1003, 1004, . . . .\n",
        "\n",
        "Ahora completaremos la demostración de que la sucesión\n",
        "$\\{\\frac{1}{n}\\}$ converge a 0.\n",
        "\n",
        "\n",
        "Ya hemos visto que $N = \\lfloor \\frac{1}{\\epsilon} \\rfloor +1$. Ahora tomemos $n > \\lfloor \\frac{1}{\\epsilon} \\rfloor +1$. Como $\\lfloor \\frac{1}{\\epsilon} \\rfloor +1 > \\frac{1}{\\epsilon}$, entonces $n>\\frac{1}{\\epsilon} \\Leftrightarrow \\epsilon > \\frac{1}{n}$, y esto implica que $\\frac{1}{n} = |\\frac{1}{n}-0| < \\epsilon$.\n",
        "\n",
        "Por lo tanto:\n",
        "\n",
        "$\\displaystyle \\lim_{n \\to \\infty} \\frac{1}{n} = 0$.\n",
        "\n",
        "\n",
        "En la siguiente gráfica podemos observar que efectivamente ocurre esto:\n"
      ]
    },
    {
      "cell_type": "code",
      "metadata": {
        "colab_type": "code",
        "id": "rGHEeyV-4iuf",
        "colab": {},
        "outputId": "61aa0a9c-2917-4a5c-a2f7-98b6a09e9cb8"
      },
      "source": [
        "num_suc = np.arange(1,100)\n",
        "sucesion2 = [1/i for i in num_suc]\n",
        "\n",
        "par = [{'xlabel':'$n$',\n",
        "        'ylabel':'$a_n$',\n",
        "       'xlim':(0.5,99.5)},\n",
        "       ]\n",
        "\n",
        "graf = vis.planoCartesiano(par=par)\n",
        "graf.scatter(x = num_suc, y = sucesion2, par={'s':10,'color':'purple', 'label':r'Sucesión $a_n=\\frac{1}{n}$'})\n",
        "graf.plot(x=[0,100],y=[0,0], par={'c':'green','linestyle':'--', 'lw':2,'label':'Función constante 0'})\n",
        "graf.legend()\n",
        "graf.show()"
      ],
      "execution_count": null,
      "outputs": [
        {
          "output_type": "display_data",
          "data": {
            "image/png": "[encoded data removed]",
            "text/plain": [
              "<Figure size 720x360 with 1 Axes>"
            ]
          },
          "metadata": {
            "tags": [],
            "needs_background": "light"
          }
        }
      ]
    },
    {
      "cell_type": "markdown",
      "metadata": {
        "colab_type": "text",
        "id": "IKERrTbfLnVb"
      },
      "source": [
        "\n",
        "\n",
        "**Proposición:** Sean $\\{a_n\\}$, $\\{b_n\\}$dos sucesiones.\n",
        "1. Si la sucesión $\\{a_n\\}$ converge, su lı́mite es único.\n",
        "2. Supongamos que $\\{a_n\\}$ y $\\{b_n\\}$ convergen a $a$ y $b$, respectivamente. Entonces:\n",
        "\n",
        "  a) La sucesión $\\{a_n \\pm b_n\\}$ converge a $a \\pm b$. Es decir,\n",
        "      $\\displaystyle \\lim_{n \\to \\infty} (a_n \\pm b_n) = \\lim_{n \\to \\infty} a_n \\pm \\lim_{n \\to \\infty} b_n = a \\pm b$.\n",
        "\n",
        "  b)  La sucesión $\\{a_n \\cdot b_n\\}$ converge a $a \\cdot b$. Es decir,\n",
        "      $\\displaystyle \\lim_{n \\to \\infty} (a_n \\cdot b_n) = \\lim_{n \\to \\infty} a_n \\cdot \\lim_{n \\to \\infty} b_n = a \\cdot b$.\n",
        "\n",
        "  c) Si además suponemos que $b \\neq 0$ , la sucesión $\\frac{\\{a_n\\}}{\\{b_n\\}}$ converge a $\\frac{a}{b}$. Es decir,\n",
        "      $\\displaystyle \\lim_{n \\to \\infty} \\frac{\\{a_n\\}}{\\{b_n\\}} = \\frac{\\displaystyle \\lim_{n \\to \\infty} a_n}{\\displaystyle \\lim_{n \\to \\infty} b_n} = \\frac{a}{b}$.\n",
        "\n",
        "  d) Para $\\lambda \\in \\mathbb{R}$, la sucesión $\\{\\lambda \\cdot a_n\\}$ converge a $\\lambda \\cdot a$. Es decir, $\\displaystyle \\lim_{n \\to \\infty} (\\lambda \\cdot a_n) =  \\lambda \\cdot \\lim_{n \\to \\infty} a_n = \\lambda \\cdot a $.\n"
      ]
    },
    {
      "cell_type": "markdown",
      "metadata": {
        "colab_type": "text",
        "id": "YLfMa6tjfLsC"
      },
      "source": [
        "Notemos que la definición de sucesión es tan parecida a la definición de límite. Es posible definir el primero en términos del segundo y viceversa.\n",
        "\n",
        "A pesar de esta conexión con un concepto familiar, es más importante representarse la convergencia en términos de la imagen de una sucesión de puntos sobre una recta. Existe otra conexión entre límites de funciones y límites de sucesiones relacionada con esta imagen. Esta conexión es algo menos evidente, pero considerablemente más interesante, en vez de definir límites de sucesiones en términos de límites de funciones, es posible invertir el proceso. \n",
        "\n",
        "**Teorema:** Sea $f$ una función definida en un intervalo abierto que contiene $c$, excepto quizá en $c$ mismo, con $\\displaystyle \\lim_{x \\to c} f(x) = l$.\n",
        "\n",
        "Supongamos que $\\{a_n\\}$  es una sucesión que satisface:\n",
        "\n",
        "1. cada $a_n$ pertenece al dominio de $f$.\n",
        "2. cada $ a_n \\neq c$.\n",
        "3. $\\displaystyle \\lim_{n \\to \\infty } a_n = c$.\n",
        "\n",
        "Entonces la sucesión $\\{f(a_n)\\}$ satisface:\n",
        "\n",
        " $\\displaystyle \\lim_{n \\to \\infty } f(a_n) = l$\n",
        "\n",
        "**Ejemplo:** Sea $\\{a_n\\}$ la sucesión definida por: \n",
        "\n",
        "$f(a_n) = sen(cos(e + \\frac{n-1}{n+1}))$. \n",
        "\n",
        "Para conocer el valor de $c$, buscamos el límite de la sucesión $\\{a_n\\}.$"
      ]
    },
    {
      "cell_type": "code",
      "metadata": {
        "colab_type": "code",
        "id": "G3IedTwlowpv",
        "colab": {
          "base_uri": "https://localhost:8080/",
          "height": 35
        },
        "outputId": "2a2dd6fb-207f-4880-ef86-cbcbc7e804a6"
      },
      "source": [
        "x = Symbol('x') \n",
        "y=(x-1)/(x+1)\n",
        "limit(y, x, oo)"
      ],
      "execution_count": null,
      "outputs": [
        {
          "output_type": "execute_result",
          "data": {
            "text/plain": [
              "1"
            ]
          },
          "metadata": {
            "tags": []
          },
          "execution_count": 63
        }
      ]
    },
    {
      "cell_type": "markdown",
      "metadata": {
        "id": "nOv7YM5Qp8hE",
        "colab_type": "text"
      },
      "source": [
        "Claramente podemos observar que convergen hacia $sen(cos(e +1))$"
      ]
    },
    {
      "cell_type": "code",
      "metadata": {
        "colab_type": "code",
        "id": "0q1SkkrNVhrC",
        "colab": {
          "base_uri": "https://localhost:8080/",
          "height": 392
        },
        "outputId": "8025ddfa-d481-49ff-b11b-83d7c45b833c"
      },
      "source": [
        "def suc_sc(n):\n",
        "  return np.sin(np.cos(np.exp(1) + (n-1)/(n+1)))\n",
        "\n",
        "arr = np.arange(1,200)\n",
        "\n",
        "suc4 = [suc_sc(n) for n in arr]\n",
        "\n",
        "par = [{'xlabel':'$n$',\n",
        "        'ylabel':'$a_n$',\n",
        "       'xlim':(1,199.5)},\n",
        "       ]\n",
        "\n",
        "cte = np.sin(np.cos(np.exp(1)+ 1)) \n",
        "graf = vis.planoCartesiano(par=par)\n",
        "graf.scatter(x=arr,y=suc4, par={'s':5, 'label':r'Sucesión $a_n = sen(cos(e + \\frac{n-1}{n+1}))$'})\n",
        "graf.plot(x=[0,200],y=[cte,cte], par={'c':'green','linestyle':'--', 'label':'Función constante sen(cos(e+1))'})\n",
        "graf.legend()\n",
        "graf.show()"
      ],
      "execution_count": null,
      "outputs": [
        {
          "output_type": "display_data",
          "data": {
            "image/png": "[encoded data removed]",
            "text/plain": [
              "<Figure size 720x360 with 1 Axes>"
            ]
          },
          "metadata": {
            "tags": [],
            "needs_background": "light"
          }
        }
      ]
    },
    {
      "cell_type": "markdown",
      "metadata": {
        "colab_type": "text",
        "id": "NRwaWb6KViK3"
      },
      "source": [
        "Una sucesión $\\{a_n\\}$ es:\n",
        "\n",
        "* **creciente** si $a_{n+1} > a_n$ para todo $n$.\n",
        "* **no decreciente** si $a_{n+1} \\ge a_n$ para todo $n$.\n",
        "* **decreciente** si $a_{n+1} < a_n$ para todo $n$.\n",
        "* **no creciente** si $a_{n+1} \\le a_n$ para todo $n$.\n",
        "\n",
        "Y está **acotada superiormente** (**inferiormente**) si existe un número $M$ tal que $ a_n \\le M$ ($a_n \\ge M$) para todo $n$.\n",
        "\n",
        "**Ejemplo:** Consideremos la sucesión $\\sqrt{2},\\sqrt{2+\\sqrt{2}},\\sqrt{2+\\sqrt{2+\\sqrt{2}}}, \\sqrt{2+\\sqrt{2+\\sqrt{2+...}}}, ... $\n",
        "\n",
        "Esta sucesión se puede escribir de la siguiente manera: \n",
        "\n",
        "si $a_1 = \\sqrt{2}$ entonces, $a_2 = \\sqrt{2 + a_1}, a_3 =\\sqrt{2 + a_2}, ..., a_{n+1} = \\sqrt{2 + a_n}$.\n",
        "\n",
        "Para ver que esta sucesión es creciente, podemos usar el principio de\n",
        "inducción:\n",
        "\n",
        "Sea $M= \\{n \\in \\mathbb{N} | a_{n+1} > a_n \\}\\subseteq \\mathbb{N}$\n",
        "\n",
        "Claramente $\\sqrt{2+\\sqrt{2}} = a_{1+1} > a_1 = \\sqrt{2}$. Por lo tanto $1 \\in M$.\n",
        "\n",
        "Supongamos que $m-1 \\in M$, es decir, supongamos que $a_{m} > a_{m-1}$. \n",
        "\n",
        "P.D. $m \\in M$, es decir, que $a_{m+1} > a_{m}$\n",
        "\n",
        "Notemos que $a^2_{m+1} - a^2_m = (2 + a_m) - (2 + a_{m-1}) = a_m - a_{m-1}$. Como por hipótesis de inducción $a_{m} > a_{m-1}$, entonces $a^2_{m+1} > a^2_m$; y como los términos de la sucesión son positivos, tenemos que $a_{m+1} > a_m$.\n",
        "\n",
        "Por lo tanto $m \\in M$.\n",
        "\n",
        "Por lo tanto $\\mathbb{N} \\subseteq M$.\n",
        "\n",
        "Por lo tanto $M = \\mathbb{N}$.\n",
        "\n",
        "Por lo tanto $a_{n+1} > a_n$ para todo $n \\in \\mathbb{N}$.\n",
        "\n",
        "Lo cual quiere decir que la sucesión $a_n$ es creciente.\n",
        "\n",
        "Además, podemos ver a donde converge la sucesión realizando lo siguiente:\n",
        "\n",
        "Sea $x = \\sqrt{2+\\sqrt{2+\\sqrt{2 +\\cdots}}}$. Entonces:\n",
        "\n",
        "$x^2 = 2+\\sqrt{2+\\sqrt{2+ \\cdots}}$, por lo que $x^2 - x = 2$. Esta última ecuación tiene como solución:\n",
        "\n",
        "$x_1 = -1$, $x_2 = 2$. Como $x$ es una raíz positiva, la solución a la ecuación tiene que ser $x=2$, lo cual quiere decir que esta sucesión converge a $2$. \n"
      ]
    },
    {
      "cell_type": "code",
      "metadata": {
        "colab_type": "code",
        "id": "YSNkiQy0rLVe",
        "colab": {
          "base_uri": "https://localhost:8080/",
          "height": 392
        },
        "outputId": "cfaf9265-3060-4370-c399-067bf4945c0b"
      },
      "source": [
        "def sucRec(n):\n",
        "  if n == 1:\n",
        "    return np.sqrt(2)\n",
        "  else:\n",
        "    return np.sqrt(2 + sucRec(n-1))\n",
        "\n",
        "numeros = np.arange(1,28)\n",
        "suc_rec = [sucRec(num) for num in numeros]\n",
        "\n",
        "par = [{'xlabel':'$n$',\n",
        "        'ylabel':'$a_n$',\n",
        "       'xlim':(0.5,27.5)},\n",
        "       ]\n",
        "\n",
        "graf = vis.planoCartesiano(par=par)\n",
        "graf.scatter(x=numeros,y=suc_rec, par={'label':r'Sucesión $a_n = \\sqrt{2+\\sqrt{2+\\sqrt{2 +\\cdots}}}$'})\n",
        "graf.plot(x=[1,27],y=[2,2], par={'c':'green','linestyle':'--','lw':1,'label':r'Función constante = 2'})\n",
        "graf.legend()\n",
        "graf.show()"
      ],
      "execution_count": null,
      "outputs": [
        {
          "output_type": "display_data",
          "data": {
            "image/png": "[encoded data removed]",
            "text/plain": [
              "<Figure size 720x360 with 1 Axes>"
            ]
          },
          "metadata": {
            "tags": [],
            "needs_background": "light"
          }
        }
      ]
    },
    {
      "cell_type": "markdown",
      "metadata": {
        "colab_type": "text",
        "id": "ImVdxPi3Vi6s"
      },
      "source": [
        "**Teorema** \n",
        "1. Si $\\{a_n\\}$ es una sucesión no decreciente y acotada superiormente, entonces $\\{a_n\\}$ converge.\n",
        "\n",
        "2. Si $\\{a_n\\}$ es una sucesión no creciente y acotada inferiormente, entonces $\\{a_n\\}$ converge.\n",
        "\n",
        "\n",
        "\n",
        "Una **subsucesión** de una sucesión $\\{a_n\\}$ es una sucesión de la forma $a_{n_{1}}, a_{n_{2}}, a_{n_{3}},...$ donde $n_j \\in \\mathbb{N}$ para toda $j \\in \\mathbb{N}$ satisface que $n_i < n_j$, con $i \\neq j$.\n",
        "\n",
        "\n",
        "**Lema:** Cualquier sucesión $\\{a_n\\}$ contiene una subsucesión que es o bien no decreciente o bien no creciente.\n",
        "\n",
        "#### Teorema de Bolzano-Weiertrass\n",
        "\n",
        "**Corolario:** Toda sucesión acotada tiene una subsucesión convergente.\n",
        "\n",
        "**Ejemplo:** Consideremos la sucesión $a_n = \\{(-1)^n\\}$. No es dificil comprobar que esta sucesión no converge. Además, notemos que esta sucesión está acotada, y debido al corolario anterior esto nos dice que tiene una subsucesión convergente.\n",
        "\n",
        "Si consideramos la subsucesión $\\{(-1)^{2k}\\}$ se puede comprobar que $\\displaystyle \\lim_{n \\to \\infty} (-1)^{2k} = 1$. Más aún, si consideremos la subsucesión $\\{(-1)^{2k-1}\\}$ se puede comprobar que $\\displaystyle \\lim_{n \\to \\infty} (-1)^{2k} = -1$. \n",
        "\n",
        "Esto quiere decir que, aunque una sucesión no converja, podemos encontrar subsucesiones que sí, siempre y cuando la sucesión esté acotada.\n"
      ]
    },
    {
      "cell_type": "code",
      "metadata": {
        "colab_type": "code",
        "id": "fVkz7L8S4iuw",
        "colab": {
          "base_uri": "https://localhost:8080/",
          "height": 208
        },
        "outputId": "82964a44-621e-4f3b-ebe3-66860f2c0192"
      },
      "source": [
        "def suc3(n):\n",
        "  return (-1)**n\n",
        "\n",
        "pares = np.arange(2,22,2)\n",
        "impares = np.arange(1,21,2)\n",
        "num = np.arange(1,21)\n",
        "\n",
        "sucesion = [suc3(i) for i in num]\n",
        "subsucesion1 = [suc3(i) for i in pares]\n",
        "subsucesion2 = [suc3(i) for i in impares]\n",
        "\n",
        "par = [{'title':r'Sucesión acotada que no converge: $a_n = \\{(-1)^n\\}$', \n",
        "        'xlabel':'$n$',\n",
        "        'ylabel':'$a_n$'},\n",
        "       {'title':r'Subsucesión que converge a 1: $a_{2k} = \\{(-1)^{2k}\\}$ ', \n",
        "        'xlabel':'$2k$',\n",
        "        'ylabel':'$a_{2k}$',\n",
        "        'ylim':(-1.1,1.1)}, \n",
        "       {'title':'Subsucesión que converge a -1: $a_{2k+1} = \\{(-1)^{2k+1}\\}$ ',\n",
        "        'xlabel':'$2k+1$',\n",
        "        'ylabel':'$a_{2k+1}$',\n",
        "       'ylim':(-1.1,1.1)}\n",
        "      ]\n",
        "\n",
        "par_fig= {'figsize':(18,3)}\n",
        "\n",
        "graf = vis.planoCartesiano(1,3,par=par,par_fig=par_fig)\n",
        "#graf.scatter(1, x = num, y = sucesion, par={'label':r'$a_n = \\{(-1)^n\\}$'})\n",
        "graf.scatter(1, x = num, y = sucesion)\n",
        "#graf.scatter(2, x = pares, y = subsucesion1,par={'label':r'$a_{2k} = \\{(-1)^{2k}\\}$','color': 'green'})\n",
        "graf.scatter(2, x = pares, y = subsucesion1)\n",
        "#graf.scatter(3, x = impares, y = subsucesion2,par={'label':r'$a_{2k+1} \\{(-1)^{2k-1}\\}$','color':'red'})\n",
        "graf.scatter(3, x = impares, y = subsucesion2)\n",
        "graf.ticks(n = 1, xticks = num)\n",
        "graf.ticks(n = 2, xticks = pares)\n",
        "graf.ticks(n = 3, xticks = impares)\n",
        "#graf.legend(par={'loc':'center'})\n",
        "graf.show()"
      ],
      "execution_count": null,
      "outputs": [
        {
          "output_type": "display_data",
          "data": {
            "image/png": "[encoded data removed]",
            "text/plain": [
              "<Figure size 1296x216 with 3 Axes>"
            ]
          },
          "metadata": {
            "tags": [],
            "needs_background": "light"
          }
        }
      ]
    },
    {
      "cell_type": "markdown",
      "metadata": {
        "colab_type": "text",
        "id": "pUlNizoAtKeX"
      },
      "source": [
        "\n",
        "**Proposición:** Si una sucesión $\\{a_n\\}$ es convergente a un número $a$, entonces cualquiera de sus subsucesiones es convergente, y converge al mismo número $a$.\n",
        "\n",
        "\n",
        "**Proposición:** Sean $\\{a_n\\}, \\{b_n\\}, \\{c_n\\}$ tres sucesiones tales que $a_n \\le b_n \\le c_n$ $a$, y $\\lim_{n \\to \\infty} a_n = \\lim_{n \\to \\infty} c_n = a$. Entonces la sucesión $ \\{b_n\\}$ converge y $\\lim_{n \\to \\infty} b_n = a$"
      ]
    },
    {
      "cell_type": "markdown",
      "metadata": {
        "colab_type": "text",
        "id": "jcy6QCKZcblr"
      },
      "source": [
        "Uno de los comportamientos que puede observarse en los términos de una sucesión es el de irse acercando entre\n",
        "sı́. A continuación se precisará este concepto, que será útil para mostrar la convergencia de una sucesión en los casos en que no se puede establecer de\n",
        "antemano cuál es el número al cual tienden los términos de la misma.\n",
        "\n",
        "Los términos de una sucesión $\\{a_n\\}$ \"se acercan entre sı́\" si al ir considerando $n, m$ cada vez mayores, todos los términos $a_n, a_m$ están muy próximos entre sı́.\n",
        "\n",
        "Una sucesión $\\{a_n\\}$ es una **sucesión de Cauchy**\n",
        "si para cada $\\epsilon > 0$ existe $N$ tal que para toda $m,n$, si $n, m > N$, entonces $|a_n - a_m | < \\epsilon$.\n",
        "\n",
        "**Teorema:** Una sucesión $\\{a_n\\}$ converge si y sólo si es una sucesión de Cauchy."
      ]
    },
    {
      "cell_type": "markdown",
      "metadata": {
        "colab_type": "text",
        "id": "gScYrdf6VitL"
      },
      "source": [
        "**Ejemplo:** Veamos que la sucuesión $\\{\\frac{1}{n}\\}$ es una sucesión de Cauchy. \n",
        "\n",
        "P.D. Para todo $\\epsilon > 0$ existe un $N \\in \\mathbb{N}$ tal que para todo $n, m > N$, $|X_n - X_m| < \\epsilon$.\n",
        "\n",
        "Sea $ \\epsilon > 0$. Por la propiedad arquimediana podemos escoger un número natural $N > \\frac{2}{\\epsilon}$. Luego, para todo $n, m >N$:\n",
        "\n",
        "$|\\frac{1}{n} - \\frac{1}{m}| \\le |\\frac{1}{n}| + |\\frac{1}{m}| = \\frac{1}{n} + \\frac{1}{m}$ $...(1)$\n",
        "\n",
        "Como $n,m > N$, entonces $\\frac{1}{n} < \\frac{1}{N}$ y $\\frac{1}{m} < \\frac{1}{N}$. Así, de $(1)$ obtenemos que $\\frac{1}{n} + \\frac{1}{m} < \\frac{1}{N} + \\frac{1}{N} < \\frac{\\epsilon}{2} + \\frac{\\epsilon}{2} = \\epsilon$, que es lo que se quería demostrar.\n",
        "\n"
      ]
    },
    {
      "cell_type": "markdown",
      "metadata": {
        "colab_type": "text",
        "id": "3wPsgb3rGlC_"
      },
      "source": [
        "## Ejemplo de aplicación de sucesiones\n",
        "\n",
        "Una población de humanos tiene una cierta cantidad de personas contagiadas por el coronavirus, y el número de personas contagiadas está creciendo de tal manera que cada día hay $1.075$ veces más contagios que el día anterior. Supongamos que hay $500$ personas contagiadas en el primer día,  ¿Cuántas personas enfermas habrá en la séptimo día?\n",
        "\n",
        "La población se puede escribir como una secuencia geométrica con $a_1$ como el total de personas contagiadas en el día 1, $a_2$ como el total de personas contagiadas en el día 2, y así sucesivamente. Podemos usar la siguiente fórmula que representa el número de personas contagiadas en el n-ésimo día:\n",
        "\n",
        " $a_n = a_1\\cdot r^{n-1}$, con $r = 1.075$ y $a_1 =  500$, es decir;\n",
        "\n",
        " $a_n = 500\\cdot 1.075 ^{n-1}$\n",
        "\n",
        "\n",
        " Entonces el total de personas contagiadas en el día 7 está dado por:\n",
        "\n",
        " $a_7 = 500\\cdot 1.075 ^{7-1} = 500\\cdot 1.075 ^{6} = 771.65 \\approx 772.$\n",
        "\n",
        " Por lo tanto, habrá 772 personas contagiadas en el séptimo día.\n",
        " \n",
        " Además, podemos ver el comportamiento del número de personas contagiadas en los primeros 20 días mediante la siguiente gráfica:\n"
      ]
    },
    {
      "cell_type": "code",
      "metadata": {
        "colab_type": "code",
        "id": "oolX29-i4iu2",
        "colab": {},
        "outputId": "ccb1622d-6a13-4125-9e88-362d3eb3d170"
      },
      "source": [
        "n = np.arange(1,21,1)\n",
        "a_n = [round(500*1.075**(j-1)) for j in n]\n",
        "\n",
        "par = [{'xlabel':'$n$',\n",
        "        'ylabel':'$a_n$',\n",
        "       'title':'Contagiados por coronavirus en cierta población humana'},\n",
        "       ]\n",
        "\n",
        "graf = vis.planoCartesiano(par=par)\n",
        "graf.scatter(x=n,y=a_n)\n",
        "graf.annotate(par={'s':'772 contagios en el día 7', 'xy':(n[6], a_n[6]), 'xytext':(-20,20), 'fontsize':12,\n",
        "            'textcoords':'offset points', 'ha':'center', 'va':'bottom',\n",
        "            'bbox':{'boxstyle':'round','pad':0.2, 'fc':'pink', 'alpha':0.85},\n",
        "            'arrowprops':{'arrowstyle':'->', 'connectionstyle':'arc3,rad=0.5', \n",
        "                           'color':'black'}})\n",
        "graf.ticks(n = 1, xticks = num)\n",
        "graf.show()"
      ],
      "execution_count": null,
      "outputs": [
        {
          "output_type": "display_data",
          "data": {
            "image/png": "[encoded data removed]",
            "text/plain": [
              "<Figure size 720x360 with 1 Axes>"
            ]
          },
          "metadata": {
            "tags": [],
            "needs_background": "light"
          }
        }
      ]
    },
    {
      "cell_type": "markdown",
      "metadata": {
        "colab_type": "text",
        "id": "iaF_P6UJllZ1"
      },
      "source": [
        "# Series\n",
        "\n",
        "\n",
        "En matemáticas, el concepto de serie es muy importante y es de gran utilidad para la resolución de problemas matemáticos. Intuitivamente una serie puede definirse como un conjunto de cosas que tienen una relación entre ellas y se suceden una de la otra.\n",
        "\n",
        "Una serie matemática es la expresión de la **suma de los infinitos términos de una sucesión**.\n",
        "\n",
        "Si la serie es infinita, la suma hasta un término específico cualquiera se llama suma parcial. Si las sumas parciales de una serie infinita se aproximan cada vez más a un numero k, de modo que tal que si la serie continúa la suma puede acercarse a k tanto como se desee, se conoce como el límite de las sumas parciales, o el límite de la serie infinita (suma al infinito, forma abreviada de designar a su límite pues realizar la \"suma\" habitual infinita es imposible).\n",
        "\n",
        "### Definición de serie\n",
        "Sea $a_n$ una sucesión de números reales. Para cada n ∈ N, definimos\n",
        "$$S_n := \\sum a_n$$\n",
        "La serie $S_n$ esta compuesta por la suma de todos los elementos en la sucesión $a_n$.\n",
        "\n",
        "Las series pueden ser finitas o infinitas y existen series muy conocidas que son comunmente utilizadas en diversos procedimientos. \n",
        "\n",
        "Es importante notar que utilizaremos muchos de los conceptos vistos previamente en la sección de sucesiones para construir los conceptos de Series.\n",
        "### Convergencia de series\n",
        "\n",
        "<p align=\"justify\">Diremos que una serie converge cuando se sumen el mayor número de elementos posibles a las serie y el resultado se acerque a un número <em>S.</em> Formalmente escribiremos:\n",
        "\n",
        "Una serie $S_n$ es convergente si $\\exists S $ tal que \n",
        "$$\\lim_{n \\to \\infty} S_n = S $$ \n",
        "Por lo tanto S es el valor suma de la serie $S_n$ de la siguiente manera\n",
        "\n",
        "$$\\sum_{n=1}^{\\infty}a_n= S$$</p>\n",
        "\n",
        "### Teoremas sobre series\n",
        "#### Condición para convergencia de una serie\n",
        "**Proposición:** Para que una serie $S_n$ sea convergente es necesario que la sucesión sea convergente como se vio anteriormente.\n",
        "$$\\lim_{n \\to \\infty} a_n = 0 $$ \n",
        "\n",
        "#### Convergencia absoluta\n",
        "Una serie $\\sum a_n$ es absolutamente convergente si la serie  $\\sum |a_n| $ es convergente.\n",
        "\n",
        "Esta definición motivada a que existen series con términos positivos y negativos sin ser alternadas.\n",
        "\n",
        "**Ejemplo:** $$\\sum_{n=1}^{\\infty}\\frac{sin( n) }{n^2} = \\frac{sin( 1) }{1}+\\frac{sin( 2) }{4}+\\frac{sin( 3) }{9}+...$$\n",
        "$$= 0.84 + 0.22 + 0.015 - 0.047 - .038 - 0.0077 + ...$$\n",
        "\n",
        "Por lo que este tipo de series serán convergentes si el valor absoluto de la misma es convergente, es decir, si $$\\sum |a_n| = |a_1|+ |a_2|+|a_3|+...$$ converge.\n",
        "\n",
        "#### Convergencia condicional\n",
        "**Proposición:** Una serie  $\\sum a_n$ es **condicionalmente convergente** si y sólo si la serie converge pero no absolutamente\n",
        "\n",
        "#### Convergencia de series infinitas\n",
        "**Proposición:** Una serie infinita puede converger en su límite de tres formas:\n",
        "\n",
        "1.   Las sumas parciales se acercan al límite pero no lo alcanzan en realidad, es decir, nunca lo sobrepasan.\n",
        "2.   Las sumas parciales alcanzan el límite.\n",
        "3.   Las sumas parciales sobrepasan al límite antes de converger.\n",
        "\n",
        "\n",
        "\n",
        "  ### Divergencia\n",
        "En este caso diremos que una serie **diverge** cuando el límite de la serie no existe o es infinito, es decir: \n",
        "$$\\lim_{x \\to \\infty} S_n = \\infty $$ \n",
        "Por lo que no podemos asignar un valor especifico a la suma de los elementos de la serie, de otra forma, mientras más crece el número de elementos de la serie mayor será el resultado de la suma y nunca dejará de crecer o se acercará a un valor específico.\n",
        "Si una serie no tiene límite entonces toma el nombre de **oscilante**.\n",
        "\n",
        "Al igual que algunas propiedades de las sucesiones, las series son *distributivas*, *aditivas* y *lineales*.\n",
        "\n",
        "### Tipos de series\n",
        "\n",
        "*   **Serie geométrica** : Es aquella cuyos términos forman una progresión geométrica, es decir, cada término de la serie es igual al anterior multiplicado por una constante.\n",
        "Su fórmula y solución es la siguiente:\n",
        "\n",
        "$$\\sum_{k=0}^{n} a r^k= a \\cdot \\frac{1-r^{n+1}}{1-r}$$.\n",
        "\n",
        "**Ejemplo:** Resolver $\\sum_{k=0}^{292} 3  \\frac{1}{6} ^k$\n"
      ]
    },
    {
      "cell_type": "code",
      "metadata": {
        "colab_type": "code",
        "id": "TyEWcppw627s",
        "colab": {
          "base_uri": "https://localhost:8080/",
          "height": 35
        },
        "outputId": "d956dcb5-c20b-423e-de56-857d6c9f81b1"
      },
      "source": [
        "def seriegeometrica(inicio,final):\n",
        "    control = 0\n",
        "    for x in range(inicio, final + 1):\n",
        "        control += 3*((1/6)**x)\n",
        "    return control\n",
        "\n",
        "seriegeometrica(0,292)"
      ],
      "execution_count": null,
      "outputs": [
        {
          "output_type": "execute_result",
          "data": {
            "text/plain": [
              "3.600000000000001"
            ]
          },
          "metadata": {
            "tags": []
          },
          "execution_count": 11
        }
      ]
    },
    {
      "cell_type": "markdown",
      "metadata": {
        "colab_type": "text",
        "id": "0sicpvYTAdQN"
      },
      "source": [
        "La última serie geométrica mostrada **diverge si $r$ es mayor o igual a 1**. Por otro lado, si $|r| < 1$, entonces dicha serie converge a $\\frac{a}{1-r}$.\n",
        "\n",
        "De esta manera, del ejemplo anterior podemos decir que la serie converge a $$\\frac{a}{1-r}= \\frac{3}{1-\\frac{1}{6}}=3.6$$\n",
        "\n",
        "*    **Serie telescópica**: Es la serie tal que cada término se expresa como una diferencia de la forma $a_n = b_n - b_{ n+1}$.\n",
        "Su fórmula y solución es la siguiente:\n",
        "$$\\sum_{n=0}^{N} b_n - b_{n+1}= b_0 - b_{N+1}$$\n",
        "\n",
        "**Ejemplo:** Resolver $\\sum_{k=1}^{8} \\left( \\frac{1}{k}-\\frac{1}{k+1}\\right)$.\n"
      ]
    },
    {
      "cell_type": "code",
      "metadata": {
        "colab_type": "code",
        "id": "JNb0hHEoLjcC",
        "colab": {
          "base_uri": "https://localhost:8080/",
          "height": 35
        },
        "outputId": "ceb3f087-4b58-4153-c84e-3426031688f7"
      },
      "source": [
        "def serietelescopica(inicio,final):\n",
        "    control = 0\n",
        "    for x in range(inicio, final+1):\n",
        "        control += (1/x)-(1/(x+1))\n",
        "    return control\n",
        "\n",
        "serietelescopica(1,8)\n"
      ],
      "execution_count": null,
      "outputs": [
        {
          "output_type": "execute_result",
          "data": {
            "text/plain": [
              "0.8888888888888888"
            ]
          },
          "metadata": {
            "tags": []
          },
          "execution_count": 36
        }
      ]
    },
    {
      "cell_type": "markdown",
      "metadata": {
        "colab_type": "text",
        "id": "ScUa-khnI_vc"
      },
      "source": [
        "Al realizar las sumas parciales de la serie anterior es posible observar que el resultado de las sumas parciales anteriores es igual a $\\frac{1}{1} - \\frac{1}{9}$ = 0.888....\n",
        " \n",
        "Dado que la serie del ejemplo es una serie telescópica, usando la fórmula obtenemos que $\\sum_{k=1}^{N} \\left( \\frac{1}{k}-\\frac{1}{k+1}\\right) = 1 - \\frac{1}{N+1}$; y más aún, convergería a $1$ para $N$ muy grande. Esto último se puede comprobar calculando el límite cuando $N$ tiende a $\\infty$ de la última expresión.\n",
        "\n",
        " Primero observaremos la gráfica de la serie para posteriormente calcular el límite."
      ]
    },
    {
      "cell_type": "code",
      "metadata": {
        "colab_type": "code",
        "id": "91j3Y_FjkInr",
        "colab": {
          "base_uri": "https://localhost:8080/",
          "height": 369
        },
        "outputId": "8842983e-5e5c-4fda-e44c-ebfc0f183781"
      },
      "source": [
        "def serietelescopicacompleta(inicio,final):\n",
        "    lista = []\n",
        "    r = 0\n",
        "    for x in range(inicio, final+1):\n",
        "        r += (1/x)-(1/(x+1))\n",
        "        lista.append(r)\n",
        "    return lista\n",
        "\n",
        "x4 = np.arange(1, 9, 1) \n",
        "y4=serietelescopicacompleta(1,8)\n",
        "par = [{'title':'Serie telescópica', \n",
        "        'xlabel':'$n$',\n",
        "        'ylabel':'$a_n$',\n",
        "       'ylim':(0,1)}\n",
        "      ]\n",
        "\n",
        "graf = vis.planoCartesiano(par=par)\n",
        "graf.plot(x=[1,8],y=[serietelescopica(1,8),serietelescopica(1,8)], par={'c':'green','linestyle':'--','lw':1,'label':r'Función constante = 0.88...'})\n",
        "graf.scatter(x=x4, y=y4,par={'label':r'Serie: $\\sum_{k=1}^{N} \\left( \\frac{1}{k}-\\frac{1}{k+1}\\right)$','lw':1,'color':'red', 'zorder':0})\n",
        "graf.legend(par={'loc':'lower right'})\n",
        "graf.show()"
      ],
      "execution_count": null,
      "outputs": [
        {
          "output_type": "display_data",
          "data": {
            "image/png": "[encoded data removed]",
            "text/plain": [
              "<Figure size 720x360 with 1 Axes>"
            ]
          },
          "metadata": {
            "tags": [],
            "needs_background": "light"
          }
        }
      ]
    },
    {
      "cell_type": "markdown",
      "metadata": {
        "colab_type": "text",
        "id": "U_BaaL_FyAal"
      },
      "source": [
        "El cálculo del límite de la sucesión en *n* debe corresponder a 1 como sigue."
      ]
    },
    {
      "cell_type": "code",
      "metadata": {
        "colab_type": "code",
        "id": "o_5ragPUIdFv",
        "cellView": "both",
        "colab": {
          "base_uri": "https://localhost:8080/",
          "height": 35
        },
        "outputId": "ad56c733-8636-41a4-8e80-be2973acaddc"
      },
      "source": [
        "x = Symbol('x') \n",
        "y=1-(1/(x+1)) \n",
        "limit(y, x, oo)"
      ],
      "execution_count": null,
      "outputs": [
        {
          "output_type": "execute_result",
          "data": {
            "text/plain": [
              "1"
            ]
          },
          "metadata": {
            "tags": []
          },
          "execution_count": 12
        }
      ]
    },
    {
      "cell_type": "markdown",
      "metadata": {
        "colab_type": "text",
        "id": "vM_o3PtIE422"
      },
      "source": [
        "En el ejemplo anterior donde definimos la serie\n",
        "$$\\sum_{n=1}^{N} \\frac{1}{n} - \\frac{1}{n+1}=  1 - \\frac{1}{N+1}$$\n",
        "\n",
        "Si aplicamos el límite cuando $N$ tiende a $\\infty$ a ambos lados de la igualdad, obtenemos que:\n",
        "\n",
        "$$\\displaystyle \\lim_{N \\to \\infty} \\sum_{n=1}^{N} \\frac{1}{n} - \\frac{1}{n+1}= \\lim_{N \\to \\infty}  1 - \\frac{1}{N+1} = 1$$\n",
        "\n",
        "*    **Serie de términos positivos** : Es aquella serie donde cada $a_n  \\geqslant 0$ $\\forall n$  por lo que es una serie siempre creciente.\n",
        "\n",
        "En muchas ocasiones resulta difícil determinar la suma de una serie, por esa razón nos conformamos con saber su carácter, es decir si converge o no.\n",
        "\n"
      ]
    },
    {
      "cell_type": "markdown",
      "metadata": {
        "colab_type": "text",
        "id": "n_2EpuODmrJy"
      },
      "source": [
        "#### Criterio de la integral \n",
        "**Proposición:** Sea $\\sum_{n=1}^{\\infty}a_n $ una serie de términos positivos y $f(n)=a_n$ para $n \\geqslant 1 $ una función decreciente entonces:\n",
        "\n",
        "\n",
        "\n",
        "*   $\\int_{1}^{ \\infty} f(x) \\cdot dx$ converge, entonces $\\sum_{n=1}^{\\infty}a_n $ converge.\n",
        "*   $\\int_{1}^{ \\infty} f(x) \\cdot dx$ diverge, entonces $\\sum_{n=1}^{\\infty}a_n $ diverge.\n",
        "\n",
        "#### Teorema Serie P\n",
        "Se dice que  $\\sum_{n=1}^{a}a_n $ es una **serie P** si tiene la forma $\\sum_{n=1}^{a} \\frac{1}{n^p} $ donde $p \\in {\\rm I\\!R}$\n",
        "**Proposición:** La serie P converge si \n",
        "$ p> 1$ y diverge si $p \\leq 1$.\n",
        "\n",
        "**Ejemplo:** La serie armónica $\\sum_{n=1}^{\\infty} \\frac{1}{n} $ diverge, graficamente observemos la sucesión:\n",
        "\n",
        "\n"
      ]
    },
    {
      "cell_type": "code",
      "metadata": {
        "colab_type": "code",
        "id": "9ub2hDQt0GCo",
        "colab": {
          "base_uri": "https://localhost:8080/",
          "height": 385
        },
        "outputId": "28bbd3ae-c026-4519-f221-1c119c4de08d"
      },
      "source": [
        "def f(t):\n",
        "    return (1/t)\n",
        "\n",
        "t = np.linspace(0.5, 6, num=100)\n",
        "t1 = np.array([1, 2, 3, 4, 5 ])\n",
        "\n",
        "y2 = f(t)\n",
        "y3= f(t1)\n",
        "\n",
        "par = [{'title':r'Sucesión $y=\\frac{1}{n}$', \n",
        "        'xlabel':'$x$',\n",
        "        'ylabel':'$y=f(x)$',\n",
        "       'ylim':(0,1)}\n",
        "      ]\n",
        "\n",
        "graf = vis.planoCartesiano(par=par)\n",
        "graf.plot(x=t, y=y2, par={'c':'red','linestyle':'-', 'lw':2,'label':'Función constante 0'})\n",
        "graf.bar(x=t1, y=y3)\n",
        "graf.annotate(par={'s':'1', 'xy':(1, 1), 'xytext':(-20,20), 'fontsize':20,\n",
        "            'textcoords':'offset points', 'ha':'center', 'va':'bottom',\n",
        "            'bbox':{'boxstyle':'round','pad':0.2, 'fc':'yellow', 'alpha':0.85},\n",
        "            'arrowprops':{'arrowstyle':'->', 'connectionstyle':'arc3,rad=0.5', \n",
        "                           'color':'black'}})\n",
        "graf.annotate(par={'s':r'$\\frac{1}{2}$', 'xy':(2, 0.5), 'xytext':(-20,20), 'fontsize':20,\n",
        "            'textcoords':'offset points', 'ha':'center', 'va':'bottom',\n",
        "            'bbox':{'boxstyle':'round','pad':0.2, 'fc':'yellow', 'alpha':0.85},\n",
        "            'arrowprops':{'arrowstyle':'->', 'connectionstyle':'arc3,rad=0.5', \n",
        "                           'color':'black'}})\n",
        "graf.annotate(par={'s':r'$\\frac{1}{3}$', 'xy':(3, 0.33), 'xytext':(-20,20), 'fontsize':20,\n",
        "            'textcoords':'offset points', 'ha':'center', 'va':'bottom',\n",
        "            'bbox':{'boxstyle':'round','pad':0.2, 'fc':'yellow', 'alpha':0.85},\n",
        "            'arrowprops':{'arrowstyle':'->', 'connectionstyle':'arc3,rad=0.5', \n",
        "                           'color':'black'}})\n",
        "graf.annotate(par={'s':r'$\\frac{1}{4}$', 'xy':(4, 0.25), 'xytext':(-20,20), 'fontsize':20,\n",
        "            'textcoords':'offset points', 'ha':'center', 'va':'bottom',\n",
        "            'bbox':{'boxstyle':'round','pad':0.2, 'fc':'yellow', 'alpha':0.85},\n",
        "            'arrowprops':{'arrowstyle':'->', 'connectionstyle':'arc3,rad=0.5', \n",
        "                           'color':'black'}})\n",
        "graf.annotate(par={'s':r'$\\frac{1}{5}$', 'xy':(5, 0.2), 'xytext':(-20,20), 'fontsize':20,\n",
        "            'textcoords':'offset points', 'ha':'center', 'va':'bottom',\n",
        "            'bbox':{'boxstyle':'round','pad':0.2, 'fc':'yellow', 'alpha':0.85},\n",
        "            'arrowprops':{'arrowstyle':'->', 'connectionstyle':'arc3,rad=0.5', \n",
        "                           'color':'black'}})\n",
        "graf.show()"
      ],
      "execution_count": 4,
      "outputs": [
        {
          "output_type": "display_data",
          "data": {
            "image/png": "[encoded data removed]",
            "text/plain": [
              "<Figure size 720x360 with 1 Axes>"
            ]
          },
          "metadata": {
            "tags": [],
            "needs_background": "light"
          }
        }
      ]
    },
    {
      "cell_type": "markdown",
      "metadata": {
        "id": "3gCgg6NLU3JU",
        "colab_type": "text"
      },
      "source": [
        "La gráfica de la serie, con las sumas parciales sería la que sigue. Es importante notar que aunque la serie crece a distintas velocidades no converge en algún punto. Puede ser sencillo verificar esto utilizando algunos pasos algebraicos donde será claro que se sumará una constante infinitamente a la serie, se recomienda realizarlo.\n",
        "\n"
      ]
    },
    {
      "cell_type": "code",
      "metadata": {
        "id": "2gwsRzAVU2EX",
        "colab_type": "code",
        "colab": {
          "base_uri": "https://localhost:8080/",
          "height": 369
        },
        "outputId": "9c4b0ed9-a06e-448a-9ee7-e986f2d4fd96"
      },
      "source": [
        "def f(inicio, final):\n",
        "    lista = []\n",
        "    r = 0\n",
        "    for x in range(inicio, final+1):\n",
        "        r += (1/x)\n",
        "        lista.append(r)\n",
        "    return lista\n",
        "\n",
        "x4 = np.arange(1, 21, 1) \n",
        "y4=f(1,20)\n",
        "par = [{'title':r'Serie armonica de $\\frac{1}{n}$', \n",
        "        'xlabel':'$n$',\n",
        "        'ylabel':'$a_n$',\n",
        "       'ylim':(0,5)}\n",
        "      ]\n",
        "y4\n",
        "graf = vis.planoCartesiano(par=par)\n",
        "graf.plot(x=x4,y=y4, par={'c':'green','linestyle':'--','lw':1})\n",
        "graf.scatter(x=x4, y=y4,par={'label':r'Serie: $\\sum_{n=1}^{\\infty} \\left( \\frac{1}{n}\\right)$','lw':1,'color':'red', 'zorder':0})\n",
        "graf.legend(par={'loc':'lower right'})\n",
        "graf.show()"
      ],
      "execution_count": null,
      "outputs": [
        {
          "output_type": "display_data",
          "data": {
            "image/png": "[encoded data removed]",
            "text/plain": [
              "<Figure size 720x360 with 1 Axes>"
            ]
          },
          "metadata": {
            "tags": [],
            "needs_background": "light"
          }
        }
      ]
    },
    {
      "cell_type": "markdown",
      "metadata": {
        "colab_type": "text",
        "id": "P3zplscY_-Xd"
      },
      "source": [
        "####  Criterio de la razón\n",
        "\n",
        "**Proposición:** Sea  $\\sum_{n=1}^{\\infty}a_n $  una serie en términos positivos y sea \n",
        "$$r= \\lim_{x \\to \\infty} \\frac{a_{n+1}}{a_n} $$\n",
        "\n",
        "Entonces,\n",
        "\n",
        "*   Si $r<1$ entonces $\\sum_{n=1}^{\\infty}a_n $  converge\n",
        "*   Si $r>1$ entonces $\\sum_{n=1}^{\\infty}a_n $ diverge\n",
        "\n",
        "**Ejemplo:** Buscamos determinar si la siguiente serie $a_n$ converge o diverge. \n",
        "\n",
        "$$  a_n = \\sum_{n=1}^{\\infty} \\frac{k^k}{k!} $$ \n",
        "\n",
        "Buscaremos el calculo de r dado por:\n",
        "\n",
        "$$r= \\lim_{k \\to \\infty} \\frac{a_{n+1}}{a_n} =  \\frac{\\frac{(k+1)^{k+1}}{k+1!}}{\\frac{k^k}{k!}}$$\n",
        "\n",
        "$$ = \\lim_{k \\to \\infty} \\frac{{k!(k+1)^{k}}{(k+1)}}{{k^k}(k+1){k!}}$$\n",
        "\n",
        "$$ = \\lim_{k \\to \\infty} \\left( 1+ \\frac{1}{n}\\right) ^k$$\n"
      ]
    },
    {
      "cell_type": "code",
      "metadata": {
        "colab_type": "code",
        "id": "i-wVC0kKS_IR",
        "colab": {
          "base_uri": "https://localhost:8080/",
          "height": 35
        },
        "outputId": "29a8f26f-db99-42fd-e311-8d37c9012fd4"
      },
      "source": [
        "x = Symbol('x') \n",
        "y=(1+(1/x))**x \n",
        "limit(y, x, oo)"
      ],
      "execution_count": null,
      "outputs": [
        {
          "output_type": "execute_result",
          "data": {
            "text/plain": [
              "E"
            ]
          },
          "metadata": {
            "tags": []
          },
          "execution_count": 33
        }
      ]
    },
    {
      "cell_type": "markdown",
      "metadata": {
        "colab_type": "text",
        "id": "0GxGM0DUZGu0"
      },
      "source": [
        "Por lo que el valor de $r=e >1$ por lo que según el criterio de la razón la serie $a_n$ diverge.\n",
        "\n",
        "#### Criterio de Leibniz\n",
        "\n",
        "Antes de enunciar el criterio de Leibniz introduciremos la definición de serie alternada.\n",
        "\n",
        "Se dice que una **serie es alternada** cuando sus términos son alternativamente positivos y negativos, por ejemplo $s_n$ es alternada si:\n",
        "\n",
        "$$\\sum_{n=1}^{\\infty}(-1)^{n+1}s_n= s_1-s_2+s_3-s_4+...$$\n",
        "\n",
        "**Proposición:** Una serie alternada $$\\sum_{n=1}^{\\infty}(-1)^{n+1}s_n$$ tal que $s_n>0$, que cumple las siguientes condiciones, podremos decir que la serie alternada es convergente.\n",
        "\n",
        "\n",
        "*   $s_n \t\\geq s_{n+1} \\forall  n $ es decir, si $s_n$ es decreciente.\n",
        "*   $ \\lim_{k \\to +\\infty} s_n = 0$\n",
        "\n",
        "**Ejemplo:** Realizaremos un ejemplo en el cual utilizaremos diversos conceptos previamente descritos.\n",
        "Determinar si la serie  $\\sum \\frac{(-1)^n}{\\sqrt{n} }$ es convergente.\n",
        "\n",
        "De acuerdo con el Criterio de Leibniz pues la serie es alternada, verificaremos las condiciones.\n"
      ]
    },
    {
      "cell_type": "code",
      "metadata": {
        "colab_type": "code",
        "id": "Jvqrh0kjqiZY",
        "colab": {
          "base_uri": "https://localhost:8080/",
          "height": 369
        },
        "outputId": "641a2810-f478-4646-a1bf-8ca276f9c35a"
      },
      "source": [
        "def f(t):\n",
        "    return ((-1)**t)/(np.sqrt(t))\n",
        "\n",
        "\n",
        "t = np.linspace(1, 10, num=10)\n",
        "\n",
        "y2 = f(t)\n",
        "\n",
        "\n",
        "par = [{'title':'Serie', \n",
        "        'xlabel':'$x$',\n",
        "        'ylabel':'$y=f(x)$',\n",
        "       'ylim':(-1,1)}\n",
        "      ]\n",
        "\n",
        "graf = vis.planoCartesiano(par=par)\n",
        "graf.plot(x=t, y=y2,par={'label':r'Serie:  $\\sum \\frac{(-1)^n}{\\sqrt{n} }$','ls':'-','lw':1,'color':'red', 'zorder':10})\n",
        "graf.legend()\n",
        "graf.show()"
      ],
      "execution_count": null,
      "outputs": [
        {
          "output_type": "display_data",
          "data": {
            "image/png": "[encoded data removed]",
            "text/plain": [
              "<Figure size 720x360 with 1 Axes>"
            ]
          },
          "metadata": {
            "tags": [],
            "needs_background": "light"
          }
        }
      ]
    },
    {
      "cell_type": "code",
      "metadata": {
        "colab_type": "code",
        "id": "f25EI5fwtERN",
        "colab": {
          "base_uri": "https://localhost:8080/",
          "height": 35
        },
        "outputId": "c765a171-c902-4ae1-a80b-fc250c1da3c1"
      },
      "source": [
        "x = Symbol('x') \n",
        "y=abs((-1)**x)/(x**(1/2)) \n",
        "limit(y, x, oo)"
      ],
      "execution_count": null,
      "outputs": [
        {
          "output_type": "execute_result",
          "data": {
            "text/plain": [
              "0"
            ]
          },
          "metadata": {
            "tags": []
          },
          "execution_count": 34
        }
      ]
    },
    {
      "cell_type": "markdown",
      "metadata": {
        "colab_type": "text",
        "id": "OIZESH4o0jEs"
      },
      "source": [
        "Por lo que siguiendo el criterio de las series alternadas esta serie es convergente, Pero según el criterio de convergencia absoluta,\n",
        "\n",
        "$$\\sum \\left|\\frac{(-1)^n}{\\sqrt{n}}\\right| = \\sum\\frac{1}{\\sqrt{n}}\n",
        "$$\n",
        "Bajo este criterio la serie es divergente pues utilizando el teorema de la serie P, ya que $p=\\frac{1}{2} \\leq 1$.\n",
        "\n",
        "De lo anterior es posible concluir que la serie es condicionalmente convergente.\n"
      ]
    },
    {
      "cell_type": "markdown",
      "metadata": {
        "colab_type": "text",
        "id": "mTvP_bMKtulk"
      },
      "source": [
        "\n",
        "## Ejemplo de interés sobre series\n",
        "En un experimento una lámpara que se apaga al cabo de un minuto, luego se prende al cabo de medio minuto, se apaga después de un cuarto de minuto y así sucesivamente en una serie infinita de encendido y apagado. ¿En qué momento convergerá esta serie?\n",
        "\n",
        "En el experimento al caso de la lámpara será posible darle solución utilizando la teoría previa.\n",
        "\n",
        "\n",
        "La forma que la serie toma es la siguiente:\n",
        "$$1+ \\frac{1}{2}+  \\frac{1}{4} + \\frac{1}{8} + ...$$\n",
        "Por lo que la serie se ve de la siguiente manera:\n",
        "$$\\sum_{n=0}^{\\infty} \\frac{1}{2^n}$$\n",
        "\n"
      ]
    },
    {
      "cell_type": "code",
      "metadata": {
        "colab_type": "code",
        "id": "nsfpiIV2_q4U",
        "colab": {
          "base_uri": "https://localhost:8080/",
          "height": 35
        },
        "outputId": "883a134c-c3e0-408c-bf03-36220861db4b"
      },
      "source": [
        "x = Symbol('x') \n",
        "y= (1/(2**(x)))\n",
        "limit(y, x, oo)"
      ],
      "execution_count": null,
      "outputs": [
        {
          "output_type": "execute_result",
          "data": {
            "text/plain": [
              "0"
            ]
          },
          "metadata": {
            "tags": []
          },
          "execution_count": 35
        }
      ]
    },
    {
      "cell_type": "code",
      "metadata": {
        "colab_type": "code",
        "id": "G673qXLWDIdj",
        "colab": {
          "base_uri": "https://localhost:8080/",
          "height": 369
        },
        "outputId": "4072a0dd-7c5e-4831-ad87-c12662fb673b"
      },
      "source": [
        "\n",
        "def f(t):\n",
        "    return 1/(2**(t))\n",
        "\n",
        "def st(inicio, final):\n",
        "    lista = []\n",
        "    r = 0\n",
        "    for x in range(inicio, final+1):\n",
        "        r += 1/(2**(x))\n",
        "        lista.append(r)\n",
        "    return lista\n",
        "\n",
        "t = np.arange(1, 21, 1) \n",
        "y = f(t)\n",
        "y2 = st(0,19)\n",
        "\n",
        "par = [{'title':r'Sucesión $\\frac{1}{2^n}$ y Serie $\\sum_{n=0}^{\\infty} \\frac{1}{2^n}$ ', \n",
        "        'xlabel':'$x$',\n",
        "        'ylabel':'$y=f(x)$',\n",
        "       'ylim':(-0.1,2.2)}\n",
        "      ]\n",
        "\n",
        "graf = vis.planoCartesiano(par=par)\n",
        "graf.scatter(x=t, y=y,par={'ls':'-','lw':1,'color':'blue', 'zorder':3,'label':r'Sucesión:  $\\frac{1}{2^n}$'})\n",
        "graf.scatter(x=t, y=y2, par={'label':r'Serie:  $\\sum_{n=0}^{\\infty} \\frac{1}{2^n}$','lw':1,'color':'red', 'zorder':0})\n",
        "graf.legend()\n",
        "graf.show()\n",
        "\n"
      ],
      "execution_count": null,
      "outputs": [
        {
          "output_type": "display_data",
          "data": {
            "image/png": "[encoded data removed]",
            "text/plain": [
              "<Figure size 720x360 with 1 Axes>"
            ]
          },
          "metadata": {
            "tags": [],
            "needs_background": "light"
          }
        }
      ]
    },
    {
      "cell_type": "markdown",
      "metadata": {
        "colab_type": "text",
        "id": "CqUWUJ49EUkh"
      },
      "source": [
        "Al realizar la suma de la serie, la lámpara converge en el minuto 2.\n",
        "Pero la pregunta final será si la lámpara estará prendida o apagada al terminar los dos minutos. La pregunta es interesante pero no es fácil de responder en lo abstracto, pues responder dicha pregunta es análogamente a responder si el último número de $\\pi$ es par o impar. \n",
        "\n",
        "## Referencias\n",
        "\n",
        " \n",
        "*   Banach, S., Cálculo Diferencial e Integral. México: UTEHA, 1991.\n",
        "\n",
        "*   Thompson, Silvanus Phillips, 1851-1916, autor.México : McGraw-Hill Interamericana, 2012.\n",
        "\n",
        "*   Courant, R., John, F., Introducción al Cálculo y al Análisis. México: Editorial Limusa, 1996.\n",
        "\n",
        "* Spivak, M., Cálculo Infinitesimal ($2^{a}$ ed.). México: Reverté, 1998.\n",
        "\n",
        "* Briseño, L., Palmas, Ó., Verdugo, J.,  Una mirada al cálculo a través de las sucesiones ($2^{a}$ ed.). México: Prensas de Ciencias, 2015.\n",
        "\n",
        "\n",
        "\n"
      ]
    }
  ]
}