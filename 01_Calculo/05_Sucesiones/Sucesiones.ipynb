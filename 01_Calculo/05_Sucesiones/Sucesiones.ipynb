{
 "cells": [
  {
   "cell_type": "markdown",
   "metadata": {
    "colab_type": "text",
    "id": "h2kkneD2IB2P"
   },
   "source": [
    "\n",
    "# Sucesiones\n",
    "## Proyecto PAPIME PE101019\n",
    "\n",
    "*   Autor: José de Jesús Tapia López\n",
    "*   Rev: miér agosto 18 16:02:45 CDT 2020\n"
   ]
  },
  {
   "cell_type": "code",
   "execution_count": 1,
   "metadata": {},
   "outputs": [],
   "source": [
    "import numpy as np\n",
    "import matplotlib.pyplot as plt\n",
    "import gutils as vis\n",
    "%matplotlib inline"
   ]
  },
  {
   "cell_type": "markdown",
   "metadata": {
    "colab_type": "text",
    "id": "ahdxUvGvM6Qk"
   },
   "source": [
    "En muchas situaciones cotidianas aparecen secuencias o listas de diversos\n",
    "objetos o personas. En particular, seguramente habrás presentado exámenes\n",
    "o pruebas psicométricas y encontrado listas de números como éstas:\n",
    "\n",
    "$2,5,8,11,14,...$\n",
    "\n",
    "$\\frac{1}{2}, \\frac{2}{3}, \\frac{3}{4}, \\frac{4}{5}, \\frac{5}{6}$\n",
    "\n",
    "$1,4,9,16, 25$\n",
    "\n",
    "Para cada una de las listas anteriores puedes determinar el número que aparece en cualquier lugar de la secuencia (por ejemplo, el número que ocupa la posición 12020). Para estas sucesiones numéricas, se acostumbra resumir esta información de la siguiente manera: El lugar del número se representa mediante una letra, por lo general la letra $n$, de modo que\n",
    "\n",
    " \n",
    "\n",
    "*   Dada la lista $2,5,8,11,14, ...$ en el lugar $n$ debe aparecer el elemento de la lista número $3n-1$.\n",
    "* La lista $1,4,9,16, 25, ...$ puede escribirse como $1^2, 2^2, 3^2, 4^2, 5^2, ...$, por lo que que en el lugar $n$ debe aparecer el número $2n$.\n",
    "\n",
    "La manera de determinar el número que debe aparecer en cada lugar de\n",
    "la lista se llama también la regla de correspondencia de la lista. \n",
    "\n"
   ]
  },
  {
   "cell_type": "markdown",
   "metadata": {
    "colab_type": "text",
    "id": "OrWISNihM5Yw"
   },
   "source": [
    "A continuación presentamos las respectivas reglas de correspondencias de las listas anteriores:"
   ]
  },
  {
   "cell_type": "code",
   "execution_count": 2,
   "metadata": {
    "colab": {
     "base_uri": "https://localhost:8080/",
     "height": 72
    },
    "colab_type": "code",
    "id": "Dnsa5uv7ICRg",
    "outputId": "371f11db-ec7c-41ef-a64c-04cee73fb47c"
   },
   "outputs": [
    {
     "name": "stdout",
     "output_type": "stream",
     "text": [
      "Introduzca un número natural: 345\n",
      "El lugar 345 de la primera lista es ocupado por el número:  1034\n",
      "El lugar 345 de la segunda lista es ocupado por el número:  119025\n"
     ]
    }
   ],
   "source": [
    "def sucesion1(n):\n",
    "  return 3*n-1\n",
    "\n",
    "def sucesion2(n):\n",
    "  return n**2\n",
    "\n",
    "\n",
    "num = int(input(\"Introduzca un número natural: \"))\n",
    "print(\"El lugar \" +str(num)+ \" de la primera lista es ocupado por el número: \", sucesion1(num))\n",
    "print(\"El lugar \" +str(num)+ \" de la segunda lista es ocupado por el número: \", sucesion2(num))"
   ]
  },
  {
   "cell_type": "markdown",
   "metadata": {
    "colab_type": "text",
    "id": "d1kjbzDNICj0"
   },
   "source": [
    "Hasta ahora hemos considerado secuencias de números ordenados de acuerdo con los números naturales: listas con un primer elemento (que podemos asociar al 1), un segundo elemento (asociado al 2), etcétera.\n",
    "Asís, dado un conjunto $A$, formamos una lista asociando elementos de $A$\n",
    "a los números naturales en $\\mathbb{N}$. Esto nos conduce a la siguiente definición.\n",
    "\n",
    "Una **sucesión** de elementos en $A$ es una función que a cada\n",
    "número natural le asocia un elemento de $A$. \n",
    "\n",
    "Una **sucesión numérica** es una función cuyo dominio es el\n",
    "conjunto de los números naturales y cuyo contradominio es el conjunto de\n",
    "los números reales. Así, una sucesión de este tipo es una función que a cada número natural le hace corresponder uno y sólo un número real.\n",
    "\n",
    "\n",
    "Las siguientes listas se pueden describir mediante funciones. Por ejemplo:\n",
    "\n",
    "* La lista $1, 2, 3, 4, 5, . . .$ se puede describir como la función que a cada número natural le asocia el mismo natural. En este caso, la función $f$ sería de la forma $f(n)=n$.\n",
    "* La lista $1, 1 + 2, 1 + 2 + 2^2 , 1 + 2 + 2^2 + 2^3 , ..., 1 + 2 + 2^2 + 2^3 + ... + 2^n-1 , ...$. En este caso, la función $f$ se podría describir  como la función que a cada número natural $n$ le\n",
    "asocia el número $1 + 2 + 2^2 + 2^3 + ... + 2^n-1$, es decir, $f(n)=1 + 2 + 2^2 + 2^3 + ... + 2^n-1$.\n",
    "\n",
    "Se acostumbra describir a la sucesión mediante los elementos de su imagen\n",
    "ordenados, llamando a éstos los términos de la sucesión, escritos mediante letras con subı́ndices $a_1, a_2, a_3, . . . , a_n , . . .$ .Esto significa que al número 1 le corresponde a 1 , que es la imagen del natural 1 bajo la función y el primer elemento de la sucesión; al 2 le corresponde el segundo elemento a 2 ; al 3 le corresponde el tercer elemento a 3 , y ası́ sucesivamente; por lo cual se tiene que al número\n",
    "natural $n$ le corresponde el $n$-ésimo elemento a $n$. De esta manera escribimos la sucesión como la lista ordenada de números reales $a_1 , a_2 , a_3 , . . . , a_n , . . .$ .\n",
    "\n",
    "\n",
    "**Ejemplos**\n",
    "\n",
    "1. La sucesión $\\frac{1}{2}, \\frac{4}{3}, \\frac{9}{4}, ..., \\frac{n^2}{n+1},...$ \n",
    "tiene como regla de correspondencia que al número natural $n$ se le\n",
    "asigna el número real $\\frac{n^2}{n+1}$. Ası́, el término 171 de la sucesión es $\\frac{171^2}{171+1}=\\frac{29241}{172}$.\n",
    "2. En la sucesión $\\pi, \\pi, \\pi, ..., \\pi, . . .$, a cada natural $n$ se le asigna el número real $\\pi$. Este tipo de sucesión se llama **sucesión constante**, porque todos los términos son iguales. \n",
    "3. La sucesión $1, 1, 2, 1, 2, 3, 1, 2, 3, 4, 1, 2, 3, 4, 5, 1, 2, 3, 4, 5, 6, . . .$ no está dada por una fórmula, sino por un procedimiento. Primero escribimos el primer número natural, en seguida los dos prime-\n",
    "ros naturales, después los tres primeros naturales y ası́ sucesivamente.\n",
    "Para saber cuál es el número que ocupa una cierta posición, por ejem-\n",
    "plo la 16, podemos fijarnos en el quinto número triangular, el 15 y por\n",
    "lo tanto afirmar que en la posición 16 hay un 1. (¿Cómo se justifica\n",
    "este procedimiento?)\n",
    "\n",
    "Notemos que una sucesión tiene una infinidad de términos: Como una\n",
    "sucesión es una función que tiene como dominio un conjunto infinito (los\n",
    "naturales), también tiene un número infinito de imágenes. Generalmente escribiremos de manera abreviada $\\{a_n\\}_{n=1}^\\infty$, en lugar de la lista $a_1, a_2 , a_3 , . . . , a_n , . . . $, o bien solamente ${a_n}$ entendiendo que $n \\in \\mathbb{N}$ y que $a_n$ es el término general de la sucesión.\n",
    "\n"
   ]
  },
  {
   "cell_type": "markdown",
   "metadata": {
    "colab_type": "text",
    "id": "e68YxCfZdz_l"
   },
   "source": [
    "## Operaciones con sucesiones\n",
    "Sean $\\{a_n\\}$ y $\\{b_n\\}$ dos sucesiones.\n",
    "1. La **suma** de sucesiones es una nueva sucesión cuyo término general está dado por la suma de los términos generales de cada una de las sucesiones. Esto es: $\\{a_n\\} + \\{b_n\\} = \\{a_n + b_n \\}$.\n",
    "\n",
    "2. La **resta** de sucesiones es una nueva sucesión cuyo término general está dado por la resta de los términos generales de cada una de las sucesiones. Esto es: $\\{a_n\\} - \\{b_n\\} = \\{a_n - b_n \\}$.\n",
    "\n",
    "3. El **producto** de sucesiones es una nueva sucesión cuyo término general está dado por el producto de los términos generales de cada una de las sucesiones. Esto es: $\\{a_n\\} \\cdot \\{b_n\\} = \\{a_n \\cdot b_n \\}$.\n",
    "\n",
    "4. Definimos la **división** de sucesiones como una nueva sucesión cuyo\n",
    "término general es el cociente de los términos generales de las dos su-\n",
    "cesiones originales, siempre y cuando la sucesión que aparece en el\n",
    "denominador nunca tome el valor cero. Esto es: $\\frac{\\{a_n\\}}{\\{b_n\\}} = \\{\\frac{a_n}{b_n}\\}$, con $b_n \\neq 0$ para toda $n \\in \\mathbb{N}$.\n",
    "\n",
    "5. La multiplicación de una sucesión por un escalar es una nueva sucesión, cuyo término general se obtiene multiplicando el número dado por el término general de la sucesión original; esto es, si $\\lambda \\in \\mathbb{R}$, entonces $\\lambda\\{a_n\\} = \\{\\lambda a_n\\}$."
   ]
  },
  {
   "cell_type": "markdown",
   "metadata": {
    "colab_type": "text",
    "id": "4QjBmaYMhOZn"
   },
   "source": [
    "## Convergencia de una sucesión\n",
    "\n",
    "\n",
    "Decimos que la sucesión $\\{a_n\\}$ converge a núúmero real $a$ si y sólo si para toda $ \\epsilon > 0$ existe un número natural $N$ tal que si $n > N$ entonces $|a_n - a| < \\epsilon$. Si la sucesión $\\{a_n\\}$ converge a $a$, decimos que el lı́mite de la sucesión $\\{a_n\\}$ es $a$ y escribimos $\\lim_{x \\to \\infty} a_n = a$\n",
    "\n",
    "Esta definición nos dice que dado cualquier número positivo $\\epsilon$, podemos encontrar un número natural $N$, que depende de $\\epsilon$, tal que si nos fijamos en los índices mayores que $N$ (es decir, $N + 1, N + 2, . . . , N + k, . . .)$, entonces los términos de la sucesión\n",
    "$a_{N +1}, a_{N +2} ,  . . . , a_{N +k}, . . .$ distan de $a$ menos que $\\epsilon$.\n",
    "\n",
    "Además, sabemos que:\n",
    "$|a_n - a| < \\epsilon \\Leftrightarrow - \\epsilon < a_n - a < \\epsilon \\Leftrightarrow a - \\epsilon < a_n < a + \\epsilon$,\n",
    "\n",
    "entonces la definición de convergencia implica que todos los elementos de\n",
    "la sucesión cuyos índices sean mayores que $N$ están en el intervalo abierto $(a - \\epsilon, a + \\epsilon)$ y solamente un número finito se encuentra fuera de él.\n",
    "\n",
    "<img src=\"sucesion.png\">"
   ]
  },
  {
   "cell_type": "markdown",
   "metadata": {
    "colab_type": "text",
    "id": "nNLOZMGoOpkN"
   },
   "source": [
    "Ejemplos\n",
    "1. La sucesión $\\frac{1}{n}$\n",
    "converge a cero; esto es, $\\lim_{x \\to \\infty} \\frac{1}{n} = 0$\n",
    "Tomemos distintos valores de $\\epsilon$ y encontremos el valor de $N$. Para esto, primero debemos resolver la siguiente desigualdad:\n",
    "\n",
    "$|\\frac{1}{n}-0| = \\frac{1}{n}< \\epsilon \\Leftrightarrow n > \\frac{1}{\\epsilon}$.\n",
    "\n",
    "Proponemos $ N = \\lfloor {\\frac{1}{\\epsilon}} \\rfloor + 1$. Ası́, si $\\epsilon = 0.3$, entonces $N =\\lfloor {\\frac{1}{0.3}} \\rfloor + 1 = 4$\n",
    "\n",
    "Veamos el comportamiento de $N$ al variar $\\epsilon$:\n",
    "\n",
    "| $\\epsilon$ | n |  Así, si  | entonces $\\frac{1}{n}$ es menor que: | \n",
    "|---|---|----|---|\n",
    "| 0.3 | 4 |n > 4| 0.3 | \n",
    "| 0.15 | 7 |n > 7| 0.15 |\n",
    "| 0.1 | 10 |n > 10| 0.1 | \n",
    "| 0.025 | 41 |n > 41| 0.025 |\n",
    "| 0.01 | 100 |n > 100| 0.01 | \n",
    "| 0.001 | 1000 |n > 1000| 0.001 |\n",
    "| 0.00001 | 100000 |n > 100000| 0.00001 | \n",
    "\n",
    "Antes de continuar, analizaremos con un poco más de detalle esta tabla:\n",
    "¿Qué términos de la sucesión cumplen el tercer renglón? Como $n > 7$,\n",
    "los términos son $\\frac{1}{8},\\frac{1}{9},\\frac{1}{10}, . . . ,$ etcétera.\n",
    "¿Qué términos de la sucesión distan del cero menos que $0.025$? En el\n",
    "quinto renglón tenemos que $\\epsilon = 0.025$ y para este valor se tiene que $N = 41$, de modo que los términos de la sucesión que distan de cero\n",
    "menos que $0.025$ aparecen a partir del término número $42$ de la sucesión.\n",
    "\n",
    "¿Cuáles son los índices tales que los términos correspondientes de la\n",
    "sucesión cumplen la desigualdad $|\\frac{1}{n}-0| < 0.001$?\n",
    "\n",
    "En la tabla tenemos que $N = 1000$, de modo que los ı́ndices correspondientes a los términos de la sucesión que satisfacen la desigualdad anterior son: $1001, 1002, 1003, 1004, . . . .\n",
    "\n",
    "Ahora completaremos la demostración de que la sucesión\n",
    "$\\{\\frac{1}{n}\\}$ converge a 0.\n",
    "\n",
    "\n",
    "Ya hemos visto que $N = \\lfloor \\frac{1}{\\epsilon} \\rfloor +1$. Ahora tomemos $n > \\lfloor \\frac{1}{\\epsilon} \\rfloor +1$. Como $\\lfloor \\frac{1}{\\epsilon} \\rfloor +1 > \\frac{1}{\\epsilon}$, entonces $n>\\frac{1}{\\epsilon} \\Leftrightarrow \\epsilon > \\frac{1}{n}$, y esto implica que $\\frac{1}{n} = |\\frac{1}{n}-0| < \\epsilon$.\n",
    "\n",
    "Por lo tanto:\n",
    "\n",
    "$\\displaystyle \\lim_{n \\to \\infty} \\frac{1}{n} = 0$.\n",
    "\n",
    "\n",
    "En la siguiente gráfica podemos observar que efectivamente ocurre esto:\n"
   ]
  },
  {
   "cell_type": "code",
   "execution_count": 3,
   "metadata": {},
   "outputs": [
    {
     "data": {
      "image/png": "[encoded data removed]",
      "text/plain": [
       "<Figure size 720x360 with 1 Axes>"
      ]
     },
     "metadata": {
      "needs_background": "light"
     },
     "output_type": "display_data"
    }
   ],
   "source": [
    "num_suc = np.arange(1,100)\n",
    "sucesion2 = [1/i for i in num_suc]\n",
    "\n",
    "par = [{'xlabel':'$n$',\n",
    "        'ylabel':'$a_n$',\n",
    "       'xlim':(0.5,99.5)},\n",
    "       ]\n",
    "\n",
    "graf = vis.planoCartesiano(par=par)\n",
    "graf.scatter(x = num_suc, y = sucesion2, par={'s':10,'color':'purple', 'label':r'Sucesión $a_n=\\frac{1}{n}$'})\n",
    "graf.plot(x=[0,100],y=[0,0], par={'c':'green','linestyle':'--', 'lw':2,'label':'Función constante 0'})\n",
    "graf.legend()\n",
    "graf.show()"
   ]
  },
  {
   "cell_type": "markdown",
   "metadata": {
    "colab_type": "text",
    "id": "IKERrTbfLnVb"
   },
   "source": [
    "\n",
    "\n",
    "**Proposición** Sean $\\{a_n\\}$, $\\{b_n\\}$dos sucesiones.\n",
    "1. Si la sucesión $\\{a_n\\}$ converge, su lı́mite es único.\n",
    "2. Supongamos que $\\{a_n\\}$ y $\\{b_n\\}$ convergen a $a$ y $b$, respectivamente. Entonces:\n",
    "\n",
    "  a) La sucesión $\\{a_n \\pm b_n\\}$ converge a $a \\pm b$. Es decir,\n",
    "      $\\displaystyle \\lim_{n \\to \\infty} (a_n \\pm b_n) = \\lim_{n \\to \\infty} a_n \\pm \\lim_{n \\to \\infty} b_n = a \\pm b$.\n",
    "\n",
    "  b)  La sucesión $\\{a_n \\cdot b_n\\}$ converge a $a \\cdot b$. Es decir,\n",
    "      $\\displaystyle \\lim_{n \\to \\infty} (a_n \\cdot b_n) = \\lim_{n \\to \\infty} a_n \\cdot \\lim_{n \\to \\infty} b_n = a \\cdot b$.\n",
    "\n",
    "  c) Si además suponemos que $b \\neq 0$ , la sucesión $\\frac{\\{a_n\\}}{\\{b_n\\}}$ converge a $\\frac{a}{b}$. Es decir,\n",
    "      $\\displaystyle \\lim_{n \\to \\infty} \\frac{\\{a_n\\}}{\\{b_n\\}} = \\frac{\\displaystyle \\lim_{n \\to \\infty} a_n}{\\displaystyle \\lim_{n \\to \\infty} b_n} = \\frac{a}{b}$.\n",
    "\n",
    "  d) Para $\\lambda \\in \\mathbb{R}$, la sucesión $\\{\\lambda \\cdot a_n\\}$ converge a $\\lambda \\cdot a$. Es decir, $\\displaystyle \\lim_{n \\to \\infty} (\\lambda \\cdot a_n) =  \\lambda \\cdot \\lim_{n \\to \\infty} a_n = \\lambda \\cdot a $.\n",
    "\n",
    "\n",
    "\n",
    "\n",
    "\n",
    "5. La multiplicación de una sucesión por un escalar es una nueva sucesión, cuyo término general se obtiene multiplicando el número dado por el término general de la sucesión original; esto es, si $\\lambda \\in \\mathbb{R}$, entonces $\\lambda\\{a_n\\} = \\{\\lambda a_n\\}$."
   ]
  },
  {
   "cell_type": "markdown",
   "metadata": {
    "colab_type": "text",
    "id": "YLfMa6tjfLsC"
   },
   "source": [
    "Notemos que la definición de sucesión es tan parecida a la definición de límite. Es posible definir el primero en términos del segundo y viceversa.\n",
    "\n",
    "A pesar de esta conexión con un concepto familiar, es más importante representarse la convergencia en téérminos de la imagen de una sucesión de puntos sobre una recta. Existe otra conexión entre límites de funciones y límites de sucesiones relacionada con esta imagen. Esta conexión es algo menos evidente, pero considerablemente más interesante, en vez de de definir límites de sucesiones en términos de límites de funciones, es posible invertir el proceso. \n",
    "\n",
    "**Teorema** Sea $f$ una función definida en un intervalo abierto que contiene $c$, excepto quizá en $c$ mismo, con $\\displaystyle \\lim_{x \\to c} f(x) = l$.\n",
    "\n",
    "Supongamos que $\\{a_n\\}$  es una sucesióón que satisface:\n",
    "\n",
    "1. cada $a_n$ pertenece al dominio de $f$.\n",
    "2. cada $ a_n \\neq c$.\n",
    "3. $\\displaystyle \\lim_{n \\to \\infty } a_n = c$.\n",
    "\n",
    "Entonces la sucesión $\\{f(a_n)\\}$ satisface:\n",
    "\n",
    " $\\displaystyle \\lim_{n \\to \\infty } f(a_n) = l$\n",
    "\n",
    "**Ejemplo** Sea $\\{a_n\\}$ la sucesión definida por: \n",
    "\n",
    "$a_n = sen(cos(e + \\frac{n-1}{n+1}))$. Claramente podemos observar que convergen hacia $cos(sen(e +1))$"
   ]
  },
  {
   "cell_type": "code",
   "execution_count": 4,
   "metadata": {
    "colab": {
     "base_uri": "https://localhost:8080/",
     "height": 392
    },
    "colab_type": "code",
    "id": "0q1SkkrNVhrC",
    "outputId": "8025ddfa-d481-49ff-b11b-83d7c45b833c"
   },
   "outputs": [
    {
     "data": {
      "image/png": "[encoded data removed]",
      "text/plain": [
       "<Figure size 720x360 with 1 Axes>"
      ]
     },
     "metadata": {
      "needs_background": "light"
     },
     "output_type": "display_data"
    }
   ],
   "source": [
    "def suc_sc(n):\n",
    "  return np.sin(np.cos(np.exp(1) + (n-1)/(n+1)))\n",
    "\n",
    "arr = np.arange(1,200)\n",
    "\n",
    "suc4 = [suc_sc(n) for n in arr]\n",
    "\n",
    "par = [{'xlabel':'$n$',\n",
    "        'ylabel':'$a_n$',\n",
    "       'xlim':(1,199.5)},\n",
    "       ]\n",
    "\n",
    "cte = np.sin(np.cos(np.exp(1)+ 1)) \n",
    "graf = vis.planoCartesiano(par=par)\n",
    "graf.scatter(x=arr,y=suc4, par={'s':5, 'label':r'Sucesión $a_n = sen(cos(e + \\frac{n-1}{n+1}))$'})\n",
    "graf.plot(x=[0,200],y=[cte,cte], par={'c':'green','linestyle':'--', 'label':'Función constante sen(cos(e+1))'})\n",
    "graf.legend()\n",
    "graf.show()"
   ]
  },
  {
   "cell_type": "markdown",
   "metadata": {
    "colab_type": "text",
    "id": "NRwaWb6KViK3"
   },
   "source": [
    "Una sucesión $\\{a_n\\}$ es:\n",
    "\n",
    "* **creciente** si $a_{n+1} > a_n$ para todo $n$.\n",
    "* **no decreciente** si $a_{n+1} \\ge a_n$ para todo $n$.\n",
    "* **decreciente** si $a_{n+1} < a_n$ para todo $n$.\n",
    "* **no creciente** si $a_{n+1} \\le a_n$ para todo $n$.\n",
    "\n",
    "Y está **acotada superiormente** (**inferiormente**) si existe un número $M$ tal que $ a_n \\le M$ ($a_n \\ge M$) para todo $n$.\n",
    "\n",
    "**Ejemplo** Consideremos la sucesión $\\sqrt{2},\\sqrt{2+\\sqrt{2}},\\sqrt{2+\\sqrt{2+\\sqrt{2}}}, \\sqrt{2+\\sqrt{2+\\sqrt{2+...}}}, ... $\n",
    "\n",
    "Esta sucesión se puede escribir de la siguiente manera: \n",
    "\n",
    "si $a_1 = \\sqrt{2}$ entonces, $a_2 = \\sqrt{2 + a_1}, a_3 =\\sqrt{2 + a_2}, ..., a_{n+1} = \\sqrt{2 + a_n}$.\n",
    "\n",
    "Para ver que esta sucesión es creciente, podemos usar el principio de\n",
    "inducción:\n",
    "\n",
    "Sea $M= \\{n \\in \\mathbb{N} | a_{n+1} > a_n \\}\\subseteq \\mathbb{N}$\n",
    "\n",
    "Claramente $\\sqrt{2+\\sqrt{2}} = a_{1+1} > a_1 = \\sqrt{2}$. Por lo tanto $1 \\in M$.\n",
    "\n",
    "Supongamos que $m-1 \\in M$, es decir, supongamos que $a_{m} > a_{m-1}$. \n",
    "\n",
    "P.D. $m \\in M$, es decir, que $a_{m+1} > a_{m}$\n",
    "\n",
    "Notemos que $a^2_{m+1} - a^2_m = (2 + a_m) - (2 + a_{m-1}) = a_m - a_{m-1}$. Como por hipótesis de inducción $a_{m} > a_{m-1}$, entonces $a^2_{m+1} > a^2_m$; y como los términos de la sucesión son positivos, tenemos que $a_{m+1} > a_m$.\n",
    "\n",
    "Por lo tanto $m \\in M$.\n",
    "\n",
    "Por lo tanto $\\mathbb{N} \\subseteq M$.\n",
    "\n",
    "Por lo tanto $M = \\mathbb{N}$.\n",
    "\n",
    "Por lo tanto $a_{n+1} > a_n$ para todo $n \\in \\mathbb{N}$.\n",
    "\n",
    "Lo cual quiere decir que la sucesión $a_n$ es creciente.\n",
    "\n",
    "Además, podemos ver a donde converge la sucesión realizando lo siguiente:\n",
    "\n",
    "Sea $x = \\sqrt{2+\\sqrt{2+\\sqrt{2 +\\cdots}}}$. Entonces:\n",
    "\n",
    "$x^2 = 2+\\sqrt{2+\\sqrt{2+ \\cdots}}$, por lo que $x^2 - x = 2$. Esta última ecuación tiene como solución:\n",
    "\n",
    "$x_1 = -1$, $x_2 = 2$. Como $x$ es una raíz positiva, la solución a la ecuación tiene que ser $x=2$, lo cual quiere decir que esta sucesión converge a $2$.\n",
    "\n",
    "\n",
    "\n",
    "\n"
   ]
  },
  {
   "cell_type": "code",
   "execution_count": 5,
   "metadata": {
    "colab": {
     "base_uri": "https://localhost:8080/",
     "height": 392
    },
    "colab_type": "code",
    "id": "YSNkiQy0rLVe",
    "outputId": "cfaf9265-3060-4370-c399-067bf4945c0b"
   },
   "outputs": [
    {
     "data": {
      "image/png": "[encoded data removed]",
      "text/plain": [
       "<Figure size 720x360 with 1 Axes>"
      ]
     },
     "metadata": {
      "needs_background": "light"
     },
     "output_type": "display_data"
    }
   ],
   "source": [
    "def sucRec(n):\n",
    "  if n == 1:\n",
    "    return np.sqrt(2)\n",
    "  else:\n",
    "    return np.sqrt(2 + sucRec(n-1))\n",
    "\n",
    "numeros = np.arange(1,28)\n",
    "suc_rec = [sucRec(num) for num in numeros]\n",
    "\n",
    "par = [{'xlabel':'$n$',\n",
    "        'ylabel':'$a_n$',\n",
    "       'xlim':(0.5,27.5)},\n",
    "       ]\n",
    "\n",
    "graf = vis.planoCartesiano(par=par)\n",
    "graf.scatter(x=numeros,y=suc_rec, par={'label':r'Sucesión $a_n = \\sqrt{2+\\sqrt{2+\\sqrt{2 +\\cdots}}}$'})\n",
    "graf.plot(x=[1,27],y=[2,2], par={'c':'green','linestyle':'--','lw':1,'label':r'Función constante = 2'})\n",
    "graf.legend()\n",
    "graf.show()"
   ]
  },
  {
   "cell_type": "markdown",
   "metadata": {
    "colab_type": "text",
    "id": "ImVdxPi3Vi6s"
   },
   "source": [
    "**Teorema** \n",
    "1. Si $\\{a_n\\}$ es una sucesión no decreciente y acotada superiormente, entonces $\\{a_n\\}$ converge.\n",
    "\n",
    "2. Si $\\{a_n\\}$ es una sucesión no creciente y acotada inferiormente, entonces $\\{a_n\\}$ converge.\n",
    "\n",
    "\n",
    "\n",
    "Una **subsucesión** de una sucesión $\\{a_n\\}$ es una sucesión de la forma $a_{n_{1}}, a_{n_{2}}, a_{n_{3}},...$ donde $n_j \\in \\mathbb{N}$ para toda $j \\in \\mathbb{N}$ satisface que $n_i < n_j$, con $i \\neq j$.\n",
    "\n",
    "\n",
    "**Lema** Cualquier sucesión $\\{a_n\\}$ contiene una subsucesión que es o bien no decreciente o bien no creciente.\n",
    "\n",
    "**Corolario (Teorema de Bolzano-Weiertrass)** Toda sucesión acotada tiene una subsucesión convergente.\n",
    "\n",
    "**Ejemplo** Consideremos la sucesión $a_n = \\{(-1)^n\\}$. No es dificil comprobar que esta sucesión no converge. Además, notemos que esta sucesión está acotada, y debido al corolario anterior esto nos dice que tiene una subsucesión convergente.\n",
    "\n",
    "Si consideramos la subsucesión $\\{(-1)^{2k}\\}$ se puede comprobar que $\\displaystyle \\lim_{n \\to \\infty} (-1)^{2k} = 1$. Más aún, si consideremos la subsucesión $\\{(-1)^{2k-1}\\}$ se puede comprobar que $\\displaystyle \\lim_{n \\to \\infty} (-1)^{2k} = -1$. \n",
    "\n",
    "Esto quiere decir que, aunque una sucesión no converja, podemos encontrar subsucesiones que sí, siempre y cuando la sucesión esté acotada.\n"
   ]
  },
  {
   "cell_type": "code",
   "execution_count": 6,
   "metadata": {},
   "outputs": [
    {
     "data": {
      "image/png": "[encoded data removed]",
      "text/plain": [
       "<Figure size 1296x216 with 3 Axes>"
      ]
     },
     "metadata": {
      "needs_background": "light"
     },
     "output_type": "display_data"
    }
   ],
   "source": [
    "def suc3(n):\n",
    "  return (-1)**n\n",
    "\n",
    "pares = np.arange(2,22,2)\n",
    "impares = np.arange(1,21,2)\n",
    "num = np.arange(1,21)\n",
    "\n",
    "sucesion = [suc3(i) for i in num]\n",
    "subsucesion1 = [suc3(i) for i in pares]\n",
    "subsucesion2 = [suc3(i) for i in impares]\n",
    "\n",
    "par = [{'title':'Sucesión acotada que no converge', \n",
    "        'xlabel':'$n$',\n",
    "        'ylabel':'$a_n$'},\n",
    "       {'title':'Subsucesión 1 que converge a 1', \n",
    "        'xlabel':'$2k$',\n",
    "        'ylabel':'$a_{2k}$',\n",
    "        'ylim':(-1.1,1.1)}, \n",
    "       {'title':'Subsucesión 2 que converge a -1',\n",
    "        'xlabel':'$2k+1$',\n",
    "        'ylabel':'$a_{2k+1}$',\n",
    "       'ylim':(-1.1,1.1)}\n",
    "      ]\n",
    "\n",
    "par_fig= {'figsize':(18,3)}\n",
    "\n",
    "graf = vis.planoCartesiano(1,3,par=par,par_fig=par_fig)\n",
    "graf.scatter(1, x = num, y = sucesion, par={'label':r'$a_n = \\{(-1)^n\\}$'})\n",
    "graf.scatter(2, x = pares, y = subsucesion1,par={'label':r'$a_{2k} = \\{(-1)^{2k}\\}$','color': 'green'})\n",
    "graf.scatter(3, x = impares, y = subsucesion2,par={'label':r'$a_{2k+1} \\{(-1)^{2k-1}\\}$','color':'red'})\n",
    "graf.ticks(n = 1, xticks = num)\n",
    "graf.ticks(n = 2, xticks = pares)\n",
    "graf.ticks(n = 3, xticks = impares)\n",
    "graf.legend(par={'loc':'center'})\n",
    "graf.show()"
   ]
  },
  {
   "cell_type": "markdown",
   "metadata": {
    "colab_type": "text",
    "id": "pUlNizoAtKeX"
   },
   "source": [
    "\n",
    "**Proposición** Si una sucesión $\\{a_n\\}$ es convergente a un número $a$, entonces cualquiera de sus subsucesiones es convergente, y converge al mismo número $a$.\n",
    "\n",
    "\n",
    "**Proposición** Sean $\\{a_n\\}, \\{b_n\\}, \\{c_n\\}$ tres sucesiones tales que $a_n \\le b_n \\le c_n$ $a$, y $\\lim_{n \\to \\infty} a_n = \\lim_{n \\to \\infty} c_n = a$. Entonces la sucesión $ \\{b_n\\}$ converge y $\\lim_{n \\to \\infty} b_n = a$"
   ]
  },
  {
   "cell_type": "markdown",
   "metadata": {
    "colab_type": "text",
    "id": "jcy6QCKZcblr"
   },
   "source": [
    "Uno de los comportamientos que puede observarse en los términos de una sucesión es el de irse acercando entre\n",
    "sı́. A continuación se precisará este concepto, que será útil para mostrar la convergencia de una sucesión en los casos en que no se puede establecer de\n",
    "antemano cuál es el número al cual tienden los términos de la misma.\n",
    "\n",
    "Los términos de una sucesión $\\{a_n\\}$ \"se acercan entre sı́\" si al ir considerando $n, m$ cada vez mayores, todos los términos $a_n, a_m$ están muy próximos entre sı́.\n",
    "\n",
    "Una sucesión $\\{a_n\\}$ es una **sucesión de Cauchy**\n",
    "si para cada $\\epsilon > 0$ existe $N$ tal que para toda $m,n$, si $n, m > N$, entonces $|a_n - a_m | < \\epsilon$.\n",
    "\n",
    "**Teorema** Una sucesión $\\{a_n\\}$ converge si y sólo si es una sucesión de Cauchy."
   ]
  },
  {
   "cell_type": "markdown",
   "metadata": {
    "colab_type": "text",
    "id": "gScYrdf6VitL"
   },
   "source": [
    "**Ejemplo** Veamos que la sucuesión $\\{\\frac{1}{n}\\}$ es una sucesión de Cauchy. \n",
    "\n",
    "P.D. Para todo $\\epsilon > 0$ existe un $N \\in \\mathbb{N}$ tal que para todo $n, m > N$, $|X_n - X_m| < \\epsilon$.\n",
    "\n",
    "Sea $ \\epsilon > 0$. Por la propiedad arquimediana podemos escoger un número natural $N > \\frac{2}{\\epsilon}$. Luego, para todo $n, m >N$:\n",
    "\n",
    "$|\\frac{1}{n} - \\frac{1}{m}| \\le |\\frac{1}{n}| + |\\frac{1}{m}| = \\frac{1}{n} + \\frac{1}{m}$ $...(1)$\n",
    "\n",
    "Como $n,m > N$, entonces $\\frac{1}{n} < \\frac{1}{N}$ y $\\frac{1}{m} < \\frac{1}{N}$. Así, de $(1)$ obtenemos que $\\frac{1}{n} + \\frac{1}{m} < \\frac{1}{N} + \\frac{1}{N} < \\frac{\\epsilon}{2} + \\frac{\\epsilon}{2} = \\epsilon$, que es lo que se quería demostrar.\n",
    "\n"
   ]
  },
  {
   "cell_type": "markdown",
   "metadata": {
    "colab_type": "text",
    "id": "3wPsgb3rGlC_"
   },
   "source": [
    "## Ejemplo de aplicación\n",
    "\n",
    "Una población de humanos tiene una cierta cantidad de personas contagiadas por el coronavirus, y el número de personas contagiadas está creciendo de tal manera que cada día hay $1.075$ veces más contagios que el día anterior. Supongamos que hay $500$ personas contagiadas en el primer día,  ¿Cuántas personas enfermas habrá en la séptimo día?\n",
    "\n",
    "La población se puede escribir como una secuencia geométrica con $a_1$ como el total de personas contagiadas en el día 1, $a_2$ como el total de personas contagiadas en el día 2, y así sucesivamente. Podemos usar la siguiente fórmula que representa el número de personas contagiadas en el n-ésimo día:\n",
    "\n",
    " $a_n = a_1\\cdot r^{n-1}$, con $r = 1.075$ y $a_1 =  500$, es decir;\n",
    "\n",
    " $a_n = 500\\cdot 1.075 ^{n-1}$\n",
    "\n",
    "\n",
    " Entonces el total de personas contagiadas en el día 7 está dado por:\n",
    "\n",
    " $a_7 = 500\\cdot 1.075 ^{7-1} = 500\\cdot 1.075 ^{6} = 771.65 \\approx 772.$\n",
    "\n",
    " Por lo tanto, habrá 772 personas contagiadas en el séptimo día.\n",
    " \n",
    " Además, podemos ver el comportamiento del número de personas contagiadas en los primeros 20 días mediante la siguiente gráfica:\n"
   ]
  },
  {
   "cell_type": "code",
   "execution_count": 36,
   "metadata": {},
   "outputs": [
    {
     "data": {
      "image/png": "[encoded data removed]",
      "text/plain": [
       "<Figure size 720x360 with 1 Axes>"
      ]
     },
     "metadata": {
      "needs_background": "light"
     },
     "output_type": "display_data"
    }
   ],
   "source": [
    "n = np.arange(1,21,1)\n",
    "a_n = [round(500*1.075**(j-1)) for j in n]\n",
    "\n",
    "par = [{'xlabel':'$n$',\n",
    "        'ylabel':'$a_n$',\n",
    "       'title':'Contagiados por coronavirus en cierta población humana'},\n",
    "       ]\n",
    "\n",
    "graf = vis.planoCartesiano(par=par)\n",
    "graf.scatter(x=n,y=a_n)\n",
    "graf.annotate(par={'s':'772 contagios en el día 7', 'xy':(n[6], a_n[6]), 'xytext':(-20,20), 'fontsize':12,\n",
    "            'textcoords':'offset points', 'ha':'center', 'va':'bottom',\n",
    "            'bbox':{'boxstyle':'round','pad':0.2, 'fc':'pink', 'alpha':0.85},\n",
    "            'arrowprops':{'arrowstyle':'->', 'connectionstyle':'arc3,rad=0.5', \n",
    "                           'color':'black'}})\n",
    "graf.ticks(n = 1, xticks = num)\n",
    "graf.show()"
   ]
  },
  {
   "cell_type": "markdown",
   "metadata": {
    "colab_type": "text",
    "id": "ouTbeaCRF5xl"
   },
   "source": [
    "## Referencias\n",
    "\n",
    "* Spivak, M., Cálculo Infinitesimal ($2^{a}$ ed.). México: Reverté, 1998.\n",
    "* Briseño, L., Palmas, Ó., Verdugo, J.,  Una mirada al cálculo a través de las sucesiones ($2^{a}$ ed.). México: Prensas de Ciencias, 2015.\n"
   ]
  }
 ],
 "metadata": {
  "colab": {
   "collapsed_sections": [],
   "name": "Sucesiones.ipynb",
   "provenance": []
  },
  "kernelspec": {
   "display_name": "Python 3",
   "language": "python",
   "name": "python3"
  },
  "language_info": {
   "codemirror_mode": {
    "name": "ipython",
    "version": 3
   },
   "file_extension": ".py",
   "mimetype": "text/x-python",
   "name": "python",
   "nbconvert_exporter": "python",
   "pygments_lexer": "ipython3",
   "version": "3.7.3"
  }
 },
 "nbformat": 4,
 "nbformat_minor": 1
}
