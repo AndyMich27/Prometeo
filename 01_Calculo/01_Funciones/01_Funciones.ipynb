{
 "cells": [
  {
   "cell_type": "markdown",
   "metadata": {
    "colab_type": "text",
    "id": "pf1dSJ9Sy7pP"
   },
   "source": [
    "\n",
    "# Funciones\n",
    "## Proyecto PAPIME PE101019\n",
    "\n",
    "*   Autores: \n",
    "    - José de Jesús Tapia López\n",
    "    - Luis M. de la Cruz Salas\n",
    "*   Rev: jue ago  6 15:22:25 CDT 2020"
   ]
  },
  {
   "cell_type": "code",
   "execution_count": null,
   "metadata": {},
   "outputs": [],
   "source": [
    "import numpy as np\n",
    "import matplotlib.pyplot as plt\n",
    "import gutils as vis\n",
    "%matplotlib inline"
   ]
  },
  {
   "cell_type": "markdown",
   "metadata": {
    "colab": {},
    "colab_type": "code",
    "id": "6jRKNntvOmyg"
   },
   "source": [
    "# Emprendiendo con Chilaquiles\n",
    "\n",
    "Son las 7:30 am. La clase de Cálculo comienza a las 8:00 am. Tres estudiantes deciden aprovechar el tiempo e ir a desayunar chilaquiles. Pero luego de una búsqueda infructuosa, deciden regresar a la Facultad, son las 7:55 am. Antes de entrar a la clase uno de ellos le dice a los otros dos - : ¿No creen que sería un buen negocio poner un puesto de chilaquiles?-. Al salir de la clase, los tres estudiantes piensan que efectivamente es un buen negocio lo de los chilaquiles, así que deciden emprender. Venden los chilaquiles un día a la semana en su Facultad. La tabla que sigue muestra como les ha ido con las ventas:\n",
    "\n",
    "| Semana | 1 | 2 | 3 | 4 | 5 | 6 | 7 | 8 | 9 | 10 |\n",
    "|---|---|---|---|---|---|---|---|---|---|---|\n",
    "| Porciones vendidas | 4 | 9 | 18 | 30 | 43 | 52 | 57 | 59 | 60 | 60 |\n",
    "\n",
    "Como se puede observar, las ventas se han ido incrementado desde la semana 1 en la que vendieron solo 4 porciones, hasta la semana 10 en la que lograron vender 60. Parece que les está llendo muy bien y se preguntan si acaso ¿sería buena idea dejar la Universidad y dedicarse a este negocio? \n",
    "\n",
    "Para responder a esta pregunta se puede hacer uso de los conocimientos de Cálculo para, de alguna manera, predecir el comportamiento de sus ventas con la información de lo que han vendido hasta ahora. Si realizamos un gráfico con los datos de la tabla anterior tenemos lo siguiente:"
   ]
  },
  {
   "cell_type": "code",
   "execution_count": null,
   "metadata": {},
   "outputs": [],
   "source": [
    "semanas   = [ 1, 2, 3, 4, 5, 6, 7, 8, 9,10]\n",
    "porciones = [ 4, 9,18,30,43,52,57,59,60,60]\n",
    "\n",
    "par = [{'title':'Negocio de chilaquiles', \n",
    "        'xlabel':'Semanas',\n",
    "        'ylabel':'Porciones vendidas'}]\n",
    "\n",
    "graf = vis.planoCartesiano(par=par)\n",
    "graf.scatter(x = semanas, y = porciones)\n",
    "graf.ticks(xticks = semanas)\n",
    "graf.show()"
   ]
  },
  {
   "cell_type": "markdown",
   "metadata": {},
   "source": [
    "En esta gráfica se observa que para cada valor de las semanas, se tiene uno y solo un valor de porciones vendidas. \n",
    "\n",
    "Si definimos lo siguiente: \n",
    "\n",
    "- $A = \\{ 1, 2, 3, 4, 5, 6, 7, 8, 9, 10 \\}$ como el conjunto que contiene el número de cada semana (**dominio**, se explica más adelante), y \n",
    "- $B = \\{ 4,  9, 18, 30, 43, 52, 57, 59, 60, 60\\}$ como el conjunto que contiene las porciones vendidas en cada semana (**contradominio**, se explica más adelante),\n",
    "\n",
    "se puede decir que existe una relación $f$ que relaciona cada elemento de $A$ con uno y solo un elemento de $B$. De manera esquemática:  \n",
    "\n",
    "$\n",
    "\\begin{array}{ccccccccccc}\n",
    "A : & 1 & 2 & 3 & 4 & 5 & 6 & 7 & 8 & 9 & 10 \\\\\n",
    "f :& \\downarrow & \\downarrow & \\downarrow & \\downarrow \n",
    "& \\downarrow & \\downarrow & \\downarrow & \\downarrow \n",
    "& \\downarrow & \\downarrow \n",
    "\\\\\n",
    "B : & 4 &  9 & 18 & 30 & 43 & 52 & 57 & 59 & 60 & 60\n",
    "\\end{array}\n",
    "$\n",
    "\n",
    "Entonces $f$ es una función. Pero, ¿qué es una función?, veamos algunas definiciones y posteriormente intemos explicar las ventas de chilaquiles usando un función adecuada."
   ]
  },
  {
   "cell_type": "markdown",
   "metadata": {
    "colab_type": "text",
    "id": "Y0-q_VgnOxQm"
   },
   "source": [
    "# Funciones\n",
    "\n",
    "En la clase de Cálculo se definen las funciones como sigue:\n",
    "\n",
    "***\n",
    "## Definición\n",
    "\n",
    "Sean $A$ y $B$ dos conjuntos. Una relación $f$ se llama una función de $A$ en $B$ si y sólo si *a cada elemento de $A$ le corresponde uno y sólo un elemento de $B$*. \n",
    "***\n",
    "\n",
    "El hecho de que $f$ sea una función de $A$ en $B$  se denota como $f:A\\rightarrow B$. \n",
    "\n",
    "Al conjunto $A$ se le conoce como **dominio** de $f$ y al conjunto $B$ se le conoce como **contradominio** o **codominio** de $f$. \n",
    "\n",
    "Es común denotar $f(x) = y$, lo que nos dice es que la función $f$ transforma a $x$ en $y$. Se debe cumplir además que $x \\in A$ y $y \\in B$.\n",
    "\n",
    "La notación $f(x) = y$ es conveniente cuando se hacen gráficos de la función, pues el eje horizontal $x$ representará al dominio, mientras que el eje vertical $y$ representará al contradominio, lo anterior en el plano Cartesiano.\n",
    " \n",
    "En otras palabras, podemos decir que una función es una regla de correspondencia que asigna a cada elemento del dominio, un único elemento del contradominio.\n",
    "\n",
    "Una definición más formal de función se puede consultar\n",
    "<a href=\"./Funciones_formalismos_y_ejemplos.ipynb\">aquí. </a>"
   ]
  },
  {
   "cell_type": "markdown",
   "metadata": {
    "colab_type": "text",
    "id": "l93qQBlzwlp-"
   },
   "source": [
    "### Ejemplo 1\n",
    "\n",
    "Definimos una función $f$ cuyo dominio lo conforman los números reales $x$ que son más grandes o iguales que $-2\\pi$ y menores o iguales que $2\\pi$, o sea $-2\\pi \\leq x \\leq 2 \\pi$. \n",
    "\n",
    "La función es: $f(x) = \\sin(x)$.\n",
    "\n",
    "Sabemos, de nuestras clases de trigonometría, que $-1 \\leq \\sin(x) \\leq 1$, entonces el codominio lo conforman los números reales que cumplen $-1 \\leq y \\leq 1$.\n",
    "\n",
    "De manera más formal, definimos a la función de este ejemplo como sigue: \n",
    "\n",
    "$f:[-2\\pi,2\\pi] \\rightarrow [-1,1]$, donde $f(x) = \\sin(x)$.\n",
    "\n"
   ]
  },
  {
   "cell_type": "code",
   "execution_count": null,
   "metadata": {
    "colab": {
     "base_uri": "https://localhost:8080/",
     "height": 494
    },
    "colab_type": "code",
    "id": "z5fmYhHzwN_A",
    "outputId": "65786139-1712-4cfa-cd54-4f59f882ebea"
   },
   "outputs": [],
   "source": [
    "x = np.arange(-2*(np.pi), 2*(np.pi), 0.1) # Dominio\n",
    "y = np.sin(x)                             # Codominio\n",
    "\n",
    "par = [{'title':'Ejemplo 1', \n",
    "        'xlabel':'$x$',\n",
    "        'ylabel':'sin($x$)'}]\n",
    "\n",
    "graf = vis.planoCartesiano(par=par)\n",
    "graf.plot(x=x, y=y, par={'label':'sin($x$)'})\n",
    "graf.ticks(trig=True)\n",
    "\n",
    "N = -0.0\n",
    "graf.plot(x = [np.pi*N, np.pi*N], y=[-1, 1], \n",
    "          par={'ls':'--', 'lw':2, 'color':'green'})\n",
    "graf.scatter(x = [np.pi*N], y=[np.sin(np.pi*N)],\n",
    "            par = {'marker':'o', 'color':'red', 'zorder':10})\n",
    "graf.show()"
   ]
  },
  {
   "cell_type": "markdown",
   "metadata": {},
   "source": [
    "Observe que si trazamos líneas rectas verticales (línea verde punteada), éstas cortarán a la gráfica de la función (línea azul) en solo un punto (círculo rojo). A eso se refiere el enunciado: *''a cada elemento de $A$ le corresponde uno y sólo un elemento de $B$''* de la definición de función.\n",
    "\n",
    "Intente cambiar el valor de `N` en el código anterior entre $-2\\pi$ y $2\\pi$ y observe que la curva y la recta solo se intersectan en un punto."
   ]
  },
  {
   "cell_type": "markdown",
   "metadata": {
    "colab_type": "text",
    "id": "8hyHIviYsDl8"
   },
   "source": [
    "### Ejemplo 2\n",
    "\n",
    "Sea $f:A\\rightarrow B$ definida como:\n",
    "\n",
    "$   f(x) = \\left\\{\n",
    "\\begin{array}{l}\n",
    "      0 & x = 2 \\\\\n",
    "      \\\n",
    "      \\\\\n",
    "      1 & x \\neq 2 \\\\\n",
    "\\end{array} \n",
    "\\right.$\n",
    "\n",
    "Donde $A = \\{0.0, 0.2, 0.4, 0.6, 0.8, 1.0, 1.2, 1.4, 1.6, 1.8, 2.0, 2.2, 2.4, 2.6, 2.8, 3.0, 3.2, 3.4,3.6, 3.8, 4.0, 4.2, 4.4, 4.6, 4.8\\}$ \n",
    "\n",
    " $B=\\{0,1\\}$"
   ]
  },
  {
   "cell_type": "code",
   "execution_count": null,
   "metadata": {
    "colab": {
     "base_uri": "https://localhost:8080/",
     "height": 494
    },
    "colab_type": "code",
    "id": "p9V8R06srfmF",
    "outputId": "7be133c6-d5d8-4831-fb65-5e3a9c90389e"
   },
   "outputs": [],
   "source": [
    "x = np.arange(0., 5., 0.2)           # Dominio \n",
    "y = [ 0 if i == 2 else 1 for i in x] # Codominio\n",
    "\n",
    "par = [{'title':'Ejemplo 2', \n",
    "        'xlabel':'$x$',\n",
    "        'ylabel':'f($x$)'}]\n",
    "\n",
    "graf = vis.planoCartesiano(par=par)\n",
    "graf.scatter(x=x, y=y, par={'label':'f($x$)'})\n",
    "graf.show()"
   ]
  },
  {
   "cell_type": "markdown",
   "metadata": {
    "colab_type": "text",
    "id": "jxfV6XwGOxDT"
   },
   "source": [
    "Esta función es muy particular, pues obsérvese que el conjunto $A$, el dominio, tiene 25 elementos igualmente espaciados que van de 0 a 4.8; por otro lado el conjunto $B$ solo contiene dos elementos, el 1 y el 0. La mayoría de los elementos de $A$ son transformados en el valor 1 cuando se aplica la función $f$ y solo el valor x=2 se transforma en 0. \n",
    "\n",
    "¿En este ejemplo podemos decir que $f$ es una función? Revisa la definición y responde a esta pregunta."
   ]
  },
  {
   "cell_type": "markdown",
   "metadata": {
    "colab_type": "text",
    "id": "40mC9tHu60XY"
   },
   "source": [
    "### Ejemplo 3\n",
    "\n",
    "Sea $f(x) = x^2$ para $x \\in \\mathbb{R}$. En este caso el dominio son todos los números reales, ¿cuál será el codominio?"
   ]
  },
  {
   "cell_type": "code",
   "execution_count": null,
   "metadata": {
    "colab": {
     "base_uri": "https://localhost:8080/",
     "height": 530
    },
    "colab_type": "code",
    "id": "r6DTQ-GB6PeI",
    "outputId": "a826b4ff-bc02-49d9-947a-bd3a5bb888f0"
   },
   "outputs": [],
   "source": [
    "x = np.linspace(-10,10,100) # Parte del dominio entre -10 y 10, con 100 reales\n",
    "y = x**2                    # Este será el codominio   \n",
    "\n",
    "par = [{'title':'Ejemplo 3', \n",
    "        'xlabel':'$x$',\n",
    "        'ylabel':'f($x$) = $x^2$'}]\n",
    "\n",
    "graf = vis.planoCartesiano(par=par)\n",
    "graf.plot(x=x, y=y, par={'label':'f($x$)'})\n",
    "\n",
    "N = -3.0\n",
    "graf.plot(x = [N, N], y=[0, 10**2], \n",
    "          par={'ls':'--', 'lw':2, 'color':'green'})\n",
    "graf.scatter(x = [N], y=[N**2],\n",
    "            par = {'marker':'o', 'color':'red', 'zorder':10})\n",
    "graf.show()"
   ]
  },
  {
   "cell_type": "markdown",
   "metadata": {},
   "source": [
    "En la gráfica anterior se observa que el codominio son solo los números reales positivos, incluyendo el cero. Esto lo podemos escribir matemáticamente como $B = \\mathbb{R}^+ \\cup \\{0\\}$, donde $\\mathbb{R}^+$ es el subconjunto de los números reales tales que si $y \\in \\mathbb{R}^+$ entonces $y > 0$.\n",
    "\n",
    "Observe que cualquier línea vertical solo intersecta a la función en un solo punto. Intente cambiar el valor de `N` entre -10 y 10 y vea el resultado. \n",
    "\n",
    "Por lo tanto $f(x) = x^2$ es una función. ¿La inversa de $f$ será una función también?\n",
    "\n",
    "De manera simplista podemos decir que si tenemos una función $f: A \\rightarrow B$, entonces su inversa debería ser: $g: B \\rightarrow A$. Por lo tanto, si $x \\in A$ entonces $f(x) = y$ con $y \\in B$; y dado que $g$ es la inversa de $f$ entonces $g(y) = x$.\n",
    "\n",
    "Básicamente lo que se está haciendo con la inversa es \"intercambiar\" el dominio con el contradominio. Esto lo podemos hacer y graficar fácilmente en Python como sigue:"
   ]
  },
  {
   "cell_type": "code",
   "execution_count": null,
   "metadata": {},
   "outputs": [],
   "source": [
    "xi = y   # Tomamos el codominio y lo ponemos en el dominio xi\n",
    "yi = x   # Tomamos el dominio de f y lo ponemos en el codominio yi\n",
    "\n",
    "par = [{'title':'Inversa de $f(x)=x^2$', \n",
    "        'xlabel':'$x$',\n",
    "        'ylabel':'g($x$)'}]\n",
    "\n",
    "graf = vis.planoCartesiano(par=par)\n",
    "graf.plot(x=xi, y=yi, par={'label':'f($x$)'})\n",
    "\n",
    "N = 40.0\n",
    "graf.plot(x = [N, N], y=[-10, 10], \n",
    "          par={'ls':'--', 'lw':2, 'color':'green'})\n",
    "graf.scatter(x = [N, N], y=[np.sqrt(N), -np.sqrt(N)],\n",
    "            par = {'marker':'o', 'color':'red', 'zorder':10})\n",
    "graf.show()"
   ]
  },
  {
   "cell_type": "markdown",
   "metadata": {},
   "source": [
    "Observe que esta definición de $g$ genera una curva que no cumple con la definición de función, pues cualquier recta vertical (para x > 0) intersecta a la curva de $g$ en dos puntos!\n",
    "\n",
    "Una definición más formal de función inversa la puedes consultar\n",
    "<a href=\"./Funciones_formalismos_y_ejemplos.ipynb\">aquí. </a>"
   ]
  },
  {
   "cell_type": "markdown",
   "metadata": {},
   "source": [
    "### Ejemplo 4: función logística\n",
    "La función logística genera una curva en forma de S y es una función que suele usarse para modelar diversos comportamientos como la difusión de información en redes sociales, crecimiento de poblaciones, propagación de enfermedades, entre otras. Su definición es la siguiente:\n",
    "\n",
    "$\\displaystyle\n",
    "f(x) = \\frac{1}{1+e^{-x}}\n",
    "$\n",
    "\n",
    "Su gráfica en el intervalo $x \\in [-10,10]$ es la siguiente:"
   ]
  },
  {
   "cell_type": "code",
   "execution_count": null,
   "metadata": {},
   "outputs": [],
   "source": [
    "x = np.linspace(-10,10,100) # Parte del dominio entre -10 y 10, con 100 reales\n",
    "y = 1 / (1 + np.exp(-x))     # Codominio   \n",
    "\n",
    "par = [{'title':'Función logística', \n",
    "        'xlabel':'$x$',\n",
    "        'ylabel':'$f(x) = 1 /(1+e^{-x})$'}]\n",
    "\n",
    "graf = vis.planoCartesiano(par=par)\n",
    "graf.plot(x=x, y=y, par={'label':'f($x$)'})\n",
    "\n",
    "N = 0.0\n",
    "graf.plot(x = [N, N], y=[0, 1], \n",
    "          par={'ls':'--', 'lw':2, 'color':'green'})\n",
    "graf.scatter(x = [N], y=[1/(1+np.exp(-N))],\n",
    "            par = {'marker':'o', 'color':'red', 'zorder':10})\n",
    "graf.show()"
   ]
  },
  {
   "cell_type": "markdown",
   "metadata": {},
   "source": [
    "Cuando esta función se usa para describir un modelo de crecimiento de poblaciones, se observa que al principio se tiene un crecimiento exponencial (véase la función exponencial); posteriomente aparce la competencia entre individuos de la población por algún recurso crítico, de tal manera que el crecimiento disminuye; finalmente se llega a la madurez de la población y el crecimiento se detiene. Todos estos comportamientos se pueden ver la gráfica anterior.\n",
    "\n",
    "¿Se podrá modelar el negocio de los chilaquiles con esta función? Veamos:\n",
    "\n",
    "Escribimos la función logística de la siguiente manera: $\\displaystyle\n",
    "f(x) = \\frac{a}{b+e^{-(x-c)}}\n",
    "$\n",
    "donde los parámetros $a, b$ y $c$ se deben ajustar para modelar la venta de chilaquiles.\n",
    "Fijemos $a = 30$ y $b=0.5$ y variamos $c$ en $[1,2,3,4,5]$. Grafiquemos estas curvas y los datos de las ventas de chilaquiles:\n"
   ]
  },
  {
   "cell_type": "code",
   "execution_count": null,
   "metadata": {},
   "outputs": [],
   "source": [
    "def chilogisticos(a,b,c,x):\n",
    "    return a / (b + np.exp(-1*(x-c)))\n",
    "\n",
    "x = np.linspace(-20,20,100) # Parte del dominio entre -10 y 10, con 100 reales\n",
    "a = 30\n",
    "b = 0.5 \n",
    "\n",
    "par = [{'title':'Chilaquiles logísticos', \n",
    "        'xlabel':'Semanas',\n",
    "        'ylabel':'Porciones vendidas'}]\n",
    "\n",
    "graf = vis.planoCartesiano(par=par)\n",
    "\n",
    "for c in range(1,6):\n",
    "    y = chilogisticos(a,b,c,x)     # Codominio  \n",
    "    graf.plot(x=x, y=y, par={'label':'f($x$)'})\n",
    "\n",
    "graf.scatter(x=semanas, y=porciones, par={'color':'purple', 'zorder':5})\n",
    "\n",
    "xpred = np.arange(11,20,1)\n",
    "graf.scatter(x=xpred, y=chilogisticos(a,b,c,xpred), par={'color':'black', \n",
    "                                                         'zorder':5, \n",
    "                                                         'marker':'.'})\n",
    "\n",
    "graf.ticks(xticks = [i for i in range(20)])\n",
    "\n",
    "graf.show()"
   ]
  },
  {
   "cell_type": "markdown",
   "metadata": {},
   "source": [
    "Como se puede observar, es posible modelar la venta de chilaquiles usando una función de tipo logístico. Solo se deben encontrar los valores adecuados de $a$, $b$ y $c$. En las graficas anteriores, la curva que más se acerca es aquella con $c=3$ (pruebe con 3.5). \n",
    "\n",
    "Lo que se puede ver es que después de que las ventas alcanzan 60 porciones por semana, ya no hay un incremento y se estabilizan en ese valor (ver los puntos negros). Es probable que ya se hayan alcanzado a todos los clientes posibles que gustan de chilaquiles, por lo que el negocio no se ve que crezca mucho en el futuro. Por lo tanto, la respuesta a la pregunta de si es mejor dejar la Universidad y dedicarse al negocio de chilaquiles es negativa (al menos con este modelo).  \n",
    "\n",
    "Más ejemplos y formalismos de este tema se pueden ver \n",
    "<a href=\"./01_Funciones_formalismos_y_ejemplos.ipynb\">aquí. </a>"
   ]
  }
 ],
 "metadata": {
  "colab": {
   "authorship_tag": "ABX9TyMayHglXRSCuqh3AT64lqI1",
   "collapsed_sections": [],
   "include_colab_link": true,
   "name": "Funciones.ipynb",
   "provenance": []
  },
  "kernelspec": {
   "display_name": "Python 3",
   "language": "python",
   "name": "python3"
  },
  "language_info": {
   "codemirror_mode": {
    "name": "ipython",
    "version": 3
   },
   "file_extension": ".py",
   "mimetype": "text/x-python",
   "name": "python",
   "nbconvert_exporter": "python",
   "pygments_lexer": "ipython3",
   "version": "3.7.3"
  }
 },
 "nbformat": 4,
 "nbformat_minor": 1
}
