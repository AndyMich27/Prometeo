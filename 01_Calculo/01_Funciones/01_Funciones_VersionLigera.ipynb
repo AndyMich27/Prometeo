{
  "nbformat": 4,
  "nbformat_minor": 0,
  "metadata": {
    "colab": {
      "name": "01_Funciones_VersionLigera.ipynb",
      "provenance": [],
      "collapsed_sections": [],
      "toc_visible": true
    },
    "kernelspec": {
      "display_name": "Python 3",
      "language": "python",
      "name": "python3"
    },
    "language_info": {
      "codemirror_mode": {
        "name": "ipython",
        "version": 3
      },
      "file_extension": ".py",
      "mimetype": "text/x-python",
      "name": "python",
      "nbconvert_exporter": "python",
      "pygments_lexer": "ipython3",
      "version": "3.7.3"
    },
    "widgets": {
      "application/vnd.jupyter.widget-state+json": {
        "ca942a86f8d04fd6b95ea5fa511f4100": {
          "model_module": "@jupyter-widgets/controls",
          "model_name": "VBoxModel",
          "state": {
            "_view_name": "VBoxView",
            "_dom_classes": [
              "widget-interact"
            ],
            "_model_name": "VBoxModel",
            "_view_module": "@jupyter-widgets/controls",
            "_model_module_version": "1.5.0",
            "_view_count": null,
            "_view_module_version": "1.5.0",
            "box_style": "",
            "layout": "IPY_MODEL_a5e032e611584095859c36c471e8b432",
            "_model_module": "@jupyter-widgets/controls",
            "children": [
              "IPY_MODEL_0db7821abcc2458da5ed6b7834392b55",
              "IPY_MODEL_3f5ecfa5790845ca871b22364249f78c"
            ]
          }
        },
        "a5e032e611584095859c36c471e8b432": {
          "model_module": "@jupyter-widgets/base",
          "model_name": "LayoutModel",
          "state": {
            "_view_name": "LayoutView",
            "grid_template_rows": null,
            "right": null,
            "justify_content": null,
            "_view_module": "@jupyter-widgets/base",
            "overflow": null,
            "_model_module_version": "1.2.0",
            "_view_count": null,
            "flex_flow": null,
            "width": null,
            "min_width": null,
            "border": null,
            "align_items": null,
            "bottom": null,
            "_model_module": "@jupyter-widgets/base",
            "top": null,
            "grid_column": null,
            "overflow_y": null,
            "overflow_x": null,
            "grid_auto_flow": null,
            "grid_area": null,
            "grid_template_columns": null,
            "flex": null,
            "_model_name": "LayoutModel",
            "justify_items": null,
            "grid_row": null,
            "max_height": null,
            "align_content": null,
            "visibility": null,
            "align_self": null,
            "height": null,
            "min_height": null,
            "padding": null,
            "grid_auto_rows": null,
            "grid_gap": null,
            "max_width": null,
            "order": null,
            "_view_module_version": "1.2.0",
            "grid_template_areas": null,
            "object_position": null,
            "object_fit": null,
            "grid_auto_columns": null,
            "margin": null,
            "display": null,
            "left": null
          }
        },
        "0db7821abcc2458da5ed6b7834392b55": {
          "model_module": "@jupyter-widgets/controls",
          "model_name": "FloatSliderModel",
          "state": {
            "_view_name": "FloatSliderView",
            "style": "IPY_MODEL_c282eea182b142d49ffa5d5e61cf13e5",
            "_dom_classes": [],
            "description": "x0",
            "step": 0.1,
            "_model_name": "FloatSliderModel",
            "orientation": "horizontal",
            "max": 10,
            "_view_module": "@jupyter-widgets/controls",
            "_model_module_version": "1.5.0",
            "value": 0,
            "_view_count": null,
            "disabled": false,
            "_view_module_version": "1.5.0",
            "min": 0,
            "continuous_update": true,
            "readout_format": ".2f",
            "description_tooltip": null,
            "readout": true,
            "_model_module": "@jupyter-widgets/controls",
            "layout": "IPY_MODEL_2175086a387c466ebb008e39e0a6c00e"
          }
        },
        "3f5ecfa5790845ca871b22364249f78c": {
          "model_module": "@jupyter-widgets/output",
          "model_name": "OutputModel",
          "state": {
            "_view_name": "OutputView",
            "msg_id": "",
            "_dom_classes": [],
            "_model_name": "OutputModel",
            "outputs": [
              {
                "output_type": "display_data",
                "metadata": {
                  "tags": [],
                  "needs_background": "light"
                },
                "image/png": "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\n",
                "text/plain": "<Figure size 720x360 with 1 Axes>"
              }
            ],
            "_view_module": "@jupyter-widgets/output",
            "_model_module_version": "1.0.0",
            "_view_count": null,
            "_view_module_version": "1.0.0",
            "layout": "IPY_MODEL_ce1719243d3247cf908bcf5020335b93",
            "_model_module": "@jupyter-widgets/output"
          }
        },
        "c282eea182b142d49ffa5d5e61cf13e5": {
          "model_module": "@jupyter-widgets/controls",
          "model_name": "SliderStyleModel",
          "state": {
            "_view_name": "StyleView",
            "handle_color": null,
            "_model_name": "SliderStyleModel",
            "description_width": "",
            "_view_module": "@jupyter-widgets/base",
            "_model_module_version": "1.5.0",
            "_view_count": null,
            "_view_module_version": "1.2.0",
            "_model_module": "@jupyter-widgets/controls"
          }
        },
        "2175086a387c466ebb008e39e0a6c00e": {
          "model_module": "@jupyter-widgets/base",
          "model_name": "LayoutModel",
          "state": {
            "_view_name": "LayoutView",
            "grid_template_rows": null,
            "right": null,
            "justify_content": null,
            "_view_module": "@jupyter-widgets/base",
            "overflow": null,
            "_model_module_version": "1.2.0",
            "_view_count": null,
            "flex_flow": null,
            "width": null,
            "min_width": null,
            "border": null,
            "align_items": null,
            "bottom": null,
            "_model_module": "@jupyter-widgets/base",
            "top": null,
            "grid_column": null,
            "overflow_y": null,
            "overflow_x": null,
            "grid_auto_flow": null,
            "grid_area": null,
            "grid_template_columns": null,
            "flex": null,
            "_model_name": "LayoutModel",
            "justify_items": null,
            "grid_row": null,
            "max_height": null,
            "align_content": null,
            "visibility": null,
            "align_self": null,
            "height": null,
            "min_height": null,
            "padding": null,
            "grid_auto_rows": null,
            "grid_gap": null,
            "max_width": null,
            "order": null,
            "_view_module_version": "1.2.0",
            "grid_template_areas": null,
            "object_position": null,
            "object_fit": null,
            "grid_auto_columns": null,
            "margin": null,
            "display": null,
            "left": null
          }
        },
        "ce1719243d3247cf908bcf5020335b93": {
          "model_module": "@jupyter-widgets/base",
          "model_name": "LayoutModel",
          "state": {
            "_view_name": "LayoutView",
            "grid_template_rows": null,
            "right": null,
            "justify_content": null,
            "_view_module": "@jupyter-widgets/base",
            "overflow": null,
            "_model_module_version": "1.2.0",
            "_view_count": null,
            "flex_flow": null,
            "width": null,
            "min_width": null,
            "border": null,
            "align_items": null,
            "bottom": null,
            "_model_module": "@jupyter-widgets/base",
            "top": null,
            "grid_column": null,
            "overflow_y": null,
            "overflow_x": null,
            "grid_auto_flow": null,
            "grid_area": null,
            "grid_template_columns": null,
            "flex": null,
            "_model_name": "LayoutModel",
            "justify_items": null,
            "grid_row": null,
            "max_height": null,
            "align_content": null,
            "visibility": null,
            "align_self": null,
            "height": null,
            "min_height": null,
            "padding": null,
            "grid_auto_rows": null,
            "grid_gap": null,
            "max_width": null,
            "order": null,
            "_view_module_version": "1.2.0",
            "grid_template_areas": null,
            "object_position": null,
            "object_fit": null,
            "grid_auto_columns": null,
            "margin": null,
            "display": null,
            "left": null
          }
        }
      }
    }
  },
  "cells": [
    {
      "cell_type": "markdown",
      "metadata": {
        "id": "pf1dSJ9Sy7pP"
      },
      "source": [
        "\n",
        "# Funciones\n",
        "## Trabajo realizado con el apoyo del Programa UNAM-DGAPA-PAPIME PE101019\n",
        "\n",
        "*   Autores: \n",
        "    - José de Jesús Tapia López\n",
        "    - Luis M. de la Cruz Salas\n",
        "*   Rev: mar nov 10 12:35:18 CDT 2020"
      ]
    },
    {
      "cell_type": "code",
      "metadata": {
        "colab": {
          "base_uri": "https://localhost:8080/"
        },
        "id": "O7UsKCGkmvwP",
        "outputId": "a38d5592-e746-4027-be17-278cbe97a8ba"
      },
      "source": [
        "# COLAB\r\n",
        "#!git clone https://github.com/jugernaut/Prometeo.gitb #rama  master\r\n",
        "!git clone --branch desarrollo https://github.com/jugernaut/Prometeo.git #rama desarrollo \r\n",
        "import Prometeo.Utils.gutils as vis\r\n",
        "\r\n",
        "# Linux, MacOS y windows\r\n",
        "#import os, sys\r\n",
        "#sys.path.insert(0, os.path.abspath('../../'))\r\n",
        "#import Utils.gutils as vis\r\n",
        "\r\n",
        "import numpy as np\r\n",
        "%matplotlib inline"
      ],
      "execution_count": null,
      "outputs": [
        {
          "output_type": "stream",
          "text": [
            "Cloning into 'Prometeo'...\n",
            "remote: Enumerating objects: 275, done.\u001b[K\n",
            "remote: Counting objects: 100% (275/275), done.\u001b[K\n",
            "remote: Compressing objects: 100% (263/263), done.\u001b[K\n",
            "remote: Total 1970 (delta 168), reused 14 (delta 8), pack-reused 1695\u001b[K\n",
            "Receiving objects: 100% (1970/1970), 14.11 MiB | 24.13 MiB/s, done.\n",
            "Resolving deltas: 100% (1240/1240), done.\n"
          ],
          "name": "stdout"
        }
      ]
    },
    {
      "cell_type": "markdown",
      "metadata": {
        "id": "Y0-q_VgnOxQm"
      },
      "source": [
        "# Funciones\n",
        "\n",
        "En la clase de Cálculo se definen las funciones como sigue:\n",
        "\n",
        "***\n",
        "## Definición\n",
        "\n",
        "Sean $A$ y $B$ dos conjuntos. Una relación $f$ se llama una función de $A$ en $B$ si y sólo si *a cada elemento de $A$ le corresponde uno y sólo un elemento de $B$*. \n",
        "***\n",
        "\n",
        "El hecho de que $f$ sea una función de $A$ en $B$  se denota como $f:A\\rightarrow B$. \n",
        "\n",
        "Al conjunto $A$ se le conoce como **dominio** de $f$ y al conjunto $B$ se le conoce como **contradominio** o **codominio** de $f$. \n",
        "\n",
        "Es común denotar $f(x) = y$, lo que nos dice es que la función $f$ transforma a $x$ en $y$. Se debe cumplir además que $x \\in A$ y $y \\in B$.\n",
        "\n",
        "La notación $f(x) = y$ es conveniente cuando se hacen gráficos de la función, pues el eje horizontal $x$ representará al dominio, mientras que el eje vertical $y$ representará al contradominio, lo anterior en el plano Cartesiano.\n",
        " \n",
        "En otras palabras, podemos decir que una función es una regla de correspondencia que asigna a cada elemento del dominio, un único elemento del contradominio.\n"
      ]
    },
    {
      "cell_type": "markdown",
      "metadata": {
        "id": "IKXDj3b561Z9"
      },
      "source": [
        "### Ejemplo: función logística\n",
        "La función logística genera una curva en forma de S y es una función que suele usarse para modelar diversos comportamientos como la difusión de información en redes sociales, crecimiento de poblaciones, propagación de enfermedades, entre otras. Su definición es la siguiente:\n",
        "\n",
        "$\\displaystyle\n",
        "f(x) = \\frac{1}{1+e^{-x}}\n",
        "$\n",
        "\n",
        "Su gráfica en el intervalo $x \\in [-10,10]$ es la siguiente. Además, el usuario puede cambiar en tiempo real con el slider el valor de $x$ actual y su correspondiente valor valuado en la función $f(x)$:"
      ]
    },
    {
      "cell_type": "code",
      "metadata": {
        "colab": {
          "base_uri": "https://localhost:8080/",
          "height": 418,
          "referenced_widgets": [
            "ca942a86f8d04fd6b95ea5fa511f4100",
            "a5e032e611584095859c36c471e8b432",
            "0db7821abcc2458da5ed6b7834392b55",
            "3f5ecfa5790845ca871b22364249f78c",
            "c282eea182b142d49ffa5d5e61cf13e5",
            "2175086a387c466ebb008e39e0a6c00e",
            "ce1719243d3247cf908bcf5020335b93"
          ]
        },
        "id": "1VHkDMU5pSB9",
        "outputId": "9bbd066d-d825-41bc-e466-8a18f8f99d8b"
      },
      "source": [
        "\r\n",
        "\r\n",
        "def funcionLogistica(x, x0, f):\r\n",
        "    y = f(x)                   # Codominio\r\n",
        "    y0 = f(x0)\r\n",
        "    par = [{'title':'Gráfica de la función $f(x) = \\dfrac{1}{1+e^{-x}}$  en [-10,10]',\r\n",
        "            'xlabel':'Dominio',\r\n",
        "            'ylabel':'Contradominio'}]\r\n",
        "\r\n",
        "    graf = vis.planoCartesiano(par=par)\r\n",
        "    graf.plot(x=x, y=y)\r\n",
        "    graf.scatter(x=x0, y=y0, par={'color':'purple', 'zorder':5})\r\n",
        "    graf.scatter(x=x0, y=0, par={'color':'brown', 'zorder':5})\r\n",
        "    \r\n",
        "    graf.annotate(par={'text':'Valor de $Y$ actual: '+ str(y0), 'xy':(x0, y0), 'xytext':(x0+0.05,y0+0.05), \r\n",
        "                       'xycoords':'data','textcoords':'data', 'fontsize':12, 'color':'green',\r\n",
        "                       'bbox':{'boxstyle':'round','pad':0.2, 'fc':'yellow', 'alpha':0.3},\r\n",
        "                       'arrowprops':{'arrowstyle':'->', 'connectionstyle':'arc3', 'color':'black'}\r\n",
        "                      })\r\n",
        "    graf.annotate(par={'text':'Valor de $X$ actual: '+ str(x0), 'xy':(x0, 0), 'xytext':(x0,0.05), \r\n",
        "                       'xycoords':'data','textcoords':'data', 'fontsize':12, 'color':'red',\r\n",
        "                       'bbox':{'boxstyle':'round','pad':0.2, 'fc':'yellow', 'alpha':0.3},\r\n",
        "                       'arrowprops':{'arrowstyle':'->', 'connectionstyle':'arc3', 'color':'black'}\r\n",
        "                      })\r\n",
        "    graf.show()\r\n",
        "\r\n",
        "f = lambda x: 1 / (1 + np.exp(-x))\r\n",
        "x = np.linspace(-10,10,10000) \r\n",
        "w = interact(funcionLogistica,\r\n",
        "             x = fixed(x),\r\n",
        "             x0 = widgets.FloatSlider(min=0, max=10, step=0.1, value=0),\r\n",
        "             f = fixed(f))\r\n",
        "display(w)\r\n"
      ],
      "execution_count": null,
      "outputs": [
        {
          "output_type": "display_data",
          "data": {
            "application/vnd.jupyter.widget-view+json": {
              "model_id": "ca942a86f8d04fd6b95ea5fa511f4100",
              "version_minor": 0,
              "version_major": 2
            },
            "text/plain": [
              "interactive(children=(FloatSlider(value=0.0, description='x0', max=10.0), Output()), _dom_classes=('widget-int…"
            ]
          },
          "metadata": {
            "tags": []
          }
        },
        {
          "output_type": "display_data",
          "data": {
            "text/plain": [
              "<function __main__.funcionLogistica>"
            ]
          },
          "metadata": {
            "tags": []
          }
        }
      ]
    }
  ]
}