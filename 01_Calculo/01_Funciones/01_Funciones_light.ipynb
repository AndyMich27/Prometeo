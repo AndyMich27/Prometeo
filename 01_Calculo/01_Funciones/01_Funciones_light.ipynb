{
  "nbformat": 4,
  "nbformat_minor": 0,
  "metadata": {
    "colab": {
      "name": "01_Funciones_VersionLigera.ipynb",
      "provenance": [],
      "collapsed_sections": [],
      "toc_visible": true,
      "include_colab_link": true
    },
    "kernelspec": {
      "display_name": "Python 3",
      "language": "python",
      "name": "python3"
    },
    "language_info": {
      "codemirror_mode": {
        "name": "ipython",
        "version": 3
      },
      "file_extension": ".py",
      "mimetype": "text/x-python",
      "name": "python",
      "nbconvert_exporter": "python",
      "pygments_lexer": "ipython3",
      "version": "3.7.3"
    },
    "widgets": {
      "application/vnd.jupyter.widget-state+json": {
        "25a6e7344dfa42679c154680c3988b0c": {
          "model_module": "@jupyter-widgets/controls",
          "model_name": "VBoxModel",
          "state": {
            "_view_name": "VBoxView",
            "_dom_classes": [
              "widget-interact"
            ],
            "_model_name": "VBoxModel",
            "_view_module": "@jupyter-widgets/controls",
            "_model_module_version": "1.5.0",
            "_view_count": null,
            "_view_module_version": "1.5.0",
            "box_style": "",
            "layout": "IPY_MODEL_38e225c26a97410cbe317d9a325a2414",
            "_model_module": "@jupyter-widgets/controls",
            "children": [
              "IPY_MODEL_ada481351d964d9199cbf89452797654",
              "IPY_MODEL_617fd61d736f4676bc05a9d77478561c"
            ]
          }
        },
        "38e225c26a97410cbe317d9a325a2414": {
          "model_module": "@jupyter-widgets/base",
          "model_name": "LayoutModel",
          "state": {
            "_view_name": "LayoutView",
            "grid_template_rows": null,
            "right": null,
            "justify_content": null,
            "_view_module": "@jupyter-widgets/base",
            "overflow": null,
            "_model_module_version": "1.2.0",
            "_view_count": null,
            "flex_flow": null,
            "width": null,
            "min_width": null,
            "border": null,
            "align_items": null,
            "bottom": null,
            "_model_module": "@jupyter-widgets/base",
            "top": null,
            "grid_column": null,
            "overflow_y": null,
            "overflow_x": null,
            "grid_auto_flow": null,
            "grid_area": null,
            "grid_template_columns": null,
            "flex": null,
            "_model_name": "LayoutModel",
            "justify_items": null,
            "grid_row": null,
            "max_height": null,
            "align_content": null,
            "visibility": null,
            "align_self": null,
            "height": null,
            "min_height": null,
            "padding": null,
            "grid_auto_rows": null,
            "grid_gap": null,
            "max_width": null,
            "order": null,
            "_view_module_version": "1.2.0",
            "grid_template_areas": null,
            "object_position": null,
            "object_fit": null,
            "grid_auto_columns": null,
            "margin": null,
            "display": null,
            "left": null
          }
        },
        "ada481351d964d9199cbf89452797654": {
          "model_module": "@jupyter-widgets/controls",
          "model_name": "FloatSliderModel",
          "state": {
            "_view_name": "FloatSliderView",
            "style": "IPY_MODEL_02966cfcac26456bae97fae6420b2884",
            "_dom_classes": [],
            "description": "x0",
            "step": 0.1,
            "_model_name": "FloatSliderModel",
            "orientation": "horizontal",
            "max": 10,
            "_view_module": "@jupyter-widgets/controls",
            "_model_module_version": "1.5.0",
            "value": 4.4,
            "_view_count": null,
            "disabled": false,
            "_view_module_version": "1.5.0",
            "min": 0,
            "continuous_update": true,
            "readout_format": ".2f",
            "description_tooltip": null,
            "readout": true,
            "_model_module": "@jupyter-widgets/controls",
            "layout": "IPY_MODEL_6ed6506c743146a88f135eaa69093d32"
          }
        },
        "617fd61d736f4676bc05a9d77478561c": {
          "model_module": "@jupyter-widgets/output",
          "model_name": "OutputModel",
          "state": {
            "_view_name": "OutputView",
            "msg_id": "",
            "_dom_classes": [],
            "_model_name": "OutputModel",
            "outputs": [
              {
                "output_type": "display_data",
                "metadata": {
                  "tags": [],
                  "needs_background": "light"
                },
                "image/png": "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\n",
                "text/plain": "<Figure size 720x360 with 1 Axes>"
              }
            ],
            "_view_module": "@jupyter-widgets/output",
            "_model_module_version": "1.0.0",
            "_view_count": null,
            "_view_module_version": "1.0.0",
            "layout": "IPY_MODEL_319a28a46dab461392f9bca139212276",
            "_model_module": "@jupyter-widgets/output"
          }
        },
        "02966cfcac26456bae97fae6420b2884": {
          "model_module": "@jupyter-widgets/controls",
          "model_name": "SliderStyleModel",
          "state": {
            "_view_name": "StyleView",
            "handle_color": null,
            "_model_name": "SliderStyleModel",
            "description_width": "",
            "_view_module": "@jupyter-widgets/base",
            "_model_module_version": "1.5.0",
            "_view_count": null,
            "_view_module_version": "1.2.0",
            "_model_module": "@jupyter-widgets/controls"
          }
        },
        "6ed6506c743146a88f135eaa69093d32": {
          "model_module": "@jupyter-widgets/base",
          "model_name": "LayoutModel",
          "state": {
            "_view_name": "LayoutView",
            "grid_template_rows": null,
            "right": null,
            "justify_content": null,
            "_view_module": "@jupyter-widgets/base",
            "overflow": null,
            "_model_module_version": "1.2.0",
            "_view_count": null,
            "flex_flow": null,
            "width": null,
            "min_width": null,
            "border": null,
            "align_items": null,
            "bottom": null,
            "_model_module": "@jupyter-widgets/base",
            "top": null,
            "grid_column": null,
            "overflow_y": null,
            "overflow_x": null,
            "grid_auto_flow": null,
            "grid_area": null,
            "grid_template_columns": null,
            "flex": null,
            "_model_name": "LayoutModel",
            "justify_items": null,
            "grid_row": null,
            "max_height": null,
            "align_content": null,
            "visibility": null,
            "align_self": null,
            "height": null,
            "min_height": null,
            "padding": null,
            "grid_auto_rows": null,
            "grid_gap": null,
            "max_width": null,
            "order": null,
            "_view_module_version": "1.2.0",
            "grid_template_areas": null,
            "object_position": null,
            "object_fit": null,
            "grid_auto_columns": null,
            "margin": null,
            "display": null,
            "left": null
          }
        },
        "319a28a46dab461392f9bca139212276": {
          "model_module": "@jupyter-widgets/base",
          "model_name": "LayoutModel",
          "state": {
            "_view_name": "LayoutView",
            "grid_template_rows": null,
            "right": null,
            "justify_content": null,
            "_view_module": "@jupyter-widgets/base",
            "overflow": null,
            "_model_module_version": "1.2.0",
            "_view_count": null,
            "flex_flow": null,
            "width": null,
            "min_width": null,
            "border": null,
            "align_items": null,
            "bottom": null,
            "_model_module": "@jupyter-widgets/base",
            "top": null,
            "grid_column": null,
            "overflow_y": null,
            "overflow_x": null,
            "grid_auto_flow": null,
            "grid_area": null,
            "grid_template_columns": null,
            "flex": null,
            "_model_name": "LayoutModel",
            "justify_items": null,
            "grid_row": null,
            "max_height": null,
            "align_content": null,
            "visibility": null,
            "align_self": null,
            "height": null,
            "min_height": null,
            "padding": null,
            "grid_auto_rows": null,
            "grid_gap": null,
            "max_width": null,
            "order": null,
            "_view_module_version": "1.2.0",
            "grid_template_areas": null,
            "object_position": null,
            "object_fit": null,
            "grid_auto_columns": null,
            "margin": null,
            "display": null,
            "left": null
          }
        }
      }
    }
  },
  "cells": [
    {
      "cell_type": "markdown",
      "metadata": {
        "id": "view-in-github",
        "colab_type": "text"
      },
      "source": [
        "<a href=\"https://colab.research.google.com/github/jugernaut/Prometeo/blob/ligera/01_Calculo/01_Funciones/01_Funciones_light.ipynb\" target=\"_parent\"><img src=\"https://colab.research.google.com/assets/colab-badge.svg\" alt=\"Open In Colab\"/></a>"
      ]
    },
    {
      "cell_type": "markdown",
      "metadata": {
        "id": "pf1dSJ9Sy7pP"
      },
      "source": [
        "\n",
        "# Funciones\n",
        "## Trabajo realizado con el apoyo del Programa UNAM-DGAPA-PAPIME PE101019\n",
        "\n",
        "*   Autores: \n",
        "    - José de Jesús Tapia López\n",
        "    - Luis M. de la Cruz Salas\n",
        "*   Rev: mar nov 10 12:35:18 CDT 2020"
      ]
    },
    {
      "cell_type": "code",
      "metadata": {
        "colab": {
          "base_uri": "https://localhost:8080/"
        },
        "id": "O7UsKCGkmvwP",
        "outputId": "05fdbb12-54fa-4c57-a66f-2372faef7ccd"
      },
      "source": [
        "# COLAB\r\n",
        "#!git clone https://github.com/jugernaut/Prometeo.gitb #rama  master\r\n",
        "!git clone --branch desarrollo https://github.com/jugernaut/Prometeo.git #rama desarrollo \r\n",
        "import Prometeo.Utils.gutils as vis\r\n",
        "\r\n",
        "# Linux, MacOS y windows\r\n",
        "#import os, sys\r\n",
        "#sys.path.insert(0, os.path.abspath('../../'))\r\n",
        "#import Utils.gutils as vis\r\n",
        "\r\n",
        "import numpy as np\r\n",
        "%matplotlib inline"
      ],
      "execution_count": 1,
      "outputs": [
        {
          "output_type": "stream",
          "text": [
            "Cloning into 'Prometeo'...\n",
            "remote: Enumerating objects: 92, done.\u001b[K\n",
            "remote: Counting objects: 100% (92/92), done.\u001b[K\n",
            "remote: Compressing objects: 100% (92/92), done.\u001b[K\n",
            "remote: Total 2157 (delta 42), reused 0 (delta 0), pack-reused 2065\u001b[K\n",
            "Receiving objects: 100% (2157/2157), 13.03 MiB | 17.47 MiB/s, done.\n",
            "Resolving deltas: 100% (1367/1367), done.\n"
          ],
          "name": "stdout"
        }
      ]
    },
    {
      "cell_type": "markdown",
      "metadata": {
        "id": "Y0-q_VgnOxQm"
      },
      "source": [
        "# Funciones\n",
        "\n",
        "En la clase de Cálculo se definen las funciones como sigue:\n",
        "\n",
        "***\n",
        "## Definición\n",
        "\n",
        "Sean $A$ y $B$ dos conjuntos. Una relación $f$ se llama una función de $A$ en $B$ si y sólo si *a cada elemento de $A$ le corresponde uno y sólo un elemento de $B$*. \n",
        "***\n",
        "\n",
        "El hecho de que $f$ sea una función de $A$ en $B$  se denota como $f:A\\rightarrow B$. \n",
        "\n",
        "Al conjunto $A$ se le conoce como **dominio** de $f$ y al conjunto $B$ se le conoce como **contradominio** o **codominio** de $f$. \n",
        "\n",
        "Es común denotar $f(x) = y$, lo que nos dice es que la función $f$ transforma a $x$ en $y$. Se debe cumplir además que $x \\in A$ y $y \\in B$.\n",
        "\n",
        "La notación $f(x) = y$ es conveniente cuando se hacen gráficos de la función, pues el eje horizontal $x$ representará al dominio, mientras que el eje vertical $y$ representará al contradominio, lo anterior en el plano Cartesiano.\n",
        " \n",
        "En otras palabras, podemos decir que una función es una regla de correspondencia que asigna a cada elemento del dominio, un único elemento del contradominio.\n"
      ]
    },
    {
      "cell_type": "markdown",
      "metadata": {
        "id": "IKXDj3b561Z9"
      },
      "source": [
        "### Ejemplo: función logística\n",
        "La función logística genera una curva en forma de S y es una función que suele usarse para modelar diversos comportamientos como la difusión de información en redes sociales, crecimiento de poblaciones, propagación de enfermedades, entre otras. Su definición es la siguiente:\n",
        "\n",
        "$\\displaystyle\n",
        "f(x) = \\frac{1}{1+e^{-x}}\n",
        "$\n",
        "\n",
        "Su gráfica en el intervalo $x \\in [-10,10]$ es la siguiente. Además, el usuario puede cambiar en tiempo real con el slider el valor de $x$ actual y su correspondiente valor valuado en la función $f(x)$:"
      ]
    },
    {
      "cell_type": "code",
      "metadata": {
        "colab": {
          "base_uri": "https://localhost:8080/",
          "height": 418,
          "referenced_widgets": [
            "25a6e7344dfa42679c154680c3988b0c",
            "38e225c26a97410cbe317d9a325a2414",
            "ada481351d964d9199cbf89452797654",
            "617fd61d736f4676bc05a9d77478561c",
            "02966cfcac26456bae97fae6420b2884",
            "6ed6506c743146a88f135eaa69093d32",
            "319a28a46dab461392f9bca139212276"
          ]
        },
        "id": "1VHkDMU5pSB9",
        "outputId": "8d934e9e-ac44-41e4-bdaa-06639f070e7c"
      },
      "source": [
        "from ipywidgets import interact, interactive, fixed\r\n",
        "import ipywidgets as widgets\r\n",
        "\r\n",
        "def funcionLogistica(x, x0, f):\r\n",
        "    y = f(x)                   # Codominio\r\n",
        "    y0 = f(x0)\r\n",
        "    par = [{'title':'Gráfica de la función $f(x) = \\dfrac{1}{1+e^{-x}}$  en [-10,10]',\r\n",
        "            'xlabel':'Dominio',\r\n",
        "            'ylabel':'Contradominio'}]\r\n",
        "\r\n",
        "    graf = vis.planoCartesiano(par=par)\r\n",
        "    graf.plot(x=x, y=y)\r\n",
        "    graf.scatter(x=x0, y=y0, par={'color':'purple', 'zorder':5})\r\n",
        "    graf.scatter(x=x0, y=0, par={'color':'brown', 'zorder':5})\r\n",
        "    \r\n",
        "    graf.annotate(par={'text':'Valor de $Y$ actual: '+ str(y0), 'xy':(x0, y0), 'xytext':(x0+0.05,y0+0.05), \r\n",
        "                       'xycoords':'data','textcoords':'data', 'fontsize':12, 'color':'green',\r\n",
        "                       'bbox':{'boxstyle':'round','pad':0.2, 'fc':'yellow', 'alpha':0.3},\r\n",
        "                       'arrowprops':{'arrowstyle':'->', 'connectionstyle':'arc3', 'color':'black'}\r\n",
        "                      })\r\n",
        "    graf.annotate(par={'text':'Valor de $X$ actual: '+ str(x0), 'xy':(x0, 0), 'xytext':(x0,0.05), \r\n",
        "                       'xycoords':'data','textcoords':'data', 'fontsize':12, 'color':'red',\r\n",
        "                       'bbox':{'boxstyle':'round','pad':0.2, 'fc':'yellow', 'alpha':0.3},\r\n",
        "                       'arrowprops':{'arrowstyle':'->', 'connectionstyle':'arc3', 'color':'black'}\r\n",
        "                      })\r\n",
        "    graf.show()\r\n",
        "\r\n",
        "f = lambda x: 1 / (1 + np.exp(-x))\r\n",
        "x = np.linspace(-10,10,10000) \r\n",
        "w = interact(funcionLogistica,\r\n",
        "             x = fixed(x),\r\n",
        "             x0 = widgets.FloatSlider(min=0, max=10, step=0.1, value=0),\r\n",
        "             f = fixed(f))\r\n",
        "display(w)\r\n"
      ],
      "execution_count": 3,
      "outputs": [
        {
          "output_type": "display_data",
          "data": {
            "application/vnd.jupyter.widget-view+json": {
              "model_id": "25a6e7344dfa42679c154680c3988b0c",
              "version_minor": 0,
              "version_major": 2
            },
            "text/plain": [
              "interactive(children=(FloatSlider(value=0.0, description='x0', max=10.0), Output()), _dom_classes=('widget-int…"
            ]
          },
          "metadata": {
            "tags": []
          }
        },
        {
          "output_type": "display_data",
          "data": {
            "text/plain": [
              "<function __main__.funcionLogistica>"
            ]
          },
          "metadata": {
            "tags": []
          }
        }
      ]
    }
  ]
}