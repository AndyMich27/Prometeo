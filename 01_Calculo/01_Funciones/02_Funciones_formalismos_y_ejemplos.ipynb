{
  "nbformat": 4,
  "nbformat_minor": 0,
  "metadata": {
    "colab": {
      "name": "Funciones.ipynb",
      "provenance": [],
      "collapsed_sections": [],
      "toc_visible": true,
      "include_colab_link": true
    },
    "kernelspec": {
      "display_name": "Python 3",
      "language": "python",
      "name": "python3"
    },
    "language_info": {
      "codemirror_mode": {
        "name": "ipython",
        "version": 3
      },
      "file_extension": ".py",
      "mimetype": "text/x-python",
      "name": "python",
      "nbconvert_exporter": "python",
      "pygments_lexer": "ipython3",
      "version": "3.7.6"
    },
    "widgets": {
      "application/vnd.jupyter.widget-state+json": {
        "064ccfaea30b45f0b05ef6e945070ed9": {
          "model_module": "@jupyter-widgets/controls",
          "model_name": "VBoxModel",
          "state": {
            "_view_name": "VBoxView",
            "_dom_classes": [
              "widget-interact"
            ],
            "_model_name": "VBoxModel",
            "_view_module": "@jupyter-widgets/controls",
            "_model_module_version": "1.5.0",
            "_view_count": null,
            "_view_module_version": "1.5.0",
            "box_style": "",
            "layout": "IPY_MODEL_4090f4b5f5c74e85a09efe9cc72484bb",
            "_model_module": "@jupyter-widgets/controls",
            "children": [
              "IPY_MODEL_67af8cd4be1d4453932bec81b42ded2a",
              "IPY_MODEL_f18dc2ffc3b847a1873cb52a810578d2",
              "IPY_MODEL_a8b806e6f1574324a54e43240a749c6c"
            ]
          }
        },
        "4090f4b5f5c74e85a09efe9cc72484bb": {
          "model_module": "@jupyter-widgets/base",
          "model_name": "LayoutModel",
          "state": {
            "_view_name": "LayoutView",
            "grid_template_rows": null,
            "right": null,
            "justify_content": null,
            "_view_module": "@jupyter-widgets/base",
            "overflow": null,
            "_model_module_version": "1.2.0",
            "_view_count": null,
            "flex_flow": null,
            "width": null,
            "min_width": null,
            "border": null,
            "align_items": null,
            "bottom": null,
            "_model_module": "@jupyter-widgets/base",
            "top": null,
            "grid_column": null,
            "overflow_y": null,
            "overflow_x": null,
            "grid_auto_flow": null,
            "grid_area": null,
            "grid_template_columns": null,
            "flex": null,
            "_model_name": "LayoutModel",
            "justify_items": null,
            "grid_row": null,
            "max_height": null,
            "align_content": null,
            "visibility": null,
            "align_self": null,
            "height": null,
            "min_height": null,
            "padding": null,
            "grid_auto_rows": null,
            "grid_gap": null,
            "max_width": null,
            "order": null,
            "_view_module_version": "1.2.0",
            "grid_template_areas": null,
            "object_position": null,
            "object_fit": null,
            "grid_auto_columns": null,
            "margin": null,
            "display": null,
            "left": null
          }
        },
        "67af8cd4be1d4453932bec81b42ded2a": {
          "model_module": "@jupyter-widgets/controls",
          "model_name": "FloatSliderModel",
          "state": {
            "_view_name": "FloatSliderView",
            "style": "IPY_MODEL_561ec6cc225d4de39f1237b1542f40a6",
            "_dom_classes": [],
            "description": "a",
            "step": 0.2,
            "_model_name": "FloatSliderModel",
            "orientation": "horizontal",
            "max": 1,
            "_view_module": "@jupyter-widgets/controls",
            "_model_module_version": "1.5.0",
            "value": 0.2,
            "_view_count": null,
            "disabled": false,
            "_view_module_version": "1.5.0",
            "min": 0.2,
            "continuous_update": true,
            "readout_format": ".2f",
            "description_tooltip": null,
            "readout": true,
            "_model_module": "@jupyter-widgets/controls",
            "layout": "IPY_MODEL_65b3e228f68b4959be078352ccf61818"
          }
        },
        "f18dc2ffc3b847a1873cb52a810578d2": {
          "model_module": "@jupyter-widgets/controls",
          "model_name": "FloatSliderModel",
          "state": {
            "_view_name": "FloatSliderView",
            "style": "IPY_MODEL_99621ab631bb4b239a873abee624f310",
            "_dom_classes": [],
            "description": "w",
            "step": 2,
            "_model_name": "FloatSliderModel",
            "orientation": "horizontal",
            "max": 40,
            "_view_module": "@jupyter-widgets/controls",
            "_model_module_version": "1.5.0",
            "value": 40,
            "_view_count": null,
            "disabled": false,
            "_view_module_version": "1.5.0",
            "min": 1,
            "continuous_update": true,
            "readout_format": ".2f",
            "description_tooltip": null,
            "readout": true,
            "_model_module": "@jupyter-widgets/controls",
            "layout": "IPY_MODEL_ebd13df31f814989822b3b04db0cfd04"
          }
        },
        "a8b806e6f1574324a54e43240a749c6c": {
          "model_module": "@jupyter-widgets/output",
          "model_name": "OutputModel",
          "state": {
            "_view_name": "OutputView",
            "msg_id": "",
            "_dom_classes": [],
            "_model_name": "OutputModel",
            "outputs": [
              {
                "output_type": "pyerr",
                "metadata": {
                  "tags": []
                },
                "ename": "NameError",
                "evalue": "ignored",
                "traceback": [
                  "\u001b[0;31m---------------------------------------------------------------------------\u001b[0m",
                  "\u001b[0;31mNameError\u001b[0m                                 Traceback (most recent call last)",
                  "\u001b[0;32m/usr/local/lib/python3.6/dist-packages/ipywidgets/widgets/interaction.py\u001b[0m in \u001b[0;36mupdate\u001b[0;34m(self, *args)\u001b[0m\n\u001b[1;32m    254\u001b[0m                     \u001b[0mvalue\u001b[0m \u001b[0;34m=\u001b[0m \u001b[0mwidget\u001b[0m\u001b[0;34m.\u001b[0m\u001b[0mget_interact_value\u001b[0m\u001b[0;34m(\u001b[0m\u001b[0;34m)\u001b[0m\u001b[0;34m\u001b[0m\u001b[0;34m\u001b[0m\u001b[0m\n\u001b[1;32m    255\u001b[0m                     \u001b[0mself\u001b[0m\u001b[0;34m.\u001b[0m\u001b[0mkwargs\u001b[0m\u001b[0;34m[\u001b[0m\u001b[0mwidget\u001b[0m\u001b[0;34m.\u001b[0m\u001b[0m_kwarg\u001b[0m\u001b[0;34m]\u001b[0m \u001b[0;34m=\u001b[0m \u001b[0mvalue\u001b[0m\u001b[0;34m\u001b[0m\u001b[0;34m\u001b[0m\u001b[0m\n\u001b[0;32m--> 256\u001b[0;31m                 \u001b[0mself\u001b[0m\u001b[0;34m.\u001b[0m\u001b[0mresult\u001b[0m \u001b[0;34m=\u001b[0m \u001b[0mself\u001b[0m\u001b[0;34m.\u001b[0m\u001b[0mf\u001b[0m\u001b[0;34m(\u001b[0m\u001b[0;34m**\u001b[0m\u001b[0mself\u001b[0m\u001b[0;34m.\u001b[0m\u001b[0mkwargs\u001b[0m\u001b[0;34m)\u001b[0m\u001b[0;34m\u001b[0m\u001b[0;34m\u001b[0m\u001b[0m\n\u001b[0m\u001b[1;32m    257\u001b[0m                 \u001b[0mshow_inline_matplotlib_plots\u001b[0m\u001b[0;34m(\u001b[0m\u001b[0;34m)\u001b[0m\u001b[0;34m\u001b[0m\u001b[0;34m\u001b[0m\u001b[0m\n\u001b[1;32m    258\u001b[0m                 \u001b[0;32mif\u001b[0m \u001b[0mself\u001b[0m\u001b[0;34m.\u001b[0m\u001b[0mauto_display\u001b[0m \u001b[0;32mand\u001b[0m \u001b[0mself\u001b[0m\u001b[0;34m.\u001b[0m\u001b[0mresult\u001b[0m \u001b[0;32mis\u001b[0m \u001b[0;32mnot\u001b[0m \u001b[0;32mNone\u001b[0m\u001b[0;34m:\u001b[0m\u001b[0;34m\u001b[0m\u001b[0;34m\u001b[0m\u001b[0m\n",
                  "\u001b[0;32m<ipython-input-1-30ff1f31112a>\u001b[0m in \u001b[0;36mVi\u001b[0;34m(a, w)\u001b[0m\n\u001b[1;32m      7\u001b[0m             'ylabel':'$V(t)$ [lb / in$^2$]'}, \n\u001b[1;32m      8\u001b[0m           ]\n\u001b[0;32m----> 9\u001b[0;31m     \u001b[0mt\u001b[0m\u001b[0;34m=\u001b[0m\u001b[0mnp\u001b[0m\u001b[0;34m.\u001b[0m\u001b[0marange\u001b[0m\u001b[0;34m(\u001b[0m\u001b[0;36m0\u001b[0m\u001b[0;34m,\u001b[0m\u001b[0;36m0.5\u001b[0m\u001b[0;34m,\u001b[0m\u001b[0;36m0.001\u001b[0m\u001b[0;34m)\u001b[0m\u001b[0;34m\u001b[0m\u001b[0;34m\u001b[0m\u001b[0m\n\u001b[0m\u001b[1;32m     10\u001b[0m     \u001b[0mgraf\u001b[0m \u001b[0;34m=\u001b[0m \u001b[0mvis\u001b[0m\u001b[0;34m.\u001b[0m\u001b[0mplanoCartesiano\u001b[0m\u001b[0;34m(\u001b[0m\u001b[0mpar\u001b[0m\u001b[0;34m=\u001b[0m\u001b[0mpar\u001b[0m\u001b[0;34m)\u001b[0m\u001b[0;34m\u001b[0m\u001b[0;34m\u001b[0m\u001b[0m\n\u001b[1;32m     11\u001b[0m     \u001b[0mgraf\u001b[0m\u001b[0;34m.\u001b[0m\u001b[0mplot\u001b[0m\u001b[0;34m(\u001b[0m\u001b[0mx\u001b[0m \u001b[0;34m=\u001b[0m \u001b[0mt\u001b[0m\u001b[0;34m,\u001b[0m \u001b[0my\u001b[0m \u001b[0;34m=\u001b[0m \u001b[0ma\u001b[0m\u001b[0;34m*\u001b[0m\u001b[0mnp\u001b[0m\u001b[0;34m.\u001b[0m\u001b[0msin\u001b[0m\u001b[0;34m(\u001b[0m\u001b[0mw\u001b[0m\u001b[0;34m*\u001b[0m\u001b[0;36m2\u001b[0m\u001b[0;34m*\u001b[0m\u001b[0mnp\u001b[0m\u001b[0;34m.\u001b[0m\u001b[0mpi\u001b[0m\u001b[0;34m*\u001b[0m\u001b[0mt\u001b[0m\u001b[0;34m)\u001b[0m\u001b[0;34m)\u001b[0m\u001b[0;34m\u001b[0m\u001b[0;34m\u001b[0m\u001b[0m\n",
                  "\u001b[0;31mNameError\u001b[0m: name 'np' is not defined"
                ]
              }
            ],
            "_view_module": "@jupyter-widgets/output",
            "_model_module_version": "1.0.0",
            "_view_count": null,
            "_view_module_version": "1.0.0",
            "layout": "IPY_MODEL_33d3f11d29e44d48a6a5d26a351ab94f",
            "_model_module": "@jupyter-widgets/output"
          }
        },
        "561ec6cc225d4de39f1237b1542f40a6": {
          "model_module": "@jupyter-widgets/controls",
          "model_name": "SliderStyleModel",
          "state": {
            "_view_name": "StyleView",
            "handle_color": null,
            "_model_name": "SliderStyleModel",
            "description_width": "",
            "_view_module": "@jupyter-widgets/base",
            "_model_module_version": "1.5.0",
            "_view_count": null,
            "_view_module_version": "1.2.0",
            "_model_module": "@jupyter-widgets/controls"
          }
        },
        "65b3e228f68b4959be078352ccf61818": {
          "model_module": "@jupyter-widgets/base",
          "model_name": "LayoutModel",
          "state": {
            "_view_name": "LayoutView",
            "grid_template_rows": null,
            "right": null,
            "justify_content": null,
            "_view_module": "@jupyter-widgets/base",
            "overflow": null,
            "_model_module_version": "1.2.0",
            "_view_count": null,
            "flex_flow": null,
            "width": null,
            "min_width": null,
            "border": null,
            "align_items": null,
            "bottom": null,
            "_model_module": "@jupyter-widgets/base",
            "top": null,
            "grid_column": null,
            "overflow_y": null,
            "overflow_x": null,
            "grid_auto_flow": null,
            "grid_area": null,
            "grid_template_columns": null,
            "flex": null,
            "_model_name": "LayoutModel",
            "justify_items": null,
            "grid_row": null,
            "max_height": null,
            "align_content": null,
            "visibility": null,
            "align_self": null,
            "height": null,
            "min_height": null,
            "padding": null,
            "grid_auto_rows": null,
            "grid_gap": null,
            "max_width": null,
            "order": null,
            "_view_module_version": "1.2.0",
            "grid_template_areas": null,
            "object_position": null,
            "object_fit": null,
            "grid_auto_columns": null,
            "margin": null,
            "display": null,
            "left": null
          }
        },
        "99621ab631bb4b239a873abee624f310": {
          "model_module": "@jupyter-widgets/controls",
          "model_name": "SliderStyleModel",
          "state": {
            "_view_name": "StyleView",
            "handle_color": null,
            "_model_name": "SliderStyleModel",
            "description_width": "",
            "_view_module": "@jupyter-widgets/base",
            "_model_module_version": "1.5.0",
            "_view_count": null,
            "_view_module_version": "1.2.0",
            "_model_module": "@jupyter-widgets/controls"
          }
        },
        "ebd13df31f814989822b3b04db0cfd04": {
          "model_module": "@jupyter-widgets/base",
          "model_name": "LayoutModel",
          "state": {
            "_view_name": "LayoutView",
            "grid_template_rows": null,
            "right": null,
            "justify_content": null,
            "_view_module": "@jupyter-widgets/base",
            "overflow": null,
            "_model_module_version": "1.2.0",
            "_view_count": null,
            "flex_flow": null,
            "width": null,
            "min_width": null,
            "border": null,
            "align_items": null,
            "bottom": null,
            "_model_module": "@jupyter-widgets/base",
            "top": null,
            "grid_column": null,
            "overflow_y": null,
            "overflow_x": null,
            "grid_auto_flow": null,
            "grid_area": null,
            "grid_template_columns": null,
            "flex": null,
            "_model_name": "LayoutModel",
            "justify_items": null,
            "grid_row": null,
            "max_height": null,
            "align_content": null,
            "visibility": null,
            "align_self": null,
            "height": null,
            "min_height": null,
            "padding": null,
            "grid_auto_rows": null,
            "grid_gap": null,
            "max_width": null,
            "order": null,
            "_view_module_version": "1.2.0",
            "grid_template_areas": null,
            "object_position": null,
            "object_fit": null,
            "grid_auto_columns": null,
            "margin": null,
            "display": null,
            "left": null
          }
        },
        "33d3f11d29e44d48a6a5d26a351ab94f": {
          "model_module": "@jupyter-widgets/base",
          "model_name": "LayoutModel",
          "state": {
            "_view_name": "LayoutView",
            "grid_template_rows": null,
            "right": null,
            "justify_content": null,
            "_view_module": "@jupyter-widgets/base",
            "overflow": null,
            "_model_module_version": "1.2.0",
            "_view_count": null,
            "flex_flow": null,
            "width": null,
            "min_width": null,
            "border": null,
            "align_items": null,
            "bottom": null,
            "_model_module": "@jupyter-widgets/base",
            "top": null,
            "grid_column": null,
            "overflow_y": null,
            "overflow_x": null,
            "grid_auto_flow": null,
            "grid_area": null,
            "grid_template_columns": null,
            "flex": null,
            "_model_name": "LayoutModel",
            "justify_items": null,
            "grid_row": null,
            "max_height": null,
            "align_content": null,
            "visibility": null,
            "align_self": null,
            "height": null,
            "min_height": null,
            "padding": null,
            "grid_auto_rows": null,
            "grid_gap": null,
            "max_width": null,
            "order": null,
            "_view_module_version": "1.2.0",
            "grid_template_areas": null,
            "object_position": null,
            "object_fit": null,
            "grid_auto_columns": null,
            "margin": null,
            "display": null,
            "left": null
          }
        }
      }
    }
  },
  "cells": [
    {
      "cell_type": "markdown",
      "metadata": {
        "id": "view-in-github",
        "colab_type": "text"
      },
      "source": [
        "<a href=\"https://colab.research.google.com/github/jugernaut/Prometeo/blob/desarrollo/01_Calculo/01_Funciones/02_Funciones_formalismos_y_ejemplos.ipynb\" target=\"_parent\"><img src=\"https://colab.research.google.com/assets/colab-badge.svg\" alt=\"Open In Colab\"/></a>"
      ]
    },
    {
      "cell_type": "markdown",
      "metadata": {
        "id": "pf1dSJ9Sy7pP"
      },
      "source": [
        "\n",
        "# Funciones: formalismos y ejemplos\n",
        "## Proyecto PAPIME PE101019\n",
        "\n",
        "*   Autores: \n",
        "    - José de Jesús Tapia López\n",
        "    - Luis M. de la Cruz Salas\n",
        "*   Rev: jue sep  3 19:11:27 CDT 2020"
      ]
    },
    {
      "cell_type": "code",
      "metadata": {
        "id": "uz4n-uFeMMus"
      },
      "source": [
        "import os, sys\n",
        "sys.path.insert(0, os.path.abspath('../../Utils'))\n",
        "\n",
        "import numpy as np\n",
        "import matplotlib.pyplot as plt\n",
        "import gutils as vis\n",
        "import math\n",
        "%matplotlib inline"
      ],
      "execution_count": null,
      "outputs": []
    },
    {
      "cell_type": "markdown",
      "metadata": {
        "id": "WEm9K6EbMMuy"
      },
      "source": [
        "Una definición más formal de función es como sigue:\n",
        "\n",
        "Sean $A$ y $B$ dos conjuntos. Una función $f:A \\rightarrow B$ es una relación $f \\subseteq A$ x $B$, es decir, $f$ define un conjunto de tuplas $(x,y)$, con las siguientes propiedades:\n",
        "\n",
        "(i) Para toda $x \\in A$, existe $y \\in B$ tal que $(x,y) \\in f$. <br>\n",
        "**Nota**: En algunos textos encontrarás una notación un poco más compleja como la siguiente:\n",
        "$\\forall x \\in A, \\exists y \\in B \\wedge (x,y) \\in f$, la cual se lee así \"*para toda $x$ que esté en el conjunto $A$, existe una $y$ que está en el conjunto $B$ tal que la tupla $(x,y)$ está en el conjunto definido por $f$*\".\n",
        "\n",
        "(ii) Cada elemento de $A$ tiene asociado sólo un elemento de $B$. <br>\n",
        "**Nota**: Otra manera de expresar lo mismo es: $\\forall x \\in A$ $\\forall y_1,y_2 \\in B [((x,y_1) \\in f \\wedge (x,y_2) \\in f) \\Rightarrow y_1 = y_2 ]$\n",
        "\n",
        "\n",
        "\n",
        "Juntando las condiciones (i) y (ii), podemos decir que para toda $x \\in A$\n",
        "existe una única $y \\in B$ tal que $(x,y) \\in f$ . Entonces, si $f$ es una función de $A$ en $B$, para cada $x \\in A$ denotamos con $f(x)$ al único elemento de $B$ que le corresponde. Es decir, si $(x,y) \\in f$, entonces escribimos $f(x) = y$. A $f(x)$ le llamamos la **imagen** ($im$) de $x$ bajo $f$. \n",
        "\n",
        "En ocasiones, decimos que el elemento $x \\in A$ es mandado bajo la función $f$ a $f(x)$ y lo denotamos por $x \\mapsto f(x)$. Como una función $f : A \\rightarrow B$ es una relación binaria entre $A$ y $B$, la definición de la imagen de f es:\n",
        "\n",
        "$im(f) = \\{b \\in B : \\exists a \\in A \\wedge $(a,b)$ \\in f\\}$,\n",
        "pero entonces, como $f$ es función,\n",
        "\n",
        "$im(f)= \\{y \\in B : \\exists x \\in A f(x) = y \\} = \\{f(x) : x \\in A\\}$.\n",
        "Por lo tanto, $im(f) \\subseteq  B$."
      ]
    },
    {
      "cell_type": "markdown",
      "metadata": {
        "id": "SIF0BpsHMMuy"
      },
      "source": [
        "### Ejemplo 1\n",
        "\n",
        "A partir de la siguiente imagen vamos a definir una función:\n",
        "\n",
        "<img src=\"https://github.com/jugernaut/Prometeo/blob/master/Figuras/Relacion_madre3.png?raw=1\" width=\"300\">\n",
        "\n",
        "Sea $A$ el conjunto de todas las personas y $B$ el conjunto de todas los mujeres. Sea $R \\subseteq$  $A$ x $B$ definida como $(x, y) \\in R$ si y sólo si $x$ es hija(o) de $y$. Notemos que $A$ y $B$ son el dominio y contradominio respectivamente. Entonces $R$ es función pues cada persona tiene una madre (¡que es mujer!) y madre sólo hay una ;)\n",
        "\n",
        "En la imagen anterior podemos observar un caso particular de la función $R$. La mamá de Samantha es la señora Griselda, la mamá de Daniela es la señora Claudia, los hermanos José y Jesús tienen como madre a la señora Miriam; y finalmente la madre de Teresa es la señora Lucía. Y entonces podemos notar que conforme a la manera en que se definió dicha relación $R$, no importa que una mamá tenga dos hijos, pues a ellos les corresponde una y solo una madre, por lo que sí se cumple que $R$ sea función. \n",
        "\n",
        "Con los mismos conjuntos $A$ y $B$, definamos lo siguiente: $T\\subseteq B$ × $A$ definida como $(y, x) \\in T$ si y sólo si $y$ es madre de $x$. En este caso observamos que $T$ no es función pues no toda mujer tiene hijos o hay mujeres que tienen más de un hijo. En el la imagen de arriba se ve que Miriam tiene dos hijos Jesús y José, lo cual implica que no se cumple la correspondencia uno a uno.\n",
        "\n",
        "Obsérvese también que $T$ es la inversa de $R$, es decir $T = R^{-1}$, y este ejemplo muestra que si una relación es función no necesariamente su inversa es función."
      ]
    },
    {
      "cell_type": "markdown",
      "metadata": {
        "id": "mg7R4A1vMMuz"
      },
      "source": [
        "### Ejemplo 2\n",
        "\n",
        "Sea $R = \\{(x, 8), (y, 12), (z, 7),(x, 5)\\}$. Notemos que $A = \\{x,y,z\\}$ y $B=\\{5,7,8,12\\}$ son el dominio y contradominio respectivamente.\n",
        "$R$ no es función de $A$ en $B$,  pues el elemento $x$ está relacionado tanto con el 8 como con el 5, es decir, $\\exists a \\in A $ $\\exists 8, 5 \\in B [((a, 1) \\in R \\wedge (a, 2) \\in R) \\in R \\wedge 8 \\neq 5]$ . Por lo tanto $R$ no cumple la segunda condición para ser función. \n",
        "\n",
        " En la siguiente imagen se puede ver este ejemplo, ya que a $x$ tiene asociado más de un elemento de $B$.\n",
        "\n",
        "<img src=\"https://github.com/jugernaut/Prometeo/blob/master/Figuras/Relacion_2.png?raw=1\" width=\"300\">"
      ]
    },
    {
      "cell_type": "markdown",
      "metadata": {
        "id": "kdzTeXSvMMu0"
      },
      "source": [
        "### Ejemplo 3.\n",
        "\n",
        "Sea $f \\subseteq \\mathbb{R}$ × $\\mathbb{R}$ definida como $(x,y) \\in f$ si y sólo si $y = \\sqrt{17x^2 + 4}$.\n",
        "¿Es $f$ función? \n",
        "\n",
        "Hagamos la gráfica y respondamos a la pregunta:"
      ]
    },
    {
      "cell_type": "code",
      "metadata": {
        "id": "ejf1W42eMMu1"
      },
      "source": [
        "x = np.arange(-25, 25, 0.01)         # Dominio   \n",
        "y = [np.sqrt(17*j**2+4) for j in x]  # Codominio\n",
        "\n",
        "par = [{'title':'Gráfica de la función $\\sqrt{17x^2+4}$', \n",
        "        'xlabel':'$x$',\n",
        "        'ylabel':'$y=f(x)$',\n",
        "       'ylim':(-21,100)}\n",
        "      ]\n",
        "\n",
        "graf = vis.planoCartesiano(par=par)\n",
        "graf.plot(x = x, y = y)  # Gráfica de la función\n",
        "\n",
        "# Dibujamos dos líneas horizontales\n",
        "graf.plot(x=[-25,25],y=[-15,-15],par={'c':'red','ls':'--','lw':2})\n",
        "graf.plot(x=[-25,25],y=[4/7,4/7],par={'c':'green','ls':'--','lw':2})\n",
        "\n",
        "# Hacemos algunas anotaciones sobre las gráficas\n",
        "graf.annotate(par={'text':'Recta y = -15', 'xy':(14, -15), 'xytext':(-20,20), 'fontsize':12,\n",
        "            'textcoords':'offset points', 'ha':'center', 'va':'bottom',\n",
        "            'bbox':{'boxstyle':'round','pad':0.2, 'fc':'yellow', 'alpha':0.7},\n",
        "            'arrowprops':{'arrowstyle':'->', 'connectionstyle':'arc3,rad=0.5', \n",
        "                           'color':'black'}})\n",
        "graf.annotate(par={'text':'Recta y = 4/7', 'xy':(-15, 4/7), 'xytext':(-20,20), 'fontsize':12,\n",
        "            'textcoords':'offset points', 'ha':'center', 'va':'bottom',\n",
        "            'bbox':{'boxstyle':'round','pad':0.4, 'fc':'yellow', 'alpha':0.7},\n",
        "            'arrowprops':{'arrowstyle':'->', 'connectionstyle':'arc3,rad=0.5', \n",
        "                           'color':'black'}})\n",
        "graf.show()"
      ],
      "execution_count": null,
      "outputs": []
    },
    {
      "cell_type": "markdown",
      "metadata": {
        "id": "JT7aec4jMMu5"
      },
      "source": [
        "De la gráfica podemos responder que el ejemplo si corresponde a una función, pues se observa que a todos los elementos de $\\mathbb{R}$ les corresponde uno y sólo un elemento de $\\mathbb{R}$. Esto se debe a que $0 \\le 17x^2 + 4$, por lo que su raı́z es un número real y sólo estamos considerando la raı́z positiva del número $17x^2 + 4$.\n",
        "\n",
        "Por otro lado, es importante notar que no todos los elementos de $\\mathbb{R}$ son *cubiertos* por elementos de $\\mathbb{R}$, pues se cumple que $2 \\le \\sqrt{17x^2 + 4}$. En particular los valores $\\frac{4}{7}$ y $-15$ no son parte del codominio de la función, esto se resalta cuando trazamos dos líneas horizontales en esos valores de $y$. Se ve que ambas líneas (líneas azul y roja en la gráfica anterior) no cruzan con la gráfica de la función. Entonces $\\{\\frac{4}{7}, -15\\} \\not\\in im(f)$. \n",
        "\n",
        "En este caso $im(f ) = [2, \\infty)$ es la imagen del a función (codominio).\n",
        "\n",
        "**Observemos lo siguiente**: <br>\n",
        "Si $y \\in [2, \\infty)$ entonces se cumple que $4 \\le y^2$. Pero dado que $y = \\sqrt{17x^2 + 4}$ entonces: $y^2 = 17x^2 + 4$, de donde podemos obtener $x = \\sqrt{\\frac{y^2}{17} - \\frac{4}{17}}$, y si a esta $x$ le aplicamos $f$ tenemos:\n",
        "\n",
        "$f\\left(x = \\sqrt{\\frac{y^2}{17} - \\frac{4}{17}}\\right) = \\sqrt{17\\left(\\sqrt{\\frac{y^2}{17} - \\frac{4}{17}}\\right)^2 + 4} =  \\sqrt{17\\left(\\frac{y^2}{17} - \\frac{4}{17}\\right) + 4} = \\sqrt{y^2 - 4 + 4} = \\sqrt{y^2} = y$.\n",
        "\n",
        "Por lo tanto $y \\in im(f)$."
      ]
    },
    {
      "cell_type": "markdown",
      "metadata": {
        "id": "KZwfnigOTB8L"
      },
      "source": [
        "## Propiedades de las funciones\n",
        "\n",
        "Sean $A, B$, $C$ y $D$ conjuntos cualesquiera. Sean\n",
        "$f: A \\rightarrow B$, $g:C \\rightarrow D$. Definimos la siguientes operaciones entre $f$ y $g$:\n",
        "\n",
        "1. La suma de $f$ y $g$ mediante la ecuación: $(f + g)(x) = f(x) +g(x)$, donde\n",
        " $f+g:A\\cap C \\rightarrow B\\cap D$ \n",
        "2. La resta de $f$ y $g$ mediante la ecuación: $(f - g)(x) = f(x) -g(x)$, donde\n",
        " $f-g:A\\cap C \\rightarrow B\\cap D$ \n",
        "3. El producto de $f$ y $g$ mediante la ecuación: $(f \\cdot g)(x) = f(x)\\cdot g(x)$. Particularmente, si $f(x) = k$, definimos una nueva función $k\\cdot g$ como $(k\\cdot g)(x) = k\\cdot g(x)$. Por lo tanto, $f \\cdot g: A \\cap C \\rightarrow B\\cap D$.\n",
        "4. El cociente de $f$ y $g$ mediante la ecuación: $\\left(\\frac{f}{g}\\right)(x) = \\frac{f(x)}{g(x)}$, siempre que $g(x) \\neq 0$ para toda $x \\in A$. Por lo tanto, $\\displaystyle \\frac{f}{g}: A \\cap C \\cap \\{x|g(x)\\neq 0\\} \\rightarrow B\\cap D$.\n",
        "\n",
        "\n",
        "**Teorema** Sean $A, B$, $C$,$D$, $E$ y $F$ conjuntos cualesquiera. Sean\n",
        "$f:A\\rightarrow B$, $g:C \\rightarrow D$ y $h:E \\rightarrow E$. Se cumple lo siguiente:\n",
        "\n",
        "1. *Asociatividad*: $(f+g)+h=f+(g+h)$  y  $(f\\cdot g)\\cdot h=f\\cdot (g\\cdot h)$\n",
        "2. *Conmutatividad*: $f+g=g+f$  y  $f\\cdot g=g\\cdot h$\n"
      ]
    },
    {
      "cell_type": "markdown",
      "metadata": {
        "id": "4mgxoWzv-xMU"
      },
      "source": [
        "## Tipos de Funciones\n",
        "\n",
        "Una función $f : A \\rightarrow B$ es **inyectiva** o **uno a uno** si y\n",
        "sólo si para cualesquiera $x_1, x_2 \\in A$ con $x_1 \\neq x_2$ se tiene que $f(x_1) \\neq f(x_2)$, es decir:\n",
        "$\\forall x_1,x_2 \\in A(x_1 \\neq x_2 \\Rightarrow f(x_1) \\ne f(x_2))$.\n",
        "Equivalentemente, usando la contrapuesta, $f$ es inyectiva si y sólo si:\n",
        "\n",
        "$\\forall x_1,x_2 \\in A(f(x_1) = f(x_2) \\Rightarrow x_1 = x_2)$.\n",
        "\n",
        "En otras palabras, una función es inyectiva si elementos distintos del dominio van a dar a elementos distintos del codominio al aplicar la función, o bien si la única manera de que $x_1$ y $x_2$ en el dominio vayan a dar al mismo elemento del codominio sea que desde un principio $x_1 = x_2$.\n",
        "\n",
        "Una función $f : A \\rightarrow B$ es **sobreyectiva** o **suprayectiva** si y sólo\n",
        "si para todo $y \\in B$ existe $x \\in A$ tal que $f(x) = y$ , es decir,\n",
        "\u0001\u0001$\\forall y (y \\in B \\Rightarrow \\exists  x \\in A \\wedge f(x) = y$.\n",
        "De acuerdo a lo anterior las funciones suprayectivas son aquellas en que todo elemento del codominio proviene de alguno del dominio.\n",
        "\n",
        "Una función $f : A \\rightarrow B$ es **biyectiva** si y sólo si $f$ es\n",
        "inyectiva y es sobreyectiva."
      ]
    },
    {
      "cell_type": "markdown",
      "metadata": {
        "id": "oIHg6lwtMMu8"
      },
      "source": [
        "### Ejemplo 4\n",
        "\n",
        "Sean $A = \\{-1, 1, 2,3\\}, B = \\{-8, 4, 5, 8\\}$ y $f:A\\rightarrow B$\n",
        "definida como $f(x) = -x^2 +2x +7$ .\n",
        "Podemos ver que $f$ no es inyectiva, pues $f(-1) = 4$ y $f(3) = 4$, pero $-1 \\neq 3$.\n",
        "Además, $f$ no es sobreyectiva, pues $5 \\in B$ y no hay $a \\in A$ tal que $f(a) = 5$. Sin embargo, si escogemos a los conjuntos $C$ y $D$ de tal forma que $C=A-\\{3\\}$ y $D=B-\\{5\\}$, la función $f:C\\rightarrow D$ definida como $f(x) = -x^2 +2x +7$ sí es sobreyectiva e inyectiva, es decir, $f(x)$ sería biyectiva.\n",
        "\n",
        "**NOTA:** Siempre es posible restringir el dominio de una función para crear una función inyectiva y el codominio para crear una función suprayectiva."
      ]
    },
    {
      "cell_type": "code",
      "metadata": {
        "id": "yY1r-cgMyNX4"
      },
      "source": [
        "x1 = np.array([-1,1,2,3])\n",
        "x2 = np.array([-1,1,2])\n",
        "\n",
        "y1 = -x1**2+2*x1+7\n",
        "y2 = -x2**2+2*x2+7\n",
        "\n",
        "par = [{'title':'Ejemplo 1: Función que no es biyectiva', \n",
        "        'xlabel':'$X_1$',\n",
        "        'ylabel':'$Y_1$'},\n",
        "       {'title':'Ejemplo 1: Función convertida a biyectiva', \n",
        "        'xlabel':'$X_2$',\n",
        "        'ylabel':'$Y_2$'}\n",
        "      ]\n",
        "\n",
        "graf = vis.planoCartesiano(1,2,par=par)\n",
        "graf.scatter(1, x = x1, y = y1, par={'color':'purple', 's':50})\n",
        "graf.scatter(2, x = x2, y = y2, par={'color':'blue', 's':50})\n",
        "graf.show()"
      ],
      "execution_count": null,
      "outputs": []
    },
    {
      "cell_type": "markdown",
      "metadata": {
        "id": "4W0Xfs63qRna"
      },
      "source": [
        "### Ejemplo 5\n",
        "\n",
        "Sea $f : \\mathbb{R^+} \\rightarrow (-8,\\infty)$ dada por $f(x) = 9x -8$. Vamos a mostrar que $f$ es biyectiva:\n",
        "\n",
        "1. Sean $x, y  \\in \\mathbb{R^+} $ tales que $f(x) = f(y)$. Entonces: $9x -8 = 9y -8 \\Longleftrightarrow 9x = 9y \\Longleftrightarrow x = y$. Por lo tanto, $f$ es inyectiva. \n",
        "\n",
        "2. Ahora bien, sea $y \\in (-8,\\infty)$. Necesitamos encontrar $x \\in \\mathbb{R^+}$ tal que $f(x)=y$. Dado que $f(x)=9x -8$, necesitamos que $9x -8= y$, entonces $\\displaystyle x =\\frac{y + 8}{9}$. Entonces $\\displaystyle f(x) = f (\\frac{y + 8}{9}) = 9(\\frac{y + 8}{9}) -8 = (y+8)-8= y$. Por lo tanto, para cualquier $y \\in (-8,\\infty)$, hay una $x \\in \\mathbb{R^+}$  tal que $f (x) = y$, entonces $f$ es sobreyectiva.\n",
        "\n",
        "Por lo tanto, los puntos 1. y 2. indican que $f$ es biyectiva. Veamos la gráfica:"
      ]
    },
    {
      "cell_type": "code",
      "metadata": {
        "id": "1Y3z2Ub35hRJ"
      },
      "source": [
        "x3 = np.array([0,5])\n",
        "y3 = 9*x3 - 8\n",
        "\n",
        "par = [{'title':'Gráfica de la recta 9x-8 en $\\mathbb{R}_+ \\cup \\{0\\}$', \n",
        "        'xlabel':'$X_3$',\n",
        "        'ylabel':'$Y_3$'}\n",
        "      ]\n",
        "\n",
        "graf = vis.planoCartesiano(par=par)\n",
        "graf.plot(1, x = x3, y = y3, par={'label':'$f(x)=9x-8$'})\n",
        "graf.legend()\n",
        "graf.show()"
      ],
      "execution_count": null,
      "outputs": []
    },
    {
      "cell_type": "markdown",
      "metadata": {
        "id": "0yRBSsQ6B_QY"
      },
      "source": [
        "**Observación:** cuando la gráfica de una función se puede representar mediante un sistema de coordenadas cartesianas en el plano, a partir de la gráfica podemos verificar si la función es inyectiva, ya que si no lo es existen $x_1 \\ne x_2$ en el dominio de la función tales que $f(x_1) = f(x_2)$ y en la gráfica aparecerı́an los puntos $(x_1 , y)$ y\n",
        "$(x_2 , y)$ donde $y = f (x_1) = f (x_2)$, que tienen distinta abscisa pero la misma ordenada. Podemos entonces trazar rectas horizontales y si existe alguna que corte a la gráfica en más de un punto, la función no es inyectiva."
      ]
    },
    {
      "cell_type": "markdown",
      "metadata": {
        "id": "uBo7czeOMMvG"
      },
      "source": [
        "### Ejemplo 6\n",
        "\n",
        "A partir de las gráficas de las funciones $f(x) = x^2$ y $f(x) = x^3$ indique cuál de ellas es inyectiva, sobreyectiva y biyectiva."
      ]
    },
    {
      "cell_type": "code",
      "metadata": {
        "id": "QCjtLoYm09CO"
      },
      "source": [
        "x4 = np.arange(-3, 3.1, 0.1)\n",
        "y4 = x4**2\n",
        "y5 = x4**3\n",
        "\n",
        "par = [{'title':'$f(x) = x^2$', \n",
        "        'xlabel':'$X_4$',\n",
        "        'ylabel':'$Y_4$'},\n",
        "       {'title':'$g(x) = x^3$', \n",
        "        'xlabel':'$X_4$',\n",
        "        'ylabel':'$Y_5$'},       \n",
        "      ]\n",
        "\n",
        "graf = vis.planoCartesiano(1,2,par=par)\n",
        "graf.plot(1, x = x4, y = y4)\n",
        "graf.plot(2, x = x4, y = y5)\n",
        "\n",
        "N1 = 2\n",
        "N2 = 10\n",
        "graf.plot(1, x = [-3,3], y = [N1,N1], par={'label':'Recta horizontal que corta en dos puntos',\n",
        "                                           'ls':'--','lw':2, 'color':'green'})\n",
        "graf.plot(2, x = [-3,3], y = [N2,N2], par={'label':'Recta horizontal que corta en un solo punto',\n",
        "                                           'ls':'--','lw':2, 'color':'green'})\n",
        "graf.legend()\n",
        "graf.show()"
      ],
      "execution_count": null,
      "outputs": []
    },
    {
      "cell_type": "markdown",
      "metadata": {
        "id": "u7rfUBAvIwxQ"
      },
      "source": [
        "# Composición de Funciones\n",
        "\n",
        "Sean $A, B$ y $C$ conjuntos cualesquiera. Sean $B' \\subseteq B$,\n",
        "$f:A\\rightarrow B'$ y $g:B \\rightarrow C$. Definimos la **composición** de $f$ y $g$, denotada por $g \\circ f$ , como la función $g \\circ f : A \\rightarrow C$ tal que para toda $x \\in A$  se tiene $(g \\circ f )(x) =\n",
        "g(f(x))$."
      ]
    },
    {
      "cell_type": "markdown",
      "metadata": {
        "id": "fVZmVxRSMMvM"
      },
      "source": [
        "### Ejemplo 7\n",
        "Sean $f : \\mathbb{R} \\rightarrow  \\mathbb{R}$ y $g : \\mathbb{R} \\rightarrow \\mathbb{R} $ definidas por $f (x) = 5x^2 + 4$\n",
        "y $g(x) = 8x -3$.\n",
        "Entonces la composición $g \\circ f: \\mathbb{R} \\rightarrow \\mathbb{R}$ está dada por $(g \\circ f )(x) =\n",
        "g(f (x)) = g(5x^2 + 4) = 8(5x^2 + 4) -3 = 40x^2 + 32 -3 = 40x^2 + 29 $.\n",
        "\n",
        "La composición $f \\circ g: \\mathbb{R} \\rightarrow \\mathbb{R}$ está dada por $(f \\circ g)(x) = f (g(x)) =\n",
        "f (8x -3) = 5(8x -3)^2 + 4 = 5(64x^2 - 48x +9)+4 = 320x^2 -240x + 45 + 4 =  320x^2 -240x + 49$.\n",
        "\n",
        "Observamos que las funciones $g \\circ f$ y $f \\circ g$ son diferentes, por lo tanto en general, la composición de funciones no es conmutativa.\n",
        "\n",
        "Las siguientes gráficas muestran lo anterior:"
      ]
    },
    {
      "cell_type": "code",
      "metadata": {
        "id": "0uUXP7GKbvf4"
      },
      "source": [
        "def f5(x):\n",
        "    return 5 * x**2 + 4\n",
        "\n",
        "def g5(x):\n",
        "    return 8*x - 3 \n",
        "\n",
        "x5 = np.arange(-10, 10, 0.1) \n",
        "\n",
        "f_g = f5( g5(x5) ) \n",
        "g_f = g5( f5(x5) )\n",
        "\n",
        "par = [{'title':'Composición de funciones', \n",
        "        'xlabel':'$X_5$'},       \n",
        "      ]\n",
        "\n",
        "graf = vis.planoCartesiano(par=par)\n",
        "graf.plot(x = x5, y = f_g, par={'label':'$(f \\circ g)(x)$'})\n",
        "graf.plot(x = x5, y = g_f, par={'label':'$(g \\circ f)(x)$'})\n",
        "graf.legend()\n",
        "graf.show()"
      ],
      "execution_count": null,
      "outputs": []
    },
    {
      "cell_type": "markdown",
      "metadata": {
        "id": "_WJ884-nbv2f"
      },
      "source": [
        "**Teorema.** Sean $A, B, C$ y $D$ conjuntos cualesquiera, y sean $B' \\subseteq B$\n",
        "y $C \\subseteq C$. Sean $f : A \\rightarrow B'$ , $g : B \\rightarrow C'$ y $h : C \\rightarrow D$ funciones. Entonces\n",
        "$h \\circ (g \\circ f ) = (h \\circ g) \\circ f$ , es decir, la composición de funciones es asociativa."
      ]
    },
    {
      "cell_type": "markdown",
      "metadata": {
        "id": "q8i6RFT3MMvS"
      },
      "source": [
        "### Ejemplo 8\n",
        "\n",
        "Sean $f : \\mathbb{R} \\rightarrow \\mathbb{R}$ , $g : \\mathbb{R}\\rightarrow \\mathbb{R}$ y $h : \\mathbb{R} \\rightarrow \\mathbb{R}$ funciones dadas por las siguientes reglas de correspondencia: $f(x) = e^x$, $g(x) = 3x^2$ y $h(x) = sin(x)$.\n",
        "\n",
        "Por un lado, tenemos que: \n",
        "\n",
        "$h \\circ (g \\circ f )(x) = h \\circ (g(f(x)) = h \\circ g(e^x) = h( g(e^x)) = h( g(e^x)) = h(3e^{2x}) = sin(3e^{2x})$\n",
        "\n",
        "Por otro lado:\n",
        "\n",
        "$(h \\circ g) \\circ f = h(3x^2) \\circ f = sin(3x^2) \\circ f = sin(3(e^x)^2) = sin(3e^{2x})$\n",
        "\n",
        "Por lo tanto $h \\circ (g \\circ f ) = (h \\circ g) \\circ f$ \n",
        "\n",
        "Veamos las gráficas:"
      ]
    },
    {
      "cell_type": "code",
      "metadata": {
        "id": "WQ6_CR2tnBtI"
      },
      "source": [
        "def h6(x):\n",
        "    return np.sin(x)\n",
        "\n",
        "def g6(x):\n",
        "    return 3*x**2\n",
        "\n",
        "def f6(x):\n",
        "    return np.exp(x)\n",
        "\n",
        "def h_g(x):\n",
        "    return h6(g6(x))\n",
        "\n",
        "def g_f(x):\n",
        "    return g6(f6(x))\n",
        "\n",
        "x6 = np.arange(-3, 3.1, 0.1) \n",
        "h_g_f_1 = h6( g_f(x6) )\n",
        "h_g_f_2 = h_g( f6(x6))\n",
        "\n",
        "par = [{'title':'$h \\circ (g \\circ f)$', \n",
        "        'xlabel':'$x$',\n",
        "        'ylabel':'$y$'},\n",
        "       {'title':'$(h \\circ g ) \\circ f$', \n",
        "        'xlabel':'$x$',\n",
        "        'ylabel':'$y$'}, \n",
        "      ]\n",
        "\n",
        "graf = vis.planoCartesiano(1, 2, par=par)\n",
        "graf.plot(1, x = x6, y = h_g_f_1, par={'color':'C0'})\n",
        "graf.plot(2, x = x6, y = h_g_f_2, par={'color':'C1'})\n",
        "graf.show()"
      ],
      "execution_count": null,
      "outputs": []
    },
    {
      "cell_type": "markdown",
      "metadata": {
        "id": "UjfhaZz1MMvW"
      },
      "source": [
        "**Teorema**\n",
        "\n",
        "$(i)$ La composición de funciones inyectivas es inyectiva.\n",
        "\n",
        "$(ii)$ La composición de funciones sobreyectivas es sobreyectiva (siempre que el codominio de la primera sea igual al dominio de la segunda).\n",
        "\n",
        "$(iii)$ La composición de funciones biyectivas es biyectiva.\n"
      ]
    },
    {
      "cell_type": "markdown",
      "metadata": {
        "id": "UKOaeaVOp85O"
      },
      "source": [
        "### Ejemplo 9\n",
        "\n",
        "Sean $f:\\mathbb{R^+}\\rightarrow (-8,\\infty), g:\\mathbb{R^+}\\rightarrow (\\sqrt{3},\\infty)$ dadas por $f(x) = 9x -8$ y $g(x)=\\sqrt{7x+3}$.\n",
        "En un ejercicio anterior vimos que $f$ es biyectiva. Veamos ahora que $g(x)$ es biyectiva:\n",
        "\n",
        "1. Sean $x, y  \\in \\mathbb{R^+}$ tales que $g(x) = g(y)$. Entonces $\\sqrt{7x+3} = \\sqrt{7y+3} \\Longleftrightarrow 7x+3 = 7y+3 \\Longleftrightarrow 7x = 7y \\Longleftrightarrow x = y$. Por lo tanto, $g$ es inyectiva. \n",
        "\n",
        "2. Ahora bien, sea $y \\in (\\sqrt{3},\\infty)$. Necesitamos encontrar $x\\in \\mathbb{R^+}$ tal que $g(x)=y$. Dado que $g(x)=\\sqrt{7x+3}$, necesitamos que $\\sqrt{7x+3}= y$, y esto pasa si y solo si $x= \\frac{y^2-3}{7}$. Ası́, sea $x=\\frac{y^2-3}{7}$, entonces $g(x) = g( \\frac{y^2-3}{7}) = \\sqrt{7(\\frac{y^2-3}{7})+3} = \\sqrt{(y^2-3) +3}=\\sqrt{y^2} =y$ (pues $ y >0$). Por lo tanto, para cualquier $y\\in (\\sqrt{3},\\infty$), hay  $x \\in \\mathbb{R^+}$  tal que $g(x) = y$ y entonces $g$ es sobreyectiva.\n",
        "\n",
        "Por lo tanto, $g$ es biyectiva.\n",
        "\n",
        "Verifiquemos ahora que la composición de funciones biyectivas es biyectiva. En este caso lo haremos para la composición:\n",
        "\n",
        "$ f \\circ g = f(g(x)) = f(\\sqrt{7x+3}) = 9\\sqrt{7x+3}-8$.\n",
        "\n",
        "1. Sean $x, y  \\in \\mathbb{R^+} $ tales que $f(g(x)) = f(g(y))$. Entonces $9\\sqrt{7x+3}-8 = 9\\sqrt{7y+3}-8 \\Longleftrightarrow 9\\sqrt{7x+3} = 9\\sqrt{7y+3} \\Longleftrightarrow  \\sqrt{7x+3} = \\sqrt{7y+3} \\Longleftrightarrow  7x+3 = 7y+3 \\Longleftrightarrow  7x = 7y \\Longleftrightarrow x = y$. Por lo tanto, $f(g(x))$ es inyectiva.\n",
        "\n",
        "2. Sea $y \\in (\\sqrt{3},\\infty) \\subseteq \\mathbb{R^+}$. Necesitamos encontrar $x \\in \\mathbb{R^+}$ tal que $f(g(x))=y$. Como $f(g(x))=9\\sqrt{7x+3}-8$, se requiere que $9\\sqrt{7x+3}-8= y$, y esto pasa si y solo si $\\displaystyle x= \\frac{(\\frac{y+8}{9})^2 - 3}{7}$. Entonces $\\displaystyle f(g(x)) = f(g(\\frac{(\\frac{y+8}{9})^2 - 3}{7})) =  9\\sqrt{7(\\frac{(\\frac{y+8}{9})^2 - 3}{7})+3}-8 = 9\\sqrt{[(\\frac{y+8}{9})^2 - 3]+3}-8 = 9\\sqrt{(\\frac{y+8}{9})^2}-8 = 9(\\frac{y+8}{9})-8 = (y+8) - 8 = y$. \n",
        "De esta manera, para cualquier $y\\in(\\sqrt{3},\\infty)$, hay  $x\\in \\mathbb{R^+}$  tal que $f(g(x)) = y$ y entonces $f(g(x))$ es sobreyectiva.\n",
        "\n",
        "\n",
        "Por lo tanto, la composición $f(g(x))$ es biyectiva. La gráfica es la siguiente:"
      ]
    },
    {
      "cell_type": "code",
      "metadata": {
        "id": "prZ9Xwv10xtc"
      },
      "source": [
        "def f7(x):\n",
        "    return 9*x-8 \n",
        "\n",
        "def g7(x):\n",
        "    return np.sqrt(7*x+3)\n",
        "\n",
        "x7 = np.arange(0, 40, 0.1) \n",
        "\n",
        "f2_g2 = f7( g7(x7) )\n",
        "\n",
        "par = [{'xlabel':'$x$',\n",
        "        'ylabel':'$y$'}, \n",
        "      ]\n",
        "\n",
        "graf = vis.planoCartesiano(par=par)\n",
        "graf.plot(x = x7, y = f2_g2, par={'label':'$(f \\circ g)(x))$'})\n",
        "\n",
        "N = 40\n",
        "graf.plot(x = [-3,40], y = [N,N], par={'label':'Recta horizontal que corta en un solo punto',\n",
        "                                           'ls':'--','lw':2, 'color':'green'})\n",
        "\n",
        "graf.legend()\n",
        "graf.show()"
      ],
      "execution_count": null,
      "outputs": []
    },
    {
      "cell_type": "markdown",
      "metadata": {
        "id": "WQSKeRfNMMvb"
      },
      "source": [
        "### Funciones inversas\n",
        "\n",
        "- Definimos la **función identidad** como $id(x) = x$, es decir, la imagen de $x$ bajo $id$ es $x$. \n",
        "\n",
        "- Sea $f : A \\rightarrow B$ una función real biyectiva. La **función inversa** (o función recíproca) de $f$, denotada por $f^{-1}$, es aquella que hace el camino inverso, asignando a los elementos de $B$ elementos de $A$, definida como:\n",
        "\n",
        "$f(x) = y \\Longleftrightarrow f^{-1}(y) = x$ \n",
        "\n",
        "- La función $f^{-1}$, al igual que $f$, es también biyectiva y queda determinada de modo único por $f$ y cumple:\n",
        "\n",
        "    + $f^{-1} \\circ f=id_{A}$ en este caso $f^{-1}$ es inversa por la izquierda.\n",
        "    + $f \\circ f^{-1}=id_{B}$ en este caso $f^{-1}$ es inversa por la derecha.\n",
        "\n",
        "El siguiente teorema da la condición necesaria y suficiente para que $f$\n",
        "tenga inversa.\n",
        "\n",
        "**Teorema** Sean $A$ y $B$ conjuntos cualesquiera y sea $f : A \\rightarrow B$. Se cumple lo siguiente:\n",
        "\n",
        "$(i)$ Si $A \\neq \\emptyset$, entonces $f$ es inyectiva si y sólo si $f$ tiene inverso izquierdo.\n",
        "\n",
        "$(ii)$ $f$ es sobreyectiva si y sólo si $f$ tiene inverso derecho.\n",
        "\n",
        "**Observaciones**\n",
        "\n",
        "1. Las gráficas de $ f(x) $ y $f^{-1}(x)$  son simétricas respecto de la bisectriz del primer y tercer cuadrante.\n",
        "2. Para construir o calcular la función inversa de una función cualquiera, se deben seguir los siguientes pasos:\n",
        "\n",
        "  2.1. Se escribe la función con $x$ e $y$.\n",
        "\n",
        "  2.2. Se despeja la variable $x$ en función de la variable $y$.\n",
        "\n",
        "  2.3. Se intercambian las variables."
      ]
    },
    {
      "cell_type": "markdown",
      "metadata": {
        "id": "1UuLnG2GMMvc"
      },
      "source": [
        "### Ejemplo 10\n",
        "\n",
        "Del ejemplo 9 sabemos que $g : \\mathbb{R^+} \\rightarrow (\\sqrt{3},\\infty)$ dada $g(x)=\\sqrt{7x+3}$  es biyectiva, y entonces, $g$ es invertible, por lo que al realizar el procedimiento de la segunda observación anterior, hacemos lo siguiente:\n",
        "\n",
        "- Cambiamos $g(x)$ por $y$ $\\Rightarrow y = \\sqrt{7x+3}$\n",
        "\n",
        "- Despejamos a la variable $x \\Rightarrow x = \\frac{y^2 - 3}{7}$\n",
        "\n",
        "- Cambiamos $x$ por $g^{-1}(x)$ y obtendremos la función inversa $\\Rightarrow g^{-1}(x) = \\frac{x^2 - 3}{7}$, con $g^{-1}: (\\sqrt{3},\\infty)\\rightarrow \\mathbb{R^+}$"
      ]
    },
    {
      "cell_type": "code",
      "metadata": {
        "id": "yuC-b0gloFSH"
      },
      "source": [
        "x8 = np.arange(0, 20, 0.1)       # Dominio de g(x)\n",
        "y8 = np.arange(np.sqrt(3), 11.95 + np.sqrt(3), 0.1) # Contradominio \n",
        "\n",
        "g_8 = g7(x8)\n",
        "g_8_inv = (y8**2 - 3) / 7\n",
        "\n",
        "par = [{'xlabel':'$x$',\n",
        "        'ylabel':'$y$'}, \n",
        "      ]\n",
        "\n",
        "graf = vis.planoCartesiano(par=par)\n",
        "graf.plot(x = x8, y = g_8, par={'label':'$g(x)$'})\n",
        "graf.plot(x = y8, y = g_8_inv, par={'label':'$g^{-1}(x)$'})\n",
        "\n",
        "graf.plot(x = [0,20], y = [0,20], par={'label':'Simetría de la función y su inversa',\n",
        "                                       'ls':'--','lw':1, 'color':'gray', 'zorder':0})\n",
        "graf.legend()\n",
        "graf.show()"
      ],
      "execution_count": null,
      "outputs": []
    },
    {
      "cell_type": "markdown",
      "metadata": {
        "id": "rXYaGoKQtkjK"
      },
      "source": [
        "### Ejemplo 11\n",
        "\n",
        "Consideremos la función $j : \\mathbb{R} \\rightarrow \\mathbb{R}$ dada por $j(x) = x^2 -4$. Podemos notar que sí es función, pues a cada elemento del dominio le corresponde un único elemento del contradominio. Sin embargo, la función no se inyectiva, pues existen $3, -3 \\in \\mathbb{R}$  tales que $ j(3) = (3)^2-4=5=(-3)^2-4 = j(-3)$ y $3\\neq -3$; y tampoco es sobreyectiva, pues no hay $x \\in \\mathbb{R}$ tal que $j(x) = -7$ y $-7 \\in \\mathbb{R}$. \n",
        "\n",
        "Entonces, como $j$ no es biyectiva, no tiene función inversa. Si quisiéramos forzar la condición para encontrar la inversa, es fácil ver que su inversa sería de la forma $j^{-1}(x) = \\pm \\sqrt{x+4}$, pero $j^{-1}(x)$ sería una relación y no una función!, ya que $j^{-1}(5) = 3$ y $j^{-1}(5) = -3$. Podemos verificarlo con la gráfica de $j^{-1}(x)$:"
      ]
    },
    {
      "cell_type": "code",
      "metadata": {
        "id": "COtJqmMswfOX"
      },
      "source": [
        "def j_inversa_pos(x):\n",
        "    return np.sqrt(x+4)\n",
        "\n",
        "def j_inversa_neg(x):\n",
        "    return np.sqrt(x+4) * -1\n",
        "\n",
        "x9 = np.arange(-5,5,0.1)\n",
        "y9 = np.arange(-4, 20, 0.1)\n",
        "\n",
        "j_9 = x9**2 - 4\n",
        "j_inv_pos = np.sqrt(y9 + 4)\n",
        "j_inv_neg = -1 * np.sqrt(y9 + 4)\n",
        "\n",
        "par = [{'xlabel':'$x$',\n",
        "        'ylabel':'$y$'}, \n",
        "      ]\n",
        "\n",
        "graf = vis.planoCartesiano(par=par)\n",
        "graf.plot(x = x9, y = j_9, par={'label':'$j(x)$'})\n",
        "graf.plot(x = y9, y = j_inv_pos, par={'label':'$j^{-1}(x)$', 'color':'red'})\n",
        "graf.plot(x = y9, y = j_inv_neg, par={'color':'red'})\n",
        "\n",
        "graf.plot(x = [-4,20], y = [-4,20], par={'label':'Simetría de la función y su inversa',\n",
        "                                         'ls':'--','lw':1, 'color':'gray', 'zorder':0})\n",
        "N = 4\n",
        "graf.plot(x = [N, N], y = [20,-5], par={'label':'Recta vertical',\n",
        "                                       'ls':'--','lw':2, 'color':'green', 'zorder':0})                                      \n",
        "graf.legend()\n",
        "graf.show()"
      ],
      "execution_count": null,
      "outputs": []
    },
    {
      "cell_type": "markdown",
      "metadata": {
        "id": "i5k9FwKR9dDR"
      },
      "source": [
        "### Ejemplo de aplicación: **MOVIMIENTO ARMÓNICO SIMPLE**\n",
        "\n",
        "\n",
        "El comportamiento periódico, es decir aquel que se repite una y otra vez, es común en la naturaleza y en los seres humanos. Algunos ejemplos:\n",
        "- El parpadeo resulta en la repetitiva regla de día, pues nos la pásamos abriendo y cerrando los ojos. \n",
        "- Ciertas poblaciones de animales aumentan y disminuyen en una forma periódica  que  se  puede  predecir:  una  población  grande  agota  la  provisión  de  alimento, lo cual hace que  la  población  disminuya;  esto,  a  su  vez,  resulta  en  una  provisión  más  abundante de alimento, lo cual hace posible que la población aumente; y el patrón se repite una y otra vez. \n",
        "- El movimiento  que  es  causado  por  vibración  u  oscilación.  \n",
        "- Una  masa  suspendida  de  un  resorte  que  ha  sido  comprimido  y  luego  se  deja  vibrar  verticalmente  es  un  movimiento  oscilatorio periódico.  \n",
        "- Este  movimiento \"de vaivén\" también se presenta en fenómenos diversos como por ejemplo ondas de sonido, ondas de luz, corriente eléctrica alternante y estrellas que pulsan, por citar  sólo  algunos. \n",
        "\n",
        "Las funciones trigonométricas son idealmente apropiadas para modelar el comportamiento periódico. Una mirada a las gráficas de las funciones seno y coseno, por ejemplo, nos dice que estas funciones por sí solas exhiben comportamiento periódico. \n",
        "\n",
        "La Figura 1 muestra la gráfica de $f(t)=\\sin(t)$. Si consideramos $t$ como el tiempo, vemos que a medida que el tiempo transcurre $f(t)=\\sin(t)$ aumenta y disminuye una y otra vez.\n",
        "\n",
        "La  Figura  2  muestra  que  el  movimiento de una masa en vibración en  un resorte está modelada precisamente por $f(t)=\\sin(t)$.\n",
        "\n",
        "<img src=\"https://github.com/jugernaut/Prometeo/blob/master/Figuras/resorte.png?raw=1\"  style=\"width: 500px;\"/>\n",
        "\n",
        "Observe que la masa regresa a su posición original una y otra vez. Un **ciclo** es una vibración completa de un cuerpo, de modo que la masa de la Figura 2 completa un ciclo de su movimiento entre O y P. Nuestras observaciones acerca de la forma en que las funciones seno y coseno modelan el comportamiento periódico se resumen a continuación:\n",
        "\n",
        "Si la ecuación que describe el desplazamiento $f(t)$ de un cuerpo en el tiempo $t$ es una de estas:\n",
        "\n",
        "- $f(t)=a \\sin(\\omega t)$ \n",
        "- $f(t)=a \\cos(\\omega t)$\n",
        "\n",
        "entonces el cuerpo está en **movimiento armónico simple**. En este caso:\n",
        "\n",
        "Amplitud $ = |a|$ (**Desplazamiento máximo del cuerpo**)\n",
        "\n",
        "Periodo $ = \\frac{2\\pi}{\\omega}$ (**Tiempo requerido para completar un ciclo**)\n",
        "\n",
        "Frecuencia $ = \\frac{\\omega}{2\\pi}$ (**Número de ciclos por unidad de tiempo**)"
      ]
    },
    {
      "cell_type": "markdown",
      "metadata": {
        "id": "3D_jE23GoB02"
      },
      "source": [
        "**Ejemplo** \n",
        "\n",
        "Un  músico  que  toca  una  tuba  hace  sonar  la  nota  *Mi*  y  sostiene  el  sonido  durante  algún  tiempo. Para una nota *Mi* pura, la variación en presión a partir de la presión normal del aire está dada por: $V(t)=0.2 \\sin(80\\pi t)$, donde $V$ se mide en libras por pulgada cuadrada y $t$ se mide en segundos.\n",
        "\n",
        "1. Encuentre la amplitud, período y frecuencia del movimiento de $V$.\n",
        "2. Si el músico aumenta la intensidad de la nota, ¿cómo cambia la ecuación de V? \n",
        "3. Si el músico está tocando una nota incorrectamente y es un poco desafinada, ¿cómo cambia la ecuación de V?.\n",
        "4. Trace una gráfica de $V$.\n",
        "\n",
        "\n",
        "**Solución** \n",
        "\n",
        "1. De la fórmula para amplitud, período y frecuencia obtenemos:\n",
        "\n",
        " > $amplitud=|a|=|0.2|=0.2$ $pulg.$\n",
        "\n",
        " > $periodo = \\frac{2\\pi}{\\omega}=\\frac{2\\pi}{80\\pi} = \\frac{1}{40}s$\n",
        "\n",
        " > $frecuencia = \\frac{\\omega}{2\\pi}= \\frac{80\\pi}{2\\pi} = 40$ ciclos por segundo $(Hz)$.\n",
        "\n",
        "2. Si el músico aumenta la intensidad, la amplitud aumenta. Por lo tanto, el número $0.2$ es sustituido por un número más grande.\n",
        "\n",
        "3. Si la nota es desafinada, entonces la frecuencia disminuye. En consecuencia, el coeficiente de $t$ es menor a $80\\pi$.\n",
        "\n",
        "4. La gráfica de $V$ en el tiempo $t$ la mostramos en el siguiente interactivo (puede mover la amplitud y la frecuencia):\n"
      ]
    },
    {
      "cell_type": "code",
      "metadata": {
        "id": "FM9lnW5hMMvm"
      },
      "source": [
        "from ipywidgets import interact, interactive, fixed\n",
        "import ipywidgets as widgets\n",
        "\n",
        "def Vi(a,w):\n",
        "    par = [{'title':'Gráfica de la función {} $\\sin$({} $\\pi t$)'.format(a,w*2),\n",
        "            'xlabel':'$t$ [s]',\n",
        "            'ylabel':'$V(t)$ [lb / in$^2$]'}, \n",
        "          ]\n",
        "    t=np.arange(0,0.5,0.001)\n",
        "    graf = vis.planoCartesiano(par=par)\n",
        "    graf.plot(x = t, y = a*np.sin(w*2*np.pi*t))                                     \n",
        "    graf.show()"
      ],
      "execution_count": 1,
      "outputs": []
    },
    {
      "cell_type": "code",
      "metadata": {
        "id": "u0tpIdjVMMvr",
        "outputId": "7ac8e89b-07f1-4bbf-81e7-43a435e63a80",
        "colab": {
          "base_uri": "https://localhost:8080/",
          "height": 428,
          "referenced_widgets": [
            "064ccfaea30b45f0b05ef6e945070ed9",
            "4090f4b5f5c74e85a09efe9cc72484bb",
            "67af8cd4be1d4453932bec81b42ded2a",
            "f18dc2ffc3b847a1873cb52a810578d2",
            "a8b806e6f1574324a54e43240a749c6c",
            "561ec6cc225d4de39f1237b1542f40a6",
            "65b3e228f68b4959be078352ccf61818",
            "99621ab631bb4b239a873abee624f310",
            "ebd13df31f814989822b3b04db0cfd04",
            "33d3f11d29e44d48a6a5d26a351ab94f"
          ]
        }
      },
      "source": [
        "w = interact(Vi,\n",
        "             a = widgets.FloatSlider(min=0.2, max=1.0, step=0.2, value=0.2),\n",
        "             w = widgets.FloatSlider(min=1, max=40, step=2, value=40))\n",
        "\n",
        "display(w)"
      ],
      "execution_count": 2,
      "outputs": [
        {
          "output_type": "display_data",
          "data": {
            "application/vnd.jupyter.widget-view+json": {
              "model_id": "064ccfaea30b45f0b05ef6e945070ed9",
              "version_minor": 0,
              "version_major": 2
            },
            "text/plain": [
              "interactive(children=(FloatSlider(value=0.2, description='a', max=1.0, min=0.2, step=0.2), FloatSlider(value=4…"
            ]
          },
          "metadata": {
            "tags": []
          }
        },
        {
          "output_type": "display_data",
          "data": {
            "text/plain": [
              "<function __main__.Vi>"
            ]
          },
          "metadata": {
            "tags": []
          }
        }
      ]
    },
    {
      "cell_type": "markdown",
      "metadata": {
        "id": "pJQ0e_3OfshG"
      },
      "source": [
        "A continuación, el usuario es capaz de indicar la función que quisiera graficar:"
      ]
    },
    {
      "cell_type": "code",
      "metadata": {
        "id": "5D3NERhQiiFs"
      },
      "source": [
        "import re\n",
        "\n",
        "replacements = {\n",
        "    'sin' : 'np.sin',\n",
        "    'cos' : 'np.cos',\n",
        "    'tan' : 'np.tan',\n",
        "    'floor': 'np.floor',\n",
        "    'ceil': 'np.ceil',\n",
        "    'exp': 'np.exp',\n",
        "    'sqrt': 'np.sqrt',\n",
        "    'pi': 'math.pi',\n",
        "    'e': 'math.e',\n",
        "    '^': '**',\n",
        "}\n",
        "\n",
        "allowed_words = [\n",
        "    'x',\n",
        "    'sin',\n",
        "    'cos',\n",
        "    'tan',\n",
        "    'ceil',\n",
        "    'floor',\n",
        "    'sqrt',\n",
        "    'exp',\n",
        "    'abs',\n",
        "    'pi',\n",
        "    'e'\n",
        "]\n",
        "\n",
        "def string2func(string):\n",
        "    ''' evalúa una cadena y devuelve una función de x '''\n",
        "    # encuentra todas las palabras y verifique si todas están permitidas::\n",
        "    for word in re.findall('[a-zA-Z_]+', string):\n",
        "        if word not in allowed_words:\n",
        "            raise ValueError(\n",
        "                '\"{}\" está prohibido usar en expresiones matemáticas'.format(word)\n",
        "            )\n",
        "\n",
        "    for old, new in replacements.items():\n",
        "        string = string.replace(old, new)\n",
        "\n",
        "    def func(x):\n",
        "        return eval(string)\n",
        "\n",
        "    return func\n"
      ],
      "execution_count": null,
      "outputs": []
    },
    {
      "cell_type": "code",
      "metadata": {
        "id": "MSV-SlWDwLM9"
      },
      "source": [
        "func_str = str(input('Introduzca la función que desea graficar:\\n f(x) = '))\n",
        "func = string2func(func_str)\n",
        "a = float(input('Introduzca el límite inferior: '))\n",
        "b = float(input('Introduzca el límite superior: '))\n",
        "x = np.linspace(a, b, 1000)\n",
        "\n",
        "print(str(func))\n",
        "\n",
        "par = [{'title':'$'+func_str+'$','xlabel':'x','ylabel':'f(x)'},]\n",
        "graf = vis.planoCartesiano(par=par)\n",
        "graf.plot(x = x, y = func(x))\n",
        "graf.show()\n"
      ],
      "execution_count": null,
      "outputs": []
    },
    {
      "cell_type": "markdown",
      "metadata": {
        "id": "zEddbOZ45dZE"
      },
      "source": [
        "## Referencias\n",
        "\n",
        "\n",
        "\n",
        "* Spivak, M., Cálculo Infinitesimal ($2^{a}$ ed.). México: Reverté, 1998.\n",
        "* Stewart, J., Redlin, L., Watson, S.,  Precálculo matemáticas para el cálculo ($6^{a}$ ed.). México: CENGAGE Learning, 2012.\n",
        "* Avella, D., Campero, G., Curso introductorio de álgebra I ($1^{a}$ ed.). México: Parpihos, 2017.\n",
        "\n",
        "\n",
        "\n",
        "\n"
      ]
    }
  ]
}