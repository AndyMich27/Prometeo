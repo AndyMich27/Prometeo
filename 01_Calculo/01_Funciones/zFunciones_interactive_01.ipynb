{
  "nbformat": 4,
  "nbformat_minor": 0,
  "metadata": {
    "colab": {
      "name": "zFunciones_interactive_01.ipynb",
      "provenance": [],
      "authorship_tag": "ABX9TyO0i1s6aAxc/rXF3rYL2O8Y",
      "include_colab_link": true
    },
    "kernelspec": {
      "name": "python3",
      "display_name": "Python 3"
    }
  },
  "cells": [
    {
      "cell_type": "markdown",
      "metadata": {
        "id": "view-in-github",
        "colab_type": "text"
      },
      "source": [
        "<a href=\"https://colab.research.google.com/github/jugernaut/Prometeo/blob/desarrollo/01_Calculo/01_Funciones/zFunciones_interactive_01.ipynb\" target=\"_parent\"><img src=\"https://colab.research.google.com/assets/colab-badge.svg\" alt=\"Open In Colab\"/></a>"
      ]
    },
    {
      "cell_type": "code",
      "metadata": {
        "id": "OxpqAkGlSVe4"
      },
      "source": [
        "#\n",
        "# Este notebook solo puede ser ejecutado desde 02_Funciones_formalismos_y_ejemplos.ipynb\n",
        "# No funciona de otra manera.\n",
        "#\n",
        "\n",
        "from ipywidgets import interact, interactive, fixed\n",
        "import ipywidgets as widgets\n",
        "\n",
        "def Vi(a,w):\n",
        "    par = [{'title':'Gráfica de la función {} $\\sin$({} $\\pi t$)'.format(a,w*2),\n",
        "            'xlabel':'$t$ [s]',\n",
        "            'ylabel':'$V(t)$ [lb / in$^2$]'}, \n",
        "          ]\n",
        "    t=np.arange(0,0.5,0.001)\n",
        "    graf = vis.planoCartesiano(par=par)\n",
        "    graf.plot(x = t, y = a*np.sin(w*2*np.pi*t))                                     \n",
        "    graf.show()\n",
        "\n",
        "w = interact(Vi,\n",
        "             a = widgets.FloatSlider(min=0.2, max=1.0, step=0.2, value=0.2),\n",
        "             w = widgets.FloatSlider(min=1, max=40, step=2, value=40))\n",
        "\n",
        "display(w)"
      ],
      "execution_count": 1,
      "outputs": []
    }
  ]
}