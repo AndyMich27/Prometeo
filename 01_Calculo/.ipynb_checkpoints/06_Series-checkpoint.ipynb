{
 "cells": [
  {
   "cell_type": "markdown",
   "metadata": {
    "colab_type": "text",
    "id": "MfrLEZ67VFAW"
   },
   "source": [
    "<font color=\"Teal\" face=\"Comic Sans MS,arial\">\n",
    "  <h1 align=\"center\"><i>Series</i></h1>\n",
    "  </font>\n",
    "  <font color=\"Black\" face=\"Comic Sans MS,arial\">\n",
    "  <h5 align=\"center\"><i>Autor: Ingrid Pamela Ruiz Puga</i></h5>\n",
    "  <h5 align=\"center\"><i>Proyecto PAPIME PE101019</i></h5>\n",
    "  </font>\n",
    "\n",
    "\n",
    "---\n",
    "## Ejemplo de la vida real\n",
    "En un experimento una lámpara que se apaga al cabo de un minuto, luego se prende al cabo de medio minuto, se apaga después de un cuarto de minuto y así sucesivamente en una serie infinita de encendido y apagado. ¿En qué momento convergerá esta serie ?\n"
   ]
  },
  {
   "cell_type": "markdown",
   "metadata": {
    "colab_type": "text",
    "id": "yPzN6X4MlfOX"
   },
   "source": [
    " ## Introducción\n",
    "\n",
    "\n",
    "En matemática, el concepto de serie es muy importante y es de gran utilidad para la resolución de problemas matemáticos. Intuitivamente se puede una serie puede definirse como un conjunto de cosas que tienen una relación entre ellas y se suceden una de la otra.\n",
    "\n",
    "Una serie matemática es la expresión de la suma de los infinitos términos de una sucesión (una aplicación definida sobre los números naturales).\n",
    "\n",
    "Si la serie es infinita, la suma hasta un término específico cualquiera se llama suma parcial. Si las sumas parciales de una serie infinita se aproximan cada vez más a un numero k, de modo que tal que si la serie continúa la suma puede acercarse a k tanto como se desee, l se conoce como el límite de las sumas parciales, o el límite de la serie infinita.\n",
    "\n",
    "El límite de una serie infinita se denomina a veces como la suma al infinito, pero desde luego no se trata de una suma en el sentido aritmético habitual donde la cantidad de términos es finita. Cuando se habla se la \"suma\" de una serie infinita no será posible calcularla mediante la operación suma convencional ya que tenemos términos infinitos, por lo que cuando hablamos de la \"suma\" de una serie infinita es sólo una forma abreviada de designar a su límite."
   ]
  },
  {
   "cell_type": "markdown",
   "metadata": {
    "colab_type": "text",
    "id": "iaF_P6UJllZ1"
   },
   "source": [
    "## Teoría\n",
    "\n",
    "### Definición de serie\n",
    "Sea $a_n$ una sucesión de números reales. Para cada n ∈ N, definimos\n",
    "$$S_n := \\sum a_n$$\n",
    "La serie $S_n$ esta compuesta por la suma de todos los elementos en $a_n$.\n",
    "\n",
    "Las series pueden ser finitas o infinitas y existen series muy conocidas que son comunmente utilizadas en diversos procedimientos. \n",
    "\n",
    "   \n",
    "  ### Convergencia\n",
    "<p align=\"justify\">Diremos que una serie converge cuando se sumen el mayor número de elementos posibles a las erie y el resultado se acerque a un número <em>S.</em> Formalmente escribiremos:\n",
    "\n",
    "Una serie $S_n$ es convergente si $\\exists S $ tal que \n",
    "$$\\lim_{n \\to \\infty} S_n = S $$ \n",
    "Por lo tanto S es el valor suma de la serie $S_n$ de la siguiente manera\n",
    "\n",
    "$$\\sum_{n=1}^{\\infty}a_n= S$$</p>\n",
    "\n",
    "### Teoremas de interés\n",
    "#### Teorema: Condición para convergencia\n",
    "Para que una serie $S_n$ sea convergente es necesario que el límite de la sucesión $a_n$ sea igual a cero, es decir: \n",
    "$$\\lim_{n \\to \\infty} a_n = 0 $$ \n",
    "\n",
    "#### Convergencia absoluta\n",
    "Una serie $\\sum a_n$ es absolutamente si la serie  $\\sum |a_n| $es convergente.\n",
    "Esta definición motivada a que existen series con términos positivos y negativos sin ser alternadas. Por ejemplo,\n",
    "$$\\sum_{n=1}^{\\infty}\\frac{sin( n) }{n^2} = \\frac{sin( 1) }{1}+\\frac{sin( 2) }{4}+\\frac{sin( 3) }{9}+...$$\n",
    "$$= 0.84 + 0.22 + 0.015 - 0.047 - .038 - 0.0077 + ...$$\n",
    "\n",
    "Por lo que este tipo de series serán convergentes si el valor absoluto de la misma es convergente es decir,\n",
    " $$\\sum |a_n| = |a_1|+ |a_2|+|a_3|+...$$\n",
    "\n",
    " #### Convergencia condicional\n",
    " Una serie  $\\sum a_n$ es condicionalmente convergentee si y sólo si la serie converge pero no absolutamente\n",
    "\n",
    "#### Convergencia de series infinitas\n",
    "Una serie infinita puede converger en su límite de tres formas:\n",
    "\n",
    "1.   Las sumas parciales se acercan al límite pero no lo alcanzan en realidad, es decir, nunca lo sobrepasan.\n",
    "2.   Las sumas parciales alcanzan el límite.\n",
    "3.   Las sumas parciales sobrepasal al límite antes de converger.\n",
    "\n",
    "\n",
    "\n",
    "  ### Divergencia\n",
    "En este caso diremos que una serie diverge cuando el límite de la serie no existe o es infinito, es decir: \n",
    "$$\\lim_{x \\to \\infty} S_n = \\infty $$ \n",
    "Por lo que no podemos asignar un valor especifico a la suma de los elementos de la serie, dee otra forma, mientras más crece en número de elementos de la serie mayor sera el resulatado de la suma y nunca dejara de crecer o se acercará a un valor específico.\n",
    "Si una serie no tiene límite entonces toma el nombre de **oscilante**.\n",
    "\n",
    "### Propiedades de las series\n",
    "\n",
    "\n",
    "\n",
    "1.   **Distributiva**: Si la serie $S_n$ converge a un valor S entonces la misma serie por una constante k converge a kS.\n",
    "$$\\sum_{n=1}^{\\infty} k a_n= k S$$\n",
    "Sucede analogamente si la serie es divergente.\n",
    "2.  **Aditiva** : Si se tienen dos series convergentes la suma de ellas será una serie convergente, en caso de ser una convergente y una divergente la suma será una serie divergente.\n",
    "$$\\sum_{n=1}^{\\infty}a_n+ \\sum_{n=1}^{\\infty}b_n = \\sum_{n=1}^{\\infty}(a_n+b_n) $$\n",
    "3.  **Linealidad** : Si se tienen dos series convergentes a sus valores de la suma respectivamente, la suma de ellas será una serie convergente a la suma de sus valores, incluyendo la multiplicación por una constante.\n",
    "Si $\\sum_{n=1}^{\\infty}a_n=S$ y  $\\sum_{n=1}^{\\infty}b_n=T$ entonces:\n",
    "$$\\sum_{n=1}^{\\infty}k a_n+ h b_n = kS + hT $$\n",
    "\n",
    "### Tipos de series\n",
    "\n",
    "*   **Serie geometrica** : Es aquella cuyos términos forman una progresión geométrica, es decir, cada término de la serie es igual al anterior multiplicado por una constante.\n",
    "Su fórmula y solución es la siguiente:\n",
    "\n",
    "$$\\sum_{k=0}^{n} a r^k= a \\frac{1-r^{n+1}}{1-r} $$\n",
    "\n",
    "Ejemplo: Resolver $\\sum_{k=0}^{292} 3  \\frac{1}{6} ^k$\n"
   ]
  },
  {
   "cell_type": "code",
   "execution_count": 1,
   "metadata": {
    "colab": {
     "base_uri": "https://localhost:8080/",
     "height": 73,
     "resources": {
      "http://localhost:8080/nbextensions/google.colab/files.js": {
       "data": "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",
       "headers": [
        [
         "content-type",
         "application/javascript"
        ]
       ],
       "ok": true,
       "status": 200,
       "status_text": ""
      }
     }
    },
    "colab_type": "code",
    "id": "t2NCQHFVjInW",
    "outputId": "a9b09fdb-c93e-4a1f-df8b-e8e3b58ca1ec"
   },
   "outputs": [
    {
     "data": {
      "text/html": [
       "\n",
       "     <input type=\"file\" id=\"files-cb1eac98-8fa5-45b5-908a-63db0632f016\" name=\"files[]\" multiple disabled\n",
       "        style=\"border:none\" />\n",
       "     <output id=\"result-cb1eac98-8fa5-45b5-908a-63db0632f016\">\n",
       "      Upload widget is only available when the cell has been executed in the\n",
       "      current browser session. Please rerun this cell to enable.\n",
       "      </output>\n",
       "      <script src=\"/nbextensions/google.colab/files.js\"></script> "
      ],
      "text/plain": [
       "<IPython.core.display.HTML object>"
      ]
     },
     "metadata": {
      "tags": []
     },
     "output_type": "display_data"
    },
    {
     "name": "stdout",
     "output_type": "stream",
     "text": [
      "Saving gutils.py to gutils.py\n"
     ]
    }
   ],
   "source": [
    "from google.colab import files\n",
    "files.upload()\n",
    "# choose the file on your computer to upload it then\n",
    "import gutils"
   ]
  },
  {
   "cell_type": "code",
   "execution_count": 3,
   "metadata": {
    "colab": {
     "base_uri": "https://localhost:8080/",
     "height": 72
    },
    "colab_type": "code",
    "id": "0fuG26-ZiiZZ",
    "outputId": "b8c5ca59-26ca-4459-a702-2a97919c9c13"
   },
   "outputs": [
    {
     "name": "stderr",
     "output_type": "stream",
     "text": [
      "/usr/local/lib/python3.6/dist-packages/statsmodels/tools/_testing.py:19: FutureWarning: pandas.util.testing is deprecated. Use the functions in the public API at pandas.testing instead.\n",
      "  import pandas.util.testing as tm\n"
     ]
    }
   ],
   "source": [
    "from sympy import limit, oo, Symbol \n",
    "import math\n",
    "import matplotlib.pyplot as plt\n",
    "import numpy as np\n",
    "%matplotlib inline\n",
    "from math import *\n",
    "import  seaborn  as  sns \n",
    "#sns . set ()\n",
    "import gutils as vis\n",
    "\n",
    "def plano_cartesiano():\n",
    "  ax = plt.gca()\n",
    "  ax.spines['top'].set_color('none')\n",
    "  ax.spines['bottom'].set_position('zero')\n",
    "  ax.spines['left'].set_position('zero')\n",
    "  ax.spines['right'].set_color('none')"
   ]
  },
  {
   "cell_type": "code",
   "execution_count": null,
   "metadata": {
    "colab": {
     "base_uri": "https://localhost:8080/",
     "height": 35
    },
    "colab_type": "code",
    "id": "TyEWcppw627s",
    "outputId": "d956dcb5-c20b-423e-de56-857d6c9f81b1"
   },
   "outputs": [
    {
     "data": {
      "text/plain": [
       "3.600000000000001"
      ]
     },
     "execution_count": 11,
     "metadata": {
      "tags": []
     },
     "output_type": "execute_result"
    }
   ],
   "source": [
    "def seriegeometrica(inicio,final):\n",
    "    control = 0\n",
    "    for x in range(inicio, final + 1):\n",
    "        control += 3*((1/6)**x)\n",
    "    return control\n",
    "\n",
    "seriegeometrica(0,292)"
   ]
  },
  {
   "cell_type": "markdown",
   "metadata": {
    "colab_type": "text",
    "id": "0sicpvYTAdQN"
   },
   "source": [
    "Una serie geométrica diverge si r es mayor o igual a 1 y converge a \n",
    "$\\frac{a}{1-r}$ si |r|<1.\n",
    "Por lo que el resultado de la serie converge a $$\\frac{a}{1-r}= \\frac{3}{1-\\frac{1}{6}}=3.6$$\n",
    "\n",
    "*    **Serie telescópica** : Es la serie tal que cada término se expresa como una diferencia de la forma $a_n = b_n - b_{ n+1}$.\n",
    "Su fórmula y solución es la siguiente:\n",
    "$$\\sum_{n=0}^{N} b_n - b_{n+1}= b_N - b_0$$\n",
    "\n",
    "Ejemplo: Resolver $\\sum_{k=0}^{8} \\left( \\frac{1}{k}-\\frac{1}{k+1}\\right)$\n"
   ]
  },
  {
   "cell_type": "code",
   "execution_count": null,
   "metadata": {
    "colab": {
     "base_uri": "https://localhost:8080/",
     "height": 35
    },
    "colab_type": "code",
    "id": "JNb0hHEoLjcC",
    "outputId": "ceb3f087-4b58-4153-c84e-3426031688f7"
   },
   "outputs": [
    {
     "data": {
      "text/plain": [
       "0.8888888888888888"
      ]
     },
     "execution_count": 40,
     "metadata": {
      "tags": []
     },
     "output_type": "execute_result"
    }
   ],
   "source": [
    "def serietelescopica(inicio,final):\n",
    "    control = 0\n",
    "    for x in range(inicio+1, final +1 ):\n",
    "        control += (1/x)-(1/(x+1))\n",
    "    return control\n",
    "\n",
    "serietelescopica(0,8)\n"
   ]
  },
  {
   "cell_type": "markdown",
   "metadata": {
    "colab_type": "text",
    "id": "ScUa-khnI_vc"
   },
   "source": [
    "Al realizar las sumas parciales de la serie anterior es posible observar que el límite de la sucesión de sumas parciales anteriores es igual a 1.\n",
    " \n",
    " Y se puede comprobar calculando el límite de la sucesión en n.\n",
    "\n",
    " Primero observaremos la gráfica de la serie para posteriormente calcular el límite."
   ]
  },
  {
   "cell_type": "code",
   "execution_count": 16,
   "metadata": {
    "colab": {},
    "colab_type": "code",
    "id": "No9HDjSUoJwR"
   },
   "outputs": [],
   "source": [
    "def serietelescopicacompleta(inicio,final):\n",
    "    lista = []\n",
    "    for x in range(inicio+1, final +1 ):\n",
    "        r = (1/x)-(1/(x+1))\n",
    "        lista.append(r)\n",
    "    return lista\n",
    "\n",
    "\n",
    "y4=serietelescopicacompleta(0,8)\n"
   ]
  },
  {
   "cell_type": "code",
   "execution_count": 17,
   "metadata": {
    "colab": {
     "base_uri": "https://localhost:8080/",
     "height": 387
    },
    "colab_type": "code",
    "id": "91j3Y_FjkInr",
    "outputId": "f9195db6-50a4-4657-8925-19dc82b462ca"
   },
   "outputs": [
    {
     "name": "stderr",
     "output_type": "stream",
     "text": [
      "No handles with labels found to put in legend.\n"
     ]
    },
    {
     "data": {
      "image/png": "[encoded data removed]",
      "text/plain": [
       "<Figure size 720x360 with 1 Axes>"
      ]
     },
     "metadata": {
      "needs_background": "light",
      "tags": []
     },
     "output_type": "display_data"
    }
   ],
   "source": [
    "x= np.array([0, 0.5, 0.6667, 0.75, 0.8, 0.8333, 0.8571, 0.875]) \n",
    "\n",
    "y5= y4+x\n",
    "y5\n",
    "x4 = np.arange(-1, 7, 1) \n",
    "\n",
    "par = [{'title':'Serie telescópica', \n",
    "        'xlabel':'$x$',\n",
    "        'ylabel':'$y=f(x)$',\n",
    "       'ylim':(0,1)}\n",
    "      ]\n",
    "\n",
    "graf = vis.planoCartesiano(par=par)\n",
    "graf.scatter(x=x4, y=y5,par={'label':'','ls':'dotted','lw':1,'color':'red', 'zorder':0})\n",
    "#graf.scatter(x=-1, y=0, par={'label':'Límite cuando x tiende a 2','ls':'.','lw':1,'color':'red', 'zorder':10})\n",
    "graf.legend()\n",
    "graf.show()"
   ]
  },
  {
   "cell_type": "markdown",
   "metadata": {
    "colab_type": "text",
    "id": "U_BaaL_FyAal"
   },
   "source": [
    "El cálculo del límite de la sucesión en *n* debe corresponder a 1 como sigue."
   ]
  },
  {
   "cell_type": "code",
   "execution_count": null,
   "metadata": {
    "colab": {
     "base_uri": "https://localhost:8080/",
     "height": 35
    },
    "colab_type": "code",
    "id": "o_5ragPUIdFv",
    "outputId": "ad56c733-8636-41a4-8e80-be2973acaddc"
   },
   "outputs": [
    {
     "data": {
      "text/plain": [
       "1"
      ]
     },
     "execution_count": 12,
     "metadata": {
      "tags": []
     },
     "output_type": "execute_result"
    }
   ],
   "source": [
    "x = Symbol('x') \n",
    "y=1-(1/(x+1)) \n",
    "limit(y, x, oo)"
   ]
  },
  {
   "cell_type": "markdown",
   "metadata": {
    "colab_type": "text",
    "id": "vM_o3PtIE422"
   },
   "source": [
    "\n",
    "Es importante notar la siguiente observación:\n",
    "\n",
    "En el ejemplo anterior donde definimos la serie\n",
    "$$\\sum_{n=1}^{\\infty} \\frac{1}{n} - \\frac{1}{n+1}= 1 -  \\frac{1}{n+1}$$\n",
    "\n",
    "Pues se evalua en el primer término y en el último, este hecho viene de la siguiente observación:\n",
    "$$\\sum_{n=1}^{\\infty} \\frac{1}{n} - \\frac{1}{n+1}= \\left( \\frac{1}{1}- \\frac{1}{2}\\right) + \\left( \\frac{1}{2}- \\frac{1}{3}\\right) + \\left( \\frac{1}{3}- \\frac{1}{4}\\right) + ...$$\n",
    "Evaluando en los primeros indices es claro que al sumar los terminos intermedios dicha suma se va a cero por lo que los terminos restantes serian el primero y el último.\n",
    "\n",
    "*    **Serie de términos positivos** : Es aquella serie donde cada $a_n  \\geqslant0    \\forall n$  por lo que es una serie siempre creciente.\n",
    "\n",
    "En muchas ocasiones resulta difícil determinar la suma de una serie, por esa razón nos conformamos con saber su carácter, es decir si converge o no.\n",
    "\n"
   ]
  },
  {
   "cell_type": "markdown",
   "metadata": {
    "colab_type": "text",
    "id": "n_2EpuODmrJy"
   },
   "source": [
    "#### Criterio de la integral \n",
    "Sea $\\sum_{n=1}^{\\infty}a_n $ una serie de términos positivos y $f(n)=a_n$ para $n \\geqslant 1 $ una función decreciente entonces:\n",
    "\n",
    "\n",
    "\n",
    "*   $\\int_{1}^{ \\infty} f(x) \\cdot dx$ converge, entonces $\\sum_{n=1}^{\\infty}a_n $ converge.\n",
    "*   $\\int_{1}^{ \\infty} f(x) \\cdot dx$ diverge, entonces $\\sum_{n=1}^{\\infty}a_n $ diverge.\n",
    "\n",
    "#### Teorema Serie P\n",
    "Se dice que  $\\sum_{n=1}^{a}a_n $ es una serie P si tiene la forma $\\sum_{n=1}^{a} \\frac{1}{n^p} $ donde $p \\in {\\rm I\\!R}$ diremos que la serie P converge si \n",
    "$ p> 1$ y diverge si $p \\leq 1$.\n",
    "\n",
    "##### Ejemplo\n",
    "La serie armónica $\\sum_{n=1}^{\\infty} \\frac{1}{n} $ diverge, graficamente se observa como:\n",
    "\n",
    "\n"
   ]
  },
  {
   "cell_type": "code",
   "execution_count": null,
   "metadata": {
    "colab": {
     "base_uri": "https://localhost:8080/",
     "height": 420
    },
    "colab_type": "code",
    "id": "9ub2hDQt0GCo",
    "outputId": "2aa302a0-f5c6-4838-d09e-4ac12e9ce774"
   },
   "outputs": [
    {
     "data": {
      "image/png": "[encoded data removed]",
      "text/plain": [
       "<Figure size 576x432 with 1 Axes>"
      ]
     },
     "metadata": {
      "tags": []
     },
     "output_type": "display_data"
    }
   ],
   "source": [
    "def f(t):\n",
    "    return (1/t)\n",
    "\n",
    "\n",
    "t = np.linspace(0.5, 6, num=100)\n",
    "t1 = np.array([1, 2, 3, 4, 5 ])\n",
    "\n",
    "y2 = f(t)\n",
    "y3= f(t1)\n",
    "\n",
    "fig = plt.figure(figsize=(8,6))\n",
    "plt.title(r'$y=\\frac{1}{n}$')\n",
    "plt.suptitle('Serie armónica', fontsize=18)\n",
    "plano_cartesiano()\n",
    "plt.plot(t, y2, color=\"red\", linewidth=2, linestyle=\"-\")\n",
    "plt.bar(t1, y3,width=1.0,align='edge')\n",
    "plt.text(1.1, 1.1, '1',fontsize=20)\n",
    "plt.text(2.1, 0.6, r'$\\frac{1}{2}$',fontsize=20)\n",
    "plt.text(3.1, 0.4, r'$\\frac{1}{3}$',fontsize=20)\n",
    "plt.text(4.1, 0.3, r'$\\frac{1}{4}$',fontsize=20)\n",
    "plt.show()"
   ]
  },
  {
   "cell_type": "markdown",
   "metadata": {
    "colab_type": "text",
    "id": "P3zplscY_-Xd"
   },
   "source": [
    "####  Criterio de la razón\n",
    "\n",
    "Sea  $\\sum_{n=1}^{\\infty}a_n $  una serie en términos positivos y sea \n",
    "$$r= \\lim_{x \\to \\infty} \\frac{a_{n+1}}{a_n} $$\n",
    "\n",
    "Entonces,\n",
    "\n",
    "*   Si $r<1$ entonces $\\sum_{n=1}^{\\infty}a_n $  converge\n",
    "*   Si $r>1$ entonces $\\sum_{n=1}^{\\infty}a_n $ diverge\n",
    "\n",
    "##### Ejemplo \n",
    "\n",
    "Buscamos determinar si la siguiente serie $a_n$ converge o diverge. \n",
    "\n",
    "$$  a_n = \\sum_{n=1}^{\\infty} \\frac{k^k}{k!} $$ \n",
    "\n",
    "Buscaremos el calculo de r dado por:\n",
    "\n",
    "$$r= \\lim_{k \\to \\infty} \\frac{a_{n+1}}{a_n} =  \\frac{\\frac{(k+1)^{k+1}}{k+1!}}{\\frac{k^k}{k!}}$$\n",
    "\n",
    "$$ = \\lim_{k \\to \\infty} \\frac{{k!(k+1)^{k}}{(k+1)}}{{k^k}(k+1){k!}}$$\n",
    "\n",
    "$$ = \\lim_{k \\to \\infty} \\left( 1+ \\frac{1}{n}\\right) ^k$$\n"
   ]
  },
  {
   "cell_type": "code",
   "execution_count": null,
   "metadata": {
    "colab": {
     "base_uri": "https://localhost:8080/",
     "height": 39
    },
    "colab_type": "code",
    "id": "i-wVC0kKS_IR",
    "outputId": "4ab70fe9-487f-4311-b1fc-968db1697435"
   },
   "outputs": [
    {
     "data": {
      "text/latex": [
       "$$e$$"
      ],
      "text/plain": [
       "ℯ"
      ]
     },
     "execution_count": 17,
     "metadata": {
      "tags": []
     },
     "output_type": "execute_result"
    }
   ],
   "source": [
    "x = Symbol('x') \n",
    "y=(1+(1/x))**x \n",
    "limit(y, x, oo)"
   ]
  },
  {
   "cell_type": "markdown",
   "metadata": {
    "colab_type": "text",
    "id": "0GxGM0DUZGu0"
   },
   "source": [
    "Por lo que el valor de $r=e >1$ por lo que según el criterio de la razón la serie $a_n$ diverge.\n",
    "\n",
    "#### Criterio de Leibniz\n",
    "\n",
    "Antes de enunciar el criterio de Leibniz introduciremos la definición de serie alternada.\n",
    "\n",
    "Se dice que una **serie es alternada** cuando sus términos son alternativamente positivos y negativos, por ejemplo $s_n$ es alternada si:\n",
    "\n",
    "$$\\sum_{n=1}^{\\infty}(-1)^{n+1}s_n= s_1-s_2+s_3-s_4+...$$\n",
    "\n",
    "Por lo que el criterio nos dice que una serie alternada $$\\sum_{n=1}^{\\infty}(-1)^{n+1}s_n$$ tal que $s_n>0$, cumpliendose las siguientes condiciones podriamos decir que la serie anternada es convergente.\n",
    "\n",
    "\n",
    "*   $s_n \t\\geq s_{n+1} \\forall  n $ es decir, si $s_n$ es decreciente.\n",
    "*   $ \\lim_{k \\to +\\infty} s_n = 0$\n",
    "\n",
    "##### Ejemplo\n",
    "Realizaremos un ejemplo en el cual utilizaremos diversos conceptos previamente descritos.\n",
    "Determinar si la serie  $\\sum \\frac{(-1)^n}{\\sqrt{n} }$ es convergente.\n",
    "\n",
    "De acuerdo con el Criterio de Leibniz pues la serie es alternada, verificaremos las condiciones.\n"
   ]
  },
  {
   "cell_type": "code",
   "execution_count": 27,
   "metadata": {
    "colab": {
     "base_uri": "https://localhost:8080/",
     "height": 387
    },
    "colab_type": "code",
    "id": "Jvqrh0kjqiZY",
    "outputId": "05f9cb74-e759-416c-8e12-27efe8bd3db8"
   },
   "outputs": [
    {
     "name": "stderr",
     "output_type": "stream",
     "text": [
      "No handles with labels found to put in legend.\n"
     ]
    },
    {
     "data": {
      "image/png": "[encoded data removed]",
      "text/plain": [
       "<Figure size 720x360 with 1 Axes>"
      ]
     },
     "metadata": {
      "needs_background": "light",
      "tags": []
     },
     "output_type": "display_data"
    }
   ],
   "source": [
    "def f(t):\n",
    "    return ((-1)**t)/(np.sqrt(t))\n",
    "\n",
    "\n",
    "t = np.linspace(1, 10, num=10)\n",
    "\n",
    "y2 = f(t)\n",
    "\n",
    "\n",
    "par = [{'title':'Serie', \n",
    "        'xlabel':'$x$',\n",
    "        'ylabel':'$y=f(x)$',\n",
    "       'ylim':(-1,1)}\n",
    "      ]\n",
    "\n",
    "graf = vis.planoCartesiano(par=par)\n",
    "graf.plot(x=t, y=y2,par={'label':'','ls':'-','lw':1,'color':'red', 'zorder':10})\n",
    "graf.legend()\n",
    "graf.show()"
   ]
  },
  {
   "cell_type": "code",
   "execution_count": null,
   "metadata": {
    "colab": {
     "base_uri": "https://localhost:8080/",
     "height": 37
    },
    "colab_type": "code",
    "id": "f25EI5fwtERN",
    "outputId": "acb8ee15-e9bd-4f11-9351-c8fe07700702"
   },
   "outputs": [
    {
     "data": {
      "text/latex": [
       "$$0$$"
      ],
      "text/plain": [
       "0"
      ]
     },
     "execution_count": 62,
     "metadata": {
      "tags": []
     },
     "output_type": "execute_result"
    }
   ],
   "source": [
    "from sympy import limit, oo, Symbol \n",
    "x = Symbol('x') \n",
    "y=abs((-1)**x)/(x**(1/2)) \n",
    "limit(y, x, oo)"
   ]
  },
  {
   "cell_type": "markdown",
   "metadata": {
    "colab_type": "text",
    "id": "OIZESH4o0jEs"
   },
   "source": [
    "Por lo que siguiendo el criterio de las series alternadas esta serie es convergente, Pero según el criterio de convergencia absoluta,\n",
    "\n",
    "$$\\sum \\left|\\frac{(-1)^n}{\\sqrt{n}}\\right| = \\sum\\frac{1}{\\sqrt{n}}\n",
    "$$\n",
    "Bajo este criterio la serie es divergente pues utilizando el teorema de la serie P, ya que $p=\\frac{1}{2} \\leq 1$.\n",
    "\n",
    "De lo anterior es posible concluir que la serie es condicionalmente convergente.\n",
    "\n",
    "## Herramientas interactivas"
   ]
  },
  {
   "cell_type": "markdown",
   "metadata": {
    "colab_type": "text",
    "id": "mTvP_bMKtulk"
   },
   "source": [
    "## Solución al ejemplo de la vida real\n",
    "\n",
    "En el experimento al caso de la lámpara será posible darle solución utilizando la teoría previa.\n",
    "\n",
    "\n",
    "La forma que la serie toma es la siguiente:\n",
    "$$1+ \\frac{1}{2}+  \\frac{1}{4} + \\frac{1}{8} + ...$$\n",
    "Por lo que la serie se ve de la siguiente manera:\n",
    "$$\\sum_{n=0}^{\\infty} \\frac{1}{2^n}$$\n",
    "\n"
   ]
  },
  {
   "cell_type": "code",
   "execution_count": null,
   "metadata": {
    "colab": {
     "base_uri": "https://localhost:8080/",
     "height": 37
    },
    "colab_type": "code",
    "id": "nsfpiIV2_q4U",
    "outputId": "b9918743-721a-40b7-893c-973be0f64b48"
   },
   "outputs": [
    {
     "data": {
      "text/latex": [
       "$$0$$"
      ],
      "text/plain": [
       "0"
      ]
     },
     "execution_count": 66,
     "metadata": {
      "tags": []
     },
     "output_type": "execute_result"
    }
   ],
   "source": [
    "x = Symbol('x') \n",
    "y=(1/(2**(x))\n",
    "limit(y, x, oo)"
   ]
  },
  {
   "cell_type": "code",
   "execution_count": 26,
   "metadata": {
    "colab": {
     "base_uri": "https://localhost:8080/",
     "height": 387
    },
    "colab_type": "code",
    "id": "G673qXLWDIdj",
    "outputId": "4e0b9c9f-b541-47d4-d88f-240af4d12e34"
   },
   "outputs": [
    {
     "name": "stderr",
     "output_type": "stream",
     "text": [
      "No handles with labels found to put in legend.\n"
     ]
    },
    {
     "data": {
      "image/png": "[encoded data removed]",
      "text/plain": [
       "<Figure size 720x360 with 1 Axes>"
      ]
     },
     "metadata": {
      "needs_background": "light",
      "tags": []
     },
     "output_type": "display_data"
    }
   ],
   "source": [
    "\n",
    "def f(t):\n",
    "    return 1/(2**(t))\n",
    "\n",
    "\n",
    "t = np.linspace(0, 10, num=100)\n",
    "\n",
    "\n",
    "y2 = f(t)\n",
    "\n",
    "par = [{'title':'Serie alternada', \n",
    "        'xlabel':'$x$',\n",
    "        'ylabel':'$y=f(x)$',\n",
    "       'ylim':(-0.1,1)}\n",
    "      ]\n",
    "\n",
    "graf = vis.planoCartesiano(par=par)\n",
    "graf.plot(x=t, y=y2,par={'label':'','ls':'-','lw':1,'color':'red', 'zorder':3})\n",
    "graf.show()\n"
   ]
  },
  {
   "cell_type": "markdown",
   "metadata": {
    "colab_type": "text",
    "id": "CqUWUJ49EUkh"
   },
   "source": [
    "Al realizar la suma de la serie, la lámpara converge en el minuto 2.\n",
    "Pero la pregunta final será si la lámpara estará prendida o apagada al terminar los dos minutos.\n",
    "\n",
    "La pregunta es interesante pero no es fácil de responder en lo abstracto pues respoder dicha pregunta es análogamente a responder si el último número de $\\pi$ es par o impar. \n",
    "\n",
    "## Referencias\n",
    "\n",
    " \n",
    "*   Banach, S., Cálculo Diferencial e Integral. México: UTEHA, 1991.\n",
    "\n",
    "*   Thompson, Silvanus Phillips, 1851-1916, autor.México : McGraw-Hill Interamericana, 2012.\n",
    "\n",
    "*   Courant, R., John, F., Introducción al Cálculo y al Análisis. México: Editorial Limusa, 1996.\n",
    "\n",
    "\n"
   ]
  }
 ],
 "metadata": {
  "colab": {
   "collapsed_sections": [],
   "name": "06_Series.ipynb",
   "provenance": []
  },
  "kernelspec": {
   "display_name": "Python 3",
   "language": "python",
   "name": "python3"
  },
  "language_info": {
   "codemirror_mode": {
    "name": "ipython",
    "version": 3
   },
   "file_extension": ".py",
   "mimetype": "text/x-python",
   "name": "python",
   "nbconvert_exporter": "python",
   "pygments_lexer": "ipython3",
   "version": "3.7.6"
  }
 },
 "nbformat": 4,
 "nbformat_minor": 1
}
