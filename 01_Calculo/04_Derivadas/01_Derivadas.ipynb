{
  "nbformat": 4,
  "nbformat_minor": 0,
  "metadata": {
    "colab": {
      "name": "01_Derivadas.ipynb",
      "provenance": [],
      "collapsed_sections": [],
      "toc_visible": true,
      "include_colab_link": true
    },
    "kernelspec": {
      "display_name": "Python 3",
      "language": "python",
      "name": "python3"
    },
    "language_info": {
      "codemirror_mode": {
        "name": "ipython",
        "version": 3
      },
      "file_extension": ".py",
      "mimetype": "text/x-python",
      "name": "python",
      "nbconvert_exporter": "python",
      "pygments_lexer": "ipython3",
      "version": "3.8.3"
    }
  },
  "cells": [
    {
      "cell_type": "markdown",
      "metadata": {
        "id": "view-in-github",
        "colab_type": "text"
      },
      "source": [
        "<a href=\"https://colab.research.google.com/github/jugernaut/Prometeo/blob/desarrollo/01_Calculo/04_Derivadas/01_Derivadas.ipynb\" target=\"_parent\"><img src=\"https://colab.research.google.com/assets/colab-badge.svg\" alt=\"Open In Colab\"/></a>"
      ]
    },
    {
      "cell_type": "markdown",
      "metadata": {
        "id": "JbZHRV7HQxhT"
      },
      "source": [
        "# Derivadas\n",
        "### Trabajo realizado con el apoyo del Programa UNAM-DGAPA-PAPIME PE101019\n",
        "*   Autores: \n",
        "    - Ingrid Pamela Ruiz Puga\n",
        "    - Luis M. de la Cruz Salas\n",
        "*   Rev: lun nov  9 12:23:01 CST 2020"
      ]
    },
    {
      "cell_type": "code",
      "metadata": {
        "id": "HpZI7SDzhWr2"
      },
      "source": [
        "# COLAB\n",
        "#!git clone https://github.com/jugernaut/Prometeo.git #rama  master\n",
        "#!git clone --branch desarrollo https://github.com/jugernaut/Prometeo.git #rama desarrollo \n",
        "#import Prometeo.Utils.gutils as vis\n",
        "\n",
        "# Linux, MacOS y windows\n",
        "import os, sys\n",
        "sys.path.insert(0, os.path.abspath('../../'))\n",
        "import Utils.gutils as vis\n",
        "\n",
        "import numpy as np\n",
        "import pandas as pd"
      ],
      "execution_count": null,
      "outputs": []
    },
    {
      "cell_type": "markdown",
      "metadata": {
        "id": "MfrLEZ67VFAW"
      },
      "source": [
        "## Introducción\n",
        "\n",
        "Si revisamos con cuidado, algunas definiciones matemáticas utilizan un tipo de figura literaria conocida como <a href=https://es.wikipedia.org/wiki/Ox%C3%ADmoron>*oxímoron*</a>. En términos simples, un oxímoron consiste en usar dos conceptos de significado opuesto y con ello generar un tercer concepto. \n",
        "\n",
        "Por ejemplo: **La razón de cambio instantáneo**. \n",
        "- Cuando se habla de un *cambio*, se requiere de la comparación entre dos o más estados y con ello analizar las diferencias entre un estado y otro; \n",
        "- por otro lado, la palabra *instantáneo* tiene que ver con algo que dura un instante, es decir un tiempo puntal. \n",
        "\n",
        "Entonces el concepto \"**cambio instantáneo**\" representa un oxímoron. Pero ¿cuál es su significado?\n",
        "¿Será importante este concepto en nuestra vida diaria?\n",
        "\n",
        "En lo que sigue veremos que la razón de cambio instantáneo tiene que ver con un concepto muy importante en Cálculo: *la derivada*."
      ]
    },
    {
      "cell_type": "markdown",
      "metadata": {
        "id": "0qKBV30-Qxju"
      },
      "source": [
        "### Ejemplo 1: La curva del olvido\n",
        "\n",
        "Un estudiante de lenguas participará en un concurso internacional cuyo principal reto es el conocimiento del vocabulario de un cierto idioma. Por ello, es importante que el estudiante utilice un método de estudio adecuado para recordar el significado del mayor número de palabras posible.\n",
        "\n",
        "La <a href=https://es.wikipedia.org/wiki/Curva_del_olvido>curva del olvido</a> puede ayudar al estudiante a generar un plan de estudio adecuado. La función que define esta curva es la siguiente:\n",
        "\n",
        "$$\n",
        "R(t) = e^{-t/S}\n",
        "$$\n",
        "\n",
        "donde $R$ es cuanto recordamos, $S$ es la intensidad del recuerdo y $t$ el tiempo. Podemos definir $S \\in (0,1]$, donde $1$ es la máxima intensidad de recuerdo y un valor cercano a $0$ corresponde a algo que no nos interesa nada.\n",
        "\n",
        "**Observación**: $S$ no puede ser exactamente $0$ por que en ese caso la función $R(t)$ no está definida.\n",
        "\n",
        "La siguiente gráfica muestra cómo decrecen nuestros recuerdos con el paso del tiempo."
      ]
    },
    {
      "cell_type": "code",
      "metadata": {
        "id": "yy_3_8SkQxj5"
      },
      "source": [
        "R = lambda t, S: np.exp(-t/S)\n",
        "t = np.linspace(0, 7, 100)\n",
        "\n",
        "par = [{'title':'Función del olvido: $R(t) = e^{-t/S}$', \n",
        "        'xlabel':'$t$ [días]',\n",
        "        'ylabel':'$R$'}\n",
        "      ]\n",
        "\n",
        "graf = vis.planoCartesiano(par=par)\n",
        "for S in [0.1, 0.5, 0.9]:\n",
        "    graf.plot(x= t, y= R(t, S), par={'label':'S = {}'.format(S)})\n",
        "graf.legend()\n",
        "graf.show()"
      ],
      "execution_count": null,
      "outputs": []
    },
    {
      "cell_type": "markdown",
      "metadata": {
        "id": "G1a-acDJQxk1"
      },
      "source": [
        "¿Será posible determinar cada cuanto tiempo el estudiante debe repasar las palabras para que no las olvide y pueda ganar el concurso? ¿De qué depende esto?\n",
        "\n",
        "Tomemos por ejemplo el caso de $S=0.9$ (curva naranja). ¿En qué parte de la gráfica el descenso es más rápido?, en otras palabras, ¿en qué parte de la gráfica el olvido se incrementa? Para conocer ese descenso, debemos calcular la pendiente y eso lo podemos hacer con la siguiente fórmula:\n",
        "\n",
        "$$\n",
        "m = \\frac{R(t_2) - R(t_1)}{t_2 - t_1}\n",
        "$$\n",
        "\n",
        "Como es obvio, este valor de la pendiente cambiará cuando $t_1$ y $t_2$ cambien. Definamos entonces $h = t_2 - t_1$ y $t = t_1$. Con ello podemos escribir:\n",
        "\n",
        "$$\n",
        "m(t) = \\frac{R(t + h) - R(t)}{h}\n",
        "$$\n",
        "\n",
        "En esta última fórmula vemos que la pendiente depende de $t$.\n",
        "Vamos a calcular $m$ para $h = 1$ y $t = [0,1,2,3,4,5,6]$:"
      ]
    },
    {
      "cell_type": "code",
      "metadata": {
        "id": "mzVhoqawQxlA"
      },
      "source": [
        "S = 0.9\n",
        "h = 1.0\n",
        "td = np.arange(0,8,h) \n",
        "m = np.zeros(len(td))\n",
        "\n",
        "for i,x in enumerate(td):\n",
        "    m[i] = (R(x + h, S) - R(x, S)) / h\n",
        "\n",
        "tabla = pd.DataFrame(np.array([td, m, ]).T, columns = ['t', 'm(t)'])\n",
        "tabla"
      ],
      "execution_count": null,
      "outputs": []
    },
    {
      "cell_type": "markdown",
      "metadata": {
        "id": "O_OTBP_-Qxlo"
      },
      "source": [
        "Observamos que la pendiente es negativa, lo cual indica un decrecimiento. También, la magnitud de la pendiente (su valor absoluto) disminuye conforme $t$ se incrementa. Es posible visualizar la pendiente uniendo los puntos con los que se realizó el cálculo de la misma, y también se puede graficar como función del tiempo veamos ambas cosas en las siguientes gráficas:"
      ]
    },
    {
      "cell_type": "code",
      "metadata": {
        "id": "DKnaTpOOQxlz"
      },
      "source": [
        "par = [{'title':'Función del olvido: $R(t) = e^{-t/S}$ para $S = 0.9$', \n",
        "        'xlabel':'$t$ [días]',\n",
        "        'ylabel':'$R$'},\n",
        "       {'title':'Pendiente $m(t)$', \n",
        "        'xlabel':'$t$ [días]',\n",
        "        'ylabel':'$m$'},\n",
        "      ]\n",
        "graf = vis.planoCartesiano(1,2, par=par, par_fig={'figsize':(14,5)})\n",
        "graf.plot(1, x = t, y = R(t, S), par={'color':'C2'})\n",
        "graf.plot(1, x = td, y = R(td,S), par={'lw':1,'color':'black', 'marker':'o','zorder':5})\n",
        "graf.plot(2, x = td, y = m, par={'ls':'--', 'lw':1, 'color':'black', 'marker':'o','zorder':5})\n",
        "graf.show()"
      ],
      "execution_count": null,
      "outputs": []
    },
    {
      "cell_type": "markdown",
      "metadata": {
        "id": "oktmvpGrQxmU"
      },
      "source": [
        "En la gráfica de la izquierda, la línea negra nos muestra gráficamente el cambio en la pendiente de la recta que une los puntos de la gráfica de $R(t)$. En la gráfica de la derecha, observamos el cámbio de la pendiente $m$ en función de $t$.\n",
        "\n",
        "Lo que estamos observando es la razón de cambio de $R(t)$ en intervalos de tiempo de longitud $h = 1$. Esto es lo que expresa la fórmula de $m(t)$. \n",
        "\n",
        "¿Será posible calcular **la razón de cambio instantáneo**? Para ello, esta razón debería calcularse en un solo instante de tiempo, lo cual implica que $t_1 = t_2 \\Longrightarrow h = 0$, y esto nos lleva a que la fórmula de $m(t)$ no está bien definida (división por cero!). Pero, ¿qué pasa si $h$ se hace muy pequeña? es decir:\n",
        "\n",
        "$$\n",
        "\\lim_{h \\to 0}  \\frac{R(t + h) - R(t)}{h}\n",
        "$$\n",
        "\n",
        "En la siguiente visualización puedes modificar $S$, $h$ y $t$. Observa lo que sucede cuando $h \\to 0$. "
      ]
    },
    {
      "cell_type": "code",
      "metadata": {
        "id": "haAyxNTuQxmd"
      },
      "source": [
        "# Google Colab\n",
        "#%run \"/content/Prometeo/01_Calculo/04_Derivadas/zDerivadas_interactive_01.ipynb\"\n",
        "\n",
        "# Linux, MacOS y Windows\n",
        "%run \"./zDerivadas_interactive_01.ipynb"
      ],
      "execution_count": null,
      "outputs": []
    },
    {
      "cell_type": "markdown",
      "metadata": {
        "id": "VuA-d1mZQxnL"
      },
      "source": [
        "Conforme $h$ se hace más pequeño, observamos que la línea roja se aproxima cada vez mejor a la línea tangente que pasa por el punto rojo. Dicha línea representa una aproximación a la razón de cambio instantánea en el punto rojo.\n",
        "Entonces, la tangente en el punto rojo, no es otra cosa que la razón de cambio instantánea. Veremos enseguida que ambas cosas se representan un concepto conocido como *la derivada de la función* en el punto rojo."
      ]
    },
    {
      "cell_type": "markdown",
      "metadata": {
        "id": "gxSHRNLxhWsU"
      },
      "source": [
        "## Definición de derivada\n",
        "\n",
        "En todos los libros de cálculo encontrarás la siguiente definición y notación para la derivada de la función $f(x)$:\n",
        "\n",
        "$$ \n",
        "\\frac{d f}{dx} = f^\\prime(x)=\\lim_{h \\to 0} \\frac{f(x + h) - f(x)}{h} \n",
        "$$\n",
        "\n",
        "La derivada existe siempre y cuando exista el límite. ¿Puedes imaginar cuando este límite no existe? Observe que en la definición anterior se está calculando la pendiente de la función $f(x)$ en $x$, ¿cuándo es que esta pendiente no se puede calcular?\n",
        "\n",
        "Para tener una mejor idea de lo que este límite significa vea el siguiente interactivo."
      ]
    },
    {
      "cell_type": "code",
      "metadata": {
        "id": "halPofTIQxnR"
      },
      "source": [
        "# Google Coolab\n",
        "#%run \"/content/Prometeo/01_Calculo/04_Derivadas/zDerivadas_interactive_02.ipynb\"\n",
        "\n",
        "# Linux, MacOS y Windows\n",
        "%run \"./zDerivadas_interactive_02.ipynb\""
      ],
      "execution_count": null,
      "outputs": []
    },
    {
      "cell_type": "markdown",
      "metadata": {
        "id": "d7RnQikoQxn6"
      },
      "source": [
        "### Ejemplo 2\n",
        "\n",
        "Consideremos la función $f(x) = x^3$ y apliquemos la definición de derivada:\n",
        "\n",
        "$$\n",
        "\\frac{d f}{dx} = \\lim_{h \\to 0} \\frac{f(x + h) - f(x)}{h} = \\lim_{h \\to 0} \\frac{(x + h)^3 - x^3}{h}\n",
        "$$\n",
        "\n",
        "Si expandimos los términos del numerador obtenemos:\n",
        "\n",
        "$$\n",
        "\\frac{d f}{dx} = \\lim_{h \\to 0} \\, (3x^2 + 3 x h + h ^2)\n",
        "$$\n",
        "\n",
        "Al calcular el límite de la derecha obtenemos:\n",
        "\n",
        "$$\n",
        "\\frac{d f}{dx} = 3x^2\n",
        "$$\n",
        "\n",
        "Hemos calculado la derivada analítica de $f(x) = x^3$. Veamos como se ven $f(x)$ y $f^\\prime(x)$:"
      ]
    },
    {
      "cell_type": "code",
      "metadata": {
        "id": "OuYiAKVqQxn_"
      },
      "source": [
        "par = [{'title':'$f(x)$ y $f^\\prime(x)$', \n",
        "        'xlabel':'$x$',\n",
        "        'ylabel':'$f, f^\\prime$'}\n",
        "      ]\n",
        "x = np.linspace(0,10,100)\n",
        "graf = vis.planoCartesiano(par=par)\n",
        "graf.plot(x = x, y = x**3, par={'label':'$f(x)=x^3$'})\n",
        "graf.plot(x = x, y = 3*x**2, par={'label':'$f^\\prime(x)=3x^2$'})\n",
        "graf.legend()\n",
        "graf.show()"
      ],
      "execution_count": null,
      "outputs": []
    },
    {
      "cell_type": "markdown",
      "metadata": {
        "id": "lKuFhygnBx29"
      },
      "source": [
        "## Reglas de derivación\n",
        "\n",
        "En general es fácil calcular la derivada de cualquier función y existen reglas para hacerlo más fácil.\n",
        " \n",
        "\n",
        "**Regla de potencias**\n",
        "\n",
        "Para cualquier número real $n$ si $f(x)= x^n$, entonces\n",
        "$$\n",
        "f(x) = n * x^{n-1}\n",
        "$$\n",
        "\n",
        "**Regla de la función constante**\n",
        "\n",
        "Si $f(x)=c$ es una función constante, entonces\n",
        "$$ \n",
        "f^\\prime(x)=0 \n",
        "$$\n",
        "\n",
        "**Regla de la multiplicación por constante**\n",
        "\n",
        "Si $c$ es cualquier constante y $f(x)$ es diferenciable, entonces $g(x)= c f(x)$ también es diferenciable y su derivada es:\n",
        "$$ \n",
        "g^\\prime(x) = c f(x) \n",
        "$$\n",
        "\n",
        "**Regla de suma y diferencia**\n",
        "\n",
        "Si $f(x)$ y $g(x)$ son diferenciables, entonces $f(x) + g(x)$ y $f(x) - g(x)$ también son diferenciables y sus derivadas son:\n",
        "$$ \n",
        "[f(x)+ g(x)]^\\prime = f^\\prime(x) + g^\\prime(x) \n",
        "$$\n",
        "\n",
        "$$ \n",
        "[f(x)- g(x)]^\\prime=f^\\prime(x) - g^\\prime(x) \n",
        "$$\n",
        "\n",
        "**Regla del producto**\n",
        "\n",
        "Si $f(x)$ y $g(x)$ son funciones diferenciables, entonces $f(x)g(x)$ es diferenciable y su derivada es:\n",
        "$$ \n",
        "[f(x) g(x)]^\\prime= f(x)g^\\prime(x) + g(x)f^\\prime(x) \n",
        "$$\n",
        "\n",
        "**Regla del cociente**\n",
        "\n",
        "Si $f$ y $g$ son funciones diferenciables y $g(x) \\neq 0$, entonces $f(x)/g(x)$ es diferenciable y su derivada es: \n",
        "$$  \n",
        "\\left[\\frac{f(x)}{g(x)} \\right] = \\frac{f(x)g^\\prime(x)- f(x)g^\\prime(x) }{g(x)^2}\n",
        "$$\n",
        "\n",
        "**Regla  de la cadena**\n",
        "\n",
        "Si la función $f(u)$ es diferenciable, donde $u = g(x)$, y la función $g(x)$ es diferenciable, entonces la composición $y=(f \\circ g)(x)= f(g(x))$ es diferenciable:\n",
        "$$ \n",
        "f(g(x))^\\prime = f^\\prime(g(x)) \\cdot g^\\prime(x)  \n",
        "$$\n",
        "\n",
        "**Regla de L’Hôpital**\n",
        "\n",
        "Esta regla es utilizada en caso de indeterminaciones donde $f(x)$ y $g(x)$ son dos funciones continuas definidas en el intervalo $[a,b]$, derivables en $(a,b)$ y sea $c$ perteneciente a $(a,b)$ tal que $f(c)=g(c)=0$ y $g^\\prime(x) \\neq 0$ si $x \\neq c$. Si existe el límite $L$ de $f^\\prime/g^\\prime$ en $c$, entonces existe el límite de $f(x)/g(x)$ (en $c$) y es igual a $L$. Por lo tanto:\n",
        "$$ \n",
        "\\lim_{x \\to c} \\frac{f(x)}{g(x)} = \\lim_{x \\to c} \\frac{f^\\prime(x)}{g^\\prime(x)} = L \n",
        "$$\n",
        "\n",
        "**Derivadas de funciones trigonométricas**\n",
        "\n",
        "$$\n",
        "\\begin{eqnarray}\n",
        "\\sin^\\prime(x) & = & \\cos(x) \\\\ \n",
        "\\tan^\\prime(x) & = & \\sec^2(x) \\\\\n",
        "\\sec^\\prime(x) & = & \\sec(x)tan(x) \\\\\n",
        "\\cos^\\prime(x) & = & -\\sin(x) \\\\\n",
        "\\cot^\\prime(x) & = & -\\csc^2(x) \\\\\n",
        "\\csc^\\prime(x) & = & -\\csc(x)cot(x)\n",
        "\\end{eqnarray}\n",
        "$$\n",
        "\n"
      ]
    },
    {
      "cell_type": "markdown",
      "metadata": {
        "id": "A2K-KR4RQxoq"
      },
      "source": [
        "***\n",
        "**Teorema de Rolle :**\n",
        "Sea $a < b$ y suponga que $f : [a, b] → {\\mathbb{R}}$ es derivable en $(a, b)$ y continua\n",
        "en $[a, b]$ y $f(a) = f(b)$. Entonces $∃ x_0 ∈ (a, b)$ tal que $f^\\prime(x_0) = 0$\n",
        "***\n",
        "Lo anterior quiere decir que, dadas las condiciones del teorema, es posible encontrar un punto de la función $f(x)$ dentro del intervalo $(a,b)$ donde la derivada, esto es la línea tangente, es cero, en otras palabras, en ese punto la línea tangente es horizontal. \n",
        "\n",
        "### Ejemplo 3\n",
        "\n",
        "Considere la función $f(x)= x^2 + 5$, la cual es continúa en todo $\\mathbb{R}$. Tomemos el intervalo $[-5,5]$ y hagamos la gráfica de esta función. Observe en la gráfica que sigue, que se cumplen las condiciones del Teorema de Rolle y por lo tanto es posible encontrar un punto $c$, punto rojo, donde la derivada es cero (línea roja)."
      ]
    },
    {
      "cell_type": "code",
      "metadata": {
        "id": "_628r9Kj37-r"
      },
      "source": [
        "f = lambda x: x**2 + 5\n",
        "\n",
        "x = np.linspace(-8, 8, num=50)\n",
        "\n",
        "par = [{'title':'$f(x)=x^2 + 5$', \n",
        "        'xlabel':'$x$',\n",
        "        'ylabel':'$f(x)$'}\n",
        "      ]\n",
        "\n",
        "graf = vis.planoCartesiano(par=par)\n",
        "graf.plot(x= x, y = f(x))\n",
        "\n",
        "graf.plot(x=[-3,3],y=[f(0),f(0)],par={'label':'Línea tangente','c':'red'})\n",
        "\n",
        "graf.scatter(x=0, y=f(0), par={'label':'Punto donde $f^\\prime= 0$','fc':'red', 'ec':'black', 'alpha':0.75, 's':75, 'zorder':10})\n",
        "graf.scatter(x=[-5,5], y=[0,0], par={'label':'Puntos $a$ y $b$','color':'black', 'zorder':10})\n",
        "graf.scatter(x=[-5,5], y=[f(-5),f(5)], par={'label':'$f(a)$ y $f(b)$','color':'blue', 'zorder':10})\n",
        "\n",
        "graf.plot(x=[-10,10],y=[f(-5),f(5)],par={'c':'green','ls':'--','lw':2})\n",
        "graf.plot(x=[-5,-5],y=[0,f(-5)],par={'c':'green','ls':'--','lw':2})\n",
        "graf.plot(x=[5,5],y=[0,f(5)],par={'c':'green','ls':'--','lw':2})\n",
        "\n",
        "graf.ticks(xticks=[-5,0,5])\n",
        "graf.legend(par={'loc':'upper center'})\n",
        "graf.show()"
      ],
      "execution_count": null,
      "outputs": []
    },
    {
      "cell_type": "markdown",
      "metadata": {
        "id": "vnqNwgjgQxpg"
      },
      "source": [
        "## Derivadas de orden superior\n",
        "\n",
        "Es posible obtener la derivada de la derivada, es decir, si tenemos una función $f(x)$ cuya derivada es $f^\\prime(x)$, entonces podemos calcular la derivada a esta última función, para obtener $f^{\\prime\\prime}(x)$, a esta última función, si es que existe, se le conoce como la segunda derivada de $f(x)$. También se puede denotar a la segunda derivada com $f^{(2)}(x)$.\n",
        "\n",
        "En general, si $f(x)$ es derivable $k$ veces, entonces es posible obtener la $k$-ésima derivada de dicha función, que se escribe como:\n",
        "$$ \n",
        "\\frac{d^kf(x)}{dx^k} = f^{(k)}(x)\n",
        "$$"
      ]
    },
    {
      "cell_type": "markdown",
      "metadata": {
        "id": "Nj2YjNXmhWsj"
      },
      "source": [
        "### Ejemplo 4\n",
        "\n",
        "Calcular la cuarta derivada de $f(x)= 3x^4 + 2x^2 - 20$.\n",
        "  \n",
        "Para calcular la derivada solicitada de $f(x)$ se deben realizar los cálculos recursivos desde la primera derivada de la función:\n",
        "\n",
        "$$\n",
        "\\begin{eqnarray}\n",
        "f^\\prime(x) & = & 12x^3 + 4x \\\\\n",
        "f^{(2)}(x) & = & 36x^2 + 4 \\\\\n",
        "f^{(3)}(x) & = & 72x  \\\\\n",
        "f^{(4)}(x) & = & 72 \\\\\n",
        "\\end{eqnarray}  \n",
        "$$ \n",
        "\n",
        "Observe las gráficas de cada función y explique el comportamiento de cada una de ellas."
      ]
    },
    {
      "cell_type": "code",
      "metadata": {
        "id": "T7pqrR4UhWsk"
      },
      "source": [
        "f = lambda x: 3*x**4 + 2*x**3 -20\n",
        "f1 = lambda x: 12*x**3 + 4*x\n",
        "f2 = lambda x: 36*x**2 + 4\n",
        "f3 = lambda x: 72*x\n",
        "f4 = lambda x: 72*np.ones(len(x))\n",
        "\n",
        "x = np.linspace(-3, 3, num=50)\n",
        "\n",
        "par = [{'title':'$f(x)=3x^4 + 2x^3 -20$ y sus derivadas', \n",
        "        'xlabel':'$x$',\n",
        "        'ylabel':''}\n",
        "      ]\n",
        "\n",
        "graf = vis.planoCartesiano(par=par)\n",
        "graf.plot(x = x, y = f(x), par={'label':'$f(x)$'})\n",
        "graf.plot(x = x, y = f1(x), par={'label':'$f^{(1)}(x)$'})\n",
        "graf.plot(x = x, y = f2(x), par={'label':'$f^{(2)}(x)$'})\n",
        "graf.plot(x = x, y = f3(x), par={'label':'$f^{(3)}(x)$'})\n",
        "graf.plot(x = x, y = f4(x), par={'label':'$f^{(4)}(x)$'})\n",
        "graf.legend()\n",
        "graf.show()"
      ],
      "execution_count": null,
      "outputs": []
    },
    {
      "cell_type": "markdown",
      "metadata": {
        "id": "51x4wn4HQxpm"
      },
      "source": [
        "### Ejemplo 5\n",
        "\n",
        "1. Utilizando la regla de L'Hopital encuentra el límite de $\\displaystyle f(x)=\\frac{\\sin(x)}{x}$ cuando $x$ tiende a cero.\n",
        "2. Encuentra la primera y segunda derivada de la siguientes funciones:\n",
        "- a) $f(x)= x^5 - 2x^3 + x$ \n",
        "- b) $f(x)= 4 \\cos x^2$\n",
        "\n",
        "**Solución 1.**\n",
        "\n",
        "1. Al cumplirse las condiciones de la regla podemos asegurar que:\n",
        " $$ \\lim_{x \\to 0} \\frac{\\sin (x)}{x} = \\lim_{x \\to 0} \\frac{\\sin^\\prime(x)}{x^\\prime} = \\lim_{x \\to 0} \\frac{\\cos(x)}{1}=1$$\n"
      ]
    },
    {
      "cell_type": "code",
      "metadata": {
        "id": "lK4HuGKShWso"
      },
      "source": [
        "f = lambda x: np.sin(x) / x\n",
        "\n",
        "x = np.linspace(0.01, 8*np.pi, num=100)\n",
        "\n",
        "par = [{'title':'$f(x)=\\sin(x) / x$', \n",
        "        'xlabel':'$x$',\n",
        "        'ylabel':'f(x)'}\n",
        "      ]\n",
        "\n",
        "graf = vis.planoCartesiano(par=par)\n",
        "graf.plot(x = x, y = f(x))\n",
        "graf.scatter(x=0, y=1, par={'label':'Límite cuando $x \\Rightarrow 0$','fc':'red', 'ec':'black', 'alpha':0.75, 's':75, 'zorder':10})\n",
        "\n",
        "graf.legend()\n",
        "graf.show()"
      ],
      "execution_count": null,
      "outputs": []
    },
    {
      "cell_type": "markdown",
      "metadata": {
        "id": "aaPZwBh0hWss"
      },
      "source": [
        "**Solución 2.**\n",
        "\n",
        "2.a) Aplicando las reglas de derivación obtenemos:\n",
        "  $$f^\\prime(x)= 5x^4 - 6x^2 +1$$ \n",
        "  $$f^{\\prime\\prime}(x)= 20x^3 - 12 x $$ \n",
        "\n",
        "2.b) Aplicando las regla de la cadena obtenemos:\n",
        "  $$f^\\prime(x)= -4 \\sin x^2(2x) = -8x \\sin x^2$$ \n",
        "  $$f^{\\prime\\prime}(x)= -8 \\sin x^2 -8x (\\cos x^2(2x)) = -8 \\sin x^2 -16x^2 (\\cos x^2)$$ "
      ]
    },
    {
      "cell_type": "code",
      "metadata": {
        "id": "td3670CYhWst"
      },
      "source": [
        "f = lambda x: x**5 - 2*x**3 + x\n",
        "f1 = lambda x: 5*x**4 -6*x**2 + 1\n",
        "f2 = lambda x: 20*x**3 - 12*x\n",
        "\n",
        "g = lambda x: 4*np.cos(x**2)\n",
        "g1 = lambda x: -8*x*np.sin(x**2)\n",
        "g2 = lambda x: -8*np.sin(x**2) - 16*x**2*np.cos(x**2)\n",
        "\n",
        "x = np.linspace(-3, 3, num=50)\n",
        "\n",
        "par = [{'title':'$f(x)=x^5 - 2x^3 + x$ y sus derivadas', \n",
        "        'xlabel':'$x$',\n",
        "        'ylabel':''},\n",
        "       {'title':'$f(x)=4\\cos(x^2)$ y sus derivadas', \n",
        "        'xlabel':'$x$',\n",
        "        'ylabel':''}\n",
        "      ]\n",
        "\n",
        "graf = vis.planoCartesiano(1,2, par=par)\n",
        "graf.plot(1,x = x, y = f(x), par={'label':'$f(x)$'})\n",
        "graf.plot(1,x = x, y = f1(x), par={'label':'$f^{(1)}(x)$'})\n",
        "graf.plot(1,x = x, y = f2(x), par={'label':'$f^{(2)}(x)$'})\n",
        "graf.plot(2,x = x, y = g(x), par={'label':'$g(x)$'})\n",
        "graf.plot(2,x = x, y = g1(x), par={'label':'$g^{(1)}(x)$'})\n",
        "graf.plot(2,x = x, y = g2(x), par={'label':'$g^{(2)}(x)$'})\n",
        "graf.legend()\n",
        "graf.show()"
      ],
      "execution_count": null,
      "outputs": []
    },
    {
      "cell_type": "markdown",
      "metadata": {
        "id": "dJnp34DNIu3b"
      },
      "source": [
        "## Referencias\n",
        "\n",
        "*   Matemáticas 1 :cálculo diferencial / Dennis G. Zill, Warren S. Wright ; adaptación y revisión técnica, Joel Ibarra Escutia ; [traductores: Hugo Villagómez Velazquéz y Gabriel Nagore Cázar\n",
        "*   Cálculo 1 de una variable / Ron Larson, Bruce H. Edwards"
      ]
    }
  ]
}