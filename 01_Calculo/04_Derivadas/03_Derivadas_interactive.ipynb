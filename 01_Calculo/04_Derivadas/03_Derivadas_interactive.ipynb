{
 "cells": [
  {
   "cell_type": "code",
   "execution_count": 4,
   "metadata": {
    "colab": {
     "base_uri": "https://localhost:8080/",
     "height": 469,
     "referenced_widgets": [
      "065bb7d0ef4949f9a015c18cddccb752",
      "74d6ae73d7e241fc8c34bfd5bc83b169",
      "a746d27427834d8e913e39a97353f149",
      "be5c67df9f8a4476975c3609d537bb67",
      "6fbfd1a2b62340a89a1f9e993758124a",
      "1d1385ea0ca94f04a459d6f240734374",
      "c1208b2b3f1f4b46be6083fd927424a8",
      "8cb2e50c2c7942e7bed20b33c6cec2b9",
      "347d2a20df324f3dba63187ea36ed2b4",
      "9f8012a8c2f94c8988d26dd3a566294a"
     ]
    },
    "id": "XbuXBOuCSmyd",
    "outputId": "3a2b33d5-03f1-4e4e-a9a9-e3c7172a3466"
   },
   "outputs": [
    {
     "name": "stdout",
     "output_type": "stream",
     "text": [
      "fatal: destination path 'Prometeo' already exists and is not an empty directory.\n"
     ]
    },
    {
     "data": {
      "application/vnd.jupyter.widget-view+json": {
       "model_id": "065bb7d0ef4949f9a015c18cddccb752",
       "version_major": 2,
       "version_minor": 0
      },
      "text/plain": [
       "interactive(children=(FloatSlider(value=1.0, description='h', max=1.0, min=0.1), FloatSlider(value=6.0, descri…"
      ]
     },
     "metadata": {
      "tags": []
     },
     "output_type": "display_data"
    },
    {
     "data": {
      "text/plain": [
       "<function __main__.derivada>"
      ]
     },
     "metadata": {
      "tags": []
     },
     "output_type": "display_data"
    }
   ],
   "source": [
    "#!git clone https://github.com/jugernaut/Prometeo.git\n",
    "#import os\n",
    "#import Prometeo.Utils.gutils as vis\n",
    "#from sympy import Symbol, cos, sin, tan, exp, log, series\n",
    "#from sympy.utilities.lambdify import lambdify\n",
    "from ipywidgets import interact, interactive, fixed\n",
    "import ipywidgets as widgets\n",
    "#import numpy as np\n",
    "#%matplotlib inline\n",
    "\n",
    "def derivada(f, g, h, x0):\n",
    "    \n",
    "    x = np.linspace(0, 10, 100)\n",
    "\n",
    "    par = [{'title':'Derivada'}]\n",
    "    graf = vis.planoCartesiano(par=par)\n",
    "    graf.plot(x = x, y = f(x), par={'label':'$f(x)$','color':'C0'})\n",
    "    graf.plot(x = x, y = g(x), par={'label':'$f^\\prime(x)$','color':'C1'})\n",
    "\n",
    "    graf.ticks(xticks = [x0, x0 + h], yticks = [f(x0), f(x0 + h)])\n",
    "    graf.label_ticks(xlabel=['$x$','$x+h$'], ylabel=['$f(x)$', '$f(x+h)$'])\n",
    "    \n",
    "    x1 = x0 + h\n",
    "    graf.scatter(x=x0, y = f(x0), par={'s':75, 'color':'black', 'zorder':5})\n",
    "    graf.scatter(x=x1, y = f(x1), par={'s':75, 'color':'black', 'zorder':5})\n",
    "    \n",
    "    graf.plot(x=[x0,x1], y=[f(x0),f(x0)], par={'lw':2, 'color':'black', 'zorder':6})\n",
    "    graf.plot(x=[x1,x1], y=[f(x0),f(x1)], par={'lw':2, 'color':'black', 'zorder':6})\n",
    "    graf.plot(x=[x0,x1], y=[f(x0),f(x1)], par={'lw':2, 'color':'black', 'zorder':6})\n",
    "\n",
    "    graf.scatter(x=x0, y = g(x0), par={'s':75, 'fc':'C1', 'ec':'black', 'alpha':0.75, 'zorder':5})\n",
    "\n",
    "    graf.legend()\n",
    "    graf.show()\n",
    "\n",
    "f = lambda x: x**2 + 20 * np.sin(0.5*x)**2\n",
    "g = lambda x: 2 * x - 20 * np.cos(0.5*x)\n",
    "h = 1.0\n",
    "\n",
    "w = interact(derivada,\n",
    "             f = fixed(f),\n",
    "             g = fixed(g),\n",
    "             h = widgets.FloatSlider(min=0.1, max=1.0, step=0.1, value=1.0),\n",
    "             x0 = widgets.FloatSlider(min=0, max=9, step=1, value=6, description='x'))\n",
    "display(w)"
   ]
  }
 ],
 "metadata": {
  "colab": {
   "collapsed_sections": [],
   "include_colab_link": true,
   "name": "03_Derivadas_interactive.ipynb",
   "provenance": []
  },
  "kernelspec": {
   "display_name": "Python 3",
   "language": "python",
   "name": "python3"
  },
  "language_info": {
   "codemirror_mode": {
    "name": "ipython",
    "version": 3
   },
   "file_extension": ".py",
   "mimetype": "text/x-python",
   "name": "python",
   "nbconvert_exporter": "python",
   "pygments_lexer": "ipython3",
   "version": "3.7.6"
  },
  "widgets": {
   "application/vnd.jupyter.widget-state+json": {
    "065bb7d0ef4949f9a015c18cddccb752": {
     "model_module": "@jupyter-widgets/controls",
     "model_name": "VBoxModel",
     "state": {
      "_dom_classes": [
       "widget-interact"
      ],
      "_model_module": "@jupyter-widgets/controls",
      "_model_module_version": "1.5.0",
      "_model_name": "VBoxModel",
      "_view_count": null,
      "_view_module": "@jupyter-widgets/controls",
      "_view_module_version": "1.5.0",
      "_view_name": "VBoxView",
      "box_style": "",
      "children": [
       "IPY_MODEL_a746d27427834d8e913e39a97353f149",
       "IPY_MODEL_be5c67df9f8a4476975c3609d537bb67",
       "IPY_MODEL_6fbfd1a2b62340a89a1f9e993758124a"
      ],
      "layout": "IPY_MODEL_74d6ae73d7e241fc8c34bfd5bc83b169"
     }
    },
    "1d1385ea0ca94f04a459d6f240734374": {
     "model_module": "@jupyter-widgets/controls",
     "model_name": "SliderStyleModel",
     "state": {
      "_model_module": "@jupyter-widgets/controls",
      "_model_module_version": "1.5.0",
      "_model_name": "SliderStyleModel",
      "_view_count": null,
      "_view_module": "@jupyter-widgets/base",
      "_view_module_version": "1.2.0",
      "_view_name": "StyleView",
      "description_width": "",
      "handle_color": null
     }
    },
    "347d2a20df324f3dba63187ea36ed2b4": {
     "model_module": "@jupyter-widgets/base",
     "model_name": "LayoutModel",
     "state": {
      "_model_module": "@jupyter-widgets/base",
      "_model_module_version": "1.2.0",
      "_model_name": "LayoutModel",
      "_view_count": null,
      "_view_module": "@jupyter-widgets/base",
      "_view_module_version": "1.2.0",
      "_view_name": "LayoutView",
      "align_content": null,
      "align_items": null,
      "align_self": null,
      "border": null,
      "bottom": null,
      "display": null,
      "flex": null,
      "flex_flow": null,
      "grid_area": null,
      "grid_auto_columns": null,
      "grid_auto_flow": null,
      "grid_auto_rows": null,
      "grid_column": null,
      "grid_gap": null,
      "grid_row": null,
      "grid_template_areas": null,
      "grid_template_columns": null,
      "grid_template_rows": null,
      "height": null,
      "justify_content": null,
      "justify_items": null,
      "left": null,
      "margin": null,
      "max_height": null,
      "max_width": null,
      "min_height": null,
      "min_width": null,
      "object_fit": null,
      "object_position": null,
      "order": null,
      "overflow": null,
      "overflow_x": null,
      "overflow_y": null,
      "padding": null,
      "right": null,
      "top": null,
      "visibility": null,
      "width": null
     }
    },
    "6fbfd1a2b62340a89a1f9e993758124a": {
     "model_module": "@jupyter-widgets/output",
     "model_name": "OutputModel",
     "state": {
      "_dom_classes": [],
      "_model_module": "@jupyter-widgets/output",
      "_model_module_version": "1.0.0",
      "_model_name": "OutputModel",
      "_view_count": null,
      "_view_module": "@jupyter-widgets/output",
      "_view_module_version": "1.0.0",
      "_view_name": "OutputView",
      "layout": "IPY_MODEL_9f8012a8c2f94c8988d26dd3a566294a",
      "msg_id": "",
      "outputs": [
       {
        "image/png": "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\n",
        "metadata": {
         "needs_background": "light",
         "tags": []
        },
        "output_type": "display_data",
        "text/plain": "<Figure size 720x360 with 1 Axes>"
       }
      ]
     }
    },
    "74d6ae73d7e241fc8c34bfd5bc83b169": {
     "model_module": "@jupyter-widgets/base",
     "model_name": "LayoutModel",
     "state": {
      "_model_module": "@jupyter-widgets/base",
      "_model_module_version": "1.2.0",
      "_model_name": "LayoutModel",
      "_view_count": null,
      "_view_module": "@jupyter-widgets/base",
      "_view_module_version": "1.2.0",
      "_view_name": "LayoutView",
      "align_content": null,
      "align_items": null,
      "align_self": null,
      "border": null,
      "bottom": null,
      "display": null,
      "flex": null,
      "flex_flow": null,
      "grid_area": null,
      "grid_auto_columns": null,
      "grid_auto_flow": null,
      "grid_auto_rows": null,
      "grid_column": null,
      "grid_gap": null,
      "grid_row": null,
      "grid_template_areas": null,
      "grid_template_columns": null,
      "grid_template_rows": null,
      "height": null,
      "justify_content": null,
      "justify_items": null,
      "left": null,
      "margin": null,
      "max_height": null,
      "max_width": null,
      "min_height": null,
      "min_width": null,
      "object_fit": null,
      "object_position": null,
      "order": null,
      "overflow": null,
      "overflow_x": null,
      "overflow_y": null,
      "padding": null,
      "right": null,
      "top": null,
      "visibility": null,
      "width": null
     }
    },
    "8cb2e50c2c7942e7bed20b33c6cec2b9": {
     "model_module": "@jupyter-widgets/controls",
     "model_name": "SliderStyleModel",
     "state": {
      "_model_module": "@jupyter-widgets/controls",
      "_model_module_version": "1.5.0",
      "_model_name": "SliderStyleModel",
      "_view_count": null,
      "_view_module": "@jupyter-widgets/base",
      "_view_module_version": "1.2.0",
      "_view_name": "StyleView",
      "description_width": "",
      "handle_color": null
     }
    },
    "9f8012a8c2f94c8988d26dd3a566294a": {
     "model_module": "@jupyter-widgets/base",
     "model_name": "LayoutModel",
     "state": {
      "_model_module": "@jupyter-widgets/base",
      "_model_module_version": "1.2.0",
      "_model_name": "LayoutModel",
      "_view_count": null,
      "_view_module": "@jupyter-widgets/base",
      "_view_module_version": "1.2.0",
      "_view_name": "LayoutView",
      "align_content": null,
      "align_items": null,
      "align_self": null,
      "border": null,
      "bottom": null,
      "display": null,
      "flex": null,
      "flex_flow": null,
      "grid_area": null,
      "grid_auto_columns": null,
      "grid_auto_flow": null,
      "grid_auto_rows": null,
      "grid_column": null,
      "grid_gap": null,
      "grid_row": null,
      "grid_template_areas": null,
      "grid_template_columns": null,
      "grid_template_rows": null,
      "height": null,
      "justify_content": null,
      "justify_items": null,
      "left": null,
      "margin": null,
      "max_height": null,
      "max_width": null,
      "min_height": null,
      "min_width": null,
      "object_fit": null,
      "object_position": null,
      "order": null,
      "overflow": null,
      "overflow_x": null,
      "overflow_y": null,
      "padding": null,
      "right": null,
      "top": null,
      "visibility": null,
      "width": null
     }
    },
    "a746d27427834d8e913e39a97353f149": {
     "model_module": "@jupyter-widgets/controls",
     "model_name": "FloatSliderModel",
     "state": {
      "_dom_classes": [],
      "_model_module": "@jupyter-widgets/controls",
      "_model_module_version": "1.5.0",
      "_model_name": "FloatSliderModel",
      "_view_count": null,
      "_view_module": "@jupyter-widgets/controls",
      "_view_module_version": "1.5.0",
      "_view_name": "FloatSliderView",
      "continuous_update": true,
      "description": "h",
      "description_tooltip": null,
      "disabled": false,
      "layout": "IPY_MODEL_c1208b2b3f1f4b46be6083fd927424a8",
      "max": 1,
      "min": 0.1,
      "orientation": "horizontal",
      "readout": true,
      "readout_format": ".2f",
      "step": 0.1,
      "style": "IPY_MODEL_1d1385ea0ca94f04a459d6f240734374",
      "value": 1
     }
    },
    "be5c67df9f8a4476975c3609d537bb67": {
     "model_module": "@jupyter-widgets/controls",
     "model_name": "FloatSliderModel",
     "state": {
      "_dom_classes": [],
      "_model_module": "@jupyter-widgets/controls",
      "_model_module_version": "1.5.0",
      "_model_name": "FloatSliderModel",
      "_view_count": null,
      "_view_module": "@jupyter-widgets/controls",
      "_view_module_version": "1.5.0",
      "_view_name": "FloatSliderView",
      "continuous_update": true,
      "description": "x",
      "description_tooltip": null,
      "disabled": false,
      "layout": "IPY_MODEL_347d2a20df324f3dba63187ea36ed2b4",
      "max": 9,
      "min": 0,
      "orientation": "horizontal",
      "readout": true,
      "readout_format": ".2f",
      "step": 1,
      "style": "IPY_MODEL_8cb2e50c2c7942e7bed20b33c6cec2b9",
      "value": 6
     }
    },
    "c1208b2b3f1f4b46be6083fd927424a8": {
     "model_module": "@jupyter-widgets/base",
     "model_name": "LayoutModel",
     "state": {
      "_model_module": "@jupyter-widgets/base",
      "_model_module_version": "1.2.0",
      "_model_name": "LayoutModel",
      "_view_count": null,
      "_view_module": "@jupyter-widgets/base",
      "_view_module_version": "1.2.0",
      "_view_name": "LayoutView",
      "align_content": null,
      "align_items": null,
      "align_self": null,
      "border": null,
      "bottom": null,
      "display": null,
      "flex": null,
      "flex_flow": null,
      "grid_area": null,
      "grid_auto_columns": null,
      "grid_auto_flow": null,
      "grid_auto_rows": null,
      "grid_column": null,
      "grid_gap": null,
      "grid_row": null,
      "grid_template_areas": null,
      "grid_template_columns": null,
      "grid_template_rows": null,
      "height": null,
      "justify_content": null,
      "justify_items": null,
      "left": null,
      "margin": null,
      "max_height": null,
      "max_width": null,
      "min_height": null,
      "min_width": null,
      "object_fit": null,
      "object_position": null,
      "order": null,
      "overflow": null,
      "overflow_x": null,
      "overflow_y": null,
      "padding": null,
      "right": null,
      "top": null,
      "visibility": null,
      "width": null
     }
    }
   }
  }
 },
 "nbformat": 4,
 "nbformat_minor": 1
}
