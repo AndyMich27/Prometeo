{
 "cells": [
  {
   "cell_type": "code",
   "execution_count": null,
   "metadata": {},
   "outputs": [],
   "source": [
    "import os, sys\n",
    "sys.path.insert(0, os.path.abspath('../../Utils'))\n",
    "\n",
    "from sympy import Symbol, cos, sin, tan, exp, log, series\n",
    "from sympy.utilities.lambdify import lambdify\n",
    "\n",
    "from ipywidgets import interact, interactive, fixed\n",
    "import ipywidgets as widgets\n",
    "import numpy as np\n",
    "import gutils as vis"
   ]
  },
  {
   "cell_type": "code",
   "execution_count": null,
   "metadata": {},
   "outputs": [],
   "source": [
    "def derivada(f, g, h, x0):\n",
    "    \n",
    "    x = np.linspace(0, 10, 100)\n",
    "\n",
    "    par = [{'title':'Derivada'}]\n",
    "    graf = vis.planoCartesiano(par=par)\n",
    "    graf.plot(x = x, y = f(x), par={'label':'$f(x)$','color':'C0'})\n",
    "    graf.plot(x = x, y = g(x), par={'label':'$f^\\prime(x)$','color':'C1'})\n",
    "\n",
    "    graf.ticks(xticks = [x0, x0 + h], yticks = [f(x0), f(x0 + h)])\n",
    "    graf.label_ticks(xlabel=['$x$','$x+h$'], ylabel=['$f(x)$', '$f(x+h)$'])\n",
    "    \n",
    "    x1 = x0 + h\n",
    "    graf.scatter(x=x0, y = f(x0), par={'s':75, 'color':'black', 'zorder':5})\n",
    "    graf.scatter(x=x1, y = f(x1), par={'s':75, 'color':'black', 'zorder':5})\n",
    "    \n",
    "    graf.plot(x=[x0,x1], y=[f(x0),f(x0)], par={'lw':2, 'color':'black', 'zorder':6})\n",
    "    graf.plot(x=[x1,x1], y=[f(x0),f(x1)], par={'lw':2, 'color':'black', 'zorder':6})\n",
    "    graf.plot(x=[x0,x1], y=[f(x0),f(x1)], par={'lw':2, 'color':'black', 'zorder':6})\n",
    "\n",
    "    graf.scatter(x=x0, y = g(x0), par={'s':75, 'fc':'C1', 'ec':'black', 'alpha':0.75, 'zorder':5})\n",
    "\n",
    "    graf.legend()\n",
    "    graf.show()"
   ]
  },
  {
   "cell_type": "code",
   "execution_count": null,
   "metadata": {},
   "outputs": [],
   "source": [
    "f = lambda x: x**2 + 20 * np.sin(0.5*x)**2\n",
    "g = lambda x: 2 * x - 20 * np.cos(0.5*x)\n",
    "h = 1.0\n",
    "\n",
    "w = interact(derivada,\n",
    "             f = fixed(f),\n",
    "             g = fixed(g),\n",
    "             h = widgets.FloatSlider(min=0.1, max=1.0, step=0.1, value=1.0),\n",
    "             x0 = widgets.FloatSlider(min=0, max=9, step=1, value=6, description='$x$'))\n",
    "display(w)"
   ]
  },
  {
   "cell_type": "code",
   "execution_count": null,
   "metadata": {},
   "outputs": [],
   "source": []
  },
  {
   "cell_type": "code",
   "execution_count": null,
   "metadata": {},
   "outputs": [],
   "source": []
  }
 ],
 "metadata": {
  "kernelspec": {
   "display_name": "Python 3",
   "language": "python",
   "name": "python3"
  },
  "language_info": {
   "codemirror_mode": {
    "name": "ipython",
    "version": 3
   },
   "file_extension": ".py",
   "mimetype": "text/x-python",
   "name": "python",
   "nbconvert_exporter": "python",
   "pygments_lexer": "ipython3",
   "version": "3.7.6"
  }
 },
 "nbformat": 4,
 "nbformat_minor": 4
}
