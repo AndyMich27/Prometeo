{
 "cells": [
  {
   "cell_type": "code",
   "execution_count": null,
   "metadata": {},
   "outputs": [],
   "source": [
    "import os, sys\n",
    "sys.path.insert(0, os.path.abspath('../../Utils'))\n",
    "\n",
    "from sympy import Symbol, cos, sin, tan, exp, log, series\n",
    "from sympy.utilities.lambdify import lambdify\n",
    "\n",
    "from ipywidgets import interact, interactive, fixed\n",
    "import ipywidgets as widgets\n",
    "import numpy as np\n",
    "import gutils as vis"
   ]
  },
  {
   "cell_type": "code",
   "execution_count": null,
   "metadata": {},
   "outputs": [],
   "source": [
    "R = lambda t, S: np.exp(-t/S)\n",
    "\n",
    "def razonDeCambio(S, h, i0):\n",
    "    td = np.arange(0,8,h) \n",
    "    m = np.zeros(len(td))\n",
    "    \n",
    "    for i,x in enumerate(td):\n",
    "        m[i] = (R(x + h, S) - R(x, S)) / h\n",
    "\n",
    "    t = np.linspace(0, 7, 100)\n",
    "\n",
    "    par = [{'title':'Función del olvido: $R(t) = e^{-t/S}$ para $S = 0.9$', \n",
    "        'xlabel':'$t$ [días]',\n",
    "        'ylabel':'$R$', 'ylim':(-0.2,1.1)},\n",
    "       {'title':'Pendiente $m(t)$', \n",
    "        'xlabel':'$t$ [días]',\n",
    "        'ylabel':'$m$'},\n",
    "      ]\n",
    "    graf = vis.planoCartesiano(1,2, par=par, par_fig={'figsize':(14,5)})\n",
    "    graf.plot(1, x = t, y = R(t, S), par={'color':'C2'})\n",
    "    graf.plot(1, x = td, y = R(td,S), par={'lw':1,'color':'black', 'marker':'o','zorder':5})\n",
    "    graf.plot(2, x = td, y = m, par={'ls':'--', 'lw':1, 'color':'black', 'marker':'o','zorder':5})\n",
    "\n",
    "    ix = int(i0 * (len(m)-1) / 7)       \n",
    "    recta = m[ix]*(t-td[ix]) + R(td[ix], S) \n",
    "    graf.plot(1, x=t, y=recta, par={'color':'red', 'lw':2})\n",
    "    graf.scatter(1, x=td[ix], y=R(td[ix], S), \n",
    "                 par={'facecolor':'red', 'edgecolor':'black', 'alpha':0.95, 's':150, 'zorder':5})\n",
    "\n",
    "    graf.scatter(2, x=td[ix], y=m[ix], \n",
    "                 par={'facecolor':'red', 'edgecolor':'black', 'alpha':0.95, 's':150, 'zorder':5})\n",
    "\n",
    "    texto1 = ' = {:3.2}'.format(td[ix])\n",
    "    graf.annotate(1, par={'text':'$t$' + texto1, 'xy':(3, 0.5), 'xytext':(3,0.5), \n",
    "                          'xycoords':'data','textcoords':'data', 'fontsize':15, 'color':'red',\n",
    "                          'bbox':{'boxstyle':'round','pad':0.2, 'fc':'white', 'ec':'black', 'alpha':0.5}})\n",
    "    \n",
    "    texto2 = ' = {:5.3}'.format(m[ix])\n",
    "    graf.annotate(2, par={'text':'$m(t)$' + texto2, 'xy':(3, -0.4), 'xytext':(3,-0.4), \n",
    "                          'xycoords':'data','textcoords':'data', 'fontsize':15, 'color':'red',\n",
    "                          'bbox':{'boxstyle':'round','pad':0.2, 'fc':'white', 'ec':'black', 'alpha':0.5}})\n",
    "    graf.show()"
   ]
  },
  {
   "cell_type": "code",
   "execution_count": null,
   "metadata": {},
   "outputs": [],
   "source": [
    "w = interact(razonDeCambio,\n",
    "             S = widgets.FloatSlider(min=0.1, max=0.9, step=0.2, value=0.9),\n",
    "             h = widgets.FloatSlider(min=0.1, max=1.0, step=0.1, value=1.0),\n",
    "             i0 = widgets.IntSlider(min=0, max=7, step=1, value=0, description='$t$'))\n",
    "display(w)"
   ]
  },
  {
   "cell_type": "code",
   "execution_count": null,
   "metadata": {},
   "outputs": [],
   "source": []
  }
 ],
 "metadata": {
  "kernelspec": {
   "display_name": "Python 3",
   "language": "python",
   "name": "python3"
  },
  "language_info": {
   "codemirror_mode": {
    "name": "ipython",
    "version": 3
   },
   "file_extension": ".py",
   "mimetype": "text/x-python",
   "name": "python",
   "nbconvert_exporter": "python",
   "pygments_lexer": "ipython3",
   "version": "3.7.6"
  }
 },
 "nbformat": 4,
 "nbformat_minor": 4
}
