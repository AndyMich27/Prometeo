{
  "nbformat": 4,
  "nbformat_minor": 0,
  "metadata": {
    "kernelspec": {
      "display_name": "Python 3",
      "language": "python",
      "name": "python3"
    },
    "language_info": {
      "codemirror_mode": {
        "name": "ipython",
        "version": 3
      },
      "file_extension": ".py",
      "mimetype": "text/x-python",
      "name": "python",
      "nbconvert_exporter": "python",
      "pygments_lexer": "ipython3",
      "version": "3.7.6"
    },
    "colab": {
      "name": "02_Derivadas_interactive.ipynb",
      "provenance": [],
      "collapsed_sections": [],
      "include_colab_link": true
    },
    "widgets": {
      "application/vnd.jupyter.widget-state+json": {
        "766e038ceaa1446bae6059ea23635ed5": {
          "model_module": "@jupyter-widgets/controls",
          "model_name": "VBoxModel",
          "state": {
            "_view_name": "VBoxView",
            "_dom_classes": [
              "widget-interact"
            ],
            "_model_name": "VBoxModel",
            "_view_module": "@jupyter-widgets/controls",
            "_model_module_version": "1.5.0",
            "_view_count": null,
            "_view_module_version": "1.5.0",
            "box_style": "",
            "layout": "IPY_MODEL_99fddb1db5b741a1b372df0acc89cdeb",
            "_model_module": "@jupyter-widgets/controls",
            "children": [
              "IPY_MODEL_ad2cc6d7a7d94ad29e5afc70b885b35c",
              "IPY_MODEL_19bf898de8a14a2795e2cf4724526ce5",
              "IPY_MODEL_2217d791bd6b46f6a0f39c24e314e52c",
              "IPY_MODEL_d6ffee556a9442dd819c86b1c6084299"
            ]
          }
        },
        "99fddb1db5b741a1b372df0acc89cdeb": {
          "model_module": "@jupyter-widgets/base",
          "model_name": "LayoutModel",
          "state": {
            "_view_name": "LayoutView",
            "grid_template_rows": null,
            "right": null,
            "justify_content": null,
            "_view_module": "@jupyter-widgets/base",
            "overflow": null,
            "_model_module_version": "1.2.0",
            "_view_count": null,
            "flex_flow": null,
            "width": null,
            "min_width": null,
            "border": null,
            "align_items": null,
            "bottom": null,
            "_model_module": "@jupyter-widgets/base",
            "top": null,
            "grid_column": null,
            "overflow_y": null,
            "overflow_x": null,
            "grid_auto_flow": null,
            "grid_area": null,
            "grid_template_columns": null,
            "flex": null,
            "_model_name": "LayoutModel",
            "justify_items": null,
            "grid_row": null,
            "max_height": null,
            "align_content": null,
            "visibility": null,
            "align_self": null,
            "height": null,
            "min_height": null,
            "padding": null,
            "grid_auto_rows": null,
            "grid_gap": null,
            "max_width": null,
            "order": null,
            "_view_module_version": "1.2.0",
            "grid_template_areas": null,
            "object_position": null,
            "object_fit": null,
            "grid_auto_columns": null,
            "margin": null,
            "display": null,
            "left": null
          }
        },
        "ad2cc6d7a7d94ad29e5afc70b885b35c": {
          "model_module": "@jupyter-widgets/controls",
          "model_name": "FloatSliderModel",
          "state": {
            "_view_name": "FloatSliderView",
            "style": "IPY_MODEL_39f0c99116ff4af6b513aac3bdf719f5",
            "_dom_classes": [],
            "description": "S",
            "step": 0.2,
            "_model_name": "FloatSliderModel",
            "orientation": "horizontal",
            "max": 0.9,
            "_view_module": "@jupyter-widgets/controls",
            "_model_module_version": "1.5.0",
            "value": 0.9,
            "_view_count": null,
            "disabled": false,
            "_view_module_version": "1.5.0",
            "min": 0.1,
            "continuous_update": true,
            "readout_format": ".2f",
            "description_tooltip": null,
            "readout": true,
            "_model_module": "@jupyter-widgets/controls",
            "layout": "IPY_MODEL_67bc112d4e824d20baa4ba176f20bce3"
          }
        },
        "19bf898de8a14a2795e2cf4724526ce5": {
          "model_module": "@jupyter-widgets/controls",
          "model_name": "FloatSliderModel",
          "state": {
            "_view_name": "FloatSliderView",
            "style": "IPY_MODEL_de1ce00033c34255ad019969ed20b1d2",
            "_dom_classes": [],
            "description": "h",
            "step": 0.1,
            "_model_name": "FloatSliderModel",
            "orientation": "horizontal",
            "max": 1,
            "_view_module": "@jupyter-widgets/controls",
            "_model_module_version": "1.5.0",
            "value": 1,
            "_view_count": null,
            "disabled": false,
            "_view_module_version": "1.5.0",
            "min": 0.1,
            "continuous_update": true,
            "readout_format": ".2f",
            "description_tooltip": null,
            "readout": true,
            "_model_module": "@jupyter-widgets/controls",
            "layout": "IPY_MODEL_8059464fa36f46c193c4bfadccfeb017"
          }
        },
        "2217d791bd6b46f6a0f39c24e314e52c": {
          "model_module": "@jupyter-widgets/controls",
          "model_name": "IntSliderModel",
          "state": {
            "_view_name": "IntSliderView",
            "style": "IPY_MODEL_6afa777ccd344adfa8062d6edd85e715",
            "_dom_classes": [],
            "description": "$t$",
            "step": 1,
            "_model_name": "IntSliderModel",
            "orientation": "horizontal",
            "max": 7,
            "_view_module": "@jupyter-widgets/controls",
            "_model_module_version": "1.5.0",
            "value": 0,
            "_view_count": null,
            "disabled": false,
            "_view_module_version": "1.5.0",
            "min": 0,
            "continuous_update": true,
            "readout_format": "d",
            "description_tooltip": null,
            "readout": true,
            "_model_module": "@jupyter-widgets/controls",
            "layout": "IPY_MODEL_beb9db550bb54ff39abc724aa88584bb"
          }
        },
        "d6ffee556a9442dd819c86b1c6084299": {
          "model_module": "@jupyter-widgets/output",
          "model_name": "OutputModel",
          "state": {
            "_view_name": "OutputView",
            "msg_id": "",
            "_dom_classes": [],
            "_model_name": "OutputModel",
            "outputs": [
              {
                "output_type": "display_data",
                "metadata": {
                  "tags": [],
                  "needs_background": "light"
                },
                "image/png": "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\n",
                "text/plain": "<Figure size 1008x360 with 2 Axes>"
              }
            ],
            "_view_module": "@jupyter-widgets/output",
            "_model_module_version": "1.0.0",
            "_view_count": null,
            "_view_module_version": "1.0.0",
            "layout": "IPY_MODEL_b42b690d791c4da4ae83b4a6d3aa6bca",
            "_model_module": "@jupyter-widgets/output"
          }
        },
        "39f0c99116ff4af6b513aac3bdf719f5": {
          "model_module": "@jupyter-widgets/controls",
          "model_name": "SliderStyleModel",
          "state": {
            "_view_name": "StyleView",
            "handle_color": null,
            "_model_name": "SliderStyleModel",
            "description_width": "",
            "_view_module": "@jupyter-widgets/base",
            "_model_module_version": "1.5.0",
            "_view_count": null,
            "_view_module_version": "1.2.0",
            "_model_module": "@jupyter-widgets/controls"
          }
        },
        "67bc112d4e824d20baa4ba176f20bce3": {
          "model_module": "@jupyter-widgets/base",
          "model_name": "LayoutModel",
          "state": {
            "_view_name": "LayoutView",
            "grid_template_rows": null,
            "right": null,
            "justify_content": null,
            "_view_module": "@jupyter-widgets/base",
            "overflow": null,
            "_model_module_version": "1.2.0",
            "_view_count": null,
            "flex_flow": null,
            "width": null,
            "min_width": null,
            "border": null,
            "align_items": null,
            "bottom": null,
            "_model_module": "@jupyter-widgets/base",
            "top": null,
            "grid_column": null,
            "overflow_y": null,
            "overflow_x": null,
            "grid_auto_flow": null,
            "grid_area": null,
            "grid_template_columns": null,
            "flex": null,
            "_model_name": "LayoutModel",
            "justify_items": null,
            "grid_row": null,
            "max_height": null,
            "align_content": null,
            "visibility": null,
            "align_self": null,
            "height": null,
            "min_height": null,
            "padding": null,
            "grid_auto_rows": null,
            "grid_gap": null,
            "max_width": null,
            "order": null,
            "_view_module_version": "1.2.0",
            "grid_template_areas": null,
            "object_position": null,
            "object_fit": null,
            "grid_auto_columns": null,
            "margin": null,
            "display": null,
            "left": null
          }
        },
        "de1ce00033c34255ad019969ed20b1d2": {
          "model_module": "@jupyter-widgets/controls",
          "model_name": "SliderStyleModel",
          "state": {
            "_view_name": "StyleView",
            "handle_color": null,
            "_model_name": "SliderStyleModel",
            "description_width": "",
            "_view_module": "@jupyter-widgets/base",
            "_model_module_version": "1.5.0",
            "_view_count": null,
            "_view_module_version": "1.2.0",
            "_model_module": "@jupyter-widgets/controls"
          }
        },
        "8059464fa36f46c193c4bfadccfeb017": {
          "model_module": "@jupyter-widgets/base",
          "model_name": "LayoutModel",
          "state": {
            "_view_name": "LayoutView",
            "grid_template_rows": null,
            "right": null,
            "justify_content": null,
            "_view_module": "@jupyter-widgets/base",
            "overflow": null,
            "_model_module_version": "1.2.0",
            "_view_count": null,
            "flex_flow": null,
            "width": null,
            "min_width": null,
            "border": null,
            "align_items": null,
            "bottom": null,
            "_model_module": "@jupyter-widgets/base",
            "top": null,
            "grid_column": null,
            "overflow_y": null,
            "overflow_x": null,
            "grid_auto_flow": null,
            "grid_area": null,
            "grid_template_columns": null,
            "flex": null,
            "_model_name": "LayoutModel",
            "justify_items": null,
            "grid_row": null,
            "max_height": null,
            "align_content": null,
            "visibility": null,
            "align_self": null,
            "height": null,
            "min_height": null,
            "padding": null,
            "grid_auto_rows": null,
            "grid_gap": null,
            "max_width": null,
            "order": null,
            "_view_module_version": "1.2.0",
            "grid_template_areas": null,
            "object_position": null,
            "object_fit": null,
            "grid_auto_columns": null,
            "margin": null,
            "display": null,
            "left": null
          }
        },
        "6afa777ccd344adfa8062d6edd85e715": {
          "model_module": "@jupyter-widgets/controls",
          "model_name": "SliderStyleModel",
          "state": {
            "_view_name": "StyleView",
            "handle_color": null,
            "_model_name": "SliderStyleModel",
            "description_width": "",
            "_view_module": "@jupyter-widgets/base",
            "_model_module_version": "1.5.0",
            "_view_count": null,
            "_view_module_version": "1.2.0",
            "_model_module": "@jupyter-widgets/controls"
          }
        },
        "beb9db550bb54ff39abc724aa88584bb": {
          "model_module": "@jupyter-widgets/base",
          "model_name": "LayoutModel",
          "state": {
            "_view_name": "LayoutView",
            "grid_template_rows": null,
            "right": null,
            "justify_content": null,
            "_view_module": "@jupyter-widgets/base",
            "overflow": null,
            "_model_module_version": "1.2.0",
            "_view_count": null,
            "flex_flow": null,
            "width": null,
            "min_width": null,
            "border": null,
            "align_items": null,
            "bottom": null,
            "_model_module": "@jupyter-widgets/base",
            "top": null,
            "grid_column": null,
            "overflow_y": null,
            "overflow_x": null,
            "grid_auto_flow": null,
            "grid_area": null,
            "grid_template_columns": null,
            "flex": null,
            "_model_name": "LayoutModel",
            "justify_items": null,
            "grid_row": null,
            "max_height": null,
            "align_content": null,
            "visibility": null,
            "align_self": null,
            "height": null,
            "min_height": null,
            "padding": null,
            "grid_auto_rows": null,
            "grid_gap": null,
            "max_width": null,
            "order": null,
            "_view_module_version": "1.2.0",
            "grid_template_areas": null,
            "object_position": null,
            "object_fit": null,
            "grid_auto_columns": null,
            "margin": null,
            "display": null,
            "left": null
          }
        },
        "b42b690d791c4da4ae83b4a6d3aa6bca": {
          "model_module": "@jupyter-widgets/base",
          "model_name": "LayoutModel",
          "state": {
            "_view_name": "LayoutView",
            "grid_template_rows": null,
            "right": null,
            "justify_content": null,
            "_view_module": "@jupyter-widgets/base",
            "overflow": null,
            "_model_module_version": "1.2.0",
            "_view_count": null,
            "flex_flow": null,
            "width": null,
            "min_width": null,
            "border": null,
            "align_items": null,
            "bottom": null,
            "_model_module": "@jupyter-widgets/base",
            "top": null,
            "grid_column": null,
            "overflow_y": null,
            "overflow_x": null,
            "grid_auto_flow": null,
            "grid_area": null,
            "grid_template_columns": null,
            "flex": null,
            "_model_name": "LayoutModel",
            "justify_items": null,
            "grid_row": null,
            "max_height": null,
            "align_content": null,
            "visibility": null,
            "align_self": null,
            "height": null,
            "min_height": null,
            "padding": null,
            "grid_auto_rows": null,
            "grid_gap": null,
            "max_width": null,
            "order": null,
            "_view_module_version": "1.2.0",
            "grid_template_areas": null,
            "object_position": null,
            "object_fit": null,
            "grid_auto_columns": null,
            "margin": null,
            "display": null,
            "left": null
          }
        }
      }
    }
  },
  "cells": [
    {
      "cell_type": "markdown",
      "metadata": {
        "id": "view-in-github",
        "colab_type": "text"
      },
      "source": [
        "<a href=\"https://colab.research.google.com/github/jugernaut/Prometeo/blob/desarrollo/01_Calculo/04_Derivadas/02_Derivadas_interactive.ipynb\" target=\"_parent\"><img src=\"https://colab.research.google.com/assets/colab-badge.svg\" alt=\"Open In Colab\"/></a>"
      ]
    },
    {
      "cell_type": "code",
      "metadata": {
        "id": "iVJJJYcXRtjq",
        "outputId": "0cd7951c-92ed-437f-8c25-e4a1e27fea2c",
        "colab": {
          "base_uri": "https://localhost:8080/",
          "height": 127
        }
      },
      "source": [
        "!git clone https://github.com/joiortega1/Prueba_lectura.git"
      ],
      "execution_count": 1,
      "outputs": [
        {
          "output_type": "stream",
          "text": [
            "Cloning into 'Prueba_lectura'...\n",
            "remote: Enumerating objects: 18, done.\u001b[K\n",
            "remote: Counting objects: 100% (18/18), done.\u001b[K\n",
            "remote: Compressing objects: 100% (14/14), done.\u001b[K\n",
            "remote: Total 18 (delta 0), reused 0 (delta 0), pack-reused 0\u001b[K\n",
            "Unpacking objects: 100% (18/18), done.\n"
          ],
          "name": "stdout"
        }
      ]
    },
    {
      "cell_type": "code",
      "metadata": {
        "id": "vaPfxVCAR4wF",
        "outputId": "ace232b8-123e-4ee4-ed58-d7330c904151",
        "colab": {
          "base_uri": "https://localhost:8080/",
          "height": 35
        }
      },
      "source": [
        "import os\n",
        "os.listdir('Prueba_lectura')"
      ],
      "execution_count": 2,
      "outputs": [
        {
          "output_type": "execute_result",
          "data": {
            "text/plain": [
              "['gutils.py', '.git', 'gutils.zip']"
            ]
          },
          "metadata": {
            "tags": []
          },
          "execution_count": 2
        }
      ]
    },
    {
      "cell_type": "code",
      "metadata": {
        "id": "YltpslSlR4_v"
      },
      "source": [
        "from sympy import Symbol, cos, sin, tan, exp, log, series\n",
        "from sympy.utilities.lambdify import lambdify\n",
        "from ipywidgets import interact, interactive, fixed\n",
        "import ipywidgets as widgets\n",
        "import numpy as np\n",
        "import Prueba_lectura.gutils as vis\n",
        "%matplotlib inline"
      ],
      "execution_count": 3,
      "outputs": []
    },
    {
      "cell_type": "code",
      "metadata": {
        "id": "gHXcwoE2RryJ"
      },
      "source": [
        "R = lambda t, S: np.exp(-t/S)\n",
        "\n",
        "def razonDeCambio(S, h, i0):\n",
        "    td = np.arange(0,8,h) \n",
        "    m = np.zeros(len(td))\n",
        "    \n",
        "    for i,x in enumerate(td):\n",
        "        m[i] = (R(x + h, S) - R(x, S)) / h\n",
        "\n",
        "    t = np.linspace(0, 7, 100)\n",
        "\n",
        "    par = [{'title':'Función del olvido: $R(t) = e^{-t/S}$ para $S = 0.9$', \n",
        "        'xlabel':'$t$ [días]',\n",
        "        'ylabel':'$R$', 'ylim':(-0.2,1.1)},\n",
        "       {'title':'Pendiente $m(t)$', \n",
        "        'xlabel':'$t$ [días]',\n",
        "        'ylabel':'$m$'},\n",
        "      ]\n",
        "    graf = vis.planoCartesiano(1,2, par=par, par_fig={'figsize':(14,5)})\n",
        "    graf.plot(1, x = t, y = R(t, S), par={'color':'C2'})\n",
        "    graf.plot(1, x = td, y = R(td,S), par={'lw':1,'color':'black', 'marker':'o','zorder':5})\n",
        "    graf.plot(2, x = td, y = m, par={'ls':'--', 'lw':1, 'color':'black', 'marker':'o','zorder':5})\n",
        "\n",
        "    ix = int(i0 * (len(m)-1) / 7)       \n",
        "    recta = m[ix]*(t-td[ix]) + R(td[ix], S) \n",
        "    graf.plot(1, x=t, y=recta, par={'color':'red', 'lw':2})\n",
        "    graf.scatter(1, x=td[ix], y=R(td[ix], S), \n",
        "                 par={'facecolor':'red', 'edgecolor':'black', 'alpha':0.95, 's':150, 'zorder':5})\n",
        "\n",
        "    graf.scatter(2, x=td[ix], y=m[ix], \n",
        "                 par={'facecolor':'red', 'edgecolor':'black', 'alpha':0.95, 's':150, 'zorder':5})\n",
        "\n",
        "    texto1 = ' = {:3.2}'.format(td[ix])\n",
        "    graf.annotate(1, par={'s':'$t$' + texto1, 'xy':(3, 0.5), 'xytext':(3,0.5), \n",
        "                          'xycoords':'data','textcoords':'data', 'fontsize':15, 'color':'red',\n",
        "                          'bbox':{'boxstyle':'round','pad':0.2, 'fc':'white', 'ec':'black', 'alpha':0.5}})\n",
        "    \n",
        "    texto2 = ' = {:5.3}'.format(m[ix])\n",
        "    graf.annotate(2, par={'s':'$m(t)$' + texto2, 'xy':(3, -0.4), 'xytext':(3,-0.4), \n",
        "                          'xycoords':'data','textcoords':'data', 'fontsize':15, 'color':'red',\n",
        "                          'bbox':{'boxstyle':'round','pad':0.2, 'fc':'white', 'ec':'black', 'alpha':0.5}})\n",
        "    graf.show()"
      ],
      "execution_count": 6,
      "outputs": []
    },
    {
      "cell_type": "code",
      "metadata": {
        "id": "FW6D2MZVRrzX",
        "outputId": "e8b18114-b00d-4252-93bc-e5a172e79554",
        "colab": {
          "base_uri": "https://localhost:8080/",
          "height": 483,
          "referenced_widgets": [
            "766e038ceaa1446bae6059ea23635ed5",
            "99fddb1db5b741a1b372df0acc89cdeb",
            "ad2cc6d7a7d94ad29e5afc70b885b35c",
            "19bf898de8a14a2795e2cf4724526ce5",
            "2217d791bd6b46f6a0f39c24e314e52c",
            "d6ffee556a9442dd819c86b1c6084299",
            "39f0c99116ff4af6b513aac3bdf719f5",
            "67bc112d4e824d20baa4ba176f20bce3",
            "de1ce00033c34255ad019969ed20b1d2",
            "8059464fa36f46c193c4bfadccfeb017",
            "6afa777ccd344adfa8062d6edd85e715",
            "beb9db550bb54ff39abc724aa88584bb",
            "b42b690d791c4da4ae83b4a6d3aa6bca"
          ]
        }
      },
      "source": [
        "w = interact(razonDeCambio,\n",
        "             S = widgets.FloatSlider(min=0.1, max=0.9, step=0.2, value=0.9),\n",
        "             h = widgets.FloatSlider(min=0.1, max=1.0, step=0.1, value=1.0),\n",
        "             i0 = widgets.IntSlider(min=0, max=7, step=1, value=0, description='$t$'))\n",
        "display(w)"
      ],
      "execution_count": 7,
      "outputs": [
        {
          "output_type": "display_data",
          "data": {
            "application/vnd.jupyter.widget-view+json": {
              "model_id": "766e038ceaa1446bae6059ea23635ed5",
              "version_minor": 0,
              "version_major": 2
            },
            "text/plain": [
              "interactive(children=(FloatSlider(value=0.9, description='S', max=0.9, min=0.1, step=0.2), FloatSlider(value=1…"
            ]
          },
          "metadata": {
            "tags": []
          }
        },
        {
          "output_type": "display_data",
          "data": {
            "text/plain": [
              "<function __main__.razonDeCambio>"
            ]
          },
          "metadata": {
            "tags": []
          }
        }
      ]
    }
  ]
}