{
 "cells": [
  {
   "cell_type": "markdown",
   "metadata": {},
   "source": [
    "# Derivadas\n",
    "## Proyecto PAPIME PE101019\n",
    "\n",
    "*   Autores: \n",
    "    - Ingrid Pamela Ruiz Puga\n",
    "    - Luis M. de la Cruz Salas\n",
    "*   Rev: dom sep 13 18:09:43 CDT 2020"
   ]
  },
  {
   "cell_type": "code",
   "execution_count": null,
   "metadata": {},
   "outputs": [],
   "source": [
    "import os, sys\n",
    "sys.path.insert(0, os.path.abspath('../../Utils'))\n",
    "\n",
    "import pandas as pd\n",
    "import numpy as np\n",
    "import matplotlib.pyplot as plt\n",
    "import gutils as vis\n",
    "%matplotlib inline"
   ]
  },
  {
   "cell_type": "markdown",
   "metadata": {
    "colab_type": "text",
    "id": "MfrLEZ67VFAW"
   },
   "source": [
    "## Un oxímoron\n",
    "\n",
    "Si revisamos con cuidado, algunas definiciones matemáticas utilizan un tipo de figura literaria conocida como <a href=https://es.wikipedia.org/wiki/Ox%C3%ADmoron>*oxímoron*</a>. En términos simples, un oxímoron consiste en usar dos conceptos de significado opuesto y con ello generar un tercer concepto. \n",
    "\n",
    "Por ejemplo: **La razón de cambio instantáneo**. \n",
    "- Cuando se habla de un *cambio*, se requiere de la comparación entre dos o más estados y con ello analizar las diferencias entre un estado y otro; \n",
    "- por otro lado, la palabra *instantáneo* tiene que ver con algo que dura un instante, es decir un tiempo puntal. \n",
    "\n",
    "Entonces el concepto \"**cambio instantáneo**\" representa un oxímoron. Pero ¿cuál es su significado?\n",
    "¿Será importante este concepto en nuestra vida diaria?\n",
    "\n",
    "En lo que sigue veremos que la razón de cambio instantáneo tiene que ver con un concepto muy importante en Cálculo: *la derivada*."
   ]
  },
  {
   "cell_type": "markdown",
   "metadata": {},
   "source": [
    "### Ejemplo 1. La curva del olvido\n",
    "\n",
    "Un estudiante de lenguas participará en un concurso internacional cuyo principal reto es el conocimiento del vocabulario de un cierto idioma. Por ello, es importante que el estudiante utilice un método de estudio adecuado para recordar el significado del mayor número de palabras posible.\n",
    "\n",
    "La <a href=https://es.wikipedia.org/wiki/Curva_del_olvido>curva del olvido</a> puede ayudarle al estudiante a generar un plan de estudio adecuado. La función que define esta curva es la siguiente:\n",
    "\n",
    "$$\n",
    "R(t) = e^{-t/S}\n",
    "$$\n",
    "\n",
    "donde $R$ es cuanto recordamos, $S$ es la intensidad del recuerdo y $t$ el tiempo. Podemos definir $S \\in (0,1]$, donde $1$ es la máxima intensidad de recuerdo y un valor cercano a $0$ corresponde a algo que no nos interesa nada.\n",
    "\n",
    "**Observación**: $S$ no puede ser exactamente $0$ por que en ese caso la función $R(t)$ no está definida.\n",
    "\n",
    "La sigiente gráfica muestra cómo decrecen nuestros recuerdos con el paso del tiempo."
   ]
  },
  {
   "cell_type": "code",
   "execution_count": null,
   "metadata": {},
   "outputs": [],
   "source": [
    "R = lambda t, S: np.exp(-t/S)\n",
    "t = np.linspace(0, 7, 100)\n",
    "\n",
    "par = [{'title':'Función del olvido: $R(t) = e^{-t/S}$', \n",
    "        'xlabel':'$t$ [días]',\n",
    "        'ylabel':'$R$'}\n",
    "      ]\n",
    "\n",
    "graf = vis.planoCartesiano(par=par)\n",
    "for S in [0.1, 0.5, 0.9]:\n",
    "    graf.plot(x= t, y= R(t, S), par={'label':'S = {}'.format(S)})\n",
    "graf.legend()\n",
    "graf.show()"
   ]
  },
  {
   "cell_type": "markdown",
   "metadata": {},
   "source": [
    "¿Será posible determinar cada cuanto tiempo el estudiante debe repasar las palabras para que no las olvide y pueda ganar el concurso? ¿De qué depende esto?\n",
    "\n",
    "Tomemos por ejemplo el caso de $S=0.9$. ¿En qué parte de la gráfica el descenso es más rápido?, en otras palabras, ¿en qué parte de la gráfica el olvido se incrementa? Para conocer ese descenso, debemos calcular la pendiente y eso lo podemos hacer como sigue:\n",
    "\n",
    "$$\n",
    "m = \\frac{R(t_2) - R(t_1)}{t_2 - t_1}\n",
    "$$\n",
    "\n",
    "Como es obvio, este valor de la pendiente cambiará cuando $t_1$ y $t_2$ cambien. Definamos entonces $h = t_2 - t_1$ y $t = t_1$. Con ello podemos escribir:\n",
    "\n",
    "$$\n",
    "m(t) = \\frac{R(t + h) - R(t)}{h}\n",
    "$$\n",
    "\n",
    "En esta última fórmula vemos que la pendiente depende de $t$.\n",
    "Vamos a calcular $m$ para $h = 1$ y $t = [0,1,2,3,4,5,6]$:"
   ]
  },
  {
   "cell_type": "code",
   "execution_count": null,
   "metadata": {},
   "outputs": [],
   "source": [
    "S = 0.9\n",
    "h = 1.0\n",
    "td = np.arange(0,8,h) \n",
    "m = np.zeros(len(td))\n",
    "\n",
    "for i,x in enumerate(td):\n",
    "    m[i] = (R(x + h, S) - R(x, S)) / h\n",
    "\n",
    "tabla = pd.DataFrame(np.array([td, m, ]).T, columns = ['$t$', '$m(t)$'])\n",
    "tabla"
   ]
  },
  {
   "cell_type": "markdown",
   "metadata": {},
   "source": [
    "Observamos que la pendiente es negativa, lo cual indica un decrecimiento. También, la magnitud de la pendiente (su valor absoluto) disminuye conforme $t$ se incrementa. Es posible visualizar la pendiente uniendo los puntos con los que se realizó el cálculo de la misma, y también se puede graficar como función del tiempo veamos ambas cosas en las siguientes gráficas:"
   ]
  },
  {
   "cell_type": "code",
   "execution_count": null,
   "metadata": {},
   "outputs": [],
   "source": [
    "par = [{'title':'Función del olvido: $R(t) = e^{-t/S}$ para $S = 0.9$', \n",
    "        'xlabel':'$t$ [días]',\n",
    "        'ylabel':'$R$'},\n",
    "       {'title':'Pendiente $m(t)$', \n",
    "        'xlabel':'$t$ [días]',\n",
    "        'ylabel':'$m$'},\n",
    "      ]\n",
    "graf = vis.planoCartesiano(1,2, par=par, par_fig={'figsize':(14,5)})\n",
    "graf.plot(1, x = t, y = R(t, S), par={'color':'C2'})\n",
    "graf.plot(1, x = td, y = R(td,S), par={'lw':1,'color':'black', 'marker':'o','zorder':5})\n",
    "graf.plot(2, x = td, y = m, par={'ls':'--', 'lw':1, 'color':'black', 'marker':'o','zorder':5})\n",
    "graf.show()"
   ]
  },
  {
   "cell_type": "markdown",
   "metadata": {},
   "source": [
    "En la gráfica de la izquierda, la línea negra nos muestra gráficamente el cambio en la pendiente de la recta que une los puntos de la gráfica de $R(t)$. En la gráfica de la derecha, observamos el cámbio de la pendiente $m$ en función de $t$.\n",
    "\n",
    "Lo que estamos observando es la razón de cambio de $R(t)$ en intervalos de tiempo de longitud $h$ y esto es lo que expresa la fórmula de $m(t)$. \n",
    "\n",
    "¿Será posible calcular **la razón de cambio instantáneo**? Para ello, esta razón debería calcularse en un solo instante de tiempo, lo cual implica que $t_1 = t_2 \\Longrightarrow h = 0$, y esto nos lleva a que la fórmula de $m(t)$ no está definida (división por cero!). Pero, ¿qué pasa si $h$ se hace muy pequeña? es decir:\n",
    "\n",
    "$$\n",
    "\\lim_{h \\to 0}  \\frac{R(t + h) - R(t)}{h}\n",
    "$$\n",
    "\n",
    "En la siguiente visualización puedes modificar $S$, $h$ y $t$. Observa lo que sucede cuando $h \\to 0$. "
   ]
  },
  {
   "cell_type": "code",
   "execution_count": null,
   "metadata": {},
   "outputs": [],
   "source": [
    "# LINUX y MACOS\n",
    "%run \"./02_Derivadas_interactive.ipynb\"\n",
    "\n",
    "# WINDOWS\n",
    "#%run \"D:\\\\GitSites\\\\PAPIME_PE101019_Materiales\\\\01_Calculo\\\\07_SeriesDeTaylor_interactive.ipynb\""
   ]
  },
  {
   "cell_type": "markdown",
   "metadata": {},
   "source": [
    "Conforme $h$ se hace más pequeño, observamos que la línea roja se aproxima cada vez mejor a la línea tangente que pasa por el punto rojo. Dicha línea representa una aproximación a la razón de cambio instantánea en el punto rojo.\n",
    "Entonces, la tangente en el punto rojo, no es otra cosa que la razón de cambio instantánea. Veremos enseguida que ambas cosas se representan un concepto conocido como *la derivada de la función* en el punto rojo.\n",
    "\n",
    "Veamos algunas definiciones matemáticas:\n",
    "\n",
    "## Definición de derivada\n",
    "\n",
    "En todos los libros de cálculo encontrarás la siguiente definición para la derivada de la función $f(x)$:\n",
    "\n",
    "$$ \n",
    "f^\\prime(x)=\\lim_{h \\to 0} \\frac{f(x + h) - f(x)}{h} \n",
    "$$\n",
    "\n",
    "La derivada existe siempre y cuando exista el límite. ¿Puedes imaginar cuando este límite no existe? Observe que en la definición anterior se está calculando la pendiente de la función $f(x)$ en $x$, ¿cuando es que esta pendiente no se puede calcular?\n",
    "\n",
    "Para tener una mejor idea de lo que este límite significa vea el siguiente interactivo."
   ]
  },
  {
   "cell_type": "code",
   "execution_count": null,
   "metadata": {},
   "outputs": [],
   "source": [
    "# LINUX y MACOS\n",
    "%run \"./03_Derivadas_interactive.ipynb\"\n",
    "\n",
    "# WINDOWS\n",
    "#%run \"D:\\\\GitSites\\\\PAPIME_PE101019_Materiales\\\\01_Calculo\\\\07_SeriesDeTaylor_interactive.ipynb\""
   ]
  },
  {
   "cell_type": "markdown",
   "metadata": {},
   "source": [
    "## Notación \n",
    "La notación común para la derivada es la siguiente:\n",
    "\n",
    "$$\n",
    "\\frac{d f}{dx} = f^\\prime(x) = \\lim_{h \\to 0} \\frac{f(x + h) - f(x)}{h} \n",
    "$$\n",
    "\n",
    "### "
   ]
  },
  {
   "cell_type": "markdown",
   "metadata": {},
   "source": [
    "### Ejemplo 2.\n",
    "\n",
    "Consideremos la función $f(x) = x^3$ y apliquemos la definición de derivada:\n",
    "\n",
    "$$\n",
    "\\frac{d f}{dx} = \\lim_{h \\to 0} \\frac{f(x + h) - f(x)}{h} = \\lim_{h \\to 0} \\frac{(x + h)^3 - x^3}{h}\n",
    "$$\n",
    "\n",
    "Si expandimos los términos del numerador obtenemos:\n",
    "\n",
    "$$\n",
    "\\frac{d f}{dx} = \\lim_{h \\to 0} (3x^2 + 3 x h + h ^2)\n",
    "$$\n",
    "\n",
    "La calcular el límite de la derecha obtenemos:\n",
    "\n",
    "$$\n",
    "\\frac{d f}{dx} = 3x^2\n",
    "$$\n",
    "\n",
    "Hemos calculado la derivada analítica de $f(x) = x^3$. "
   ]
  },
  {
   "cell_type": "code",
   "execution_count": null,
   "metadata": {},
   "outputs": [],
   "source": [
    "par = [{'title':'$f(x)$ y $f^\\prime(x)$', \n",
    "        'xlabel':'$x$',\n",
    "        'ylabel':'$f, f^\\prime$'}\n",
    "      ]\n",
    "x = np.linspace(0,10,100)\n",
    "graf = vis.planoCartesiano(par=par)\n",
    "graf.plot(x = x, y = x**3, par={'label':'$f(x)=x^3$'})\n",
    "graf.plot(x = x, y = 3*x**2, par={'label':'$f^\\prime(x)=3x^2$'})\n",
    "graf.legend()\n",
    "graf.show()"
   ]
  },
  {
   "cell_type": "markdown",
   "metadata": {
    "colab_type": "text",
    "id": "lKuFhygnBx29"
   },
   "source": [
    "### Reglas de derivación\n",
    "\n",
    "En general es fácil calcular la derivada de cualquier función y existen reglas para hacerlo más fácil.\n",
    " \n",
    "\n",
    "**Regla de potencias**\n",
    "\n",
    "Para cualquier numero real $n$ si $f(x)= x^n$, entonces\n",
    "$$\n",
    "f(x) = n * x^{n-1}\n",
    "$$\n",
    "\n",
    "**Regla de la función constante**\n",
    "\n",
    "Si $f(x)=c$ es una función constante, entonces\n",
    "$$ \n",
    "f^\\prime(x)=0 \n",
    "$$\n",
    "\n",
    "**Regla de la multiplicación por constante**\n",
    "\n",
    "Si $c$ es cualquier constante y $f(x)$ es diferenciable, entonces $g(x)= c f(x)$ también es diferenciable y su derivada es:\n",
    "$$ \n",
    "g^\\prime(x) = c f(x) \n",
    "$$\n",
    "\n",
    "**Regla de suma y diferencia**\n",
    "\n",
    "Si $f(x)$ y $g(x)$ son diferenciables, entonces $f(x) + g(x)$ y $f(x) - g(x)$ también son diferenciables y sus derivadas son:\n",
    "$$ \n",
    "[f(x)+ g(x)]^\\prime = f^\\prime(x) + g^\\prime(x) \n",
    "$$\n",
    "\n",
    "$$ \n",
    "[f(x)- g(x)]^\\prime=f^\\prime(x) - g^\\prime(x) \n",
    "$$\n",
    "\n",
    "**Regla del producto**\n",
    "\n",
    "Si $f(x)$ y $g(x)$ son funciones diferenciables, entonces $f(x)g(x)$ es diferenciable y su derivada es:\n",
    "$$ \n",
    "[f(x) g(x)]^\\prime= f(x)g^\\prime(x) + g(x)f^\\prime(x) \n",
    "$$\n",
    "\n",
    "**Regla del cociente**\n",
    "\n",
    "Si $f$ y $g$ son funciones diferenciables y $g(x) \\neq 0$, entonces $f(x)/g(x)$ es diferenciable y su derivada es: \n",
    "$$  \n",
    "\\left[\\frac{f(x)}{g(x)} \\right] = \\frac{f(x)g^\\prime(x)- f(x)g^\\prime(x) }{g(x)^2}\n",
    "$$\n",
    "\n",
    "**Regla  de la cadena**\n",
    "\n",
    "Si la función $f(u)$ es diferenciable, donde $u = g(x)$, y la función $g(x)$ es diferenciable, entonces la composición $y=(f \\circ g)(x)= f(g(x))$ es diferenciable:\n",
    "$$ \n",
    "f(g(x))^\\prime = f^\\prime(g(x)) \\cdot g^\\prime(x)  \n",
    "$$\n",
    "\n",
    "**Regla de L’Hôpital**\n",
    "\n",
    "Esta regla es utilizada en caso de indeterminaciones donde $f(x)$ y $g(x)$ son dos funciones continuas definidas en el intervalo $[a,b]$, derivables en $(a,b)$ y sea $c$ perteneciente a $(a,b)$ tal que $f(c)=g(c)=0$ y $g^\\prime(x) \\neq 0$ si $x \\neq c$. Si existe el límite $L$ de $f^\\prime/g^\\prime$ en $c$, entonces existe el límite de $f(x)/g(x)$ (en $c$) y es igual a $L$. Por lo tanto:\n",
    "$$ \n",
    "\\lim_{x \\to c} \\frac{f(x)}{g(x)} = \\lim_{x \\to c} \\frac{f^\\prime(x)}{g^\\prime(x)} = L \n",
    "$$\n",
    "\n",
    "### Derivadas de funciones trigonométricas\n",
    "$$\\sin^\\prime(x) = \\cos(x)$$\n",
    "$$\\tan^\\prime(x) = \\sec^2(x)$$\n",
    "$$\\sec^\\prime(x) = \\sec(x)tan(x)$$\n",
    "$$\\cos^\\prime(x) = -\\sin(x)$$\n",
    "$$\\cot^\\prime(x) = -\\csc^2(x)$$\n",
    "$$\\csc^\\prime(x) = -\\csc(x)cot(x)$$"
   ]
  },
  {
   "cell_type": "markdown",
   "metadata": {},
   "source": [
    "### Teorema de Rolle\n",
    " Michel Rolle fue un matemático francés. Se dedicó preferentemente a la teoría de ecuaciones, dominio en el que encontró diversos resultados, entre los que destaca el reconocido teorema que lleva su nombre formulado en 1691. Su obra más importante fue un Tratado de Álgebra en la que inventó la notación para representar la raíz $n$-ésima de un número $x$.\n",
    "\n",
    "**Enunciado**\n",
    "\n",
    "Sea $a < b$ y suponga que $f : [a, b] → {\\mathbb{R}}$ es derivable en $(a, b)$ y continua\n",
    "en $[a, b]$ y $f(a) = f(b)$. Entonces $∃ x_0 ∈ (a, b)$ tal que $f^\\prime(x_0) = 0$\n",
    "\n",
    "***\n",
    "Lo anterior quiere decir que, dadas las condiciones del teorema, es posible encontrar un punto de la función $f(x)$ dentro del intervalo $(a,b)$ donde la derivada, esto es la línea tangente, es cero, en otras palabras, es ese punto la línea tangente es horizontal. Veamos el siguiente ejemplo:"
   ]
  },
  {
   "cell_type": "markdown",
   "metadata": {},
   "source": [
    "### Ejemplo 3.\n",
    "\n",
    "La función $f(x)= x^2 + 5$ es continúa en todo $\\mathbb{R}$. Consideremos el intervalo $[-5,5]$ y hagamos la gráfica de esta función:"
   ]
  },
  {
   "cell_type": "code",
   "execution_count": null,
   "metadata": {
    "colab": {
     "base_uri": "https://localhost:8080/",
     "height": 369
    },
    "colab_type": "code",
    "id": "_628r9Kj37-r",
    "outputId": "7b0048f7-9572-43ea-ec5c-39c0d8b0bf64"
   },
   "outputs": [],
   "source": [
    "f = lambda x: x**2 + 5\n",
    "\n",
    "def x_c1(x):  \n",
    "    return 5\n",
    "\n",
    "x = np.linspace(-8, 8, num=50)\n",
    "\n",
    "par = [{'title':'$f(x)=x^2$', \n",
    "        'xlabel':'$x$',\n",
    "        'ylabel':'$y$'}\n",
    "      ]\n",
    "\n",
    "graf = vis.planoCartesiano(par=par)\n",
    "graf.plot(x= x, y = f(x),par={'label':'$f(x) = x**2$'})\n",
    "\n",
    "graf.plot(x=[-3,3],y=[5,5],par={'label':'Línea tangente','c':'red','ls':'-','lw':2})\n",
    "\n",
    "graf.scatter(x=0, y=5, par={'label':'Punto donde $f^\\prime= 0$','fc':'red', 'ec':'black', 'alpha':0.75, 's':75, 'zorder':10})\n",
    "graf.scatter(x=[-5,5], y=[0,0], par={'label':'Puntos $a$ y $b$','color':'black', 'zorder':10})\n",
    "\n",
    "graf.plot(x=[-10,10],y=[30,30],par={'c':'green','ls':'--','lw':2})\n",
    "\n",
    "graf.plot(x=[-5,-5],y=[0,30],par={'c':'green','ls':'--','lw':2})\n",
    "graf.plot(x=[5,5],y=[0,30],par={'c':'green','ls':'--','lw':2})\n",
    "\n",
    "graf.annotate(par={'text':'f(a)=f(b)', 'xy':(0, 30), 'xytext':(-0,50), 'fontsize':12,\n",
    "            'textcoords':'offset points', 'ha':'center', 'va':'bottom',\n",
    "            'bbox':{'boxstyle':'round','pad':0.4, 'fc':'yellow', 'alpha':0.7},\n",
    "            'arrowprops':{'arrowstyle':'->', 'connectionstyle':'arc3,rad=0.5', \n",
    "                           'color':'black'}})\n",
    "graf.annotate(par={'text':'f´(c)=0', 'xy':(0, 5), 'xytext':(-0,30), 'fontsize':12,\n",
    "            'textcoords':'offset points', 'ha':'center', 'va':'bottom',\n",
    "            'bbox':{'boxstyle':'round','pad':0.4, 'fc':'yellow', 'alpha':0.7},\n",
    "            'arrowprops':{'arrowstyle':'->', 'connectionstyle':'arc3,rad=0.5', \n",
    "                           'color':'black'}})\n",
    "\n",
    "graf.ticks(xticks=[-5,0,5])\n",
    "graf.legend()\n",
    "graf.show()\n",
    "\n"
   ]
  },
  {
   "cell_type": "markdown",
   "metadata": {},
   "source": [
    "En la gráfica anterior observamos que se cumplen las condiciones del Teorema de Rolle y por lo tanto es posible encontrar un punto $c$, punto rojo, donde la derivada es cero (línea roja)."
   ]
  },
  {
   "cell_type": "markdown",
   "metadata": {},
   "source": [
    "## Derivadas de orden superior\n",
    "\n",
    "Es posible obtener la derivada de la derivada, es decir, si tenemos una función $f(x)$ cuya derivada es $f^\\prime(x)$, entonces podemos calcular la derivada a esta última función, para obtener $f^{\\prime\\prime}(x)$, a esta última función, si es que existe, se le conoce como la segunda derivada de $f(x)$. También se puede denotar a la segunda derivada com $f^{(2)}(x)$.\n",
    "\n",
    "En general, si $f(x)$ es derivable $k$ veces, entonces es posible obtener la k-esima derivada de dicha función, que se escribe como:\n",
    "$$ \n",
    "\\frac{d^kf(x)}{dx^k} = f^{(k)}(x)\n",
    "$$\n",
    "\n",
    "### Ejemplo 4.\n",
    "\n",
    "Calcular la cuarta derivada de $f(x)= 3x^4 + 2x^2 - 20$.\n",
    "  \n",
    "Para calcular la derivada solicitada de $f(x)$ se deben realizar los cálculos recursivos desde la primera derivada de la función:\n",
    "\n",
    "$$\n",
    "\\begin{eqnarray}\n",
    "f^\\prime(x) & = & 12x^3 + 4x \\\\\n",
    "f^{(2)}(x) & = & 36x^2 + 4 \\\\\n",
    "f^{(3)}(x) & = & 72x  \\\\\n",
    "f^{(4)}(x) & = & 72 \\\\\n",
    "\\end{eqnarray}  \n",
    "$$ "
   ]
  },
  {
   "cell_type": "markdown",
   "metadata": {},
   "source": [
    "### Ejemplo 5.\n",
    "\n",
    "1. Utilizando la regla de L´Hopital encuentra el límite de $f(x)=\\frac{\\sin(x)}{x}$ cuando $x$ tiende a cero.\n",
    "2. Encuentra la primera y segunda derivada de la siguientes funciones:\n",
    "- a) $f(x)= x^5 - 2x^3 + x$ \n",
    "- b) $f(x)= 4 cos x^2$\n",
    "\n",
    " **Solución**\n",
    "\n",
    "1. Al cumplirse las condiciones de la regla podemos asegurar que:\n",
    " $$ \\lim_{x \\to 0} \\frac{\\sin (x)}{x} = \\lim_{x \\to 0} \\frac{\\sin´(x)}{x´} = \\lim_{x \\to 0} \\frac{\\cos(x)}{1}=1$$\n",
    "\n",
    "2.a) Aplicando las reglas de derivación obtenemos:\n",
    "  $$f´(x)= 5x^4 - 6x^2 +1$$ \n",
    "  $$f´´(x)= 20x^3 - 12 x $$ \n",
    "\n",
    "2.b) Aplicando las regla de la cadena obtenemos:\n",
    "  $$f´(x)= -4 \\sin x^2(2x) = -8x \\sin x^2$$ \n",
    "  $$f´´(x)= -8 \\sin x^2 -8x (\\cos x^2(2x)) = -8 \\sin x^2 -16x^2 (\\cos x^2)$$ "
   ]
  },
  {
   "cell_type": "markdown",
   "metadata": {},
   "source": [
    "## Máximos y mínimos relativos, regiones de concavidad y puntos de inflexión \n",
    "\n",
    "Definiciones:\n",
    "\n",
    "*   **Máximo absoluto:** Es un número $f(c_1)$ de una función tal que $f(x)\\leq f(c_1)$ para toda *x* en el dominio de *f*\n",
    "*   **Mínimo absoluto:** Es un número $f(c_2)$ de una función tal que $f(x)\\geq f(c_2)$ para toda *x* en el dominio de *f*\n",
    "*   **Máximo relativo:** Es un número $f(c_1)$ de una función tal que $f(x)\\leq f(c_1)$ para toda *x* en algún intervalo abierto que contiene a $c_1$.\n",
    "*   **Mínimo relativo:** Es un número $f(c_2)$ de una función tal que $f(x)\\geq f(c_1)$ para toda *x* en algún intervalo abierto que contiene a $c_1$.\n",
    "*   **Punto crítico:** El punto crítico de una función *f* es un número *c* en su dominio para el cual $f´(c)=0$ o $f´(c)$ no existe.\n",
    "*   **Concavidad:** Si *f* es una función diferenciable y $f´$ es una función *creciente* en *(a,b)* se dice que la función es cóncava.\n",
    "*   **Convexidad:** Si *f* es una función diferenciable y $f´$ es una función *decreciente* en *(a,b)* se dice que la función es convexa.\n",
    "*   **Punto de inflexión:** Si *f* es continua sobre un intervalo *(a,b)* que contiene al número *c* se llama punto de inflexión a $(c,f(c))$si en dicho punto hay una recta tangente y la gráfica cambia de concavidad en este punto. Suponiendo que $(c,f(c))$  es punto de inflexión para $f$, entonces $f´´(c)=0$ o $f´´(c)$ no existe.\n",
    "\n",
    "No todas las funciones tiene máximo o mínimo absoluto como ejemplo tenemos a las funciones lineales las cuales no tienen dichos puntos. Algunas veces es sencillo identificar gráficamente estos puntos."
   ]
  },
  {
   "cell_type": "markdown",
   "metadata": {
    "colab_type": "text",
    "id": "saFC8ASU0HAu"
   },
   "source": [
    "### Teorema de la unicidad del punto crítico\n",
    "Suponiendo que $c$ es el **único** punto crítico de una función $f$ dentro de un intervalo. Si se demuestra que $f(c)$ es un extremo relativo, entonces $f(c)$ es un extremo absoluto.\n",
    "\n",
    "### Criterio de la primera derivada\n",
    "Sea $f$ una función continua sobre $[a,b]$ y diferenciable sobre $(a,b)$  excepto posiblemente en $c$ punto crítico, entonces $f(c)$ puede clasificarse como sigue.\n",
    "\n",
    "1. Si $f'(x)$ cambia de negativa a positiva en $c$, entonces $f(c)$ es un mínimo relativo.\n",
    "\n",
    "2. Si $f'(x)$   cambia de positiva a negativa en $c$, entonces $f(c)$ es un máximo relativo.\n",
    "\n",
    "3. Si $f'(x)$   es positiva en ambos lados de $c$ o negativa en ambos lados de $c$, entonces $f(c)$ no es ni un mínimo ni un máximo relativo. \n",
    "\n",
    "### Teorema del valor extremo\n",
    "Existe un teorema el cual facilita conocer si una función tiene un máximo y un mínimo absoluto, pues en caso de tener una función continua en un intervalo cerrado aseguramos que existen $f(c_1)$ y $f(c_2)$ tales que $f(c_1)\\geq f(x)\\leq f(c_2)$ llamados el mínimo y el máximo respectivamente.\n",
    "\n",
    "**Enunciado**\n",
    "\n",
    "Una función $f$ continua sobre un intervalo cerrado $[a,b]$ siempre tiene un máximo absoluto y un mínimo absoluto sobre el intervalo.\n",
    "\n",
    "### Criterio de la segunda derivada\n",
    "Sea $f$ una función con su primera derivada definida, al menos, en un intervalo abierto $(a,b)$ conteniendo al número $c$. Si $f´´$ esta definida entonces podemos considerar los siguiente aspectos: \n",
    "\n",
    "1.  Si $f´´(c) < 0$  entonces se dice que $f(c)$ es un máximo relativo.\n",
    "\n",
    "2.  Si $f´´(c) > 0$ entonces se dice que $f(c)$ es un mínimo relativo. \n",
    "\n",
    "### Teorema de funciones crecientes y decrecientes\n",
    "Es posible conocer si una función es creciente o decreciente en un intervalo mediante el uso de derivadas.\n",
    "\n",
    "**Enunciado**\n",
    "\n",
    "Sea $f$ una función continua sobre $[a,b]$ y diferenciable sobre $(a,b)$.\n",
    "1.   Si $f´(x) > 0$ para toda $x$ en $(a,b)$, entonces la función $f$ es *creciente* sobre el intervalo $[a,b]$\n",
    "2.   Si $f´(x) < 0$ para toda $x$ en $(a,b)$, entonces la función $f$ es *decreciente* sobre el intervalo $[a,b]$\n",
    "\n",
    "### Teorema de concavidad\n",
    "Para conocer la concavidad de una función es de gran utilidad el uso del siguiente teorema.\n",
    "\n",
    "**Enunciado**\n",
    "\n",
    "Sea $f$ una función para la cual la segunda derivada existe sobre un intervalo $(a,b)$\n",
    "1.   Si $f´´(x) > 0$ para toda $x$ en $(a,b)$ entonces la gráfica de $f$ es    cóncava sobre $(a,b)$.\n",
    "2.    Si $f´´(x) < 0$ para toda $x$ en $(a,b)$ entonces la gráfica de $f$ es    convexa sobre $(a,b)$. \n"
   ]
  },
  {
   "cell_type": "markdown",
   "metadata": {
    "colab_type": "text",
    "id": "7zDaysqMCF92"
   },
   "source": [
    "### Ejemplo 6.\n",
    "\n",
    "4.   Encuentra el mínimo y máximo relativo de la siguiente función:\n",
    "$$f(x)= 4x^4 - 4x^2$$\n",
    "\n",
    " **Solución**\n",
    "\n",
    " Graficaremos la función para poder visualizarla y observar que *f* es una función simétrica."
   ]
  },
  {
   "cell_type": "code",
   "execution_count": null,
   "metadata": {
    "colab": {
     "base_uri": "https://localhost:8080/",
     "height": 387
    },
    "colab_type": "code",
    "id": "it6xQtAlfA8U",
    "outputId": "f86cbdaf-3656-4139-cc99-65aa57e065ff"
   },
   "outputs": [],
   "source": [
    "f = lambda x: 4*x**4 - 4*x**2\n",
    "\n",
    "x = np.linspace(-4, 4, 100)\n",
    "\n",
    "par = [{'title':'$f(x)= 4x^4 - 4x^2$', \n",
    "        'xlabel':'$x$',\n",
    "        'ylabel':'$y=f(x)$',\n",
    "       'ylim':(-2,4), 'xlim':(-2,2)}\n",
    "      ]\n",
    "\n",
    "graf = vis.planoCartesiano(par=par)\n",
    "graf.plot(x= x, y= f(x))\n",
    "graf.show()"
   ]
  },
  {
   "cell_type": "markdown",
   "metadata": {
    "colab_type": "text",
    "id": "uXpXhcmIiWuw"
   },
   "source": [
    "Para encontrar los puntos críticos calculamos la primera derivada de $f(x)= 4x^4 - 4x^2$ y la igualamos a cero:\n",
    "$$\n",
    "f´(x) = 16x^3 - 8x = 0\n",
    "$$\n",
    "\n",
    "Esta ecuación tiene tres raíces, las cuales son: 0, $ \\frac{\\sqrt2}{2}$, $ - \\frac{\\sqrt2}{2}$. ¿Puede verificar que son puntos críticos?\n",
    "\n",
    "Ahora aplicamos el criterio de la segunda derivada para conocer que tipo de puntos críticos tenemos:\n",
    "\n",
    "$$\n",
    "f´´(x) = 48x^2 - 8\n",
    "$$\n",
    "\n",
    "Por lo que al evaluar dichos puntos en la segunda derivada obtenemos:\n",
    "\n",
    "$$\n",
    "\\begin{array}{cccc}\n",
    "x & \\text{Signo de }f´´(x) & f(x) & \\text{Punto} \\\\\n",
    "\\hline\n",
    "0 & - & 0 & \\text{máximo relativo} \\\\\n",
    "\\frac{\\sqrt2}{2} & + & -1 & \\text{ mínimo relativo} \\\\\n",
    "- \\frac{\\sqrt2}{2} & + & -1 & \\text{ mínimo relativo}\n",
    "\\end{array}\n",
    "$$\n",
    "\n",
    "Es posible observar que se tienen dos puntos de inflexión que se encuentran en $\\pm \\frac{\\sqrt6}{6}$  pues es simétrica.\n",
    "\n",
    "Veamos lo anterior gráficamente:"
   ]
  },
  {
   "cell_type": "code",
   "execution_count": null,
   "metadata": {
    "colab": {
     "base_uri": "https://localhost:8080/",
     "height": 369
    },
    "colab_type": "code",
    "id": "ch1UnrjEpjVu",
    "outputId": "58b65ec6-e28a-4886-de25-ef15be9c791f"
   },
   "outputs": [],
   "source": [
    "f = lambda x: 4*x**4 - 4*x**2\n",
    "\n",
    "x = np.linspace(-2, 4, num=100)\n",
    "\n",
    "par = [{'title':'$f(x)= 4x^4 - 4x^2$', \n",
    "        'xlabel':'$x$',\n",
    "        'ylabel':'$y$',\n",
    "       'ylim':(-2,4), 'xlim':(-2,2)}\n",
    "      ]\n",
    "\n",
    "x1 = np.sqrt(2)/2\n",
    "x2 = np.sqrt(6)/6\n",
    "\n",
    "graf = vis.planoCartesiano(par=par)\n",
    "graf.plot(x = x, y = f(x))\n",
    "graf.scatter(x=[-x1, x1], y=[f(-x1), f(x1)], par={'s':75,'color':'red', 'zorder':10})\n",
    "graf.scatter(x=[0], y=[f(0)], par={'s':75, 'color':'green', 'zorder':10})\n",
    "graf.scatter(x=[-x2, x2], y=[f(-x2), f(x2)], par={'color':'black', 'zorder':10})\n",
    "\n",
    "graf.annotate(par={'s':'Máximo relativo', 'xy':(0, 0), 'xytext':(-0,50), 'fontsize':12,\n",
    "            'textcoords':'offset points', 'ha':'center', 'va':'bottom',\n",
    "            'bbox':{'boxstyle':'round','pad':0.4, 'fc':'red', 'alpha':0.5},\n",
    "            'arrowprops':{'arrowstyle':'->', 'connectionstyle':'arc3,rad=0.5', \n",
    "                           'color':'black'}})\n",
    "\n",
    "graf.annotate(par={'s':'Mínimo relativo', 'xy':(-x1, f(-x1)), 'xycoords':'data',\n",
    "                   'xytext':(-1.5,-1.5), 'fontsize':12,\n",
    "                   'textcoords':'data', 'ha':'center', 'va':'bottom',\n",
    "                   'bbox':{'boxstyle':'round','pad':0.4, 'fc':'blue', 'alpha':0.25},\n",
    "                   'arrowprops':{'arrowstyle':'->', 'connectionstyle':'arc3,rad=0.5', 'color':'black'}})                  \n",
    "\n",
    "graf.annotate(par={'s':'Mínimo relativo', 'xy':(x1, f(x1)), 'xycoords':'data',\n",
    "                   'xytext':(1.5,-1.5), 'fontsize':12,\n",
    "                   'textcoords':'data', 'ha':'center', 'va':'bottom',\n",
    "                   'bbox':{'boxstyle':'round','pad':0.4, 'fc':'blue', 'alpha':0.25},\n",
    "                   'arrowprops':{'arrowstyle':'->', 'connectionstyle':'arc3,rad=0.5', 'color':'black'}})  \n",
    "\n",
    "graf.annotate(par={'s':'Puntos de inflexión', 'xy':(x2, f(x2)), 'xycoords':'data',\n",
    "                   'xytext':(0,-1.8), 'fontsize':12,\n",
    "                   'textcoords':'data', 'ha':'center', 'va':'bottom',\n",
    "                   'bbox':{'boxstyle':'round','pad':0.4, 'fc':'yellow', 'alpha':0.5},\n",
    "                   'arrowprops':{'arrowstyle':'->', 'connectionstyle':'arc3,rad=0.5', 'color':'black'}})\n",
    "graf.show()"
   ]
  },
  {
   "cell_type": "markdown",
   "metadata": {
    "colab_type": "text",
    "id": "dJnp34DNIu3b"
   },
   "source": [
    "## Referencias\n",
    "\n",
    "*   Matemáticas 1 :cálculo diferencial / Dennis G. Zill, Warren S. Wright ; adaptación y revisión técnica, Joel Ibarra Escutia ; [traductores: Hugo Villagómez Velazquéz y Gabriel Nagore Cázar\n",
    "*   Cálculo 1 de una variable / Ron Larson, Bruce H. Edwards"
   ]
  }
 ],
 "metadata": {
  "colab": {
   "collapsed_sections": [],
   "name": "04_Derivadas.ipynb",
   "provenance": [],
   "toc_visible": true
  },
  "kernelspec": {
   "display_name": "Python 3",
   "language": "python",
   "name": "python3"
  },
  "language_info": {
   "codemirror_mode": {
    "name": "ipython",
    "version": 3
   },
   "file_extension": ".py",
   "mimetype": "text/x-python",
   "name": "python",
   "nbconvert_exporter": "python",
   "pygments_lexer": "ipython3",
   "version": "3.7.6"
  }
 },
 "nbformat": 4,
 "nbformat_minor": 1
}
