{
 "cells": [
  {
   "cell_type": "markdown",
   "metadata": {},
   "source": [
    "# Derivadas\n",
    "### Trabajo realizado con el apoyo del Programa UNAM-DGAPA-PAPIME PE101019\n",
    "*   Autores: \n",
    "    - Luis M. de la Cruz Salas\n",
    "*   Rev: mar 12 ene 2021 12:31:49 CST"
   ]
  },
  {
   "cell_type": "markdown",
   "metadata": {},
   "source": [
    "La razón de cambio instantáneo tiene que ver con un concepto muy importante en Cálculo: *la derivada*.\n",
    "En todos los libros de cálculo encontrarás la siguiente definición y notación para la derivada de una función $f(x)$:\n",
    "\n",
    "$$ \n",
    "\\frac{d f}{dx} = f^\\prime(x)=\\lim_{h \\to 0} \\frac{f(x + h) - f(x)}{h} \n",
    "$$\n",
    "\n",
    "La derivada existe siempre y cuando exista el límite.\n",
    "\n",
    "Supongamos que deseamos evaluar la derivada en el punto $x_0$. ¿Qué pasa cuando $h$ es pequeña pero diferente de cero? En ese caso, tenemos una aproximación a la derivada que escribimos de la siguiente manera:\n",
    "\n",
    "$$ \n",
    "F^\\prime(x)=\\frac{f(x_0 + h) - f(x_0)}{h} \n",
    "$$\n",
    "\n",
    "Para que esta aproximación se parezca a la derivada exacta, tenemos que usar una $h$ tan pequeña como sea posible. Podemos medir el error de esta aproximación mediante:\n",
    "\n",
    "$$\n",
    "Error = |f^\\prime(x_0) - F^\\prime(x_0)|\n",
    "$$\n",
    "\n",
    "Este error va a tender a cero conforme la $h$ se hace más pequeña. Para comprobar esto, veamos el siguiente interactivo:\n",
    "\n",
    "**Instrucciones:**\n",
    "- Elige una función de la lista.\n",
    "- Elige el punto $x_0$ donde quieres calcular la derivada.\n",
    "- Disminuye el valor de $h$ hasta un valor muy pequeño y observa lo que sucede.\n"
   ]
  },
  {
   "cell_type": "code",
   "execution_count": 1,
   "metadata": {},
   "outputs": [
    {
     "data": {
      "application/vnd.jupyter.widget-view+json": {
       "model_id": "409faee9cbaf4744be546f22acbcf2e5",
       "version_major": 2,
       "version_minor": 0
      },
      "text/plain": [
       "interactive(children=(Dropdown(description='Función', options=(sin(x), cos(x), x**2*sin(x)), value=sin(x)), Fl…"
      ]
     },
     "metadata": {},
     "output_type": "display_data"
    },
    {
     "data": {
      "text/plain": [
       "<function __main__.numericalDer(f, x0, h, r)>"
      ]
     },
     "metadata": {},
     "output_type": "display_data"
    }
   ],
   "source": [
    "%run ./zInteractivoDerivadasLight.ipynb"
   ]
  },
  {
   "cell_type": "markdown",
   "metadata": {},
   "source": [
    "Si observaste con atención, te habrás dado cuenta que conforme $h$ se hace pequeña, el valor de $F^\\prime(x_0)$ se aproxima cada vez mejor al valor exacto de la derivada $f^\\prime(x_0)$. Una consecuencia es que la línea verde es cada vez más parecida a la línea tangente a la curva en el punto $x_0$ (la línea roja).\n",
    "\n",
    "Puedes notar que la derivada es **la razón de cambio instantáneo** en donde tenemos dos conceptos importantes: \n",
    "\n",
    "- por un lado un *cambio* requiere de la comparación entre dos o más estados; \n",
    "- mientras que la palabra *instantáneo* tiene que ver con algo que dura un instante, es decir un tiempo puntal. \n",
    "\n",
    "En el interactivo podemos notar que tenemos dos estados $f(x_0)$ y $f(x_0+h)$, lo cual indica un cambio; pero conforme $h \\to 0$ vemos que esos dos estados se acercan mucho tendiendo en el límite justamente a la razón de cambio instantáneo, o sea a la derivada, la cual también representa la línea tangente al punto $f(x_0)$.\n",
    "\n",
    "Para revisar más conceptos de derivadas, checa el siguiente *notebook*."
   ]
  },
  {
   "cell_type": "code",
   "execution_count": null,
   "metadata": {},
   "outputs": [],
   "source": []
  }
 ],
 "metadata": {
  "kernelspec": {
   "display_name": "Python 3",
   "language": "python",
   "name": "python3"
  },
  "language_info": {
   "codemirror_mode": {
    "name": "ipython",
    "version": 3
   },
   "file_extension": ".py",
   "mimetype": "text/x-python",
   "name": "python",
   "nbconvert_exporter": "python",
   "pygments_lexer": "ipython3",
   "version": "3.8.5"
  }
 },
 "nbformat": 4,
 "nbformat_minor": 4
}
