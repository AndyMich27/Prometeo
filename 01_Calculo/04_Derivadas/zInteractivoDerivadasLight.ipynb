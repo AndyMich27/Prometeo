{
 "cells": [
  {
   "cell_type": "code",
   "execution_count": 5,
   "metadata": {},
   "outputs": [],
   "source": [
    "import numpy as np\n",
    "import pandas as pd\n",
    "from sympy import Symbol, diff, cos, sin, exp, tan\n",
    "from sympy.utilities.lambdify import lambdify\n",
    "import matplotlib.pyplot as plt\n",
    "%matplotlib inline\n",
    "plt.style.use('seaborn-talk')\n",
    "\n",
    "from ipywidgets import interact, interactive, fixed\n",
    "import ipywidgets as widgets\n"
   ]
  },
  {
   "cell_type": "code",
   "execution_count": 24,
   "metadata": {},
   "outputs": [],
   "source": [
    "line = lambda x, x0, x1, y0, y1 : ((y1-y0)/(x1-x0))*(x-x0) + y0\n",
    "tangente = lambda x, m, b : m * x + b\n",
    "\n",
    "def numericalDer(f, x0, h, r):\n",
    "    t = Symbol('x')\n",
    "    fp = diff(f,t)\n",
    "    evalfp = lambdify(t, fp, modules=['numpy'])    \n",
    "    evalf = lambdify(t, f, modules=['numpy']) # Evalua la función\n",
    "   \n",
    "    offset = r * np.pi\n",
    "    xl = np.linspace(x0 - offset*0.25, x0 + h + offset*0.25, 50)  # línea tangente aprox\n",
    "    xt = np.linspace(x0 - offset*0.25, x0 + offset*0.25, 50)  # línea tangente\n",
    "    xv = np.linspace(x0 - offset, x0 + offset, 50) # funcion f(x)\n",
    "    \n",
    "    lf = line(xl, x0, x0 + h, evalf(x0), evalf(x0 + h))\n",
    "\n",
    "    yv = evalf(xv)\n",
    "    yp = evalfp(xv)\n",
    "\n",
    "    f_0 = evalf(x0)\n",
    "    fph = evalf(x0+h)\n",
    "    fp_0 = evalfp(x0)\n",
    "    \n",
    "    lt = tangente(xt, fp_0, f_0 - fp_0 * x0)\n",
    "    \n",
    "    ancho_linea = 2.0\n",
    "    \n",
    "    fig = plt.figure(figsize=(20,5))\n",
    "\n",
    "    #----------------- Gráfica de la función original -----------------\n",
    "    ax1 = plt.subplot(1,2,1)\n",
    "    \n",
    "    # Función original\n",
    "    ax1.plot(xv, yv, '-', lw = 3, color='k', label = 'f(x)')\n",
    "\n",
    "    # Línea tangente\n",
    "    ax1.scatter(x0, f_0, facecolor ='C1', edgecolor='k', zorder=10, label='$x_o$')\n",
    "    ax1.scatter(x0+h, fph, facecolor ='w', edgecolor='k', zorder=5)  \n",
    "    ax1.plot(xl, lf, c='C2', lw = ancho_linea, label=\"$F'(x)$\", zorder=2)\n",
    "    ax1.plot(xt, lt, c='C3', lw = 4.0, zorder=1)\n",
    "\n",
    "#    plt.ylim(-1.2, 1.2)\n",
    "    \n",
    "    # Líneas punteadas verdes\n",
    "    ax1.plot([x0, x0],[0, f_0],'g--', lw=1)\n",
    "    ax1.plot([x0+h, x0+h],[0, fph],'g--', lw=1)\n",
    "    ax1.plot([0, x0], [f_0, f_0], 'g--', lw=1)\n",
    "    ax1.plot([0, x0+h], [fph, fph], 'g--', lw=1)\n",
    "    \n",
    "    # Tics de la gráfica\n",
    "    plt.xticks(ticks=[x0, x0+h], labels=['$x_o$', '$x_o+h$'])\n",
    "    plt.yticks(ticks=[f_0, fph], labels=['$f(x_o)$', '$f(x_o+h)$'])\n",
    "    \n",
    "    # Otras decoraciones\n",
    "    ax1.set_title(\"Función $f(x)$ y su derivada aproximada $F'(x)$\", c='b')\n",
    "    ax1.legend(loc='upper right', \n",
    "               ncol=1, framealpha=0.99)\n",
    "    ax1.spines['left'].set_position('zero')\n",
    "    ax1.spines['right'].set_color('none')\n",
    "    ax1.spines['bottom'].set_position('zero')\n",
    "    ax1.spines['top'].set_color('none')\n",
    "    a_dx = (fph - f_0) / h\n",
    "    text_fun = \" $f(x_o)$ = {:<5.4f} \\t $f(x_o+h)$ = {:<5.4f} \\t $F'(x_o)$ = {:<5.4f}\".format(f_0, fph, a_dx)\n",
    "    ax1.text(x=0.15, y=0.0, s=text_fun, c='b', fontsize=12, \n",
    "             transform=ax1.transAxes, bbox=dict(facecolor='yellow', alpha=0.99))\n",
    "        \n",
    "    #----------------- Gráfica de la derivada de la función -----------------    \n",
    "    ax2 = plt.subplot(1,2,2)\n",
    "    \n",
    "    # Derivada de la función\n",
    "    ax2.scatter(x0, fp_0, facecolor ='C1', edgecolor='k', zorder=10)\n",
    "    ax2.plot(xv, yp, '-', c='C2', lw = 3, label = \"$\\dfrac{df(x)}{dx}$\")\n",
    "#    plt.ylim(-1.2, 1.2)\n",
    "    ax2.plot(xl, lf, c='white', lw = ancho_linea, zorder=0)\n",
    "\n",
    "\n",
    "    # Líneas punteadas verdes\n",
    "    ax2.plot([x0, x0],[0, fp_0],'g--', lw=1)\n",
    "    ax2.plot([0, x0], [fp_0, fp_0], 'g--', lw=1)\n",
    "    \n",
    "    # Tics de la gráfica\n",
    "    plt.xticks(ticks=[x0], \n",
    "                   labels=['$x_o$'])\n",
    "    plt.yticks(ticks=[fp_0], labels=[\"$f\\, '(x_o)$\"])\n",
    "\n",
    "    # Otras decoraciones\n",
    "    ax2.set_title('Derivada exacta de $f(x)$', c='b')\n",
    "    ax2.legend(loc='upper right', \n",
    "               ncol=1, framealpha=0.99)\n",
    "    ax2.spines['left'].set_position('zero')\n",
    "    ax2.spines['right'].set_color('none')\n",
    "    ax2.spines['bottom'].set_position('zero')\n",
    "    ax2.spines['top'].set_color('none')\n",
    "    \n",
    "    text_fun = \" $f'(x_o)$ = {:<5.4f} \\t $|f'(x_o) - F'(x_o)|$ = {:<5.4f}\".format(fp_0, np.fabs(a_dx - fp_0))\n",
    "    ax2.text(x=0.25, y=0.0, s=text_fun, c='b', fontsize=12, \n",
    "             transform=ax2.transAxes, bbox=dict(facecolor='yellow', alpha=0.99))\n",
    "    \n",
    "    plt.show()"
   ]
  },
  {
   "cell_type": "code",
   "execution_count": 25,
   "metadata": {},
   "outputs": [
    {
     "data": {
      "application/vnd.jupyter.widget-view+json": {
       "model_id": "c8aade049f294d4a8a5fa05615422ad0",
       "version_major": 2,
       "version_minor": 0
      },
      "text/plain": [
       "interactive(children=(Dropdown(description='Función', options=(sin(x), cos(x), x**2*sin(x)), value=sin(x)), Fl…"
      ]
     },
     "metadata": {},
     "output_type": "display_data"
    },
    {
     "data": {
      "text/plain": [
       "<function __main__.numericalDer(f, x0, h, r)>"
      ]
     },
     "metadata": {},
     "output_type": "display_data"
    }
   ],
   "source": [
    "t = Symbol('x')\n",
    "lista_funciones = [sin(t), cos(t), t**2 * sin(t)]\n",
    "\n",
    "w = interact(numericalDer,\n",
    "             f = widgets.Dropdown(options=lista_funciones, value=sin(t), description='Función'), \n",
    "             x0 = widgets.FloatSlider(min=0, max=np.pi, step=0.5, value=np.pi * 0.5, description='$x_o$'),\n",
    "             h = widgets.FloatSlider(min=0.001, max=1.001, step=0.1, value=1.0),\n",
    "             r = fixed(1.25))\n",
    "\n",
    "display(w)"
   ]
  },
  {
   "cell_type": "code",
   "execution_count": null,
   "metadata": {},
   "outputs": [],
   "source": []
  }
 ],
 "metadata": {
  "kernelspec": {
   "display_name": "Python 3",
   "language": "python",
   "name": "python3"
  },
  "language_info": {
   "codemirror_mode": {
    "name": "ipython",
    "version": 3
   },
   "file_extension": ".py",
   "mimetype": "text/x-python",
   "name": "python",
   "nbconvert_exporter": "python",
   "pygments_lexer": "ipython3",
   "version": "3.8.5"
  }
 },
 "nbformat": 4,
 "nbformat_minor": 4
}
