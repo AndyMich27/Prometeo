{
 "cells": [
  {
   "cell_type": "code",
   "execution_count": 1,
   "metadata": {},
   "outputs": [],
   "source": [
    "import os, sys\n",
    "sys.path.insert(0, os.path.abspath('../../Utils'))\n",
    "\n",
    "from sympy import Symbol, cos, sin, tan, exp, log, series\n",
    "from sympy.utilities.lambdify import lambdify\n",
    "\n",
    "from ipywidgets import interact, interactive, fixed\n",
    "import ipywidgets as widgets\n",
    "import numpy as np\n",
    "import gutils as vis"
   ]
  },
  {
   "cell_type": "code",
   "execution_count": 2,
   "metadata": {},
   "outputs": [],
   "source": [
    "def calcTaylor(función, grado, xo = 0):\n",
    "    func = función\n",
    "    evalfunc = lambdify(t, func, modules=['numpy'])\n",
    "    taylor = series(func, x0 = xo, n=grado+1).removeO()\n",
    "\n",
    "    if grado == 0:\n",
    "        evaltaylor = lambda x: np.ones(len(x)) * evalfunc(xo)\n",
    "    elif grado == 1 and func == cos(t):\n",
    "        evaltaylor = lambda x: np.ones(len(x)) * evalfunc(xo)\n",
    "    else:\n",
    "        evaltaylor = lambdify(t, taylor, modules=['numpy'])\n",
    "\n",
    "    if func == log(t):\n",
    "        x = np.linspace(0.001,2*np.pi,200) # Intervalo en x\n",
    "    else:\n",
    "        x = np.linspace(-2*np.pi,2*np.pi,200) # Intervalo en x\n",
    "\n",
    "    xa = np.linspace(xo-np.pi*0.5+0.1,xo+np.pi*0.5-0.1,100)\n",
    "    error = vis.RMS(evaltaylor(xa), evalfunc(xa))\n",
    "    \n",
    "    par = [{'title':'RMS = {:15.14}'.format(error), \n",
    "            'xlabel':'x [m]',\n",
    "            'ylabel':'T [$^oC$]'}]\n",
    "        \n",
    "    graf = vis.planoCartesiano(par=par)\n",
    "    graf.plot(x = x, y = evalfunc(x), par={'label':'f(x) = ' + str(func)})\n",
    "    graf.plot(x = x, y = evaltaylor(x), par={'label':'$P_{}(x)$'.format(grado), 'lw':1.0})\n",
    "    graf.scatter(x = xo, y=evalfunc(xo), \n",
    "                 par = {'marker':'o', 'color':'black', 'zorder':10,\n",
    "                        'label':'Punto de aproximación'})\n",
    "    ymax = np.max(evalfunc(x))\n",
    "    ymin = np.min(evalfunc(x))\n",
    "    graf.limits(y=(ymin,ymax))\n",
    "    graf.ticks(trig=True)\n",
    "    graf.legend()\n",
    "    graf.show()\n",
    "    return taylor"
   ]
  },
  {
   "cell_type": "code",
   "execution_count": 3,
   "metadata": {},
   "outputs": [
    {
     "data": {
      "application/vnd.jupyter.widget-view+json": {
       "model_id": "fc1dc47233084e58bd694f4479c7d1db",
       "version_major": 2,
       "version_minor": 0
      },
      "text/plain": [
       "interactive(children=(Dropdown(description='función', options=(cos(x), sin(x), tan(x), exp(x), exp(-x**2), exp…"
      ]
     },
     "metadata": {},
     "output_type": "display_data"
    },
    {
     "data": {
      "text/plain": [
       "<function __main__.calcTaylor(función, grado, xo=0)>"
      ]
     },
     "metadata": {},
     "output_type": "display_data"
    }
   ],
   "source": [
    "t = Symbol('x')\n",
    "lista_funciones = [cos(t), sin(t), tan(t),\n",
    "                   exp(t), exp(-t**2), exp(t)*cos(3*t),\n",
    "                   log(t), np.pi**t,\n",
    "                   t + t**2 + t**3]\n",
    "\n",
    "w = interact(calcTaylor,\n",
    "             función = lista_funciones,\n",
    "             grado = widgets.IntSlider(min=0, max=16, step=1, value=2),\n",
    "             xo = widgets.FloatSlider(min=-3.0, max=3.0, step=0.2, value=1.0))\n",
    "\n",
    "display(w)"
   ]
  },
  {
   "cell_type": "code",
   "execution_count": null,
   "metadata": {},
   "outputs": [],
   "source": []
  },
  {
   "cell_type": "code",
   "execution_count": null,
   "metadata": {},
   "outputs": [],
   "source": []
  }
 ],
 "metadata": {
  "kernelspec": {
   "display_name": "Python 3",
   "language": "python",
   "name": "python3"
  },
  "language_info": {
   "codemirror_mode": {
    "name": "ipython",
    "version": 3
   },
   "file_extension": ".py",
   "mimetype": "text/x-python",
   "name": "python",
   "nbconvert_exporter": "python",
   "pygments_lexer": "ipython3",
   "version": "3.7.6"
  }
 },
 "nbformat": 4,
 "nbformat_minor": 4
}
