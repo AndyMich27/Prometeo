{
 "cells": [
  {
   "cell_type": "markdown",
   "metadata": {},
   "source": [
    "# Series de Taylor\n",
    "### Trabajo realizado con el apoyo del Programa UNAM-DGAPA-PAPIME PE101019\n",
    "*   Autores: \n",
    "    - Luis M. de la Cruz Salas\n",
    "*   Rev: mar 12 ene 2021 12:31:49 CST"
   ]
  },
  {
   "cell_type": "markdown",
   "metadata": {},
   "source": [
    "Algunas veces es necesario aproximar funciones complicadas usando una combinación de otras funciones más simples. Estas funciones más simples deberían permitir un tratamiento sencillo, como encontrar sus derivadas o sus integrales. \n",
    "\n",
    "Uno de los conjuntos de funciones más simples de tratar son los polinomios. Por ejemplo, un polinomio de grado $3$ se escribe como \n",
    "\n",
    "$$P_3(x) = c_0 + c_1 x + c_2 x^2 + c_3 x^3.$$\n",
    "\n",
    "donde $c_0, c_1$, $c_2$ y $c_3$ son coeficientes constantes. Observa que calcular la derivada y la integral de esta función es sencillo. \n",
    "\n",
    "La pregunta es **¿qué tan bien se pueden aproximar las funciones complicadas con una combinación de funciones simples?** Por ejemplo, usando con polinomios.\n",
    "\n",
    "Las series de Taylor se basan en la combinación lineal de una serie de polinomios y las escribimos como sigue:\n",
    "\n",
    "$\\displaystyle\n",
    "P_n(x) = f(a) + f^\\prime(a)(x-a) + f^{\\prime\\prime}(a)\\frac{(x-a)^2}{2!} + \\dots + f^{(n)}(a)\\frac{(x-a)^n}{n!}\n",
    " = \\sum_{i=0}^n f^{(i)}(a)\\frac{(x-a)^i}{i!}$\n",
    " \n",
    "Lo anterior nos da una aproximación de la función $f(x)$ en $x=a$ usando el polinomio de grado $P_n(x)$.\n",
    "\n",
    "**Nota**: Cuando $a = 0$ la serie de Taylor también se conoce como serie de Maclaurin.\n",
    "\n",
    "**OJO**: Para que todo la anterior sea válido, se deben cumplir ciertas condiciones sobre la la función que se está aproximando, particularmente que todas las derivadas de $f(x)$ hasta la $n$-ésima existan y sean continuas.\n",
    "\n",
    "La siguiente herramienta te permite evaluar de manera interactiva diferentes series de Taylor para algunas funciones. \n",
    "\n",
    "**Instrucciones:**\n",
    "- Elegir una función a evaluar.\n",
    "- Elegir el lugar donde se desea aproximar.\n",
    "- Variar el grado del polinomio de la aproximación y observe el resultado."
   ]
  },
  {
   "cell_type": "code",
   "execution_count": 1,
   "metadata": {},
   "outputs": [
    {
     "data": {
      "application/vnd.jupyter.widget-view+json": {
       "model_id": "e6da93d5c83c49c788b49e62d77fa2d2",
       "version_major": 2,
       "version_minor": 0
      },
      "text/plain": [
       "interactive(children=(Dropdown(description='función', options=(cos(x), sin(x), tan(x), exp(x), exp(-x**2), exp…"
      ]
     },
     "metadata": {},
     "output_type": "display_data"
    },
    {
     "data": {
      "text/plain": [
       "<function __main__.calcTaylor(función, grado, xo=0)>"
      ]
     },
     "metadata": {},
     "output_type": "display_data"
    }
   ],
   "source": [
    "%run \"./zInteractivoSeriesDeTaylor.ipynb\""
   ]
  },
  {
   "cell_type": "markdown",
   "metadata": {},
   "source": [
    "Observe que en algunos casos, cuando la aproximación se realiza en $x = 0$, el avance de un polinomio par a su inmediato superior impar, no agrega mejoría en la aproximación. Para entender este comportamiento y otros de las Series de Taylor, revise el siguiente *notebook*."
   ]
  },
  {
   "cell_type": "code",
   "execution_count": null,
   "metadata": {},
   "outputs": [],
   "source": []
  }
 ],
 "metadata": {
  "kernelspec": {
   "display_name": "Python 3",
   "language": "python",
   "name": "python3"
  },
  "language_info": {
   "codemirror_mode": {
    "name": "ipython",
    "version": 3
   },
   "file_extension": ".py",
   "mimetype": "text/x-python",
   "name": "python",
   "nbconvert_exporter": "python",
   "pygments_lexer": "ipython3",
   "version": "3.8.5"
  }
 },
 "nbformat": 4,
 "nbformat_minor": 4
}
