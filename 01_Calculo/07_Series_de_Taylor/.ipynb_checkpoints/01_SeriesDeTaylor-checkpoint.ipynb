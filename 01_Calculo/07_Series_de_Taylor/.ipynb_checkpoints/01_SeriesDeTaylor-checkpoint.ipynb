{
 "cells": [
  {
   "cell_type": "markdown",
   "metadata": {
    "colab_type": "text",
    "id": "view-in-github"
   },
   "source": [
    "<a href=\"https://colab.research.google.com/github/jugernaut/Prometeo/blob/desarrollo/01_Calculo/07_Series_de_Taylor/01_SeriesDeTaylor.ipynb\" target=\"_parent\"><img src=\"https://colab.research.google.com/assets/colab-badge.svg\" alt=\"Open In Colab\"/></a>"
   ]
  },
  {
   "cell_type": "markdown",
   "metadata": {
    "id": "4UjKx8cUWFce"
   },
   "source": [
    "# Series de Taylor\n",
    "### Trabajo realizado con el apoyo del Programa UNAM-DGAPA-PAPIME PE101019\n",
    "*   Autores: \n",
    "    - Luis M. de la Cruz Salas\n",
    "*   Rev: mié nov 18 16:25:45 CST 2020"
   ]
  },
  {
   "cell_type": "code",
   "execution_count": null,
   "metadata": {
    "colab": {
     "base_uri": "https://localhost:8080/"
    },
    "id": "VgsuzAcnWM-B",
    "outputId": "65187709-eb90-4c57-ca91-ff00bc1f4bb6"
   },
   "outputs": [],
   "source": [
    "# COLAB\n",
    "#!git clone https://github.com/jugernaut/Prometeo.gitb #rama  master\n",
    "#!git clone --branch desarrollo https://github.com/jugernaut/Prometeo.git #rama desarrollo \n",
    "#import Prometeo.Utils.gutils as vis\n",
    "\n",
    "# Linux, MacOS y windows\n",
    "import os, sys\n",
    "sys.path.insert(0, os.path.abspath('../../'))\n",
    "import Utils.gutils as vis\n",
    "\n",
    "import numpy as np"
   ]
  },
  {
   "cell_type": "markdown",
   "metadata": {
    "id": "i0k9b39UWFcq"
   },
   "source": [
    "## Introdcucción\n",
    "\n",
    "En invierno buscamos nuestra comodidad térmica aislando nuestros cuerpos al cubrirlos con gruesos abrigos, de este modo minimizamos el área superficial expuesta a temperaturas bajas. Pero en verano, intentamos minimizar la ganancia de calor por radiación al permanecer en lugares sombreados. De igual manera, si usamos una cuchara de metal para mover nuestros alimentos mientras los calentamos en la estufa, sentiremos la cuchara caliente después de unos minutos, y si no tenemos cuidado podemos quemarnos la mano debido a que los metales son buenos transmisores del calor. Lo que estamos describiendo con estos ejemplos son casos cotidianos de la **transferencia de calor**. \n",
    "\n",
    "En el siguiente video, observamos como una barra de metal es expuesta a una fuente de calor en su extremo izquierdo y se representa con colores el aumento de la temperatura en toda la barra:"
   ]
  },
  {
   "cell_type": "code",
   "execution_count": null,
   "metadata": {
    "colab": {
     "base_uri": "https://localhost:8080/",
     "height": 321
    },
    "id": "BMkV_RIeARfx",
    "outputId": "e7f1901b-5026-4699-ffde-f3a5548df1ab"
   },
   "outputs": [],
   "source": [
    "# Si tiene acceso a red descomente las siguientes líneas para ver el video desde youtube\n",
    "#from IPython.display import YouTubeVideo\n",
    "#YouTubeVideo('gyCkL_9rGEk')"
   ]
  },
  {
   "cell_type": "markdown",
   "metadata": {
    "id": "FcantxvTAXqm"
   },
   "source": [
    "<video src=\"../../Videos/02_Conduccion1D.mp4\" width=\"320\" controls></video>\n",
    "\n",
    "¿Será posible usar las matemáticas, específicamente las Series de Taylor, para estudiar como se transfiere el calor en diferentes circunstancias?\n",
    "\n",
    "Para responder esta pregunta veamos que son las Series de Taylor y posteriormente intentemos resolver un problema de transferencia de calor con esta herramienta matemática."
   ]
  },
  {
   "cell_type": "markdown",
   "metadata": {
    "id": "y--_YzpGWFeK"
   },
   "source": [
    "## Un ejemplo de Series de Taylor\n",
    "\n",
    "Algunas veces es necesario aproximar funciones complicadas usando una combinación de otras funciones más simples. Estas funciones más simples deberían permitir un tratamiento sencillo, por ejemplo encontrar sus derivadas o sus integrales. La pregunta es **¿qué tan bien se pueden aproximar las funciones complicadas con una combinación de funciones simples?** <br> <br>\n",
    "Consideremos la función trigonométrica $\\cos(x)$ en el intervalo $[-2\\pi, 2\\pi]$ cuya gráfica es la siguiente:"
   ]
  },
  {
   "cell_type": "code",
   "execution_count": null,
   "metadata": {
    "colab": {
     "base_uri": "https://localhost:8080/",
     "height": 372
    },
    "id": "SGZIqplyWFeb",
    "outputId": "70591337-9cda-4f6e-d8ab-52cdb0c5e696",
    "scrolled": true
   },
   "outputs": [],
   "source": [
    "x = np.linspace(-2*np.pi,2*np.pi,100) # Codominio de la función\n",
    "y = np.cos(x)                         # Función coseno\n",
    "\n",
    "# Definimos algunos parámetros para la gráfica\n",
    "par = [{'title':'cos($x$)', \n",
    "        'xlabel':'x',\n",
    "        'ylabel':'y'}]\n",
    "\n",
    "# Inicializamos el plano Cartesiano\n",
    "graf = vis.planoCartesiano(par=par)\n",
    "\n",
    "#Realizamos la gráfica \n",
    "graf.plot(x = x, y = y)\n",
    "graf.ticks(trig=True) # Se muestran las marcas en el eje x en múltiplos de pi\n",
    "graf.limits(y=(-1,1))\n",
    "graf.show()"
   ]
  },
  {
   "cell_type": "markdown",
   "metadata": {
    "id": "UKFen-M9WFfH"
   },
   "source": [
    "¿Será posible aproximar la función $\\cos(x)$ mediante un polinomio del tipo: $P(x) = c_0 + c_1 x + c_2 x^2 + c_3 x^3 + c_4 x^4 + \\dots$? <br>\n",
    "\n",
    "Para fijar ideas, intentemos aproximar el $\\cos(x)$ en $x=0$. Sabemos que $\\cos(0) = 1$. <br>\n",
    "\n",
    "### Aproximación 0\n",
    "\n",
    "Esta primera aproximación utiliza solo el término constante del polinomio, esto es: $P_0(x) = c_0$. Dado que se debe cumplir que $P_0(0) = \\cos(0) = 1$ entonces $c_0 = 1$, es decir: $P_0(x) = 1$ <br>\n",
    "\n",
    "¿Cómo se ve esta aproximación?"
   ]
  },
  {
   "cell_type": "code",
   "execution_count": null,
   "metadata": {
    "colab": {
     "base_uri": "https://localhost:8080/",
     "height": 372
    },
    "id": "0hB7UkCzWFfQ",
    "outputId": "a0e18034-e1b1-456a-a44a-12d817849554"
   },
   "outputs": [],
   "source": [
    "P0 = lambda x : np.ones(len(x)) # Función que genera una lista de 1's.\n",
    "\n",
    "# Lugar donde se desea aproximar\n",
    "x0 = 0\n",
    "y0 = np.cos(x0)\n",
    "\n",
    "# Inicializamos el plano Cartesiano\n",
    "graf = vis.planoCartesiano(par=par)\n",
    "\n",
    "# Graficamos el coseno y la aproximación P0\n",
    "graf.plot(x = x, y = y)\n",
    "graf.plot(x = x, y = P0(x), par={'label':'$P_0(x) = 1$', 'lw':2})\n",
    "\n",
    "# Dibujamos el punto donde se hace la aproximación x0\n",
    "graf.scatter(x = x0, y=y0, par = {'marker':'o', 'color':'black', 'zorder':10})\n",
    "\n",
    "graf.ticks(trig=True)\n",
    "graf.limits(y=(-1,1))\n",
    "graf.legend()\n",
    "graf.show()"
   ]
  },
  {
   "cell_type": "markdown",
   "metadata": {
    "id": "JOmYBtAbWFf1"
   },
   "source": [
    "Observamos que solo hay unos puntos donde la función y el polinomio son iguales, particularmente en $x=0$ (punto negro). No parece ser una buena aproximación. <br> <br>\n",
    "¿Cómo se podría tener una mejor aproximación."
   ]
  },
  {
   "cell_type": "markdown",
   "metadata": {
    "id": "t79J3aX4WFf9"
   },
   "source": [
    "### Aproximación 1\n",
    "\n",
    "La respuesta a la pregunta anterior es: usando más términos en el polinomio. Usemos ahora el polinomio lineal: $P_1(x) = c_0 + c_1 x$ . <br>\n",
    "\n",
    "Deseamos que $P_1(0) = \\cos(0)$, entonces si evaluamos $P_1$ en $x=0$ obtenemos: $P_1(0) = c_0 + c_1 * 0 =  c_0$. \n",
    "\n",
    "Pero $P_1(0) = \\cos(0) = 1$ entonces $c_0 = 1$, que es el mismo valor que habíamos obtenido en la aproximación anterior.\n",
    "\n",
    "Sería muy bueno que tanto $P_1(x)$ como $\\cos(x)$ también tuvieran la misma derivada en $x=0$, es decir $P_1^\\prime(0) = \\cos^\\prime(0)$. \n",
    "- Calculemos la derivada y veamos que se puede obtener de esta condición:\n",
    "\n",
    "$\n",
    "\\begin{array}{lclcc}\n",
    "P_1(x) = c_0 + c_1 x& \\approx & \\cos(x) \\\\\n",
    "P_1^\\prime(x) = c_1 & \\approx & -\\sin(x)\n",
    "\\end{array}\n",
    "$\n",
    "- Ahora evaluamos en $x=0$:\n",
    "\n",
    "$\n",
    "\\begin{array}{lclcc}\n",
    "P_1(0) = c_0 + c_1 * 0 & = & \\cos(0) = 1 & \\Longrightarrow & c_0 = 1\\\\\n",
    "P_1^\\prime(0) = c_1 & = & -\\sin(0) = 0 & \\Longrightarrow & c_1 = 0 \n",
    "\\end{array}\n",
    "$\n",
    "\n",
    "Observamos de lo anterior que al evaluar $P_1(x)$ y $P_1^\\prime(x)$ en $x=0$ obtenemos $c_0 = 1$ y $c_1 = 0$ respectivamente, por lo que el polinomio que se obtiene es el mismo que antes: $P_1(x) = 1$. Nuestra aproximación no mejoró ¿Por qué?"
   ]
  },
  {
   "cell_type": "markdown",
   "metadata": {
    "id": "qOZhTbbRWFgL"
   },
   "source": [
    "### Aproximación 2\n",
    "\n",
    "Dado que la aproximación 1 no mejoró con respecto a la aproximación 0, vamos ahora a incluir en el polinomio un término de segundo grado: $P_2(x) = c_0 + c_1 x + c_2 x^2$\n",
    "\n",
    "- Siguiendo la misma estrategia que antes podemos calcular la primera y segunda derivadas:\n",
    "\n",
    "$\n",
    "\\begin{array}{lclcc}\n",
    "P_2(x) = c_0 + c_1 x + c_2 x^2 & \\approx & \\cos(x) \\\\\n",
    "P_2^\\prime(x) = c_1 + 2 c_2 x  & \\approx & -\\sin(x) \\\\\n",
    "P_2^{\\prime\\prime}(x) = 2 c_2  & \\approx & -\\cos(x)\n",
    "\\end{array}\n",
    "$\n",
    "\n",
    "- Evaluamos en $x=0$:\n",
    "\n",
    "$\n",
    "\\begin{array}{lclcc}\n",
    "P_2(0) = c_0 + c_1 * 0 + c_2 * 0^2 & = & \\cos(0) = 1 & \\Longrightarrow & c_0 = 1\\\\\n",
    "P_2^\\prime(0) = c_1 + 2 c_2 * 0 & = & -\\sin(0) = 0 & \\Longrightarrow & c_1 = 0 \\\\\n",
    "P_2^{\\prime\\prime}(0) = 2 c_2  & = & -\\cos(0) = -1 & \\Longrightarrow & c_2 = -1/2 \n",
    "\\end{array}\n",
    "$\n",
    "\n",
    "En este caso las condiciones que se pidieron fueron:\n",
    "- $P_2(0) = \\cos(0)$, \n",
    "- $P_2^\\prime(0) = \\cos^\\prime(0) = -\\sin(x)$\n",
    "- $P_2^{\\prime\\prime}(0) = \\cos^{\\prime\\prime}(0)= -\\cos(x)$, \n",
    "\n",
    "de tal manera que el polinomio de esta aproximación es: $P_2(x) = 1 - \\frac{1}{2} x^2$\n",
    "\n",
    "¿Es mejor esta aproximación? Veamos:"
   ]
  },
  {
   "cell_type": "code",
   "execution_count": null,
   "metadata": {
    "colab": {
     "base_uri": "https://localhost:8080/",
     "height": 372
    },
    "id": "q3jk6L6lWFgS",
    "outputId": "5cb22d29-0e47-4909-a3eb-66a7b4ac829b"
   },
   "outputs": [],
   "source": [
    "# Construcción del polinomio de aproximación\n",
    "c0 = 1\n",
    "c1 = 0\n",
    "c2 = -1/2\n",
    "P2 = lambda x : c0 + c1 * x + c2 * x**2 # Evaluación del polinomio\n",
    "\n",
    "# Inicializamos el plano Cartesiano\n",
    "graf = vis.planoCartesiano(par=par)\n",
    "\n",
    "# Graficamos el coseno y la aproximación P2\n",
    "graf.plot(x = x, y = y)\n",
    "graf.plot(x = x, y = P2(x), par={'label':'$P_2(x) = 1 - x^2/2$','lw':2})\n",
    "\n",
    "# Dibujamos el punto donde se hace la aproximación x0\n",
    "graf.scatter(x = x0, y=y0, par = {'marker':'o', 'color':'black', 'zorder':10})\n",
    "\n",
    "graf.ticks(trig=True)\n",
    "graf.limits(y=(-1,1))\n",
    "graf.legend()\n",
    "graf.show()"
   ]
  },
  {
   "cell_type": "markdown",
   "metadata": {
    "id": "fv1GaaELWFg5"
   },
   "source": [
    "Observamos que esta aproximación es muy buena en una vecindad de $x=0$. \n",
    "Una manera de evaluar la diferencia entre $P_2(x)$ y $\\cos(x)$ en un intervalo alrededor de $x=0$ es calculando la norma del error absoluto entre la aproximación y la función, es decir:\n",
    "\n",
    "$\\displaystyle Error = ||\\hat{u} - u||$\n",
    "\n",
    "donde $\\hat{u}$ es la aproximación y $u$ es el valor exacto. Existen varias maneras de calcular la norma de un vector, para ello recomendamos que revises la notebook de normas en el directorio de Álgebra lineal. Calcularemos la norma Euclideana que se define como:\n",
    "\n",
    "$\\displaystyle Error = ||\\hat{u}_i - u_i||_2 = \\left[\\sum_{i=1}^{N} (u_a(i) - u(i))^2 \\right]^{1/2}$\n",
    "\n",
    "donde $N$ es el número de puntos donde se realiza la comparación. Calculemos este error para la aproximación $P_2(x)$ en el intervalo $[-\\pi/2, \\pi/2]$ con $100$ puntos:"
   ]
  },
  {
   "cell_type": "code",
   "execution_count": null,
   "metadata": {
    "colab": {
     "base_uri": "https://localhost:8080/"
    },
    "id": "hgjLLSP1WFhA",
    "outputId": "f6f5c346-c369-44f0-a331-4414ad29832f"
   },
   "outputs": [],
   "source": [
    "# Definimos el intervalo xa = [-pi/2, pi/2] \n",
    "xa = np.linspace(-np.pi*0.5, np.pi*0.5, 100) # usamos N = 100 muestras para la comparación\n",
    "\n",
    "# Calculamos la norma Euclideana del error para p2\n",
    "Error_p2 = np.linalg.norm(P2(xa) - np.cos(xa), 2)\n",
    "print('||P2(x) - cos(x)|| = {:10.8}'.format(Error_p2))"
   ]
  },
  {
   "cell_type": "markdown",
   "metadata": {
    "id": "8Vc4pUucWFhs"
   },
   "source": [
    "### Aproximación 3\n",
    "\n",
    "Veamos si podemos mejorar la aproximación con un polinomio de grado 3: $P_3(x) = c_0 + c_1 x + c_2 x^2 + c_3 x^3$. <br>\n",
    "En este caso, para encontrar los coeficientes imponemos las siguientes condiciones:\n",
    "\n",
    "$\n",
    "\\begin{array}{lclcc}\n",
    "P_3(x) = c_0 + c_1 x + c_2 x^2 + c_3 x^3 & \\approx & \\cos(x) \\\\\n",
    "P_3^\\prime(x) = c_1 + 2 c_2 x + 3 c_3 x^2 & \\approx & -\\sin(x) \\\\\n",
    "P_3^{\\prime\\prime}(x) = 2 c_2 + 6 c_3 x & \\approx & -\\cos(x) \\\\\n",
    "P_3^{\\prime\\prime\\prime}(x) = 6 c_3  & \\approx & \\sin(x) \\\\\n",
    "    \\hline\n",
    "P_3(0) = c_0 + c_1 * 0 + c_2 * 0^2 + c_3 * 0^3 & = & \\cos(0) = 1 & \\Longrightarrow & c_0 = 1\\\\\n",
    "P_3^\\prime(0) = c_1 + 2 c_2 * 0 + 3 c_3 * 0^2 & = & -\\sin(0) = 0 & \\Longrightarrow & c_1 = 0 \\\\\n",
    "P_3^{\\prime\\prime}(0) = 2 c_2 + 6 c_3 * 0 & = & -\\cos(0) = -1 & \\Longrightarrow & c_2 = -1/2 \\\\   \n",
    "P_3^{\\prime\\prime\\prime}(0) = 6 c_3  & = & \\sin(0) = 0 & \\Longrightarrow & c_3 = 0 \\\\   \n",
    "\\end{array}\n",
    "$\n",
    "\n",
    "es decir, ahora las condiciones son para la función y su derivadas hasta la de tercer orden. Sustituyendo los coeficientes $c$'s antes calculados en el polinomio vemos que no hay cambios con respecto a la aproximación anterior: $P_3(x) = 1 - \\frac{1}{2} x^2$ ¿Por qué?\n",
    "\n",
    "Hagamos una aproximación con más términos."
   ]
  },
  {
   "cell_type": "markdown",
   "metadata": {
    "id": "rhdUUl-qWFhy"
   },
   "source": [
    "### Aproximación 4\n",
    "\n",
    "En esta aproximación usaremos un polinomio de grado 4: $P_4(x) = c_0 + c_1 x + c_2 x^2 + c_3 x^3 + c_4 x^4$\n",
    "\n",
    "Con las siguientes condiciones:\n",
    "\n",
    "$\n",
    "\\begin{array}{lclcc}\n",
    "P_4(x) = c_0 + c_1 x + c_2 x^2 + c_3 x^3 + c_4 x^4 & \\approx & \\cos(x) \\\\\n",
    "P_4^\\prime(x) = 1 * c_1 + 2 * c_2 x + 3 * c_3 x^2 + 4 * c_4 x^3 & \\approx & -\\sin(x) \\\\\n",
    "P_4^{\\prime\\prime}(x) = 1 * 2 * c_2 + 2 * 3 * c_3 x + 3 * 4 * c_4 x^2 & \\approx & -\\cos(x) \\\\\n",
    "P_4^{\\prime\\prime\\prime}(x) = 1 * 2 * 3 * c_3  + 2 * 3 * 4 * c_4 x & \\approx & \\sin(x) \\\\\n",
    "P_4^{(4)}(x) = 1 * 2 * 3 * 4 * c_4 & \\approx & \\cos(x) \\\\\n",
    "    \\hline\n",
    "P_4(0) = c_0 + c_1 * 0 + c_2 * 0^2 + c_3 * 0^3 + c_4 0^4 & = & \\cos(0) = 1 & \\Longrightarrow & c_0 = 1\\\\\n",
    "P_4^\\prime(0) = 1! * c_1 + 2 * c_2 *0 + 3 * c_3 * 0^2 + 4 * c_4 * 0^3 & = \n",
    "& -\\sin(0) = 0 & \\Longrightarrow & c_1 = \\frac{0}{1!} \\\\\n",
    "P_4^{\\prime\\prime}(0) = 2! * c_2 + 2 * 3 * c_3 * 0 + 3 * 4 * c_4 * 0^2 & = \n",
    "& -\\cos(0) = -1 & \\Longrightarrow & c_2 = \\frac{-1}{2!} \\\\   \n",
    "P_4^{\\prime\\prime\\prime}(0) = 3! * c_3  + 2 * 3 * 4 * c_4 * 0 & = \n",
    "& \\sin(0) = 0 & \\Longrightarrow & c_3 = \\frac{0}{3!} \\\\\n",
    "P_4^{(4)}(x) = 4! * c_4 & = \n",
    "& \\cos(0) = 1 & \\Longrightarrow & c_4 = \\frac{1}{4!} \\\\\n",
    "\\end{array}\n",
    "$\n",
    "\n",
    "Obsérvese que hemos puesto de manera explícita los coeficientes de multiplicación que se obtienen al momento de calcular las derivadas. \n",
    "Lo anterior es para darnos cuenta de que los coeficientes se calculan usando el factorial de un número. \n",
    "De esta manera, podemos escribir el polinomio como sigue:\n",
    "\n",
    "$P_4(x) = c_0 + c_1 x + c_2 x^2 + c_3 x^3 + c_4 x^4 = 1 + \\frac{0}{1!} x + \\frac{-1}{2!} x^2 + \\frac{0}{3!} x^3 + \\frac{1}{4!} x^4 = 1 - \\frac{1}{2!} x^2 + \\frac{1}{4!} x^4$\n",
    "\n",
    "Una cosa interesante que se puede notar es que los coeficientes de las aproximaciones anteriores se mantienen en el mismo valor, sin importar el grado del polinomio que se use.\n",
    "\n",
    "Veamos que tan buena es esta última aproximación:"
   ]
  },
  {
   "cell_type": "code",
   "execution_count": null,
   "metadata": {
    "colab": {
     "base_uri": "https://localhost:8080/",
     "height": 372
    },
    "id": "gdB9CwVaWFh4",
    "outputId": "94629e49-f3c0-4230-8b1f-c0af61f8e7f2"
   },
   "outputs": [],
   "source": [
    "# Construcción del polinomio de aproximación\n",
    "c3 = 0\n",
    "c4 = 1/24\n",
    "P4 = lambda x : c0 + c2 * x**2 + c3 * x**3 + c4 * x**4 # Evaluación del polinomio\n",
    "\n",
    "# Inicializamos el plano Cartesiano\n",
    "graf = vis.planoCartesiano(par=par)\n",
    "\n",
    "# Graficamos el coseno y la aproximación P4\n",
    "graf.plot(x = x, y = y)\n",
    "graf.plot(x = x, y = P4(x), par={'label':'$P_4(x) = 1 - x^2 / 2 + x^4 / 24$', 'lw':2})\n",
    "\n",
    "# Dibujamos el punto donde se hace la aproximación x0\n",
    "graf.scatter(x = x0, y=y0, par = {'marker':'o', 'color':'black', 'zorder':10})\n",
    "\n",
    "graf.ticks(trig=True)\n",
    "graf.limits(y=(-1,1))\n",
    "graf.legend()\n",
    "graf.show()"
   ]
  },
  {
   "cell_type": "markdown",
   "metadata": {
    "id": "_LrAtAYWWFia"
   },
   "source": [
    "Observamos una mejor aproximación. Esto lo podemos comprobar calculando los errores para \n",
    "$P_2$ y $P_4$:"
   ]
  },
  {
   "cell_type": "code",
   "execution_count": null,
   "metadata": {
    "colab": {
     "base_uri": "https://localhost:8080/"
    },
    "id": "fEmzwLmAWFif",
    "outputId": "3b50c6a3-5ca4-4917-a727-8bd749dae458"
   },
   "outputs": [],
   "source": [
    "# Calculamos la norma Euclideana del error para p4\n",
    "Error_p4 = np.linalg.norm(P4(xa) - np.cos(xa), 2)\n",
    "\n",
    "print('||P2(x) - cos(x)|| = {:10.8}'.format(Error_p2))\n",
    "print('||P4(x) - cos(x)|| = {:10.8}'.format(Error_p4))"
   ]
  },
  {
   "cell_type": "markdown",
   "metadata": {
    "id": "WUceEYxiWFjD"
   },
   "source": [
    "Nótese lo siguiente: \n",
    "- El error disminuyó con respecto a la aproximación con $P_2(x)$. \n",
    "- Los polinomios de grado impar no aportan mejoría, dado que las derivadas impares corresponden a la función $\\sin(x)$ que al evaluarla en $x=0$ nos da un valor de cero, lo cual elimina el término impar del polinomio. \n",
    "\n",
    "Entonces, si queremos mejorar la aproximación de $P_4(x)$ deberíamos usar un polinomio de grado 6. El polinomio de grado 6 es:\n",
    "\n",
    "$P_6(x) = 1 - \\frac{1}{2!} x^2 + \\frac{1}{4!} x^4 - \\frac{1}{6!} x^6$\n",
    "\n",
    "Se deja como ejercicio al estudiante que verifique que los coeficientes de $P_6$ están correctamente calculados. \n",
    "\n",
    "La gráfica de este último polinomio es la siguiente:"
   ]
  },
  {
   "cell_type": "code",
   "execution_count": null,
   "metadata": {
    "colab": {
     "base_uri": "https://localhost:8080/",
     "height": 372
    },
    "id": "XrRcJBPiWFjJ",
    "outputId": "a207bbb8-0d11-48d1-ca81-42e4f82e4f9e"
   },
   "outputs": [],
   "source": [
    "# Construcción del polinomio de aproximación\n",
    "c5 = 0\n",
    "c6 = -1 / (1 * 2 * 3 * 4 * 5 * 6)\n",
    "P6 = lambda x : c0 + c2 * x**2 + c4 * x**4 + c5 * x**5 + c6 * x**6\n",
    "\n",
    "# Inicializamos el plano Cartesiano\n",
    "graf = vis.planoCartesiano(par=par)\n",
    "\n",
    "# Graficamos el coseno y la aproximación P4\n",
    "graf.plot(x = x, y = y)\n",
    "graf.plot(x = x, y = P6(x), \n",
    "          par={'label':'$P_6(x) = 1 - x^2 / 2 + x^4 / 24$ - x^6 / 720', 'lw':2})\n",
    "\n",
    "# Dibujamos el punto donde se hace la aproximación x0\n",
    "graf.scatter(x = x0, y=y0, par = {'marker':'o', 'color':'black', 'zorder':10})\n",
    "\n",
    "graf.ticks(trig=True)\n",
    "graf.limits(y=(-1,1))\n",
    "graf.legend()\n",
    "graf.show()"
   ]
  },
  {
   "cell_type": "markdown",
   "metadata": {
    "id": "zHF_p-QAWFjr"
   },
   "source": [
    "Los errores correspondientes para $P_2$, $P_4$ y $P_6$ son los siguientes:"
   ]
  },
  {
   "cell_type": "code",
   "execution_count": null,
   "metadata": {
    "colab": {
     "base_uri": "https://localhost:8080/"
    },
    "id": "EfC-OSGkWFjx",
    "outputId": "5b1a60a0-086f-4bc2-b239-97668b2c9be7"
   },
   "outputs": [],
   "source": [
    "# Calculamos la norma Euclideana del error para P6\n",
    "Error_p6 = np.linalg.norm(P6(xa) - np.cos(xa), 2)\n",
    "\n",
    "print('||P2(x) - cos(x)|| = {:10.8}'.format(Error_p2))\n",
    "print('||P4(x) - cos(x)|| = {:10.8}'.format(Error_p4))\n",
    "print('||P6(x) - cos(x)|| = {:10.8}'.format(Error_p6))"
   ]
  },
  {
   "cell_type": "markdown",
   "metadata": {
    "id": "JC-1Xl1cWFkV"
   },
   "source": [
    "Vemos que la aproximación con $P_6(x)$ es la mejor.\n",
    "\n",
    "Grafiquemos todas las aproximaciones juntas:"
   ]
  },
  {
   "cell_type": "code",
   "execution_count": null,
   "metadata": {
    "colab": {
     "base_uri": "https://localhost:8080/",
     "height": 372
    },
    "id": "U5cXgpQJWFka",
    "outputId": "90c0ffaa-c34d-4046-8c96-fbdf6ac764f9"
   },
   "outputs": [],
   "source": [
    "# Inicializamos el plano Cartesiano\n",
    "graf = vis.planoCartesiano(par=par)\n",
    "\n",
    "# Graficamos el coseno y junto con p0, p2, p4 y p6\n",
    "graf.plot(x = x, y = y)\n",
    "graf.plot(x=x, y=P0(x), \n",
    "          par={'label':'$P_0$', 'lw':2})\n",
    "graf.plot(x=x, y=P2(x), \n",
    "          par={'label':'$P_2$ (Error = {:6.5f})'.format(Error_p2),'lw':2})\n",
    "graf.plot(x=x, y=P4(x), \n",
    "          par={'label':'$P_4$ (Error = {:6.5f})'.format(Error_p4), 'lw':2})\n",
    "graf.plot(x=x, y=P6(x), \n",
    "          par={'label':'$P_6$ (Error = {:6.5f})'.format(Error_p6), 'lw':2})\n",
    "\n",
    "# Dibujamos el punto donde se hace la aproximación x0\n",
    "graf.scatter(x = x0, y=y0, \n",
    "             par = {'marker':'o', 'color':'black', 'zorder':10})\n",
    "\n",
    "graf.ticks(trig=True)\n",
    "graf.limits(y=(-3,1))\n",
    "graf.legend()\n",
    "graf.show()"
   ]
  },
  {
   "cell_type": "markdown",
   "metadata": {
    "id": "I7lPf4gHWFlE"
   },
   "source": [
    "### Resumen\n",
    "\n",
    "- Hemos visto como una función puede ser aproximada por una combinación lineal de otras funciones, en este caso por polinomios.\n",
    "- Los polinomios son más fáciles de tratar, por ejemplo para calcular sus derivadas y sus integrales.\n",
    "- Para calcular los coeficientes del polinomio de aproximación, la estrategia es que se cumplan las siguientes condiciones:\n",
    "    + la función y el polinomio deben ser iguales cuando se evalúan en el punto donde se desea hacer la aproximación.\n",
    "    + las derivadas de la función y las correspondientes derivadas del polinomio, deben ser iguales cuando se evalúan en el punto donde se desea hacer la aproximación.\n",
    "- Por ejemplo, si se desea aproximar la función $f(x)$ en $x=0$ usando $P_3(x) = c_0 + c_1 x + c_2 x^2 + c_3 x^3$ imponemos las condiciones:\n",
    "\n",
    "$\n",
    "\\begin{array}{ccc}\n",
    "P_3(0) = f(0) & \\text{ para obtener } & c_0 = f(0)\\\\\n",
    "P_3^\\prime(0) = f^\\prime(0) & \\text{ para obtener } & c_1 = f^\\prime(0) / 1!\\\\\n",
    "P_3^{\\prime\\prime}(0) = f^{\\prime\\prime}(0) & \\text{ para obtener } & c_2 = f^{\\prime\\prime}(0) / 2!\\\\\n",
    "P_3^{\\prime\\prime\\prime}(0) = f^{\\prime\\prime\\prime}(0) & \\text{ para obtener } & c_3 = f^{\\prime\\prime\\prime}(0) / 3!\\\\\n",
    "\\end{array}\n",
    "$\n",
    "\n",
    "- Por lo tanto, otra manera de escribir el polinomio es la siguiente:\n",
    "\n",
    "$P_3(x) = f(0) + \\dfrac{f^\\prime(0)}{1!} x + \\dfrac{f^{\\prime\\prime}(0)}{2!} x^2 + \\dfrac{f^{\\prime\\prime\\prime}(0)}{3!} x^3$ \n",
    "\n",
    "- Se puede comprobar fácilmente que si la aproximación se requiere hacer en un punto diferente de cero, digamos en $x = a$, el polinomio de tercer grado se escribe como:\n",
    "\n",
    "$P_3(x) = f(a) + \\dfrac{f^\\prime(a)}{1!}(x-a) + \\dfrac{f^{\\prime\\prime}(a)}{2!} (x-a)^2 + \\dfrac{f^{\\prime\\prime\\prime}(a)}{3!} (x-a)^3$ \n",
    "\n",
    "- La forma anterior se conoce como la serie (o polinomio) de Taylor de tercer grado alrededor de $a$ . \n",
    "\n",
    "- En general, una serie de Taylor de grado $n$ se escribe como:\n",
    "\n",
    "$\\displaystyle\n",
    "P_n(x) = f(a) + f^\\prime(a)(x-a) + f^{\\prime\\prime}(a)\\frac{(x-a)^2}{2!} + \\dots + f^{(n)}(a)\\frac{(x-a)^n}{n!}\n",
    " = \\sum_{i=0}^n f^{(i)}(a)\\frac{(x-a)^i}{i!}$  <br> (recordemos que $0! = 1$)\n",
    " \n",
    " - Cuando $a = 0$ la serie de Taylor también se conoce como serie de Maclaurin.\n",
    " - **OJO**: Para que todo la anterior sea válido, se deben cumplir ciertas condiciones sobre la la función que se está aproximando, particularmente que todas las derivadas de $f(x)$ hasta la $n$-ésima existan y sean continuas."
   ]
  },
  {
   "cell_type": "markdown",
   "metadata": {
    "id": "b_2_-c0tWFlJ"
   },
   "source": [
    "## Herramienta interactiva\n",
    "\n",
    "La siguiente herramienta permite evaluar de manera interactiva diferentes series de Taylor para algunas funciones. Puede elegir la función, el grado del polinomio de aproximación y el lugar donde se desea aproximar y observe el resultado."
   ]
  },
  {
   "cell_type": "code",
   "execution_count": null,
   "metadata": {
    "colab": {
     "base_uri": "https://localhost:8080/",
     "height": 530,
     "referenced_widgets": [
      "855146f243d64372bc15b6aa222299bb",
      "6d6169cd15b84a218b4f4ee752689e96",
      "16eed076fd944690ba0b0ec75b4cd23f",
      "c61b6d76e0d9499385819cec7fb726e7",
      "561b417fe7154852866f5377f4b25913",
      "49fb7f3da3ce44e9830fda94a4721311",
      "9775e39cf99b41bfa1a2ebbcbb17fab0",
      "b89c30af35d34c7e82c2eb1360a0da55",
      "63118cbe30214009ae41e84f1fd94c2a",
      "baeccce61a034d639288a2a413055b39",
      "b8e0f0650c2f4a0e940e2ebcd21d87f0",
      "159955b037124ae08d04739a13740e2b",
      "a9c6ab57853c46a289985afeadb2c1cc"
     ]
    },
    "id": "gfqPzu6BWFlP",
    "outputId": "a7370470-d09e-4d2c-df1f-d79068767ae2"
   },
   "outputs": [],
   "source": [
    "# Linux, MacOS y Windows\n",
    "%run \"./zSeriesDeTaylor_interactive.ipynb\"\n",
    "\n",
    "# Google Coolab\n",
    "#%run \"/content/Prometeo/01_Calculo/07_Series_de_Taylor/zSeriesDeTaylor_interactive.ipynb\""
   ]
  },
  {
   "cell_type": "markdown",
   "metadata": {
    "id": "hWsWNh8GWFls"
   },
   "source": [
    "## Teorema de Taylor\n",
    "\n",
    "Este teorema nos dice básicamente qué tan grande es la diferencia entre la función $f(x)$ y su aproximación con una serie de Taylor $T_n(x)$ en un punto específico. El teorema se escribe como sigue:\n",
    "***\n",
    "Si tenemos una función $f(x)$ que tiene al menos $(n+1)$ derivadas continuas en un intervalo que contiene a $a$ y $x$, entonces:\n",
    "\n",
    "$\\displaystyle\n",
    "f(x) = f(a) + f^\\prime(a)(x-a) + f^{\\prime\\prime}(a)\\frac{(x-a)^2}{2!} + \\dots + f^{(n)}(a)\\frac{(x-a)^n}{n!} + R_n(x)\n",
    " = T_n(x) + R_n(x)\n",
    "$\n",
    "\n",
    "donde $T_n(x)$ es el polinomio de grado $n$ de $f(x)$ y $R_n(x)$ se conoce como el error o el residuo.\n",
    "***"
   ]
  },
  {
   "cell_type": "markdown",
   "metadata": {
    "id": "PoQgtaNPWFl1"
   },
   "source": [
    "### Forma del residuo $R_n(x)$:\n",
    "\n",
    "Existen varias formas para expresar el residuo:\n",
    "\n",
    "- Forma de Lagrange:\n",
    "$\\displaystyle\n",
    "\\boxed{R_n(x) = \\frac{f^{(n+1)}(\\xi)}{(n+1)!}(x-a)^{n+1}}\n",
    "$\n",
    "- Forma de Cauchy:\n",
    "$\\displaystyle\n",
    "\\boxed{R_n(x) = \\frac{f^{(n+1)}(\\xi)}{n!}(x-\\xi)^{n}(x-a)}\n",
    "$\n",
    "- Forma Integral:\n",
    "$\\displaystyle\n",
    "\\boxed{R_n(x) = \\int_{a}^{x} \\frac{f^{(n+1)}(t)}{n!} (x-t)^n dt}\n",
    "$\n",
    "\n",
    "donde $\\xi$ es un número real entre $x$ y $a$.\n",
    "\n",
    "Estas tres formas no permiten calcular de manera sencilla el residuo por lo que en general se usa una cota, como se muestra a continuación:\n",
    "\n",
    "Si $|f^{(n+1)}(x)| \\leq M$ en el intervalo $(a-x, a+x)$ entonces el residuo es\n",
    "\n",
    "$\\displaystyle\n",
    "\\boxed{R_n(x) \\leq \\frac{M(x-a)^{n+1}}{(n+1)!}}\n",
    "$\n",
    "\n",
    "Usando esta desligualdad, se pueden hacer distintos tipos de aproximaciones."
   ]
  },
  {
   "cell_type": "markdown",
   "metadata": {
    "id": "S_LXCAVMWFl9"
   },
   "source": [
    "### Ejemplo 1\n",
    "\n",
    "Aproximar $e$ hasta 6 dígitos decimales.\n",
    "***\n",
    "**Recordemos lo siguiente**:\n",
    "Si $p$ es una cantidad que deseamos aproximar mediante un número $q$, decimos que $q$ aproxima a $p$ hasta $k$ lugares decimales si la magnitud de la diferencia no es más grande que $5 \\times 10^{-(k+1)}$, es decir: $\\displaystyle |p - q| \\leq 5 \\times 10^{-(k+1)}$.\n",
    "***\n",
    "Primero escribimos la expansión en series de Taylor de la función $f(x)=e^x$ alrededor de $x=0$ :\n",
    "\n",
    "$\\displaystyle\n",
    "T_n(x) = 1 + x + \\frac{x^2}{2!} + \\frac{x^3}{3!} + \\dots + \\frac{x^n}{n!}\n",
    "$\n",
    "\n",
    "Usaremos el intervalo $(0,1)$ para acotar el residuo.\n",
    "\n",
    "Sabemos que:\n",
    "1. $e^0 = 1 = T_n(0)$\n",
    "2. $e^1 = e \\approx T_n(1)$\n",
    "3. $e^\\xi < e^x$ para $0 < \\xi < x$\n",
    "\n",
    "Usando la fórmula del residuo de Lagrange, primero debemos estimar $f^{(n+1)}(\\xi) = e^\\xi$. Hagamos la expansión de Taylor de primer orden alrededor de 0 junto con su residuo:\n",
    "\n",
    "$\\displaystyle\n",
    "e^x  = T_1(x) + R_1(x) = 1 + x + \\frac{e^\\xi}{2!}x^2 \n",
    "$\n",
    "\n",
    "Dado que $e^\\xi < e^x$ para $0 < \\xi < x \\leq 1$ entonces:\n",
    "\n",
    "$\\displaystyle\n",
    "e^x  = 1 + x + \\frac{e^\\xi}{2!}x^2 < 1 + x + \\frac{e^x}{2!}x^2 \n",
    "\\quad \\Longrightarrow \\quad \n",
    "e^x \\leq 1 + x + \\frac{e^x}{2!}x^2 \\quad \\text{para} \\quad 0 \\leq x \\leq 1\n",
    "$\n",
    "\n",
    "de donde obtenemos:\n",
    "\n",
    "$\\displaystyle\n",
    "\\boxed{e^x \\leq \\frac{2 + 2x}{2 - x^2} \\quad \\text{para} \\quad 0 \\leq x \\leq 1 }\n",
    "$\n",
    "\n",
    "Una gráfica de la función $\\displaystyle \\frac{2 + 2x}{2 - x^2}$ se puede ver en la siguiente figura:"
   ]
  },
  {
   "cell_type": "code",
   "execution_count": null,
   "metadata": {
    "colab": {
     "base_uri": "https://localhost:8080/",
     "height": 280
    },
    "id": "p4KQRpuZWFmD",
    "outputId": "24f415f9-6c60-475a-c3cf-afdafec28601"
   },
   "outputs": [],
   "source": [
    "import matplotlib.pyplot as plt\n",
    "\n",
    "xe = np.linspace(0,1,20) # Codominio de la función\n",
    "\n",
    "# Graficamos la función\n",
    "plt.plot(xe, (2 + 2*xe) / (2 - xe**2))"
   ]
  },
  {
   "cell_type": "markdown",
   "metadata": {
    "id": "_BocUnvsWFmp"
   },
   "source": [
    "Observamos que $M = 4$ es una cota superior para $f^{(n+1)}(\\xi) = e^\\xi$ con $0 < \\xi < 1$, por lo tanto el residuo es:\n",
    "\n",
    "$\\displaystyle\n",
    "|R_n(x)| \\leq \\frac{M x^{n+1}}{(n+1)!} \\leq \\frac{4}{(n+1)!} \\quad \\text{para} \\quad 0 \\leq x \\leq 1\n",
    "$\n",
    "\n",
    "Como se quiere aproximar con 6 dígitos decimales, entonces debemos encontrar una $n$ que satisfaga la siguiente condición: \n",
    "\n",
    "$\\displaystyle\n",
    "\\frac{4}{(n+1)!} \\leq 5 \\times 10^{-7} \n",
    "$\n",
    "\n",
    "Esto lo hacemos con el siguiente código:"
   ]
  },
  {
   "cell_type": "code",
   "execution_count": null,
   "metadata": {
    "id": "EMHPi2tuWFmw"
   },
   "outputs": [],
   "source": [
    "import math\n",
    "def calc_n(M, k=1):\n",
    "    \"\"\"\n",
    "    Calcula el grado n de la serie de Taylor para aproximar la\n",
    "    función e^x hasta k digitos decimales.\n",
    "    \"\"\"\n",
    "    n = 0\n",
    "    v = 1.0\n",
    "    while v > 5.0 * 10**(-k):\n",
    "        v = M / math.factorial(n+1)\n",
    "        n += 1\n",
    "    return n\n",
    "\n",
    "def Taylor_e(n):\n",
    "    \"\"\"\n",
    "    Calcula el valor de e con un polinomio de Taylor de grado n\n",
    "    \"\"\"\n",
    "    e = 0\n",
    "    for i in range(0,n+1):\n",
    "        e += 1 / math.factorial(i)\n",
    "        print('Polinomio de grado {:3d}. Aproximación : {:2.10f}'.format(i,e))\n",
    "    return e"
   ]
  },
  {
   "cell_type": "code",
   "execution_count": null,
   "metadata": {
    "colab": {
     "base_uri": "https://localhost:8080/",
     "height": 219
    },
    "id": "lkiELnMLWFnL",
    "outputId": "f10a639b-28e4-4625-ff2d-0cfca751b1ba"
   },
   "outputs": [],
   "source": [
    "e_aprox = Taylor_e(calc_n(4,6))"
   ]
  },
  {
   "cell_type": "code",
   "execution_count": null,
   "metadata": {
    "colab": {
     "base_uri": "https://localhost:8080/",
     "height": 72
    },
    "id": "fFObgOheWFny",
    "outputId": "f20c69b4-7642-4228-88de-fd5f75cd5916"
   },
   "outputs": [],
   "source": [
    "print('Aproximación final: {:2.10f}'.format(e_aprox))\n",
    "print('Valor de numpy    : {:2.10f}'.format(np.exp(1)))\n",
    "print('Error de la aprox : {:2.10f}'.format(np.fabs(e_aprox - np.exp(1))))"
   ]
  },
  {
   "cell_type": "markdown",
   "metadata": {
    "id": "m4pEiHhoWFoP"
   },
   "source": [
    "### Ejercicio 1\n",
    "\n",
    "Aproximar $\\pi$ hasta 10 dígitos decimales."
   ]
  },
  {
   "cell_type": "markdown",
   "metadata": {
    "id": "4mNvF6etWFog"
   },
   "source": [
    "## Transferencia de calor\n",
    "\n",
    "Con todo lo revisado anteriormente, podemos ahora intentar resolver un problema de transferencia de calor: \n",
    "* Si se encuentra en Google Colab haga clic\n",
    "<a href=\"https://colab.research.google.com/drive/1o5Cb8VauoWxOaL1px3VFL7DWbqnUXudZ?usp=sharing\">aquí. </a>\n",
    "* Si tiene el repositorio en su computadora haga clic\n",
    "<a href=\"02_SeriesDeTaylor_aplicaciones.ipynb\">aquí. </a>"
   ]
  }
 ],
 "metadata": {
  "colab": {
   "include_colab_link": true,
   "name": "01_SeriesDeTaylor.ipynb",
   "provenance": [],
   "toc_visible": true
  },
  "kernelspec": {
   "display_name": "Python 3",
   "language": "python",
   "name": "python3"
  },
  "language_info": {
   "codemirror_mode": {
    "name": "ipython",
    "version": 3
   },
   "file_extension": ".py",
   "mimetype": "text/x-python",
   "name": "python",
   "nbconvert_exporter": "python",
   "pygments_lexer": "ipython3",
   "version": "3.7.6"
  },
  "widgets": {
   "application/vnd.jupyter.widget-state+json": {
    "159955b037124ae08d04739a13740e2b": {
     "model_module": "@jupyter-widgets/base",
     "model_name": "LayoutModel",
     "state": {
      "_model_module": "@jupyter-widgets/base",
      "_model_module_version": "1.2.0",
      "_model_name": "LayoutModel",
      "_view_count": null,
      "_view_module": "@jupyter-widgets/base",
      "_view_module_version": "1.2.0",
      "_view_name": "LayoutView",
      "align_content": null,
      "align_items": null,
      "align_self": null,
      "border": null,
      "bottom": null,
      "display": null,
      "flex": null,
      "flex_flow": null,
      "grid_area": null,
      "grid_auto_columns": null,
      "grid_auto_flow": null,
      "grid_auto_rows": null,
      "grid_column": null,
      "grid_gap": null,
      "grid_row": null,
      "grid_template_areas": null,
      "grid_template_columns": null,
      "grid_template_rows": null,
      "height": null,
      "justify_content": null,
      "justify_items": null,
      "left": null,
      "margin": null,
      "max_height": null,
      "max_width": null,
      "min_height": null,
      "min_width": null,
      "object_fit": null,
      "object_position": null,
      "order": null,
      "overflow": null,
      "overflow_x": null,
      "overflow_y": null,
      "padding": null,
      "right": null,
      "top": null,
      "visibility": null,
      "width": null
     }
    },
    "16eed076fd944690ba0b0ec75b4cd23f": {
     "model_module": "@jupyter-widgets/controls",
     "model_name": "DropdownModel",
     "state": {
      "_dom_classes": [],
      "_model_module": "@jupyter-widgets/controls",
      "_model_module_version": "1.5.0",
      "_model_name": "DropdownModel",
      "_options_labels": [
       "cos(x)",
       "sin(x)",
       "tan(x)",
       "exp(x)",
       "exp(-x**2)",
       "exp(x)*cos(3*x)",
       "log(x)",
       "3.14159265358979**x",
       "x**3 + x**2 + x"
      ],
      "_view_count": null,
      "_view_module": "@jupyter-widgets/controls",
      "_view_module_version": "1.5.0",
      "_view_name": "DropdownView",
      "description": "función",
      "description_tooltip": null,
      "disabled": false,
      "index": 0,
      "layout": "IPY_MODEL_b89c30af35d34c7e82c2eb1360a0da55",
      "style": "IPY_MODEL_9775e39cf99b41bfa1a2ebbcbb17fab0"
     }
    },
    "49fb7f3da3ce44e9830fda94a4721311": {
     "model_module": "@jupyter-widgets/output",
     "model_name": "OutputModel",
     "state": {
      "_dom_classes": [],
      "_model_module": "@jupyter-widgets/output",
      "_model_module_version": "1.0.0",
      "_model_name": "OutputModel",
      "_view_count": null,
      "_view_module": "@jupyter-widgets/output",
      "_view_module_version": "1.0.0",
      "_view_name": "OutputView",
      "layout": "IPY_MODEL_a9c6ab57853c46a289985afeadb2c1cc",
      "msg_id": "",
      "outputs": [
       {
        "image/png": "iVBORw0KGgoAAAANSUhEUgAAAskAAAFjCAYAAADPWpb4AAAABHNCSVQICAgIfAhkiAAAAAlwSFlzAAALEgAACxIB0t1+/AAAADh0RVh0U29mdHdhcmUAbWF0cGxvdGxpYiB2ZXJzaW9uMy4yLjIsIGh0dHA6Ly9tYXRwbG90bGliLm9yZy+WH4yJAAAgAElEQVR4nOzdd3xT1fvA8c+5Wd2LtlAolFVGAdmgCKg4Eb/i3nsPUNxf/bn3VkDEvb6iuCduBRUHirLKLHuX0T2zzu+PBJqkE2ibpH3er1detPeee/MkDbnPOfcMpbVGCCGEEEIIUcUIdgBCCCGEEEKEGkmShRBCCCGECCBJshBCCCGEEAEkSRZCCCGEECKAJMlCCCGEEEIEkCRZCCGEEEKIAJIkCyGEEEIIEUCSZCFEk1BKvaGU0t6HSym1WSn1llKqQ0C5Od4yT9dwjuu9+1YHbL9YKfWPUqpIKVWslFqulHq5GV6TRSn1uFJqm1KqXCk1Vyk1uAHHpSml3vfGW6SUmqmUSt2XcyulzEqph5VSC7yveZdS6lul1PCA89yilPpDKZWvlCrwnue4GmKKUko9qpRar5SyK6W2KKXuDoh5hlJqqVLKqZT6oY7Xd7lSapFSqkIplaeU+iJg/7NKqXlKqTKllLOG4zsppV5USuV4X/tmpdTrgZ+VgGPu9X42XqmjzEXeMj8EbF/v89n0fSzdl/fIW+Z072exRCm1Qyn1sVKqe0CZk5RSf3nL5CqlpiilImuLWwgRGiRJFkI0pV+BNKATcA4wEPighnIbgfOVUtaA7VcAG3w3KKUuAqYDrwNDgMHAfwFTYwZeiyeAS4ErgaHAWuAHpVS72g5QShnAl0AX4GjgGKAH8KlSSu3DuW3AIcBTwMHA4cB2b5luPucZA7wGHAEMA34HvlRKHeoTkwmY5Y3nSm88JwLzfM5jA/KAp4G6EuQHgAe95foBI4EZAcVMwDvA87WcpicQDUwC+gJnAX2Ab7yxBj7nGOBCYHEdcWUBDwO/1LB7KJ7P5Z5HJlAOzPQ5vt73yFtBmQl8BBwEHA+08R63p8wx3v0zgf7e13YsUGtyL4QIEVprechDHvJo9AfwBvBDwLaJgAbifLbNwZPUrQPO9Nk+EijCkzyu9tn+KfBhEF5PHFABXOGzzYQnUb23juOO8b7mnj7b+ni3HX6A5zYB+cDEemJfDDzl8/vF3vc2dX//lt7t3QAXcGwDz3MR4Gxg2UHe96hfwPa2wGbv52MO8EoNx0YB2XgS0hpjDyh/OeAA0vblPcKT1O8O2PYfb9zx3t/fBr4JKHOyt0yX5v4cy0Me8mj4Q1qShRDNQinVHjgNT1LlCtjtBl7Fk6zscQWe1sfSgLLbgCFKqR77+Px3eG931/W4o45TDMbTuvrNng1aaxfwPZ6ErTaHAuu01it9jltKVaJ3IOeOBKxUf4/28rZkxwWUORX4C7heKbVJKbVWKfWyUqpNHc9Vk5PxJJfJ3m4ZW5VSs5RSfffxPDVJ8P5btmeD97XMAF7UWs+t49hpwDyt9cw6yvi6EvhCa73NZ1tD3qPfgQSl1BlKKUMplQCcD/ymtS70lonAUwHyVe79d3QD4xNCBIE52AEIIVq0w5VSJXi6du3pg/mU1rqmpO414G6lVFc8raOn4UkQTwwodx+e2/orlVIb8Nz+/hGYUct593gBeL+eePPq2Jfm/Xd7wPbteFo96zou8Jg9x6X5lNmfcz8L7KTu13UHnoTzJZ9t3fB0/3ADp+Pp6vAMni4go7XWuo7z+eqG5297H3A9sAO4BfhFKdVLa72jgefxo5SKwdN94yOt9RqfXXfhaT1/qI5jL8DTHWVIA59rT5ed/wvYVe97pLX+Syk1HngTT/JuxvN5HOdznq+B6UqpE/F0u+ngfR0A7RsSoxAiOCRJFkI0pXl4+o5GAGcARwF31lRQa71VKfUVcBme5HC51vpfb3LhW247MFIp1RtPS9xw4HHgdqXU8NoSM611HnUnwWFFKfUocBIwRmtdUkuZa/AkySdqrTf77DIABZzlfV9QSl0C/I2n3/i/DQzDACzA9VrrWd7zXICnlfw8PInuvr6uaOBzwImnj/ae7aOBa4BBWmt3Lcf2xJPIjqmnwuTrSjxdfb4L2F7ve6SU6oWnf/yzwBdAIp4KwydKqSO8dwNeAzoD7+K5W1DhLTMCTwIuhAhR0t1CCNGUyrXWq7XW2Vrru/EkI1PrKP8Snr6gV+Lf8lmN1nq51vpFrfUleJKWdODq2so3QneLPbfiAwfptfXZV9txNQ3s8z2uwedWHlPwJJBHaq1rHLymlLoZT3/uE7XWgQPvtgHb9iR/Xntmdsio47UE2hPb3lkhtNYVwJp9PA8ASql44Fs8rbZH+XRZAM+AxBRgg/LMtuEEDgMu8f7eAc/AxiTgH58yFwBjvL8fGvB8ccDZwEs1tJ435D26A8jWWj+gtV6otZ4NnAuMwjNwEm+L811ArPe4ZKoG9vm2kgshQowkyUKI5nQvcLH3FndNvgHseJKJd/bhvOvx9F1NraPMC8CAeh4v1HH8P0AlnpkJgL19ZI8C6uof+xvQRSmV6XNcFtDR57gGnds748JreG7/H661XlTTEyql7gfuAY6vIUEG76wj3qR0j57ef9fX8VpqOg9AL5/ntuLpprAv50EplQzM9v56tNa6IKDI83hmkPD9e80HPvH+nItnUGe/gDKf47mjMQBYEHDO8/D06X69ltdW33sUTfXW4D397X1nLkFr7dZab/FWIs4Biqneei2ECCHS3UII0Wy01jnKM4fuQ/gkhD773d5BX4bWurimcyilpuPpjvETnqnjkvH0h43DkyTV9twH1N1Ca12klHoBeFgptQ1Pq/gtePpav+gT3yPAMK31kd5NP+DpvvC2UmoinuRpGvAn8HNDz62UMuO5ZT8GTzeL3T7Tw5Xs6XKhlHoWT0v82Xj6be8pU+7TMvs8MAF4Syn1f3hmg5jmjWehz2sZ4P0xCYjZ87vWek+Zn7yv41ml1BV4+iT/F08DzNs+5+kOxOCZCtD3vKu11iVKqTQ8/crL8XTPiVJKRXnL5Gmt7d5uNH5daZRSpUC+1jrbu6nA+/AtUwDE+JTxdSXwqdY6t4Z9DXmPPgXeUErdgCcZT8Qz7dxWvFPFKaUS8STFs/H0pz7N+x5dqbUuquF5hRChItjTa8hDHvJomQ9qnzZsBP7Tn82hhmm8fMrfi/8UcKfgSUg242l9zcUzC8TYZnhNFjz9n7fj6Vv6GzCkhte9PmBbGp75oYvxTCv2HgFTi9V3bjz9WnUtj3t9ytVW5o2A5xuIJ3ErB7YALwNJAWVqPFdAmRTgf3iS03w8dwP6BJSZU8u59nwGLqoj7sPr+HvU+dmp53N4sPf8R9ZxbEPeoyvxTLFXiieJ/xzo67M/0fu3LPKeZx5wUrD/f8pDHvKo/6G0buggZiGEEEIIIVoH6ZMshBBCCCFEAEmShRBCCCGECCBJshBCCCGEEAFa5OwWhYWF0tFaCCGEEEI0SHx8vArcJi3JQgghhBBCBJAkWQghhBBCiACSJDeynJycYIcQFuR9apjmfJ+ibj4HtX1Tsz1fY5LPU8PI+9Qw8j41jLxPDSPvU8OE4vskSbIQAgB3u3SMME2ShRBCiMYmSbIQAgB3u44Y2zcHOwwhhBAiJEiSLIQAQEtLshBCCLGXJMlCCADcbdNR0pIshBBCAJIkCyG83O3SMXIlSRZCCCFAkmQhhJduk4oqLoTK8mCHIoQQQgSdJMlCCA/DhDu1PUbulmBHIoQQQgSdJMlCiL10u47SL1kIIYRAkmQhhA93W5nhQgghhABJkoUQPjwLikhLshBCCCFJshBiL3e7jjLDhRBCCIEkyUIIH7KgiBBCCOEhSbIQYi8dlwguF5QUBjsUIYQQIqgkSRZCVFFK+iULIYQQSJIshAjgmeFCkmQhhBCtmyTJQgg/WpanFkIIISRJFkL4c8uCIkIIIYQkyUIIf+52HTG2bQx2GEIIIURQSZIshPDjbt/J093C5Qx2KEIIIUTQSJIshPBni0THJ6F2bgt2JEIIIUTQSJIshKjG3aEzxub1wQ5DCCGECBpJkoUQ1bg7dMbYsi7YYQghhBBBI0myEKIad4cuGFvWBzsMIYQQImgkSRZCVONpSV4f7DCEEEKIoJEkWQhRjTtNZrgQQgjRukmSLISozhaBTkhG5W4JdiRCCCFEUEiSLISokXS5EEII0ZpJkiyEqJEkyUIIIVozSZKFEDWSJFkIIURrJkmyEKJG7vQuMleyEEKIVkuSZCFEjdxpnTB2bAWnzHAhhBCi9ZEkWQhRM6sNnZSCyt0c7EiEEEKIZidJshCiVu4OnTG2rg92GEIIIUSzkyRZCFErd4cuGJvXBzsMIYQQotlJkiyEqJXMcCGEEKK1kiRZCFErd3pXTJvXBDsMIYQQotmFXJKslHpNKbVDKZVdy36llJqilFqtlFqslBrU3DHWxuXWaB3sKIRoPO60TqjdO6GiLNihCCGEaKG01rhCMH8yBzuAGrwBPAe8Vcv+sUCm9zEcmO79N+jeW1PGxN8jSfxnG0k2g54JZgYnWxmYbGVYqpVIswp2iELsG7MZd4cMjE1rcWf2DXY0ogG2lrr4aWsF83fYWVvsYm2Rk21lLtwaIBLTb1voEG2iS5yZbnFmhqVaGdPeRkqkKdihCyFauBKHm7922Pl3l4N/dtrJKXSSX+mmwO7mqd4GvYIdYICQS5K11r8opTrXUWQ88JbWWgN/KqUSlFJpWuttzRJgHfLtGpdW7Kpws6vCzapCJ19sqAAgxqw4PiOCU7tEMaaDDYshCbMID+5OmZjWr5IkOYRtK3Px5spSPltfzvICJxEuO0OK19KlYgejK3aRVpkPgEsZVBoW1kWkkhPVjm+iOvBqRBsADkqycEqXSM7rEUVyhCTMQojGUeHUfLe5go/WlfHtpgoqXDWXK3SGXl6kdAj2D/AmyV9qratdlZVSXwKPaq3nen//EbhNaz1/T5nCwsK9LyonJ6fJ491j+gYLr22y1Fsu1ermgnQn49s6kWuRCHVt/plD9Nb1bPzPRcEORQRYVGTw7hYzc3abyCjfwdm5vzMmfymDi9eyLDqdVVHt2GhLZostCQ2YcBPlstOlYgc9yrbTt3QT+eZovknqz9dtBvBTYh9MhuKoZBfndnDQMyb0rg9CiPBQ6oSPtpuZscVCnqP+BPimrnbOat+8i1dlZmbu/Tk+Pr5akCHXktzYfN+ApmbZXQCU1ltuh93gybVW3toWwaR+sVzeO7rVtSzn5OQ0698mXIXC+2QYDmxv/oUthP9eofA+NaecQgf3zi/im/WlnL7zT77dNps+pZuZmXoIj3f6D3Pje1Jqjqj3PEq7GVCygWPzFvPQ2pkkOMt4sf1RvG4/jK93xnBG10juHBxHp5gWf6nw09o+T/tL3qeGaW3vU4VT89zSEp7LLqbA3vCKdqmzeXO2hgjHb74tQEef39O924LusYMTOD9xJ8kdu7K11MWC3Xb+2elg9tYKtpW5q5XfUe7mjr8KmZFTyjMjEhiWagtC1ELUzZ3eFWPbRnA6wFz/nRLRdEodbh74t4hXlxVz+vbfyd7wMVutSUzrcDRfJg/CblgwFAxJtnJEBxsD2ljoGmemU4wZmwlyclaT3qUbG0o8fZUX7LLz45YePBrbhUc7nciw4jVcveV7Vsy7ianpx/K063g+21DOxD6x3DIgFpupdVXmhRD7Zs7WCm76o4A1RbX0qQA6xpg4or2NwclW+rex0D7aRILVYMPa1c0YacOEY5L8OTBBKTUTz4C9wlDoj7yHzYB2USbaRZkYlGLl0l6eWS9+z7Xzwdoy3l9TVq0/ztJ8J8fM2sVlvaJ5YGi8DPATocUWgTs5DWPLetwZoVXLb03m5VZy9a/5pG/KZv6q1ykwR3N1j0uZk9gHgF4JZi7tFc1pXaNItNU8cZGhINpikJVokJVo4YSMSO4aDDvLXcxcU8ZrK3pycVx3Opfv4IF177N83s3c3eV0nnSO5utN5bwwOol+SVJREkL4K7S7ueXPAt5fU17j/hiz4uzMKE7vGsnQFCtKhUeeE3JJslLqXeBwIFkptRm4B7AAaK1fAL4CjgdWA2XAxcGJtOFMhmJUmo1RaTbuHBTHtOwSXl1RSonT/zbEKytK+T23kjePSCIzXi5EInS4M7pjbFgtSXIQuNyahxcU8fq/uTy85h2OzVvMpO4X8FnyEFCKISkW7hoUx+g0235feFIiTUzsG8u1fWL4bnMF9/9j5vzICQwtWsPUVa9zxo4/ubzX5Yz5wsmdg+K4rm9M2FzkhBBNa+EuOxfPyWNdcfXW43ir4qqsGK7Kiqm18h7KQi5J1lqfXc9+DVzbTOE0utRIE/cNjefavjHc+XdhtVrXsnwnh3++k8mHJnBa16ggRSmEP3fnHhgbVuGZgVE0l4JKN5f+nIc7+18WLJ/Op8lDOGjoYxSbo+gUY+K+IXGc1Dmy0RJWQymO6xjJ0R0imLmmjAf+yWRkzL3cvvEz5s//PyZ1v4B75h/Cgl0Opo1MINoSfhc9IUTj0Frz2spSbp9XiD2gR6kCLu4Zzd2D40gIw+R4j5BLkluL1EgTL41O4tzuldzwez5rfWpgpU7NZT/nk1Po5L8DYqXFRgSdOyMT6/xfgh1Gq7KywMG53+/k7OwPuXzrT1zU+2p+SvRM+HNZr2juGxLXZEmqyVCcmxnNuE6R3DqvgAeMU5nVZhDvLJ3KsOI13OY+mzVFTmYcmdTqBvUJITx3uO74q5AXl1efrCAr0cyUQxMZkmINQmSNK3zT+xbisPY2fh6fymldI6vte2xhMRN+K8DhlmmYRHC5OnXH2LQW3NUHoIrG90duJad/uo7nfnuY0QUrGDb4QX5K7Eu7SIOPj2nDk4c0Tytugs3gpdFJvHlEEuuSu3LI4PvpW7qJL5c8zqbcAo78YidL8hxNHocQInSUOzUXzs6rMUG+tFc0P52Q2iISZJAkOSTEWgxeHp3I5BEJ2ALmTZ6RU8ZZP+ymzCnJiQii6Fh0TBxqR0hMJNOi/bSlgps+WcZXf97DkuiOHNv/drbbEhmaYmHOiamM6VD/1G6NbXznSGb/J5W01ATG9buVZdHp/PbvPUQU7OCEr3fy9w57s8ckhGh+BZVuxn+ziy83VvhtjzErXj0skacOSSCiBU0+IElyiFBKcWHPaD4/NplEm/8H7MctlZzzYx7lTmlRFsHjzsjEtKH5Fudpjb7YUM4zH/3Bt//cx9T047il+3m4lcG5mVF8OTaFdlHBW32oc6yZ78alMLZzNDd1P58X2x/JnAX3k1qwlZO+3cXPWyvqP4kQImwVVLo55btd/LXTv1KcFmXw9bgUTm2B46gkSQ4xw9va+G5cChkx/hfDOVsrOefH3ZIoi6BxZWRiSJLcZGZtKGfGh3N4f/HTXNHzcl7scBQAdwyM5blDE0JijuIYi8FbY5K4OiuaKR3H8kDnU/hx4YN0LdjAmT/sZu72ymCHKIRoAoV2N6d+t4t/d/l3r8pKMPP9uJQWOzWkJMkhKDPewvcnpNAn0X9AzOytlZz7427sLkmURfNzZ2RirF8V7DBapJ+3VvDRB9/x2vLpnNr3Br5uMwCAR4fHc+uAuJAavGsoxcPD4rltQCxvpB3ODd0v4OtFj9K1aDNnfb+bf3dK1wshWpIShydB/icgQT441cpXx6eQ3oIH70qSHKJSI018flxytUT5p62VXDs3H7eWRFk0L1fX3pjWrZDBe41s/k4777/zFVNWvMZ/+t3C7/E9UcC0kQlclRUT7PBqpJTi9oFxPDg0jo9Sh3NT9/P4atGjpBTncur3u1ieL4P5hGgJHG7NRbPzmL+zeoL8wTFtwnp6t4Zo2a8uzLWJ8CTKWQGJ8gdry7l3flGQohKtVlwCOjYBY+uGYEfSYqwudPDq21/z2Io3Ob7/bfwT1xWAyYcmcG5mdJCjq9+EvrHcNySO99qO4OGMk/h20cNEFu3mlO92saW09mVphRChT2vNpN8L+GGLfzeq4d4EObYVzJPe8l9hmNuTKHeP80+Up2SX8MKykiBFJVorV7csjNVLgx1Gi5BX4eLZd2bz1NJXOfGgW1gckwHAg0PjuKBH6CfIe1zfL5YbD4rhpQ5H8XL7I/lq0WOUFpVw9g+7KXXIXQchwtUjC4uZkVPmt21AGwsfHN06EmSQJDksJEeY+PCYNqRG+v+5bp9XyPebZUS5aD6u7n0wrVkW7DDCnt2lefz933nin6mc0ed6/o3tAsAt/WOZ0Dc2yNHtu7sGxXFZr2ie6HgCvyT04p1lU1m6q4IrfpGuYUKEow/WlPH4wmK/bRkxJt4/ug1x1taTOraeVxrmOseaef+oNkT7zD+ogct+zmNNoTN4gYlWxd29DyZpST4gWmue+moJd/3yBBf1upq5Cb0AOLt7FHcMDL8EGTx9lB8bHs9xnSK5ofsFGFrz5Jq3mbWxgvuka5gQYWXhLjsTf8v325ZkM/jomDakRgZvGspgkCQ5jAxItvLmEUkYPgPdC+2ac3/aTbHc1hTNwJ3eBZW3A0qL6y8savTeP5u5/Iv7ua3bOXzbpj8Ah7S18uyIhJCaxWJfmQzFK4cl0js5grOzJnJUfjZXbfmeydklfLquPNjhCSEaYFeFi/N+yqPCZ0iBzQQzj0qie3zLnOatLpIkh5mj0iO4b0ic37YVBU6u+iUfLbc1RVMzmXF17olp7fJgRxKWFm0pZNAbd/N62uG83W4UAJ1jTbw9Jikk5kE+UDEWg5lHJhERF8v4fjdz1/qPOaRwFRPm5pNTKDNeCBHKnN6ZLDYHDLp95pAEhqXaghRVcEmSHIYm9Inh9K6Rfttmbazg+WXV11EXorG5u2VJl4v9kFdmp3zy/SyM7sRDGScBnqVcZx7VhjYRLecWZnqMmRlHtmFTdFuu6Hk57yybSmRZARf8lCcD+YQIYY8sKGLudv95zq/sHc05YTDTTlORJDkMKaWYfGgCBwWscHPv/EKZyF80OVf3PhirZfDevnBrzR9Tp2OuLOOaHpeAt1vF1JEJ9Epoebcwh6RYeWRYPLOSBzGj7UjeXjaNlfl2bvijQO54CRGCZm+p4OnF/jNmjWxn5cFh8UGKKDRIkhymoswG/xuTRLy16hatww0Xz8mj0C6tNaLpuLtnYVq7TBYV2QdzPpzF0LVzOTPrepyGZzrHK3tHc3KXqCBH1nQu7RXN6V0juafzaRho7l7/Me+vKef9tdI/WYhQklvm4opf8vGtvqZFGbx+eBIWI/y7gR0ISZLDWEasmamHJvpt21DiYtJv0lojmo6OS0THxMuiIg20dmE2B3/7Eqf0vZHdVs/sFcNSrDwwtGW30CileHZEAplJNs7NmsAl22YzqmA5N/9RwPpimZFHiFDg1porf81nZ0VVo4eh4KXRSaS0spksaiJJcpg7sXMkl/fy7y/0yfpy3lsjrTWi6Xi6XEi/5PpU5BeQ8sI9XN3jErJjOgEQb1W8engi1hYwUK8+0RaDN45Ioigynit7Xs7ry1/AKCvhyl/ycbqlIi9EsE1fVsqcrf4r6t3SP5ZRaa1zoF4gSZJbgAeGxtM3oH/yrfMK2FwirTWiabi7ZcmiIvVxu8l96j7+lzyCz1KG7t387IgEOsaY6ziwZemVYOHBofF83WYAXyYPYlrO68zLreSpxTKNoBDBtLLAwf3/FPptG9HWyi39w3O+9qYgSXILEGFWvHZYIr4D5IvsmonS7UI0EVePgzCtXBTsMELalhmvs7uonLu6nL5321ndIlt0P+TaXNormmPTbfy369n0K9nIublzeXxhMQt3yUBjIYLB4dZc9Ws+lT6zvcVZFS8floS5lfdD9iVJcgvRI8HC3YP9+zjO3lrJqytkWjjR+NzpXVBlJajducEOJSTZF88n4dcvOSdrAi7DU3vNiDHx+MEJQY4sOJRSTB2ZSGx0BBf0voYn18ygbUUe18zNx+6SirwQze3pxcUs2OU/d/kTByfQIVr6IfuSJLkFuSormpHtrH7b7p5fJINkROMzDJy9B2FaviDYkYQclb8LY/pDnNfrarbbPANrFfDi6ETirK33Kzc10sSUQxNYFNuZ6e2PZvrKV1mW55BuF0I0syV5Dp5Y6P//7j8ZEZwRsP6CkCS5RTGUYtrIRGItVbdKypyaG36Xbhei8bmyBmJa+m+wwwgtLieVk+/l6dQjmZ3YZ+/mq7KiObitDIQZ2ymSM7pF8kjGeNIr8zg3dy5PLSpmSZ6sxidEc3C6Ndf9lo/TJyVIiTB4ZkQCSkk3i0CSJLcwGbFmHhpWvdvFTJntQjQyV+9BmJb/C1IB20u9/wpLSkw8kjF+77YusSbuGhxXx1Gty2PDE0iMtnJZryt4Ys07JFfkc+2vMtuFEM3hhWUl1bpZPDMigeQWtOpnY5IkuQU6PzOK0QHTt9zxVwE7y121HCHEvtNtO4AyUNs3BTuUkGBa8Dv2337kjMyr0arqq3XqyESizPJVu0eizeCpQxJYENuFV9OOYGrOGyzOc/DCspL6DxZC7Lf1xU4eXuDfzeKkzpGckCHdLGoj39wt0J5J/H0rhvmVmtv/Kqz9ICH2lVKeLhfLpF+yytuB+ZXHOSnz2r0LhgBc3iuake2km0Wg/2REckqXSB7MOIk+pZs5Yde/PLKgmE0ybaUQTUJrzY2/F1Dm088i3qp4bHjLXtToQEmS3EJ1jTNz+0D/W7wfri3npy0VQYpItESurMGYl/0T7DCCy+3C9tIjvN7lOH6Ly9y7OS3KkG4WdXh0eDwRkTYmZl7M5Jw30JXl3DZPKvJCNIWP1pXzU8CiIQ8OjadtlHSzqIskyS3YtX1i6Be4yMifhVTKlEuikbh6D8S0fCG43fUXbqEsX79HbqmDCUnj/LY/OjyhVc9mUZ/USBP3Do7nx6S+zI3vxd3rP+arjRXM2iDjJ4RoTEV2N3cG3Eke1c7KeZmtb872fSXf4C2Y2VBMHpGA73jV1UVOnsuWvn+iceikFHRcPMamNcEOJSiMdSswf/0+4zpfgdunH/Kx6TZOzIgIYmTh4cKeUQxNsXBL93O5YPuv9CvZyG3zCrjyVwwAACAASURBVCl1tN5KlxCN7dGFRWwvr/o/ZTWQ2SwaSJLkFm5QipWLevrXFp9cVMxG6fsnGomr9yBMy1rhVHAVZURMf5BXhl9GttFm7+ZIk+Lxg+UC1BCGUjwzIpHdtnju7nI601a9xuYSJ88skYq8EI1haZ6DF5f5Lyp2Xd9YusdbajlC+JIkuRW4a1AcSbaqP3W5S3O79P0TjcSZNQjT0vnBDqPZ2WY8x85OWUxwDvTbfuuAWDJizUGKKvz0TbJwdVYMr6YdjkW7OCf3N6ZmF8siSEIcIK01N/9ZgG8Py/RoEzf2jwleUGFGkuRWICnCxL1D/AcQzdpYwWwZxCcagavvEEw5S6G8LNihNBvT33MwrVzEeenn4dvDv1uciWv6yAVoX906IJbUKDM3dL+AR9bOxFJZzv/JbDxCHJCP1pXzR67db9ujw+NlSsp9IO9UK3FeZhRDUvxvr9zxV6FM4C8OXGQ0rsw+mJb8FexImoXavQPbW5OZdcLNzM73Hxn+yLAEbCbpZrGv4qwG9w6J58/4TH5M7MsdGz5j1sYKmY1HiP1U5nRz7/wiv21Hd7AxrpOMldgXkiS3EoZSPD48wW/b8gInb6wsreUIIRrOOXAk5gW/BTuMpud2EfHSQ5QeeQrXbGvnt+vYjhEc01EuQPvrzG6RDEuxckfXM7lk22wyy7bx33mFOKQiL8Q+m5pdwubSqgXELIZnxh0ZK7FvJEluRQalWDm7u/8gvocXFFNQKSPJxYFxDRyBedE8cLbsfqSWWTMBeLTjCWwr8x8t/sgwmZT/QBhK8djB8eTaEnm804k8ufptVhU6eX2FVOSF2BdbSl1MDhj8emXvGLrFy1iJfSVJcitz9+A4os1VNcm8SjePLSyq4wgh6qeTUnCnpmHKWRLsUJqMsWY5lu8+ZMN5/2XKUv+5fK/pE0PXOLkAHaiByZ65W59LP4ZeZVsZk5/NowulIi/Evrjvn0K/lfXa2Axu7h9bxxGiNpIktzJpUSZuOMj/P8vLy0tZW9SyWwBF03MOPBTTv3ODHUbTKC8j4oUHqLzgeu5dH0G5z3Dx5AiDGw+SC1BjuXNQHBarldu7nsXjq2dQUOHkqcXFwQ5LiLCwYJed99f4V+LvHBRHgk3Svf0h71ordG2fGDrGVA04cmp48F9pTRYHxjVoJOZ/fwPd8vqQ2t6egqvXABZ0HcG7q/1n8bhjYJysrNeI2kaZmNQvho9ThlFqiuD87b/y4rISmRJOiHporbknYLBeVqKZ83vIynr7S77ZW6FIs+LuQf5Twn28rpyFu+y1HCFE/dzpXQAwNq0NciSNyzxvNqacbCrOmcCdfxf5TfnWK8HMBXIBanTX9o2hfbSJW7qfy/3rPsBir6g2Ul8I4W/21kp+2Vbpt+3BofGYDRmst78kSW6lTu0aSb8k/ynh7v1HLkLiACiFc9ChmFrQLBdqdy7W/02m4qo7+XG3Ue0CdP8QuQA1hSizwV2D4/krrjsfGu3p8srFfHrLmZx6/qVs2LAh2OEJEXLcWlerSB6WZuOI9rYgRdQySJLcShlKVVtgZM7WSllgRBwQ55DDMP81u2V0uXC7iHjhIRzHnY6zS0/uD6hEHt7extHpcgFqKmd2i6SXazu3fT+b7JWLYfXf/PjFR5x00kmSKAsR4JN15SzOc/htu3dInEz5doAkSW7FxrS3MTrN/yJ/7z9FuFtCgiOCwp3ZF1VZgbEhJ9ihHDDLl++gDQPH8Wfx+fqK6hegwXIBakqGUqTOnoYzb6vf9nXr1vHggw8GKSohQo/dpXkgYFzRyZ0jGZhsDVJELYckya2YUop7B/u3Ji/a7eDTdeW1HCFEPQwD56HHYJ77bbAjOSDGqsVYfviYyivvwInBQwv8L0AndY5kgFyAmpy7cEeN27dt29bMkQgRut5cVcr64qqFQ8zKM6OFOHAhlyQrpY5TSq1USq1WSv23hv0XKaV2KqUWeh+XBSPOlmJQipXxnf1XCXvg3yJZ5UrsN8ehx2L58wdwOuovHIpKComY/iCVl9yKTkrlndVl5BRWzaxgKPi/QTLlW3NIS0urcbs7LrWZIxEiNJU43Dy+0H+KxAt6RMvCIY0kpJJkpZQJmAaMBbKAs5VSWTUUfU9rPcD7eKVZg2yB7hoUh8nnrvG6YhdvynLVYj/p1Pa40zIwLfoz2KHsO62JePkxnMMOxzXgECqcmscW+F+AzukeRWa8pZYTiMZ055130qVLF79t5qQ0dhx2DS6pyAvBtKUl7KyoWmwnyqy4dYBU4htLSCXJwDBgtdZ6rdbaDswExgc5phave7yl2jRWjy8qpsQhq1yJ/eMYeSyWMOxyYfnuQ1RhHvbTLwfgtZWlbCmruo1pNeA2uQA1m4yMDD799FOOGX8qdB9G7579efKow1ltTeND6RYmWrldFS6mBiw/fU1WDO2iTLUcIfaV0iE0SEspdRpwnNb6Mu/v5wPDtdYTfMpcBDwC7ARWATdorTf5nqewsHDvi8rJCf8BRM1hlx1Onh9JhbuqSfmqTnYu7SQT+It9Z1SW02fKbSy/5iGc0eGRVEZuXU+3mVNYdfHt2BNTKHXCSfMjKXBW/Z84u72DG7uGaTeSMHf3Sis/b3eyYt5NjO93M7nJGXw4uAJLqDX1CNFMnlprYebWqrta8WbNp0PKiZGeFg2WmZm59+f4+PhqI7HD8a38AnhXa12plLoSeBMYU1th3zegOeTk5DT7czaGTODaikKeWlxVK52xzcath3YiKaLxa6Xh+j41t3B+n/SgQ+mxYx2OY05t8uc64PeprISol+6h8uKbyBg2AoDHFhZR4KzqahFtVtw/uiMpkeHbShPOn6eH2zoZ+nEuj2SM54F173NC7G38odO4NDOm0Z8rnN+n5iTvU8M0xfu0scTJR7/n+m27dVACA3unN+rzNKdQ/DyFWh18C9DR5/d077a9tNa7tdZ7ZvR/BRjcTLG1eNf1iyXRVlWRKnZonl8qfZPF/nEeNg7LT5+BO8S77WiN7Y2ncPUZgmvY4QDsrnDxXHbAbcw+MWGdIIe7LnFmLuwZzStpY+hRto1RBct5YmExZc4Q/3wJ0QT+N3c1l2z6gfezn+WD7Gd4Y93rTFz5IWrL+mCH1qKEWpL8N5CplOqilLICZwGf+xZQSvkOdz4RWN6M8bVo8VaDG/r53xp/YVkJeRWuWo4QonauXgPQ1oiQH8BnnvMlxtaNVJ5z7d5tzywuodhR1RUt0aaY0LfxWyzFvrmlfyxmi4X7Op/Kg2vfZ3uZi5eWSUVetB7GmmWY7rqCSR/eyvCi1XyaPIR3U0eQ0TsTs6OCyEdvwPb8/ZIsN5KQSpK11k5gAvAtnuT3fa31UqXU/UqpE73FrlNKLVVKLQKuAy4KTrQt06W9okmOqPpYlDg105aW1HGEELVQCse4s7B+9W6wI6mVsWY5to9eoeKau8HqWVhne5mLV1b4f+Zv6BdLvDWkvi5bpXZRJq7oHc27bQ8l3lnG8XkLeXZJMUV2aU0WLVxpMbY3niZi8p283e140kdM45LeV/FOu5Es6DaCfmeegf3Mqyh7fAbuTt2IfGQSlu8/DnbUYS/kvvW11l9prXtorbtprR/ybrtba/259+fbtdZ9tNb9tdZHaK1XBDfiliXaYnB9QIvZi8tKpTVZ7BfnkNGo/F0YOdnBDqUaVZRPxHP3UHHxzej2GXu3T15SjO/HPS3K4PLe0oocKiYdFEuMzcQ9XU7jnnUfUlDp5uXl0posWi61fTNR91wBaFbd+SoTGYpWVenbzf1jMRverpKRUThOOJfye6Zj+e5DLF+8HZygW4iQS5JF8F0ircmisZjMOI47A+tXM4MdiT+nk4hp9+IceSyuwaP2bs4tc/F6wBzhNx4US6RZlp8OFYk2g2v7xPB58mDM2s243Qt4bmkxxTJlpWiBjPWriHzkeuwnnEvlRTfxZA44fSYl6xJr4sxuUdWO0ylplN8xBfPvP2D94GUIoZnMwokkyaKa2lqTd0trstgPjlFjMXKyUVs3BDuUvawzp6OtEdhPvshv+9TskmqtyOdnRjdvcKJeV/aOIdZm4sHOJ3Pnhk/Ir3DzqrQmixbGtHwBEU/eSuX5k3AefgIbip28nVPmV8avFTmATkym/I5nMS38A/OcL5oj5BZHkmRRo0t6RZMircmiMdgicBx5EtZZ7wQ7EgAsP3yCOftvKq66E4yq2Sp2lrt4LaAVeVK/WCKkFTnkJNgMrsqK4dPkIUS67ByXt4ip2SWUSmuyaCGMjWuwTbuPymvvwTXEc7fr6cXFDWpF9hObQMW192D76FVU7uYmjLhlkiRZ1CjaYnBdP//W5JekNVnsJ8exp2HKno+xNrhDCEyL/sTy+f8ov/FRCFjkZNrSEsp8rkBtIw0u6CGtyKHq6qwYYqwmHup8Enet/5jdFS5eWyGtySL8qYLdRDx7B/bzJuLqPRCADcVOZgS0It9SRyuyL90+A/uJ5xPx0iPgkgXC9oUkyaJWl/SU1mTRSKJisJ92Gba3Jwdt3mRj4xpsLz9KxXUPoFPb++3bXeGqNvjr+n7SFzmUJdoMruwdw0cpw4l1lXN0/hKmZJfIvMkivNkriZh8J45RY3EefOTezTW1Ip9RXyuyD8dRp6CtNiyhNj4kxEmSLGolrcmiMTkPPRYA82/fNvtzq9wtRDx9G/bzr8PdvU+1/c8vLaHU5wqUGmlwUc+GX4BEcFzTJ5ooi4mHMzytyTvLXby+sqz+A4UIRVpje+0J3KntcZx04d7N6w+gFXkvw6Dysv9i+fbDkBofEuokSRZ1qqk1OXAlMiEaxDCoPO96z0jrsub7DKm8HUQ+fhP28RfiHF59Bfv8SjcvBbQiT+wbQ5RZvh5DXVKEict7R/N+6iG0cZQwpmApU5YUU+6Ukfwi/Jh//x7T+lVUXnILqKoEOLAVues+tiLvoduk4jjudKyfvtkY4bYKchUQdYq2GFwf2Jq8XOZNFvvH3bUXrv4HY/3wlWZ5PlWUT+TjN+E46mScR/ynxjLPL/VfXS85wuCSntIXOVxc2zeGCIuJhzPGc+f6T8gtd/PmKumbLMKL2rkN27vTqLj6LrBF7N2+scTJO4GtyAPi9q0V2YfjqJMxLV+AsXndAcXbWkiSLOoVONNFqVPzoky3JPZT5VlXY178F+Y/fmzS51G7dxD5yCScw8bgGHtmjWUKKt28uMy/VXti3xiiLfLVGC6SI0xc1iuamakjSLPnc1j+Ms+CMNKaLMKF20XESw9jH3sW7oxMv11Tl5RUa0U+vWvk/j9XRBSO487A8tlb+3+OVkSuBKJeUWaDidXmTS6RyfvF/omOpeK6+7HNmIKxcU2TPIXauoHIhybiGDUW+ykX11ruhWUlFPm0IifZDC7tJa3I4WZC3xisFjOPdBrPnRs+YVuZm//lSEVehAfLrJlow4Rj7Bl+23PLXLwV8Dm+4aB97ItcA8dRJ2FauRBj89oDOk9rIEmyaJCLe0UTb636j1lg17wh0y2J/eTu1J3Ks68lYupdUFrcqOc21iwj8tFJ2E+6CMfxZ9VarsjuZnpAK/KEvjHESCty2EmNNHFJr2jeaXsoGRU7GVmwgmcXl2B3SWuyCG1q+2as37xH5eX/9Zu3HWD6shIqfXo2pkc3YF7khrBF4jjuTOmb3AByNRANEmsxuDLLvzX5uaUlcktT7Dfnocfg7H8Ikc/eASVFB35CrbF8/zERz9xB5cW34Bw9ts7ir68spdBe9flNsCouk1bksHVd3xjMFjOPdhrPHRs+ZUuZi/fWyEwXIoRpje2tZ7GPOwed3M5vV0Glm1dXVB9QbDU1zrSUjiNPwli1WGa6qIckyaLBruodTbTPvLG55W7eWS0XIbH/7Odci6trb6IenIDauW2/z2NUlGGbdh/mX76i/K7ncA0cUWf5Cqfm+YA5v6/KiiHOKl+J4aptlInze0TzdruRZJVuZlDxOqZkl+ByS0VehCbzvJ9QhXk4jjmt2r6Xl1cfUHx+j0acltIWgXPkWCw/z2q8c7ZAckUQDZYUYeKigFH/zy4pxikXIbG/DAP72dfgGDOeyAcnYqxasm/Hu12Y53xJ1gt3Q2w85XdNQ7dNr/ewd1eXkVte1ac+2qyq3SkR4Wdi3xjcJgvPdjyeWzd+Tk6hky83VgQ7LCGqKy3G+u7zVF58E5jN/rscbqYv829FvqZP409L6Rh9PObfvweno1HP25JIkiz2ybV9YvBtbNtY4uKjdeXBC0i0CI5jTqXywklEPH8fEVPuqn96osoKzPNmE3nX5Vh++441Z0yg8sIbwGqr97mcbs3kbP9+0Bf1jCbRJl+H4a5TjJnTukbyctoYDitYTmbZNp5ZXIzWUpEXocX68Wu4BoyocXGjN1eVkVdZVYmPs6omGVCs26Xjbp+BacHvjX7ulsJcfxEhqrSPNnFO9yjeWFXVzeKZxcWc3jUSQ8kSvmL/uQaNpKzvUCw/fkrEYzfiTu+Cu0svXF16QEw8qqgAVZSPkbME85K/cHXNwn7yxbgGj6R89eoGP8+n68tZX1w1GsZieCp/omWYdFAsM9eUM7390dy88UuujLqcOVsrOaJDRP0HC9EM1NYNWOb9ROmj1adhq3RpnguoxF/RK4b4JuoK5hx9PJafZ+EaeliTnD/cSdOJ2GfX94vFdwaaFQVOvpJbmqIxWG04xp5J2eMzcBx7OtpqwzL3O6yfvIH57zkYWzfg6j2Q0sdmUHHLE7iGjPJbmao+WmueWex/ATq7exTto021HCHCTa8EC+M6RfBc+jGcvOtvOlTs5unFjTuDihAHwvbeC9jHnQMx8dX2vbemjK1lVa3IkSbFVX2abkCxc+hhmNauQO3ObbLnCGfSkiz2WZc4M6d2ieSDtVXdLJ5eXMy4ThEoaU0WjSEyCteAQ3ANOITG7C333eZKluY79/5uKLi+b2wjPoMIBTceFMuRGyt4q91obtj8NTdHnMf8nXaGpFiDHZpo5UxL/8HYsoGKCfdV2+d0V6/EX9gziuSIJqzEW204Dh6D+ddvcJx0YdM9T5iSlmSxXyb1808s/t3l4OdtlUGKRoiGCbwAjc+IpFu8tBW0NINTrIxOs/FM+lgu2P4LSY5iaU0Wwed2YZ35PJVnXgGW6hW2z9aXsy6gK9iEZugK5jxsHJZfvgK3q/7CrYwkyWK/9EmyMLajfx+/JxfJRUiErt+3V/LnDrvftkkHSV/klurGg2LYEtGGT5KHMmHzd3y1sYLl+TKKXwSPee53YIvENaR6/1+tdbWK3FndokiPafpKvDsjEx0dg5GztMmfK9xIkiz2240H+bcmz91uZ/5Oey2lhQiuwFbkozrY6N9Gbr+3VIel2RiYbOHJTidw9dbviXZWMHmJVORFkDjsWD95ncqzrq5xHMUPW6p3BQu8Y9uUnINGYf53brM9X7iQJFnst6GpVka1808ypshFSISgxbvtfL/FvzvQpIOkL3JLppRiUr9YcqLSmJOQxeXbfuLDteVsLHHWf7AQjcwy50vcnbrVOOUbVL92ntjMXcFcg0di/mcuyHSJfiRJFgckMNH4YkMFa4vkIiRCy7NL/FfXG5Zi5dC20orc0v0nI4LMeDOPdTqRSZu+wnA5mJpdUv+BQjQiw16J5csZ2E+5pMb9C3bZ+XW7/13Y6/s1b1cwd8duoN31z1HfykiSLA7ImPY2+iRW1XY18JxchEQIWV/s5NP1/gve3HBQjMzE0goYSnF9vxgWxnZmaXRHzts+l/+tKmVXhQxQEs0nef5sXJn9cGdk1rh/SkAlflQ7KwOTm7kSrxTOQSMxSZcLP5IkiwOilOL6gH5TM1aXsqNcLkIiNEzLLsF35fSsBDPHdpSFJVqLM7pGkR5t4olOJ3DjpllUOt28vLy0/gOFaAzlpaT++R32Uy6ucff6YiefbfCvxF/XjH2RfTn3dLkQe0mSLA7YyV0iSfdZjKHSBS/JRUiEgN0VLt7OKfPbNrFfrKwO2YpYTYqrsqKZk5BFiSmCcbsX8PLyUsqc7voPFuIAWb79kKJufdHtM2rcP21p9Ur8UR1szRSdP3dmX4y8XFlYxIckyeKAWQzFNQFzOb6yvIQSh1yERHC9sqKUclfVFah9lMGpXSKDGJEIhgt7RhNnM3iq0zhu3jSLvEo37wRUnoRodOWlWH/4mO2jTqhxd16FixkBn8MJfYPYFcxkxtn/EMz//hac5w9BkiSLRnFBjygSrFX/sQvsuloLnhDNqdypq91WvzorBqtJWpFbm1iLwaU9o/k4eRgdKvMYXpjDc0tLcLllJL9oOpYfPsHZdyj2pNQa97+yopQyp38l/rSuUc0VXo2cg6Vfsi9JkkWjiLEYXNbLvzV52tISnHIREkHy7uoydlVU3c2Isygu7BkdxIhEMF2ZFYPJbOLZ9LHctGkW64tdfLGhIthhiZaqogzLdx9hP/H8GneXO3W1bomhUIl39RmCad1KKJXpXEGSZNGIrsiKxuazxPymEle1WQWEaA4ut+a5bP8v+Yt6RhNnla+81qpdlIkzukXxetphjCpcQfey7UzJLkbLvLCiCVh++hxXz/619kUO2Uq8LQJX9yxMKxYGO5KQIFcM0WhSI02c3c3/VtHkJSVyERLNbtbGCtYWV82wYjHgqixZgrq1m9g3hjJTBC+1P5JJm7/i310OfsuVVUJFI7NXYvnmfRy1tCKHeiXe1XsQpuULgh1GSKj3L6KU+qWBj++aI2AR2ib0jcH3ZtGSPAdztlbWWl6Ixqa1ZmrABei0rlG095mBRbROPRMsHNcxgmkdjuGMHX+SYi+UVUJFo7P8PAt3t964O3WrcX+oV+JdWQMxLfs32GGEhIaseTgUuKqeMgqYfODhiHDXPd7CCRkRfn39JmeXcEQHmZdWNI8/d9j5e6fDb9vEvqFzARLBdV3fGI7fVMGHKcO5Zsv33Gc9jeX5DnonWoIdmmgJnE4sX79HxbX31rhba82UEK/EuzMyMfJ3oQrz0PFJwQ4nqBqSJP+utX6zvkJKqXMaIR7RAlzfL9YvSZ6ztZJFu+30byPLAIumF7js8NEdbGRJAiS8DmlrZUiKhWfKjufnBffzeKf/MDW7hOdHJQY7NNECmOf9hLttB9zdete4/49cO/NDvRJvmHD16o9p+QKcBx8Z7GiCqt7uFlrrI5VSbZRSg+opd0zjhSXC2ZAUK4e09U+IAxMXIZpCTqGDrzf6z1gwMUirV4nQpJRiYt9YcqLS+D2+Bxdt/5kP1paxtVRWCRUHyO3GMusdHMefXWuRKQHXwmPSQ7MS7+o9CNMy6Zfc0F7i9wKX17RDKdW62+JFja7v518z/mRdOeuLnUGKRrQWz2WX4DtMdEAbC6PayR0M4e+EThF0jTXxVMdxTNr0NS6XmxeWSUVeHBjToj/BbMHVd0iN+1cWOPhmU0Alvm9oVuJdWQMxLZd+yQ1Nko8HHqhl391KqQcbKR7RQhyTHkGvhKrePC4Nzy+Vi5BoOjvKXcxc47+AzXXBXL1KhCyToZjQN5Y/4nuQa43n5J1/88bKUorsskqo2H/WWe/gGHc21PKd81xAK/LAZAsjQ7QS7+7QBSrKUbu2BzuUoGpokpystd5ay77ngfGNFI9oIQylqvWzejunjLwKuaUpmsZLy0qp9Pl4dYoxcWJnWYJa1Ozs7lEkRxg82fEEbt70JUV2N2+uLK3/QCFqYKxajCrMwzlkdI37t5e5eC+cKvFK4eo9oNVPBdfQJHmHUqprTTu01quADo0XkmgpTu8aRVpU1UeszKl5ZYVchETjK3PBKyv8W2mu7ROD2QjRC5AIukiz4vLe0XyRPIg4ZzmjC1cwfVkJdpfM6y72nfWr97AfdyaYap4P4aXlJfjeqMiIMfGfjNCuxEu/5IYnyR8Aj9e0QykVC8hs7KIaq0lxdcDcjy8uK6XcKRch0bg+zzVTYK/6XCVYFedlRtVxhBBwea9oIi0mnul4PDdt/JKtZW4+XFtW/4FC+FC5mzGtzsY58tga95c6qdZAFA6V+L39klvxgmANTZIfBroppX5QSg0L2Pd/wB+NG5ZoKS7sGU2cpeqLYHelm3dXy0VINB6nW/PuFv/Wm8t6xRBtCY3Vq0ToSoowcW5mFP9rO5LBxevoXbrZM/iz9eYEYj9YvvsIx2EngK3m9QA+yzVT5FOJT7IZnBsGlXid6ukkoHbU1tu25WvQVURrXQIcDmwCflNKbVFK/aGU2gicA9zSdCGKcBZvNbgoYD3657KLkTuaorF8tr6crZVVX2U2E1yRFV3HEUJUubZPDA6zlec7HM2Nm75iWYGT3/OlgiUaqLQYyx8/4DjypBp3O9yad7YGVOJ7R4dHJV4p3N2yMK1dHuxIgqbBfyWtdaHW+mKgC57W40+B24A+WuvVTRSfaAGuyorB9/tgbbGLX3aHzupCInx5Vq/y74t8VrcoUiPl8yUapnOsmfEZkbzQ4SjG75pPWmU+/9sSevPWitBk+XkWzoOGo5NSatz/ybpycn0q8REmuKJ3+FTiXd2yMNYsC3YYQbPPVRmt9Wat9Rta68e01u9qrRt14Xul1HFKqZVKqdVKqf/WsN+mlHrPu3+eUqpzYz6/aHzto02c1tX/1tL/tjRksUch6vbLNjuLdletXqWACaG2epUIedf1iyHPEsuMtocycfO3/FNoYsEuGWoj6uFyYvn+YxzHnl7j7poq8ed0jyY5Inwq8a5uWZjWSEtyrZRSQ5VSHyil3lRKndKUwSilTMA0YCyQBZytlMoKKHYpkK+17g48AzzWlDGJxjGhj3/isqTYxJ+5lUGKRrQUU7P96+hjO0WQGS+tgGLfDEy2MqqdlcnpY7lk22xinOVMWSLzuou6mef/gk5uh7tLzxr3z9laSXaefyX+2j7hVYl3d+6BsXkd2Fvn9bohLclTgJvwdLEYppR6uAnjGQas1lqvxANreAAAIABJREFU1VrbgZlUn4N5PPCm9+cPgSNVyE40KPbok2ThqA42v22BNWwh9sXSPAc/bPH/4r5OWpHFfrquXyzrI1P5MbEvl22bzWcbZJVQUTfLtx9gr6UVGWBywDXuhIwIusWH2V1UWwTutI4YG1tnr9oG/bW01hu9P/5XKTW3CePpgGdw4B6bgeG1ldFaO5VShUAbYFdNJ8zJyWmCMOsWjOcMB6ckGvywpWr079cby/l+0Wo6R8kovrrI56lmD6+y4vsV1i/WRZuijeQUBS+mcCCfp5plaOgWFcFTnU7gw+xneK7DMTz822Zu6eao/+BWrLV+nqI2r6Hz7l2siE2FGt6DlSWKOVv950E+JaGAnJy85gqx0aQnd6Dyz1/YqZt+dcDm/jxlZmbWub8hSfLbSqkZeFbWs9VXONTU9wY0tpycnGZ/znDRXWte3LZzbx9SjeLLkjZM7p8Y5MhCl3yearal1MW3v/kvl3rr0BQyQ3xy/mCTz1PdblKlXDPXYE1kW87Y8SefWkfx6OEdSQqjPqTNqTV/nmzfzsA97iwye9bc1eLxn/OA8r2/H9LWysmDwnPdNXPuwSQsnkdCE/+tQ/HzVG93C631NOBZ4HjgWODCJoxnC9DR5/d077YayyilzEA8sLsJYxKNRClV7Xb4zDVl7CiXparFvnlhWQm+a9J0inBzfMea5ygVoqFO6xpF+yiDpzqO46ZNsyhzuGWVUFGN2rUd87J/cYwaW+P+jSVOPl5X7rctnLuCtebBew0ZuPeA1vpvrfX/aa1v01qvqaXcfY0Qz99AplKqi1LKCpwFfB5Q5nOqEvXTgJ+0lqnfw8X4zpF0iqlqlal0wUvL5SIkGq7Q7ubNlf6fmXM7ODGF+OpVIvTtWSX0m6T+GLg5On8JLy2XVUKFP8v3H+MYdRxE1rwgyPSlJX5rAXSOdHNsGFfiddt0VFkJqjD8uoocqIYM3JvkTVq71vUArjvQYLTWTmAC8C2wHHhfa71UKXW/UupEb7FXgTZKqdXAjUC1aeJE6DIbimsCRve+uqKEUoe7liOE8PfmylKKHFVXoOQIg+NTZYCVaBwX9owm2gxPe1uTd1XIKqHCR3kZll+/wXF0zZN9FVS6eWuV/+flvA4OjHCeX8AwcHXrjdEKW5MbkiRHA6sb8GiU/spa66+01j201t201g95t92ttf7c+3OF1vp0rXV3rfUwrfXaxnhe0XzOy4wizlyV5ORXat7OkYuQqJ/dpZm+zH/E+JW9o5Euo6KxxFkNTmnnZGbqCHqVbmFg8TrPKqFuaU0WYPn1K5xZg9DJ7Wrc/+qKUkp97jy0jTQYmxr+XQrdXbMwtcJFRRrSJ9nQWpu8/9b1CP2FyEVIiLEYnNrOv+Vv2tISnP/f3n2HR1VtDRz+7anpnV5CCyVUaZoAIgqiNFEv94qNiwo2RMV2VbyioiLKtSAoopRPsSEWQAVBAUFABUSk995Jn7Qp+/sjMWRSqEmmrfd5fMycM2dm5WSYvc4+a+8tjZA4i9m7szmSffquQ4hJcWdz31m9SviGm2o7wGTirbrX8siBb9md6eTb/bmeDkt4msuJ+Yc52K8pe9q3XIdmyhb3i/h7EsOw+MAK1GfjbJyIIQCXp/aDP53wRf+sbXf74tif5WTevpzyDxABz6U1E0vMO3pbQojMPCAqXHWr5h+NQphauwe9Uv6iQc5xJm7MRIa/BDbjupXoiChcTVqWuf+zXdkczzl9ER9mUgxt5h8X8c7GzTHu3gou3+8VPx+SJAuPiLPATU3cbz68tTFLGiFRrkUH89iadvoOhFFRqr5diIryQKswMk0hfFCrBw8e/J7fT9hZfVyWqg5kloWzy12C2ukqfRF/e7MQoqx+kmaFRaLDo1BHD3o6kirlJ3894YtKLlX9x0k7K45KIyTK9uZf7ktQX98wmPhwH1u9SviMxGgzV9e1MrFub2459gsx9kzelKWqA5ZhzzbUyaM4Ol5e5v7vDuSyM+P0RbxJwX2J/nUR76rfGOOBMic481vnlCQrpQZXdiAi8DSNMnNtiWlxJm7MLOfZIpCtOZHPymPuF1AP+PC8o8I3PNAqnCPWaL6O68i9hxaz4EAu29JkBb5AZF44u2BGC2PpC3OtdamL+H80CqZumH9dxDvrN8GwL7CWpz7XnuQplRqFCFglE50fDuaxJVUaIeHurRIN0BW1rbSNrfwlUkVg61rTwiVxZv5Xry/3HfqBIGc+b2+U3uRAo1JOYNrwK/bufcvcv+pYPmtOuLdbD7QKr4rQqpSrfmMM0pNcJh+e4E94s6QaFjpWM7tte3uTNELitN0ZDubtc59ZwJdXrxK+4+9VQreG1uG3iCbcfvRnPtuVzdHswBq8FOjMP36NPaknhJad+L5Z4sLp6rpWWsaYy3yuL3PVb4JhvyTJZTEqpXoopa4s779KjVL4LaVUqSvuz3dlc0QaIVHo7Y1ZFB/O2SrGTI/aFTItuxBn1T8+mPgwIxPq9WXUge9wOF28t0Uu5ANGXi7mZfOxX31jmbu3pNpZeKDERXxr/+tFBtCxNVD5uZCR5ulQqsy5FsxYKVjprrweZQ00qpCIRMDpVz+IRuFGdmcWJMZ2F0zZnMWYjpEejkx42okcJ7N2ui9BPbJVGMqXV68SPsVkUNzfMozHM5tx0hLOdSfX8MHWS3m4TTjhZhn77u9MvyzE2aQVukbdMveXnNGiQ5yZLjX8tBRMKVz1GmM8sBNny46ejqZKnOu/cJvWupHWumE5/0mCLC6Y0aC4v8Tt82nbbGTKUtUB770tNvKK3VSoG2rk+obBngtIBKRbCufjfrVePx7bP5/0PBcfbpdVQv2ey4Xlhy/IL2fxkEM2J7N3u38ORrYO9+uL+EAbvCeXwcIrDG4SQmyx+SQz8jUzt9nOcITwdza7i/e3uvfS3NcyDLPBfxsg4Z1CzQbuahHKvLgORDlsdEvfyuRNWdhllVC/ZvzrN7QlCFeztmXuf3dzFsX7chqFG+lXP6jM5/qLQBu8JwP3hFcIMRU0QsW9u9kmjVAA+2hHNql5p//+URbF7U1DznCEEJVneItQLCYD/6vXl0f3z+egzclXe2SVUH9m/nvxkDJ6htPyXMwo0ZHzQKtwjH5+ER9og/fOKUnWWvtnFbrwKsNahFJ8hWFphAKXw6WZVGKWkzubhxImNaDCQ+KCjNzcJJQPa3SlQ+YeEm0HZZVQP2bYvwvDob04Lu1R5v4Z22xk2k//7asFGUqtIuuPXLXjMRw7CPbAWPhLWhzhNeKCjNyS4N6bLI1QYPpmbw77s04XI1uNMLyFTPsmPOv+lmHkGy1Mqns1ow58y8YUO0sP53k6LFEJzD98gf2qgWAqPZVbnlPzzmb3i/i7E8MINvl3LzIAFiuuGnUwHN7n6UiqhCTJwqvc3zLMrbZnY4qdxYekEQokBatXuTdANzUOoUaIsZwjhKgajSNN9IsP4t3aPRlwci2181J4SxYX8TsqPQXT2uXYe/Qvc/9nu7I5lnO6GDnUpLizeWiZz/VHrnqNA2bwniTJwqs0ijBxXQP32Qte3yBLVQeSn4/ksSHl9OpVChghi4cIL/Fg63BSzWF8WKMbIw8uYMnhPDacCoxbz4HC/NM3ODr3gPCoUvtcWpea9u32piFEWwMnnXLVb4LhgCTJQnjEQ63dE6KVx/L59Zj0JgeKkr3IfeoHkRDpf6tXCd/UsZqFpBoW3qx3DUOPLCPCkV0qaRI+LD8P05K55Pf+R5m7v9+fy450R9FjoyqYdSeQBNLgPUmShddpF2cptaLa639JIxQI1p/M56cSNZ4Ptg6sBkh4v5GtwtgfVI0FMW25+/CPfLknh72ZjrMfKLyeafWPuOonoGvHl7m/ZHnNjY2CqRd2ruuy+QdX/cYY9++EABgvJEmy8EoPt3GfUGXBgVw2p9rLebbwF6//5V5ak1TDQufqsgS18C696wXRPMrEq/X7MfLgAsyOfN6SC3nfpzXmhV8UTPtWhtXH8vj1uHtpzchWgTf5l46IRpvNqNSTng6l0kmSLLxSt5oWOsS532J/4y+pTfZn29PszN2b67ZtVJvAa4CE9zMoxUOtw9kYVp814Y3499FlzNpp42i28+wHC69l3LwWtAtnq7KXXC5ZCtarjpVWMYFZCuaqFY/hiP/PcCFJsvBKSqlSvclzduewT25p+q03N2ZR/OZd6xgzPetIL7LwTgW32Y2Mqz+AR/fPx2l3MHmT9Cb7MvOC8hcP2ZRi5/sD7hfxI1sH7kW8rh2P4fB+T4dR6SRJFl6rT/0gmkaervVyanhbBsj4pQNZDj7bme22bVSbMFQZjZUQ3sBsUDzYKoxfIxPYG1yNfx1fxbStNtLyXGc/WHgddWgvhn07cCT1LHN/yVKw9nFmuta0VEVoXslVOz4g5kqWJFl4LYNSpQZtfbjDxokcuaXpb97emIWjWDdy4wgjA+KDyz9ACC9wS0Io1YIMjKt/HU/sn4vN7uS9LXIh74ssCz4vWDzEUvru1e4MB1+WWP11VJvwgL6Id9Wuj5IkWQjPGtQohLqhpxeRyHXCu5ulEfInJ3Od/N92917kB1uHYzQEbgMkfEOwSXF/yzAWR7fCZgyi/8l1vLvZhs0uvcm+pGjxkCsHlLn/jb8ycRW7iG8RZaJP/aAqis47uWpJT7IQHmcxFjRCxU3daiMjXxohf/HuJhs5ztMtUO0QAzc1DvFgREKcuzuahxJhNfBK/QE8uf8bUnKdzCxx0Se8m/nHr8tdPORgloNPSpWChWMI4F5kAB0dh7LnQ1aGp0OpVJIkC693e9MQYoqtZpSRr5m+zebBiERFych38d5W9zsDI1qFYzEGdgMkfEeExcDw5mF8E9eBMGcuV6Vu4u2NmeQ7/X8OWb+Ql4vpp7nkX1P2tG8TN2ZR/MZAg3Aj1zeUUjCUwlWrvt/3JkuSLLxeqNnA3YmhbtsmbcoixyGNkK+bttVGRv7pv2OM1cCQptKLLHzLPS1DCTIZeaX+AJ7YP5fD2S4+3SW9yb7A9MtCXE1aomvWK7XvRE7pUrCHW4djklIwoKAuWZJkIbzA8BZhhJpOfzEdz3Exc7v0JvuyHIdmcon68nsSQwk1y9eS8C1xQUZubxrCp9WTaJRzjEvTd/DmX5k4XXIh79VcLiwLvyD/mn+WufudzVmlS8GayEX831y14zEc8e9p4KQ1Ej4h2mrgrubuvclv/pVJrvQm+6xZO2wczzl9HzPMpBjeQpagFr5pRKswMJqYUL8vT+yfy64MJ3P35Zz9QOExxvWr0MEhuJq1KbUvLc/F+1vcO2IeaBWOVUrBigTC4D1JkoXPGNEqjOBiX1BHsl3M2im9yb4o36l5s8Sc13c0DyXKKl9JwjfVCzPxryYhTK95BZ0yd9My6wCv/ZmJS8uFvLeyLPgc+zX/LHPxkKlbssiwn/7bxVoN3C6lYG4CYa5kaZGEz6gWbGRoc/cvqdc3ZMkAGR/0yc5sDmSdnu/aYoD7WkovsvBtD7UOI89o4c261/DUvq/ZlOrg2/25Zz9QVDnDnq2ok0dxdOpeal+W3cU7m907YO5rGSalYCXoajVR6SmQ57+fcfmLC58yslU41tPTJnPQ5pQBMj7G7tJM2OC+etWQpqHUDDGWc4QQviEh0sz1DYN5p3YvrkjbTKLtIOPXZ6KlN9nrmL//HPvVN4LRVGrfzO3ZpBRbOTHCorirRWip5wU8owlXjToYjh7wdCSVRpJk4VNqhhi5van7l9WEPzOxywAZn/HJzmz2l+hFfqhNuAcjEqLiPNY2nGxTEK/X68PTe7/irxQ730lvsldRp45h2rgGe/e+pfblODQTSyxBPbx5GJEWSZfK4u91yfJXFz7nodbhFP++2pflZLb0JvsEu0vz2p/uDdDtTUOpEyq9yMI/tIg2M7DB6d7kFraDvCK9yV7FvGA29m7XQHDp3uEZ22wcLTagONiouKel9CKXR/t5XbIkycLn1Ak1ckuCe23yhA0y3ZIv+LREL7LZUFDHKYQ/eaxdODZTEG/U68PT+75mQ4qd7w9Ib7JXyEzD/MvCggF7JWQ7XLxeohf5rhahxAXJRXx5/H2uZEmShU96qHU4xaZNZleGky/3yHRL3qysWuTbEkKpG1a6JlAIX5YYbea6BkFMrt2LHqmbpDfZi1gWfYmj0xXo6LhS+6ZtdZ+WMsSkGNlKLuLPxFU7HnXYf+dKliRZ+KT4cBODS0zqLtMtebfPdmWzN9O9F/nhNtIACf/0eNsIt97kP0/ZWSC9yZ6VY8P849fk97mp1C6b3cWbf7lPSzmseSjVgqUX+UxcNethOHEYnA5Ph1IpJEkWPmtUm3CKz+u+Ld3B3L3SCHkjh0szoUQt8q0JIdSTXmThp1rGmBkQL73J3sS8ZB6OVp3QNeqU2jdtq40Tuad7kUNNipFSCnZ2Fis6Mhp16rinI6kUkiQLn9UwwsSgRsFu215ZnyG1yV7o813Z7CnViywzWgj/9ni7gt7kN+tey1P7vmb9KTs/HMzzdFiBKT8P88LZ2PveXGqXze4qtbjR8BahxEot8jlxVa+D4dghT4dRKSRJFj7tkbbhGIr1Jm9JczBHapO9iqOMGS1ubhJCfelFFn6uVYyZfvWDmFynF1elbqK57RCvrM+Q3mQPMK1YgKtBU1z1G5fa9/5WGyeL9SKHmRQPSC3yOdPV66COS5IshNdJiDSX6k1+6Y8MmTfZi8zencPuYr3IJlVQKiNEIHi8XThZpmDeqHstT+/7inUn7SyS3uSq5XRg+e5T8vvdUmpXlt3FWyVqke9JDCNGepHPmauG9CQL4bWevCTCbaaLvZlOZu2QeZO9Qb5TM359htu2mxNCiA+XXmQRGNrEWuhbojf5xT8yZJBxFTL9ugQdWx1XQqtS+6ZusXGq+Op6ZsX90ot8XlzV62A4ftjTYVQKSZKFz2sQbiq1Ct/49RnkOKQR8rQPd9jcapGlF1kEor97kyfU68vze2bz5ym7DDKuKi4X5vmzyuxFzrS7eGujeynY3YlhRFslNTofukYdlPQkVy6lVIxSapFSakfh/6PLeZ5TKbW+8L+5VR2n8E6Ptg2n+N2xw9kuPtiaVf4BotLZ7C7Gry+9ul4D6UUWAaZtrIXrGgQxqc7VdMrcReeMnbywLl3KwqqAcf0qMJlxtupUat97m22k5p3+G0RYFPe3lF7k8+WqXqtgGjiX6+xP9jFekyQD/wF+1FonAD8WPi5Ljta6XeF/A6ouPOHNaocauau5+5fb6xuyyLT73z9aXzFli41jJZZ3fayd9CKLwDS6fQR2k4UX4m/gpd2fsivdwcdSFla5tMYy/yPy+98CSrntSs0r3Yt8b2IYUdKLfP6swejQCFTqSU9HUuG86dNwHTCz8OeZwEAPxiJ80MNtwggrVpx8Ks/FO5ukN9kTUvNcvFFiedd7EkOpFSKDYURgSog0c0tCCDNrXk6N/HR6p2xgnJSFVSrj1vUoWxbODt1K7ZvwZybp+afPfaRFcW+i9CJfKF2jDgY/nOFCectUNEqpNK11VOHPCkj9+3GJ5zmA9YADGKe1/rrkc9LT04t+qR07dlRe0MLrTNln5v0D5qLHoUbNNx1ziDSf4SBR4SbuMfN/h06f9HCj5utOOURIpYUIYMfyFDesCaLP8TWM3vslnTq+yAMNHdxW1z9XK/MorWny4WuktOtCSptkt11HchU3rg3Crk93qoxokM8Q+TtcsPrzZmCr04hT7S/3dCjnJSEhoejnyMhIVXJ/lTZZSqnFQM0ydj1d/IHWWiulysve47XWh5RSjYCflFJ/aa13lfeexU9AVdixY0eVv6cvqqzz9Ey8izlfHC2qM7M5FfOzqzOmY2SFv1dV8MXP02Gbk89XHXXb9ki7SDq0qFtp7+mL58kT5Dydm8o6TwnA3TnpTHR15LH98/jX8VX8n7Uro5LjffI2vzd/noyb1mLNy0YNvIVYo3uqM+HnFOz69Hz6dUKMPN2tAcGmUjlShfDm81RRzAmJhGdnEXMRv6c3nqcq/Vepte6ptW5Vxn/fAMeUUrUACv9f5hqHWutDhf/fDSwFLqmi8IUPiLQYeKi1e93rlM02jmY7yzlCVLTx6zPILXa6awYbGJ4YWv4BQgSQh1uHEWEx8FSjm3huzxfYcu1MLFEbKy6S1li+mk7+dbdDiQT5rxQ7n+1yX3DqyfbhlZYgBwpdvbZfllt406XrXGBI4c9DgG9KPkEpFa2Ushb+HAd0ATZXWYTCJwxrEUqN4NMf7Rxn6RXfROXYmW7nwxKDkZ5oF0GIyZu+aoTwnJggIyNbh7MsOpEdITUZdvgn3pEL+Qpl3LQWlZWOI+mqUvueX5NO8dvULaJMDG4cUnXB+SlXDf9cdc+bWq5xQC+l1A6gZ+FjlFIdlVLvFz6nBbBGKfUnsISCmmRJkoWbEJOBR9u69ybP2GZjZ7rdQxEFjhfXZeIs1gI1Cjdya1NpgIQo7p7EUKoHGxjd8F88uf8bVG6OXMhXlKJe5CFgcB8o/PORPBYdcl/t8NmOERgN0ot8sVzVaxesuucl49wqitckyVrrU1rrq7TWCYVlGSmF29dore8q/Hml1rq11rpt4f8/8GzUwlsNaRpKfNjpL0iHhjFrMs5whLhY60/m89Ve99uYo9tHYJYGSAg3YWYDj7UNZ314A5ZGteChg98zY5uNPRkycOxiGTf+jrJl4ri0h9t2l9Y8uybdbVtyDQu96wZVZXj+KyQMbQlCpad4OpIK5TVJshAVyWJUPNshwm3b/P25rDyaV84R4mJorXm2xEVImxgzAxsGeygiIbzb3xfyzzYcxAMHFxCVl8EL6+RC/qK4XFhmv0/eDXeU6kX+Zm8Of5x0v5v4XMdIlJKL+Iqi/bDkQpJk4beubxhMx2ruc78983s63jLtoT9ZcCCXZUdK38Y0SAMkRJksRsXT7SPYHVyDj2t04b975/Dlnhx+Oy4X8hfK9PsyUODs6D4NWb5T8/xa9wuQAfFBdKpuqcrw/J6rep2Ckgs/Ikmy8FtKKV7o5D7129qTdr7ak1POEeJC2F2aZ353b4Aur2XlytpWD0UkhG/4R6Ng2sSYeaHBDfzjxG+0zDrAU7+l45IL+fPncGCZ8wH5g4aDwT21mbHNxp7M0wMjjQr+W+JOo7h4rhqSJAvhU5JqWOlX373m7Nm1sspVRfpgq42dxWopFfBiZ7mNKcTZGJTixc6RpJrDeDF+IBN2fcSa4/nM2S0X8ufLtGIBrphqOFt2cNueludi3Hr3QZFDmobSRFaYqnBSbiGEDxrTMYLiU2AeyHLKvKQVJDXPxbg/3HuRb2saQusYaYCEOBfdalnpWz+IKbWvonZeCn1P/cFzciF/fvLzsHwzk/xBw6DExfnLf2SQkucqehxiUjzRLrzkK4gK4KpeB8Pxw54Oo0JJkiz8XpNIM8NauC9m8fqGLA5myUjyizXujwzS8k835mEmxdOXyG1MIc7HC50iUSYTjzW+lVd3zeJYZp5cyJ8H86I5uBo2x9U40W37llQ772+1uW0b1SacGiHug/pExSgotzjoV9PASZIsAsIT7SKItbovMDJmrYwkvxibUspogNpKAyTE+WoUYWJ4izAWxrZlZ3BNRh5cwOsbstgvF/JnpTJSsXz3KXn/HO62XWvNU7+lu83bHh9mZETLsCqOMICERYAGsrM8HUmFkSRZBIQoq4FnSgzU+GJ3DquOyUjyC6G15rHVaW4NUP0wI/clSgMkxIV4rG04sVYDDze5jcf2zyPGdpLRv6Wf/cAAZ/lqBvbkXuia9dy2f7c/lyWH3b/fx3aOJEiWn65UrriaGE4e9XQYFUaSZBEwbksoXSv72Op0HC7/uTVUVebsyWHlsXy3bS9LAyTEBYuyGni2YwS7Qmrybp1evLprFnP35bLkUK6nQ/Na6tBejL8vK1hdr5hsh4snS1xgXF6r9CBuUfF0bA2UJMlC+B6jQfHKpe5Twm1MsfPeFls5R4iyZNpdPPO7ewPUq46VPtIACXFRbk0IoUOcmVfq96dT5m6uStnI47+mk++UC/myWD97F3v/Wwpu8xfzvz+z2J/lPuXbuEtlxp2q4KomPclC+Kzkmlb+2ch9FbiX1mVw2OYs5whR0vj1mRzJPj1a3GKAcZdGSQMkxEUyKMWrl0WRa7TycJPbeHPHDPal5jBpk//UeFYU41+/YTh6APtVA922b0+z82aJQY/DWoSSGC0z7lQFHVcTdfKYp8OoMJIki4DzQqdIIiynE7osh+Zpqf07JxtO5TO5RIM9olUYjSNNHopICP/SvpqF25uGMD+2PTtCavH4/nmMX5/J3kwZxFfEno/1o4nk3TwCTKeTX601j65Ox376Gp5aIQaekhl3qowrtob0JAvhy2qEGHmmvfuX5ld7c/hRav/OyOnSPLjSfbBe3VAjj7SROUeFqEj/7RBBdJCBBxL+zYiDC2mQcYBRK9PQfjS11sUwL5iNq1Z9nO2S3LZ/sTuHn4+4D9Z7qXMkERZJdaqKjquJOiU9yUL4tDuahdIu1v3228Mr07AV74IQbqZutfHHSbvbtlcviyTULF8jQlSk2CAjYztFcjAoluca3siUbe+z5FAOX8hKfKhTx7As+Iy8W0a4bT+V6yw1WK9HbSsDG7iX14nK5YqTnmQhfJ7RoHg9OYriVbT7s5yMXSdzJ5flYJaDsSXmlb6uQRDX1pcGSIjKcHOTELrVtPBu7Z4o4O7DP/Lkb+mk5gX2hbz140nk97oRXa2W2/Ynf03nZK77WInXLpOxElUuLBIcdsjxjwHxkiSLgHVJnIV7Et1X4nt3s43fjsvcycVprRm1Ko2sYsvkRpgV4y6N8mBUQvg3pQou5C0mA8Ob3cWYPV8QnHac//ya5unQPMb4568Y9u3E3ucmt+0LD+TyeYle9sfbRchYCU9QqnCuZP8ouZAkWQS00e3s5yq9AAAgAElEQVQjiA87vUKcBh5YkUaeTLlUZNbObH446H7h8GzHCGrJynpCVKomkWYeaRPOltC6vFGvD+9vfY/Pd9r4bn8All3kZGOd+T/yho4Ci7Voc0a+i1Er3S8cWsWYebC1LGzkKQUzXPhHyYUkySKghZoNvNXFvUd0W7qD8eul7AIKyiye+tW9zi+phoWhzULLOUIIUZEeah1OYpSJV+v1I9SVx32HFvHwyjRScgNr2krL7PdwtuyAs2VHt+3P/J7OoWz3OZHf7hKF2SBlFp7iT6vuSZIsAl732kHclhDitu31v7L4NcCXrNZaM/KXNDLsp3vVg42KSV2jMUidnxBVwmJUTO4WDUYj/25+L8/s/ZKokwd54tfAmbbSsG0DprUryLvpXrft3+/PYeb2bLdtD7QKo12cpSrDEyVIT7IQfuaFTpHUCjn9z8Gl4e7lqWQG8GwXM7Zl89Nh9wuFMR0jaBQhdX5CVKV2cRYeaRvOzpCaPNfwRmZsfYevdmbyzd4AKLvIzyNo2qvk3fYghJ6ebvJEjpORv7iXWSREmniincyJ7Gnaj+ZKliRZCCDKamBy12i3bXsznaVKDQLF1jQ7T5WYTqlrTQvDWkiZhRCe8GibcFrHmHm3dk9STGGM2TuHB39J5WCWfy8yYpk9FWe9xjg7divapnXBnO0nis1mYVQwpVs0wSa5y+VpLj+aK1mSZCEK9agTxPASSeCHO7KZty8AemuKyXVo7lyaQk6xwYuhJsXbUmYhhMf8XXZhMhr4d4t7uPXocjof/ZPhP6fidPnnQGPjX79jWvMzef8e5bb9wx3ZfLffffGnx9uF076alFl4A+1HcyVLkixEMc91jKRpiWmDRqxIZV8ALQn77Jp0NqW6/76vXhZJg3ApsxDCk1rHmPlvhwhOWCIZ0uI+Ptg6hd37jzFhQ6anQ6t4mWlY33+FvGH/gbDTJRSbUuw8vtq9zKJjNbOs/OlFdEQ05OVCnu93MEmSLEQxwSbFe5dHU/yOXXq+5o6lKeQHwLRw3+/PYcoW90ng/9EomMFNQso5QghRle5vGcaVta0si07kvdpX8tGWSbz6Rzqr/GmgsdYETXsVR3JPnIntizZn2l38e2kKxSf2CDEppnSLwSSzWXgPpdCxNVB+MFeyJMlClNAuzsKYju6DP9aetPPsGv+uT96d4eDu5alu2+qHGZmQJKtWCeEtDErxTrdoqgUZeDH+ehzKyNhdn/LvJSkczfaPaeHMi79CnTpO/g13FG3TWjNqZRo70t3vck1IipJFQ7yQvyxPLUmyEGW4v2UY19YLctv2zmab344mt9ld3PrTKTLyT/eWGxV80D2GSIt8TQjhTWqEGJncLRqXMnBz4ggGnvidnnuWMXRpCnYfr082bN+Aee6H5I54Dsyna4ynb8tmdolV9W5NCJG7XF7KX6aBk9ZPiDKowt6aemHuq8rduzyVDafyPRRV5dBa89DKNDaXqEN+vlMknarLQBghvFGvukGMahNGijmcG1qN4rVds3Ds2MLo33z3jpdKO0XQpOfJu+s/6Oq1i7avOJpXqg45McrE+MsiqzpEcY5csf6xNLUkyUKUI8pqYMYVMZiL/SvJdmhu/jGF4zn+cVsT4O2NWaV6aG5oGMx9iTLdmxDe7OlLIuhR28qmsHoMb3YXn296g/l/7OejHbazH+xtHHaC3n4We4/+ONteWrR5b6aD239KwVGsgzzUpJjRI4YQk6Qw3kp6koUIAB2qWZiQ5L5s9UGbk9t+SiHPDwbyfbM3h2fWuC/B3SLKxFtdpA5ZCG9nNCg+6F5wx2teXEcm1rmG7za8wnNLD7LscO7ZX8BbaI112mvosEjsA24r2pxpd3Hz4lOk5Lkv6vROt2iaRpmrOkpxHlzV/GNpakmShTiL25uGlpo/+dfj+dy7PBWX9t1E+bfjedz9c4rbtgiL4qMrYwkzy1eDEL4gJsjIhz1iCDLC/+r3ZWFMW+ZseI3hi46wOdXu6fDOiWXOBxiO7Cf33tFgKPjuyXdq/r0khc1p7mVgT14SzoAGwZ4IU5wHHVsDdcr3k2QZEirEOXipcyTb0x0sLbZM85d7cogNMjD+0kif63Xdle5g8GL3qZRMCj7sEeNzI8W11phMJtLTfbcWs6oEBQXJeToHJpMJrbXP/LtuF2dhyuUxDFmSwhONBzNt6xTeW/8mt1gf5dv+tagdajz7i3iIaclcTL8tIXv0JLAWJL8urblvRSo/HnKf1m5gg2AebyvzIfsCHRmDsmVBfh5YrJ4O54L5VmsohIeYDIoZV8TQc/4Jdmac7tmYusVG9SADj7WLOMPR3mVfpoPrFp7kVIlbmG90iaJ77aByjvJeWVlZxMbGEhHhO38DT7FarQQF+d7fuKoppcjKyiI83HcSsusaBPN8xwj+uyaDYc2G8fmmN5nw2/8YZBzF1/1qUS3Y+xJl068/YflqBjlPvwURBWVtWmue/DWdL0qMk2gXa2ZSVykD8xkGAzoqFpV2ym0Qpq+Re6pCnKMoq4E5V8dSK8T9n82Lf2QyeVOWh6I6P4dtTq5beJKDNveBh4+2DefWBN8cqOdyubBYZBYOUXEsFgsul+vsT/QyD7QK445moTgMJv7V8kHsysgrK8fzz+8Ok5LrXYONTasWY5n1NrmPvoquURcoSJBfXJdZakGjRuFGZveKJVTKwHyKjqmGSjnh6TAuinzihDgP8eEmvugVR6TFvTfjqd/SecPLl4Y9kl2QIO/NdG8sb24SwtOX+E6PmRCibEopxl8WSZ/6QdgNJm5OfIAUUxiv/DyO2749QGqedyT+phULsXz6DrmPT8BVvzFQkCD/d00Gr5X4Hq0RbODL3nFe2RMuzswVXQ1DqiTJQgSUljFmPu0ZS1CJ7+wxazMY90cG2gsH8+1Mt9P72xOlVqu6sWEwE2UmCyH8hsmgmH5FDD3rWHEajPy7xb1sD6nJpMWjuWv2Jg7ZPNijrDXm7z/D8sVUcp74H666DQs3a574NZ2JG93vyEVYFHOujqNBuFSG+iLpSRYiQCXVsPJZz1iCje7J5bj1mTy6Oh2HF6169cfJfHp/e5L9We6NY7/6Qbx7eTRGgyTIF+vdd9+lc+fODBs2DID58+fzyiuvnPGY0aNHs2zZsqoI75z4YsyibFaj4sMrY+lW04JLGRiRMJSpta9kxrJnePrD5WxP88CsF/Z8rB+Mx7TyB3KemYSuHQ9ArkNz17JU3itRYhFpUXx9dRytYmSqN1+lY6qhpCdZiMDUvXYQX1wdS5jJPcn8YKuNfy46RZoX3NqcuzeH/t+XHqR3bb0gpl0Rg1kS5ArxwQcf8NVXXzF16lQA3nrrLe66664zHjN8+HDeeOONqgjvnPhizKJ8wSbFJz1j6VLTAkoxqW5v7mo2nMlr/se8SdNYerDqFhxRKScIHv8IypZJztMT0bE1ADie46T/ghPM2eM+SC/GamDuNXG0ryZjDXyZK7oahlPHPR3GRZF7GEJchC41rXzZO5Z//HCKDPvp3uOfDufR+9sTzOgRQ4voqu8Jcbg0L6zN4M2NpQcU3poQwhvJUZj8NEGOmn6oQl8vbWidM+5/+OGH2bt3L4MGDeKWW26hd+/eWCwWYmNjARg8eDADBgxg8ODBTJ8+nZUrVzJ16lTq169PSkoKx44do0aNGhcV4xtvvMHnn3+OUopevXoxZswYNmzYwKhRo8jOzqZhw4ZMmjSJoKAg3n33XaZPn47RaKR58+ZMmzaNnTt3VnnMovKFmQ3M6RXHXctSmL8/l4WxbUlq/zzTt76LGr+OaYMeY2jXxpVXbqU1ppWLsHwyGXuvG7D3v7VoHuR1J/IZsjSFAyXucMUFGfimdxwtpQfZ5/lDT7IkyUJcpM7VrXzfpxo3/XjK7Qt/W7qDHvOOM7ZTJHc2D62yut8DWQ7uW57K8qP5pfY93DqM/3aIkBrkCvT666+zePFi5s2bR2xsLB999BFt27Yt2v/mm2/Su3dv4uPjefvtt1m8eHHRvrZt27J69Wquu+46t9d86623+Pzzz0u9V3JyMuPHj3fbtmjRIr777jsWL15MSEgIqampANxzzz2MHz+erl278uKLLzJu3DjGjBnDG2+8wZ9//onVaiUtLQ2A1atXX3TMwjsFmRQze8QwalUaM7dnsy+4Gj3bPc1DB77nsZkP89Wa/nS74xaqRVbs7Dbq5FGsH09CHT1A7qPjcTVoCoDTpXlrYxYvrstwW2oaoGmkic96xtIwQlITf6Cjfb8mWT6JQlSAljFmfuxXjZt/PMWaE6fr/XKd8OjqdBYdymP8pZHEV+IAFJfWTNtqY8yaDLJKtD5mA4y7NJI7m4dV2vuLAseOHSMuLq7ocfXq1Xnqqafo378/H330EdHR0UX7qlWrxtGjpVelGjlyJCNHjjyn91u6dCm33HILISEhAERHR5Oenk5GRgZdu3YF4Oabb2bIkCEAtGzZkmHDhtG3b1/69u1bYTEL72U0KN5IjqJ+mImx6zJwKQP/q9+Xb+I68OKez7A8fhtre91O++v6oMwXV+Kg0k5hnvcR5lU/Yu91Pfn3PgOFr7k9zc6oVWmsKOMC/oraVmZcEUOUVapA/YWOikFlZYDDDibfvDMgSbIQFaR6sJF511TjoZWpfLbLvcZu4YFclh3O5YFW4TzcJowQU8U2BKuO5fHcmgxWHy/d+NQKMTCzRwydq/vuqke+JCgoiIyMDLdtmzdvJiYmplRymZubS3Bw6SV2z6cn+Xx9/vnn/PLLLyxYsIAJEyawcuXKColZeDelFI+0DeeSODN3LkshNU+zK6QmN7V8kMvSd/Dc8tk4Fk3HltSb6GsHFM1dfE5cToxb/sC04gdMf67C3qU32eNmoiMKLq7S812MX5/JlM1ZpXqPAYa1COWlzpEyRsLfGIwFK++lnULH1fR0NBdEkmQhKlCwSTHl8hiurJPNo6vSyCxWp5zrhFf/zOT/ttsY3iKMO5qHEn0RvSZaa34/kc/49ZksLrF869+61bTwwRUxVA+gOUbPVkNc2Zo1a+aW4K5du5ZFixbx888/07dvX3r06EGDBg0A2LlzJwMHDiz1GufTk9yjRw/Gjx/PoEGDisotoqOjiYyMZOXKlSQnJ/Ppp5/SpUsXXC4XBw8e5PLLLycpKYkvv/ySrKysColZ+IYr6wSxtH91hi5NYd3JgrteqyMT6N3uKRKyjzBsx0/cueo+LGFhmFq2x9msDa64muioWHR4JCo/D3JsqPRUqq35BeuiTzBu24COjMHR9WqyB99blBwfz3Hy3hYb07baSCljIHOM1cDbXaPoU18uuvzV39PASZIshCjyr8YhXFrdwvBlqfx2wr1391iOixfWZTBhQyY3NAymf3ww3WtZCTKdWy/K/iwH3+zJYdbObLamOcp8TphJ8VynCIY2C8Ug9cdVKjk5mdGjR6O1Jj8/n5EjRzJp0iRq1arF2LFjGTFiBPPmzcPhcLBnzx4uueSSi3q/nj178tdff9GjRw/MZjNXX301//3vf3nnnXeKBu41aNCAyZMn43Q6ufvuu8nIKJjP++677yYqKqrKYxaeFR9u4oe+1Zi0KYuX/8jg78X4doTU4vEmt/BE48G0sh3k5tRt9P95OfH2VIIyTqEy09HWIAgORYeGY42qjrP9ZeTfMBRdsx4ANruLH/fmMH9fDl/vzSG/nEl+etS2MrlbNLVCAucCPhD9vaCI5+d6ujDKWxY+UEoNAsYALYDOWus15TzvGuBNwAi8r7UeV/I56enpHvulduzYQUJCgqfe3mcEynlyac3HO7N5fm0Gx3PK/5oINSnax5lJjDbTPMpMtNVAkAmOHj6MOaYmR7JdbE+3s/JofqklpUvqXdfKa0lR1AsLjGvg9PR0rFYrQUFBng6lyBNPPMG1117LFVdcUe5z5s2bx59//sno0aOrLK7c3Nxyz5O3xuwJubm55OXlERkZ6elQKt3OdDsPrSy7Tri4huFGkmpYaRJpolaIkWpBBvYdPExMjZqcynWxNc3B5lQ7607mc6YVsOuGGhnbKZLrGgQFzADiQGnvymL5eBI6Og77tf8663M9fZ4iIyNLfSC9qRXdCNwATCnvCUopIzAJ6AUcBH5XSs3VWm+umhCFOD8Gpbg1IZQB8cFM+DOT97fasJVRlGdzaJYfzS9jRoogIO2c3iuphoXR7SPoUlNqjz3tkUceYc2aMq/zizidTkaMGFFFEZ2dL8YsLl6TSDPzronjp8N5jF2XwR8ny15oZE+mkz2Z2SW2WmFL6jm9T6RFcW9iGCNbV/yYDOG9dEw1lA/Plew1SbLWegtwtivLzsBOrfXuwud+ClwHSJIsvFqExcBznSJ5uE04M7bZmLIliyPZF38DyqTg6npBDGseyhW1rQHTM+PtqlevTp8+fc74HG+r6/XFmEXFUEpxVZ0grqxt5fsDuUzbauPHQ3lUxC3Z+DAj97YM49aEEMLMkhwHGh1dDePOTZ4O44J5TbnF35RSS4FHyyq3UEr9A7hGa31X4ePbgEu11m5dG8XLLXbs2FG5AQtxARwuWJtuYGmKkZ9PGTmef+6Nh0VpWoa7uDzGybXVHcQG+KJUQUFBVKtWzdNhCD9z4sQJcnNzPR2GxxzLU3x33MjyFCNbsgw49LlfgNe2uuge66R7jJN2kS6Mcu0esEIP7KTO4tlsH/qkp0MpU/HyDo+XWyilFgNlDXF8Wmv9TWW8Z1XXt3i6psZXyHkqKL6/lYJZKnZnONmUamdLmp3dGQ6yHZpchybdlk39mDBqhRipFWKkXayZ9nGWcx7kFwjS09MBvKom2VudqSZZnJabm0tERAT16tXzdCgekwB0Lfw52+Hi9+N2/krJ50i2i6PZTk7lubDnZBMbEUqo2UDjCBOJ0SYSo83EhxnlrlYxgdzeqZgIgud+cE6/vzeepypNkrXWPS/yJQ4Bxb+16hZuE8JnKaVoHGmicaSJAbhPhVTwpVHfQ5EJIQSEmAx0r22le2338Q7y/STORkfGojLSwOkAo9dU+J4zXysQ+h1IUEo1VEpZgJuAuR6OSQghhBBClGQyocOjUOkpno7kgnhNkqyUul4pdRBIAr5VSi0s3F5bKfUdgNbaAYwAFgJbgM+11r5bES6EEEII4cf+XlDEF3lN37fW+ivgqzK2Hwb6FHv8HfBdFYYmhBBCCCEugI6phkr1zSTZa3qShRDCl02fPp2mTZvStWtX2rZty6xZs8p8Xk5ODn369MHpLH/Fhfz8fK699locjrJXVBRCCF/hiq6GwUd7kiVJFkKICrB582b+85//sGLFCmbOnFnuqnQfffQR/fv3x2gsfzlei8VC9+7d+fLLLysrXCGEqBK+XG4hSbIQQlSAjRs3Fk1fVKdOnXJ7imfPnu22aEe/fv1YsmQJAGPHjuWxxx4DoG/fvsyePbuSoxZCiMqlo3233MJrapKFEMKXbd68mWbNmqG1ZsqUKVxzzTWlnpOfn8/evXuJj48v2vbkk0/y0ksvceLECTZs2MAnn3wCQGJiIuvWrauy+IUQojK4Yqph9tGeZEmShRB+xfLVdCxfz6yw18sfOIT864ee8TkHDx7EZrNxww03YDab6dChA6+++irLly/npZdeonnz5txwww00adKEyMhIt2O7dOmC1ppJkyYxf/78ojIMo9GIxWIhMzOT8PDwCvt9hBCiKvnywD1JkoUQfiX/+qFnTWor2ubNm+nevTtz5sxx266UIjQ0lNzcXOrUqUNwcHCppY43bdrEsWPHiImJKZUM5+XlyQp5QgifpqNiUamnwOUCg29V+fpWtEII4YU2bdpEq1atSm1PTk7miy++4LnnnuPll18mKioKl8tVlCgfPXqUYcOG8fHHHxMaGsrixYuLjk1JSSE2Nhaz2Vxlv4cQQlQ4swWCQyArw9ORnDdJkoUQ4iJt3ryZli1bltpuKOw1iYqKIi8vD4AePXqwevVqsrOzue2223jxxRdp1qwZjz32GK+88krRscuXL+fqq6+uml9ACCEqkSsqFkPaKU+Hcd6k3EIIIS7S1KlTy9w+d+5cfvrpJ9LT0xk2bBgAd911F5MnT+aKK65g0aJFRc/t0qWL2+PZs2czZsyYSo1bCCGqgo6MRaWfAhp7OpTzIkmyEEJUkgEDBjBgwAC3be3ataNbt244nc5y50rOz8+nb9++NGnSpCrCFEKISqWjYlHSkyyEEOJsbrvttjPut1gsDB48uIqiEUKIyqWjYnwySZaaZCGEEEIIUWl8tSdZkmQhhBBCCFFpdKRvDtyTJFkIIYQQQlQaV1QsKi3F02GcN0mShRBCCCFEpdFRMYWzW/gWSZKFEEIIIUSlKapJ1trToZwXSZKFEEL4tTVr1rB8+XJPhyFE4LIGg8kM2VmejuS8SJIshBAXKSYmhq5du5KUlMSQIUPIzs6+oNdZvnw5v/7660XF0rp1a06d8t7bmoMGDSItLa3SXv+BBx5g69atRY83b97MtGnT6Ny5c6W9pxDi7ApKLnyrLlmSZCGEuEjBwcGsWLGCVatWYbFYmDZt2gW9zooVK/jtt98qOLrK43A4zvuY2bNnExUVVQnRFJg4cSLNmzcvepyYmMjkyZOxWq2V9p5CiLNzRcZiSD3p6TDOiyTJQoiAsm/fPoYNG0a/fv0YNmwY+/btq9DXT0pKYs+ePSxfvpx//etfRdsfe+wxZs2aBRT09r700ktcfvnlJCcns337dvbt28f06dOZPHkyXbt2ZeXKlezbt4/+/fuTnJzMgAEDOHDgQKn3S0lJ4frrr+eyyy7jgQceQBer+fvss8+48sor6dq1Kw899BBOp7PU8a+88go9evQgKSmJBx98sOj4vn378sQTTxT1kK9duxaAl19+meHDh9O7d2/uvvvuMmNMT0+nY8eO7NixA4A777yTmTNnFv3up06dYt++fXTq1Il7772XDh06MGzYMJYuXUrv3r1p37590futXbuWXr160a1bN66++uqi13Q6nYwePZqkpCSSk5OZMmVKUdx//PEHAF988QXJyckkJSXx7LPPFv3OderU4YUXXqBLly707NmT48ePX8ifWghxHnxxrmRJkoUQAWPfvn0MHDiQ2bNns2LFCmbPns3AgQMrLFF2OBwsWrSIxMTEsz43NjaWn3/+mTvuuIOJEycSHx/P0KFDue+++1ixYgXJyck8/vjjDB48mJUrVzJo0CCeeOKJUq8zbtw4LrvsMlavXk2/fv04ePAgANu2bePLL79k4cKFrFixAqPRyJw5c0odP3z4cJYsWcKqVavIyclhwYIFRftycnJYsWIFr732GiNGjCjavm3bNr7++ms++OCDMmOMjIzk1Vdf5b777mPOnDmkpaUxZMiQUu+9e/duRowYwe+//8727duZPXs2CxYs4IUXXmDChAkAJCQk8P3337N8+XKeeuopnn/+eQBmzJjB/v37Wb58OStXruSf//yn22sfOXKEMWPGMHfuXJYvX866deuYP38+ADabjY4dO/LLL7+QnJxclMALISqPjoqVcgshhPBWY8eOZc+ePW7b9uzZw9ixYy/qdXNycujatStXXHEFdevWPeuy0wD9+/cHoF27duzfv7/M5/z+++8MGjQIgJtuuonVq1eXes7KlSuLeqx79+5dVMqwbNky/vzzT3r06EHXrl1ZtmxZmRcDP//8M1dddRXJycksX77crZ73xhtvBKBLly5kZmYW1RJfe+21BAcHnzHGHj16kJiYyKOPPspbb71V5u8XHx9Py5YtMRgMNG/enO7du6OUomXLlkXnJCMjgyFDhpCUlMRTTz1VFN/SpUsZOnQoJpMJgOjoaLfXXrduHV26dCEuLg6TycSgQYNYuXIlULDs9zXXXHPW8y+EqDg60veWpjZ5OgAhhKgqR44cKXP70aNHL+p1/65JLs5kMuFyuYoe5+bmuu3/u0bWaDReUG3v2WitGTx4sFuZQckYcnNzefTRR1myZAl169bl5ZdfdnuOUsrt+X8/Dg0NPev7u1wutm/fTkhICGlpadSpU6fUc4rXCRsMhqLHSqmi0pAXX3yRbt26MWvWLPbt20e/fv3O+t5nYzabi36Xyjr/Qgh3OioWw97tng7jvEhPshAiYNSqVavM7TVr1qzw96pXrx5bt24lLy+PtLQ0li1bdtZjwsLCyMzMLHrcuXPnohKJzz//nKSkpFLHJCcnM3v2bAAWLVpU1NvbvXt3vvnmG06cOAFAampqqZrmvxPi2NhYsrKymDt3rtv+r776CoBVq1YRERFBZGRkqfcvL8ZJkybRtGlTpk6dyv3334/dbj/r71+WjIyMor/bxx9/XLS9R48eTJ8+vSjBTU1NdTuuQ4cO/PLLL5w6dQqn08mcOXPo0qXLBcUghLh4OioWg48tKCJJshAiYIwePZqGDRu6bWvYsCGjR4+u8PeqW7cu119/PUlJSQwdOpQ2bdqc9Zhrr72W+fPnFw3cGz9+PLNmzSI5OZnPPvuMcePGlTrmP//5DytXruSyyy5j3rx51K1bF4DmzZszevRorr/+epKTkxk4cGCpAWpRUVFFpQw33ngjl1xyidt+q9VKt27dGDVqFBMnTiwz5rJi3LFjBx9++CFjx44lOTmZ5ORkXn311XM9dW4efPBBnn/+ebp16+Y28PD222+nbt26dOnShS5duhRdKPytZs2ajBkzhv79+9O1a1fatWtH3759LygGIcTF88WlqZX2sdVPzkV6errHfqkdO3aQkJDgqbf3GXKezo2cp7NLT0/HarUSFBR0Ts/ft28fY8eO5ejRo9SsWZPRo0cTHx9fyVF6h9zc3HM+T3379mXs2LGlEudAkJubS15eXpk95+I0+X46N3KeCmVnEfrwP7FN+a7M3Z4+T5GRkarkNqlJFkIElPj4eKZOnerpMIQQIrAEh4LLCbnZEBTi6WjOiSTJQgghSvn22289HXVNjBMAAAaMSURBVIIQwp8ohY4sKLnQNX0jSZaaZCGEEEIIUel0lG9NAydJshDCpxkMBvLz8z0dhvAj+fn5GAzSPApR0XxthgsptxBC+LSwsDD27t2LPw5CrmgZGRlERER4Ogyvl5KSQoMGDTwdhhB+x+VjS1NLkiyE8GlKKRwOh8xEcA6OHz9OvXr1PB2G1zt+/HiphVSEEBfv75pkXyH3k4QQQgghRKWTmmQhhBBCCCFK0FGxKB+qSZbFRIQQQgghREArazER6UkWQgghhBCiBEmShRBCCCGEKMEvyy2EEEIIIYS4GNKTLIQQQgghRAmSJAshhBBCCFGCJMlCCOHnlFLXKKW2KaV2KqX+4+l4hBDCF0hNshBC+DGllBHYDvQCDgK/A4O11ps9GpgQQng56UmuAEqpekqpJUqpzUqpTUqpBz0dkzdQSgUppX5TSv1ZeF6eO8fj3lVKdQ/kc6qUmqaUOq6U2ujpWLzJhZwX+TzRGdiptd6ttc4HPgWu83BMXk8+N2VTSjVWSp1QSu1VSq1XSqUopXYppSI8HVtVkzbuwvhSziRJcsVwAI9orROBy4D7lVKJHo7JG+QBV2qt2wLtgGuUUpedw3GXATsJ7HM6A7jG00F4oRmc/3kJ9M9THeBAsccHC7eJMwv0z02ZtNa7gBXAbVrrdsAGYKDWOsOzkXmEtHEXxmdyJpOnA/AHWusjwJHCnzOVUluAOkqpPGA1YAPSgPpAKnBJIHyh6IJanqzCh+bC/7RSqjHlnBcKGu/tWutDwKHC1yk6p0BA3CLWWv+slGpQfNuZzlsgfJ7g/M8L8nkS5ZDPzUVpCfx9N6cFsM2DsXiMtHEXxpdyJulJrmCFDfglwK9yxV1QD6mUWg8cBxZprc92Xq4FFpR4jQYUntOqjN3byOepbPJ5OqtDQL1ij+sWbgto8rm5MEqpYCBIa52qlKoHnCws4wlI0sZdHG/PmaQn+RwppRYDNcvY9bTW+pvC54QBc4CHiv1R/fqK+2znRWvtBNoppaKAr5RSrbTWGyn/vPQGhhZ7/bLOqc87l89TOQL683SGQwP683QWvwMJSqmGFCTHNwE3ezYkryGfm/OXCGwp/LlFsZ8DkrRxF84XciZJks+R1rrnmfYrpcwU/LFnaa2/LNzm91fcZzsvxZ6XppRaQkHN1i7KOC9KqRAgSmt9GMo+p/7iXM9bcfJ5Klt55yWQPk9norV2KKVGAAsBIzBNa73Jw2F5nHxuLljxJCYHaK+Uaq613urBmDxO2rjz4ys5kyTJFUAppYAPgC1a6/8V2xXQV9xKqWqAvfDLI5iCKaheofzz0gNYUnhseec0kAX05+kM5PN0Flrr74DvPB2Hl5HPzQXQWv9fsZ+XA408GI5HSRt3YXwpZ5Ka5IrRBbgNuLJwSpz1Sqk+lHPF7akgPaAWsEQptYGCW76LtNbzKf+8FK/VKu+cBgSl1CfAKqCZUuqgUupO5PN0vudFPk/iTORzIy6WtHEXxmdyJllMRHgNpdQ64FKttd3TsQjfJ58ncSHkcyMqi3y2fI8kyUIIIYQQQpQg5RZCCCGEEEKUIEmyEEIIIYQQJUiSLIQQQgghRAmSJAshhBBCCFGCJMlCCCGEEEKUIEmyEEIIIYQQJUiSLIQQfkoppZVSNqXUixd4fE+lVJZSyqWUOu8lw4UQwpfJstRCCOHf2mqtd17IgVrrxUCYUmpvxYYkhBDeT3qShRBCCCGEKEGSZCGE8BFKqcZKqRSlVPvCx7WVUieUUlec4/ENCkswhiqlDiilUpVS9yilOimlNiil0pRSb1fqLyGEED5Cyi2EEMJHaK13KaWeAD5SSnUEpgMztdZLz/OlLgUSgMuBucACoCdgBv5QSs3WWi+ruMiFEML3SE+yEEL4EK31VGAn8CtQC3j6Al7mBa11rtb6B8AGfKK1Pq61PgQsBy6psICFEMJHSZIshBC+ZyrQCpiotc67gOOPFfs5p4zHYRcRmxBC+AVJkoUQwocopcKAN4APgDFKqRgPhySEEH5JkmQhhPAtbwJrtNZ3Ad8C73o4HiGE8EuSJAshhI9QSl0HXAPcW7hpFNBeKXWL56ISQgj/pLTWno5BCCFEJVBK5QJ5wFta62cu4PirgDmAFeijtV5SwSEKIYTXkiRZCCGEEEKIEqTcQgghhBBCiBIkSRZCCCGEEKIESZKFEEIIIYQoQZJkIYQQQgghSpAkWQghhBBCiBIkSRZCCCGEEKKE/wfKsZ0ioJ235QAAAABJRU5ErkJggg==\n",
        "metadata": {
         "needs_background": "light",
         "tags": []
        },
        "output_type": "display_data",
        "text/plain": "<Figure size 720x360 with 1 Axes>"
       },
       {
        "metadata": {
         "tags": []
        },
        "output_type": "display_data",
        "text/plain": "-0.841470984807897*x - 0.00701225820673247*(x - 1.0)**5 + 0.0225125960778392*(x - 1.0)**4 + 0.140245164134649*(x - 1.0)**3 - 0.27015115293407*(x - 1.0)**2 + 1.38177329067604"
       }
      ]
     }
    },
    "561b417fe7154852866f5377f4b25913": {
     "model_module": "@jupyter-widgets/controls",
     "model_name": "FloatSliderModel",
     "state": {
      "_dom_classes": [],
      "_model_module": "@jupyter-widgets/controls",
      "_model_module_version": "1.5.0",
      "_model_name": "FloatSliderModel",
      "_view_count": null,
      "_view_module": "@jupyter-widgets/controls",
      "_view_module_version": "1.5.0",
      "_view_name": "FloatSliderView",
      "continuous_update": true,
      "description": "xo",
      "description_tooltip": null,
      "disabled": false,
      "layout": "IPY_MODEL_159955b037124ae08d04739a13740e2b",
      "max": 3,
      "min": -3,
      "orientation": "horizontal",
      "readout": true,
      "readout_format": ".2f",
      "step": 0.2,
      "style": "IPY_MODEL_b8e0f0650c2f4a0e940e2ebcd21d87f0",
      "value": 1
     }
    },
    "63118cbe30214009ae41e84f1fd94c2a": {
     "model_module": "@jupyter-widgets/controls",
     "model_name": "SliderStyleModel",
     "state": {
      "_model_module": "@jupyter-widgets/controls",
      "_model_module_version": "1.5.0",
      "_model_name": "SliderStyleModel",
      "_view_count": null,
      "_view_module": "@jupyter-widgets/base",
      "_view_module_version": "1.2.0",
      "_view_name": "StyleView",
      "description_width": "",
      "handle_color": null
     }
    },
    "6d6169cd15b84a218b4f4ee752689e96": {
     "model_module": "@jupyter-widgets/base",
     "model_name": "LayoutModel",
     "state": {
      "_model_module": "@jupyter-widgets/base",
      "_model_module_version": "1.2.0",
      "_model_name": "LayoutModel",
      "_view_count": null,
      "_view_module": "@jupyter-widgets/base",
      "_view_module_version": "1.2.0",
      "_view_name": "LayoutView",
      "align_content": null,
      "align_items": null,
      "align_self": null,
      "border": null,
      "bottom": null,
      "display": null,
      "flex": null,
      "flex_flow": null,
      "grid_area": null,
      "grid_auto_columns": null,
      "grid_auto_flow": null,
      "grid_auto_rows": null,
      "grid_column": null,
      "grid_gap": null,
      "grid_row": null,
      "grid_template_areas": null,
      "grid_template_columns": null,
      "grid_template_rows": null,
      "height": null,
      "justify_content": null,
      "justify_items": null,
      "left": null,
      "margin": null,
      "max_height": null,
      "max_width": null,
      "min_height": null,
      "min_width": null,
      "object_fit": null,
      "object_position": null,
      "order": null,
      "overflow": null,
      "overflow_x": null,
      "overflow_y": null,
      "padding": null,
      "right": null,
      "top": null,
      "visibility": null,
      "width": null
     }
    },
    "855146f243d64372bc15b6aa222299bb": {
     "model_module": "@jupyter-widgets/controls",
     "model_name": "VBoxModel",
     "state": {
      "_dom_classes": [
       "widget-interact"
      ],
      "_model_module": "@jupyter-widgets/controls",
      "_model_module_version": "1.5.0",
      "_model_name": "VBoxModel",
      "_view_count": null,
      "_view_module": "@jupyter-widgets/controls",
      "_view_module_version": "1.5.0",
      "_view_name": "VBoxView",
      "box_style": "",
      "children": [
       "IPY_MODEL_16eed076fd944690ba0b0ec75b4cd23f",
       "IPY_MODEL_c61b6d76e0d9499385819cec7fb726e7",
       "IPY_MODEL_561b417fe7154852866f5377f4b25913",
       "IPY_MODEL_49fb7f3da3ce44e9830fda94a4721311"
      ],
      "layout": "IPY_MODEL_6d6169cd15b84a218b4f4ee752689e96"
     }
    },
    "9775e39cf99b41bfa1a2ebbcbb17fab0": {
     "model_module": "@jupyter-widgets/controls",
     "model_name": "DescriptionStyleModel",
     "state": {
      "_model_module": "@jupyter-widgets/controls",
      "_model_module_version": "1.5.0",
      "_model_name": "DescriptionStyleModel",
      "_view_count": null,
      "_view_module": "@jupyter-widgets/base",
      "_view_module_version": "1.2.0",
      "_view_name": "StyleView",
      "description_width": ""
     }
    },
    "a9c6ab57853c46a289985afeadb2c1cc": {
     "model_module": "@jupyter-widgets/base",
     "model_name": "LayoutModel",
     "state": {
      "_model_module": "@jupyter-widgets/base",
      "_model_module_version": "1.2.0",
      "_model_name": "LayoutModel",
      "_view_count": null,
      "_view_module": "@jupyter-widgets/base",
      "_view_module_version": "1.2.0",
      "_view_name": "LayoutView",
      "align_content": null,
      "align_items": null,
      "align_self": null,
      "border": null,
      "bottom": null,
      "display": null,
      "flex": null,
      "flex_flow": null,
      "grid_area": null,
      "grid_auto_columns": null,
      "grid_auto_flow": null,
      "grid_auto_rows": null,
      "grid_column": null,
      "grid_gap": null,
      "grid_row": null,
      "grid_template_areas": null,
      "grid_template_columns": null,
      "grid_template_rows": null,
      "height": null,
      "justify_content": null,
      "justify_items": null,
      "left": null,
      "margin": null,
      "max_height": null,
      "max_width": null,
      "min_height": null,
      "min_width": null,
      "object_fit": null,
      "object_position": null,
      "order": null,
      "overflow": null,
      "overflow_x": null,
      "overflow_y": null,
      "padding": null,
      "right": null,
      "top": null,
      "visibility": null,
      "width": null
     }
    },
    "b89c30af35d34c7e82c2eb1360a0da55": {
     "model_module": "@jupyter-widgets/base",
     "model_name": "LayoutModel",
     "state": {
      "_model_module": "@jupyter-widgets/base",
      "_model_module_version": "1.2.0",
      "_model_name": "LayoutModel",
      "_view_count": null,
      "_view_module": "@jupyter-widgets/base",
      "_view_module_version": "1.2.0",
      "_view_name": "LayoutView",
      "align_content": null,
      "align_items": null,
      "align_self": null,
      "border": null,
      "bottom": null,
      "display": null,
      "flex": null,
      "flex_flow": null,
      "grid_area": null,
      "grid_auto_columns": null,
      "grid_auto_flow": null,
      "grid_auto_rows": null,
      "grid_column": null,
      "grid_gap": null,
      "grid_row": null,
      "grid_template_areas": null,
      "grid_template_columns": null,
      "grid_template_rows": null,
      "height": null,
      "justify_content": null,
      "justify_items": null,
      "left": null,
      "margin": null,
      "max_height": null,
      "max_width": null,
      "min_height": null,
      "min_width": null,
      "object_fit": null,
      "object_position": null,
      "order": null,
      "overflow": null,
      "overflow_x": null,
      "overflow_y": null,
      "padding": null,
      "right": null,
      "top": null,
      "visibility": null,
      "width": null
     }
    },
    "b8e0f0650c2f4a0e940e2ebcd21d87f0": {
     "model_module": "@jupyter-widgets/controls",
     "model_name": "SliderStyleModel",
     "state": {
      "_model_module": "@jupyter-widgets/controls",
      "_model_module_version": "1.5.0",
      "_model_name": "SliderStyleModel",
      "_view_count": null,
      "_view_module": "@jupyter-widgets/base",
      "_view_module_version": "1.2.0",
      "_view_name": "StyleView",
      "description_width": "",
      "handle_color": null
     }
    },
    "baeccce61a034d639288a2a413055b39": {
     "model_module": "@jupyter-widgets/base",
     "model_name": "LayoutModel",
     "state": {
      "_model_module": "@jupyter-widgets/base",
      "_model_module_version": "1.2.0",
      "_model_name": "LayoutModel",
      "_view_count": null,
      "_view_module": "@jupyter-widgets/base",
      "_view_module_version": "1.2.0",
      "_view_name": "LayoutView",
      "align_content": null,
      "align_items": null,
      "align_self": null,
      "border": null,
      "bottom": null,
      "display": null,
      "flex": null,
      "flex_flow": null,
      "grid_area": null,
      "grid_auto_columns": null,
      "grid_auto_flow": null,
      "grid_auto_rows": null,
      "grid_column": null,
      "grid_gap": null,
      "grid_row": null,
      "grid_template_areas": null,
      "grid_template_columns": null,
      "grid_template_rows": null,
      "height": null,
      "justify_content": null,
      "justify_items": null,
      "left": null,
      "margin": null,
      "max_height": null,
      "max_width": null,
      "min_height": null,
      "min_width": null,
      "object_fit": null,
      "object_position": null,
      "order": null,
      "overflow": null,
      "overflow_x": null,
      "overflow_y": null,
      "padding": null,
      "right": null,
      "top": null,
      "visibility": null,
      "width": null
     }
    },
    "c61b6d76e0d9499385819cec7fb726e7": {
     "model_module": "@jupyter-widgets/controls",
     "model_name": "IntSliderModel",
     "state": {
      "_dom_classes": [],
      "_model_module": "@jupyter-widgets/controls",
      "_model_module_version": "1.5.0",
      "_model_name": "IntSliderModel",
      "_view_count": null,
      "_view_module": "@jupyter-widgets/controls",
      "_view_module_version": "1.5.0",
      "_view_name": "IntSliderView",
      "continuous_update": true,
      "description": "grado",
      "description_tooltip": null,
      "disabled": false,
      "layout": "IPY_MODEL_baeccce61a034d639288a2a413055b39",
      "max": 16,
      "min": 0,
      "orientation": "horizontal",
      "readout": true,
      "readout_format": "d",
      "step": 1,
      "style": "IPY_MODEL_63118cbe30214009ae41e84f1fd94c2a",
      "value": 5
     }
    }
   }
  }
 },
 "nbformat": 4,
 "nbformat_minor": 1
}
