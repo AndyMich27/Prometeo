{
 "cells": [
  {
   "cell_type": "markdown",
   "metadata": {},
   "source": [
    "# Límites\n",
    "## Proyecto PAPIME PE101019\n",
    "\n",
    "*   Autores: \n",
    "    - Ingrid Pamela Ruiz Puga\n",
    "    - Luis M. de la Cruz Salas\n",
    "*   Rev: mar sep  8 15:22:36 CDT 2020"
   ]
  },
  {
   "cell_type": "code",
   "execution_count": 1,
   "metadata": {},
   "outputs": [],
   "source": [
    "import os, sys\n",
    "sys.path.insert(0, os.path.abspath('../../Utils'))\n",
    "\n",
    "import numpy as np\n",
    "import matplotlib.pyplot as plt\n",
    "import gutils as vis\n",
    "%matplotlib inline"
   ]
  },
  {
   "cell_type": "markdown",
   "metadata": {},
   "source": [
    "# Emprendiendo con Chilaquiles 3.0\n",
    "\n",
    "Un profesor, que se convirtió en cliente de los estudiantes emprendedores con chilaquiles, se interesó en ver cómo avanzó el negocio. Los estudiantes compartieron con él profesor los modelos con los cuales ellos describieron sus ventas, durante el transcurso del semestre y en el periodo intersemestral:\n",
    "\n",
    "$ f(x) = \\left\\{\n",
    "\\begin{array}{l}\n",
    "      \\frac{30}{0.5 + e^{-(x-3.5)}} & x \\leq 12 \\\\\n",
    "      \\\\\n",
    "      e^{0.2 x} + 120 & x \\geq 12 \\\\\n",
    "\\end{array} \n",
    "\\right.$\n",
    "\n",
    "El profesor se dió cuenta de la inconsistencia de este modelo para $x = 12$, así que decidió resaltar esto en la siguiente visualización:"
   ]
  },
  {
   "cell_type": "code",
   "execution_count": 2,
   "metadata": {},
   "outputs": [
    {
     "data": {
      "application/vnd.jupyter.widget-view+json": {
       "model_id": "1f8cb3102bc1489ea00ee1af88ed65d4",
       "version_major": 2,
       "version_minor": 0
      },
      "text/plain": [
       "interactive(children=(IntSlider(value=0, description='Límite $^-$', max=12), IntSlider(value=20, description='…"
      ]
     },
     "metadata": {},
     "output_type": "display_data"
    },
    {
     "data": {
      "text/plain": [
       "<function __main__.limiteChilaquil(limite_izq, limite_der)>"
      ]
     },
     "metadata": {},
     "output_type": "display_data"
    }
   ],
   "source": [
    "# LINUX y MACOS\n",
    "%run \"./02_Limites_interactive.ipynb\"\n",
    "\n",
    "# WINDOWS\n",
    "#%run \"D:\\\\GitSites\\\\PAPIME_PE101019_Materiales\\\\01_Calculo\\\\07_SeriesDeTaylor_interactive.ipynb\""
   ]
  },
  {
   "cell_type": "markdown",
   "metadata": {},
   "source": [
    "Observamos que cuando movemos el valor del límite izquierdo, desde 0 hasta 12, el valor de la función (línea azul) tiende a 60. Y si movemos el valor del límite derecho desde 20 hasta 12, el valor de la función (línea naranja) tiende a 131."
   ]
  },
  {
   "cell_type": "markdown",
   "metadata": {
    "colab_type": "text",
    "id": "3Vz1Tf48Csqk"
   },
   "source": [
    "## Tránsito vehícular exponencial\n",
    "\n",
    "Supongamos que el crecimiento del tránsito de vehículos en la Ciudad del Carmen se comporta igual que la función  $e^x$  definida en los reales positivos  $\\mathbb{R}^+$, donde $x$ es la medida del tiempo. Lo anterior quiere decir que los automóviles que circulan diario en Ciudad del Carmen ha aumentado exponencialmente año con año.\n",
    "\n",
    "El motivo del gran crecimiento de parque vehicular en el octavo año se debe a la incorporación de una nueva marca de autos al mercado, la cual ha tenido gran éxito visualizado en una enorme número de ventas en los ultimos dos años.\n",
    "\n",
    "El gobierno esta preocupado debido a la sobrepoblación vehicular y le gustaria conocer el crecimiento del parque vehicular para el siguiente año, de este modo podría establecer planes para evitar el congestionamiento en grandes avenidas.\n",
    "\n",
    "Se encomendo la tarea de conocer el número de automoviles aproximados 3 años después la aparición de la nueva marca."
   ]
  },
  {
   "cell_type": "markdown",
   "metadata": {
    "colab_type": "text",
    "id": "E5M0r-HDCzM4"
   },
   "source": [
    "## Introducción\n",
    "\n",
    "\n",
    "En matemática, el límite es un concepto que describe la tendencia de una sucesión o una función, a medida que los parámetros de esa sucesión o función se acercan a determinado valor. El límite de una función es un concepto fundamental del cálculo diferencial.\n",
    "El matemático francés Augustine Louis Cauchy (1789-1857) fue el primero en desarrollar una definición rigurosa de límite, aunque ya era usado este concepto desde los antigüos griegos para el cálculo de áreas. Cauchy definió el concepto de límite de la siguiente manera:\n",
    "\n",
    "*Cuando los valores atribuidos sucesivamente a una variable se aproximan indefinidamente a un valor fijo para llegar por último a diferir de ese valor en una cantidad tan pequeña como se desee, entonces dicho valor fijo recibe el nombre de límite de todos los demas valores.*\n",
    "\n",
    "  "
   ]
  },
  {
   "cell_type": "markdown",
   "metadata": {
    "colab_type": "text",
    "id": "9171B8VIDBk-"
   },
   "source": [
    "## Teoría\n",
    "\n",
    "### Noción y definición de límite\n",
    "<p align=\"justify\">El concepto de límite puede ser complicado en algunas ocasiones por lo que comenzaremos con la siguiente noción de límite. Una función puede no estar definida o llegar a mostrar un comportamiento extraño para cierto punto del rango. Por lo que para comprender mejor este tipo de anomalías de algunas funciones introducimos el concepto de límite de una función en cierto punto.</p>\n",
    "<p> El límite de una función en un punto es obtener el valor al que se va aproximando esa función cuando x tiende a un determinado punto, pero sin llegar a ese punto.</p>\n",
    "<p> Por ejemplo, para determinar el límite de y = f(x) en cierto punto x = a ,  debemos prescindir del valor que tenga f(a), incluso puede que f(a) ni siquiera esté definido, y fijarnos en los valores de f(a) para <em>puntos extremadamente cercanos</em> a x = a. </p>\n",
    "\n",
    "![limite](https://www.fca.unl.edu.ar/Limite/Image34.gif)\n",
    "\n",
    "<p> En el ejemplo de la figura anterior se puede observar que para los valores de los valores de <em>x</em> muy proximos al valor <em>x = a </em> el límite de y = f(x) es <em>L.</em> Siguiendo con la noción anterior la sintaxis matematica del limite sería: </p>\n",
    "\n",
    "$$ \\lim_{x \\to a}f(x)=L $$\n",
    "\n",
    "### Solución de límites\n",
    "\n",
    "Existen diversos tipos de límites para los cuales se determidan métodos de solución. Para las funciones con diminio en todo ${\\rm I\\!R}$ y continuas, se deben calcular los límites sustituyendo el valor al que tiende x.\n",
    "\n",
    "**Ejemplo 1:** La función $f(x) = x^2 + 2x +1$ debe valuarse en el punto para en cual tiende x en el límite. Visualicemos la gráfica de la función.\n"
   ]
  },
  {
   "cell_type": "code",
   "execution_count": null,
   "metadata": {
    "cellView": "both",
    "colab": {
     "base_uri": "https://localhost:8080/",
     "height": 73,
     "resources": {
      "http://localhost:8080/nbextensions/google.colab/files.js": {
       "data": "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",
       "headers": [
        [
         "content-type",
         "application/javascript"
        ]
       ],
       "ok": true,
       "status": 200,
       "status_text": ""
      }
     }
    },
    "colab_type": "code",
    "id": "TD-6ekqeHQIG",
    "outputId": "fbcaf195-1ae0-4ba7-9fd8-551b6b58542b"
   },
   "outputs": [],
   "source": [
    "#from google.colab import files\n",
    "#files.upload()\n",
    "# choose the file on your computer to upload it then\n",
    "import gutils"
   ]
  },
  {
   "cell_type": "code",
   "execution_count": null,
   "metadata": {
    "colab": {},
    "colab_type": "code",
    "id": "LF-HeJzFJ1b4"
   },
   "outputs": [],
   "source": [
    "from sympy import limit, oo, Symbol, cos, sin, tan, exp, log, csc, sec\n",
    "from sympy.utilities.lambdify import lambdify\n",
    "import math\n",
    "import matplotlib.pyplot as plt\n",
    "import numpy as np\n",
    "import  seaborn  as  sns \n",
    "import gutils as vis\n",
    "from ipywidgets import interact, interactive, fixed\n",
    "import ipywidgets as widgets\n",
    "%matplotlib inline"
   ]
  },
  {
   "cell_type": "code",
   "execution_count": null,
   "metadata": {
    "colab": {
     "base_uri": "https://localhost:8080/",
     "height": 369
    },
    "colab_type": "code",
    "id": "RkqQ2NzBVFAb",
    "outputId": "aa3b22a1-a220-4674-8c5f-d73f9d5b7353"
   },
   "outputs": [],
   "source": [
    "def f(x):\n",
    "    return x**2 + 2*x + 1\n",
    "\n",
    "x = np.array([1, 1.5, 1.9, 1.95, 1.99, 1.999, 2.001, 2.05, 2.1, 2.2, 2.5, 3 ])\n",
    "y = f(x)\n",
    "x = np.linspace(-2, 4, num=30)\n",
    "\n",
    "par = [{'title':'Grafico de $f(x)=x^2 + 2x + 1$', \n",
    "        'xlabel':'$x$',\n",
    "        'ylabel':'$y=f(x)$',\n",
    "       'ylim':(-2,25)}\n",
    "      ]\n",
    "\n",
    "graf = vis.planoCartesiano(par=par)\n",
    "graf.plot(x=x, y=f(x))\n",
    "graf.scatter(x=-1, y=0, par={'label':'Límite cuando x tiende a 2','color':'red', 'zorder':10})\n",
    "graf.legend()\n",
    "graf.show()"
   ]
  },
  {
   "cell_type": "markdown",
   "metadata": {
    "colab_type": "text",
    "id": "Ir-JIPTAVFAi"
   },
   "source": [
    "Por lo que para encontrar el límite de dicha función cuando x tiende a -1 sería:\n",
    "\n",
    "$$\\lim_{x \\to -1} x^2 + 2x +1 = (-1)^2 + 2(-1) + 1 = 0 $$\n",
    "\n",
    "Comprobando en Python:"
   ]
  },
  {
   "cell_type": "code",
   "execution_count": null,
   "metadata": {
    "colab": {
     "base_uri": "https://localhost:8080/",
     "height": 35
    },
    "colab_type": "code",
    "id": "Ly2FPDnMHuid",
    "outputId": "7ac78b85-7f2f-4c92-95d2-7095b567a72a"
   },
   "outputs": [],
   "source": [
    "x = Symbol('x') \n",
    "y=x*x + 2*x +1\n",
    "limit(y, x, -1)"
   ]
  },
  {
   "cell_type": "markdown",
   "metadata": {
    "colab_type": "text",
    "id": "nmFDu0VHVFA0"
   },
   "source": [
    "### Propiedades de los límites\n",
    "Algunas propiedades matemáticas de los límites pueden facilitar en algunos casos los cálculos en funciones más complejas. Considerando dos funciones definidas en un mismo intervalo.\n",
    "* **Unicidad del límite:** El límite de una función será único en caso de su existencia.\\\n",
    "* **Límite de una constante:** El limite de una constante *k* será igual a la constante *k*.\n",
    "$$\\lim_{x \\to a} k = k $$ \\\n",
    "* **Suma y resta \n",
    "de límites:** El límite de la suma será ña suma de los límites.\n",
    "$$\\lim_{x \\to a} [f(x) \\pm g(x) ] = \\lim_{x \\to a} f(x) \\pm \\lim_{x \\to a} g(x) $$ \\\n",
    "* **Producto de límites:** El límite del producto es el producto de los límites\n",
    "$$\\lim_{x \\to a} [f(x) \\cdot g(x) ] = \\lim_{x \\to a} f(x) \\cdot \\lim_{x \\to a} g(x) $$ \\\n",
    "* **Factor del límite:** El límite del producto de una constante por una función será la constante por el límite de la función.\n",
    "$$\\lim_{x \\to a} [k \\cdot f(x) ] = k \\cdot \\lim_{x \\to a} f(x) $$ \\\n",
    "* **Cociente de límites:**  El cociente de los límites de dos funciones será el límite del cociente de dichas funciones.\n",
    "$$ \\frac{\\lim_{x \\to a} f(x)}{\\lim_{x \\to a} g(x)} =  \\lim_{x \\to a} \\frac{f(x)}{g(x)} $$ \\\n",
    "* **Potencia del límite:** El límite de una función potencial es la potencia del límite de la base elevado al exponente.\n",
    "$$ \\lim_{x \\to a} [f(x)^k]=[\\lim_{x \\to a} f(x)]^k $$ \\\n",
    "* **Exponencial de un límite:** El límite de una función exponencial es la potencia de la base elevada al límite de la función exponente.\n",
    "$$ \\lim_{x \\to a} k^{f(x)}=k^{\\lim_{x \\to a} f(x)} $$ \\\n",
    "* **Raíz de un límite**: El límite de una raíz, es la raíz del límite.\n",
    "$$ \\lim_{x \\to a} \\sqrt[n]{f(x)}= \\sqrt[n]{\\lim_{x \\to a} f(x)} $$ \\\n",
    "* **Logarítmo de un límite:** El límite del logaritmo es el logaritmo del límite.\n",
    "$$ \\lim_{x \\to a} log_k f(x)= log_k \\lim_{x \\to a} f(x) $$ \\"
   ]
  },
  {
   "cell_type": "markdown",
   "metadata": {
    "colab_type": "text",
    "id": "tW2s1goQVFA1"
   },
   "source": [
    "**Ejemplo 1:** Calcular el limite de g(x)$\\cdotp$f(x) cuando $x \\longrightarrow 1$ si:\n",
    "\n",
    "$g(x) = x - 1 $ y   $f(x) = x + 1 $\n",
    "\n",
    "Buscamos $$ \\lim_{x \\to 1} f(x)\\cdotp g(x) = \\lim_{x \\to 1} f(x) \\cdotp \\lim_{x \\to 1} g(x) $$ \n",
    "\n",
    "$$ \\lim_{x \\to 1}  (x + 1) \\cdotp (x - 1) = \\lim_{x \\to 1} (x + 1) \\cdotp \\lim_{x \\to 1} (x - 1) $$ \n",
    "\n",
    "$$ \\Longrightarrow \\lim_{x \\to 1} (x + 1) \\cdotp \\lim_{x \\to 1} (x - 1) = (1 + 1)\\cdotp (1 - 1) = 0 $$ \n",
    "Verificando en python:\n"
   ]
  },
  {
   "cell_type": "code",
   "execution_count": null,
   "metadata": {
    "colab": {
     "base_uri": "https://localhost:8080/",
     "height": 35
    },
    "colab_type": "code",
    "id": "iwx_pTYSVFA1",
    "outputId": "3d2cb48f-b668-4cf2-fa33-e0a7b07d6bee"
   },
   "outputs": [],
   "source": [
    "x = Symbol('x') \n",
    "f=x+1\n",
    "g=x-1\n",
    "limit(f*g, x, 1)"
   ]
  },
  {
   "cell_type": "markdown",
   "metadata": {
    "colab_type": "text",
    "id": "arEUN2gBVFA5"
   },
   "source": [
    "**Ejemplo 2:** Calcular el limite de f(x) cuando $x \\longrightarrow 4$ si:\n",
    "\n",
    "$f(x) = \\sqrt{2x + 1} $\n",
    "\n",
    "Buscamos $$ \\lim_{x \\to a} \\sqrt{f(x)} = \\sqrt{\\lim_{x \\to a} f(x)}$$ \n",
    "\n",
    "$$ \\lim_{x \\to 4}  (2x + 1) = 9 $$ \n",
    "\n",
    "$$ \\Longrightarrow \\lim_{x \\to 4}  \\sqrt{f(x)} = \\sqrt{9} = 3 $$ \n",
    "Verificando en python:\n"
   ]
  },
  {
   "cell_type": "code",
   "execution_count": null,
   "metadata": {
    "colab": {
     "base_uri": "https://localhost:8080/",
     "height": 35
    },
    "colab_type": "code",
    "id": "QjsbwCUdVFA5",
    "outputId": "965b12f3-3e63-44ef-a3cd-1d2b04a3cd10"
   },
   "outputs": [],
   "source": [
    "x = Symbol('x') \n",
    "f= 2*x +1\n",
    "math.sqrt(limit(f, x, 4))"
   ]
  },
  {
   "cell_type": "markdown",
   "metadata": {
    "colab_type": "text",
    "id": "ifNgeErMVFA8"
   },
   "source": [
    "**Ejemplo 3:** Calcular el limite de f(x) cuando $x \\longrightarrow 2$ si:\n",
    "\n",
    "$f(x) = (x + 1)^2 $\n",
    "\n",
    "Buscamos $$ \\lim_{x \\to 2} (x + 1)^2 =(\\lim_{x \\to a} (x + 1) )^2$$ \n",
    "\n",
    "$$ \\lim_{x \\to 2}  (x + 1) = 3 $$ \n",
    "\n",
    "$$ \\Longrightarrow \\lim_{x \\to 2}  (x + 1)^2 = 3^2 =9$$ \n",
    "Verificando en python:\n"
   ]
  },
  {
   "cell_type": "code",
   "execution_count": null,
   "metadata": {
    "colab": {},
    "colab_type": "code",
    "id": "WS3KXOz1VFA9",
    "outputId": "a7f9114d-c350-4fee-c9d3-a9460fae2c48"
   },
   "outputs": [],
   "source": [
    "x = Symbol('x') \n",
    "f= (x +1)**2\n",
    "limit(f, x, 2)"
   ]
  },
  {
   "cell_type": "markdown",
   "metadata": {
    "colab_type": "text",
    "id": "8Yhg5YX2VFBA"
   },
   "source": [
    "### Tipos de límites\n",
    "Existen diversos tipos de límites según el valor *x* al que tiendan y el valor del número al que recae su límite.\n",
    "\n",
    "#### Límites laterales\n",
    "Algunas funciones poseen un discontinuidad en algun punto *x*, la gráfica se ve representada por un salto en dicho punto. Como se ve en la siguiente figura.\n",
    "\n",
    "![limite](https://upload.wikimedia.org/wikipedia/commons/thumb/8/8f/Funci%C3%B3n_xy_discontinua_11e.svg/200px-Funci%C3%B3n_xy_discontinua_11e.svg.png)\n",
    "\n",
    "El valor del límite dependerá del lado por el cual se acerca al valor *a*, es decir, si nos acercamos del lado izquierdo obtendremos un valor distinto a si nos acercamos del lado derecho debido a la discontinuidad.\n",
    "\n",
    "#### Límites que tienden al infinito\n",
    "Un límite al infinito de una función *y* es aquel en el cual los valores tienden a infinito, es decir *x* se hace tan grande en los positivos como en los negativos. En este caso la manera de resolverlo resulta complicado, debido a que al evaluar una función en infinito el resultado es una función indefinida. Apesar de eso es posible conocer el valor del límite de la función cuando los valores tienden a infinito.\n",
    "\n",
    "**Ejemplo :** para la función $f(x)= \\frac{1}{x}$ queremos obtener el límite.\n",
    "$$\\lim_{x \\to \\infty} \\frac{1}{x} $$\n",
    "\n"
   ]
  },
  {
   "cell_type": "code",
   "execution_count": null,
   "metadata": {
    "colab": {
     "base_uri": "https://localhost:8080/",
     "height": 369
    },
    "colab_type": "code",
    "id": "1HBsIy67VFBG",
    "outputId": "46ad39f6-ec4a-4b8d-c8bb-5947e6cf3607"
   },
   "outputs": [],
   "source": [
    "def f(x):\n",
    "    return 1/x\n",
    "\n",
    "x = np.linspace(0.1, 30, num=60)\n",
    "y = f(x)\n",
    "\n",
    "par = [{'title':r'Gráfico de $f(x)=\\frac{1}{x}$', \n",
    "        'xlabel':'$x$',\n",
    "        'ylabel':'$y=f(x)$',\n",
    "       'ylim':(0,10)}\n",
    "      ]\n",
    "\n",
    "graf = vis.planoCartesiano(par=par)\n",
    "graf.plot(x=x, y=f(x))\n",
    "graf.show()"
   ]
  },
  {
   "cell_type": "markdown",
   "metadata": {
    "colab_type": "text",
    "id": "TnZhf0RIVFBJ"
   },
   "source": [
    "Como es posible observar en la gráfica de la función $f(x)=\\frac{1}{x}$ mientras más crece el valor de su límite se acerca al valor 0.\n",
    "Comprobando en python:"
   ]
  },
  {
   "cell_type": "code",
   "execution_count": null,
   "metadata": {
    "colab": {},
    "colab_type": "code",
    "id": "M_Nw9dpgVFBJ",
    "outputId": "aa1a8bf0-b08e-4b4d-c49c-d3863dbdaa0a"
   },
   "outputs": [],
   "source": [
    "x = Symbol('x') \n",
    "y=1/x \n",
    "limit(y, x, oo)"
   ]
  },
  {
   "cell_type": "markdown",
   "metadata": {
    "colab_type": "text",
    "id": "-rfKbkftVFBf"
   },
   "source": [
    "### Límites infinitos\n",
    "Un límite infinito es aquel que mientras más se acerque al punto *x=a* el valor del límite será $\\pm \\infty$ por lo que el valor de la función en dicho punto será infinito.\n",
    "\n",
    "**Ejemplo 1:** Para la función $f(x)= \\frac{1}{x^2} + 1$ buscaremos su límite cuando x tiende a cero, es decir;\n",
    "$$\\lim_{x \\to 0} \\frac{1}{x^2}+1 $$\n"
   ]
  },
  {
   "cell_type": "code",
   "execution_count": null,
   "metadata": {
    "colab": {
     "base_uri": "https://localhost:8080/",
     "height": 369
    },
    "colab_type": "code",
    "id": "YGEquY38VFBf",
    "outputId": "a320639c-cce7-49c7-e180-c0089fea7c87"
   },
   "outputs": [],
   "source": [
    "def f(x):\n",
    "    return (1+(1/x**2))\n",
    "\n",
    "x = np.linspace(-5, 5, num=50)\n",
    "y = f(x)\n",
    "\n",
    "par = [{'title':r\"Grafico de $f(x)= \\frac{1}{x^2}+1$\", \n",
    "        'xlabel':'$x$',\n",
    "        'ylabel':'$y=f(x)$',\n",
    "       'ylim':(-4,100)}\n",
    "      ]\n",
    "\n",
    "graf = vis.planoCartesiano(par=par)\n",
    "graf.plot(x=x, y=f(x))\n",
    "graf.show()\n"
   ]
  },
  {
   "cell_type": "markdown",
   "metadata": {
    "colab_type": "text",
    "id": "6fdHwzkuVFBi"
   },
   "source": [
    "En la gráfica anterior, es posible observar que mientras más se acerca la función al punto *x=0* el valor del límite será infinito.\n",
    "\n",
    "Comprobando con Python..."
   ]
  },
  {
   "cell_type": "code",
   "execution_count": null,
   "metadata": {
    "colab": {},
    "colab_type": "code",
    "id": "ejzkX86CVFBi",
    "outputId": "ecbfe6a9-21c2-4418-fffc-47502ed7d2a2"
   },
   "outputs": [],
   "source": [
    "x = Symbol('x') \n",
    "y=1+(1/x**2) \n",
    "limit(y, x, 0)"
   ]
  },
  {
   "cell_type": "markdown",
   "metadata": {
    "colab_type": "text",
    "id": "tSXrzRHOFMck"
   },
   "source": [
    "## Ejercicios\n",
    "\n",
    "1.   Encontrar el límite de la función $x^2$ cuando x tiende a 4 sería:\n",
    "**Solución**\n",
    "$$\\lim_{x \\to 4} x^2 = 4^2 =16 $$\n",
    "\n",
    "Comprobando en Python:\n",
    "\n",
    "\n"
   ]
  },
  {
   "cell_type": "code",
   "execution_count": null,
   "metadata": {
    "colab": {
     "base_uri": "https://localhost:8080/",
     "height": 35
    },
    "colab_type": "code",
    "id": "xOtoNUCtFs0H",
    "outputId": "87ac4bf2-f27a-45cb-dddb-a7a9098bcbb4"
   },
   "outputs": [],
   "source": [
    "x = Symbol('x') \n",
    "y=x*x\n",
    "limit(y, x, 4)"
   ]
  },
  {
   "cell_type": "markdown",
   "metadata": {
    "colab_type": "text",
    "id": "u--N_kD_VFAq"
   },
   "source": [
    "2.   Encontrar el límite de la función cuando x tiende a 3:\n",
    "\n",
    "$$\\lim_{x \\to 4} x^2 + 8x + 31 $$\n",
    "**Solución**\n",
    "$$\\lim_{x \\to 4} x^2 + 8x + 31 = 3^2 + 8 \\cdot 3 + 31 =64  $$\n",
    "\n",
    "\n",
    "Comprobando en Python:"
   ]
  },
  {
   "cell_type": "code",
   "execution_count": null,
   "metadata": {
    "colab": {},
    "colab_type": "code",
    "id": "ayUbzG0jVFAr",
    "outputId": "d37441f1-abb1-470f-a1ee-daebc450f0c4"
   },
   "outputs": [],
   "source": [
    "x = Symbol('x') \n",
    "y=x*x + 8*x + 31\n",
    "limit(y, x, 3)"
   ]
  },
  {
   "cell_type": "markdown",
   "metadata": {
    "colab_type": "text",
    "id": "h73lGIEgVFAu"
   },
   "source": [
    "3.  Encontrar el límite de la función cuando x tiende a 2:\n",
    "\n",
    "$$\\lim_{x \\to 2} x^2 - x + 2  $$\n",
    "\n",
    "**Solución**\n",
    "$$\\lim_{x \\to 2} x^2 - x + 2 =  2^2 - 2 + 2 =4 $$\n",
    "\n",
    "Comprobando en Python y visualizando gráfica:"
   ]
  },
  {
   "cell_type": "code",
   "execution_count": null,
   "metadata": {
    "colab": {
     "base_uri": "https://localhost:8080/",
     "height": 35
    },
    "colab_type": "code",
    "id": "0KiI4loOVFAj",
    "outputId": "4682e169-c594-4021-ceda-41b933ac0bf0"
   },
   "outputs": [],
   "source": [
    "x = Symbol('x') \n",
    "y=x*x + 2*x +1\n",
    "limit(y, x, -1)"
   ]
  },
  {
   "cell_type": "code",
   "execution_count": null,
   "metadata": {
    "colab": {
     "base_uri": "https://localhost:8080/",
     "height": 369
    },
    "colab_type": "code",
    "id": "xOKSjtX6VFAv",
    "outputId": "380b3708-cd27-491c-9fbb-0f25cb80c491"
   },
   "outputs": [],
   "source": [
    "def f(x):\n",
    "    return x**2 - x + 2\n",
    "\n",
    "x = np.array([1, 1.5, 1.9, 1.95, 1.99, 1.999, 2.001, 2.05, 2.1, 2.2, 2.5, 3 ])\n",
    "y = f(x)\n",
    "x = np.linspace(-2, 4, num=30)\n",
    "\n",
    "par = [{'title':r\"Gráfico de $f(x)=x^2 -x + 2$\", \n",
    "        'xlabel':'$x$',\n",
    "        'ylabel':'$y=f(x)$',\n",
    "       'ylim':(-2,14)}\n",
    "      ]\n",
    "\n",
    "graf = vis.planoCartesiano(par=par)\n",
    "graf.plot(x=x, y=f(x))\n",
    "graf.scatter(x=2, y=4, par={'label':'Límite cuando x tiende a 2','color':'red', 'zorder':10})\n",
    "graf.legend()\n",
    "graf.show()"
   ]
  },
  {
   "cell_type": "markdown",
   "metadata": {
    "colab_type": "text",
    "id": "h-RRRSaFVFBM"
   },
   "source": [
    "4.  Para la función $f(x)= x^{\\frac{1}{x}}$ queremos obtener el límite.\n",
    "$$\\lim_{x \\to \\infty} x^{\\frac{1}{x}} $$\n",
    "\n",
    "**Solución**\n",
    "\n",
    "Observamos su gráfica...\n",
    "\n"
   ]
  },
  {
   "cell_type": "code",
   "execution_count": null,
   "metadata": {
    "colab": {
     "base_uri": "https://localhost:8080/",
     "height": 369
    },
    "colab_type": "code",
    "id": "r_f73a69VFBO",
    "outputId": "ff571a09-67c5-4826-fad0-b9cddd11269e"
   },
   "outputs": [],
   "source": [
    "def f(x):\n",
    "    return x**(1/x)\n",
    "\n",
    "x = np.linspace(0.4, 100, num=100)\n",
    "\n",
    "par = [{'title':r\"Grafico de $f(x)=x^{\\frac{1}{x}}$\", \n",
    "        'xlabel':'$x$',\n",
    "        'ylabel':'$y=f(x)$',\n",
    "       'ylim':(0,1.5)}\n",
    "      ]\n",
    "\n",
    "graf = vis.planoCartesiano(par=par)\n",
    "graf.plot(x=x, y=f(x))\n",
    "\n",
    "graf.show()"
   ]
  },
  {
   "cell_type": "markdown",
   "metadata": {
    "colab_type": "text",
    "id": "iZwF8VtCVFBR"
   },
   "source": [
    "Como es posible observar en la gráfica de la función $f(x)= x^{\\frac{1}{x}}$ mientras más crece el valor de su límite se acerca al valor 1.\n",
    "\n",
    "Comprobando en python:"
   ]
  },
  {
   "cell_type": "code",
   "execution_count": null,
   "metadata": {
    "colab": {
     "base_uri": "https://localhost:8080/",
     "height": 35
    },
    "colab_type": "code",
    "id": "VTp9-B5EVFBS",
    "outputId": "9854caa3-9319-484c-be47-3938736aaa9f"
   },
   "outputs": [],
   "source": [
    "x = Symbol('x') \n",
    "y=x**(1/x) \n",
    "limit(y, x, oo)"
   ]
  },
  {
   "cell_type": "markdown",
   "metadata": {
    "colab_type": "text",
    "id": "g11bXxG1Rp6E"
   },
   "source": [
    "5.  Para la función $f(x)= \\left( 1+\\frac{1}{x} \\right)^x$ queremos obtener el límite.\n",
    "$$\\lim_{x \\to \\infty} \\left( 1+\\frac{1}{x} \\right)^x $$\n",
    "\n",
    "**Solución**\n",
    "\n",
    "Observamos su gráfica...\n",
    "\n",
    "\n"
   ]
  },
  {
   "cell_type": "code",
   "execution_count": null,
   "metadata": {
    "colab": {
     "base_uri": "https://localhost:8080/",
     "height": 369
    },
    "colab_type": "code",
    "id": "nYYLM2nkSvjF",
    "outputId": "f1d3d39f-3f55-421f-9625-a8c567931b9b"
   },
   "outputs": [],
   "source": [
    "def f(x):\n",
    "    return (1+(1/x))**x\n",
    "\n",
    "def g(x):\n",
    "    return x*0 + math.e\n",
    "\n",
    "x = np.linspace(0.1, 40, num=100)\n",
    "y = f(x)\n",
    "z = g(x)\n",
    "\n",
    "par = [{'title':r\"Gráfico de $f(x)=\\left( 1+\\frac{1}{x} \\right)^x$\", \n",
    "        'xlabel':'$x$',\n",
    "        'ylabel':'$y=f(x)$',\n",
    "       'ylim':(1,3)}\n",
    "      ]\n",
    "\n",
    "graf = vis.planoCartesiano(par=par)\n",
    "graf.plot(x=x, y=f(x), par={'label':r\"Función$\\left( 1+\\frac{1}{x} \\right)^x$\"})\n",
    "graf.plot(x=x, y=g(x),par={'color':'C1'})\n",
    "graf.scatter(x=30, y=2.7182, par={'label':\"Número de Euler\",'color':'C5', 'zorder':10})\n",
    "graf.legend()\n",
    "graf.show()"
   ]
  },
  {
   "cell_type": "markdown",
   "metadata": {
    "colab_type": "text",
    "id": "AYVD8PoAVFBc"
   },
   "source": [
    "Es posible observar que el límite de esta función cuando x tiende a infinito es el número de Euler.\n",
    "\n",
    "Comprobando con Python:"
   ]
  },
  {
   "cell_type": "code",
   "execution_count": null,
   "metadata": {
    "colab": {},
    "colab_type": "code",
    "id": "kj19dUGeVFBc",
    "outputId": "6a61f25d-365f-4143-c15c-68e3844ab85a"
   },
   "outputs": [],
   "source": [
    "x = Symbol('x') \n",
    "y=(1+(1/x))**x \n",
    "limit(y, x, oo)"
   ]
  },
  {
   "cell_type": "markdown",
   "metadata": {
    "colab_type": "text",
    "id": "2uv8hd_DWXVR"
   },
   "source": [
    "## Herramientas interactivas"
   ]
  },
  {
   "cell_type": "markdown",
   "metadata": {
    "colab_type": "text",
    "id": "OyWuJ8XNtcf7"
   },
   "source": [
    "Para observar los límites en algunas funciones trigonométricas, haremos uso de la siguiente gráfica interactiva. Con la cual será posible cambiar el punto al cual tiende el límite de la función."
   ]
  },
  {
   "cell_type": "code",
   "execution_count": null,
   "metadata": {
    "colab": {},
    "colab_type": "code",
    "id": "ePsP3Lz2iEXV"
   },
   "outputs": [],
   "source": [
    "def limite(función, a):\n",
    "    x = Symbol('x') \n",
    "    func = función\n",
    "    b=limit(func, x, a)\n",
    "    evalfunc = lambdify(t, func, modules=['numpy'])\n",
    "    \n",
    "    par = [{'title':func, \n",
    "        'xlabel':'$x$',\n",
    "        'ylabel':'$y=f(x)$',\n",
    "       'ylim':(-2,10)}\n",
    "      ]\n",
    "\n",
    "    m = np.linspace(0.1, 10, num=100)\n",
    "    graf = vis.planoCartesiano(par=par)\n",
    "    graf.plot(x=m, y=evalfunc(m), par={'label':func})\n",
    "    graf.scatter(x=a, y=b, par={'label':\"Limite\",'color':'C5', 'zorder':10})\n",
    "    graf.legend()\n",
    "    graf.show()\n",
    "    \n",
    "    return b"
   ]
  },
  {
   "cell_type": "code",
   "execution_count": null,
   "metadata": {
    "colab": {
     "base_uri": "https://localhost:8080/",
     "height": 468,
     "referenced_widgets": [
      "9dbacfadc1104aa58c7eebba52a4dc72",
      "b8a1f59873574a5cacee486d43bf8750",
      "c5a745a7354a445fa52865b5c6f32335",
      "1afd99f5913c44fa9b42d68fcb7a9890",
      "b9aceb659cf84d76b6f32c3e491ba422",
      "7bc6b7a3af73419da549cf97b158825c",
      "1caf18cc951045d7b7fc97bd4631e58a",
      "3f522ef5789b413a86032fe0cb6fe0ba",
      "42ede1270d3746899978d239ee451d38",
      "09aa83e2800943c1a732e34b66f520c5"
     ]
    },
    "colab_type": "code",
    "id": "AlwpHQ6OaZNz",
    "outputId": "7db8de84-ae31-43da-dd71-21d99ffb1e82"
   },
   "outputs": [],
   "source": [
    "t = Symbol('x')\n",
    "lista_funciones = [cos(t), sin(t), tan(t),\n",
    "                   tan(t)/t, sin(t)/t, (1-cos(t))/t,\n",
    "                   log(t), t**2, (t**2+2*t-3)/(t-1)]\n",
    "\n",
    "w = interact(limite,\n",
    "             función = lista_funciones,\n",
    "             a = widgets.IntSlider(min=0, max=16, step=1, value=0))\n",
    "\n",
    "display(w)"
   ]
  },
  {
   "cell_type": "markdown",
   "metadata": {
    "colab_type": "text",
    "id": "HPc9bfZtVFBl"
   },
   "source": [
    "## Solución al ejemplo de la vida real\n",
    "\n",
    " Veamos el comportamiento del parque vehicular en la siguiente gráfica:\n"
   ]
  },
  {
   "cell_type": "code",
   "execution_count": null,
   "metadata": {
    "colab": {
     "base_uri": "https://localhost:8080/",
     "height": 369
    },
    "colab_type": "code",
    "id": "TC11gT9HVFBl",
    "outputId": "a69ce593-a09c-43d8-f363-df2fd860aada"
   },
   "outputs": [],
   "source": [
    "def f(x):\n",
    "    return (math.e **x)\n",
    "\n",
    "x = np.linspace(0, 10, num=50)\n",
    "y = f(x)\n",
    "\n",
    "par = [{'title':r\"Gráfico de crecimiento vehicular\", \n",
    "        'xlabel':'$x$',\n",
    "        'ylabel':'$y=f(x)$',\n",
    "       'ylim':(0,20000)}\n",
    "      ]\n",
    "\n",
    "graf = vis.planoCartesiano(par=par)\n",
    "graf.plot(x=x, y=f(x))\n",
    "graf.show()"
   ]
  },
  {
   "cell_type": "markdown",
   "metadata": {
    "colab_type": "text",
    "id": "IwI7iS2vVFBo"
   },
   "source": [
    "\n",
    "**Solución**\n",
    "\n",
    "Debido a que nuesto estudio comenzó en el año 0 se esta buscando el límite de la función que describe el comportamiento del crecimiento en el parque vehicular de cierta ciudad, después de la incorporación de la nueva marca al mercado, dado que se visualiza un notable incremento en el año 8 para el cual la marca ya llevaba 2 años vendiendo automoviles, buscaremos el límite de la función cuando nos acercamos al año 9."
   ]
  },
  {
   "cell_type": "code",
   "execution_count": null,
   "metadata": {
    "colab": {
     "base_uri": "https://localhost:8080/",
     "height": 35
    },
    "colab_type": "code",
    "id": "DNmHqfhpdulJ",
    "outputId": "3e7cd28c-3aae-48e9-8b21-46b51117b5c4"
   },
   "outputs": [],
   "source": [
    "x = Symbol('x') \n",
    "y=(math.e **x) \n",
    "limit(y, x, 9)"
   ]
  },
  {
   "cell_type": "markdown",
   "metadata": {
    "colab_type": "text",
    "id": "4r8z9NZIeRt7"
   },
   "source": [
    "Es claro que el crecimiento vehicular en Ciudad del Carmen ha sido rápido por lo que se espera que para el año 9 tengan 8103 automoviles en cisculación según el comportamiento que se ha definido bajo la función exponencial.\n",
    "\n",
    "El uso de los límites facilitan el cálculo y resolución de problemas cotidianos, que pueden ser de gran relevancia para establecer estrategias a seguir.\n",
    "\n",
    "\n",
    "\n"
   ]
  },
  {
   "cell_type": "markdown",
   "metadata": {
    "colab_type": "text",
    "id": "yuSKZnK_14Ji"
   },
   "source": [
    "## Otro caso práctico \n",
    "\n",
    "El departamento de investigación clínica de la NASA tiene un nuevo expediente secreto en el cual han descubierto un organismo vivo encontrado en uno de los satélites que estan en orbita en el espacio exterior. Se analizaron los organismo y se concluyó que tiene características similares a los seres humanos entre las cuales debían monitorear el ritmo cardiaco del organismo. En una crisis el organismo tuvo un paro cardiaco y en los esfuerzos por estabilizarlo utilizaron dos medicamentos no probados anteriormente, lo único que se sabía sobre el médicamento es que el ritmo cardiaco subiría según el comportamiento de la siguiente función:\n",
    "$$Medicamento_1 = |sen(x) \\frac{x}{8}|$$\n",
    "$$Medicamento_2 = |cos(x) \\frac{x}{8}|$$\n",
    "\n",
    "La reacción que ambos mediacamentos tienen en el organismo se comporta de la siguiente manera:\n",
    "$$Medicamento = |sen(x) \\frac{x}{8} - cos(x) \\frac{x}{8}|$$\n",
    "A los medicos les interesa saber el tiempo que tardará el organismo en recuperar el ritmo cardiaco normal de 97 latidos por minuto para retirar el medicamento, pues en caso que tarde más de 15 minutos es muy probable que el resto de los organos colapsen.\n",
    "La función anterior representa los latidos obtenidos según los minutos transcurridos.\n",
    "\n",
    "La gráfica del comportamiento del ritmo cardiaco es la siguiente:"
   ]
  },
  {
   "cell_type": "code",
   "execution_count": null,
   "metadata": {
    "colab": {
     "base_uri": "https://localhost:8080/",
     "height": 369
    },
    "colab_type": "code",
    "id": "KtffmznGksZI",
    "outputId": "04489725-4318-413f-e5fa-c992aea07661"
   },
   "outputs": [],
   "source": [
    "def f(x):\n",
    "    return abs(abs(np.sin(x)* (x/8))- abs(np.cos(x)*(x/8)))\n",
    "\n",
    "x = np.linspace(0, 10, num=50)\n",
    "\n",
    "par = [{'title':r\"Gráfico del ritmo cardiaco\", \n",
    "        'xlabel':'$x$',\n",
    "        'ylabel':'$y=f(x)$',\n",
    "       'ylim':(0,1.2)}\n",
    "      ]\n",
    "\n",
    "graf = vis.planoCartesiano(par=par)\n",
    "graf.plot(x=x, y=f(x))\n",
    "graf.show()"
   ]
  },
  {
   "cell_type": "markdown",
   "metadata": {
    "colab_type": "text",
    "id": "qf25VLgTpaPM"
   },
   "source": [
    "**Solución**\n",
    "Para conocer los minutos que tardará el organismo en tener 97 latidos por minuto buscaremos el límite de la función cuando x tiende a 97 es decir;\n",
    "$$\\lim_{x \\to 97} |sen(x) \\frac{x}{8} - cos(x) \\frac{x}{8}| $$\n",
    "entonces diremos que el resultado de dicho limute serán los minutos que el organismo tarde en en obtener un ritmo normal.\n"
   ]
  },
  {
   "cell_type": "code",
   "execution_count": null,
   "metadata": {
    "colab": {
     "base_uri": "https://localhost:8080/",
     "height": 35
    },
    "colab_type": "code",
    "id": "n6xRYP-Kr4ob",
    "outputId": "96e1af77-66eb-4ec3-ef18-10aa01ee029f"
   },
   "outputs": [],
   "source": [
    "import sympy as sp\n",
    "x = Symbol('x') \n",
    "y= abs(abs(sp.sin(x)* (x/8))- abs(sp.cos(x)*(x/8)))\n",
    "limit(y, x, 97)"
   ]
  },
  {
   "cell_type": "markdown",
   "metadata": {
    "colab_type": "text",
    "id": "l6mM3-Rl1rjW"
   },
   "source": [
    "Por lo que el organismo tardará alrededor de 6 minutos y medio para alcanzar ritmo cardiaco normal y retirar el medicamento. Lo cual quiere decir que es posible que los medicos de la NASA estabilicen al organismo encontrado.\n",
    "\n",
    "## Referencias\n",
    "Para profundizar en los temas tratados en el presente documento se pueden consultar las siguientes fuentes.\n",
    "\n",
    "\n",
    "\n",
    "*   Cálculo 1 de una variable, Ron Larson, Bruce H. Edwards, México : McGraw-Hill Interamericana, 2010, p.90\n",
    "*   Matemáticas 1 : cálculo diferencial / Dennis G. Zill, Warren S. Wright ; adaptación y revisión técnica, Joel Ibarra Escutia ; p.87, México : McGraw-Hill Interamericana, 2011.\n",
    "*   Cálculo aplicado : competencias matemáticas a través de contextos / autores, Norma Patricia Salinas Martínez, Juan Antonio Alanís Rodríguez, José Luis Garza García, Ricardo Pulido Ríos, Francisco Xavier Santos Leal, Julio César Escobedo Mirales, México, D.F. : Cengage Learning, 2012-2013\n",
    "\n"
   ]
  }
 ],
 "metadata": {
  "colab": {
   "collapsed_sections": [],
   "name": "03_Límites.ipynb",
   "provenance": []
  },
  "kernelspec": {
   "display_name": "Python 3",
   "language": "python",
   "name": "python3"
  },
  "language_info": {
   "codemirror_mode": {
    "name": "ipython",
    "version": 3
   },
   "file_extension": ".py",
   "mimetype": "text/x-python",
   "name": "python",
   "nbconvert_exporter": "python",
   "pygments_lexer": "ipython3",
   "version": "3.7.6"
  }
 },
 "nbformat": 4,
 "nbformat_minor": 1
}
