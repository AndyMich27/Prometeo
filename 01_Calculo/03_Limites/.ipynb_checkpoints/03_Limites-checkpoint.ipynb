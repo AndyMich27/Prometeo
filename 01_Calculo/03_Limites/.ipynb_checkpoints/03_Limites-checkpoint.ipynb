{
 "cells": [
  {
   "cell_type": "markdown",
   "metadata": {},
   "source": [
    "# Límites\n",
    "## Proyecto PAPIME PE101019\n",
    "\n",
    "*   Autores: \n",
    "    - Ingrid Pamela Ruiz Puga\n",
    "    - Luis M. de la Cruz Salas\n",
    "*   Rev: mar sep  8 15:22:36 CDT 2020"
   ]
  },
  {
   "cell_type": "code",
   "execution_count": 1,
   "metadata": {},
   "outputs": [],
   "source": [
    "import os, sys\n",
    "sys.path.insert(0, os.path.abspath('../../Utils'))\n",
    "\n",
    "import numpy as np\n",
    "import matplotlib.pyplot as plt\n",
    "import gutils as vis\n",
    "%matplotlib inline"
   ]
  },
  {
   "cell_type": "markdown",
   "metadata": {
    "colab_type": "text",
    "id": "3Vz1Tf48Csqk"
   },
   "source": [
    "## Tránsito vehícular exponencial\n",
    "\n",
    "Supongamos que el crecimiento del tránsito de vehículos en la Ciudad del Carmen se comporta igual que la función  $e^x$  definida en los reales positivos  $\\mathbb{R}^+$, donde $x$ es la medida del tiempo. Lo anterior quiere decir que los automóviles que circulan diario en Ciudad del Carmen ha aumentado exponencialmente año con año.\n",
    "\n",
    "El motivo del gran crecimiento de parque vehicular en el octavo año se debe a la incorporación de una nueva marca de autos al mercado, la cual ha tenido gran éxito visualizado en una enorme número de ventas en los ultimos dos años.\n",
    "\n",
    "El gobierno esta preocupado debido a la sobrepoblación vehicular y le gustaria conocer el crecimiento del parque vehicular para el siguiente año, de este modo podría establecer planes para evitar el congestionamiento en grandes avenidas.\n",
    "\n",
    "Se encomendo la tarea de conocer el número de automoviles aproximados 3 años después la aparición de la nueva marca."
   ]
  },
  {
   "cell_type": "markdown",
   "metadata": {
    "colab_type": "text",
    "id": "E5M0r-HDCzM4"
   },
   "source": [
    "## Introducción\n",
    "\n",
    "\n",
    "En matemática, el límite es un concepto que describe la tendencia de una sucesión o una función, a medida que los parámetros de esa sucesión o función se acercan a determinado valor. El límite de una función es un concepto fundamental del cálculo diferencial.\n",
    "El matemático francés Augustine Louis Cauchy (1789-1857) fue el primero en desarrollar una definición rigurosa de límite, aunque ya era usado este concepto desde los antigüos griegos para el cálculo de áreas. Cauchy definió el concepto de límite de la siguiente manera:\n",
    "\n",
    "*Cuando los valores atribuidos sucesivamente a una variable se aproximan indefinidamente a un valor fijo para llegar por último a diferir de ese valor en una cantidad tan pequeña como se desee, entonces dicho valor fijo recibe el nombre de límite de todos los demas valores.*\n",
    "\n",
    "  "
   ]
  },
  {
   "cell_type": "markdown",
   "metadata": {
    "colab_type": "text",
    "id": "9171B8VIDBk-"
   },
   "source": [
    "## Teoría\n",
    "\n",
    "### Noción y definición de límite\n",
    "<p align=\"justify\">El concepto de límite puede ser complicado en algunas ocasiones por lo que comenzaremos con la siguiente noción de límite. Una función puede no estar definida o llegar a mostrar un comportamiento extraño para cierto punto del rango. Por lo que para comprender mejor este tipo de anomalías de algunas funciones introducimos el concepto de límite de una función en cierto punto.</p>\n",
    "<p> El límite de una función en un punto es obtener el valor al que se va aproximando esa función cuando x tiende a un determinado punto, pero sin llegar a ese punto.</p>\n",
    "<p> Por ejemplo, para determinar el límite de y = f(x) en cierto punto x = a ,  debemos prescindir del valor que tenga f(a), incluso puede que f(a) ni siquiera esté definido, y fijarnos en los valores de f(a) para <em>puntos extremadamente cercanos</em> a x = a. </p>\n",
    "\n",
    "![limite](https://www.fca.unl.edu.ar/Limite/Image34.gif)\n",
    "\n",
    "<p> En el ejemplo de la figura anterior se puede observar que para los valores de los valores de <em>x</em> muy proximos al valor <em>x = a </em> el límite de y = f(x) es <em>L.</em> Siguiendo con la noción anterior la sintaxis matematica del limite sería: </p>\n",
    "\n",
    "$$ \\lim_{x \\to a}f(x)=L $$\n",
    "\n",
    "### Solución de límites\n",
    "\n",
    "Existen diversos tipos de límites para los cuales se determidan métodos de solución. Para las funciones con diminio en todo ${\\rm I\\!R}$ y continuas, se deben calcular los límites sustituyendo el valor al que tiende x.\n",
    "\n",
    "**Ejemplo 1:** La función $f(x) = x^2 + 2x +1$ debe valuarse en el punto para en cual tiende x en el límite. Visualicemos la gráfica de la función.\n"
   ]
  },
  {
   "cell_type": "code",
   "execution_count": 2,
   "metadata": {
    "cellView": "both",
    "colab": {
     "base_uri": "https://localhost:8080/",
     "height": 73,
     "resources": {
      "http://localhost:8080/nbextensions/google.colab/files.js": {
       "data": "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",
       "headers": [
        [
         "content-type",
         "application/javascript"
        ]
       ],
       "ok": true,
       "status": 200,
       "status_text": ""
      }
     }
    },
    "colab_type": "code",
    "id": "TD-6ekqeHQIG",
    "outputId": "fbcaf195-1ae0-4ba7-9fd8-551b6b58542b"
   },
   "outputs": [],
   "source": [
    "#from google.colab import files\n",
    "#files.upload()\n",
    "# choose the file on your computer to upload it then\n",
    "import gutils"
   ]
  },
  {
   "cell_type": "code",
   "execution_count": 116,
   "metadata": {
    "colab": {},
    "colab_type": "code",
    "id": "LF-HeJzFJ1b4"
   },
   "outputs": [],
   "source": [
    "from sympy import limit, oo, Symbol, cos, sin, tan, exp, log, csc, sec\n",
    "from sympy.utilities.lambdify import lambdify\n",
    "import math\n",
    "import matplotlib.pyplot as plt\n",
    "import numpy as np\n",
    "import  seaborn  as  sns \n",
    "import gutils as vis\n",
    "from ipywidgets import interact, interactive, fixed\n",
    "import ipywidgets as widgets\n",
    "%matplotlib inline"
   ]
  },
  {
   "cell_type": "code",
   "execution_count": 43,
   "metadata": {
    "colab": {
     "base_uri": "https://localhost:8080/",
     "height": 369
    },
    "colab_type": "code",
    "id": "RkqQ2NzBVFAb",
    "outputId": "aa3b22a1-a220-4674-8c5f-d73f9d5b7353"
   },
   "outputs": [
    {
     "data": {
      "image/png": "[encoded data removed]",
      "text/plain": [
       "<Figure size 720x360 with 1 Axes>"
      ]
     },
     "metadata": {
      "needs_background": "light",
      "tags": []
     },
     "output_type": "display_data"
    }
   ],
   "source": [
    "def f(x):\n",
    "    return x**2 + 2*x + 1\n",
    "\n",
    "x = np.array([1, 1.5, 1.9, 1.95, 1.99, 1.999, 2.001, 2.05, 2.1, 2.2, 2.5, 3 ])\n",
    "y = f(x)\n",
    "x = np.linspace(-2, 4, num=30)\n",
    "\n",
    "par = [{'title':'Grafico de $f(x)=x^2 + 2x + 1$', \n",
    "        'xlabel':'$x$',\n",
    "        'ylabel':'$y=f(x)$',\n",
    "       'ylim':(-2,25)}\n",
    "      ]\n",
    "\n",
    "graf = vis.planoCartesiano(par=par)\n",
    "graf.plot(x=x, y=f(x))\n",
    "graf.scatter(x=-1, y=0, par={'label':'Límite cuando x tiende a 2','color':'red', 'zorder':10})\n",
    "graf.legend()\n",
    "graf.show()"
   ]
  },
  {
   "cell_type": "markdown",
   "metadata": {
    "colab_type": "text",
    "id": "Ir-JIPTAVFAi"
   },
   "source": [
    "Por lo que para encontrar el límite de dicha función cuando x tiende a -1 sería:\n",
    "\n",
    "$$\\lim_{x \\to -1} x^2 + 2x +1 = (-1)^2 + 2(-1) + 1 = 0 $$\n",
    "\n",
    "Comprobando en Python:"
   ]
  },
  {
   "cell_type": "code",
   "execution_count": null,
   "metadata": {
    "colab": {
     "base_uri": "https://localhost:8080/",
     "height": 35
    },
    "colab_type": "code",
    "id": "Ly2FPDnMHuid",
    "outputId": "7ac78b85-7f2f-4c92-95d2-7095b567a72a"
   },
   "outputs": [
    {
     "data": {
      "text/plain": [
       "0"
      ]
     },
     "execution_count": 17,
     "metadata": {
      "tags": []
     },
     "output_type": "execute_result"
    }
   ],
   "source": [
    "x = Symbol('x') \n",
    "y=x*x + 2*x +1\n",
    "limit(y, x, -1)"
   ]
  },
  {
   "cell_type": "markdown",
   "metadata": {
    "colab_type": "text",
    "id": "nmFDu0VHVFA0"
   },
   "source": [
    "### Propiedades de los límites\n",
    "Algunas propiedades matemáticas de los límites pueden facilitar en algunos casos los cálculos en funciones más complejas. Considerando dos funciones definidas en un mismo intervalo.\n",
    "* **Unicidad del límite:** El límite de una función será único en caso de su existencia.\\\n",
    "* **Límite de una constante:** El limite de una constante *k* será igual a la constante *k*.\n",
    "$$\\lim_{x \\to a} k = k $$ \\\n",
    "* **Suma y resta \n",
    "de límites:** El límite de la suma será ña suma de los límites.\n",
    "$$\\lim_{x \\to a} [f(x) \\pm g(x) ] = \\lim_{x \\to a} f(x) \\pm \\lim_{x \\to a} g(x) $$ \\\n",
    "* **Producto de límites:** El límite del producto es el producto de los límites\n",
    "$$\\lim_{x \\to a} [f(x) \\cdot g(x) ] = \\lim_{x \\to a} f(x) \\cdot \\lim_{x \\to a} g(x) $$ \\\n",
    "* **Factor del límite:** El límite del producto de una constante por una función será la constante por el límite de la función.\n",
    "$$\\lim_{x \\to a} [k \\cdot f(x) ] = k \\cdot \\lim_{x \\to a} f(x) $$ \\\n",
    "* **Cociente de límites:**  El cociente de los límites de dos funciones será el límite del cociente de dichas funciones.\n",
    "$$ \\frac{\\lim_{x \\to a} f(x)}{\\lim_{x \\to a} g(x)} =  \\lim_{x \\to a} \\frac{f(x)}{g(x)} $$ \\\n",
    "* **Potencia del límite:** El límite de una función potencial es la potencia del límite de la base elevado al exponente.\n",
    "$$ \\lim_{x \\to a} [f(x)^k]=[\\lim_{x \\to a} f(x)]^k $$ \\\n",
    "* **Exponencial de un límite:** El límite de una función exponencial es la potencia de la base elevada al límite de la función exponente.\n",
    "$$ \\lim_{x \\to a} k^{f(x)}=k^{\\lim_{x \\to a} f(x)} $$ \\\n",
    "* **Raíz de un límite**: El límite de una raíz, es la raíz del límite.\n",
    "$$ \\lim_{x \\to a} \\sqrt[n]{f(x)}= \\sqrt[n]{\\lim_{x \\to a} f(x)} $$ \\\n",
    "* **Logarítmo de un límite:** El límite del logaritmo es el logaritmo del límite.\n",
    "$$ \\lim_{x \\to a} log_k f(x)= log_k \\lim_{x \\to a} f(x) $$ \\"
   ]
  },
  {
   "cell_type": "markdown",
   "metadata": {
    "colab_type": "text",
    "id": "tW2s1goQVFA1"
   },
   "source": [
    "**Ejemplo 1:** Calcular el limite de g(x)$\\cdotp$f(x) cuando $x \\longrightarrow 1$ si:\n",
    "\n",
    "$g(x) = x - 1 $ y   $f(x) = x + 1 $\n",
    "\n",
    "Buscamos $$ \\lim_{x \\to 1} f(x)\\cdotp g(x) = \\lim_{x \\to 1} f(x) \\cdotp \\lim_{x \\to 1} g(x) $$ \n",
    "\n",
    "$$ \\lim_{x \\to 1}  (x + 1) \\cdotp (x - 1) = \\lim_{x \\to 1} (x + 1) \\cdotp \\lim_{x \\to 1} (x - 1) $$ \n",
    "\n",
    "$$ \\Longrightarrow \\lim_{x \\to 1} (x + 1) \\cdotp \\lim_{x \\to 1} (x - 1) = (1 + 1)\\cdotp (1 - 1) = 0 $$ \n",
    "Verificando en python:\n"
   ]
  },
  {
   "cell_type": "code",
   "execution_count": null,
   "metadata": {
    "colab": {
     "base_uri": "https://localhost:8080/",
     "height": 35
    },
    "colab_type": "code",
    "id": "iwx_pTYSVFA1",
    "outputId": "3d2cb48f-b668-4cf2-fa33-e0a7b07d6bee"
   },
   "outputs": [
    {
     "data": {
      "text/plain": [
       "0"
      ]
     },
     "execution_count": 8,
     "metadata": {
      "tags": []
     },
     "output_type": "execute_result"
    }
   ],
   "source": [
    "x = Symbol('x') \n",
    "f=x+1\n",
    "g=x-1\n",
    "limit(f*g, x, 1)"
   ]
  },
  {
   "cell_type": "markdown",
   "metadata": {
    "colab_type": "text",
    "id": "arEUN2gBVFA5"
   },
   "source": [
    "**Ejemplo 2:** Calcular el limite de f(x) cuando $x \\longrightarrow 4$ si:\n",
    "\n",
    "$f(x) = \\sqrt{2x + 1} $\n",
    "\n",
    "Buscamos $$ \\lim_{x \\to a} \\sqrt{f(x)} = \\sqrt{\\lim_{x \\to a} f(x)}$$ \n",
    "\n",
    "$$ \\lim_{x \\to 4}  (2x + 1) = 9 $$ \n",
    "\n",
    "$$ \\Longrightarrow \\lim_{x \\to 4}  \\sqrt{f(x)} = \\sqrt{9} = 3 $$ \n",
    "Verificando en python:\n"
   ]
  },
  {
   "cell_type": "code",
   "execution_count": null,
   "metadata": {
    "colab": {
     "base_uri": "https://localhost:8080/",
     "height": 35
    },
    "colab_type": "code",
    "id": "QjsbwCUdVFA5",
    "outputId": "965b12f3-3e63-44ef-a3cd-1d2b04a3cd10"
   },
   "outputs": [
    {
     "data": {
      "text/plain": [
       "3.0"
      ]
     },
     "execution_count": 10,
     "metadata": {
      "tags": []
     },
     "output_type": "execute_result"
    }
   ],
   "source": [
    "x = Symbol('x') \n",
    "f= 2*x +1\n",
    "math.sqrt(limit(f, x, 4))"
   ]
  },
  {
   "cell_type": "markdown",
   "metadata": {
    "colab_type": "text",
    "id": "ifNgeErMVFA8"
   },
   "source": [
    "**Ejemplo 3:** Calcular el limite de f(x) cuando $x \\longrightarrow 2$ si:\n",
    "\n",
    "$f(x) = (x + 1)^2 $\n",
    "\n",
    "Buscamos $$ \\lim_{x \\to 2} (x + 1)^2 =(\\lim_{x \\to a} (x + 1) )^2$$ \n",
    "\n",
    "$$ \\lim_{x \\to 2}  (x + 1) = 3 $$ \n",
    "\n",
    "$$ \\Longrightarrow \\lim_{x \\to 2}  (x + 1)^2 = 3^2 =9$$ \n",
    "Verificando en python:\n"
   ]
  },
  {
   "cell_type": "code",
   "execution_count": null,
   "metadata": {
    "colab": {},
    "colab_type": "code",
    "id": "WS3KXOz1VFA9",
    "outputId": "a7f9114d-c350-4fee-c9d3-a9460fae2c48"
   },
   "outputs": [
    {
     "data": {
      "text/plain": [
       "9"
      ]
     },
     "execution_count": 28,
     "metadata": {
      "tags": []
     },
     "output_type": "execute_result"
    }
   ],
   "source": [
    "x = Symbol('x') \n",
    "f= (x +1)**2\n",
    "limit(f, x, 2)"
   ]
  },
  {
   "cell_type": "markdown",
   "metadata": {
    "colab_type": "text",
    "id": "8Yhg5YX2VFBA"
   },
   "source": [
    "### Tipos de límites\n",
    "Existen diversos tipos de límites según el valor *x* al que tiendan y el valor del número al que recae su límite.\n",
    "\n",
    "#### Límites laterales\n",
    "Algunas funciones poseen un discontinuidad en algun punto *x*, la gráfica se ve representada por un salto en dicho punto. Como se ve en la siguiente figura.\n",
    "\n",
    "![limite](https://upload.wikimedia.org/wikipedia/commons/thumb/8/8f/Funci%C3%B3n_xy_discontinua_11e.svg/200px-Funci%C3%B3n_xy_discontinua_11e.svg.png)\n",
    "\n",
    "El valor del límite dependerá del lado por el cual se acerca al valor *a*, es decir, si nos acercamos del lado izquierdo obtendremos un valor distinto a si nos acercamos del lado derecho debido a la discontinuidad.\n",
    "\n",
    "#### Límites que tienden al infinito\n",
    "Un límite al infinito de una función *y* es aquel en el cual los valores tienden a infinito, es decir *x* se hace tan grande en los positivos como en los negativos. En este caso la manera de resolverlo resulta complicado, debido a que al evaluar una función en infinito el resultado es una función indefinida. Apesar de eso es posible conocer el valor del límite de la función cuando los valores tienden a infinito.\n",
    "\n",
    "**Ejemplo :** para la función $f(x)= \\frac{1}{x}$ queremos obtener el límite.\n",
    "$$\\lim_{x \\to \\infty} \\frac{1}{x} $$\n",
    "\n"
   ]
  },
  {
   "cell_type": "code",
   "execution_count": 47,
   "metadata": {
    "colab": {
     "base_uri": "https://localhost:8080/",
     "height": 369
    },
    "colab_type": "code",
    "id": "1HBsIy67VFBG",
    "outputId": "46ad39f6-ec4a-4b8d-c8bb-5947e6cf3607"
   },
   "outputs": [
    {
     "data": {
      "image/png": "[encoded data removed]",
      "text/plain": [
       "<Figure size 720x360 with 1 Axes>"
      ]
     },
     "metadata": {
      "needs_background": "light",
      "tags": []
     },
     "output_type": "display_data"
    }
   ],
   "source": [
    "def f(x):\n",
    "    return 1/x\n",
    "\n",
    "x = np.linspace(0.1, 30, num=60)\n",
    "y = f(x)\n",
    "\n",
    "par = [{'title':r'Gráfico de $f(x)=\\frac{1}{x}$', \n",
    "        'xlabel':'$x$',\n",
    "        'ylabel':'$y=f(x)$',\n",
    "       'ylim':(0,10)}\n",
    "      ]\n",
    "\n",
    "graf = vis.planoCartesiano(par=par)\n",
    "graf.plot(x=x, y=f(x))\n",
    "graf.show()"
   ]
  },
  {
   "cell_type": "markdown",
   "metadata": {
    "colab_type": "text",
    "id": "TnZhf0RIVFBJ"
   },
   "source": [
    "Como es posible observar en la gráfica de la función $f(x)=\\frac{1}{x}$ mientras más crece el valor de su límite se acerca al valor 0.\n",
    "Comprobando en python:"
   ]
  },
  {
   "cell_type": "code",
   "execution_count": null,
   "metadata": {
    "colab": {},
    "colab_type": "code",
    "id": "M_Nw9dpgVFBJ",
    "outputId": "aa1a8bf0-b08e-4b4d-c49c-d3863dbdaa0a"
   },
   "outputs": [
    {
     "data": {
      "text/plain": [
       "0"
      ]
     },
     "execution_count": 87,
     "metadata": {
      "tags": []
     },
     "output_type": "execute_result"
    }
   ],
   "source": [
    "x = Symbol('x') \n",
    "y=1/x \n",
    "limit(y, x, oo)"
   ]
  },
  {
   "cell_type": "markdown",
   "metadata": {
    "colab_type": "text",
    "id": "-rfKbkftVFBf"
   },
   "source": [
    "### Límites infinitos\n",
    "Un límite infinito es aquel que mientras más se acerque al punto *x=a* el valor del límite será $\\pm \\infty$ por lo que el valor de la función en dicho punto será infinito.\n",
    "\n",
    "**Ejemplo 1:** Para la función $f(x)= \\frac{1}{x^2} + 1$ buscaremos su límite cuando x tiende a cero, es decir;\n",
    "$$\\lim_{x \\to 0} \\frac{1}{x^2}+1 $$\n"
   ]
  },
  {
   "cell_type": "code",
   "execution_count": 48,
   "metadata": {
    "colab": {
     "base_uri": "https://localhost:8080/",
     "height": 369
    },
    "colab_type": "code",
    "id": "YGEquY38VFBf",
    "outputId": "a320639c-cce7-49c7-e180-c0089fea7c87"
   },
   "outputs": [
    {
     "data": {
      "image/png": "[encoded data removed]",
      "text/plain": [
       "<Figure size 720x360 with 1 Axes>"
      ]
     },
     "metadata": {
      "needs_background": "light",
      "tags": []
     },
     "output_type": "display_data"
    }
   ],
   "source": [
    "def f(x):\n",
    "    return (1+(1/x**2))\n",
    "\n",
    "x = np.linspace(-5, 5, num=50)\n",
    "y = f(x)\n",
    "\n",
    "par = [{'title':r\"Grafico de $f(x)= \\frac{1}{x^2}+1$\", \n",
    "        'xlabel':'$x$',\n",
    "        'ylabel':'$y=f(x)$',\n",
    "       'ylim':(-4,100)}\n",
    "      ]\n",
    "\n",
    "graf = vis.planoCartesiano(par=par)\n",
    "graf.plot(x=x, y=f(x))\n",
    "graf.show()\n"
   ]
  },
  {
   "cell_type": "markdown",
   "metadata": {
    "colab_type": "text",
    "id": "6fdHwzkuVFBi"
   },
   "source": [
    "En la gráfica anterior, es posible observar que mientras más se acerca la función al punto *x=0* el valor del límite será infinito.\n",
    "\n",
    "Comprobando con Python..."
   ]
  },
  {
   "cell_type": "code",
   "execution_count": null,
   "metadata": {
    "colab": {},
    "colab_type": "code",
    "id": "ejzkX86CVFBi",
    "outputId": "ecbfe6a9-21c2-4418-fffc-47502ed7d2a2"
   },
   "outputs": [
    {
     "data": {
      "text/plain": [
       "oo"
      ]
     },
     "execution_count": 100,
     "metadata": {
      "tags": []
     },
     "output_type": "execute_result"
    }
   ],
   "source": [
    "x = Symbol('x') \n",
    "y=1+(1/x**2) \n",
    "limit(y, x, 0)"
   ]
  },
  {
   "cell_type": "markdown",
   "metadata": {
    "colab_type": "text",
    "id": "tSXrzRHOFMck"
   },
   "source": [
    "## Ejercicios\n",
    "\n",
    "1.   Encontrar el límite de la función $x^2$ cuando x tiende a 4 sería:\n",
    "**Solución**\n",
    "$$\\lim_{x \\to 4} x^2 = 4^2 =16 $$\n",
    "\n",
    "Comprobando en Python:\n",
    "\n",
    "\n"
   ]
  },
  {
   "cell_type": "code",
   "execution_count": null,
   "metadata": {
    "colab": {
     "base_uri": "https://localhost:8080/",
     "height": 35
    },
    "colab_type": "code",
    "id": "xOtoNUCtFs0H",
    "outputId": "87ac4bf2-f27a-45cb-dddb-a7a9098bcbb4"
   },
   "outputs": [
    {
     "data": {
      "text/plain": [
       "16"
      ]
     },
     "execution_count": 14,
     "metadata": {
      "tags": []
     },
     "output_type": "execute_result"
    }
   ],
   "source": [
    "x = Symbol('x') \n",
    "y=x*x\n",
    "limit(y, x, 4)"
   ]
  },
  {
   "cell_type": "markdown",
   "metadata": {
    "colab_type": "text",
    "id": "u--N_kD_VFAq"
   },
   "source": [
    "2.   Encontrar el límite de la función cuando x tiende a 3:\n",
    "\n",
    "$$\\lim_{x \\to 4} x^2 + 8x + 31 $$\n",
    "**Solución**\n",
    "$$\\lim_{x \\to 4} x^2 + 8x + 31 = 3^2 + 8 \\cdot 3 + 31 =64  $$\n",
    "\n",
    "\n",
    "Comprobando en Python:"
   ]
  },
  {
   "cell_type": "code",
   "execution_count": null,
   "metadata": {
    "colab": {},
    "colab_type": "code",
    "id": "ayUbzG0jVFAr",
    "outputId": "d37441f1-abb1-470f-a1ee-daebc450f0c4"
   },
   "outputs": [
    {
     "data": {
      "text/plain": [
       "64"
      ]
     },
     "execution_count": 11,
     "metadata": {
      "tags": []
     },
     "output_type": "execute_result"
    }
   ],
   "source": [
    "x = Symbol('x') \n",
    "y=x*x + 8*x + 31\n",
    "limit(y, x, 3)"
   ]
  },
  {
   "cell_type": "markdown",
   "metadata": {
    "colab_type": "text",
    "id": "h73lGIEgVFAu"
   },
   "source": [
    "3.  Encontrar el límite de la función cuando x tiende a 2:\n",
    "\n",
    "$$\\lim_{x \\to 2} x^2 - x + 2  $$\n",
    "\n",
    "**Solución**\n",
    "$$\\lim_{x \\to 2} x^2 - x + 2 =  2^2 - 2 + 2 =4 $$\n",
    "\n",
    "Comprobando en Python y visualizando gráfica:"
   ]
  },
  {
   "cell_type": "code",
   "execution_count": null,
   "metadata": {
    "colab": {
     "base_uri": "https://localhost:8080/",
     "height": 35
    },
    "colab_type": "code",
    "id": "0KiI4loOVFAj",
    "outputId": "4682e169-c594-4021-ceda-41b933ac0bf0"
   },
   "outputs": [
    {
     "data": {
      "text/plain": [
       "0"
      ]
     },
     "execution_count": 6,
     "metadata": {
      "tags": []
     },
     "output_type": "execute_result"
    }
   ],
   "source": [
    "x = Symbol('x') \n",
    "y=x*x + 2*x +1\n",
    "limit(y, x, -1)"
   ]
  },
  {
   "cell_type": "code",
   "execution_count": 49,
   "metadata": {
    "colab": {
     "base_uri": "https://localhost:8080/",
     "height": 369
    },
    "colab_type": "code",
    "id": "xOKSjtX6VFAv",
    "outputId": "380b3708-cd27-491c-9fbb-0f25cb80c491"
   },
   "outputs": [
    {
     "data": {
      "image/png": "[encoded data removed]",
      "text/plain": [
       "<Figure size 720x360 with 1 Axes>"
      ]
     },
     "metadata": {
      "needs_background": "light",
      "tags": []
     },
     "output_type": "display_data"
    }
   ],
   "source": [
    "def f(x):\n",
    "    return x**2 - x + 2\n",
    "\n",
    "x = np.array([1, 1.5, 1.9, 1.95, 1.99, 1.999, 2.001, 2.05, 2.1, 2.2, 2.5, 3 ])\n",
    "y = f(x)\n",
    "x = np.linspace(-2, 4, num=30)\n",
    "\n",
    "par = [{'title':r\"Gráfico de $f(x)=x^2 -x + 2$\", \n",
    "        'xlabel':'$x$',\n",
    "        'ylabel':'$y=f(x)$',\n",
    "       'ylim':(-2,14)}\n",
    "      ]\n",
    "\n",
    "graf = vis.planoCartesiano(par=par)\n",
    "graf.plot(x=x, y=f(x))\n",
    "graf.scatter(x=2, y=4, par={'label':'Límite cuando x tiende a 2','color':'red', 'zorder':10})\n",
    "graf.legend()\n",
    "graf.show()"
   ]
  },
  {
   "cell_type": "markdown",
   "metadata": {
    "colab_type": "text",
    "id": "h-RRRSaFVFBM"
   },
   "source": [
    "4.  Para la función $f(x)= x^{\\frac{1}{x}}$ queremos obtener el límite.\n",
    "$$\\lim_{x \\to \\infty} x^{\\frac{1}{x}} $$\n",
    "\n",
    "**Solución**\n",
    "\n",
    "Observamos su gráfica...\n",
    "\n"
   ]
  },
  {
   "cell_type": "code",
   "execution_count": 53,
   "metadata": {
    "colab": {
     "base_uri": "https://localhost:8080/",
     "height": 369
    },
    "colab_type": "code",
    "id": "r_f73a69VFBO",
    "outputId": "ff571a09-67c5-4826-fad0-b9cddd11269e"
   },
   "outputs": [
    {
     "data": {
      "image/png": "[encoded data removed]",
      "text/plain": [
       "<Figure size 720x360 with 1 Axes>"
      ]
     },
     "metadata": {
      "needs_background": "light",
      "tags": []
     },
     "output_type": "display_data"
    }
   ],
   "source": [
    "def f(x):\n",
    "    return x**(1/x)\n",
    "\n",
    "x = np.linspace(0.4, 100, num=100)\n",
    "\n",
    "par = [{'title':r\"Grafico de $f(x)=x^{\\frac{1}{x}}$\", \n",
    "        'xlabel':'$x$',\n",
    "        'ylabel':'$y=f(x)$',\n",
    "       'ylim':(0,1.5)}\n",
    "      ]\n",
    "\n",
    "graf = vis.planoCartesiano(par=par)\n",
    "graf.plot(x=x, y=f(x))\n",
    "\n",
    "graf.show()"
   ]
  },
  {
   "cell_type": "markdown",
   "metadata": {
    "colab_type": "text",
    "id": "iZwF8VtCVFBR"
   },
   "source": [
    "Como es posible observar en la gráfica de la función $f(x)= x^{\\frac{1}{x}}$ mientras más crece el valor de su límite se acerca al valor 1.\n",
    "\n",
    "Comprobando en python:"
   ]
  },
  {
   "cell_type": "code",
   "execution_count": null,
   "metadata": {
    "colab": {
     "base_uri": "https://localhost:8080/",
     "height": 35
    },
    "colab_type": "code",
    "id": "VTp9-B5EVFBS",
    "outputId": "9854caa3-9319-484c-be47-3938736aaa9f"
   },
   "outputs": [
    {
     "data": {
      "text/plain": [
       "1"
      ]
     },
     "execution_count": 18,
     "metadata": {
      "tags": []
     },
     "output_type": "execute_result"
    }
   ],
   "source": [
    "x = Symbol('x') \n",
    "y=x**(1/x) \n",
    "limit(y, x, oo)"
   ]
  },
  {
   "cell_type": "markdown",
   "metadata": {
    "colab_type": "text",
    "id": "g11bXxG1Rp6E"
   },
   "source": [
    "5.  Para la función $f(x)= \\left( 1+\\frac{1}{x} \\right)^x$ queremos obtener el límite.\n",
    "$$\\lim_{x \\to \\infty} \\left( 1+\\frac{1}{x} \\right)^x $$\n",
    "\n",
    "**Solución**\n",
    "\n",
    "Observamos su gráfica...\n",
    "\n",
    "\n"
   ]
  },
  {
   "cell_type": "code",
   "execution_count": 60,
   "metadata": {
    "colab": {
     "base_uri": "https://localhost:8080/",
     "height": 369
    },
    "colab_type": "code",
    "id": "nYYLM2nkSvjF",
    "outputId": "f1d3d39f-3f55-421f-9625-a8c567931b9b"
   },
   "outputs": [
    {
     "data": {
      "image/png": "[encoded data removed]",
      "text/plain": [
       "<Figure size 720x360 with 1 Axes>"
      ]
     },
     "metadata": {
      "needs_background": "light",
      "tags": []
     },
     "output_type": "display_data"
    }
   ],
   "source": [
    "def f(x):\n",
    "    return (1+(1/x))**x\n",
    "\n",
    "def g(x):\n",
    "    return x*0 + math.e\n",
    "\n",
    "x = np.linspace(0.1, 40, num=100)\n",
    "y = f(x)\n",
    "z = g(x)\n",
    "\n",
    "par = [{'title':r\"Gráfico de $f(x)=\\left( 1+\\frac{1}{x} \\right)^x$\", \n",
    "        'xlabel':'$x$',\n",
    "        'ylabel':'$y=f(x)$',\n",
    "       'ylim':(1,3)}\n",
    "      ]\n",
    "\n",
    "graf = vis.planoCartesiano(par=par)\n",
    "graf.plot(x=x, y=f(x), par={'label':r\"Función$\\left( 1+\\frac{1}{x} \\right)^x$\"})\n",
    "graf.plot(x=x, y=g(x),par={'color':'C1'})\n",
    "graf.scatter(x=30, y=2.7182, par={'label':\"Número de Euler\",'color':'C5', 'zorder':10})\n",
    "graf.legend()\n",
    "graf.show()"
   ]
  },
  {
   "cell_type": "markdown",
   "metadata": {
    "colab_type": "text",
    "id": "AYVD8PoAVFBc"
   },
   "source": [
    "Es posible observar que el límite de esta función cuando x tiende a infinito es el número de Euler.\n",
    "\n",
    "Comprobando con Python:"
   ]
  },
  {
   "cell_type": "code",
   "execution_count": null,
   "metadata": {
    "colab": {},
    "colab_type": "code",
    "id": "kj19dUGeVFBc",
    "outputId": "6a61f25d-365f-4143-c15c-68e3844ab85a"
   },
   "outputs": [
    {
     "data": {
      "text/plain": [
       "E"
      ]
     },
     "execution_count": 82,
     "metadata": {
      "tags": []
     },
     "output_type": "execute_result"
    }
   ],
   "source": [
    "x = Symbol('x') \n",
    "y=(1+(1/x))**x \n",
    "limit(y, x, oo)"
   ]
  },
  {
   "cell_type": "markdown",
   "metadata": {
    "colab_type": "text",
    "id": "2uv8hd_DWXVR"
   },
   "source": [
    "## Herramientas interactivas"
   ]
  },
  {
   "cell_type": "markdown",
   "metadata": {
    "colab_type": "text",
    "id": "OyWuJ8XNtcf7"
   },
   "source": [
    "Para observar los límites en algunas funciones trigonométricas, haremos uso de la siguiente gráfica interactiva. Con la cual será posible cambiar el punto al cual tiende el límite de la función."
   ]
  },
  {
   "cell_type": "code",
   "execution_count": 113,
   "metadata": {
    "colab": {},
    "colab_type": "code",
    "id": "ePsP3Lz2iEXV"
   },
   "outputs": [],
   "source": [
    "def limite(función, a):\n",
    "    x = Symbol('x') \n",
    "    func = función\n",
    "    b=limit(func, x, a)\n",
    "    evalfunc = lambdify(t, func, modules=['numpy'])\n",
    "    \n",
    "    par = [{'title':func, \n",
    "        'xlabel':'$x$',\n",
    "        'ylabel':'$y=f(x)$',\n",
    "       'ylim':(-2,10)}\n",
    "      ]\n",
    "\n",
    "    m = np.linspace(0.1, 10, num=100)\n",
    "    graf = vis.planoCartesiano(par=par)\n",
    "    graf.plot(x=m, y=evalfunc(m), par={'label':func})\n",
    "    graf.scatter(x=a, y=b, par={'label':\"Limite\",'color':'C5', 'zorder':10})\n",
    "    graf.legend()\n",
    "    graf.show()\n",
    "    \n",
    "    return b"
   ]
  },
  {
   "cell_type": "code",
   "execution_count": 120,
   "metadata": {
    "colab": {
     "base_uri": "https://localhost:8080/",
     "height": 468,
     "referenced_widgets": [
      "9dbacfadc1104aa58c7eebba52a4dc72",
      "b8a1f59873574a5cacee486d43bf8750",
      "c5a745a7354a445fa52865b5c6f32335",
      "1afd99f5913c44fa9b42d68fcb7a9890",
      "b9aceb659cf84d76b6f32c3e491ba422",
      "7bc6b7a3af73419da549cf97b158825c",
      "1caf18cc951045d7b7fc97bd4631e58a",
      "3f522ef5789b413a86032fe0cb6fe0ba",
      "42ede1270d3746899978d239ee451d38",
      "09aa83e2800943c1a732e34b66f520c5"
     ]
    },
    "colab_type": "code",
    "id": "AlwpHQ6OaZNz",
    "outputId": "7db8de84-ae31-43da-dd71-21d99ffb1e82"
   },
   "outputs": [
    {
     "data": {
      "application/vnd.jupyter.widget-view+json": {
       "model_id": "9dbacfadc1104aa58c7eebba52a4dc72",
       "version_major": 2,
       "version_minor": 0
      },
      "text/plain": [
       "interactive(children=(Dropdown(description='función', options=(cos(x), sin(x), tan(x), tan(x)/x, sin(x)/x, (-c…"
      ]
     },
     "metadata": {
      "tags": []
     },
     "output_type": "display_data"
    },
    {
     "data": {
      "text/plain": [
       "<function __main__.limite>"
      ]
     },
     "metadata": {
      "tags": []
     },
     "output_type": "display_data"
    }
   ],
   "source": [
    "t = Symbol('x')\n",
    "lista_funciones = [cos(t), sin(t), tan(t),\n",
    "                   tan(t)/t, sin(t)/t, (1-cos(t))/t,\n",
    "                   log(t), t**2, (t**2+2*t-3)/(t-1)]\n",
    "\n",
    "w = interact(limite,\n",
    "             función = lista_funciones,\n",
    "             a = widgets.IntSlider(min=0, max=16, step=1, value=0))\n",
    "\n",
    "display(w)"
   ]
  },
  {
   "cell_type": "markdown",
   "metadata": {
    "colab_type": "text",
    "id": "HPc9bfZtVFBl"
   },
   "source": [
    "## Solución al ejemplo de la vida real\n",
    "\n",
    " Veamos el comportamiento del parque vehicular en la siguiente gráfica:\n"
   ]
  },
  {
   "cell_type": "code",
   "execution_count": 70,
   "metadata": {
    "colab": {
     "base_uri": "https://localhost:8080/",
     "height": 369
    },
    "colab_type": "code",
    "id": "TC11gT9HVFBl",
    "outputId": "a69ce593-a09c-43d8-f363-df2fd860aada"
   },
   "outputs": [
    {
     "data": {
      "image/png": "[encoded data removed]",
      "text/plain": [
       "<Figure size 720x360 with 1 Axes>"
      ]
     },
     "metadata": {
      "needs_background": "light",
      "tags": []
     },
     "output_type": "display_data"
    }
   ],
   "source": [
    "def f(x):\n",
    "    return (math.e **x)\n",
    "\n",
    "x = np.linspace(0, 10, num=50)\n",
    "y = f(x)\n",
    "\n",
    "par = [{'title':r\"Gráfico de crecimiento vehicular\", \n",
    "        'xlabel':'$x$',\n",
    "        'ylabel':'$y=f(x)$',\n",
    "       'ylim':(0,20000)}\n",
    "      ]\n",
    "\n",
    "graf = vis.planoCartesiano(par=par)\n",
    "graf.plot(x=x, y=f(x))\n",
    "graf.show()"
   ]
  },
  {
   "cell_type": "markdown",
   "metadata": {
    "colab_type": "text",
    "id": "IwI7iS2vVFBo"
   },
   "source": [
    "\n",
    "**Solución**\n",
    "\n",
    "Debido a que nuesto estudio comenzó en el año 0 se esta buscando el límite de la función que describe el comportamiento del crecimiento en el parque vehicular de cierta ciudad, después de la incorporación de la nueva marca al mercado, dado que se visualiza un notable incremento en el año 8 para el cual la marca ya llevaba 2 años vendiendo automoviles, buscaremos el límite de la función cuando nos acercamos al año 9."
   ]
  },
  {
   "cell_type": "code",
   "execution_count": null,
   "metadata": {
    "colab": {
     "base_uri": "https://localhost:8080/",
     "height": 35
    },
    "colab_type": "code",
    "id": "DNmHqfhpdulJ",
    "outputId": "3e7cd28c-3aae-48e9-8b21-46b51117b5c4"
   },
   "outputs": [
    {
     "data": {
      "text/plain": [
       "8103.08392757538"
      ]
     },
     "execution_count": 2,
     "metadata": {
      "tags": []
     },
     "output_type": "execute_result"
    }
   ],
   "source": [
    "x = Symbol('x') \n",
    "y=(math.e **x) \n",
    "limit(y, x, 9)"
   ]
  },
  {
   "cell_type": "markdown",
   "metadata": {
    "colab_type": "text",
    "id": "4r8z9NZIeRt7"
   },
   "source": [
    "Es claro que el crecimiento vehicular en Ciudad del Carmen ha sido rápido por lo que se espera que para el año 9 tengan 8103 automoviles en cisculación según el comportamiento que se ha definido bajo la función exponencial.\n",
    "\n",
    "El uso de los límites facilitan el cálculo y resolución de problemas cotidianos, que pueden ser de gran relevancia para establecer estrategias a seguir.\n",
    "\n",
    "\n",
    "\n"
   ]
  },
  {
   "cell_type": "markdown",
   "metadata": {
    "colab_type": "text",
    "id": "yuSKZnK_14Ji"
   },
   "source": [
    "## Otro caso práctico \n",
    "\n",
    "El departamento de investigación clínica de la NASA tiene un nuevo expediente secreto en el cual han descubierto un organismo vivo encontrado en uno de los satélites que estan en orbita en el espacio exterior. Se analizaron los organismo y se concluyó que tiene características similares a los seres humanos entre las cuales debían monitorear el ritmo cardiaco del organismo. En una crisis el organismo tuvo un paro cardiaco y en los esfuerzos por estabilizarlo utilizaron dos medicamentos no probados anteriormente, lo único que se sabía sobre el médicamento es que el ritmo cardiaco subiría según el comportamiento de la siguiente función:\n",
    "$$Medicamento_1 = |sen(x) \\frac{x}{8}|$$\n",
    "$$Medicamento_2 = |cos(x) \\frac{x}{8}|$$\n",
    "\n",
    "La reacción que ambos mediacamentos tienen en el organismo se comporta de la siguiente manera:\n",
    "$$Medicamento = |sen(x) \\frac{x}{8} - cos(x) \\frac{x}{8}|$$\n",
    "A los medicos les interesa saber el tiempo que tardará el organismo en recuperar el ritmo cardiaco normal de 97 latidos por minuto para retirar el medicamento, pues en caso que tarde más de 15 minutos es muy probable que el resto de los organos colapsen.\n",
    "La función anterior representa los latidos obtenidos según los minutos transcurridos.\n",
    "\n",
    "La gráfica del comportamiento del ritmo cardiaco es la siguiente:"
   ]
  },
  {
   "cell_type": "code",
   "execution_count": 68,
   "metadata": {
    "colab": {
     "base_uri": "https://localhost:8080/",
     "height": 369
    },
    "colab_type": "code",
    "id": "KtffmznGksZI",
    "outputId": "04489725-4318-413f-e5fa-c992aea07661"
   },
   "outputs": [
    {
     "data": {
      "image/png": "[encoded data removed]",
      "text/plain": [
       "<Figure size 720x360 with 1 Axes>"
      ]
     },
     "metadata": {
      "needs_background": "light",
      "tags": []
     },
     "output_type": "display_data"
    }
   ],
   "source": [
    "def f(x):\n",
    "    return abs(abs(np.sin(x)* (x/8))- abs(np.cos(x)*(x/8)))\n",
    "\n",
    "x = np.linspace(0, 10, num=50)\n",
    "\n",
    "par = [{'title':r\"Gráfico del ritmo cardiaco\", \n",
    "        'xlabel':'$x$',\n",
    "        'ylabel':'$y=f(x)$',\n",
    "       'ylim':(0,1.2)}\n",
    "      ]\n",
    "\n",
    "graf = vis.planoCartesiano(par=par)\n",
    "graf.plot(x=x, y=f(x))\n",
    "graf.show()"
   ]
  },
  {
   "cell_type": "markdown",
   "metadata": {
    "colab_type": "text",
    "id": "qf25VLgTpaPM"
   },
   "source": [
    "**Solución**\n",
    "Para conocer los minutos que tardará el organismo en tener 97 latidos por minuto buscaremos el límite de la función cuando x tiende a 97 es decir;\n",
    "$$\\lim_{x \\to 97} |sen(x) \\frac{x}{8} - cos(x) \\frac{x}{8}| $$\n",
    "entonces diremos que el resultado de dicho limute serán los minutos que el organismo tarde en en obtener un ritmo normal.\n"
   ]
  },
  {
   "cell_type": "code",
   "execution_count": null,
   "metadata": {
    "colab": {
     "base_uri": "https://localhost:8080/",
     "height": 35
    },
    "colab_type": "code",
    "id": "n6xRYP-Kr4ob",
    "outputId": "96e1af77-66eb-4ec3-ef18-10aa01ee029f"
   },
   "outputs": [
    {
     "data": {
      "text/plain": [
       "-97*sin(97)/8 - 97*cos(97)/8"
      ]
     },
     "execution_count": 26,
     "metadata": {
      "tags": []
     },
     "output_type": "execute_result"
    }
   ],
   "source": [
    "import sympy as sp\n",
    "x = Symbol('x') \n",
    "y= abs(abs(sp.sin(x)* (x/8))- abs(sp.cos(x)*(x/8)))\n",
    "limit(y, x, 97)"
   ]
  },
  {
   "cell_type": "markdown",
   "metadata": {
    "colab_type": "text",
    "id": "l6mM3-Rl1rjW"
   },
   "source": [
    "Por lo que el organismo tardará alrededor de 6 minutos y medio para alcanzar ritmo cardiaco normal y retirar el medicamento. Lo cual quiere decir que es posible que los medicos de la NASA estabilicen al organismo encontrado.\n",
    "\n",
    "## Referencias\n",
    "Para profundizar en los temas tratados en el presente documento se pueden consultar las siguientes fuentes.\n",
    "\n",
    "\n",
    "\n",
    "*   Cálculo 1 de una variable, Ron Larson, Bruce H. Edwards, México : McGraw-Hill Interamericana, 2010, p.90\n",
    "*   Matemáticas 1 : cálculo diferencial / Dennis G. Zill, Warren S. Wright ; adaptación y revisión técnica, Joel Ibarra Escutia ; p.87, México : McGraw-Hill Interamericana, 2011.\n",
    "*   Cálculo aplicado : competencias matemáticas a través de contextos / autores, Norma Patricia Salinas Martínez, Juan Antonio Alanís Rodríguez, José Luis Garza García, Ricardo Pulido Ríos, Francisco Xavier Santos Leal, Julio César Escobedo Mirales, México, D.F. : Cengage Learning, 2012-2013\n",
    "\n"
   ]
  }
 ],
 "metadata": {
  "colab": {
   "collapsed_sections": [],
   "name": "03_Límites.ipynb",
   "provenance": []
  },
  "kernelspec": {
   "display_name": "Python 3",
   "language": "python",
   "name": "python3"
  },
  "language_info": {
   "codemirror_mode": {
    "name": "ipython",
    "version": 3
   },
   "file_extension": ".py",
   "mimetype": "text/x-python",
   "name": "python",
   "nbconvert_exporter": "python",
   "pygments_lexer": "ipython3",
   "version": "3.7.6"
  },
  "widgets": {
   "application/vnd.jupyter.widget-state+json": {
    "09aa83e2800943c1a732e34b66f520c5": {
     "model_module": "@jupyter-widgets/base",
     "model_name": "LayoutModel",
     "state": {
      "_model_module": "@jupyter-widgets/base",
      "_model_module_version": "1.2.0",
      "_model_name": "LayoutModel",
      "_view_count": null,
      "_view_module": "@jupyter-widgets/base",
      "_view_module_version": "1.2.0",
      "_view_name": "LayoutView",
      "align_content": null,
      "align_items": null,
      "align_self": null,
      "border": null,
      "bottom": null,
      "display": null,
      "flex": null,
      "flex_flow": null,
      "grid_area": null,
      "grid_auto_columns": null,
      "grid_auto_flow": null,
      "grid_auto_rows": null,
      "grid_column": null,
      "grid_gap": null,
      "grid_row": null,
      "grid_template_areas": null,
      "grid_template_columns": null,
      "grid_template_rows": null,
      "height": null,
      "justify_content": null,
      "justify_items": null,
      "left": null,
      "margin": null,
      "max_height": null,
      "max_width": null,
      "min_height": null,
      "min_width": null,
      "object_fit": null,
      "object_position": null,
      "order": null,
      "overflow": null,
      "overflow_x": null,
      "overflow_y": null,
      "padding": null,
      "right": null,
      "top": null,
      "visibility": null,
      "width": null
     }
    },
    "1afd99f5913c44fa9b42d68fcb7a9890": {
     "model_module": "@jupyter-widgets/controls",
     "model_name": "IntSliderModel",
     "state": {
      "_dom_classes": [],
      "_model_module": "@jupyter-widgets/controls",
      "_model_module_version": "1.5.0",
      "_model_name": "IntSliderModel",
      "_view_count": null,
      "_view_module": "@jupyter-widgets/controls",
      "_view_module_version": "1.5.0",
      "_view_name": "IntSliderView",
      "continuous_update": true,
      "description": "a",
      "description_tooltip": null,
      "disabled": false,
      "layout": "IPY_MODEL_42ede1270d3746899978d239ee451d38",
      "max": 16,
      "min": 0,
      "orientation": "horizontal",
      "readout": true,
      "readout_format": "d",
      "step": 1,
      "style": "IPY_MODEL_3f522ef5789b413a86032fe0cb6fe0ba",
      "value": 0
     }
    },
    "1caf18cc951045d7b7fc97bd4631e58a": {
     "model_module": "@jupyter-widgets/base",
     "model_name": "LayoutModel",
     "state": {
      "_model_module": "@jupyter-widgets/base",
      "_model_module_version": "1.2.0",
      "_model_name": "LayoutModel",
      "_view_count": null,
      "_view_module": "@jupyter-widgets/base",
      "_view_module_version": "1.2.0",
      "_view_name": "LayoutView",
      "align_content": null,
      "align_items": null,
      "align_self": null,
      "border": null,
      "bottom": null,
      "display": null,
      "flex": null,
      "flex_flow": null,
      "grid_area": null,
      "grid_auto_columns": null,
      "grid_auto_flow": null,
      "grid_auto_rows": null,
      "grid_column": null,
      "grid_gap": null,
      "grid_row": null,
      "grid_template_areas": null,
      "grid_template_columns": null,
      "grid_template_rows": null,
      "height": null,
      "justify_content": null,
      "justify_items": null,
      "left": null,
      "margin": null,
      "max_height": null,
      "max_width": null,
      "min_height": null,
      "min_width": null,
      "object_fit": null,
      "object_position": null,
      "order": null,
      "overflow": null,
      "overflow_x": null,
      "overflow_y": null,
      "padding": null,
      "right": null,
      "top": null,
      "visibility": null,
      "width": null
     }
    },
    "3f522ef5789b413a86032fe0cb6fe0ba": {
     "model_module": "@jupyter-widgets/controls",
     "model_name": "SliderStyleModel",
     "state": {
      "_model_module": "@jupyter-widgets/controls",
      "_model_module_version": "1.5.0",
      "_model_name": "SliderStyleModel",
      "_view_count": null,
      "_view_module": "@jupyter-widgets/base",
      "_view_module_version": "1.2.0",
      "_view_name": "StyleView",
      "description_width": "",
      "handle_color": null
     }
    },
    "42ede1270d3746899978d239ee451d38": {
     "model_module": "@jupyter-widgets/base",
     "model_name": "LayoutModel",
     "state": {
      "_model_module": "@jupyter-widgets/base",
      "_model_module_version": "1.2.0",
      "_model_name": "LayoutModel",
      "_view_count": null,
      "_view_module": "@jupyter-widgets/base",
      "_view_module_version": "1.2.0",
      "_view_name": "LayoutView",
      "align_content": null,
      "align_items": null,
      "align_self": null,
      "border": null,
      "bottom": null,
      "display": null,
      "flex": null,
      "flex_flow": null,
      "grid_area": null,
      "grid_auto_columns": null,
      "grid_auto_flow": null,
      "grid_auto_rows": null,
      "grid_column": null,
      "grid_gap": null,
      "grid_row": null,
      "grid_template_areas": null,
      "grid_template_columns": null,
      "grid_template_rows": null,
      "height": null,
      "justify_content": null,
      "justify_items": null,
      "left": null,
      "margin": null,
      "max_height": null,
      "max_width": null,
      "min_height": null,
      "min_width": null,
      "object_fit": null,
      "object_position": null,
      "order": null,
      "overflow": null,
      "overflow_x": null,
      "overflow_y": null,
      "padding": null,
      "right": null,
      "top": null,
      "visibility": null,
      "width": null
     }
    },
    "7bc6b7a3af73419da549cf97b158825c": {
     "model_module": "@jupyter-widgets/controls",
     "model_name": "DescriptionStyleModel",
     "state": {
      "_model_module": "@jupyter-widgets/controls",
      "_model_module_version": "1.5.0",
      "_model_name": "DescriptionStyleModel",
      "_view_count": null,
      "_view_module": "@jupyter-widgets/base",
      "_view_module_version": "1.2.0",
      "_view_name": "StyleView",
      "description_width": ""
     }
    },
    "9dbacfadc1104aa58c7eebba52a4dc72": {
     "model_module": "@jupyter-widgets/controls",
     "model_name": "VBoxModel",
     "state": {
      "_dom_classes": [
       "widget-interact"
      ],
      "_model_module": "@jupyter-widgets/controls",
      "_model_module_version": "1.5.0",
      "_model_name": "VBoxModel",
      "_view_count": null,
      "_view_module": "@jupyter-widgets/controls",
      "_view_module_version": "1.5.0",
      "_view_name": "VBoxView",
      "box_style": "",
      "children": [
       "IPY_MODEL_c5a745a7354a445fa52865b5c6f32335",
       "IPY_MODEL_1afd99f5913c44fa9b42d68fcb7a9890",
       "IPY_MODEL_b9aceb659cf84d76b6f32c3e491ba422"
      ],
      "layout": "IPY_MODEL_b8a1f59873574a5cacee486d43bf8750"
     }
    },
    "b8a1f59873574a5cacee486d43bf8750": {
     "model_module": "@jupyter-widgets/base",
     "model_name": "LayoutModel",
     "state": {
      "_model_module": "@jupyter-widgets/base",
      "_model_module_version": "1.2.0",
      "_model_name": "LayoutModel",
      "_view_count": null,
      "_view_module": "@jupyter-widgets/base",
      "_view_module_version": "1.2.0",
      "_view_name": "LayoutView",
      "align_content": null,
      "align_items": null,
      "align_self": null,
      "border": null,
      "bottom": null,
      "display": null,
      "flex": null,
      "flex_flow": null,
      "grid_area": null,
      "grid_auto_columns": null,
      "grid_auto_flow": null,
      "grid_auto_rows": null,
      "grid_column": null,
      "grid_gap": null,
      "grid_row": null,
      "grid_template_areas": null,
      "grid_template_columns": null,
      "grid_template_rows": null,
      "height": null,
      "justify_content": null,
      "justify_items": null,
      "left": null,
      "margin": null,
      "max_height": null,
      "max_width": null,
      "min_height": null,
      "min_width": null,
      "object_fit": null,
      "object_position": null,
      "order": null,
      "overflow": null,
      "overflow_x": null,
      "overflow_y": null,
      "padding": null,
      "right": null,
      "top": null,
      "visibility": null,
      "width": null
     }
    },
    "b9aceb659cf84d76b6f32c3e491ba422": {
     "model_module": "@jupyter-widgets/output",
     "model_name": "OutputModel",
     "state": {
      "_dom_classes": [],
      "_model_module": "@jupyter-widgets/output",
      "_model_module_version": "1.0.0",
      "_model_name": "OutputModel",
      "_view_count": null,
      "_view_module": "@jupyter-widgets/output",
      "_view_module_version": "1.0.0",
      "_view_name": "OutputView",
      "layout": "IPY_MODEL_09aa83e2800943c1a732e34b66f520c5",
      "msg_id": "",
      "outputs": [
       {
        "image/png": "iVBORw0KGgoAAAANSUhEUgAAAsAAAAFgCAYAAAC128+cAAAABHNCSVQICAgIfAhkiAAAAAlwSFlzAAALEgAACxIB0t1+/AAAADh0RVh0U29mdHdhcmUAbWF0cGxvdGxpYiB2ZXJzaW9uMy4yLjIsIGh0dHA6Ly9tYXRwbG90bGliLm9yZy+WH4yJAAAgAElEQVR4nO3deXzc1X3v//dndo0ky/u+2zJmx0AAY4fNBDCEEEJY4rAkpE1bsrUNLU3zS3P7aHuT0Nz0JiU3v+Y2ELYQDAYCgbCEJYQECGB2jC2vsmzL8ipLGs1+7h8zNrKRZcka6Tua7+v5eOgxM9/ZPuJ4Dm+dOed8zTknAAAAwC8CXhcAAAAADCYCMAAAAHyFAAwAAABfIQADAADAVwjAAAAA8BUCMAAAAHyFAAwAAABfIQADQAUzs4fN7MY+PH6+mTWaWdVA1gUAXiIAA0CFMrNFkk6RdEtvn+Oce1HSO5K+PlB1AYDXCMAAULn+VtIdzrlkH5/335K+ZGbhAagJADxHAAYAD5nZl8zsPTNLmVmLmS0rHq81s/8ys23F+141s/MOeO4/mtna4v3bzOyJvVMXzGyUpAskPdTl8bPNbI+Z/U2XY0eaWYeZfbHLSz8maaSkRQP4qwOAZwjAAOARM/tnSd+T9H8kHatCYF1evPtWSedLulrSCZL+IOnXZja3+NxPSfoHSV+TVC/pY5J+0+XlF0pyXV5PzrnVkv5K0nfN7EQzi0m6V9KjzrmfdnlcUtKbks4u8a8MAGXBnHNe1wAAvmNm1ZK2S/qWc+77B9w3W1KDpIucc491Ob5c0hvOueuLo7h/Jelo51ymm9f/a0nfcM6N6+a+2yQtUCFUnyXpBOdc6wGPeUBSzjl3ef9+UwAoP4wAA4A3jpYUk/RkN/cdVbx8/oDjzxefJ0lLJYUlbTCzn5vZNWZW2+WxVZIONvf3y5JCkq6VtOTA8FuULL4GAFQcAjAADEHOuU2S5kq6XlKLpG9JWmlmU4oP2abCPN7uzJY0UYUpErMP8piRxdcAgIpDAAYAb7ynwijred3c927x8owDjp+hwhZlkiTnXMo597hz7u9VmEMcl/TJ4t3LJdWY2dSuL1CcevHL4s+Nkn5cnHJxoGMlvdqn3wgAhoiQ1wUAgB8559rN7H9J+h9m1inpKRWmHFzonPuOmd0n6f+Y2V9I2qDCfN9jJC2RJDP7ggqDGH+StFuFHRtqVQjWkvSGpC2SzpR0Z5e3/pGkoArTIDoknSvpHjM7fe9cYjOrlzRB+y+qA4CKwQgwAHjnW5K+KemrKozsPinpxOJ9fybpCUl3qbAjwwJJH3fOvV+8f5ekz0t6TtIKFfb8/aJz7mlJcs7lJf2XpGv2vpmZXaHCrhJXOefaXWEV9OdUmA7xP7vUdbWkp5xza0v76wJAeWAXCACoUGY2QtJKSec7517v5XNqJK2W9Enn3EsDWR8AeMXTEWAzu7W48fs7XY6NNLOnzKyheDnCyxoBYKhyzu1SYTR3Yh+eNkPS/0f4BVDJPB0BNrMzJLWrcKrOY4rHbpa00zn3XTP7B0kjnHM3eVYkAAAAKornUyDMbLqkX3cJwCslneWc22JmEyQ955w7outzWltbmbcBAACAXqmrq7Out8txEdw459yW4vVmSR86ixEAAABwuMoxAO9TXKHMaC8AAABKphwD8Nbi1AcVL1s8rmc/DQ0NXpeAAUC7Vi7atjLRrpWLtq1M5dau5RiAH5Z0XfH6dZJ+5WEtAAAAqDBeb4N2j6QXJR1hZk3FMxt9V9LHzKxBhTMUfdfLGgEAAFBZPD0VsnPuMwe5a9GgFgIAADAEOefU3t6ufD7vdSk9isViam1tHbDXDwQCqqmpkZkd+sHyOAADAADg8LW3tysajSoSiXhdSo+i0ahisdiAvX46nVZ7e7tqa2t79fhynAMMAACAXsjn82UffgdDJBLp0yg4ARgAAAC+QgAGAACArxCAAQAA4CsEYAAAAHjmzTff1Je//OUeH/PTn/5Ud955Z8nek10gAAAAKsTw2zaV9PV2f35SSV+vOz/4wQ9044039viYq6++Wueff76uueaakrwnI8AAAAA4bPfcc49OP/10LViwQF/84he1YcMGXXzxxTr99NP1iU98Qhs3bpQkPfTQQ5o/f74WLFigxYsXS5La2tr07rvv6thjj5Uk3XTTTfre974nSXr66ae1ePFi5fN5xeNxTZ06Va+99lpJamYEGAAAAIdlxYoV+v73v68nn3xSo0aN0q5du/SXf/mX+sxnPqMlS5bozjvv1E033aRbb71VN998s5YtW6aJEydq9+7dkqTXX39dRx555L7X+/a3v61zzjlH8+fP10033aT77rtPgUBhvHbevHn64x//qJNOOqnfdTMCDAAAgMPy/PPP65Of/KRGjRolSRoxYoReeeUVXX755ZKkq666Si+99JIk6dRTT9UNN9yg22+/fd+evVu3btXo0aP3vV48HtcPf/hDXXrppfrzP/9zzZgxY999Y8aMUXNzc0nqZgQYAACgQgzGnN3D9R//8R969dVX9cQTT+jMM8/U7373O8ViMSWTyf0e995772nkyJEfCrvJZFJVVVUlqYURYAAAAByWM844Qw899JB27twpSdq1a5dOOeUULVu2TJK0dOlSzZ8/X5K0bt06nXzyyfrmN7+p0aNHq6mpSUcccYTWrVu37/UaGxt1yy236Pnnn9dTTz2lV199dd99q1ev3m+6RH8wAgwAAIDDcuSRR+rrX/+6LrroIgUCAR133HG6+eab9aUvfUk/+tGPNHr0aP34xz+WJH3rW9/S2rVr5ZzTGWecoWOPPVZmpj179qitrU01NTX6yle+on/5l3/RhAkTdMstt+iGG27QM888o1gsppdfflnf+MY3SlI3ARgAAACHbcmSJVqyZMl+xx555JH9bieTSd11113dPv+zn/2sHnzwQV177bX61a9+te/4CSecoD/+8Y+SCnsFz507VyNHjixJzUyBAAAAgGe+8IUvKBKJ9PiYnTt36pvf/GbJ3pMRYAAAAHgmFovpqquu6vExZ599dknfkxFgAAAA+AoBGAAAAL5CAAYAAICvEIABAABw2CZN+vDJN2699Vbdc889fXqd8847T5K0YcMG3XfffSWp7WBYBAcAAICSuv766/v8nCeffFJS4WQY999//77TKQ8ERoABAAB8orWxVY9/9VEtu/JePf7VR9Xa2Dog7/Od73xH//mf/ylJuuiii/RP//RPOuuss3TKKado+fLluvrqq3XiiSfqX//1X/c9Z+9I8j//8z/rxRdf1MKFC/XjH/9YuVxO3/rWt3T22Wfr9NNP12233dbv+hgBBgAA8IHWxlY9ePVStW74IPQ2v7FZl951heqm1g3oe4fDYT333HP6yU9+oiVLlui5557TiBEjNG/ePN1www37neDi29/+tm655Rbde++9kqSf//znGjZsmJ599lmlUimdf/75OvvsszV9+vTDrocRYAAAAB948fsv7Bd+Jal1Q6te/P4LA/7e559/viTpqKOO0ty5czV+/HhFo1FNmzZNTU1NPT73mWee0S9/+UstXLhQixYt0s6dO7V27dp+1cMIMAAAgA90bG3v/nhL98dLae+Z3gKBgKLR6L7jgUBAuVyux+c653TzzTdr0aJFJauHEWAAAAAfqB5X0/3xsd0f90ptba3a2tr23V60aJF+9rOfKZPJSJJWr16tjo6Ofr0HI8AAAAA+MP/GhWp+Y/N+0yDqptVp/o0L+/W6iURCRx111L7bN9xwQ79e7+ijj1YwGNSCBQu0ZMkS/dVf/ZUaGxt15plnyjmnUaNG6e677+7Xe5hzrl8v4IXW1lbPim5oaFB9fb1Xb48BQrtWLtq2MtGulYu27ZvW1lbV1fV+AVtrY2HOb0dLu6rH1mj+jQsHfAGcJCWTScVisQF9j57+W9TV1VnX24wAAwAA+ETd1Dpd8KOLvC7Dc8wBBgAAgK8QgAEAAOArBGAAAIAhKhAIKJ1Oe12G59LptAKB3sda5gADAAAMUTU1NWpvb1dnZ6fXpfRoz549GjZs2IC9fiAQUE1N77dzIwADAAAMUWam2tpar8s4pJaWFk2ZMsXrMvZhCgQAAAB8hQAMAAAAXyEAAwAAwFcIwAAAAPAVAjAAAAB8hQAMAAAAXynbAGxmf2Nm75rZO2Z2j5nFvK4JAAAAQ19ZBmAzmyTpq5JOds4dIyko6SpvqwIAAEAlKMsAXBSSVGVmIUlxSZs9rgcAAAAVwJxzXtfQLTP7mqR/k9Qp6Unn3Gf33tfa2rqv6IaGBg+qAwAAQDmrr6/fd72urs663leWp0I2sxGSLpE0Q9JuSfeZ2dXOubsOfGzXX24wNDQ0DPp7YuDRrpWLtq1MtGvlom0rU7m1a7lOgThX0jrn3DbnXEbSA5JO97gmAAAAVIByDcCNkk4zs7iZmaRFklZ4XBMAAAAqQFkGYOfcy5Lul7Rc0tsq1PlTT4sCAABARSjLOcCS5Jz7tqRve10HAAAAKktZjgADAAAAA4UADAAAAF8hAAMAAMBXCMAAAADwFQIwAAAAfIUADAAAAF8hAAMAAMBXCMAAAADwFQIwAAAAfIUADAAAAF8hAAMAAMBXCMAAAADwFQIwAAAAfIUADAAAAF8hAAMAAMBXCMAAAADwFQIwAAAAfIUADAAAAF8hAAMAAMBXCMAAAADwFQIwAAAAfIUADAAAAF8hAAMAAMBXCMAAAADwFQIwAAAAfIUADAAAAF8hAAMAAMBXCMAAAADwFQIwAAAAfIUADAAAAF8hAAMAAMBXCMAAAADwFQIwAAAAfIUADAAAAF8hAAMAAMBXCMAAAADwFQIwAAAAfIUADAAAAF8hAAMAAMBXyjYAm9lwM7vfzN43sxVmNt/rmgAAADD0hbwuoAc/lPS4c+7TZhaRFPe6IAAAAAx9ZRmAzaxO0hmSPidJzrm0pLSXNQEAAKAymHPO6xo+xMxOkPRTSe9JOl7Sa5K+5pzrkKTW1tZ9RTc0NHhSIwAAAMpXfX39vut1dXXW9b5yDcAnS3pJ0gLn3Mtm9kNJe5xz35L2D8CDraGhYb//oKgMtGvlom0rE+1auWjbyuR1ux4YgMt1EVyTpCbn3MvF2/dLOtHDegAAAFAhyjIAO+eaJW00syOKhxapMB0CAAAA6JeyXARX9BVJdxd3gFgr6fMe1wMAAIAKULYB2Dn3hqSTva4DAAAAlaUsp0AAAAAAA4UADAAAAF8hAAMAAMBXCMAAAADwFQIwAAAAfIUADAAAAF8hAAMAAMBXCMAAAADwFQIwAAAAfIUADAAAAF8hAAMAAMBXCMAAAADwFQIwAAAAfIUADAAAAF8hAAMAAMBXCMAAAADwFQIwAAAAfIUADAAAAF8hAAMAAMBXCMAAAADwFQIwAAAAfIUADAAAAF8hAAMAAMBXCMAAAADwlVBvH2hmYyWdL+l4ScMl7Zb0pqSnnHPNA1MeAAAAUFqHHAE2syPN7H5JKyRdIyksqbl4eY2kd83sfjM7akArBQAAAEqgNyPAP5f075I+65xLHXinmUUlfULSzyTNL2l1AAAAQIkdMgA7507de93MQs657AH3pyTdV/wBAAAAylpfF8H9xsxqBqQSAAAAYBD0NQC/IekPZjZx7wEzO8PMfl/asgAAAICB0etdICTJOfd3ZrZGhRD8DUlfkHSsCnOEAQAAgLJ3OPsAvyhpj6S7JW2UNMM5979KWhUAAAAwQPoUgM3sQUnPSVom6VMq7At8TunLAgAAAAZGn6ZASFol6QvOuZ2SZGZrJT1sZtOdcz8ueXUAAABAifVpBNg5d9Pe8Fu8/bakhZL+vNSFAQAAAAPhcOYA78c5t0nSR0tQCwAAADDgenMq5K8Wz/bWk7SZfbVENQEAAAADpjdzgMdLWm1mj0n6naSVktok1UqaI+ksSYsl3TFANQIAAAAl05sAPFbSPEmf0wf7/g6XtEvSW5Iek/SPzrkdA1QjAAAAUDK9CcCXOuf+TNL3zewa59zYgS4KAAAAGCi9WQT3mpndYmZnSpox0AV1ZWZBM3vdzH49mO8LAACAytWbALxEUkrSjyRVm9kWM3vczL5nZkvM7GgzCw5QfV+TtGKAXhsAAAA+dMgA7Jzb7pz7unPueBUWv50j6fbi3ddK+q2k9lIXZmaTJV0k6b9L/doAAADwL3PO9f7BZmHnXKab4+Occ1tLWpjZ/ZK+o8JuEzc65z6+977W1tZ9RTc0NJTybQEAAFAB6uvr912vq6uzrvf16VTI3YXf4vFSh9+PS2pxzr1mZmf19Niuv9xgaGhoGPT3xMCjXSsXbVuZaNfKRdtWpnJr136fCW6ALJD0CTNbL+mXks4xs7u8LQkAAACVoCwDsHPuG865yc656ZKukvSMc+5qj8sCAABABSjLAAwAAAAMlD4HYDN7uMv1R0tbzoc5557rugAOAAAA6I/DGQFe2OX6R0tVCAAAADAYDicA26EfAgAAAJSnwwnAvd84GAAAACgzjAADAADAVxgBBgAAgK/0dwSY0WAAAAAMKYcTgF/ocv33pSoEAAAAGAx9DsDOuYu7XL+wtOUAAAAAA4szwQEAAMBX+hSAzax6oAoBAAAABkNfR4AbzOwGMwsNSDUAAADAAOtrAD5P0mJJ75vZVQNQDwAAADCg+hSAnXPvFBfBXS/pa2a23MzOG5jSAAAAgNI7rEVwzrnnnXPzJf2rpP/fzJ42s4+UtjQAAACg9Po0l9fMxkk6scvPSZLGS9oh6X4ze0HSV5xzO0tdKAAAAFAKfR0B3iTpZkmzJT0t6XJJw5xzHykeWy/pgVIWCAAAAJRSX3dzqHPOdXR3h3MuI+mbZra7/2UBAAAAA6Ovi+C6Db8HOPswawEAAAAGXMnPBOece73UrwkAAACUCqdCBgAAgK8QgAEAAOArBGAAAAD4CgEYAAAAvkIABgAAgK8QgAEAAOArBGAAAAD4CgEYAAAAvkIABgAAgK8QgAEAAOArBGAAAAD4CgEYAAAAvkIABgAAgK8QgAEAAOArBGAAAAD4CgEYAAAAvkIABgAAgK8QgAEAAOArBGAAAAD4CgEYAAAAvlKWAdjMppjZs2b2npm9a2Zf87omAAAAVIaQ1wUcRFbS151zy82sVtJrZvaUc+49rwsDAADA0FaWI8DOuS3OueXF622SVkia5G1VAAAAqATmnPO6hh6Z2XRJz0s6xjm3R5JaW1v3Fd3Q0OBNYQAAAChb9fX1+67X1dVZ1/vKdQqEJMnMaiQtk/TXe8Pvgbr+coOhoaFh0N8TA492rVy0bWWiXSsXbVuZyq1dy3IKhCSZWViF8Hu3c+4Br+sBAABAZSjLAGxmJulnklY4537gdT0AAACoHGUZgCUtkHSNpHPM7I3iz4VeFwUAAIChryznADvnXpBkh3wgAAAA0EflOgIMAAAADAgCMAAAAHyFAAwAAABfIQADAADAVwjAAAAA8BUCMAAAAHyFAAwAAABfIQADAADAVwjAAAAA8BUCMAAAAHyFAAwAAABfIQADAADAVwjAAAAA8BUCMAAAAHyFAAwAAABfIQADAADAV0JeFzBUtDa26sXvv6Bt61u0Zvoqzb9xoeqm1u27//ktKVUFTXURU10koGGRgGJBycw8rBoA/MM5p0TWqS3j1JbJqy39wfVkzimbl3LOKeekXF7KOieTFAmaokFTNGCKBKVo0FQdMo2IBjQ8EtDwaEDRIH05UEkIwL3Q2tiqB69eqtYNrZKknW/uUPMbm3XpXVfsC8FX/XaHElm33/MiAWlULKDx8aDGVwU1IR7U+Hjh9tSaoKbXhjSlOqhggI4VAHqSd05bEnmtb8tqfVtWbzaGlNu+W82JnFo6c2ruzKulM6dUbmDePx4yDY+YRseCmlgd1KTqQp8+MR7QpOqgptaENKUmqBD9OTAkEIB74cXvv7Av/O7VuqEwInzBjy5SOuc+FH4lKZ2XtiTy2pLIS8p0+9rhgDStJqSZw4KaURvSnOEhHT0irCNHhFUXYYYKAH9pz+S1cndW7+3KaMXujBp2Z7W+PacNbVml810fGZHUMWh1JbKFfn5zIq+3dh68P59eG9KsYYWf2cNCOmJ4SEePpD8Hyg0BuBc6trZ3f7ylcHxPJt/t/b2RyUur92S1ek9WUmq/+6bUBHXUiLCOGRHScaMiOml0WJOqg0yrAFARWjpzWr49reXbM3prR0YrdmW0oX2AhnAHQSYvNbRm1dCa/dB9U2uCOmZkWMeODOuYkWHNG0V/DniJANwL1eNquj8+tnA8l5fOmhhVazqvPem8WtNOrem8+pGLJUkb23Pa2J7TExs/ODa+KqCTxkR08piIThpTCMXVYUYWAJS3ZNZp+fa0/tSS1mvb03p9e0ZNHaUPu9GgNCwcUG3YVBspXoYDiodMwYAUNFPIpKBJwYDJOSmVd0rlCj/pnFMqXxiJ3pXKa3fKaXc6r9yHv+Trk8b2nBrbc3qsMbnv2IR4QCePiegjxT79hNFhxUP058BgIAD3wvwbF6r5jc37TYOom1an+TculCSNiwf10Pmj93uOc06dOaeWzryaEzk1J/LaksipOZHTlkRO69tyWtuW1fZk31Jyc2dejzYm9WixEw2ZNG90WAvHR7VgfFSnjouolkAMwGPtmbxeaUnrD1vT+mNzSq9tT/d7fu6IqGlGbUjTa0OqyezRUZNGa1xVQGOrghpXFdC4eFA1ISv5qKpzhcV0O1OFecabO/LanMhpc0ehP2/qyGldW1YtnX3rz7ck8npkQ1KPbPigPz+h2J9/dEJUp42NMMABDBBzrp9/1nqgtbV10IvetwvEhhaNmTb2Q7tAHPbrpvNatyerdW1ZrW7NakVx7ltDa/awRhyCJp0wKqwzJ0a1aFJMp4yNKMyijENqaGhQfX2912VgANC2gyObd3p9e0bPbE7q2U0pvbItfVh9WMCkmbUhHTkipCNHhHXk8JBmDgtpWk1Iw6MfhMFybNfWdF5r92S1Zk+hP29ozerdfvTnIZNOGhPRR8dHddakqE71SX9ejm2L/vO6Xevq6vb78BCA+2iwGjCZdVrVmtG7u7J6e2dar23L6M0daSX7OIJSGzadMaEQhs+ZFNX0Wgb9u+P1BxMDh7YdOJs6cnqqKalnNiX1uy0ptab71jWHA9IxI8M6cXRE80YX5sfOqQurKnTokDeU2rUz6/T+7oze3pnROzsL853fOIz+fFjYdObEqM6dFNO5k2OaVB0cmII9NpTaFr3ndbseGIBJQ2UqFjIdNyqi40ZF9BnFJUmZvNO7OzN6bXtar27L6E8tKa3Z03MP2pZx+02ZmDs8pMVTYrpwapVOGhNWgAUYAHrJOac3d2T0m41J/aYxedDdEA5mcnVQ88dFdMrYiE4aHdHRI8O+2F+3KmSaNzqieaMj+45l8k7v7MzolZa0Xt2W1ivb0lrX1nN/vifj9psycdTwkC6YGtNFU6s0bzT9OdAXBOAhJBwwnTA6ohNGR/SFuYVjWxI5/aE5pT80p/RCc7rb1cddvb87q/d3t+s/3m7XuKqALpgS0+KpMZ01IaZYL0ZdAPhLJu/0wpaUHtmQ1OMbO7U50ft5rrOGBbVgfFSnj4vq9PERTa3hfzl7hQMfhOIvFo81J3J6oTml328p/Kw9RCB+b3dW7+1u1w/eateEeEAXTq3SRVNjWjg+qogP/rAA+oPeaIibEA/q0zPj+vTMwihxcyKn57ek9PSmpJ7ZlNK2HhbZbe3M6/ZVCd2+KqHasGnxlJgumV6lRZMIw4CfpXNOv9uS0q/Wd+rRxk7tSvVuasOIqOnsiTGdPTGqsydGNZnA2yfjD+jPN3UUAvEzm5J6elOqx0XTWxJ5/ez9Dv3s/Q4NC5sumBrTpdOrdM6kmC9G2YG+oneqMOPjQV0xK64rZsWVd05v78zo6U0p/bYpqZdbDr4opS3jtHRtp5au7dwvDJ87mc4T8INM3ul3m1Natq5TjzV29mo+r0n6yJiIzpsS06JJUR03MsyZLUtoUnVQV86K68pif/7Wjoyeakrqt8VFhvmDNNGejNPSNZ1auqZTwyKmi6ZW6dLpVTprIiPDwF4E4AoWMNPxoyI6flREf3tcrXan8nqyKanHGpN6elNSbZnue8+uYbguYrpkepU+PTOuheMjzDEDKohzTn9qSev+tZ16cH1nr7ZljIdMZ0+MavHUmM6fHNOYqspciFVuAvbBFLi/O0HalcrrqaakHm3s1G+bUuro5mykkrQn7XTP6oTuWZ3Q8GJ/fsWsuOaPoz+HvxGAfWR4NLBvdDiVc3qhOaXHGpP69YZObT3I/pWtaac7ViV0x6qEJsYDumxmXJfPrNKxI8OcwQgYolbuzujeNQndv7ZTjb0489qIaGEU8eJpVTpzQpQpUmVgRJf+PJl1en5LSo82duqxxuRBp77tTrt9094mVwd1+cxCGD5yRHiQqwe8xzZofeT1Nh4DIZd3eqklrYfWderhHsJwV0eNCGnJ7ELnO7YCRoAqsV1RQNsW7EzmtGxdp+5ZndDy7YfevWFUNKCLpxWmQi2cEC27/Wdp1+7l8k4vtqT14LpOPby+s8d1IHsdMzKsz8yO64qZVWUxok/bViav25V9gPvJ6wYcaF3DcG++Eg2adO7kmJbMjuuCKUN3vnClt6uf+bltM3mnp5qSumd1Qo9vTB7y9Ox7pzxdNqNKC8ZHFSqz0NuVn9u1t7J5pz80p/XQ+oQeXp/UjlTP/wBCJp03pdCfnz8l5tkfPbRtZfK6XdkHGD0KBkwLiqdV/p+n1um5zSndtyahRxuT3c4xyznpiY1JPbExqRFR0xUz47pmTrWOGclXaoBXGlozumtVQvesSRzy9LyxoLR4SpU+PZNFr5UmFCicOOPMiVHdfJrTs5tSWro2oUc3JNXZzYrorJMeayysExkdC+jymVW6Zk61jmKKBCoQARgHFQ6YPjY5po9Njqkjk9dvNia1dE1CT29KdbubxK6U03+t6NB/rejQiaPDuqa+WpfNrNKwCOeyBwZaeyavh9Z36q5VCb3Uku7xsSbpoxOiumpWlS6eXqXaMJ/RShcOmM6bEtN5U2Jqy+T16IZCf/7cllS3u3ChrVIAABkZSURBVElsT+b1k/c69JP3OnTymLCunVOtS2fwbwWVgwCMXqkOB/btT9mcyOm+NQn9YnVCK3Z3f+KN5dszWr59t/7xT6365IwqXTcnrlPHRlg4B5TYG9vTun1Vh+5b06n2g+wEsNesYUF9Zna1rpxVpSns0etbteGArpod11WzC/350jUJ3d2Q0MqDnEjp1W0Zvbptt77xcqs+NaNK186p1sljWAiNoY0eEH02Ph7UV46t1ZePqdGbOzK6e3VC969NdLtZfmfugy14jhwe0nVHVOuqWXENjzKKAByuPem8lq3t1M9XdejNHT0vaBsWNl02s0pLZhNa8GHj40F99dhafeWYGi3fntEviv15d/tAd2Sd7mxI6M6GhI4aEdLnj6jW5TPpzzE0sQiuj7yexF2uUjmnxxo7dceqhJ7bnFJPDRQLSpdMr9LnjqjWaWUyKky7Vq5KatvXt6d16/sdWrauU4lDjPYuGB/R1fXVumR6TPFQ5QWUSmrXcpPMOj3a2Kk7Gwr9eU+qgqZPzazS54+o1kmjS/MHFm1bmbxuVxbBYUBEg6ZLZ8R16Yy4Gtuzuruh8JVaU8eH9xhN5qR713Tq3jWdOnJ4YRThytlx1TFXGPiQ9kxeD6zr1K3vd+iNQ4z2jq8KaEl9XFfXV2vmMLp3HJ5YyHTZzLgumxnX+ras7mpI6O6GDm1JfHhBZWfO7evvjx4R0vVzC6PCrP1AuWMEuI+8/gtmKMnlnZ7dnNLPV3boNxuTBz0Ns1Q4u9RlM6p0/dxqzRsdGbwii2jXyjVU2/bdnRndtrJDS9cktOcgZ22UCgvaPjY5quvmVOv8KbGy3rqslIZquw5V2bzT05sK/fkTTcmDnoZZkmpCpstnFUaFjxvV9/6ctq1MXrcrI8AYNMGA6dzJMZ07OabmRE53NyR0+6qObs88legyt+yEUWFdP7dal82oUjUrjuEjyazTrzZ06rb3Ow65k8PEeEBXz6nW1fVxTWVBGwZYKGA6f0pM50+JaXNHTnc2dOjOVd1/y9eedbptZUK3rUzo5DFhff6Iwg4SlTgVB0NX2Y4Am9kFkn4oKSjpv51z3917HyPAQ1feFUaFb3v/0KPCwyKmq2bFdf3cas0dPrD7UNKulWsotO26PVndtrJDdzUktLOHkxWYpHMnRfW5I/w12tudodCulS6Xd/ptL0eF6yKmJbML/Xl9Xc/9OW1bmbxu1yExAmxmQUk/lvQxSU2SXjGzh51z73lbGforYKZFk2JaNCmmLYmc7lzVodtXJrQp8eFRhD1pp5+u6NBPV3RowfiIrj+iWhdPq1KEjfpRAbJ5p8c3JnXr+x165hALjcZWBXRNfVzXzqnWtNqy7LbhQ8Euo8JN7Vnd0ZDQHSs71NzNyVda027fvsJnTIjqC3OrdeFU7842B5RrT3qKpNXOubWSZGa/lHSJJAJwBZkQD+rvTximvz2uVk81JXXbyg491dT9DhJ/aE7rD81pjYm16po5hSAwnSCAIWhzR053rOrQHas6tLmbRUVd7Q0Ki6fE+MMPZW1yTUj/OG+Y/u74Wj2+ManbevjD7vktKT2/JaVxVQFdM6da182Jsy81Bl1ZToEws09LusA592fF29dIOtU592Vp/ykQDQ0N3hSJAbEpaXqwOaSHt4a0K3Pw/+GbnOaPyOuy8VktGJkT2QDlLO+kV3YHtKw5pOd3BJXTwf/BDgs5fXxsVpeOz2p6vPz6Z6C3NnZ+0J+3Zg/+bz4gpwUjc7psfFanjcjTn6Nkuk65OHAKxJAPwIPN6zksfpHKOT2yobD10x+39rwYaHJ1UNfMieua+mpNrA4e1vvRrpXLy7bd1pnTL1Yn9POVHVrX9uFpPl2dNLqw+PNTM+KqCpEADoXP7NCxd3Hnre936OVDLO6cUhPUx0d16munTdX4+OH15yhPXn9mh8QcYEmbJE3pcnty8Rh8Ihq0fadeXrEro1tXduje1d1vB9XUkdN3Xm/TzW+06fwpMX3+iGqdMzGqIHPL4AHnnF5oTuu2lR16ZEOnMj3McoiHTJcXTyJwggfb/wGDIRYyXTkrritnxfVOcXu/e1cnuj1198b2nH7SHtH/bWzW4qmF/vysiVEFyuCESags5ToCHJK0StIiFYLvK5KWOOfelRgB9quOTF7LenlCgCk1QV03p1qfrY9rQi9GEWjXyjVYbbs9mdM9DQnd0ZBQQ2u2x8ceObxwwoArZnECmMPFZ3Zoa8vkdf+aTv1sZYfe2dlzfz699oP+fGwVo8JDldef2SExBUKSzOxCSf9bhW3QbnXO/dve+wjAeH17Wj97v0PL1naqs4e91IImnTc5puuOiOvcSQffNop2rVwD2bZ55/S7zSndviqhRxt7Hu2NBqVLplXp83PL5xTgQxmf2crgnNOr2wrf8j24LqFkDzOFQiYtnhrTtXP4lm8o8vozO2QCcE8IwNhrdyqvpWsKcyzf293zqNvEeEBL6qt1TX38Q1tJ0a6VayDadlNHTvesTujOVR3a0M2JXbqaNSyozx1RrSWz4xoVY/SqVPjMVp5dqbx+uTqhn769S+s6e/5mZHJ1UJ+tj+uznAhmyPD6M0sA7ievGxDdc87pTy1p3bqyQw+t71Sq50yiMyZE9dn6uC6eFlM8FKBdK1ip2jaVc/pNY1J3NXTo6U3db9e3VzggXTS1MLf3jAmM9g4EPrOVa9WqBm0fNlU/X9mhX23ouT83SWdNLPTnF02tYgFpGfP6MztUFsEBfWJmOnVcVKeOi+q7p+Z175rChuwHGxXeuw/l34VNn5pRpTNiAc12jqCC/Tjn9NbOjH7RkNDStQntSvX8t/esYYW5ip+ZHdcY5ioCh8VMOn18VKePj+q7yZzuWdOpO1Z2aGU3c+udpGc3p/Ts5pSGRXbr0zPiWlIf10mjw/Tn6BEjwH3k9V8w6L29c8vuWNWhB9Z1qqObFcdd1deFdOWsuC6fWcXZtirI4XxmN3fkdN/ahO5dnTjk1Jq9c3uvPaJaC8Yx2jtY6IsrV3dtu/dbvjsaEnpwXacSh+jP5w4P6apZcX16ZpUmM0WiLHj9mWUKRD953YA4PHvSeT2wrlN3NXTo1W09rziWpNPHRXTlrLgumV6l4VFW6Q9lvf3MtmfyerQxqV+uTui5zT1PcZCk40aGdXV9XJfPimsE/0YGHX1x5TpU27am83pgbaduX3XoHYFM0oLxEV1R7M/ZdcU7Xn9mCcD95HUDov/e353R3Q0J3bsmoZZuzlnfVTRY2EXishlxnTclqniIznOo6ekzm8o5PdWU1LK1nXp8Y7LHHUUkaUTUdPnMwsKb40exb6+X6IsrV1/a9p2dGf1idYeWrunU9uSh+/PFU6p02cwqnTspxnzhQeb1Z5YA3E9eNyBKJ5N3+m1TUnc1JPTExk5lXc+dYXXItHhqTJ+aUaVFk2KKcr7OIeHAz2wm7/T7LSndv7ZTv27s1J50z91J0KRzJ0V11ey4LpxaRbuXCfriynU4bZvOOT3ZlNQvVif05MakDjFDQrVh0+IpMV06o0rn0J8PCq8/syyCA4rCAdPiqVVaPLVKr7zXoDdtgu5dk9ArB5ki0ZF1un9tp+5f26lhEdMFU2K6eFqVFk1iZLjcpXJOz25O6pENST3W2HnIxWySdPyosK4sziFk832gvEWCpo9Pq9LHp1WppTOnB9Z1aumahJZv774/b8s4LV3bqaXF/vyiqVX6xLSYzp4YU4yRYV9gBLiPvP4LBgOja7uuac3q3rUJLV2T0Pq2Q+ynJqkqaFo0KaqLp1fp/Mkx5gyXibZMXs9sSunut1v0YmtYbd2cRvtAk6uDumxGla6cHddRI8KDUCUOF31x5Spl2za0ZrR0TSEMH2rPbqnwTd+iSVF9fFqVzqM/LymvP7NMgegnrxsQA+Ngq46Xb89o2brCquMtiZ7nl0mFMxXNHxfReZNjOm9KTHPqQuwKMIjW7cnq8Y1JPdGU1B+aUz2emW2vMbGAPjm9MC/wlLERBWivIYG+uHINRNvu3UVi2bpO/Wp9p7YeYv2HVOjPPzohqvMmx/SxyVHNGkZ/3h9ef2YJwP3kdQNiYByqXfPO6aWtaT1Q7Dy3HWKxxV7TaoL7wvDp4yKqDjOaUEqJbF4vbk3r2U0pPdmU1Kpu9gntzoio6cKpVfr0jCp9dEL0oKfIRvmiL65cA922ubzTH7em9dD6Qn9+qMVze02vDepjk2P62KSYFk6IMPWtj7z+zBKA+8nrBsTA6Eu7ZvNOL7Wk9cj6Tj3amFRTx6G/VpMKZwc7eUxEZ0yI6swJUZ08JqIICy/6JJd3emNHRs9tTum5zUm93JJWunf/79K4qoA+Pq1KF0+LacH4qMKE3iGNvrhyDWbbZvNOLzSn9OsNST3a2Ltv+qTCjhKnjInooxOiOmNCVCeOpj8/FK8/swTgfvK6ATEwDrddnSsEskc2dOrXG3o/AilJ8ZDptLERnTYuolPHRnXSmLBqGCHeT2fWafn2tF7amtZLW1N6eVv6kLs2dDWzNqjTapO65oQJOmVMREFCb8WgL65cXrVt3jm9vj2jRxsPrz+fPy6iheOjOmVsRPNGhxkhPoDXn1l2gQBKyMw0b3RE80ZH9E8n1WndnqyebErqyaakXmhO9XgO+0TW6ZnNKT2zOSWpTUGTjhkZ1iljIzplTETHjwpr1rCQb0Jb3jmt3ZPVGzsyemN7Rn9qSev1HelezePdK1Q8hep5k6O6YEpMs+vChU53XHTgCgdQEQJmOmlMRCeNKfTnDa0ZPdmU0lNNSf2xOdXjt02JrNPTm1J6elNKkj7oz8dE9JGxEZ08JqLptUHfrDHIO6fVrVm9viOj5dvSCgVMnxvhdVX7IwADJTRjWEh/cVSN/uKoGnVk8np+S0pPNRW+rl97iB0lck56c0dGb+7I6P+u6JBUWJF8zMiwjhsZ1nGjwjpmZFj1daEhP1LcnsmroTWrlbuzemtnWm9sz+jtnZle7dRwoOm1QZ01IaqzJsZ09qQoZ3oCUBL1dWHV14X1paNr1J7J6/dbUvrtpkIgbjzEjhL79efvF/rz2nChPz9mZFjHFn/mDg8P+RNytGXyWrk7qxW7Mnp/d1Zv7kjrzR379+cjoqbrTvawyG4QgIEBUh0O7NtnWJI2tmf1uy0pPb8lpec3p9Tci1XIHVmnl1vSerklvd/xSfGg6oeHVF8X0py6kGYOC2lydVCTq4Nls9CuM+u0sT2rxvacGttzWrMnq5W7M1rZmtXGXmxHdDAjowGdOSGqsyZGdebEqKbX0o0BGFg1B/Tn69uyen5LSi8U+/Te9OdtGacXt6b14tYP+nOTNLkmqNnDQppdF9LsYYV+fVpNSBOrg2UTjhPZvBrbc9rQltOGtqzWt2e1ujWrFbt715/vSjltSpnmDEKtvcX/OYBBMqUmpKvrQ7q6vlrOOTW0ZvVSMdy+vDWt1Xt6P99sUyKnTYmcntuc+tB9I6KmydUhTakJalxVQKOiQY2MBTQqFtCoaOGyOmSq2vsTLFwe7Ks555ySuUIH2JF16sg4JbJObZm8tieLP515bUvmtD2ZV3Mip40duUOeZrq3ptUEddq4iE4fF9Vp4yKqrwv55mtEAOVpem1I02tDunbOB/3575tTerklrVda0lrXiz3kJclJ2tie08b2nJ7tpj8fGQ1oUnVQE6uDmhQPakxVQCOixZ/I3uumeCigaFCKBk2xoB10ZxvnnLJO6sg47cnk1Z5xai9etqbzaunMq6Uz98FlMq/NHblebRt3KCvaAjq7369SOgRgwANmpjnDw5ozPKxr51RLknYkc3q5Ja0/taT3fXW2M9X3TmdXymlXqjCloC8iAclMcq7QKe+9zBcvB8PwiOn4URGdMCqseaMjOmVsRBOrOQsbgPLVtT//wtzCsW2dOb2yrRCGX9mW1ls7M31awLvXzlReO1P5PvfnQSuEYeeknHPKu8K0jMHcQWB4xHTi6MKCwHmjIxrX0TSI735oBGCgTIyKBXXh1CpdWPyKzTmnTR05vbkjo7d2ZvTWjoxWtWa0vi2n3AD0Yr3dTqwUAibNqA1qTl1Yc4eHCqF3dFjTaoJsNA9gyBtT9eH+fGNHTm/vKAxOvL0zo3d2ZtTYnhuQUJpzhYV5gyFg0szakOYOD+nIEWEdNSKkE0YVFv117c8bGgalnF4jAANlysw0uSakyTUhXTStat/xVM5pXVtWq3Zn1dCaVUNrRhs7cmpqz2lTR06D1OcdUtCkidVBTa0Jakp1UNNqC/OVjxge1uxhIcXKZG4bAAw0M9PUmpCmHtCfJ7OF/ryhNas1e7JavSerNa1ZNXXktCUxMIMdhyNg0qTqoKbXFPryaTVBTa8Nae6IsOqHaH9OAAaGmGjQNHd4YfXwgXJ5p5ZkXk3tOTV1ZLU9mdeOZF47Unnt7HKZyDp1Zp06cx9c9iQSKOxzWRMOKB4yxUOm6rBpdCygMbGgRsUCGhMLaExVUKNjAU2pCWpiPMgZ1gCgB7GQ6cgRYR05ovv+fGtnXpsThcGNTR057Url9/9JFy5TOadkzimVk5K5wpSHgwmaVB021YYCqglb8Seg2rBpTFVAY6uCGrv3MhbQuHhQk6qDFXfyIAIwUEGCAdOEeFAT4kF9RJFeP2/vQjepsCrZ7IPLQPF1AQCDJxgwTSwugDt5TO+ft3ehWyrnFDApIFMwUAi+hX6d/lwiAANQoUOsojcAgCHPzBQ2VdyIbamVx4ahAAAAwCAhAAMAAMBXCMAAAADwFQIwAAAAfIUADAAAAF8hAAMAAMBXCMAAAADwFQIwAAAAfIUADAAAAF8hAAMAAMBXCMAAAADwFQIwAAAAfIUADAAAAF8hAAMAAMBXCMAAAADwFQIwAAAAfIUADAAAAF8puwBsZv9uZu+b2Vtm9qCZDfe6JgAAAFSOsgvAkp6SdIxz7jhJqyR9w+N6AAAAUEHMOed1DQdlZpdK+rRz7rNdj7e2tpZv0QAAACgrdXV11vV2OY4Ad3W9pN94XQQAAAAqR8iLNzWz30oa381d33TO/ar4mG9Kykq6ezBrAwAAQGUryykQZvY5SX8haZFzLuFxOQAAAKggnowA98TMLpD095LOJPwCAACg1MpuBNjMVkuKStpRPPSSc+4vPSwJAAAAFaTsFsE552Y756Y4504o/pRN+DWzC8xspZmtNrN/8Loe9J+ZTTGzZ83sPTN718y+5nVNKB0zC5rZ62b2a69rQemY2XAzu7+4Z/wKM5vvdU3oPzP7m2I//I6Z3WNmMa9rwuExs1vNrMXM3ulybKSZPWVmDcXLEV7WWHYBuFyZWVDSjyUtlnSUpM+Y2VHeVoUSyEr6unPuKEmnSfoS7VpRviZphddFoOR+KOlx59xcSceLNh7yzGySpK9KOtk5d4ykoKSrvK0K/fBzSRcccOwfJD3tnKuX9HTxtmcIwL13iqTVzrm1zrm0pF9KusTjmtBPzrktzrnlxettKvyPdJK3VaEUzGyypIsk/bfXtaB0zKxO0hmSfiZJzrm0c263t1WhREKSqswsJCkuabPH9eAwOeeel7TzgMOXSLq9eP12SZ8c1KIOQADuvUmSNna53SSCUkUxs+mS5kl62dtKUCL/W4UFtXmvC0FJzZC0TdJtxekt/21m1V4Xhf5xzm2S9H1JjZK2SGp1zj3pbVUosXHOuS3F682SxnlZDAEYkGRmNZKWSfpr59wer+tB/5jZxyW1OOde87oWlFxI0omSfuKcmyepQx5/lYr+K84HvUSFP3AmSqo2s6u9rQoDxRV2YPB0FwYCcO9tkjSly+3JxWMY4swsrEL4vds594DX9aAkFkj6hJmtV2G60jlmdpe3JaFEmiQ1Oef2flNzvwqBGEPbuZLWOee2Oecykh6QdLrHNaG0tprZBEkqXrZ4WQwBuPdekVRvZjPMLKLC5PyHPa4J/WRmpsJcwhXOuR94XQ9Kwzn3DefcZOfcdBU+q8845xhNqgDOuWZJG83siOKhRZLe87AklEajpNPMLF7slxeJxY2V5mFJ1xWvXyfpVx7WUn4nwihXzrmsmX1Z0hMqrE691Tn3rsdlof8WSLpG0ttm9kbx2D865x7zsCYAPfuKpLuLgxFrJX3e43rQT865l83sfknLVdid53VJP/W2KhwuM7tH0lmSRptZk6RvS/qupKVm9gVJGyRd4V2FZXgiDAAAAGAgMQUCAAAAvkIABgAAgK8QgAEAAOArBGAAAAD4CgEYAAAAvkIABgAAgK8QgAEAAOArBGAAAAD4CgEYAIYwM7vZzB7qcvvfzezp4lnSAADd4ExwADCEmdkoFU4HfJakUyV9SdJC51yrl3UBQDkjAAPAEGdm/0PSpyTVqRB+N3pbEQCUN6ZAAMDQ97qkYyV9g/ALAIfGCDAADGFmdqykJyQ9KWmyc+5cj0sCgLLHCDAADFFmNknSI5L+UtINko41s7M8LQoAhgACMAAMQWY2TNJjkn7gnHvYOZeQ9O+S/s3bygCg/DEFAgAAAL7CCDAAAAB8hQAMAAAAXyEAAwAAwFcIwAAAAPAVAjAAAAB8hQAMAAAAXyEAAwAAwFcIwAAAAPCV/wdZd1oezhr9CQAAAABJRU5ErkJggg==\n",
        "metadata": {
         "needs_background": "light",
         "tags": []
        },
        "output_type": "display_data",
        "text/plain": "<Figure size 720x360 with 1 Axes>"
       },
       {
        "metadata": {
         "tags": []
        },
        "output_type": "display_data",
        "text/plain": "1"
       }
      ]
     }
    },
    "c5a745a7354a445fa52865b5c6f32335": {
     "model_module": "@jupyter-widgets/controls",
     "model_name": "DropdownModel",
     "state": {
      "_dom_classes": [],
      "_model_module": "@jupyter-widgets/controls",
      "_model_module_version": "1.5.0",
      "_model_name": "DropdownModel",
      "_options_labels": [
       "cos(x)",
       "sin(x)",
       "tan(x)",
       "tan(x)/x",
       "sin(x)/x",
       "(-cos(x) + 1)/x",
       "log(x)",
       "x**2",
       "(x**2 + 2*x - 3)/(x - 1)"
      ],
      "_view_count": null,
      "_view_module": "@jupyter-widgets/controls",
      "_view_module_version": "1.5.0",
      "_view_name": "DropdownView",
      "description": "función",
      "description_tooltip": null,
      "disabled": false,
      "index": 0,
      "layout": "IPY_MODEL_1caf18cc951045d7b7fc97bd4631e58a",
      "style": "IPY_MODEL_7bc6b7a3af73419da549cf97b158825c"
     }
    }
   }
  }
 },
 "nbformat": 4,
 "nbformat_minor": 1
}
