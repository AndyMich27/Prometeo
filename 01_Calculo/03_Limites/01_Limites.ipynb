{
 "cells": [
  {
   "cell_type": "markdown",
   "metadata": {},
   "source": [
    "# Límites\n",
    "## Proyecto PAPIME PE101019\n",
    "\n",
    "*   Autores: \n",
    "    - Ingrid Pamela Ruiz Puga\n",
    "    - Luis M. de la Cruz Salas\n",
    "*   Rev: vie sep 11 19:06:45 CDT 2020"
   ]
  },
  {
   "cell_type": "code",
   "execution_count": null,
   "metadata": {},
   "outputs": [],
   "source": [
    "import os, sys\n",
    "sys.path.insert(0, os.path.abspath('../../Utils'))\n",
    "\n",
    "from sympy import limit, Symbol, oo\n",
    "import math\n",
    "import numpy as np\n",
    "import matplotlib.pyplot as plt\n",
    "import gutils as vis\n",
    "%matplotlib inline"
   ]
  },
  {
   "cell_type": "markdown",
   "metadata": {},
   "source": [
    "# Emprendiendo con Chilaquiles 3.0\n",
    "\n",
    "Un profesor, que se convirtió en cliente de los estudiantes emprendedores con chilaquiles, se interesó en ver cómo avanzó el negocio. Los estudiantes compartieron con el profesor el modelo con el que describieron sus ventas, el cual se escribe como sigue: \n",
    "\n",
    "$$ f(x) = \\left\\{\n",
    "\\begin{array}{l}\n",
    "      \\frac{30}{0.5 + e^{-(x-3.5)}} & x \\leq 12 \\\\\n",
    "      \\\\\n",
    "      e^{0.2 x} + 120 & x \\geq 12 \\\\\n",
    "\\end{array} \n",
    "\\right.$$\n",
    "\n",
    "Al mirar este modelo, el profesor se dió cuenta de la inconsistencia para $x = 12$, así que decidió resaltar esto en la siguiente visualización:"
   ]
  },
  {
   "cell_type": "code",
   "execution_count": null,
   "metadata": {},
   "outputs": [],
   "source": [
    "# LINUX y MACOS\n",
    "%run \"./02_Limites_interactive.ipynb\"\n",
    "\n",
    "# WINDOWS\n",
    "#%run \"D:\\\\GitSites\\\\PAPIME_PE101019_Materiales\\\\01_Calculo\\\\07_SeriesDeTaylor_interactive.ipynb\""
   ]
  },
  {
   "cell_type": "markdown",
   "metadata": {},
   "source": [
    "Observamos que cuando movemos el límite izquierdo (Límite $^-$) desde 0 hasta 12, el valor del modelo tiende a 60, mientras que si movemos el límite derecho (Límite $^+$) desde 20 hasta 12, el valor del modelo tiende a 131. Cuando $x=2$ se tienen dos valores! Existe una discontinuidad. El modelo no cumple con la definición de función.\n",
    "\n",
    "Usar límites, por la izquierda y por la derecha, nos puede ayudar a percatarnos de este tipo de inconsistencias, pero también para resolver distintos tipos de problemas. Veamos algunas definiciones importantes."
   ]
  },
  {
   "cell_type": "markdown",
   "metadata": {
    "colab_type": "text",
    "id": "E5M0r-HDCzM4"
   },
   "source": [
    "## Noción y definición de límite\n",
    "\n",
    "El matemático francés Augustine Louis Cauchy (1789-1857) fue el primero en desarrollar una definición rigurosa de límite (aunque ya era usado este concepto desde los antigüos griegos para el cálculo de áreas) de la siguiente manera:\n",
    "\n",
    "*Cuando los valores atribuidos sucesivamente a una variable se aproximan indefinidamente a un valor fijo para llegar por último a diferir de ese valor en una cantidad tan pequeña como se desee, entonces dicho valor fijo recibe el nombre de límite de todos los demás valores.*\n",
    "\n",
    "En palabras más llanas decimos que: el límite de una función $f(x)$ en el punto $x_0$, es obtener el valor al que se va aproximando dicha función cuando $x$ tiende a $x_0$, pero sin llegar a ese punto, pues puede se que $f(x_0)$ no esté definida en ese punto; durante este proceso nos vamos fijando en los valores que toma $f$ para *puntos extremadamente cercanos* a $x_0$.\n",
    "\n",
    "La sintaxis matemática del límite es:\n",
    "\n",
    "$$\\displaystyle \\lim_{x \\to x_0} f(x) = L $$\n",
    "\n",
    "donde $L$ es el valor del límite.\n",
    "\n",
    "Para aclarar lo anterior veamos un primer ejemplo:"
   ]
  },
  {
   "cell_type": "markdown",
   "metadata": {
    "colab_type": "text",
    "id": "9171B8VIDBk-"
   },
   "source": [
    "### Ejemplo 1.\n",
    "\n",
    "¿Cuál es el límite de la función $f(x) = x^2 + 2x +1$ cuando $x$ tiende a 2?\n",
    "\n",
    "Checa la siguiente gráfica:"
   ]
  },
  {
   "cell_type": "code",
   "execution_count": null,
   "metadata": {
    "colab": {
     "base_uri": "https://localhost:8080/",
     "height": 369
    },
    "colab_type": "code",
    "id": "RkqQ2NzBVFAb",
    "outputId": "aa3b22a1-a220-4674-8c5f-d73f9d5b7353"
   },
   "outputs": [],
   "source": [
    "f = lambda x: x**2 + 2*x + 1\n",
    "\n",
    "x = np.linspace(-2,4,100) # Dominio\n",
    "y = f(x)                  # Codiminio\n",
    "\n",
    "pxi = np.arange(1,2,0.1)\n",
    "pyi = f(pxi)\n",
    "\n",
    "pxd = np.arange(3,2,-0.1)\n",
    "pyd = f(pxd)\n",
    "\n",
    "par = [{'title':'$f(x)=x^2 + 2x + 1$', \n",
    "        'xlabel':'$x$',\n",
    "        'ylabel':'$f(x)$'}]\n",
    "\n",
    "graf = vis.planoCartesiano(par=par)\n",
    "graf.plot(x=x, y=f(x))\n",
    "graf.scatter(x=pxi, y=pyi, \n",
    "             par={'label':'Límite izquierdo','color':'black', 'zorder':5})\n",
    "graf.scatter(x=pxd, y=pyd, \n",
    "             par={'label':'Límite derecho','color':'blue', 'zorder':5})\n",
    "graf.scatter(x=2, y=f(2), \n",
    "             par={'label':'f(2) = {}'.format(f(2)),'color':'red', 'zorder':5})\n",
    "graf.legend()\n",
    "graf.show()"
   ]
  },
  {
   "cell_type": "markdown",
   "metadata": {},
   "source": [
    "Podemos acercarnos a $x = 2$ por la izquierda (puntos negros) o por la derecha (puntos azules), hasta llegar a puntos muy cercanos a $2$. En este caso, la función si está definida en $x=2$ y tiene un valor de $f(2)=9$ (punto rojo), por lo que tenemos:\n",
    "\n",
    "$$\\displaystyle \\lim_{x \\to 2} x^2 + 2x +1 = 9 $$\n",
    "\n",
    "Lo anterior se puede comprobar sustituyendo $x=2$ en la función (esto es posible por que $f(x)$ si está definida en $x=2$):\n",
    "\n",
    "$$ \\displaystyle \\lim_{x \\to 2} x^2 + 2x +1 = (2)^2 + 2(2) + 1 = 9 $$\n",
    "\n",
    "También se puede usar la función `limit` de la biblioteca `sympy` de Python:"
   ]
  },
  {
   "cell_type": "code",
   "execution_count": null,
   "metadata": {
    "colab": {
     "base_uri": "https://localhost:8080/",
     "height": 35
    },
    "colab_type": "code",
    "id": "Ly2FPDnMHuid",
    "outputId": "7ac78b85-7f2f-4c92-95d2-7095b567a72a"
   },
   "outputs": [],
   "source": [
    "x = Symbol('x') \n",
    "y = x*x + 2*x +1\n",
    "limit(y, x, 2)"
   ]
  },
  {
   "cell_type": "markdown",
   "metadata": {
    "colab_type": "text",
    "id": "nmFDu0VHVFA0"
   },
   "source": [
    "Como hemos visto que se pueden calcular límites por la izquierda y por la derecha. Cuando encontramos que esos límites, también llamados *límites laterales*, son diferentes, entonces podemos decir que tenemos una discontinuidad.\n",
    "\n",
    "### Propiedades de los límites\n",
    "Algunas propiedades matemáticas de los límites pueden facilitar en algunos casos los cálculos en funciones más complejas. Considerando dos funciones definidas en un mismo intervalo.\n",
    "\n",
    "* **Unicidad del límite:** El límite de una función será único en caso de su existencia.\n",
    "* **Límite de una constante:** El límite de una función constante $f(x) = k$ será igual a la constante $k$.\n",
    "$$\\lim_{x \\to a} k = k $$ \n",
    "* **Suma y resta de límites:** El límite de la suma será la suma de los límites.\n",
    "$$\\lim_{x \\to a} [f(x) \\pm g(x) ] = \\lim_{x \\to a} f(x) \\pm \\lim_{x \\to a} g(x) $$ \n",
    "* **Producto de límites:** El límite del producto es el producto de los límites\n",
    "$$\\lim_{x \\to a} [f(x) \\cdot g(x) ] = \\lim_{x \\to a} f(x) \\cdot \\lim_{x \\to a} g(x) $$ \n",
    "* **Factor del límite:** El límite del producto de una constante por una función será la constante por el límite de la función.\n",
    "$$\\lim_{x \\to a} [k \\cdot f(x) ] = k \\cdot \\lim_{x \\to a} f(x) $$ \n",
    "* **Cociente de límites:**  El cociente de los límites de dos funciones será el límite del cociente de dichas funciones.\n",
    "$$ \\frac{\\lim_{x \\to a} f(x)}{\\lim_{x \\to a} g(x)} =  \\lim_{x \\to a} \\frac{f(x)}{g(x)} $$ \n",
    "* **Potencia del límite:** El límite de una función potencial es la potencia del límite de la base elevado al exponente.\n",
    "$$ \\lim_{x \\to a} [f(x)^k]=[\\lim_{x \\to a} f(x)]^k $$ \n",
    "* **Exponencial de un límite:** El límite de una función exponencial es la potencia de la base elevada al límite de la función exponente.\n",
    "$$ \\lim_{x \\to a} k^{f(x)}=k^{\\lim_{x \\to a} f(x)} $$ \n",
    "* **Raíz de un límite**: El límite de una raíz, es la raíz del límite.\n",
    "$$ \\lim_{x \\to a} \\sqrt[n]{f(x)}= \\sqrt[n]{\\lim_{x \\to a} f(x)} $$ \n",
    "* **Logarítmo de un límite:** El límite del logaritmo es el logaritmo del límite.\n",
    "$$ \\lim_{x \\to a} \\log_k f(x)= \\log_k \\lim_{x \\to a} f(x) $$ "
   ]
  },
  {
   "cell_type": "markdown",
   "metadata": {
    "colab_type": "text",
    "id": "tW2s1goQVFA1"
   },
   "source": [
    "### Ejemplo 2. \n",
    "\n",
    "Calcular el límite de $g(x) \\cdotp f(x)$ cuando $x$ tiende a $1$ para $g(x) = x - 1 $ y   $f(x) = x + 1 $\n",
    "\n",
    "Usando las propiedades antes definidas tenemos:\n",
    "\n",
    "$$ \\lim_{x \\to 1} f(x)\\cdotp g(x) = \\lim_{x \\to 1} f(x) \\cdotp \\lim_{x \\to 1} g(x) $$ \n",
    "\n",
    "$$ \\lim_{x \\to 1}  (x + 1) \\cdotp (x - 1) = \\lim_{x \\to 1} (x + 1) \\cdotp \\lim_{x \\to 1} (x - 1) $$ \n",
    "\n",
    "$$ \\Longrightarrow \\lim_{x \\to 1} (x + 1) \\cdotp \\lim_{x \\to 1} (x - 1) = (1 + 1)\\cdotp (1 - 1) = 0 $$ \n",
    "\n",
    "Verifique lo anterior usando la función `limit` como en el ejemplo 1.\n",
    "**hint**: defina: `f=x+1` y `g=x-1` y luego calcule el límite de `f*g`.\n",
    "\n",
    "Veamos lo anterior gráficamente:"
   ]
  },
  {
   "cell_type": "code",
   "execution_count": null,
   "metadata": {},
   "outputs": [],
   "source": [
    "f = lambda x: x + 1\n",
    "g = lambda x: x - 1\n",
    "\n",
    "x = np.linspace(0,2,100)  # Dominio\n",
    "yf = f(x)                 # Codominio de f\n",
    "yg = g(x)                 # Codominio de g\n",
    "\n",
    "\n",
    "par = [{'title':'Límite del producto de dos funciones', \n",
    "        'xlabel':'$x$',\n",
    "        'ylabel':'$y$'}]\n",
    "\n",
    "graf = vis.planoCartesiano(par=par)\n",
    "graf.plot(x=x, y=yf, par={'label':'$f(x)=x+1$'})\n",
    "graf.plot(x=x, y=yg, par={'label':'$g(x)=x-1$'})\n",
    "graf.plot(x=x, y=yf*yg, par={'label':'$f(x) \\cdot g(x)$'})\n",
    "\n",
    "x0 = 1.0 # Modifique este valor entre 0 y 2\n",
    "\n",
    "graf.scatter(x=x0, y=f(x0), \n",
    "             par={'label':'Límite de $f$', 's':100, 'marker':'s','color':'C0', 'zorder':5})\n",
    "\n",
    "graf.scatter(x=x0, y=g(x0), \n",
    "             par={'label':'Límite de $g$', 's':100, 'marker':'s','color':'C1', 'zorder':5})\n",
    "\n",
    "graf.scatter(x=x0, y=f(x0)*g(x0), \n",
    "             par={'label':'Límite de $f \\cdot g$','color':'black', 'zorder':5})\n",
    "graf.legend()\n",
    "graf.show()"
   ]
  },
  {
   "cell_type": "markdown",
   "metadata": {},
   "source": [
    "¿Qué pasa si modifica el valor de `x0` en el código anterior?"
   ]
  },
  {
   "cell_type": "markdown",
   "metadata": {
    "colab_type": "text",
    "id": "arEUN2gBVFA5"
   },
   "source": [
    "### Ejemplo 3.\n",
    "\n",
    "Calcular el límite de $f(x)$ cuando $x$ tiende a $4$ para $f(x) = \\sqrt{2x + 1}$.\n",
    "\n",
    "\n",
    "Primero definimos $f_0(x) = 2x+1$ y calculamos: \n",
    "\n",
    "$$ \\lim_{x \\to 4} f_0(x) = \\lim_{x \\to 4}  (2x + 1) = 9$$\n",
    "\n",
    "Ahora podemos usar la siguiente propiedad: \n",
    "\n",
    "$$ \\lim_{x \\to a} \\sqrt{2x + 1} = \\lim_{x \\to a} \\sqrt{f_0(x)} = \\sqrt{\\lim_{x \\to a} f_0(x)}$$\n",
    "\n",
    "Entonces el límite que se busca es:\n",
    "\n",
    "$$ \\sqrt{\\lim_{x \\to a} f_0(x)} = \\sqrt{9} = 3 $$ \n",
    "\n",
    "Verifique lo anterior usando la función `limit` como en el ejemplo 1.\n",
    "\n",
    "Veamos lo anterior gráficamente:"
   ]
  },
  {
   "cell_type": "code",
   "execution_count": null,
   "metadata": {
    "colab": {
     "base_uri": "https://localhost:8080/",
     "height": 35
    },
    "colab_type": "code",
    "id": "QjsbwCUdVFA5",
    "outputId": "965b12f3-3e63-44ef-a3cd-1d2b04a3cd10"
   },
   "outputs": [],
   "source": [
    "f0 = lambda x: 2 * x + 1\n",
    "f = lambda x: np.sqrt(f0(x))\n",
    "\n",
    "x = np.linspace(0,8,100)  # Dominio\n",
    "y0 = f0(x)                # Codominio de f0\n",
    "yf = f(x)                 # Codominio de f\n",
    "\n",
    "\n",
    "par = [{'title':'Límite de la raíz cuadrada de una función', \n",
    "        'xlabel':'$x$',\n",
    "        'ylabel':'$y$'}]\n",
    "\n",
    "graf = vis.planoCartesiano(par=par)\n",
    "graf.plot(x=x, y=y0, par={'label':'$f0(x)$'})\n",
    "graf.plot(x=x, y=yf, par={'label':'$f(x)$'})\n",
    "\n",
    "x0 = 4\n",
    "\n",
    "graf.scatter(x=x0, y=f0(x0), \n",
    "             par={'label':'Límite de $f0({})$ = {}'.format(x0,f0(x0)), 's':100, 'marker':'s','color':'C0', 'zorder':5})\n",
    "\n",
    "graf.scatter(x=x0, y=f(x0), \n",
    "             par={'label':'Límite de $f({})$ = {}'.format(x0,f(x0)), 's':100, 'marker':'s','color':'C1', 'zorder':5})\n",
    "\n",
    "graf.legend()\n",
    "graf.show()"
   ]
  },
  {
   "cell_type": "markdown",
   "metadata": {
    "colab_type": "text",
    "id": "ifNgeErMVFA8"
   },
   "source": [
    "### Ejemplo 4. \n",
    "\n",
    "¿Qué propiedad se puede usar para calcular el límite de $f(x) = (x + 1)^2$ cuando $x$ tiende a $2$?\n",
    "\n",
    "Calcule el límite y verifique usando la función `limit` como en el ejemplo 1.\n",
    "\n",
    "La grafica siguiente ilustra el uso de la propiedad respectiva para calcular este límite:"
   ]
  },
  {
   "cell_type": "code",
   "execution_count": null,
   "metadata": {
    "colab": {},
    "colab_type": "code",
    "id": "WS3KXOz1VFA9",
    "outputId": "a7f9114d-c350-4fee-c9d3-a9460fae2c48"
   },
   "outputs": [],
   "source": [
    "f0 = lambda x: x + 1\n",
    "f = lambda x: f0(x)**2\n",
    "\n",
    "x = np.linspace(0,4,100)  # Dominio\n",
    "y0 = f0(x)                # Codominio de f0\n",
    "yf = f(x)                 # Codominio de f\n",
    "\n",
    "\n",
    "par = [{'title':'Límite de una función elevada al cuadrado', \n",
    "        'xlabel':'$x$',\n",
    "        'ylabel':'$y$'}]\n",
    "\n",
    "graf = vis.planoCartesiano(par=par)\n",
    "graf.plot(x=x, y=y0, par={'label':'$f0(x)$'})\n",
    "graf.plot(x=x, y=yf, par={'label':'$f(x)$'})\n",
    "\n",
    "x0 = 2\n",
    "\n",
    "graf.scatter(x=x0, y=f0(x0), \n",
    "             par={'label':'Límite de $f0({})$ = {}'.format(x0,f0(x0)), 's':100, 'marker':'s','color':'C0', 'zorder':5})\n",
    "\n",
    "graf.scatter(x=x0, y=f(x0), \n",
    "             par={'label':'Límite de $f({})$ = {}'.format(x0,f(x0)), 's':100, 'marker':'s','color':'C1', 'zorder':5})\n",
    "\n",
    "graf.legend()\n",
    "graf.show()"
   ]
  },
  {
   "cell_type": "markdown",
   "metadata": {
    "colab_type": "text",
    "id": "8Yhg5YX2VFBA"
   },
   "source": [
    "### Ejemplo 5.\n",
    "Existen límites que son difíciles de evaluar por que el parámetro tiende a infinito. Por ejemplo:\n",
    "obtener el límite de la función $f(x)= \\frac{1}{x}$ cuando $x \\rightarrow \\infty$.\n",
    "\n",
    "Veamos la gráfica de la función $f(x)$:"
   ]
  },
  {
   "cell_type": "code",
   "execution_count": null,
   "metadata": {
    "colab": {
     "base_uri": "https://localhost:8080/",
     "height": 369
    },
    "colab_type": "code",
    "id": "1HBsIy67VFBG",
    "outputId": "46ad39f6-ec4a-4b8d-c8bb-5947e6cf3607"
   },
   "outputs": [],
   "source": [
    "f = lambda x: 1/x\n",
    "\n",
    "x = np.linspace(0.1, 30, 100)\n",
    "y = f(x)\n",
    "\n",
    "par = [{'title':r'$f(x)=\\frac{1}{x}$', \n",
    "        'xlabel':'$x$',\n",
    "        'ylabel':'$y$'}]\n",
    "\n",
    "graf = vis.planoCartesiano(par=par)\n",
    "graf.plot(x=x, y=f(x))\n",
    "graf.show()"
   ]
  },
  {
   "cell_type": "markdown",
   "metadata": {
    "colab_type": "text",
    "id": "TnZhf0RIVFBJ"
   },
   "source": [
    "Como se puede observar en la gráfica de la función $f(x)=\\frac{1}{x}$ mientras más crece el valor de $x$, su límite se acerca al valor 0. En este caso, efectivamente el $\\displaystyle \\lim_{x \\to \\infty} \\frac{1}{x} = 0$. Se puede verificar como sigue:"
   ]
  },
  {
   "cell_type": "code",
   "execution_count": null,
   "metadata": {
    "colab": {},
    "colab_type": "code",
    "id": "M_Nw9dpgVFBJ",
    "outputId": "aa1a8bf0-b08e-4b4d-c49c-d3863dbdaa0a"
   },
   "outputs": [],
   "source": [
    "x = Symbol('x') \n",
    "y = 1/x \n",
    "limit(y, x, oo)"
   ]
  },
  {
   "cell_type": "markdown",
   "metadata": {
    "colab_type": "text",
    "id": "-rfKbkftVFBf"
   },
   "source": [
    "### Ejemplo 6.\n",
    "Un límite infinito es aquel que mientras más se acerque al punto *x=a* el valor del límite será $\\pm \\infty$.\n",
    "Por ejemplo, para la función $f(x)= \\frac{1}{x^2}$ buscaremos el límite cuando $x$ tiende a cero, es decir;\n",
    "$$\\lim_{x \\to 0} \\frac{1}{x^2}$$\n"
   ]
  },
  {
   "cell_type": "code",
   "execution_count": null,
   "metadata": {
    "colab": {
     "base_uri": "https://localhost:8080/",
     "height": 369
    },
    "colab_type": "code",
    "id": "YGEquY38VFBf",
    "outputId": "a320639c-cce7-49c7-e180-c0089fea7c87"
   },
   "outputs": [],
   "source": [
    "f = lambda x: 1/x**2\n",
    "\n",
    "x = np.linspace(-5, 5, 100)\n",
    "y = f(x)\n",
    "\n",
    "par = [{'title':r\"$f(x)= \\frac{1}{x^2}+1$\", \n",
    "        'xlabel':'$x$',\n",
    "        'ylabel':'$y$',\n",
    "       'ylim':(-4,100)}\n",
    "      ]\n",
    "\n",
    "graf = vis.planoCartesiano(par=par)\n",
    "graf.plot(x=x, y=f(x))\n",
    "graf.show()\n"
   ]
  },
  {
   "cell_type": "markdown",
   "metadata": {},
   "source": [
    "Observamos que cuando $x$ se acerca al cero, por la izquierda y por la derecha, el valor de la función crece mucho. Se puede verificar que este límite es $+ \\infty$."
   ]
  },
  {
   "cell_type": "code",
   "execution_count": null,
   "metadata": {
    "colab": {},
    "colab_type": "code",
    "id": "ejzkX86CVFBi",
    "outputId": "ecbfe6a9-21c2-4418-fffc-47502ed7d2a2"
   },
   "outputs": [],
   "source": [
    "x = Symbol('x') \n",
    "y = 1/x**2 \n",
    "limit(y, x, 0)"
   ]
  },
  {
   "cell_type": "markdown",
   "metadata": {
    "colab_type": "text",
    "id": "6fdHwzkuVFBi"
   },
   "source": [
    "En la gráfica anterior, es posible observar que mientras más se acerca la función al punto *x=0* el valor del límite será infinito.\n",
    "\n",
    "Comprobando con Python..."
   ]
  },
  {
   "cell_type": "markdown",
   "metadata": {
    "colab_type": "text",
    "id": "tSXrzRHOFMck"
   },
   "source": [
    "### Ejemplo 7.\n",
    "\n",
    "Encontrar los siguientes límites:\n",
    "- $f(x) = x^2$ cuando x tiende a 4.\n",
    "- $f(x) = x^2 + 8x + 31$ cuando x tiende a 3.\n",
    "- $f(x) = x^2 - x + 2$ cuando x tiende a 2.\n",
    "\n",
    "Use la función `limit` para verificar los límites.\n",
    "Veamos las siguientes gráficas:"
   ]
  },
  {
   "cell_type": "code",
   "execution_count": null,
   "metadata": {
    "colab": {
     "base_uri": "https://localhost:8080/",
     "height": 369
    },
    "colab_type": "code",
    "id": "xOKSjtX6VFAv",
    "outputId": "380b3708-cd27-491c-9fbb-0f25cb80c491"
   },
   "outputs": [],
   "source": [
    "f1 = lambda x: x**2\n",
    "f2 = lambda x: x**2 + 8*x + 31\n",
    "f3 = lambda x: 2*x**2 - x + 2\n",
    "\n",
    "x = np.linspace(-5, 5, 100)\n",
    "\n",
    "par = [{'title':r\"Límites de funciones cuadráticas\", \n",
    "        'xlabel':'$x$',\n",
    "        'ylabel':'$y$'}\n",
    "      ]\n",
    "\n",
    "graf = vis.planoCartesiano(par=par)\n",
    "graf.plot(x=x, y=f1(x), par={'label':'$f1(x) = x^2$'})\n",
    "graf.plot(x=x, y=f2(x), par={'label':'$f2(x) = x^2 + 8x + 31$'})\n",
    "graf.plot(x=x, y=f3(x), par={'label':'$f3(x) = x^2 - x + 2$'})\n",
    "\n",
    "x1 = 4\n",
    "x2 = 3\n",
    "x3 = 2\n",
    "graf.scatter(x=x1, y=f1(x1), \n",
    "             par={'label':'Límite de $f1(x)$: x tiende a 4', 's':100, 'color':'C0', 'zorder':10})\n",
    "graf.scatter(x=x2, y=f2(x2), \n",
    "             par={'label':'Límite de $f2(x)$: x tiende a 3', 's':100, 'color':'C1', 'zorder':10})\n",
    "graf.scatter(x=x3, y=f3(x3), \n",
    "             par={'label':'Límite de $f3(x)$: x tiende a 2', 's':100, 'color':'C2', 'zorder':10})\n",
    "\n",
    "graf.legend()\n",
    "graf.show()"
   ]
  },
  {
   "cell_type": "markdown",
   "metadata": {
    "colab_type": "text",
    "id": "h-RRRSaFVFBM"
   },
   "source": [
    "### Ejemplo 8.\n",
    "\n",
    "Para la función $f(x)= x^{\\frac{1}{x}}$ queremos obtener el siguiente límite:\n",
    "$$\\lim_{x \\to \\infty} x^{\\frac{1}{x}} $$\n",
    "\n",
    "**Hint**: ¿Qué pasa con la función $g(x) = \\frac{1}{x}$ cuando $x \\to \\infty$?\n",
    "\n",
    "Veámos esto gráficamente:"
   ]
  },
  {
   "cell_type": "code",
   "execution_count": null,
   "metadata": {
    "colab": {
     "base_uri": "https://localhost:8080/",
     "height": 369
    },
    "colab_type": "code",
    "id": "r_f73a69VFBO",
    "outputId": "ff571a09-67c5-4826-fad0-b9cddd11269e"
   },
   "outputs": [],
   "source": [
    "f = lambda x: x**(1/x)\n",
    "\n",
    "x = np.linspace(0.1, 100, 100)\n",
    "\n",
    "par = [{'title':r\"$f(x)=x^{\\frac{1}{x}}$\", \n",
    "        'xlabel':'$x$',\n",
    "        'ylabel':'$y$',\n",
    "       'ylim':(0,1.5)}\n",
    "      ]\n",
    "\n",
    "graf = vis.planoCartesiano(par=par)\n",
    "graf.plot(x=x, y=f(x))\n",
    "graf.plot(x=[0,100], y=[1,1], par={'ls':'--', 'color':'green', 'lw':2})\n",
    "graf.show()"
   ]
  },
  {
   "cell_type": "markdown",
   "metadata": {
    "colab_type": "text",
    "id": "iZwF8VtCVFBR"
   },
   "source": [
    "Observamos que conforme crece el valor de $x$, el valor de la función se acerca cada vez más a $1$. Usando la función `limit` vemos lo siguiente:"
   ]
  },
  {
   "cell_type": "code",
   "execution_count": null,
   "metadata": {
    "colab": {
     "base_uri": "https://localhost:8080/",
     "height": 35
    },
    "colab_type": "code",
    "id": "VTp9-B5EVFBS",
    "outputId": "9854caa3-9319-484c-be47-3938736aaa9f"
   },
   "outputs": [],
   "source": [
    "x = Symbol('x') \n",
    "y = x**(1/x) \n",
    "limit(y, x, oo)"
   ]
  },
  {
   "cell_type": "markdown",
   "metadata": {
    "colab_type": "text",
    "id": "g11bXxG1Rp6E"
   },
   "source": [
    "### Ejemplo 9.\n",
    "\n",
    "Para la función $f(x)= \\left( 1+\\frac{1}{x} \\right)^x$ queremos obtener el siguiente límite:\n",
    "\n",
    "$$\\lim_{x \\to \\infty} \\left( 1+\\frac{1}{x} \\right)^x $$\n",
    "\n",
    "Veámos la gráfica:"
   ]
  },
  {
   "cell_type": "code",
   "execution_count": null,
   "metadata": {
    "colab": {
     "base_uri": "https://localhost:8080/",
     "height": 369
    },
    "colab_type": "code",
    "id": "nYYLM2nkSvjF",
    "outputId": "f1d3d39f-3f55-421f-9625-a8c567931b9b"
   },
   "outputs": [],
   "source": [
    "f = lambda x : (1+(1/x))**x\n",
    "e = lambda x : np.ones(len(x)) * math.e\n",
    "\n",
    "x = np.linspace(0.1, 40, num=100)\n",
    "\n",
    "par = [{'title':r\"$f(x)=\\left( 1+\\frac{1}{x} \\right)^x$\", \n",
    "        'xlabel':'$x$',\n",
    "        'ylabel':'$y=f(x)$',\n",
    "       'ylim':(1,3)}\n",
    "      ]\n",
    "\n",
    "graf = vis.planoCartesiano(par=par)\n",
    "graf.plot(x=x, y=f(x))\n",
    "graf.plot(x=x, y=e(x), par={'color':'C1', 'ls':'--', 'lw':'2', 'color':'green'})\n",
    "graf.show()"
   ]
  },
  {
   "cell_type": "markdown",
   "metadata": {
    "colab_type": "text",
    "id": "AYVD8PoAVFBc"
   },
   "source": [
    "Es posible observar que conforme $x \\to \\infty$ el valor de la función tiende a un número muy particular que está entre 2.5 y 2.75.\n",
    "\n",
    "Pruebe que este límite es: \n",
    "$$\\lim_{x \\to \\infty} \\left( 1+\\frac{1}{x} \\right)^x $$\n",
    "\n",
    "**Hint**: aplique el logaritmo natural a la función, utilice las identidad de logaritmo de una potencia, luego aplique una de las reglas de los límites.\n",
    "\n",
    "Usando la función `limit` vemos lo siguiente:"
   ]
  },
  {
   "cell_type": "code",
   "execution_count": null,
   "metadata": {
    "colab": {},
    "colab_type": "code",
    "id": "kj19dUGeVFBc",
    "outputId": "6a61f25d-365f-4143-c15c-68e3844ab85a"
   },
   "outputs": [],
   "source": [
    "x = Symbol('x') \n",
    "y=(1+(1/x))**x \n",
    "limit(y, x, oo)"
   ]
  },
  {
   "cell_type": "markdown",
   "metadata": {
    "colab_type": "text",
    "id": "3Vz1Tf48Csqk"
   },
   "source": [
    "### Ejemplo 10. Tránsito vehícular exponencial\n",
    "\n",
    "Usando datos de varios años consecutivos, el gobierno de Ciudad del Carmen encontró un modelo del tránsito de vehículos en la zona centro de la ciudad durante las horas pico. Este modelo se expresa como sigue:\n",
    "\n",
    "$$\n",
    "f(x) = a e^{bx - c}\n",
    "$$\n",
    "\n",
    "donde $a = 3.0$, $b = 2.5$ y $c = 17$. La gráfica de este modelo es la siguiente:"
   ]
  },
  {
   "cell_type": "code",
   "execution_count": null,
   "metadata": {
    "colab": {
     "base_uri": "https://localhost:8080/",
     "height": 369
    },
    "colab_type": "code",
    "id": "TC11gT9HVFBl",
    "outputId": "a69ce593-a09c-43d8-f363-df2fd860aada"
   },
   "outputs": [],
   "source": [
    "a = 3.0\n",
    "b = 2.5\n",
    "c = 17\n",
    "\n",
    "f = lambda x: a * np.exp(b*x - c)\n",
    "\n",
    "x = np.linspace(1, 10, 100)\n",
    "\n",
    "par = [{'title':r\"Modelo de crecimiento vehicular\", \n",
    "        'xlabel':'$x$',\n",
    "        'ylabel':'$y$'}\n",
    "      ]\n",
    "\n",
    "graf = vis.planoCartesiano(par=par)\n",
    "graf.plot(x=x, y=f(x))\n",
    "graf.show()"
   ]
  },
  {
   "cell_type": "markdown",
   "metadata": {},
   "source": [
    "Como puede obsrevarse, a partir del octavo año el incremento del tránsito fue exponencial. Lo anterior se debe a que justo en ese año se introdujo en el mercado una nueva marca de autos que tuvo un gran éxito de ventas. \n",
    "\n",
    "El gobierno esta preocupado debido a la sobrepoblación vehicular y le gustaría conocer el crecimiento del parque vehicular para los años $9, 10$ y $11$ , de este modo podría establecer planes para evitar el congestionamiento en grandes avenidas.\n",
    "\n",
    "Se puede calcular el límite cuando $x$ tiende a $9, 10,$ y $11$. El siguiente código hace el cálculo y la gráfica de este comportamiento."
   ]
  },
  {
   "cell_type": "code",
   "execution_count": null,
   "metadata": {},
   "outputs": [],
   "source": [
    "t = Symbol('x') \n",
    "vehiculos = (a * math.e ** (b * t - c)) \n",
    "\n",
    "a9 = limit(vehiculos, t, 9)\n",
    "a10 = limit(vehiculos, t, 10)\n",
    "a11 = limit(vehiculos, t, 11)\n",
    "\n",
    "graf = vis.planoCartesiano(par=par)\n",
    "\n",
    "x = np.linspace(1, 11, 100)\n",
    "graf.plot(x=x, y=f(x))\n",
    "graf.scatter(x=9, y=a9,\n",
    "            par={'color':'C1', 'zorder':5, 's':100, 'label':'Año 9: {}'.format(int(a9))})\n",
    "graf.scatter(x=10, y=a10,\n",
    "            par={'color':'C2', 'zorder':5, 's':100, 'label':'Año 10: {}'.format(int(a10))})\n",
    "graf.scatter(x=11, y=a11,\n",
    "            par={'color':'C3', 'zorder':5, 's':100, 'label':'Año 11: {}'.format(int(a11))})\n",
    "graf.legend()\n",
    "graf.show()"
   ]
  },
  {
   "cell_type": "markdown",
   "metadata": {
    "colab_type": "text",
    "id": "4r8z9NZIeRt7"
   },
   "source": [
    "Se observa que si no se pone una solución a este crecimiento, habrá un gran problema en el año 11, 108946 autos intentando circular al mismo tiempo en la zona centro. El gobierno deberá diseñar alguna estrategia para promover el uso de la bicicleta, del transporte público y/o descentralizar muchas de las actividades productivas que se llevan a cabo en el centro de la ciudad."
   ]
  },
  {
   "cell_type": "markdown",
   "metadata": {
    "colab_type": "text",
    "id": "yuSKZnK_14Ji"
   },
   "source": [
    "### Ejemplo 11. ritmo cardíaco de extraterrestres\n",
    "\n",
    "El departamento de investigación clínica de la NASA tiene un nuevo expediente secreto en el que han descubierto un organismo vivo encontrado en uno de los satélites que están en órbita en el espacio exterior. Se analizaron los organismos y se concluyó que tienen características similares a los seres humanos entre las que están el ritmo cardiaco del organismo. Durante una crisis, el organismo tuvo un paro cardiaco y en los esfuerzos por estabilizarlo utilizaron dos medicamentos no probados anteriormente, lo único que se sabía sobre estos medicamentos es que el ritmo cardiaco subiría según el comportamiento de las siguientes funciones:\n",
    "\n",
    "$$M_1 = \\big|\\sin(x) \\frac{x}{8}\\big|$$\n",
    "$$M_2 = \\big|\\cos(x) \\frac{x}{8}\\big|$$\n",
    "\n",
    "La reacción que ambos medicamentos tendrían en el organismo es la siguiente:\n",
    "\n",
    "$$M = \\big|\\sin(x) \\frac{x}{8} - \\cos(x) \\frac{x}{8}\\big|$$\n",
    "\n",
    "Esta función proporciona el tiempo en minutos que se deberán administrar los medicamientos en función de $x$, que representa los latidos por minuto que se desean obtener.\n",
    "\n",
    "A los médicos les interesa saber el tiempo que tardará el organismo en recuperar el ritmo cardiaco normal de 97 latidos por minuto para retirar el medicamento, pues en caso de que tarde más de 15 minutos es muy probable que el resto de los organos colapsen.\n",
    "\n",
    "La gráfica del comportamiento del ritmo cardiaco, para $x \\in [0,10]$ latidos por minuto  es: "
   ]
  },
  {
   "cell_type": "code",
   "execution_count": null,
   "metadata": {
    "colab": {
     "base_uri": "https://localhost:8080/",
     "height": 369
    },
    "colab_type": "code",
    "id": "KtffmznGksZI",
    "outputId": "04489725-4318-413f-e5fa-c992aea07661"
   },
   "outputs": [],
   "source": [
    "M = lambda x: np.abs(np.sin(x)* (x/8)- np.cos(x)*(x/8))\n",
    "\n",
    "x = np.linspace(0, 10, 100)\n",
    "\n",
    "par = [{'title':r\"Ritmo cardiaco\", \n",
    "        'xlabel':'$x$',\n",
    "        'ylabel':'$y=f(x)$'}\n",
    "      ]\n",
    "\n",
    "graf = vis.planoCartesiano(par=par)\n",
    "graf.plot(x=x, y=M(x))\n",
    "graf.show()"
   ]
  },
  {
   "cell_type": "markdown",
   "metadata": {
    "colab_type": "text",
    "id": "qf25VLgTpaPM"
   },
   "source": [
    "Para conocer los minutos que tardará el organismo en tener $97$ latidos por minuto debemos calcular el límite de la función cuando $x$ tiende a $97$ es decir:\n",
    "\n",
    "$$\\lim_{x \\to 97} \\big|\\sin(x) \\frac{x}{8} - \\cos(x) \\frac{x}{8}\\big| $$\n",
    "\n",
    "Entonces diremos que el resultado de dicho límite serán los minutos que el organismo tardará en en obtener un ritmo normal.\n",
    "\n",
    "Calcule el límite y responda si el organismo vive o muere. Haga también el gráfico para $x \\in [0,100]$ y marque sobre la gráfica el valor obtenido para $x=97$."
   ]
  },
  {
   "cell_type": "markdown",
   "metadata": {
    "colab_type": "text",
    "id": "l6mM3-Rl1rjW"
   },
   "source": [
    "\n",
    "## Referencias\n",
    "Para profundizar en los temas tratados en el presente documento se pueden consultar las siguientes fuentes.\n",
    "\n",
    "\n",
    "\n",
    "*   Cálculo 1 de una variable, Ron Larson, Bruce H. Edwards, México : McGraw-Hill Interamericana, 2010, p.90\n",
    "*   Matemáticas 1 : cálculo diferencial / Dennis G. Zill, Warren S. Wright ; adaptación y revisión técnica, Joel Ibarra Escutia ; p.87, México : McGraw-Hill Interamericana, 2011.\n",
    "*   Cálculo aplicado : competencias matemáticas a través de contextos / autores, Norma Patricia Salinas Martínez, Juan Antonio Alanís Rodríguez, José Luis Garza García, Ricardo Pulido Ríos, Francisco Xavier Santos Leal, Julio César Escobedo Mirales, México, D.F. : Cengage Learning, 2012-2013\n",
    "\n"
   ]
  },
  {
   "cell_type": "code",
   "execution_count": null,
   "metadata": {},
   "outputs": [],
   "source": []
  }
 ],
 "metadata": {
  "colab": {
   "collapsed_sections": [],
   "name": "03_Límites.ipynb",
   "provenance": []
  },
  "kernelspec": {
   "display_name": "Python 3",
   "language": "python",
   "name": "python3"
  },
  "language_info": {
   "codemirror_mode": {
    "name": "ipython",
    "version": 3
   },
   "file_extension": ".py",
   "mimetype": "text/x-python",
   "name": "python",
   "nbconvert_exporter": "python",
   "pygments_lexer": "ipython3",
   "version": "3.7.6"
  }
 },
 "nbformat": 4,
 "nbformat_minor": 1
}
