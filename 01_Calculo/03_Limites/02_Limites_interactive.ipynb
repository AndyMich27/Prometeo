{
 "cells": [
  {
   "cell_type": "code",
   "execution_count": 1,
   "metadata": {},
   "outputs": [],
   "source": [
    "import os, sys\n",
    "sys.path.insert(0, os.path.abspath('../../Utils'))\n",
    "\n",
    "import numpy as np\n",
    "import matplotlib.pyplot as plt\n",
    "import gutils as vis\n",
    "%matplotlib inline\n",
    "\n",
    "from ipywidgets import interact, interactive, fixed\n",
    "import ipywidgets as widgets"
   ]
  },
  {
   "cell_type": "code",
   "execution_count": 2,
   "metadata": {},
   "outputs": [],
   "source": [
    "def limiteChilaquil(limite_izq, limite_der):\n",
    "    chiexponenciales = lambda x: np.exp(0.2 * x) + 120\n",
    "    chilogisticos = lambda x: 30 / (0.5 + np.exp(-1*(x-3.5)))\n",
    "\n",
    "    par = [{'title':'Chilaquiles', \n",
    "            'xlabel':'Semanas',\n",
    "            'ylabel':'Porciones vendidas'}]\n",
    "    graf = vis.planoCartesiano(par=par)\n",
    "    \n",
    "    xl = np.linspace(-1,12.1,100)       # Dominio: función logísitica   \n",
    "    yl = chilogisticos(xl) # Codominio  \n",
    "    graf.plot(x=xl, y=yl, par={'label':'Modelo logístico'})\n",
    "\n",
    "    x1 = limite_izq\n",
    "    y1 = chilogisticos(x1)\n",
    "    graf.scatter(x=x1, y=y1, \n",
    "                 par={'s':100, 'facecolor':'blue', 'edgecolor':'black', 'alpha':0.65, 'zorder':5}) \n",
    "\n",
    "    xe = np.linspace(12,20.1,9)     # Dominio: función exponencial\n",
    "    ye=chiexponenciales(xe)  # Codominio\n",
    "    graf.plot(x=xe, y=ye, par={'label':'Modelo exponencial'})\n",
    "\n",
    "    x2 = limite_der\n",
    "    y2 = chiexponenciales(x2)\n",
    "    graf.scatter(x=x2, y=y2, \n",
    "                 par={'s':100, 'facecolor':'red', 'edgecolor':'black', 'alpha':0.65, 'zorder':5}) \n",
    "\n",
    "    # Línea vertical\n",
    "    graf.plot(x = [12, 12], y=[0, 175], par={'ls':'--', 'lw':2, 'color':'green'})\n",
    "\n",
    "    li = chilogisticos(12)\n",
    "    graf.annotate(par={'text':'Límite $^-$ = {:5.3f}'.format(y1), 'xy':(x1,y1), 'xytext':(13,li), \n",
    "                       'xycoords':'data','textcoords':'data', 'fontsize':15, 'color':'blue',\n",
    "                       'arrowprops':{'arrowstyle':'-|>', 'connectionstyle':'arc3', 'color':'black'}\n",
    "                      })\n",
    "\n",
    "    ld = chiexponenciales(12)\n",
    "    graf.annotate(par={'text':'Límite $^+$ = {:5.3f}'.format(y2), 'xy':(x2,y2), 'xytext':(5,ld), \n",
    "                       'xycoords':'data','textcoords':'data', 'fontsize':15, 'color':'red',\n",
    "                       'arrowprops':{'arrowstyle':'-|>', 'connectionstyle':'arc3', 'color':'black'}\n",
    "                      })\n",
    "    \n",
    "    graf.ticks(xticks = [i for i in range(21)])\n",
    "    graf.legend()\n",
    "    graf.show()"
   ]
  },
  {
   "cell_type": "code",
   "execution_count": 3,
   "metadata": {},
   "outputs": [
    {
     "data": {
      "application/vnd.jupyter.widget-view+json": {
       "model_id": "5e88df83f8e84d339d73b1a10b821011",
       "version_major": 2,
       "version_minor": 0
      },
      "text/plain": [
       "interactive(children=(IntSlider(value=0, description='Límite $^-$', max=12), IntSlider(value=20, description='…"
      ]
     },
     "metadata": {},
     "output_type": "display_data"
    },
    {
     "data": {
      "text/plain": [
       "<function __main__.limiteChilaquil(limite_izq, limite_der)>"
      ]
     },
     "metadata": {},
     "output_type": "display_data"
    }
   ],
   "source": [
    "#limiteChilaquil(0, 20)\n",
    "w = interact(limiteChilaquil,\n",
    "             limite_izq = widgets.IntSlider(min=0, max=12, step=1, value=0, description='Límite $^-$'),\n",
    "             limite_der = widgets.IntSlider(min=12, max=20, step=1, value=20, description='Límite $^+$'))\n",
    "display(w)"
   ]
  },
  {
   "cell_type": "code",
   "execution_count": null,
   "metadata": {},
   "outputs": [],
   "source": []
  }
 ],
 "metadata": {
  "kernelspec": {
   "display_name": "Python 3",
   "language": "python",
   "name": "python3"
  },
  "language_info": {
   "codemirror_mode": {
    "name": "ipython",
    "version": 3
   },
   "file_extension": ".py",
   "mimetype": "text/x-python",
   "name": "python",
   "nbconvert_exporter": "python",
   "pygments_lexer": "ipython3",
   "version": "3.7.6"
  }
 },
 "nbformat": 4,
 "nbformat_minor": 4
}
