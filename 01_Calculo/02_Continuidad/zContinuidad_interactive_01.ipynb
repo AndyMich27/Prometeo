{
  "nbformat": 4,
  "nbformat_minor": 0,
  "metadata": {
    "kernelspec": {
      "display_name": "Python 3",
      "language": "python",
      "name": "python3"
    },
    "language_info": {
      "codemirror_mode": {
        "name": "ipython",
        "version": 3
      },
      "file_extension": ".py",
      "mimetype": "text/x-python",
      "name": "python",
      "nbconvert_exporter": "python",
      "pygments_lexer": "ipython3",
      "version": "3.7.6"
    },
    "colab": {
      "name": "zContinuidad_interactive_01.ipynb",
      "provenance": [],
      "collapsed_sections": [],
      "include_colab_link": true
    },
    "widgets": {
      "application/vnd.jupyter.widget-state+json": {
        "435d767a842f42a08b87cf9e2634f53d": {
          "model_module": "@jupyter-widgets/controls",
          "model_name": "VBoxModel",
          "state": {
            "_view_name": "VBoxView",
            "_dom_classes": [
              "widget-interact"
            ],
            "_model_name": "VBoxModel",
            "_view_module": "@jupyter-widgets/controls",
            "_model_module_version": "1.5.0",
            "_view_count": null,
            "_view_module_version": "1.5.0",
            "box_style": "",
            "layout": "IPY_MODEL_38732f9993024be2820987f7922d191e",
            "_model_module": "@jupyter-widgets/controls",
            "children": [
              "IPY_MODEL_39bcfe4973724afd973798f6e24fd4f6",
              "IPY_MODEL_109b0fd08a884334b7ec5e8dab46df92",
              "IPY_MODEL_fdd81ec68c7a44f790861de9abccd72d"
            ]
          }
        },
        "38732f9993024be2820987f7922d191e": {
          "model_module": "@jupyter-widgets/base",
          "model_name": "LayoutModel",
          "state": {
            "_view_name": "LayoutView",
            "grid_template_rows": null,
            "right": null,
            "justify_content": null,
            "_view_module": "@jupyter-widgets/base",
            "overflow": null,
            "_model_module_version": "1.2.0",
            "_view_count": null,
            "flex_flow": null,
            "width": null,
            "min_width": null,
            "border": null,
            "align_items": null,
            "bottom": null,
            "_model_module": "@jupyter-widgets/base",
            "top": null,
            "grid_column": null,
            "overflow_y": null,
            "overflow_x": null,
            "grid_auto_flow": null,
            "grid_area": null,
            "grid_template_columns": null,
            "flex": null,
            "_model_name": "LayoutModel",
            "justify_items": null,
            "grid_row": null,
            "max_height": null,
            "align_content": null,
            "visibility": null,
            "align_self": null,
            "height": null,
            "min_height": null,
            "padding": null,
            "grid_auto_rows": null,
            "grid_gap": null,
            "max_width": null,
            "order": null,
            "_view_module_version": "1.2.0",
            "grid_template_areas": null,
            "object_position": null,
            "object_fit": null,
            "grid_auto_columns": null,
            "margin": null,
            "display": null,
            "left": null
          }
        },
        "39bcfe4973724afd973798f6e24fd4f6": {
          "model_module": "@jupyter-widgets/controls",
          "model_name": "FloatSliderModel",
          "state": {
            "_view_name": "FloatSliderView",
            "style": "IPY_MODEL_55b896532a214f69b54ce724c9145d4f",
            "_dom_classes": [],
            "description": "x0",
            "step": 0.5,
            "_model_name": "FloatSliderModel",
            "orientation": "horizontal",
            "max": 4.5,
            "_view_module": "@jupyter-widgets/controls",
            "_model_module_version": "1.5.0",
            "value": 2.5,
            "_view_count": null,
            "disabled": false,
            "_view_module_version": "1.5.0",
            "min": 0.5,
            "continuous_update": true,
            "readout_format": ".2f",
            "description_tooltip": null,
            "readout": true,
            "_model_module": "@jupyter-widgets/controls",
            "layout": "IPY_MODEL_fa906facb23e442094ee8a4224082f0f"
          }
        },
        "109b0fd08a884334b7ec5e8dab46df92": {
          "model_module": "@jupyter-widgets/controls",
          "model_name": "FloatSliderModel",
          "state": {
            "_view_name": "FloatSliderView",
            "style": "IPY_MODEL_c99ad15dcc0a42b986dc9521a8403bb6",
            "_dom_classes": [],
            "description": "delta",
            "step": 0.01,
            "_model_name": "FloatSliderModel",
            "orientation": "horizontal",
            "max": 0.5,
            "_view_module": "@jupyter-widgets/controls",
            "_model_module_version": "1.5.0",
            "value": 0.5,
            "_view_count": null,
            "disabled": false,
            "_view_module_version": "1.5.0",
            "min": 0.01,
            "continuous_update": true,
            "readout_format": ".2f",
            "description_tooltip": null,
            "readout": true,
            "_model_module": "@jupyter-widgets/controls",
            "layout": "IPY_MODEL_fe9f93356f66466c9c48194b0dbe3e30"
          }
        },
        "fdd81ec68c7a44f790861de9abccd72d": {
          "model_module": "@jupyter-widgets/output",
          "model_name": "OutputModel",
          "state": {
            "_view_name": "OutputView",
            "msg_id": "",
            "_dom_classes": [],
            "_model_name": "OutputModel",
            "outputs": [
              {
                "output_type": "display_data",
                "metadata": {
                  "tags": [],
                  "needs_background": "light"
                },
                "image/png": "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\n",
                "text/plain": "<Figure size 720x360 with 1 Axes>"
              }
            ],
            "_view_module": "@jupyter-widgets/output",
            "_model_module_version": "1.0.0",
            "_view_count": null,
            "_view_module_version": "1.0.0",
            "layout": "IPY_MODEL_df9834ed826e4519858d739a27db0a3b",
            "_model_module": "@jupyter-widgets/output"
          }
        },
        "55b896532a214f69b54ce724c9145d4f": {
          "model_module": "@jupyter-widgets/controls",
          "model_name": "SliderStyleModel",
          "state": {
            "_view_name": "StyleView",
            "handle_color": null,
            "_model_name": "SliderStyleModel",
            "description_width": "",
            "_view_module": "@jupyter-widgets/base",
            "_model_module_version": "1.5.0",
            "_view_count": null,
            "_view_module_version": "1.2.0",
            "_model_module": "@jupyter-widgets/controls"
          }
        },
        "fa906facb23e442094ee8a4224082f0f": {
          "model_module": "@jupyter-widgets/base",
          "model_name": "LayoutModel",
          "state": {
            "_view_name": "LayoutView",
            "grid_template_rows": null,
            "right": null,
            "justify_content": null,
            "_view_module": "@jupyter-widgets/base",
            "overflow": null,
            "_model_module_version": "1.2.0",
            "_view_count": null,
            "flex_flow": null,
            "width": null,
            "min_width": null,
            "border": null,
            "align_items": null,
            "bottom": null,
            "_model_module": "@jupyter-widgets/base",
            "top": null,
            "grid_column": null,
            "overflow_y": null,
            "overflow_x": null,
            "grid_auto_flow": null,
            "grid_area": null,
            "grid_template_columns": null,
            "flex": null,
            "_model_name": "LayoutModel",
            "justify_items": null,
            "grid_row": null,
            "max_height": null,
            "align_content": null,
            "visibility": null,
            "align_self": null,
            "height": null,
            "min_height": null,
            "padding": null,
            "grid_auto_rows": null,
            "grid_gap": null,
            "max_width": null,
            "order": null,
            "_view_module_version": "1.2.0",
            "grid_template_areas": null,
            "object_position": null,
            "object_fit": null,
            "grid_auto_columns": null,
            "margin": null,
            "display": null,
            "left": null
          }
        },
        "c99ad15dcc0a42b986dc9521a8403bb6": {
          "model_module": "@jupyter-widgets/controls",
          "model_name": "SliderStyleModel",
          "state": {
            "_view_name": "StyleView",
            "handle_color": null,
            "_model_name": "SliderStyleModel",
            "description_width": "",
            "_view_module": "@jupyter-widgets/base",
            "_model_module_version": "1.5.0",
            "_view_count": null,
            "_view_module_version": "1.2.0",
            "_model_module": "@jupyter-widgets/controls"
          }
        },
        "fe9f93356f66466c9c48194b0dbe3e30": {
          "model_module": "@jupyter-widgets/base",
          "model_name": "LayoutModel",
          "state": {
            "_view_name": "LayoutView",
            "grid_template_rows": null,
            "right": null,
            "justify_content": null,
            "_view_module": "@jupyter-widgets/base",
            "overflow": null,
            "_model_module_version": "1.2.0",
            "_view_count": null,
            "flex_flow": null,
            "width": null,
            "min_width": null,
            "border": null,
            "align_items": null,
            "bottom": null,
            "_model_module": "@jupyter-widgets/base",
            "top": null,
            "grid_column": null,
            "overflow_y": null,
            "overflow_x": null,
            "grid_auto_flow": null,
            "grid_area": null,
            "grid_template_columns": null,
            "flex": null,
            "_model_name": "LayoutModel",
            "justify_items": null,
            "grid_row": null,
            "max_height": null,
            "align_content": null,
            "visibility": null,
            "align_self": null,
            "height": null,
            "min_height": null,
            "padding": null,
            "grid_auto_rows": null,
            "grid_gap": null,
            "max_width": null,
            "order": null,
            "_view_module_version": "1.2.0",
            "grid_template_areas": null,
            "object_position": null,
            "object_fit": null,
            "grid_auto_columns": null,
            "margin": null,
            "display": null,
            "left": null
          }
        },
        "df9834ed826e4519858d739a27db0a3b": {
          "model_module": "@jupyter-widgets/base",
          "model_name": "LayoutModel",
          "state": {
            "_view_name": "LayoutView",
            "grid_template_rows": null,
            "right": null,
            "justify_content": null,
            "_view_module": "@jupyter-widgets/base",
            "overflow": null,
            "_model_module_version": "1.2.0",
            "_view_count": null,
            "flex_flow": null,
            "width": null,
            "min_width": null,
            "border": null,
            "align_items": null,
            "bottom": null,
            "_model_module": "@jupyter-widgets/base",
            "top": null,
            "grid_column": null,
            "overflow_y": null,
            "overflow_x": null,
            "grid_auto_flow": null,
            "grid_area": null,
            "grid_template_columns": null,
            "flex": null,
            "_model_name": "LayoutModel",
            "justify_items": null,
            "grid_row": null,
            "max_height": null,
            "align_content": null,
            "visibility": null,
            "align_self": null,
            "height": null,
            "min_height": null,
            "padding": null,
            "grid_auto_rows": null,
            "grid_gap": null,
            "max_width": null,
            "order": null,
            "_view_module_version": "1.2.0",
            "grid_template_areas": null,
            "object_position": null,
            "object_fit": null,
            "grid_auto_columns": null,
            "margin": null,
            "display": null,
            "left": null
          }
        }
      }
    }
  },
  "cells": [
    {
      "cell_type": "markdown",
      "metadata": {
        "id": "view-in-github",
        "colab_type": "text"
      },
      "source": [
        "<a href=\"https://colab.research.google.com/github/jugernaut/Prometeo/blob/desarrollo/01_Calculo/02_Continuidad/zContinuidad_interactive_01.ipynb\" target=\"_parent\"><img src=\"https://colab.research.google.com/assets/colab-badge.svg\" alt=\"Open In Colab\"/></a>"
      ]
    },
    {
      "cell_type": "code",
      "metadata": {
        "id": "nQjdO5a8OHzZ",
        "colab": {
          "base_uri": "https://localhost:8080/",
          "height": 575,
          "referenced_widgets": [
            "435d767a842f42a08b87cf9e2634f53d",
            "38732f9993024be2820987f7922d191e",
            "39bcfe4973724afd973798f6e24fd4f6",
            "109b0fd08a884334b7ec5e8dab46df92",
            "fdd81ec68c7a44f790861de9abccd72d",
            "55b896532a214f69b54ce724c9145d4f",
            "fa906facb23e442094ee8a4224082f0f",
            "c99ad15dcc0a42b986dc9521a8403bb6",
            "fe9f93356f66466c9c48194b0dbe3e30",
            "df9834ed826e4519858d739a27db0a3b"
          ]
        },
        "outputId": "670aa982-140e-4080-8a2d-1cd4e2f14121"
      },
      "source": [
        "!git clone https://github.com/jugernaut/Prometeo.git\n",
        "import numpy as np\n",
        "import Prometeo.Utils.gutils as vis\n",
        "%matplotlib inline\n",
        "from ipywidgets import interact, interactive, fixed\n",
        "import ipywidgets as widgets\n",
        "\n",
        "def continuidad(x, x0, delta, f):\n",
        "    y = f(x)                   # Codominio\n",
        "    y0 = f(x0)\n",
        "    x1 = x0 + delta\n",
        "    y1 = f(x1)\n",
        "    epsilon = np.fabs(y0 - y1)\n",
        "\n",
        "    par = [{'title':'$\\epsilon$ = {}, $\\delta$ = {}'.format(epsilon, delta), \n",
        "            'xlabel':'x',\n",
        "            'ylabel':'y'}]\n",
        "\n",
        "    graf = vis.planoCartesiano(par=par)\n",
        "    graf.plot(x=x, y=y, par={'label':'$f(x)=10\\cos(2x) + x^2$'})\n",
        "    graf.scatter(x=x0, y=y0, par={'color':'black', 'zorder':5})\n",
        "    graf.scatter(x=x1, y=y1, par={'color':'green', 'zorder':5})\n",
        "\n",
        "# Líneas verticales y horizontales\n",
        "    graf.plot(x = [x0, x0], y=[0, y0], par={'ls':'-', 'lw':2, 'color':'black'})\n",
        "    graf.plot(x = [0, x0], y=[y0, y0], par={'ls':'-', 'lw':2, 'color':'black'})\n",
        "    graf.plot(x = [x1, x1], y=[0, y1], par={'ls':'--', 'lw':2, 'color':'green'})\n",
        "    graf.plot(x = [0, x1], y=[y1, y1], par={'ls':'--', 'lw':2, 'color':'green'})\n",
        "\n",
        "    graf.plot(x = [x0, x1], y=[0, 0], par={'ls':'--', 'lw':1, 'color':'red'})\n",
        "    graf.plot(x = [0, 0], y=[y0, y1], par={'ls':'--', 'lw':1, 'color':'blue'})\n",
        "\n",
        "    offset1 = (y1-y0)*0.5\n",
        "    graf.annotate(par={'text':'$\\epsilon$', 'xy':(0, y0+offset1), 'xytext':(0.5,y0*1.2), \n",
        "                       'xycoords':'data','textcoords':'data', 'fontsize':15, 'color':'blue',\n",
        "                       'arrowprops':{'arrowstyle':'->', 'connectionstyle':'arc3', 'color':'blue'}\n",
        "                      })\n",
        "\n",
        "    offset2 = (x1-x0)*0.5\n",
        "    graf.annotate(par={'text':'$\\delta$', 'xy':(x0+offset2, 0), 'xytext':(x0*1.2,0.2), \n",
        "                       'xycoords':'data','textcoords':'data', 'fontsize':15, 'color':'red',\n",
        "                       'arrowprops':{'arrowstyle':'->', 'connectionstyle':'arc3', 'color':'red'}\n",
        "                      })\n",
        "    graf.legend(par={'loc':'lower right'})\n",
        "    graf.show()\n",
        "\n",
        "f = lambda x: 10*np.cos(2*x) + x**2\n",
        "x = np.linspace(0,5,100) \n",
        "w = interact(continuidad,\n",
        "             x = fixed(x),\n",
        "             x0 = widgets.FloatSlider(min=0.5, max=4.5, step=0.5, value=2.5),\n",
        "             delta= widgets.FloatSlider(min=0.01, max=.5, step=0.01, value=0.5),\n",
        "             f = fixed(f))\n",
        "display(w)"
      ],
      "execution_count": null,
      "outputs": [
        {
          "output_type": "stream",
          "text": [
            "Cloning into 'Prometeo'...\n",
            "remote: Enumerating objects: 268, done.\u001b[K\n",
            "remote: Counting objects: 100% (268/268), done.\u001b[K\n",
            "remote: Compressing objects: 100% (256/256), done.\u001b[K\n",
            "remote: Total 1230 (delta 159), reused 24 (delta 10), pack-reused 962\u001b[K\n",
            "Receiving objects: 100% (1230/1230), 12.61 MiB | 14.22 MiB/s, done.\n",
            "Resolving deltas: 100% (715/715), done.\n"
          ],
          "name": "stdout"
        },
        {
          "output_type": "display_data",
          "data": {
            "application/vnd.jupyter.widget-view+json": {
              "model_id": "435d767a842f42a08b87cf9e2634f53d",
              "version_minor": 0,
              "version_major": 2
            },
            "text/plain": [
              "interactive(children=(FloatSlider(value=2.5, description='x0', max=4.5, min=0.5, step=0.5), FloatSlider(value=…"
            ]
          },
          "metadata": {
            "tags": []
          }
        },
        {
          "output_type": "display_data",
          "data": {
            "text/plain": [
              "<function __main__.continuidad>"
            ]
          },
          "metadata": {
            "tags": []
          }
        }
      ]
    }
  ]
}