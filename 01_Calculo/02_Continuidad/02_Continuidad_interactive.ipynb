{
  "nbformat": 4,
  "nbformat_minor": 0,
  "metadata": {
    "kernelspec": {
      "display_name": "Python 3",
      "language": "python",
      "name": "python3"
    },
    "language_info": {
      "codemirror_mode": {
        "name": "ipython",
        "version": 3
      },
      "file_extension": ".py",
      "mimetype": "text/x-python",
      "name": "python",
      "nbconvert_exporter": "python",
      "pygments_lexer": "ipython3",
      "version": "3.7.6"
    },
    "colab": {
      "name": "02_Continuidad_interactive.ipynb",
      "provenance": [],
      "include_colab_link": true
    },
    "widgets": {
      "application/vnd.jupyter.widget-state+json": {
        "ed1cfb0b036146ea984b80e2d1b90209": {
          "model_module": "@jupyter-widgets/controls",
          "model_name": "VBoxModel",
          "state": {
            "_view_name": "VBoxView",
            "_dom_classes": [
              "widget-interact"
            ],
            "_model_name": "VBoxModel",
            "_view_module": "@jupyter-widgets/controls",
            "_model_module_version": "1.5.0",
            "_view_count": null,
            "_view_module_version": "1.5.0",
            "box_style": "",
            "layout": "IPY_MODEL_1732eeefea7141d688562e47b5fdc70a",
            "_model_module": "@jupyter-widgets/controls",
            "children": [
              "IPY_MODEL_c35b4e6cad504b97ac0ccda974288b58",
              "IPY_MODEL_c15306e13bc643a6b09246d11348c2fc",
              "IPY_MODEL_6716ff22c43c48b78ef63eb10f483ff3"
            ]
          }
        },
        "1732eeefea7141d688562e47b5fdc70a": {
          "model_module": "@jupyter-widgets/base",
          "model_name": "LayoutModel",
          "state": {
            "_view_name": "LayoutView",
            "grid_template_rows": null,
            "right": null,
            "justify_content": null,
            "_view_module": "@jupyter-widgets/base",
            "overflow": null,
            "_model_module_version": "1.2.0",
            "_view_count": null,
            "flex_flow": null,
            "width": null,
            "min_width": null,
            "border": null,
            "align_items": null,
            "bottom": null,
            "_model_module": "@jupyter-widgets/base",
            "top": null,
            "grid_column": null,
            "overflow_y": null,
            "overflow_x": null,
            "grid_auto_flow": null,
            "grid_area": null,
            "grid_template_columns": null,
            "flex": null,
            "_model_name": "LayoutModel",
            "justify_items": null,
            "grid_row": null,
            "max_height": null,
            "align_content": null,
            "visibility": null,
            "align_self": null,
            "height": null,
            "min_height": null,
            "padding": null,
            "grid_auto_rows": null,
            "grid_gap": null,
            "max_width": null,
            "order": null,
            "_view_module_version": "1.2.0",
            "grid_template_areas": null,
            "object_position": null,
            "object_fit": null,
            "grid_auto_columns": null,
            "margin": null,
            "display": null,
            "left": null
          }
        },
        "c35b4e6cad504b97ac0ccda974288b58": {
          "model_module": "@jupyter-widgets/controls",
          "model_name": "FloatSliderModel",
          "state": {
            "_view_name": "FloatSliderView",
            "style": "IPY_MODEL_df3d3a44584a476c9e77d5af9d68e4df",
            "_dom_classes": [],
            "description": "x0",
            "step": 0.5,
            "_model_name": "FloatSliderModel",
            "orientation": "horizontal",
            "max": 4.5,
            "_view_module": "@jupyter-widgets/controls",
            "_model_module_version": "1.5.0",
            "value": 4,
            "_view_count": null,
            "disabled": false,
            "_view_module_version": "1.5.0",
            "min": 0.5,
            "continuous_update": true,
            "readout_format": ".2f",
            "description_tooltip": null,
            "readout": true,
            "_model_module": "@jupyter-widgets/controls",
            "layout": "IPY_MODEL_d93a1ede33a748ee8422851b8cb73aab"
          }
        },
        "c15306e13bc643a6b09246d11348c2fc": {
          "model_module": "@jupyter-widgets/controls",
          "model_name": "FloatSliderModel",
          "state": {
            "_view_name": "FloatSliderView",
            "style": "IPY_MODEL_7ef34497289a4432add60d4507479bc5",
            "_dom_classes": [],
            "description": "delta",
            "step": 0.01,
            "_model_name": "FloatSliderModel",
            "orientation": "horizontal",
            "max": 0.5,
            "_view_module": "@jupyter-widgets/controls",
            "_model_module_version": "1.5.0",
            "value": 0.01,
            "_view_count": null,
            "disabled": false,
            "_view_module_version": "1.5.0",
            "min": 0.01,
            "continuous_update": true,
            "readout_format": ".2f",
            "description_tooltip": null,
            "readout": true,
            "_model_module": "@jupyter-widgets/controls",
            "layout": "IPY_MODEL_dcfdde780ba54758be3bcd790894198d"
          }
        },
        "6716ff22c43c48b78ef63eb10f483ff3": {
          "model_module": "@jupyter-widgets/output",
          "model_name": "OutputModel",
          "state": {
            "_view_name": "OutputView",
            "msg_id": "",
            "_dom_classes": [],
            "_model_name": "OutputModel",
            "outputs": [
              {
                "output_type": "display_data",
                "metadata": {
                  "tags": [],
                  "needs_background": "light"
                },
                "image/png": "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\n",
                "text/plain": "<Figure size 720x360 with 1 Axes>"
              }
            ],
            "_view_module": "@jupyter-widgets/output",
            "_model_module_version": "1.0.0",
            "_view_count": null,
            "_view_module_version": "1.0.0",
            "layout": "IPY_MODEL_b0a8735c79674264ad19d3982f2e7377",
            "_model_module": "@jupyter-widgets/output"
          }
        },
        "df3d3a44584a476c9e77d5af9d68e4df": {
          "model_module": "@jupyter-widgets/controls",
          "model_name": "SliderStyleModel",
          "state": {
            "_view_name": "StyleView",
            "handle_color": null,
            "_model_name": "SliderStyleModel",
            "description_width": "",
            "_view_module": "@jupyter-widgets/base",
            "_model_module_version": "1.5.0",
            "_view_count": null,
            "_view_module_version": "1.2.0",
            "_model_module": "@jupyter-widgets/controls"
          }
        },
        "d93a1ede33a748ee8422851b8cb73aab": {
          "model_module": "@jupyter-widgets/base",
          "model_name": "LayoutModel",
          "state": {
            "_view_name": "LayoutView",
            "grid_template_rows": null,
            "right": null,
            "justify_content": null,
            "_view_module": "@jupyter-widgets/base",
            "overflow": null,
            "_model_module_version": "1.2.0",
            "_view_count": null,
            "flex_flow": null,
            "width": null,
            "min_width": null,
            "border": null,
            "align_items": null,
            "bottom": null,
            "_model_module": "@jupyter-widgets/base",
            "top": null,
            "grid_column": null,
            "overflow_y": null,
            "overflow_x": null,
            "grid_auto_flow": null,
            "grid_area": null,
            "grid_template_columns": null,
            "flex": null,
            "_model_name": "LayoutModel",
            "justify_items": null,
            "grid_row": null,
            "max_height": null,
            "align_content": null,
            "visibility": null,
            "align_self": null,
            "height": null,
            "min_height": null,
            "padding": null,
            "grid_auto_rows": null,
            "grid_gap": null,
            "max_width": null,
            "order": null,
            "_view_module_version": "1.2.0",
            "grid_template_areas": null,
            "object_position": null,
            "object_fit": null,
            "grid_auto_columns": null,
            "margin": null,
            "display": null,
            "left": null
          }
        },
        "7ef34497289a4432add60d4507479bc5": {
          "model_module": "@jupyter-widgets/controls",
          "model_name": "SliderStyleModel",
          "state": {
            "_view_name": "StyleView",
            "handle_color": null,
            "_model_name": "SliderStyleModel",
            "description_width": "",
            "_view_module": "@jupyter-widgets/base",
            "_model_module_version": "1.5.0",
            "_view_count": null,
            "_view_module_version": "1.2.0",
            "_model_module": "@jupyter-widgets/controls"
          }
        },
        "dcfdde780ba54758be3bcd790894198d": {
          "model_module": "@jupyter-widgets/base",
          "model_name": "LayoutModel",
          "state": {
            "_view_name": "LayoutView",
            "grid_template_rows": null,
            "right": null,
            "justify_content": null,
            "_view_module": "@jupyter-widgets/base",
            "overflow": null,
            "_model_module_version": "1.2.0",
            "_view_count": null,
            "flex_flow": null,
            "width": null,
            "min_width": null,
            "border": null,
            "align_items": null,
            "bottom": null,
            "_model_module": "@jupyter-widgets/base",
            "top": null,
            "grid_column": null,
            "overflow_y": null,
            "overflow_x": null,
            "grid_auto_flow": null,
            "grid_area": null,
            "grid_template_columns": null,
            "flex": null,
            "_model_name": "LayoutModel",
            "justify_items": null,
            "grid_row": null,
            "max_height": null,
            "align_content": null,
            "visibility": null,
            "align_self": null,
            "height": null,
            "min_height": null,
            "padding": null,
            "grid_auto_rows": null,
            "grid_gap": null,
            "max_width": null,
            "order": null,
            "_view_module_version": "1.2.0",
            "grid_template_areas": null,
            "object_position": null,
            "object_fit": null,
            "grid_auto_columns": null,
            "margin": null,
            "display": null,
            "left": null
          }
        },
        "b0a8735c79674264ad19d3982f2e7377": {
          "model_module": "@jupyter-widgets/base",
          "model_name": "LayoutModel",
          "state": {
            "_view_name": "LayoutView",
            "grid_template_rows": null,
            "right": null,
            "justify_content": null,
            "_view_module": "@jupyter-widgets/base",
            "overflow": null,
            "_model_module_version": "1.2.0",
            "_view_count": null,
            "flex_flow": null,
            "width": null,
            "min_width": null,
            "border": null,
            "align_items": null,
            "bottom": null,
            "_model_module": "@jupyter-widgets/base",
            "top": null,
            "grid_column": null,
            "overflow_y": null,
            "overflow_x": null,
            "grid_auto_flow": null,
            "grid_area": null,
            "grid_template_columns": null,
            "flex": null,
            "_model_name": "LayoutModel",
            "justify_items": null,
            "grid_row": null,
            "max_height": null,
            "align_content": null,
            "visibility": null,
            "align_self": null,
            "height": null,
            "min_height": null,
            "padding": null,
            "grid_auto_rows": null,
            "grid_gap": null,
            "max_width": null,
            "order": null,
            "_view_module_version": "1.2.0",
            "grid_template_areas": null,
            "object_position": null,
            "object_fit": null,
            "grid_auto_columns": null,
            "margin": null,
            "display": null,
            "left": null
          }
        }
      }
    }
  },
  "cells": [
    {
      "cell_type": "markdown",
      "metadata": {
        "id": "view-in-github",
        "colab_type": "text"
      },
      "source": [
        "<a href=\"https://colab.research.google.com/github/jugernaut/Prometeo/blob/desarrollo/01_Calculo/02_Continuidad/02_Continuidad_interactive.ipynb\" target=\"_parent\"><img src=\"https://colab.research.google.com/assets/colab-badge.svg\" alt=\"Open In Colab\"/></a>"
      ]
    },
    {
      "cell_type": "code",
      "metadata": {
        "id": "nQjdO5a8OHzZ",
        "outputId": "4e085d5b-e496-4d71-b542-c9a7d105e1aa",
        "colab": {
          "base_uri": "https://localhost:8080/",
          "height": 466,
          "referenced_widgets": [
            "ed1cfb0b036146ea984b80e2d1b90209",
            "1732eeefea7141d688562e47b5fdc70a",
            "c35b4e6cad504b97ac0ccda974288b58",
            "c15306e13bc643a6b09246d11348c2fc",
            "6716ff22c43c48b78ef63eb10f483ff3",
            "df3d3a44584a476c9e77d5af9d68e4df",
            "d93a1ede33a748ee8422851b8cb73aab",
            "7ef34497289a4432add60d4507479bc5",
            "dcfdde780ba54758be3bcd790894198d",
            "b0a8735c79674264ad19d3982f2e7377"
          ]
        }
      },
      "source": [
        "!git clone https://github.com/joiortega1/Prueba_lectura.git\n",
        "import os\n",
        "os.listdir('Prueba_lectura')\n",
        "import numpy as np\n",
        "import matplotlib.pyplot as plt\n",
        "import Prueba_lectura.gutils as vis\n",
        "%matplotlib inline\n",
        "from ipywidgets import interact, interactive, fixed\n",
        "import ipywidgets as widgets\n",
        "\n",
        "def continuidad(x, x0, delta, f):\n",
        "    y = f(x)                   # Codominio\n",
        "    y0 = f(x0)\n",
        "    x1 = x0 + delta\n",
        "    y1 = f(x1)\n",
        "    epsilon = np.fabs(y0 - y1)\n",
        "\n",
        "    par = [{'title':'$\\epsilon$ = {}, $\\delta$ = {}'.format(epsilon, delta), \n",
        "            'xlabel':'x',\n",
        "            'ylabel':'y'}]\n",
        "\n",
        "    graf = vis.planoCartesiano(par=par)\n",
        "    graf.plot(x=x, y=y, par={'label':'$f(x)=10\\cos(2x) + x^2$'})\n",
        "    graf.scatter(x=x0, y=y0, par={'color':'black', 'zorder':5})\n",
        "    graf.scatter(x=x1, y=y1, par={'color':'green', 'zorder':5})\n",
        "\n",
        "# Líneas verticales y horizontales\n",
        "    graf.plot(x = [x0, x0], y=[0, y0], par={'ls':'-', 'lw':2, 'color':'black'})\n",
        "    graf.plot(x = [0, x0], y=[y0, y0], par={'ls':'-', 'lw':2, 'color':'black'})\n",
        "    graf.plot(x = [x1, x1], y=[0, y1], par={'ls':'--', 'lw':2, 'color':'green'})\n",
        "    graf.plot(x = [0, x1], y=[y1, y1], par={'ls':'--', 'lw':2, 'color':'green'})\n",
        "\n",
        "    graf.plot(x = [x0, x1], y=[0, 0], par={'ls':'--', 'lw':1, 'color':'red'})\n",
        "    graf.plot(x = [0, 0], y=[y0, y1], par={'ls':'--', 'lw':1, 'color':'blue'})\n",
        "\n",
        "    offset1 = (y1-y0)*0.5\n",
        "    graf.annotate(par={'s':'$\\epsilon$', 'xy':(0, y0+offset1), 'xytext':(0.5,y0*1.2), \n",
        "                       'xycoords':'data','textcoords':'data', 'fontsize':15, 'color':'blue',\n",
        "                       'arrowprops':{'arrowstyle':'->', 'connectionstyle':'arc3', 'color':'blue'}\n",
        "                      })\n",
        "\n",
        "    offset2 = (x1-x0)*0.5\n",
        "    graf.annotate(par={'s':'$\\delta$', 'xy':(x0+offset2, 0), 'xytext':(x0*1.2,0.2), \n",
        "                       'xycoords':'data','textcoords':'data', 'fontsize':15, 'color':'red',\n",
        "                       'arrowprops':{'arrowstyle':'->', 'connectionstyle':'arc3', 'color':'red'}\n",
        "                      })\n",
        "    graf.legend(par={'loc':'lower right'})\n",
        "    graf.show()\n",
        "\n",
        "f = lambda x: 10*np.cos(2*x) + x**2\n",
        "x = np.linspace(0,5,100) \n",
        "w = interact(continuidad,\n",
        "             x = fixed(x),\n",
        "             x0 = widgets.FloatSlider(min=0.5, max=4.5, step=0.5, value=2.5),\n",
        "             delta= widgets.FloatSlider(min=0.01, max=.5, step=0.01, value=0.5),\n",
        "             f = fixed(f))\n",
        "display(w)"
      ],
      "execution_count": 3,
      "outputs": [
        {
          "output_type": "stream",
          "text": [
            "fatal: destination path 'Prueba_lectura' already exists and is not an empty directory.\n"
          ],
          "name": "stdout"
        },
        {
          "output_type": "display_data",
          "data": {
            "application/vnd.jupyter.widget-view+json": {
              "model_id": "ed1cfb0b036146ea984b80e2d1b90209",
              "version_minor": 0,
              "version_major": 2
            },
            "text/plain": [
              "interactive(children=(FloatSlider(value=2.5, description='x0', max=4.5, min=0.5, step=0.5), FloatSlider(value=…"
            ]
          },
          "metadata": {
            "tags": []
          }
        },
        {
          "output_type": "display_data",
          "data": {
            "text/plain": [
              "<function __main__.continuidad>"
            ]
          },
          "metadata": {
            "tags": []
          }
        }
      ]
    }
  ]
}