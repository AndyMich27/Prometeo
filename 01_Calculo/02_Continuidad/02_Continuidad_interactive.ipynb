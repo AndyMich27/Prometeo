{
  "nbformat": 4,
  "nbformat_minor": 0,
  "metadata": {
    "kernelspec": {
      "display_name": "Python 3",
      "language": "python",
      "name": "python3"
    },
    "language_info": {
      "codemirror_mode": {
        "name": "ipython",
        "version": 3
      },
      "file_extension": ".py",
      "mimetype": "text/x-python",
      "name": "python",
      "nbconvert_exporter": "python",
      "pygments_lexer": "ipython3",
      "version": "3.7.6"
    },
    "colab": {
      "name": "02_Continuidad_interactive.ipynb",
      "provenance": [],
      "include_colab_link": true
    },
    "widgets": {
      "application/vnd.jupyter.widget-state+json": {
        "10c1237ac0d749339b201290a3addcb1": {
          "model_module": "@jupyter-widgets/controls",
          "model_name": "VBoxModel",
          "state": {
            "_view_name": "VBoxView",
            "_dom_classes": [
              "widget-interact"
            ],
            "_model_name": "VBoxModel",
            "_view_module": "@jupyter-widgets/controls",
            "_model_module_version": "1.5.0",
            "_view_count": null,
            "_view_module_version": "1.5.0",
            "box_style": "",
            "layout": "IPY_MODEL_9be84039ae9a4bab8ffe69d6d2de16ff",
            "_model_module": "@jupyter-widgets/controls",
            "children": [
              "IPY_MODEL_cf67d0e31858490fb3c24c2fbf44bd45",
              "IPY_MODEL_fc98dc20248642fc9fb213bfbb2b2c7b",
              "IPY_MODEL_bc4f919bbaea4559aa29fe99a01ed1bb"
            ]
          }
        },
        "9be84039ae9a4bab8ffe69d6d2de16ff": {
          "model_module": "@jupyter-widgets/base",
          "model_name": "LayoutModel",
          "state": {
            "_view_name": "LayoutView",
            "grid_template_rows": null,
            "right": null,
            "justify_content": null,
            "_view_module": "@jupyter-widgets/base",
            "overflow": null,
            "_model_module_version": "1.2.0",
            "_view_count": null,
            "flex_flow": null,
            "width": null,
            "min_width": null,
            "border": null,
            "align_items": null,
            "bottom": null,
            "_model_module": "@jupyter-widgets/base",
            "top": null,
            "grid_column": null,
            "overflow_y": null,
            "overflow_x": null,
            "grid_auto_flow": null,
            "grid_area": null,
            "grid_template_columns": null,
            "flex": null,
            "_model_name": "LayoutModel",
            "justify_items": null,
            "grid_row": null,
            "max_height": null,
            "align_content": null,
            "visibility": null,
            "align_self": null,
            "height": null,
            "min_height": null,
            "padding": null,
            "grid_auto_rows": null,
            "grid_gap": null,
            "max_width": null,
            "order": null,
            "_view_module_version": "1.2.0",
            "grid_template_areas": null,
            "object_position": null,
            "object_fit": null,
            "grid_auto_columns": null,
            "margin": null,
            "display": null,
            "left": null
          }
        },
        "cf67d0e31858490fb3c24c2fbf44bd45": {
          "model_module": "@jupyter-widgets/controls",
          "model_name": "FloatSliderModel",
          "state": {
            "_view_name": "FloatSliderView",
            "style": "IPY_MODEL_afcc97589f5f4f20ab28480915b5a52c",
            "_dom_classes": [],
            "description": "x0",
            "step": 0.5,
            "_model_name": "FloatSliderModel",
            "orientation": "horizontal",
            "max": 4.5,
            "_view_module": "@jupyter-widgets/controls",
            "_model_module_version": "1.5.0",
            "value": 1.5,
            "_view_count": null,
            "disabled": false,
            "_view_module_version": "1.5.0",
            "min": 0.5,
            "continuous_update": true,
            "readout_format": ".2f",
            "description_tooltip": null,
            "readout": true,
            "_model_module": "@jupyter-widgets/controls",
            "layout": "IPY_MODEL_7159a61c29a14156bfd3903fcb6158c5"
          }
        },
        "fc98dc20248642fc9fb213bfbb2b2c7b": {
          "model_module": "@jupyter-widgets/controls",
          "model_name": "FloatSliderModel",
          "state": {
            "_view_name": "FloatSliderView",
            "style": "IPY_MODEL_db955939a91d4b0db949fc37f4e6180d",
            "_dom_classes": [],
            "description": "delta",
            "step": 0.01,
            "_model_name": "FloatSliderModel",
            "orientation": "horizontal",
            "max": 0.5,
            "_view_module": "@jupyter-widgets/controls",
            "_model_module_version": "1.5.0",
            "value": 0.5,
            "_view_count": null,
            "disabled": false,
            "_view_module_version": "1.5.0",
            "min": 0.01,
            "continuous_update": true,
            "readout_format": ".2f",
            "description_tooltip": null,
            "readout": true,
            "_model_module": "@jupyter-widgets/controls",
            "layout": "IPY_MODEL_1e99fb3ddf6a487dbca3641a3dd61775"
          }
        },
        "bc4f919bbaea4559aa29fe99a01ed1bb": {
          "model_module": "@jupyter-widgets/output",
          "model_name": "OutputModel",
          "state": {
            "_view_name": "OutputView",
            "msg_id": "",
            "_dom_classes": [],
            "_model_name": "OutputModel",
            "outputs": [
              {
                "output_type": "display_data",
                "metadata": {
                  "tags": [],
                  "needs_background": "light"
                },
                "image/png": "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\n",
                "text/plain": "<Figure size 720x360 with 1 Axes>"
              }
            ],
            "_view_module": "@jupyter-widgets/output",
            "_model_module_version": "1.0.0",
            "_view_count": null,
            "_view_module_version": "1.0.0",
            "layout": "IPY_MODEL_1861a9b30fdd4dcf9525ba4ee52b12a6",
            "_model_module": "@jupyter-widgets/output"
          }
        },
        "afcc97589f5f4f20ab28480915b5a52c": {
          "model_module": "@jupyter-widgets/controls",
          "model_name": "SliderStyleModel",
          "state": {
            "_view_name": "StyleView",
            "handle_color": null,
            "_model_name": "SliderStyleModel",
            "description_width": "",
            "_view_module": "@jupyter-widgets/base",
            "_model_module_version": "1.5.0",
            "_view_count": null,
            "_view_module_version": "1.2.0",
            "_model_module": "@jupyter-widgets/controls"
          }
        },
        "7159a61c29a14156bfd3903fcb6158c5": {
          "model_module": "@jupyter-widgets/base",
          "model_name": "LayoutModel",
          "state": {
            "_view_name": "LayoutView",
            "grid_template_rows": null,
            "right": null,
            "justify_content": null,
            "_view_module": "@jupyter-widgets/base",
            "overflow": null,
            "_model_module_version": "1.2.0",
            "_view_count": null,
            "flex_flow": null,
            "width": null,
            "min_width": null,
            "border": null,
            "align_items": null,
            "bottom": null,
            "_model_module": "@jupyter-widgets/base",
            "top": null,
            "grid_column": null,
            "overflow_y": null,
            "overflow_x": null,
            "grid_auto_flow": null,
            "grid_area": null,
            "grid_template_columns": null,
            "flex": null,
            "_model_name": "LayoutModel",
            "justify_items": null,
            "grid_row": null,
            "max_height": null,
            "align_content": null,
            "visibility": null,
            "align_self": null,
            "height": null,
            "min_height": null,
            "padding": null,
            "grid_auto_rows": null,
            "grid_gap": null,
            "max_width": null,
            "order": null,
            "_view_module_version": "1.2.0",
            "grid_template_areas": null,
            "object_position": null,
            "object_fit": null,
            "grid_auto_columns": null,
            "margin": null,
            "display": null,
            "left": null
          }
        },
        "db955939a91d4b0db949fc37f4e6180d": {
          "model_module": "@jupyter-widgets/controls",
          "model_name": "SliderStyleModel",
          "state": {
            "_view_name": "StyleView",
            "handle_color": null,
            "_model_name": "SliderStyleModel",
            "description_width": "",
            "_view_module": "@jupyter-widgets/base",
            "_model_module_version": "1.5.0",
            "_view_count": null,
            "_view_module_version": "1.2.0",
            "_model_module": "@jupyter-widgets/controls"
          }
        },
        "1e99fb3ddf6a487dbca3641a3dd61775": {
          "model_module": "@jupyter-widgets/base",
          "model_name": "LayoutModel",
          "state": {
            "_view_name": "LayoutView",
            "grid_template_rows": null,
            "right": null,
            "justify_content": null,
            "_view_module": "@jupyter-widgets/base",
            "overflow": null,
            "_model_module_version": "1.2.0",
            "_view_count": null,
            "flex_flow": null,
            "width": null,
            "min_width": null,
            "border": null,
            "align_items": null,
            "bottom": null,
            "_model_module": "@jupyter-widgets/base",
            "top": null,
            "grid_column": null,
            "overflow_y": null,
            "overflow_x": null,
            "grid_auto_flow": null,
            "grid_area": null,
            "grid_template_columns": null,
            "flex": null,
            "_model_name": "LayoutModel",
            "justify_items": null,
            "grid_row": null,
            "max_height": null,
            "align_content": null,
            "visibility": null,
            "align_self": null,
            "height": null,
            "min_height": null,
            "padding": null,
            "grid_auto_rows": null,
            "grid_gap": null,
            "max_width": null,
            "order": null,
            "_view_module_version": "1.2.0",
            "grid_template_areas": null,
            "object_position": null,
            "object_fit": null,
            "grid_auto_columns": null,
            "margin": null,
            "display": null,
            "left": null
          }
        },
        "1861a9b30fdd4dcf9525ba4ee52b12a6": {
          "model_module": "@jupyter-widgets/base",
          "model_name": "LayoutModel",
          "state": {
            "_view_name": "LayoutView",
            "grid_template_rows": null,
            "right": null,
            "justify_content": null,
            "_view_module": "@jupyter-widgets/base",
            "overflow": null,
            "_model_module_version": "1.2.0",
            "_view_count": null,
            "flex_flow": null,
            "width": null,
            "min_width": null,
            "border": null,
            "align_items": null,
            "bottom": null,
            "_model_module": "@jupyter-widgets/base",
            "top": null,
            "grid_column": null,
            "overflow_y": null,
            "overflow_x": null,
            "grid_auto_flow": null,
            "grid_area": null,
            "grid_template_columns": null,
            "flex": null,
            "_model_name": "LayoutModel",
            "justify_items": null,
            "grid_row": null,
            "max_height": null,
            "align_content": null,
            "visibility": null,
            "align_self": null,
            "height": null,
            "min_height": null,
            "padding": null,
            "grid_auto_rows": null,
            "grid_gap": null,
            "max_width": null,
            "order": null,
            "_view_module_version": "1.2.0",
            "grid_template_areas": null,
            "object_position": null,
            "object_fit": null,
            "grid_auto_columns": null,
            "margin": null,
            "display": null,
            "left": null
          }
        }
      }
    }
  },
  "cells": [
    {
      "cell_type": "markdown",
      "metadata": {
        "id": "view-in-github",
        "colab_type": "text"
      },
      "source": [
        "<a href=\"https://colab.research.google.com/github/jugernaut/Prometeo/blob/desarrollo/01_Calculo/02_Continuidad/02_Continuidad_interactive.ipynb\" target=\"_parent\"><img src=\"https://colab.research.google.com/assets/colab-badge.svg\" alt=\"Open In Colab\"/></a>"
      ]
    },
    {
      "cell_type": "code",
      "metadata": {
        "id": "nQjdO5a8OHzZ",
        "outputId": "9c3e1f9c-6932-4931-8c50-154842c27446",
        "colab": {
          "base_uri": "https://localhost:8080/",
          "height": 466,
          "referenced_widgets": [
            "10c1237ac0d749339b201290a3addcb1",
            "9be84039ae9a4bab8ffe69d6d2de16ff",
            "cf67d0e31858490fb3c24c2fbf44bd45",
            "fc98dc20248642fc9fb213bfbb2b2c7b",
            "bc4f919bbaea4559aa29fe99a01ed1bb",
            "afcc97589f5f4f20ab28480915b5a52c",
            "7159a61c29a14156bfd3903fcb6158c5",
            "db955939a91d4b0db949fc37f4e6180d",
            "1e99fb3ddf6a487dbca3641a3dd61775",
            "1861a9b30fdd4dcf9525ba4ee52b12a6"
          ]
        }
      },
      "source": [
        "!git clone https://github.com/joiortega1/Prueba_lectura.git\n",
        "import numpy as np\n",
        "import matplotlib.pyplot as plt\n",
        "import Prueba_lectura.gutils as vis\n",
        "%matplotlib inline\n",
        "from ipywidgets import interact, interactive, fixed\n",
        "import ipywidgets as widgets\n",
        "\n",
        "def continuidad(x, x0, delta, f):\n",
        "    y = f(x)                   # Codominio\n",
        "    y0 = f(x0)\n",
        "    x1 = x0 + delta\n",
        "    y1 = f(x1)\n",
        "    epsilon = np.fabs(y0 - y1)\n",
        "\n",
        "    par = [{'title':'$\\epsilon$ = {}, $\\delta$ = {}'.format(epsilon, delta), \n",
        "            'xlabel':'x',\n",
        "            'ylabel':'y'}]\n",
        "\n",
        "    graf = vis.planoCartesiano(par=par)\n",
        "    graf.plot(x=x, y=y, par={'label':'$f(x)=10\\cos(2x) + x^2$'})\n",
        "    graf.scatter(x=x0, y=y0, par={'color':'black', 'zorder':5})\n",
        "    graf.scatter(x=x1, y=y1, par={'color':'green', 'zorder':5})\n",
        "\n",
        "# Líneas verticales y horizontales\n",
        "    graf.plot(x = [x0, x0], y=[0, y0], par={'ls':'-', 'lw':2, 'color':'black'})\n",
        "    graf.plot(x = [0, x0], y=[y0, y0], par={'ls':'-', 'lw':2, 'color':'black'})\n",
        "    graf.plot(x = [x1, x1], y=[0, y1], par={'ls':'--', 'lw':2, 'color':'green'})\n",
        "    graf.plot(x = [0, x1], y=[y1, y1], par={'ls':'--', 'lw':2, 'color':'green'})\n",
        "\n",
        "    graf.plot(x = [x0, x1], y=[0, 0], par={'ls':'--', 'lw':1, 'color':'red'})\n",
        "    graf.plot(x = [0, 0], y=[y0, y1], par={'ls':'--', 'lw':1, 'color':'blue'})\n",
        "\n",
        "    offset1 = (y1-y0)*0.5\n",
        "    graf.annotate(par={'s':'$\\epsilon$', 'xy':(0, y0+offset1), 'xytext':(0.5,y0*1.2), \n",
        "                       'xycoords':'data','textcoords':'data', 'fontsize':15, 'color':'blue',\n",
        "                       'arrowprops':{'arrowstyle':'->', 'connectionstyle':'arc3', 'color':'blue'}\n",
        "                      })\n",
        "\n",
        "    offset2 = (x1-x0)*0.5\n",
        "    graf.annotate(par={'s':'$\\delta$', 'xy':(x0+offset2, 0), 'xytext':(x0*1.2,0.2), \n",
        "                       'xycoords':'data','textcoords':'data', 'fontsize':15, 'color':'red',\n",
        "                       'arrowprops':{'arrowstyle':'->', 'connectionstyle':'arc3', 'color':'red'}\n",
        "                      })\n",
        "    graf.legend(par={'loc':'lower right'})\n",
        "    graf.show()\n",
        "\n",
        "f = lambda x: 10*np.cos(2*x) + x**2\n",
        "x = np.linspace(0,5,100) \n",
        "w = interact(continuidad,\n",
        "             x = fixed(x),\n",
        "             x0 = widgets.FloatSlider(min=0.5, max=4.5, step=0.5, value=2.5),\n",
        "             delta= widgets.FloatSlider(min=0.01, max=.5, step=0.01, value=0.5),\n",
        "             f = fixed(f))\n",
        "display(w)"
      ],
      "execution_count": 9,
      "outputs": [
        {
          "output_type": "stream",
          "text": [
            "fatal: destination path 'Prueba_lectura' already exists and is not an empty directory.\n"
          ],
          "name": "stdout"
        },
        {
          "output_type": "display_data",
          "data": {
            "application/vnd.jupyter.widget-view+json": {
              "model_id": "10c1237ac0d749339b201290a3addcb1",
              "version_minor": 0,
              "version_major": 2
            },
            "text/plain": [
              "interactive(children=(FloatSlider(value=2.5, description='x0', max=4.5, min=0.5, step=0.5), FloatSlider(value=…"
            ]
          },
          "metadata": {
            "tags": []
          }
        },
        {
          "output_type": "display_data",
          "data": {
            "text/plain": [
              "<function __main__.continuidad>"
            ]
          },
          "metadata": {
            "tags": []
          }
        }
      ]
    }
  ]
}