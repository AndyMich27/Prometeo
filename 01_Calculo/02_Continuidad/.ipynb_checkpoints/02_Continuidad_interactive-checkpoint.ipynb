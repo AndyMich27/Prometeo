{
 "cells": [
  {
   "cell_type": "code",
   "execution_count": 1,
   "metadata": {},
   "outputs": [],
   "source": [
    "import os, sys\n",
    "sys.path.insert(0, os.path.abspath('../../Utils'))\n",
    "\n",
    "import numpy as np\n",
    "import matplotlib.pyplot as plt\n",
    "import gutils as vis\n",
    "%matplotlib inline\n",
    "from ipywidgets import interact, interactive, fixed\n",
    "import ipywidgets as widgets"
   ]
  },
  {
   "cell_type": "code",
   "execution_count": 2,
   "metadata": {},
   "outputs": [],
   "source": [
    "def continuidad(x, x0, delta, f):\n",
    "    y = f(x)                   # Codominio\n",
    "    y0 = f(x0)\n",
    "    x1 = x0 + delta\n",
    "    y1 = f(x1)\n",
    "    epsilon = np.fabs(y0 - y1)\n",
    "\n",
    "    par = [{'title':'$\\epsilon$ = {}, $\\delta$ = {}'.format(epsilon, delta), \n",
    "            'xlabel':'x',\n",
    "            'ylabel':'y'}]\n",
    "\n",
    "    graf = vis.planoCartesiano(par=par)\n",
    "    graf.plot(x=x, y=y, par={'label':'$f(x)=10\\cos(2x) + x^2$'})\n",
    "    graf.scatter(x=x0, y=y0, par={'color':'black', 'zorder':5})\n",
    "    graf.scatter(x=x1, y=y1, par={'color':'green', 'zorder':5})\n",
    "\n",
    "# Líneas verticales y horizontales\n",
    "    graf.plot(x = [x0, x0], y=[0, y0], par={'ls':'-', 'lw':2, 'color':'black'})\n",
    "    graf.plot(x = [0, x0], y=[y0, y0], par={'ls':'-', 'lw':2, 'color':'black'})\n",
    "    graf.plot(x = [x1, x1], y=[0, y1], par={'ls':'--', 'lw':2, 'color':'green'})\n",
    "    graf.plot(x = [0, x1], y=[y1, y1], par={'ls':'--', 'lw':2, 'color':'green'})\n",
    "\n",
    "    graf.plot(x = [x0, x1], y=[0, 0], par={'ls':'--', 'lw':1, 'color':'red'})\n",
    "    graf.plot(x = [0, 0], y=[y0, y1], par={'ls':'--', 'lw':1, 'color':'blue'})\n",
    "\n",
    "    offset1 = (y1-y0)*0.5\n",
    "    graf.annotate(par={'text':'$\\epsilon$', 'xy':(0, y0+offset1), 'xytext':(0.5,y0*1.2), \n",
    "                       'xycoords':'data','textcoords':'data', 'fontsize':15, 'color':'blue',\n",
    "                       'arrowprops':{'arrowstyle':'->', 'connectionstyle':'arc3', 'color':'blue'}\n",
    "                      })\n",
    "\n",
    "    offset2 = (x1-x0)*0.5\n",
    "    graf.annotate(par={'text':'$\\delta$', 'xy':(x0+offset2, 0), 'xytext':(x0*1.2,0.2), \n",
    "                       'xycoords':'data','textcoords':'data', 'fontsize':15, 'color':'red',\n",
    "                       'arrowprops':{'arrowstyle':'->', 'connectionstyle':'arc3', 'color':'red'}\n",
    "                      })\n",
    "    graf.legend(par={'loc':'lower right'})\n",
    "    graf.show()"
   ]
  },
  {
   "cell_type": "code",
   "execution_count": 3,
   "metadata": {},
   "outputs": [
    {
     "data": {
      "application/vnd.jupyter.widget-view+json": {
       "model_id": "56e42a50382b4e67bbb9750d78989342",
       "version_major": 2,
       "version_minor": 0
      },
      "text/plain": [
       "interactive(children=(FloatSlider(value=2.5, description='x0', max=4.5, min=0.5, step=0.5), FloatSlider(value=…"
      ]
     },
     "metadata": {},
     "output_type": "display_data"
    },
    {
     "data": {
      "text/plain": [
       "<function __main__.continuidad(x, x0, delta, f)>"
      ]
     },
     "metadata": {},
     "output_type": "display_data"
    }
   ],
   "source": [
    "f = lambda x: 10*np.cos(2*x) + x**2\n",
    "x = np.linspace(0,5,100) \n",
    "w = interact(continuidad,\n",
    "             x = fixed(x),\n",
    "             x0 = widgets.FloatSlider(min=0.5, max=4.5, step=0.5, value=2.5),\n",
    "             delta= widgets.FloatSlider(min=0.01, max=.5, step=0.01, value=0.5),\n",
    "             f = fixed(f))\n",
    "display(w)"
   ]
  },
  {
   "cell_type": "code",
   "execution_count": null,
   "metadata": {},
   "outputs": [],
   "source": []
  }
 ],
 "metadata": {
  "kernelspec": {
   "display_name": "Python 3",
   "language": "python",
   "name": "python3"
  },
  "language_info": {
   "codemirror_mode": {
    "name": "ipython",
    "version": 3
   },
   "file_extension": ".py",
   "mimetype": "text/x-python",
   "name": "python",
   "nbconvert_exporter": "python",
   "pygments_lexer": "ipython3",
   "version": "3.7.6"
  }
 },
 "nbformat": 4,
 "nbformat_minor": 4
}
