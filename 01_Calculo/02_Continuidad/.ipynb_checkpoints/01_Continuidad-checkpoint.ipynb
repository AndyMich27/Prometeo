{
 "cells": [
  {
   "cell_type": "markdown",
   "metadata": {
    "colab_type": "text",
    "id": "view-in-github"
   },
   "source": [
    "<a href=\"https://colab.research.google.com/github/luiggix/PAPIME_PE101019_Materiales/blob/master/01_Calculo/Continuidad.ipynb\" target=\"_parent\"><img src=\"https://colab.research.google.com/assets/colab-badge.svg\" alt=\"Open In Colab\"/></a>"
   ]
  },
  {
   "cell_type": "markdown",
   "metadata": {
    "colab_type": "text",
    "id": "zDdbdJSs1FxK"
   },
   "source": [
    "\n",
    "# Continuidad\n",
    "\n",
    "## Proyecto PAPIME PE101019\n",
    "\n",
    "*   Autores: \n",
    "    - José de Jesús Tapia López\n",
    "    - Luis M. de la Cruz Salas\n",
    "*   Rev: lun ago 19 15:27:40 CDT 2020"
   ]
  },
  {
   "cell_type": "code",
   "execution_count": null,
   "metadata": {},
   "outputs": [],
   "source": [
    "import os, sys\n",
    "sys.path.insert(0, os.path.abspath('../../Utils'))\n",
    "\n",
    "import numpy as np\n",
    "import matplotlib.pyplot as plt\n",
    "import gutils as vis\n",
    "%matplotlib inline"
   ]
  },
  {
   "cell_type": "markdown",
   "metadata": {},
   "source": [
    "# Emprendiendo con Chilaquiles 2.0\n",
    "\n",
    "Una vez terminado el semestre, aquellos estudiantes que emprendieron con la venta de Chilaquiles, decidieron continuar con sus ventas durante el periodo intersemestral vendiendo durante más días a la semana. La tabla de ventas para las diferentes semanas se muestra a continuación:\n",
    "\n",
    "| Semana | 1 | 2 | 3 | 4 | 5 | 6 | 7 | 8 | 9 | 10 | 11 | 12 | 12 | 13 | 14 | 15 | 16 | 17 | 18 | 19 | 20 |\n",
    "|---|---|---|---|---|---|---|---|---|---|---|---|---|---|---|---|---|---|---|---|---|---|\n",
    "| Porciones vendidas | 4 | 9 | 18 | 30 | 43 | 52 | 57 | 59 | 60 | 60 | 60 | 60 | 132 | 134 | 137 | 141 | 145 | 150 | 157 | 165 | 175 |\n",
    "\n",
    "Hagamos una gráfica de estos datos:"
   ]
  },
  {
   "cell_type": "code",
   "execution_count": null,
   "metadata": {},
   "outputs": [],
   "source": [
    "semanas   = [ 1, 2, 3, 4, 5, 6, 7, 8, 9,10,11,12, 12, 13, 14, 15, 16, 17, 18, 19, 20]\n",
    "porciones = [ 4, 9,18,30,43,52,57,59,60,60,60,60,132, 134, 137, 141, 145, 150, 157, 165, 175]\n",
    "\n",
    "par = [{'title':'Chilaquiles', \n",
    "        'xlabel':'Semanas',\n",
    "        'ylabel':'Porciones vendidas'}]\n",
    "graf = vis.planoCartesiano(par=par)\n",
    "graf.scatter(x=semanas, y=porciones,\n",
    "             par={'color':'blue', 's':75})\n",
    "#graf.plot(x = [12, 12], y=[0, 175], par={'ls':'--', 'lw':2, 'color':'green'})\n",
    "graf.ticks(xticks = [i for i in range(21)])\n",
    "graf.show()"
   ]
  },
  {
   "cell_type": "markdown",
   "metadata": {},
   "source": [
    "Si observas con atención, notarás que en la semana 12 se tienen dos valores: 60 y 132. Esto se nota mejor cuando se traza una línea vertical en esa semana. Para ver esta línea, solo elimina el signo `#` en la línea de código `#graf.plot(...)` de la celda anterior y ejecuta nuevamente. ¿Esta gráfica cumple con al definición de función?\n",
    "\n",
    "**¿Qué fue lo que pasó con la venta de chilaquiles en la semana 12? ¿Por qué hay dos valores?**\n",
    "\n",
    "Revisando esta información uno de los estudiantes comenta que el registró el primer valor de 60, debido a que solo tomó en cuenta la venta hasta media semana, que fue cuando terminaron sus exámenes de Cálculo. Pero los otros dos estudiantes, continuaron las ventas hasta el final de esa misma semana y registraron el total de 132 para la misma semana. Obviamente hay un conflicto debido a que se tienen dos valores para la misma semana y eso se observa en la gráfica. Por supuesto es fácil ponerse de acuerdo en este caso y registrar un solo valor, pero tomemos este ejemplo como un caso de estudio de funciones continuas y discontinuas.\n",
    "\n",
    "Anteriormente habíamos observado que las ventas se podían modelar con una función logística, al menos hasta la semana 12. Ahora tenemos información hasta la semana 20, pero parece que el comportamiento de las ventas es diferente, del tipo exponencial, es decir:\n",
    "\n",
    "$\\displaystyle\n",
    "f(x) = e^{a * x} + b\n",
    "$\n",
    "\n",
    "En este caso, ajustamos los parámetros con los valores: $a=0.2$ y $b=120$\n",
    "\n",
    "Veamos la siguiente gráfica:"
   ]
  },
  {
   "cell_type": "code",
   "execution_count": null,
   "metadata": {},
   "outputs": [],
   "source": [
    "def chiexponenciales(a, b, x):\n",
    "    \"\"\"\n",
    "    Función para modelar la venta de chilaquiles con una exponencial.\n",
    "    \"\"\"\n",
    "    return np.exp(a*x)+b\n",
    "\n",
    "def chilogisticos(a,b,c,x):\n",
    "    \"\"\"\n",
    "    Función para modelar la venta de chilaquiles con una logística.\n",
    "    \"\"\"\n",
    "    return a / (b + np.exp(-1*(x-c)))\n",
    "\n",
    "par = [{'title':'Chilaquiles', \n",
    "        'xlabel':'Semanas',\n",
    "        'ylabel':'Porciones vendidas'}]\n",
    "graf = vis.planoCartesiano(par=par)\n",
    "\n",
    "xl = np.linspace(-1,12,100)       # Dominio: función logísitica   \n",
    "yl = chilogisticos(30,0.5,3.5,xl) # Codominio  \n",
    "graf.plot(x=xl, y=yl, par={'label':'Modelo logístico'})\n",
    "\n",
    "xe = np.linspace(12,20,9)     # Dominio: función exponencial\n",
    "ye=chiexponenciales(0.2, 120, xe)  # Codominio\n",
    "graf.plot(x=xe, y=ye, par={'label':'Modelo exponencial'})\n",
    "\n",
    "graf.scatter(x=semanas, y=porciones, \n",
    "             par={'color':'blue', 's':75, 'zorder':5})\n",
    "\n",
    "# Línea vertical\n",
    "graf.plot(x = [12, 12], y=[0, 175], par={'ls':'--', 'lw':2, 'color':'green'})\n",
    "\n",
    "graf.ticks(xticks = [i for i in range(21)])\n",
    "graf.legend()\n",
    "graf.show()"
   ]
  },
  {
   "cell_type": "markdown",
   "metadata": {},
   "source": [
    "Observamos que efectivamente los modelos logístico y exponencial ajustan muy bien las ventas durante el semestre y durante el periodo intersemestral, respectivamente. Si los estudiantes emprendedores quisieran modelar el comportamiento de las ventas para todas las semanas deberían escribir de manera formal lo siguiente:\n",
    "\n",
    "$ f(x) = \\left\\{\n",
    "\\begin{array}{l}\n",
    "      \\frac{30}{0.5 + e^{-(x-3.5)}} & x \\leq 12 \\\\\n",
    "      \\\\\n",
    "      e^{0.2 x} + 120 & x \\geq 12 \\\\\n",
    "\\end{array} \n",
    "\\right.$\n",
    "\n",
    "**Algunas conclusiones**:\n",
    "\n",
    "- La definición de $f(x)$ escrita antes no cumple con la definición de función, pues se tienen dos valores de $f$ para $x=12$:\n",
    "    - Si caminamos por la gráfica desde la semana 1 hasta la 12, llegaremos al valor de $f(x=12) = 60$. \n",
    "    - Pero si caminamos en reversa, empezando en la semana 20, veremos que en la semana 12 obtenemos el valor de $f(x=12) = 132$. \n",
    "    - Decimos que hay un **salto** o **discontinuidad** en ese punto y por lo tanto la función completa $f(x)$ no es continua.\n",
    "\n",
    "- Sin embargo, podemos definir una *función continua a trozos*:\n",
    "    - Supongamos que los estudiantes acuerdan que la semana 12 pertenece al periodo intersemestral, por lo tanto tenemos:\n",
    "        - una función del tipo logístico, con un dominio $x \\in [0,12)$ y\n",
    "        - una función del tipo exponencial, con un dominio $x \\in [12, 20]$ \n",
    "    - de manera formal escribimos:\n",
    "\n",
    "$ f(x) = \\left\\{\n",
    "\\begin{array}{l}\n",
    "      \\frac{30}{0.5 + e^{-(x-3.5)}} & x < 12 \\qquad \\text{(logística hasta la semana 11)} \\\\\n",
    "      \\\\\n",
    "      e^{0.2 x} + 120 & x \\geq 12 \\qquad \\text{(exponencial apartir de la semana 12)}\\\\\n",
    "\\end{array} \n",
    "\\right.$\n",
    "\n",
    "Observe que en esta definición los dominios no se traslapan, por lo que ahora si se cumple la definición de función. Veamos la gráfica de este caso:"
   ]
  },
  {
   "cell_type": "code",
   "execution_count": null,
   "metadata": {},
   "outputs": [],
   "source": [
    "# Tabla de ventas corregida\n",
    "semanas   = [ 1, 2, 3, 4, 5, 6, 7, 8, 9,10,11,12, 13, 14, 15, 16, 17, 18, 19, 20]\n",
    "porciones = [ 4, 9,18,30,43,52,57,59,60,60,60,132, 134, 137, 141, 145, 150, 157, 165, 175]\n",
    "\n",
    "graf = vis.planoCartesiano(par=par)\n",
    "\n",
    "xl = np.linspace(-1,11,100)       # Dominio: función logísitica   \n",
    "yl = chilogisticos(30,0.5,3.5,xl) # Codominio  \n",
    "graf.plot(x=xl, y=yl, par={'label':'Modelo logístico'})\n",
    "\n",
    "xe = np.linspace(12,20,9)     # Dominio: función exponencial\n",
    "ye=chiexponenciales(0.2, 120, xe)  # Codominio\n",
    "graf.plot(x=xe, y=ye, par={'label':'Modelo exponencial'})\n",
    "\n",
    "graf.scatter(x=semanas, y=porciones, \n",
    "             par={'color':'blue', 's':75, 'zorder':5})\n",
    "\n",
    "# Línea vertical\n",
    "graf.plot(x = [12, 12], y=[0, 175], par={'ls':'--', 'lw':2, 'color':'green'})\n",
    "\n",
    "graf.ticks(xticks = [i for i in range(21)])\n",
    "graf.legend()\n",
    "graf.show()"
   ]
  },
  {
   "cell_type": "markdown",
   "metadata": {
    "colab_type": "text",
    "id": "1zb4ysnV3iFb"
   },
   "source": [
    "A continuación veremos más ejemplos de funciones continuas y discontinuas, así como algunas definiciones más formales.\n",
    "\n",
    "## Ejemplos y formalismos matemáticos\n",
    "\n",
    "### Ejemplo 1.\n",
    "\n",
    "Considerese la siguiente función: $f(x) = \\frac{1}{x}$.  ¿Qué pasa cuando $x$ está cerca del valor cero?."
   ]
  },
  {
   "cell_type": "code",
   "execution_count": null,
   "metadata": {
    "colab": {
     "base_uri": "https://localhost:8080/",
     "height": 505
    },
    "colab_type": "code",
    "id": "EG10sD6Tba2G",
    "outputId": "7f21a8be-53c8-41f9-c47f-d49b29f94d01"
   },
   "outputs": [],
   "source": [
    "x = np.arange(-5.5,5.5,0.001)  # Dominio\n",
    "y = 1/x                        # Codominio\n",
    "\n",
    "y[y > 100] = np.inf\n",
    "y[y< -100] = -np.inf\n",
    "\n",
    "par = [{'title':'$f(x) = \\dfrac{1}{x}$', \n",
    "        'xlabel':'$x$',\n",
    "        'ylabel':'$f(x)$'}]\n",
    "graf = vis.planoCartesiano(par=par)\n",
    "\n",
    "graf.plot(x=x, y=y, par={'label':'Modelo logístico'})\n",
    "graf.show()"
   ]
  },
  {
   "cell_type": "markdown",
   "metadata": {},
   "source": [
    "**Observaciones**\n",
    "\n",
    "- Se nota que cuando $x=0$ la función $f(x) =  1/x$ no está definida. \n",
    "\n",
    "- Si caminamos por la gráfica, de derecha a izquierda, iniciando por ejemplo en $x=4$, conforme nos acercamos al cero el valor de $f(x)$ se hace muy grande: se dice que *tiende a infinito*; en términos matemáticos escribimos:\n",
    "\n",
    "$\\displaystyle\n",
    "\\lim_{x^+ \\rightarrow 0} \\frac{1}{x} = \\infty\n",
    "$\n",
    "\n",
    "- Por otro lado, si ahora caminamos de izquierda a derecha hacia $x = 0$ veremos que $f(x)$ decrece hacia $-\\infty$, en términos matemáticos:\n",
    "\n",
    "$\\displaystyle\n",
    "\\lim_{x^- \\rightarrow 0} \\frac{1}{x} = -\\infty\n",
    "$\n",
    "\n",
    "- De las dos observaciones anteriores se concluye:\n",
    "\n",
    "$\\displaystyle\n",
    "\\lim_{x^+ \\rightarrow 0} \\frac{1}{x} \\neq \\lim_{x^- \\rightarrow 0} \\frac{1}{x}\n",
    "$\n",
    "\n",
    "es decir, el límite por la derecha y el límite por la izquierda no son iguales. Véase el siguiente notebook para más detalles sobre límites (FALTA AGREGAR EL LINK AL NOTEBOOK DE LÍMITES).\n",
    "\n",
    "- La función $f(x)$ es discontinua en $x=0$ (de hecho no está bien definida en $x=0$)."
   ]
  },
  {
   "cell_type": "markdown",
   "metadata": {
    "colab_type": "text",
    "id": "S-TeP2iBbbvJ"
   },
   "source": [
    "## Algunas definiciones\n",
    "\n",
    "Parece ser anormal ver el comportamiento de las dos funciones anteriores, ya que están desconectadas. A aquellas funciones que no presentan esas 'anormalidades' se les conoce como funciones continuas. \n",
    "\n",
    "De manera intuitiva, si quisieramos dibujar la gráfica de una función continua usando un lápiz, en principio lo podemos hacer de un solo trazo, sin despegar el lápiz del papel. Este no es el caso de los ejemplos que hemos revisado. \n",
    "\n",
    "\n",
    "Supongamos que una función $f(x)$ tiene el valor $y_p$ en $x = p$, decimos que $f$ es continua en $p$, si en cada punto $x$ que está próximo a $p$, el valor de la función $f(x)$ es también próximo a $f(p)$. Pero ¿qué signfica en este contexto el término \"próximo a\"?\n",
    "\n",
    "Otro modo de expresar la continuidad es como sigue: Si $x$ se mueve hacia $p$, el correspondiente valor de la función $f(x)$ debe llegar a ser tan próximo a $f(p)$ como se desee, cualquiera que sea la forma con que $x$ se acerque a $p$. En los valores de una función continua no se presentan saltos bruscos.\n",
    "\n",
    "Por lo tanto, podemos definir:\n",
    "\n",
    "Una función $f$ es **continua** en un punto $p$ si y sólo si:\n",
    "\n",
    "1. $\\displaystyle \\lim_{x \\to p}f(x)=f(p)$\n",
    "2. $f$ está definida en $p$\n",
    "\n",
    "Más formalmente: \n",
    "\n",
    "***\n",
    "Una función $f$ es **continua** en $p$ si para todo $\\epsilon > 0$ existe un $\\delta > 0$ tal que $|f(x)-f(p)| < \\epsilon$\n",
    "siempre que $0 < |x - p| < \\delta$.\n",
    "***\n",
    "\n",
    "Cheque el siguiente interactivo para entender un poco acerca de $\\epsilon$ y $\\delta$: "
   ]
  },
  {
   "cell_type": "code",
   "execution_count": null,
   "metadata": {},
   "outputs": [],
   "source": [
    "# LINUX y MACOS\n",
    "%run \"./02_Continuidad_interactive.ipynb\"\n",
    "\n",
    "# WINDOWS\n",
    "#%run \"D:\\\\GitSites\\\\PAPIME_PE101019_Materiales\\\\01_Calculo\\\\07_SeriesDeTaylor_interactive.ipynb\""
   ]
  },
  {
   "cell_type": "markdown",
   "metadata": {
    "colab_type": "text",
    "id": "IzRLRcyKf5cv"
   },
   "source": [
    "### Ejemplo 2. \n",
    "\n",
    "Sea $f(x) = x^2$. Vamos a demostrar formalmente que $f$ es continua en $x=1$:\n",
    " \n",
    "Primero notemos que $f$ está definida en $x=1$, pues como mencionamos anteriormente, asumimos que, salvo especificar lo contrario, nuestras funciones tendrían tanto al dominio como al contradominio a $\\mathbb{R}$; y entonces $f(2) = 1^2=1$. Ahora bien, para probar la continuidad de $f$ en $x=1$, usando la definición tenemos que demostrar que $\\lim_{x \\to p}f(x)=f(p)$.\n",
    "\n",
    "P.D. Para todo $\\epsilon>0$ existe $\\delta>0$ tal que si $0 < |x - 1|< \\delta $, entonces $|x^2-1|<\\epsilon$. Encontrar $\\delta$ se logra más fácilmente trabajando hacia atrás. Manipulemos la segunda desigualdad que involucra a $\\delta$ hasta que contenga un término de la forma $x-1$ como en la primera desigualdad:\n",
    "\n",
    "$|x^2-1|=|x+1||x-1|$.\n",
    "\n",
    "En lo anterior, hay un factor no deseado de $|x+1|$, que debe limitarse. Si nos aseguramos de que $\\delta < 1$, entonces $|x-1| < \\delta < 1$. Luego:\n",
    "\n",
    "$|x-1| < \\delta \\Rightarrow |x-1| < 1 \\Rightarrow -1 < x-1 < 1$. \n",
    "\n",
    "Sumando un 2 atodos los lados de la desigualdad anterior, obtenemos que:\n",
    "\n",
    "$1 < x+1 < 3 \\Rightarrow |x+1| < 3$. \n",
    "\n",
    "Por lo tanto, si $|x^2-1|=|x+1||x-1|< 3|x-1|<\\epsilon \\Rightarrow |x-1|< \\frac{\\epsilon}{3}$\n",
    "\n",
    "Entonces, seleccionamos  $\\delta=min\\{1,\\frac{\\epsilon}{3}\\}$\n",
    "\n",
    ".\n",
    "\n",
    "Checamos: Dada $\\epsilon>0$, sea $\\delta=min\\{1,\\frac{\\epsilon}{3}\\}$. Entonces $0<|x-1|<\\delta$ implica que \n",
    "$|x^2-1|=|x+1||x-1|< 3 |x-1| < 3 \\delta \\leq 3\\frac{\\epsilon}{3}=\\epsilon$.\n",
    "\n",
    "$\\therefore$ $\\lim_{x \\to 1}x^2=1=(1)^2$, lo cual quiere decir que $f$ es continua en $x=1$.\n",
    "\n",
    "Veamos la gráfica de la función yla evaluación del punto en cuestión:"
   ]
  },
  {
   "cell_type": "code",
   "execution_count": null,
   "metadata": {},
   "outputs": [],
   "source": [
    "x4 = np.arange(-5, 5.1, 0.1) \n",
    "y4 = [i**2 for i in x4]\n",
    "\n",
    "par = [{'title':'$f(x) = x^2$', \n",
    "        'xlabel':'$x$',\n",
    "        'ylabel':'$f(x)$'}]\n",
    "graf = vis.planoCartesiano(par=par)\n",
    "graf.plot(x=x4,y=y4)\n",
    "graf.scatter(x=[1.],y=[1.],par={'c':'red','marker':'o','s':75, 'zorder':5})\n",
    "graf.annotate(par={'text':'Continuidad en x = 1', 'xy':(1, 1), 'xytext':(-50,50), 'fontsize':15,\n",
    "            'textcoords':'offset points', 'ha':'center', 'va':'bottom',\n",
    "            'bbox':{'boxstyle':'round','pad':0.2, 'fc':'yellow', 'alpha':0.3},\n",
    "            'arrowprops':{'arrowstyle':'->', 'connectionstyle':'arc3,rad=0.5', \n",
    "                           'color':'black'}})\n",
    "\n",
    "graf.show()"
   ]
  },
  {
   "cell_type": "markdown",
   "metadata": {
    "colab_type": "text",
    "id": "2yqmbn95ZPwK"
   },
   "source": [
    "### Revisión de algunos Teoremas\n",
    "\n",
    " **Teorema** Sean f y g dos funciones continuas, es decir, son tales que\n",
    "$\\lim_{x \\to p}f(x)=f(p)$ y $\\lim_{x \\to p}g(x)=g(p)$. Se tiene entonces\n",
    "1. Si $f$ es una función constante $k$, se cumple que $\\lim_{x \\to p}f(x) =\\lim_{x \\to p}k = k = f(p)$\n",
    "2. $\\lim_{x \\to p}f(x) + g(x) = f(p)+g(p)$.\n",
    "3. $\\lim_{x \\to p}f(x) - g(x) = f(p)-g(p)$.\n",
    "4. $\\lim_{x \\to p}f(x) \\cdot g(x) = f(p) \\cdot g(p)$.\n",
    "5. Si $g(p) \\neq 0$, se cumple que $\\lim_{x \\to p}\\frac{f(x)}{g(x)} = \\frac{f(p)}{g(p)}$.\n",
    "\n",
    "**Teorema** Sean f y g dos funciones continuas en $g(p)$ y en $p$ respectivamente. Se tiene entonces que $ f \\circ g$ es continua en $p$. Nótese que se requiere que $f$ sea continua  en $g(p)$, pero no necesariamente tiene que serlo en $p$.\n",
    "\n",
    "\n",
    "Los teoremas mostrados en este notebook se refieren a continuidad de funciones en un punto, pero el concepto de continuidad no empieza a ser interesante hasta que dirigimos nuestra atención a funciones que son continuas en todos los puntos de un intervalo. Sea $f$ continua en $x$, para todo $x$ en $(a,b)$, entonces se dice que $f$ es **continua** en $(a,b)$. La continuidad en un intervalo cerrado se define de modo más peculiar:\n",
    "\n",
    "Una función $f$ se dice que es continua en  $[a,b]$ si y sólo si:\n",
    "\n",
    "1. $f$ es continua en $x$ para todo $x$ en $(a,b)$, y\n",
    "2. $\\lim_{x \\to p^+}f(x) = f(p)$ y $\\lim_{x \\to p^-}f(x) = f(p)$\n",
    "\n",
    "**Teorema** Sea $f$ una función continua en $a$, y $f(a) > 0$. Entonces existe un número $\\delta > 0$ tal que $f(x)>0$ para todo $x$ que satisface $|x-a| < \\delta$. Análogamente, si $f(a) < 0$, entonces existe un número $\\delta > 0$ tal que $f(x) < 0$ para todo $x$ que satisface $|x-a| < \\delta$\n",
    "\n",
    "**Teorema de intercalación** Sea $I$ un intervalo que contiene al punto $p$ y sean $f, g$ y $h$ funciones continuas en $I$. Supongamos que, para todo $x$ en $I$ y diferente de $p$, tenemos: $g(x)\\leq f(x)\\leq h(x)$; y supongamos también que: $g(p)=\\lim _{x \\to p}g(x)=\\lim _{x\\to p}h(x)=h(p)$. Entonces: $\\lim _{x\\to p}f(x)=f(p)=g(p)=h(p)$\n",
    "\n",
    "**Teorema 1 (Valor Intermedio)** Si $f$ es continua en $[a,b]$ y $f(a)< c < f(b)$, entonces existe algún $x \\in [a,b]$ tal que $f(x) = c$.\n",
    "\n",
    "Esto quiere decir que la gráfica de una función continua que empieza por debajo de la recta constante $y=c$ y termina por encima de esta, debe cruzar en algún punto a dicha recta.\n",
    "\n",
    "Podemos generalizar este teorema al siguiente:\n",
    "\n",
    "**Teorema de los valores intermedios** Sea $f$ una función continua en $[a,b]$. Si $c$ y $d$ están en $[a,b]$, entonces $f$ toma todos los valores comprendidos entre $f(c)$ y $f(d)$.\n",
    "\n"
   ]
  },
  {
   "cell_type": "markdown",
   "metadata": {
    "colab_type": "text",
    "id": "iz-W7qVlm86J"
   },
   "source": [
    "### Ejemplo 3.\n",
    "\n",
    "Demuestra que la función: $f(x) = x^3 - x^2 + x + 1$ tiene una raíz en el intervalo $[-1,1]$.\n",
    "\n",
    "Para eso vamos a aplicar el teorema del valor intermedio:\n",
    "- Dado que la función polinomial es continua en todo el conjunto de los números reales.\n",
    "- Hacemos $a = -1$ y $b = 1$, y evaluamos la función en esos puntos:\n",
    "\n",
    "$f(-1) = (-1)^3 - (-1)^2 + (-1) + 1 = -2 < 0$ \n",
    "\n",
    "$f(1) = (1)^3 - (1)^2 + (1) + 1 = 2 > 0$\n",
    "\n",
    "Por lo que satisface con la condición de que $f(a) \\leq k \\leq f(b)$. Entonces, por la continuidad de la función, debe existir un número $x_0$ en el intervalo $[a,b]$ tal que $f(x_0) = 0$. Esto significa que $f(x)$ tiene una raíz en $[-1,1]$\n",
    "\n",
    "A continuación mostramos la gráfica de esta función. "
   ]
  },
  {
   "cell_type": "code",
   "execution_count": null,
   "metadata": {
    "colab": {
     "base_uri": "https://localhost:8080/",
     "height": 490
    },
    "colab_type": "code",
    "id": "s1zLXcMUsNY1",
    "outputId": "62df8d6c-9903-4837-c5f2-2592dfe3cb9e"
   },
   "outputs": [],
   "source": [
    "x10 = np.arange(-1, 1, 0.001) \n",
    "\n",
    "y10 = [x**3-x**2+x+1 for x in x10]\n",
    "\n",
    "par = [{'title':'$f(x) = x^3−x^2+x+1$', \n",
    "        'xlabel':'$x$',\n",
    "        'ylabel':'$f(x)$'}]\n",
    "graf = vis.planoCartesiano(par=par)\n",
    "graf.plot(x=x10,y=y10)\n",
    "graf.annotate(par={'text':'Punto en el que f(x)=0', 'xy':(-0.54, 0), 'xytext':(0,50), 'fontsize':15,\n",
    "            'textcoords':'offset points', 'ha':'center', 'va':'bottom',\n",
    "            'bbox':{'boxstyle':'round','pad':0.2, 'fc':'yellow', 'alpha':0.3},\n",
    "            'arrowprops':{'arrowstyle':'->', 'connectionstyle':'arc3,rad=0.5', \n",
    "                            'color':'black'}})\n",
    "\n",
    "# Línea horizontal en y=0 y punto marcando el cruce\n",
    "graf.plot(x = [-1, 1], y = [0, 0], par={'ls':'-', 'lw':1, 'color':'black'})\n",
    "graf.scatter(x=[-0.54],y=[0.],par={'c':'r','marker':'o','s':30, 'zorder':5})\n",
    "\n",
    "graf.show()\n",
    "                 "
   ]
  },
  {
   "cell_type": "markdown",
   "metadata": {
    "colab_type": "text",
    "id": "-IePHGK2sNsZ"
   },
   "source": [
    "**Ejercicio** ¿Es posible encontrar el $x_0$ que satisface: $f(x_0) = 0$? En caso afirmativo, indique cómo. En caso negativo, explique el porqué.\n",
    "\n",
    "**Teorema 2** Si $f$ es continua en $[a,b]$ entonces existen números $N_1,N_2$ tales que $N_1 \\le f(x) \\le N_2$, para toda $x$ en $[a,b]$. Esto es, $f$ está acotada superiormente e inferiormente en $[a,b]$. Más aún, podemos decir que existe un número $N$ tal que $|f(x)|\\leq N$, para todo $x$ en $[a,b]$, es decir, podemos tomar a $N = max\\{|N_1|,|N_2|\\}$\n",
    "\n",
    "Esto quiere decir que la gráfica de una función continua queda por debajo y por arriba de algunas rectas paralelas al eje $X$.\n",
    "\n"
   ]
  },
  {
   "cell_type": "markdown",
   "metadata": {
    "colab_type": "text",
    "id": "wRfExbDmp8CJ"
   },
   "source": [
    "### Ejemplo 4.\n",
    "\n",
    "Usando la función del ejemplo anterior, vimos que $f(-1) =-2$ y $f(1)=2$. Por lo tanto, podemos proponer cualquier número $N$ mayor a dos, digamos $N=3$, de tal forma que dicha función esté acotada inferior y superiormente en $[-1,1]$.\n",
    "\n",
    "Lo podemos visualizar en la siguiente figura:\n"
   ]
  },
  {
   "cell_type": "code",
   "execution_count": null,
   "metadata": {
    "colab": {
     "base_uri": "https://localhost:8080/",
     "height": 490
    },
    "colab_type": "code",
    "id": "nhAxVh7Htql8",
    "outputId": "ff2237eb-b678-47eb-d83e-a77547444186"
   },
   "outputs": [],
   "source": [
    "par = [{'title':'$f(x) = x^3−x^2+x+1$', \n",
    "        'xlabel':'$x$',\n",
    "        'ylabel':'$f(x)$'}]\n",
    "graf = vis.planoCartesiano(par=par)\n",
    "graf.plot(x=[-1,1],y = [3,3], par = {'c':'green','linestyle':'--','label' : 'Cota superior'})\n",
    "graf.plot(x=[-1,1],y = [-3,-3], par = {'c':'red','linestyle':'--','label' : 'Cota inferior'})\n",
    "graf.plot(x=x10,y=y10)\n",
    "graf.legend()\n",
    "graf.show()"
   ]
  },
  {
   "cell_type": "markdown",
   "metadata": {
    "colab_type": "text",
    "id": "h3O3y68ftpZ3"
   },
   "source": [
    "**Teorema 3 (de los valores extremos)** Si $f$ es continua en $[a,b]$ entonces existen números $y,z$ en $[a,b]$ tal que $f(y) \\le f(x) \\le f(z)$ para toda $x$ en $[a,b]$. \n",
    "\n",
    "Esto quiere decir que una función continua en un intervalo cerrado alcanza su mínimo y su máximo en dicho intervalo.\n",
    "\n"
   ]
  },
  {
   "cell_type": "markdown",
   "metadata": {
    "colab_type": "text",
    "id": "e35w1Wyjy6fJ"
   },
   "source": [
    "### Ejemplo 5. \n",
    "\n",
    "Una vez más, consideremos la función $f(x) = -x^3 + x^2 + x + 1$ en el intervalo $[-0.5,0.5]$. Esta función es polinomial por lo que es continua en todos los reales. Por el teorema anterior, $f(x)$ alcanza un máximo y un mínimo en dicho intervalo. \n",
    "\n",
    "Para encontrar el máximo y mínimo en el intervalo seguimos los siguientes pasos:\n",
    "- Calculamos la derivada de $f(x)$: $f^\\prime(x) = -3x^2 + 2x + 1$  \n",
    "- Igualamos a cero la derivada e intentamos encontrar la $x$ que satisface la relación: $-3x^2 + 2x + 1 = 0 $ \n",
    "- En este caso las raíces son $\\displaystyle x_1 = -1/3$ y $\\displaystyle x_2 = 1$. Solo $x_1$ cae en el intervalo de interés. La raíz $x_2$ la desechamos.\n",
    "- Evaluamos en $x_1$: $\\displaystyle f(x_1 = -1/3) = 0.815$.\n",
    "- Verificamos los puntos extremos. \n",
    "    + $f(x = -0.5) = 0.875$\n",
    "    + $f(x = 0.5) = 1.625$. \n",
    "- Comparando $f(-0.5)$, $f(0.5)$ y $f(x_1)$ observamos que el mínimo es $f(x_1) = 0.815$ y el máximo es $f(0.5) = 1.625$.\n",
    "\n",
    "Lo anterior se verifica en la siguiente gráfica:"
   ]
  },
  {
   "cell_type": "code",
   "execution_count": null,
   "metadata": {},
   "outputs": [],
   "source": [
    "par = [{'title':'$f(x) = x^3−x^2+x+1$', \n",
    "        'xlabel':'$x$',\n",
    "        'ylabel':'$f(x)$'}]\n",
    "\n",
    "x11 = np.arange(-0.5, 0.5, 0.001) \n",
    "\n",
    "y11 = [-x**3+x**2+x+1 for x in x11]\n",
    "\n",
    "graf = vis.planoCartesiano(par=par)\n",
    "graf.plot(x=x11,y=y11)\n",
    "graf.annotate(par={'text':'Máximo', 'xy':(0.5, 1.625), 'xytext':(-10,-50), 'fontsize':13,\n",
    "            'textcoords':'offset points', 'ha':'center', 'va':'bottom',\n",
    "            'bbox':{'boxstyle':'round','pad':0.2, 'fc':'yellow', 'alpha':0.3},\n",
    "            'arrowprops': {'arrowstyle':'->', 'connectionstyle':'arc3,rad=0.5', \n",
    "                            'color':'black'}})\n",
    "graf.scatter(x=[0.5],y=[1.625],par={'c':'red','marker':'o','s':40, 'zorder':5})\n",
    "\n",
    "graf.annotate(par={'text':'Mínimo', 'xy':(-1/3, 0.815), 'xytext':(-10,20), 'fontsize':13,\n",
    "            'textcoords':'offset points', 'ha':'center', 'va':'bottom',\n",
    "            'bbox':{'boxstyle':'round','pad':0.2, 'fc':'yellow', 'alpha':0.3},\n",
    "            'arrowprops': {'arrowstyle':'->', 'connectionstyle':'arc3,rad=0.5', \n",
    "                            'color':'black'}})\n",
    "\n",
    "graf.scatter(x=[-1/3],y=[0.815],par={'c':'red','marker':'o','s':40, 'zorder':5})\n",
    "\n",
    "graf.show()"
   ]
  },
  {
   "cell_type": "markdown",
   "metadata": {
    "colab_type": "text",
    "id": "lzQl1orkpmTG"
   },
   "source": [
    "### Ejemplo 6: aplicación.\n",
    "\n",
    "\n",
    "Suponga que un vendedor recibe un salario de acuerdo con un contrato que establece una relación entre el pago y el nivel de ventas realizadas por el vendedor. En particular, suponga que el contrato estipula que el salario mensual del vendedor estará compuesto de tres partes: \n",
    "\n",
    "$(i)$ una cantidad básica de $\\$800$, \n",
    "\n",
    "$(ii)$ una comisión del $10\\%$ sobre las ventas, y\n",
    "\n",
    "$(iii)$ un bono de $\\$500$ si las ventas del mes llegan los $\\$20,000$ o más. \n",
    "\n",
    "Si $S$ representa las ventas por mes y $P$ representa el salario del vendedor por el mes, es posible escribir una relación salario-ventas como sigue:\n",
    "\n",
    "$   P(S) = \\left\\{\n",
    "\\begin{array}{l}\n",
    "      \\$800+0.1\\cdot S & S<\\$20.000 \\\\\n",
    "      \\\n",
    "      \\\\\n",
    "      \\$1,300+0.1\\cdot S & S \\ge \\$20.000. \\\\\n",
    "\\end{array} \n",
    "\\right.$\n",
    "\n",
    "La gráfica de esta función es la siguiente:"
   ]
  },
  {
   "cell_type": "code",
   "execution_count": null,
   "metadata": {
    "colab": {
     "base_uri": "https://localhost:8080/",
     "height": 506
    },
    "colab_type": "code",
    "id": "WfszCKDrwWJ3",
    "outputId": "690c9c05-6007-432e-e141-aa3908f4950e"
   },
   "outputs": [],
   "source": [
    "s1 = np.arange(0., 20000., 10)\n",
    "s2 = np.arange(20000., 40000., 10)\n",
    "\n",
    "p1 = [800 + 0.1 * S for S in s1]\n",
    "p2 = [1300 + 0.1 * S for S in s2]\n",
    "\n",
    "par = [{'title':'Salario', \n",
    "        'xlabel':'$S$',\n",
    "        'ylabel':'$P(S)$'}]\n",
    "graf = vis.planoCartesiano(par=par)\n",
    "\n",
    "graf.plot(x=s1, y=p1)\n",
    "graf.plot(x=s2, y=p2)\n",
    "graf.scatter(x=s2[0], y=p2[0],\n",
    "            par = {'color':'black', 'zorder':5})\n",
    "\n",
    "graf.plot(x=[20000,20000],y=[0,5300],\n",
    "          par={'ls':\"--\", 'lw':'1', 'color':'green'})\n",
    "\n",
    "graf.show()"
   ]
  },
  {
   "cell_type": "markdown",
   "metadata": {},
   "source": [
    "**Observaciones**:\n",
    "\n",
    "El hecho de que el bono de $\\$500$ se logre una vez que $S$ alcanza el valor crítico de $\\$20,000$ conduce al resultado de que el límite izquierdo de la función salarial en $S = \\$20,000$ es de $\\$2,800$. Mientras que el límite derecho es de $\\$3,300$. Es decir, hay una discontinuidad.\n",
    "\n",
    "La existencia de esta discontinuidad tiene implicaciones económicas interesantes. Considere el siguiente escenario: Hay tres vendedores, llamados $A$, $B$ y $C$. Sus ventas acumuladas para el mes, sin incluir el último día, son $\\$26,000$ para $A$, $\\$18,500$ para $B$ y $\\$6,000$ para $C$. Si no vendieran nada más, su salario sería como se ve en la siguiente gráfica:"
   ]
  },
  {
   "cell_type": "code",
   "execution_count": null,
   "metadata": {},
   "outputs": [],
   "source": [
    "graf = vis.planoCartesiano(par=par)\n",
    "\n",
    "SA = 26000\n",
    "SB = 18500\n",
    "SC = 6000\n",
    "PA = 800 + 0.1 * SA + 500\n",
    "PB = 800 + 0.1 * SB \n",
    "PC = 800 + 0.1 * SC\n",
    "\n",
    "graf.plot(x=s1, y=p1)\n",
    "graf.plot(x=s2, y=p2)\n",
    "\n",
    "graf.scatter(x=SA, y=PA,\n",
    "            par = {'label':'A', 'zorder':5, 's':100})\n",
    "graf.scatter(x=SB, y=PB,\n",
    "            par = {'label':'B', 'zorder':5, 's':100})\n",
    "graf.scatter(x=SC, y=PC,\n",
    "            par = {'label':'C', 'zorder':5, 's':100})\n",
    "\n",
    "graf.plot(x=[20000,20000],y=[0,5300],\n",
    "          par={'ls':\"--\", 'lw':'1', 'color':'green'})\n",
    "\n",
    "graf.legend()\n",
    "graf.show()"
   ]
  },
  {
   "cell_type": "markdown",
   "metadata": {},
   "source": [
    "La comisión del $10\\%$ sobre las ventas le dará a cada uno un incentivo similar para realizar ventas adicionales el último día del mes. \n",
    "\n",
    "¿Pero la posibilidad del bono de $\\$500$ tendrá un efecto diferente en los tres vendedores? \n",
    "\n",
    "Asumiendo que es posible generar ventas por valor de unos pocos miles de pesos en un día, pero es prácticamente imposible crear más de $\\$10,000$ en ventas, uno esperaría que el vendedor $B$ se esforzará más el último día para aumentar las ventas que los otros dos y así superar el valor crítico de $\\$2000$ para obtener el bono extra."
   ]
  },
  {
   "cell_type": "markdown",
   "metadata": {
    "colab_type": "text",
    "id": "aT_mKZjp1z_F"
   },
   "source": [
    "## Referencias\n",
    "\n",
    "\n",
    "\n",
    "* Spivak, M., Cálculo Infinitesimal ($2^{a}$ ed.). México: Reverté, 1998.\n",
    "* Apostol, T. M., Calculus, Volumen I. México: Ed. Reverté S. A., 2001.\n",
    "* Hoy, M., Livernois, J., McKenna, C., Rees, R.,Stengos, T., Mathematics for Economics ($3^{a}$ ed.). Massachusetts: Massachusetts Institute of Technology, 2011."
   ]
  }
 ],
 "metadata": {
  "colab": {
   "authorship_tag": "ABX9TyOC503UQ+Z9bEpSuMrCjSyh",
   "collapsed_sections": [],
   "include_colab_link": true,
   "name": "Continuidad.ipynb",
   "provenance": []
  },
  "kernelspec": {
   "display_name": "Python 3",
   "language": "python",
   "name": "python3"
  },
  "language_info": {
   "codemirror_mode": {
    "name": "ipython",
    "version": 3
   },
   "file_extension": ".py",
   "mimetype": "text/x-python",
   "name": "python",
   "nbconvert_exporter": "python",
   "pygments_lexer": "ipython3",
   "version": "3.7.6"
  }
 },
 "nbformat": 4,
 "nbformat_minor": 1
}
