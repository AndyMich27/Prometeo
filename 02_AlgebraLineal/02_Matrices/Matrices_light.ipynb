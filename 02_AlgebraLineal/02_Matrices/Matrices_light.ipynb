{
  "nbformat": 4,
  "nbformat_minor": 0,
  "metadata": {
    "colab": {
      "name": "Matrices_light.ipynb",
      "provenance": []
    },
    "kernelspec": {
      "name": "python3",
      "display_name": "Python 3"
    }
  },
  "cells": [
    {
      "cell_type": "markdown",
      "metadata": {
        "id": "3WWw7s0oqAal"
      },
      "source": [
        "# Matrices\r\n",
        "### Trabajo realizado con el apoyo del Programa UNAM-DGAPA-PAPIME PE101019\r\n",
        "\r\n",
        "*   Autor: \r\n",
        "    - Ocampo Nava Maria Fernanda\r\n",
        "*   Rev: mar 12 ene 2021 16:22:16 CST"
      ]
    },
    {
      "cell_type": "markdown",
      "metadata": {
        "id": "SvpotL0rqGwT"
      },
      "source": [
        "En la vida diaria las matrices se usan como contenedores para almacenar datos relacionados, en la vida cotidiana se puede utilizar en todo lo relacionado a solución de ecuaciones por ejemplo en economía se utilizan para hacer análisis de producción, distribución y organización de las empresas, en teoría de juegos, biología y hasta en psicología, en ingeniería robotica se pueden usar para cálcular el movimiento de un brazo mecánico, otra aplicación es el reconocimiento facial."
      ]
    },
    {
      "cell_type": "markdown",
      "metadata": {
        "id": "VfLPgEQ_qdnB"
      },
      "source": [
        "Una matriz  $A_{n\\times m}$, de tamaño $n \\times m$ es un arreglo rectangular de $n \\times  m$ números reales (o complejos) ordenados en n filas (renglones) horizontales y m columnas (verticales).\r\n",
        "\r\n",
        "Cada uno de los números  que conforman la matriz se denomina elemento y se denotan por $(a_{ij})$ donde $i$ representa el número de fila y $j$ el número de la columna en que se encuentra el elemento de la matriz $A$. El número de filas y columnas de una matriz respresenta la  dimensión de una matriz, por ejemplo una matriz A de $n$ filas y $m$ columnas podemos denotarla como $A_{n\\times m}$.\r\n",
        "\r\n",
        "\r\n",
        "\r\n",
        "$$ \\begin{equation} A_{n\\times m} =\r\n",
        "\\begin{pmatrix}\r\n",
        "a_{11} & a_{21} & \\cdots & a_{1m}\\\\\r\n",
        "a_{21} & a_{22} & \\cdots & a_{2m}\\\\\r\n",
        "\\vdots & \\vdots & \\ddots & \\vdots\\\\\r\n",
        "a_{n1} & a_{n2} & \\cdots & a_{nm}\r\n",
        "\\end{pmatrix}\r\n",
        "\\end{equation} $$\r\n",
        "\r\n",
        "\r\n",
        "Existen diversos tipos de matrices los cuáles dependen del tipo de elementos que la conforme así como también depende de la dimensión de la matriz.\r\n",
        "\r\n",
        "Es importante mencionar que con las matrices se pueden llevar a cabo diversas operaciones como la suma, resta e incluso la multiplicación y al igual que los números naturales cumplen algunas propiedades.\r\n",
        "\r\n",
        "Si quieres saber mas de este tema e interactuar con matrices, asi como obtener algunos ejemplos de operaciones con matrices  visita nuestro notebook acerca de <a href=https://colab.research.google.com/github/jugernaut/Prometeo/blob/desarrollo/02_AlgebraLineal/02_Matrices/02_Matrices.ipynb >*Matrices.*</a>"
      ]
    }
  ]
}