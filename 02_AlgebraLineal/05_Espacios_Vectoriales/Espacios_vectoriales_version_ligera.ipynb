{
  "nbformat": 4,
  "nbformat_minor": 0,
  "metadata": {
    "colab": {
      "name": "Espacios_vectoriales_version_ligera.ipynb",
      "provenance": []
    },
    "kernelspec": {
      "name": "python3",
      "display_name": "Python 3"
    }
  },
  "cells": [
    {
      "cell_type": "markdown",
      "metadata": {
        "id": "cBRjdzt4upo2"
      },
      "source": [
        "# Espacios Vectoriales\n",
        "\n",
        "## Versión ligera\n",
        "\n",
        "### Trabajo realizado con el apoyo del Programa UNAM-DGAPA-PAPIME PE101019\n",
        "\n",
        "*   Autor: \n",
        "  - Jaime Jesús Ortega Ibarra\n",
        "*   Rev: miercoles enero 13 20:30:48 CDT 2021\n",
        "\n"
      ]
    },
    {
      "cell_type": "markdown",
      "metadata": {
        "id": "9pIQjes2u5I9"
      },
      "source": [
        "### Introducción \n",
        "En álgebra abstracta, un espacio vectorial es una estructura algebraica creada a partir de un conjunto no vacío, una operación interna (llamada suma, definida para los elementos del conjunto) y una operación externa (llamada producto por un escalar, definida entre dicho conjunto y otro conjunto, con estructura de cuerpo), con 8 propiedades fundamentales. A los elementos de un espacio vectorial se les llama vectores y a los elementos del cuerpo, escalares.\n",
        "\n",
        "- Un espacio vectorial sobre un cuerpo  $K$ (como el cuerpo de los números reales o los números complejos) es un conjunto $V$  no vacío, dotado de dos operaciones para las cuales será cerrado:\n",
        "\\begin{equation}\n",
        "Suma : V \\times V \\rightarrow V\n",
        "\\end{equation}\n",
        "\\begin{equation}\n",
        "(\\vec u, \\vec v) \\rightarrow \\vec w= \\vec u+ \\vec v\n",
        "\\end{equation}\n",
        "\n",
        "Operación interna tal que contenga las siguientes propiedades:\n",
        "  - Propiedad Conmutativa\n",
        "\n",
        "  - Propiedad Asociativa\n",
        "\n",
        "  - Exista el elemento neutro\n",
        "\n",
        "  - Exista el elemento opuesto y tenga la operación producto por un escalar\n",
        "\n",
        "Operación externa tal que\n",
        "\n",
        "  - Tenga la propiedad Asociativa\n",
        "\n",
        "  - Exista el elemento neutro\n",
        "\n",
        "  - Tenga la propiedad distributiva respecto de la suma vectorial\n",
        "\n",
        "  - Tenga la propiedad distributiva respecto de la suma escalar"
      ]
    },
    {
      "cell_type": "markdown",
      "metadata": {
        "id": "Znpz-J9HvcMl"
      },
      "source": [
        "## Espacios y Subespacios\n",
        "De acuerdo con las propiedades vistas inicialmente, se puede afirmar que $\\mathbb R^3$ es un espacio vectorial, por lo que podemos definir un subespacio vectorial de la siguiente manera:\\\n",
        "Sea $V$ un espacio vectorial y $W$ un subconjunto no vacío de $V$.\\\n",
        "$W$ es un subespacio de $V$ si $W$ es en sí mismo es un espacio vectorial con las mismas operaciones (suma de vectores y producto por un escalar) definidas en $V$, es decir:\\\n",
        "i) $$\\vec{0} \\in W$$\n",
        "ii) $$\\forall \\vec{u},\\vec{v} \\in W, \\vec{u}+\\vec{v} \\in W$$\n",
        "iii) $$\\forall \\vec{u} \\in W, \\forall k \\in K, k\\vec{u} \\in W $$"
      ]
    },
    {
      "cell_type": "markdown",
      "metadata": {
        "id": "5IPiH8b4vUX5"
      },
      "source": [
        "## Combinaciones lineales\n",
        "\n",
        "Cuando trabajamos con vectores, nos podemos encontrar con dos operaciones fundamentales, la suma y la multiplicación por escalares. Cuando sumamos dos vectores $\\vec v$ y $\\vec w$, sumamos elemento por elemento, del siguiente modo:\n",
        "\\begin{equation}\n",
        "\\vec{v}+\\vec{w} = \\begin{bmatrix} v_1 \\\\ v_2 \\\\ . \\\\ .\\\\ . \\\\ v_n  \\end{bmatrix} + \n",
        "\\begin{bmatrix} w_1 \\\\ w_2 \\\\ . \\\\ . \\\\ . \\\\ w_n \\end{bmatrix} =\n",
        "\\begin{bmatrix} v_1 + w_1 \\\\ v_2 + w_2 \\\\ . \\\\ . \\\\ . \\\\ v_n + w_n \\end{bmatrix}\n",
        "\\end{equation}"
      ]
    },
    {
      "cell_type": "markdown",
      "metadata": {
        "id": "IUJ1cxYOvW67"
      },
      "source": [
        "## Transformaciones Lineales\n",
        "Una transformación lineal es una función que tiene como dominio y codominio un espacio vectorial los cuales conservan las propiedades de linealidad. Tenemos dos espacios vectoriales $V$ y $W$, y una función que va de $V$ a $W$. Es decir, una regla de asignación que transforma vectores de $V$ en vectores de $W$. Pero no toda función que transforme vectores de $V$ en vectores de $W$ es una transformación lineal. Debe cumplir ciertas condiciones:\n",
        "\n",
        "$$F: V \\rightarrow W$$ es una transformación lineal si y sólo si:\n",
        "1. Abre sumas $$F(\\vec{u}+\\vec{v})=F(\\vec{u})+F(\\vec{v})$$ $$\\forall u,v \\in V$$\n",
        "\n",
        "2. Saca escalares $$F(k \\cdot \\vec{v})= k \\cdot F(\\vec{v})$$ $$\\forall \\vec{v} \\in V, \\forall k \\in \\mathbb R$$\n",
        "\n",
        "En el siguiente ejemplo podemos observar una transformación lineal"
      ]
    },
    {
      "cell_type": "markdown",
      "metadata": {
        "id": "SXRuUYjzvfeg"
      },
      "source": [
        "# Referencias\n",
        "Para mayor aprendizaje, se recomienda al lector visitar las diversas fuentes de donde se obtuvo la información anterior:\n",
        "- https://www.educaplus.org/movi/1_4sumavector.html \\\n",
        "- http://euclides.us.es/da/apuntes/alige/alige-I-4.pdf\n",
        "- https://sites.google.com/site/sistemasalgebralineal/unidad-4---espacios-vectoriales/definicion-de-espacio-vectorial"
      ]
    }
  ]
}