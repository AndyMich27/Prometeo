{
  "nbformat": 4,
  "nbformat_minor": 0,
  "metadata": {
    "colab": {
      "name": "04_EigenvaloresyEigenvectores.ipynb",
      "provenance": [],
      "include_colab_link": true
    },
    "kernelspec": {
      "name": "python3",
      "display_name": "Python 3"
    }
  },
  "cells": [
    {
      "cell_type": "markdown",
      "metadata": {
        "id": "view-in-github",
        "colab_type": "text"
      },
      "source": [
        "<a href=\"https://colab.research.google.com/github/jugernaut/Prometeo/blob/desarrollo/02_AlgebraLineal/04_EigenvaloresyEigenvectores.ipynb\" target=\"_parent\"><img src=\"https://colab.research.google.com/assets/colab-badge.svg\" alt=\"Open In Colab\"/></a>"
      ]
    },
    {
      "cell_type": "markdown",
      "metadata": {
        "id": "4vnMnRwYnOLM",
        "colab_type": "text"
      },
      "source": [
        "# Eigenvalores y Eigenvectores\n",
        "## Proyecto PAPIME PE101019\n",
        "- Autor: Ortega Ibarra Jaime\n",
        "- Rev: 31 Julio 2020"
      ]
    },
    {
      "cell_type": "markdown",
      "metadata": {
        "id": "hGImYjfbhXb0",
        "colab_type": "text"
      },
      "source": [
        "### **Eigenvectores**\n",
        "\\\n",
        "En álgebra lineal, los vectores propios o autovectores de un operador lineal son los vectores no nulos que, cuando son transformados por el operador, dan lugar a un múltiplo escalar de sí mismos, con lo que no cambian su dirección. Este escalar $\\lambda$  recibe el nombre valor propio, autovalor o valor característico.\\\n",
        "\\\n",
        "Definición:\\\n",
        "\\\n",
        "Formalmente, se definen los vectores propios y valores propios de la siguiente manera: Sea $A: V→V$ un operador lineal en un cierto $K$-espacio vectorial $V$ y $v$ un vector no nulo en $V$. Si existe un escalar $c$ tal que\n",
        "\n",
        "\\begin{equation}\n",
        "Av = cv,    v\\neq0, c\\in K\n",
        "\\end{equation}"
      ]
    },
    {
      "cell_type": "markdown",
      "metadata": {
        "id": "pyp34vPwhdwB",
        "colab_type": "text"
      },
      "source": [
        "Valores y Vectores propios, mediante la función linalg de $Numpy$, podemos obtener un vector que incluye los valores propios de una matriz, además de una matriz con los vectores propios."
      ]
    },
    {
      "cell_type": "code",
      "metadata": {
        "id": "x_ioFYQyhar_",
        "colab_type": "code",
        "colab": {
          "base_uri": "https://localhost:8080/",
          "height": 53
        },
        "outputId": "e1efc5b8-1c85-4522-8a7c-d66291ea8c7d"
      },
      "source": [
        "from numpy import linalg\n",
        "import numpy as np\n",
        "Matriz = np.array([[1,3,2],[4,1,2],[3,-1,3]])\n",
        "eigenvals, eigenvectores = linalg.eig(Matriz)\n",
        "print(f'Nuestro vector con valores propios es: \\n{eigenvals}')"
      ],
      "execution_count": null,
      "outputs": [
        {
          "output_type": "stream",
          "text": [
            "Nuestro vector con valores propios es: \n",
            "[-2.57358059  5.74856519  1.82501539]\n"
          ],
          "name": "stdout"
        }
      ]
    },
    {
      "cell_type": "markdown",
      "metadata": {
        "id": "3iWcs8JIo8AS",
        "colab_type": "text"
      },
      "source": [
        "### **Eigenvalores**\n",
        "\\\n",
        "Sea $A$ es una matriz cuadrada. Un eigenvalues (valor propio) de dicha matriz $A$ es un número $r$ que cuando se resta de cada una de las entradas diagonales de $A$, se convierte $A$ en una matriz singular. Restar un escalar $r$ de cada entrada diagonal de $A$ es lo mismo que restar $r$ veces la matriz identidad $I$ de $A$.\n",
        "\n",
        "Por lo tanto, $r$ es un valor propio de $A$ si y solo si $A-rI$ es una matriz singular.\n",
        "\n",
        "Ejemplo:\n",
        "\n",
        "Matriz $A$\n",
        "\n",
        "\\begin{equation}\n",
        "A = \\begin{matrix} 5, 1, 1 \\\\ 1, 5, 1 \\\\ 1, 1, 5 \\end{matrix}\n",
        "\\end{equation}\n",
        "\n",
        "Al restar $4$ de cada entrada diagonal se transforma $A$ en la matriz singular\n",
        "\n",
        "\\begin{equation}\n",
        "A = \\begin{matrix} 1, 1, 1 \\\\ 1, 1, 1 \\\\ 1, 1, 1 \\end{matrix}\n",
        "\\end{equation}\n",
        "\n",
        "Por lo tanto, $4$ es un valor propio de $A$."
      ]
    },
    {
      "cell_type": "markdown",
      "metadata": {
        "id": "2J8ecnZgqoM2",
        "colab_type": "text"
      },
      "source": [
        "Dado el ejemplo anterior mediante $Numpy$, podemos obtener los valores propios de la Matriz creada."
      ]
    },
    {
      "cell_type": "code",
      "metadata": {
        "id": "O04q54cphhi1",
        "colab_type": "code",
        "colab": {
          "base_uri": "https://localhost:8080/",
          "height": 107
        },
        "outputId": "79be2e73-67e0-400f-d9f2-aa0246a69b46"
      },
      "source": [
        "print(f'\\nNuestra matriz con los vectores propios es: \\n{eigenvectores}')"
      ],
      "execution_count": null,
      "outputs": [
        {
          "output_type": "stream",
          "text": [
            "\n",
            "Nuestra matriz con los vectores propios es: \n",
            "[[ 0.70643716 -0.60432967 -0.45736161]\n",
            " [-0.52518953 -0.68232213 -0.57693279]\n",
            " [-0.47447076 -0.41136622  0.676734  ]]\n"
          ],
          "name": "stdout"
        }
      ]
    }
  ]
}
