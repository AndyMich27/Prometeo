{
  "nbformat": 4,
  "nbformat_minor": 0,
  "metadata": {
    "colab": {
      "name": "EigenvaloresyEigenvectores_version_ligera.ipynb",
      "provenance": []
    },
    "kernelspec": {
      "name": "python3",
      "display_name": "Python 3"
    }
  },
  "cells": [
    {
      "cell_type": "markdown",
      "metadata": {
        "id": "j-TkHupPyowh"
      },
      "source": [
        "# Eigenvalores y Eigenvectores\n",
        "\n",
        "## Versión ligera\n",
        "\n",
        "### Trabajo realizado con el apoyo del Programa UNAM-DGAPA-PAPIME PE101019\n",
        "\n",
        "*   Autor: \n",
        "  - Jaime Jesús Ortega Ibarra\n",
        "*   Rev: miercoles enero 13 20:48:56 CDT 2021"
      ]
    },
    {
      "cell_type": "markdown",
      "metadata": {
        "id": "1cl5siUBy96V"
      },
      "source": [
        "## Introducción\n",
        "Los Eigenvalores y Eigenvectores son conceptos sumamente empleados en diferentes áreas de las matemáticas aplicadas e ingenierías. La raíz $eigen$ proviene del alemán y significa $propio$, por lo cual podemos definir como Valores propios o valores característicos de una transformación lineal o de una matriz, mientras los eigenvectores pueden ser definidos como vectores propios o vectores característicos de una transformación lineal o de una matriz.\n",
        "\n",
        "### Definición\n",
        "\n",
        "Sea $V$ un espacio vectorial sobre un campo $K$ y sea $T$ una transformación lineal\n",
        "\n",
        "$$T:V \\rightarrow V$$\n",
        "\n",
        "un vector $\\vec{v_{0}}$ $\\ne$ 0 del espacio vectorial $V$ se denomina un eigenvector de T si existe un escalar $\\lambda$ $\\in$ $K$ tal que\n",
        "\n",
        "$$T(\\vec v_{0})= \\lambda \\vec v_{0},$$\n",
        "\n",
        "en este caso $\\lambda \\in K$ se denomina el eigenvalor de la transformación $T$ asociado al eigenvector $\\vec v_{0}$\n",
        "\n",
        "De manera semejante podemos definir los eigenvectores y eigenvalores de una matriz M.\n",
        "\n",
        "Sea $M \\in K_{nxn}$ para algún número natural n, un elemento $\\vec{x} \\in K_{n}$ se denomina un eigenvector de $M$ si existe un escalar $\\lambda \\in K$ tal que\n",
        "\n",
        "$$M \\vec{x} = \\lambda \\vec{x}$$\n",
        "\n",
        "en este caso $\\lambda \\in K$ se denomna eigenvalor de la matriz $M$ asociado al eigenvector $\\vec{x}$."
      ]
    },
    {
      "cell_type": "markdown",
      "metadata": {
        "id": "B435IXFpzCNz"
      },
      "source": [
        "### Ejemplo:\n",
        "Dada una matriz:\n",
        "\\begin{equation}\n",
        "A = \\begin{bmatrix} -1, 3 \\\\ 2, 4 \\end{bmatrix}\n",
        "\\end{equation}\n",
        "Obtener sus Eigenvalores.\n",
        "\n",
        "Se debe obtener la determinante de la matriz, restandole a la diagonal el parámetro $\\lambda$, es decir:\n",
        "\\begin{equation}\n",
        "detA = \\begin{bmatrix} -1 - \\lambda,  3 \\\\ 2, 4 - \\lambda \\end{bmatrix} = (-1 - \\lambda) (4 - \\lambda) - 6 = 0\n",
        "\\end{equation}\n",
        "Desarrollando el producto de binomios\n",
        "\\begin{equation}\n",
        "4 + \\lambda - 4 \\lambda + \\lambda ^2 -6 \n",
        "\\end{equation}\n",
        "\\begin{equation}\n",
        "= \\lambda ^2 - 3 \\lambda -10 = 0\n",
        "\\end{equation}\n",
        "Lo cual factorizando, nos da lo siguiente\n",
        "\\begin{equation}\n",
        "= (\\lambda +2) (\\lambda -5)\n",
        "\\end{equation}\n",
        "$\\therefore$ Nuestros eigenvalores son:\n",
        "\\begin{equation}\n",
        "\\lambda_{1} = -2 \n",
        "\\end{equation}\n",
        "\\begin{equation}\n",
        "\\lambda_{2} = 5\n",
        "\\end{equation}"
      ]
    },
    {
      "cell_type": "markdown",
      "metadata": {
        "id": "CM_rp6PnzGA_"
      },
      "source": [
        "Para mayor información, se recomienda al lector consultar los siguientes sitios:\n",
        "- https://www.cimat.mx/~joaquin/mn11/clase11.pdf\n",
        "- https://sites.google.com/site/metalmetnumericos/home/unidad-3/3-7-obtencion-de-eigenvalores-y-eigenvectores\n",
        "- https://numpy.org/doc/stable/reference/generated/numpy.linalg.eig.html"
      ]
    },
    {
      "cell_type": "code",
      "metadata": {
        "id": "yxXMpbxCzGOa"
      },
      "source": [
        ""
      ],
      "execution_count": null,
      "outputs": []
    }
  ]
}
