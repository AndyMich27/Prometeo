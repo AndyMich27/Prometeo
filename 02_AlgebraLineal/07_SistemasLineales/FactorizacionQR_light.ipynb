{
  "nbformat": 4,
  "nbformat_minor": 0,
  "metadata": {
    "colab": {
      "name": "FactorizacionQR_light.ipynb",
      "provenance": [],
      "collapsed_sections": []
    },
    "kernelspec": {
      "name": "python3",
      "display_name": "Python 3"
    }
  },
  "cells": [
    {
      "cell_type": "markdown",
      "metadata": {
        "id": "l2zt5Kjqj2TU"
      },
      "source": [
        "# Factorización QR\r\n",
        "## Trabajo realizado con el apoyo del Programa UNAM-DGAPA-PAPIME PE101019\r\n",
        "- Autor: Miguel Angel Pérez León\r\n",
        "- Rev: lun ene 11 10:22:55 CDT 2021"
      ]
    },
    {
      "cell_type": "markdown",
      "metadata": {
        "id": "JU1QKQp3kDXN"
      },
      "source": [
        "Otra de las alternativas para resolver un sistema de la forma $A\\vec{x}=\\vec{b}$ sin necesidad de obtener la inversa de $A$  es la **factorización QR** cuya idea es construir una base ortonormal $\\left(q_{1},q_{2},\\ldots,q_{n}\\in \\mathbb{R}^{n}\\right)$ para el subespacio generado por los vectores columna de $A$.\r\n",
        "\r\n",
        "Entonces sea $A\\in M_{m\\times n}$ sobre $\\mathbb{R}$, $(m\\geq n)$ y rango$\\left(A\\right)=n$ existe una única factorización $QR$ tal que\r\n",
        "$$A=QR\\quad con\\,r_{ii}>0\\quad i=0,\\ldots,n-1$$\r\n",
        "\r\n",
        "Para llevar a cabo el proceso de factorización QR\r\n",
        "*   Se comienza utilizando el primer vector columna de $A\\,(a_{1})$. Es decir $q_{1}=\\frac{a_{1}}{\\left\\Vert a_{1}\\right\\Vert}$.\r\n",
        "*   A continuación se substrae del vector $a_{2}$ su coeficiente en la dirección de $q_{1}$, es decir $\\left(q_{1}^{T}\\cdot a_{1}\\right)\\cdot q_{1}$. Dando como resultado un vector $q_{2}$, que es ortogonal a $q_{1}$. Finalmente se normaliza el vector $q_{2}$ para volverlo ortonormal.\r\n",
        "*   El proceso se repite con el resto de los vectores columna de \r\n",
        "$$A=\\left[a_{1},a_{2},\\ldots,a_{n}\\right]$$\r\n",
        "\r\n",
        "En términos matemáticos, el proceso se vería de la siguiente manera.\r\n",
        "\r\n",
        "1.   $q_{1}=\\frac{v_{1}}{\\left\\Vert v_{1}\\right\\Vert}\\quad con\\quad v_{1}=a_{1}$\r\n",
        "2.   $q_{2}=\\frac{v_{2}}{\\left\\Vert v_{2}\\right\\Vert}\\quad con\\quad v_{2}=a_{2}-\\left(q_{1}^{T}\\cdot a_{2}\\right)\\cdot q_{1}$\r\n",
        "3.   $q_{3}=\\frac{v_{3}}{\\left\\Vert v_{3}\\right\\Vert}\\quad con\\quad v_{3}=a_{3}-\\left(q_{1}^{T}\\cdot a_{3}\\right)\\cdot q_{1}-\\left(q_{2}^{T}\\cdot a_{3}\\right)\\cdot q_{2}$\r\n",
        "4.   En general el j-esimo paso, suponiendo conocidos $q_{1},\\ldots,q_{j-1}$, es un vector $q_{j}$ ortonormal a todos los vectores ya conocidos, es decir\r\n",
        "$$q_{j}\t=\t\\frac{v_{j}}{\\left\\Vert v_{j}\\right\\Vert}\\quad con\\quad v_{j}=a_{j}-\\left(q_{1}^{T}\\cdot a_{j}\\right)\\cdot q_{1}-\\cdots-\\left(q_{j-1}^{T}\\cdot a_{j}\\right)\\cdot q_{j-1}$$\r\n",
        "5.   En forma de sumatoria, el vector $v_{j}$ se ve de la siguiente manera\r\n",
        "$$v_{j}=a_{j}-\\sum_{i=1}^{j-1}\\left(q_{i}^{T}\\cdot a_{j}\\right)\\cdot q_{i}$$\r\n",
        "\r\n",
        "Si se quiere tener mayor información sobre este tema, así como ejemplos interactivos y algunas propiedades de esta factorización se puede visitar el notebook de <a href=https://colab.research.google.com/github/jugernaut/Prometeo/blob/desarrollo/02_AlgebraLineal/07_SistemasLineales/09_FactorizacionQR.ipynb>*Factorización QR*</a>."
      ]
    }
  ]
}