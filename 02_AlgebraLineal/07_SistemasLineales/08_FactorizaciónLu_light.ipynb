{
  "nbformat": 4,
  "nbformat_minor": 0,
  "metadata": {
    "colab": {
      "name": "FactorizaciónLu_light.ipynb",
      "provenance": [],
      "collapsed_sections": []
    },
    "kernelspec": {
      "name": "python3",
      "display_name": "Python 3"
    }
  },
  "cells": [
    {
      "cell_type": "markdown",
      "metadata": {
        "id": "IMtqWkCOeAuy"
      },
      "source": [
        "#Factorización A=LU\r\n",
        "## Trabajo realizado con el apoyo del Programa UNAM-DGAPA-PAPIME PE101019\r\n",
        "- Autor: Miguel Angel Pérez León\r\n",
        "- Rev: lun ene 11 16:24:18 CDT 2021"
      ]
    },
    {
      "cell_type": "markdown",
      "metadata": {
        "id": "6x5d2KDnekNz"
      },
      "source": [
        "Es importante encontrar la forma de resolver un sistema del tipo $A\\vec{x}=\\vec{b}$ sin embargo en elgunas ocaciones el cálculo de la matriz $A^{-1}$ es demasiado costoso por lo que  para evadir el calculo de $A^{-1}$ se emplean alternativas como buscar la forma triangular superior de $A$ para después emplear substitución hacia atrás.\r\n",
        "\r\n",
        "Siempre podemos garantizar que la matriz $A$ puede ser descompuesta (factorizada) en el producto de dos matrices $LU$ por lo cuál el siguiente teorema es de gran importancia.\r\n",
        "\r\n",
        "Sea $A\\in M_{n\\times n}$ una matriz **no singular también llamada regular**, (revisar <a href=\"../02_Matrices/02_Matrices.ipynb\">Matrices</a>) se puede factorizar esta matriz en el producto de 2 matrices (únicas), una triangular inferior y otra triangular superior, es decir.\r\n",
        "\r\n",
        "$$A=LU$$\r\n",
        "\r\n",
        "En caso de que $A$ sea singular, **la unicidad de $L$ y $U$ no esta garantizada**.\r\n",
        "\r\n",
        "Una vez que se tienen las matrices $L$ y $U$ resolver el sistema $A\\vec{x}=\\vec{b}$ se reduce a resolver dos sistemas, uno triangular inferior y posteriormente uno triangular superior.\r\n",
        "\r\n",
        "\r\n",
        "\r\n",
        "Ya que se tienen ambas matrices $\\left(LU\\right)$ podemos substituirlas en el sistema original, de tal manera que ahora el sistema luce de la siguiente manera.\r\n",
        "\r\n",
        "$$A\\vec{x}=LU\\vec{x}=\\vec{b}$$\r\n",
        "\r\n",
        "Posteriormente podemos replantear la solución del sistema de la siguiente forma.\r\n",
        "\r\n",
        "$$LU\\vec{x}=\\vec{b}\\Longrightarrow L^{-1}LU\\vec{x}=L^{-1}\\vec{b}\\Longrightarrow U\\vec{x}=L^{-1}\\vec{b}\\tag{1}$$\r\n",
        "\r\n",
        "De manera tal que ahora nos interesa primero encontrar una solución al sistema $L^{-1}\\vec{b}=\\vec{y}$, mismo que podemos reescribir.\r\n",
        "\r\n",
        "$$L^{-1}\\vec{b}=\\vec{y}\\Longrightarrow LL^{-1}\\vec{b}=L\\vec{y}\\Longrightarrow\\vec{b}=L\\vec{y}\\Longrightarrow L\\vec{y}=\\vec{b}\\tag{2}$$\r\n",
        "\r\n",
        "La ecuación (2) tiene la ventaja de ser un sistema triangular inferior, es por eso que la solución $\\vec{y}$ puede ser calculada fácilmente empleando **substitución hacia adelante**. Y una vez calculada, podemos proceder a resolver el segundo sistema empleando **substitución hacia atrás**.\r\n",
        "\r\n",
        "$$U\\vec{x}=\\vec{y}\\tag{3}$$\r\n",
        "\r\n",
        "\r\n",
        "Si se quiere tener mayor información sobre el algoritmo de este tema, así como ejemplos interactivos  se puede visitar el notebook de <a href=https://colab.research.google.com/github/jugernaut/Prometeo/blob/desarrollo/02_AlgebraLineal/07_SistemasLineales/08_FactorizacionLU.ipynb>*Factorización LU*</a>."
      ]
    }
  ]
}
