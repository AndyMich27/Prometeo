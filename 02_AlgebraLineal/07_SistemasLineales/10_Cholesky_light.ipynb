{
  "nbformat": 4,
  "nbformat_minor": 0,
  "metadata": {
    "colab": {
      "name": "Cholesky_light.ipynb",
      "provenance": [],
      "collapsed_sections": []
    },
    "kernelspec": {
      "name": "python3",
      "display_name": "Python 3"
    }
  },
  "cells": [
    {
      "cell_type": "markdown",
      "metadata": {
        "id": "slJ8H0BFrKS1"
      },
      "source": [
        "## Cholesky\r\n",
        "## Trabajo realizado con el apoyo del Programa UNAM-DGAPA-PAPIME PE101019\r\n",
        "- Autor: Miguel Angel Pérez León\r\n",
        "- Rev: mar ene 12 11:32:51 CDT 2021"
      ]
    },
    {
      "cell_type": "markdown",
      "metadata": {
        "id": "UZ1OauDAtQw4"
      },
      "source": [
        "Otra forma de factorizar una matriz $A\\in M_{n\\times n}$ sobre $\\mathbb{R}$ es mediante la factorización de Cholesky.\r\n",
        "\r\n",
        "Un prerrequisito para poder emplear el método de Cholesky es que la matriz $A$ sea **simétrica y positiva definida**. \r\n",
        "\r\n",
        "El método de Cholesky para matrices $A\\in M_{n\\times n}$ sobre $\\mathbb{R}$ que cumplan con los requisitos, se puede reducir a 3 sencillos pasos:\r\n",
        "\r\n",
        "\r\n",
        "1.   A patir de la matriz $A$ calcular la matríz $L$.\r\n",
        "2.   Transponer la matríz $L$.\r\n",
        "3.   Comprobar que $LL^{T}=A$.\r\n",
        "\r\n",
        "Para calcular la matríz $L$ empleamos las siguientes fórmulas:\r\n",
        "\r\n",
        "La primer fórmula es empleada para calcular las entradas de $L$ debajo de la diagonal.\r\n",
        "\r\n",
        "$$l_{ki}=\\frac{a_{ki}-\\displaystyle\\sum_{j=0}^{i-1}l_{ij}l_{kj}}{l_{ii}}\\quad i<k\\quad i=0,\\ldots,n-1$$\r\n",
        "\r\n",
        "Y la segunda fórmula es empleada para calcular las entradas en la diagonal de $L$\r\n",
        "\r\n",
        "$$l_{kk}=\\sqrt{a_{kk}-\\displaystyle\\sum_{j=0}^{k-1}l_{kj}^{2}}\\quad j<k\\quad k=0,\\ldots,n-1$$\r\n",
        "\r\n",
        "Dado que $L$ por definición es una matríz triangular inferior, vale la pena recalcar que no es necesario calcular los elementos de $L$ que se encuentren por arriba de la diagonal, ya que todos estos elementos son **iguales a cero**.\r\n",
        "\r\n",
        "Ya que se tienen ambas matrices $\\left(LL^{T}\\right)$, podemos substituirlas en el sistema original, de tal manera que ahora el sistema luce así:\r\n",
        "\r\n",
        "$$A\\vec{x}=LL^{T}\\vec{x}=\\vec{b}$$\r\n",
        "\r\n",
        "Posteriormente, podemos replantear la solución del sistema de la siguiente forma:\r\n",
        "\r\n",
        "$$LL^{T}\\vec{x}=\\vec{b}\\Longrightarrow L^{-1}LL^{T}\\vec{x}=L^{-1}\\vec{b}\\Longrightarrow L^{T}\\vec{x}=L^{-1}\\vec{b}\\tag{1}$$\r\n",
        "\r\n",
        "Si se quiere tener mayor información sobre este tema, así como ejemplos interactivos  se puede visitar el notebook de <a href=https://colab.research.google.com/github/jugernaut/Prometeo/blob/desarrollo/02_AlgebraLineal/07_SistemasLineales/10_Cholesky.ipynb>*Cholesky*</a>"
      ]
    }
  ]
}
