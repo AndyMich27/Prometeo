{
  "nbformat": 4,
  "nbformat_minor": 0,
  "metadata": {
    "colab": {
      "name": "SistemasLineales_light.ipynb",
      "provenance": [],
      "collapsed_sections": []
    },
    "kernelspec": {
      "name": "python3",
      "display_name": "Python 3"
    }
  },
  "cells": [
    {
      "cell_type": "markdown",
      "metadata": {
        "id": "Nts2dtDzSi0E"
      },
      "source": [
        "# Sistemas Lineales\r\n",
        "## Trabajo realizado con el apoyo del Programa UNAM-DGAPA-PAPIME PE101019\r\n",
        "- Autor: Miguel Angel Pérez León\r\n",
        "- Rev: lun ene 11 14:12:15 CDT 2021"
      ]
    },
    {
      "cell_type": "markdown",
      "metadata": {
        "id": "1-4apmfKZL-6"
      },
      "source": [
        "Los sistemas lineales tienen un sin fin de aplicaciones ya que pueden ser implementaos en diferentes disciplinas como medicina, inteligencia artificial e incluso economía.\r\n",
        "\r\n",
        "Un sistema de N ecuaciones lineales con N incógnitas $x_{i}$ se puede presentar en la forma:\r\n",
        "\r\n",
        "$$\\begin{cases}\r\n",
        "f_{1}(x_{1},x_{2},\\ldots,x_{n}) & =0\\\\\r\n",
        "f_{2}(x_{1},x_{2},\\ldots,x_{n}) & =0\\\\\r\n",
        " & \\,\\vdots\\\\\r\n",
        "f_{n}(x_{1},x_{2},\\ldots,x_{n}) & =0\r\n",
        "\\end{cases}$$\r\n",
        "\r\n",
        "Usando notación vectorial, podemos reescribir el sistema en una forma más elegante:\r\n",
        "\r\n",
        "$$F(\\vec{X})=\\vec{0}$$\r\n",
        "\r\n",
        "Definiendo vectores columna como\r\n",
        "\r\n",
        "$$F\t=\t\\left[f_{1},f_{2},\\ldots,f_{N}\\right]^{T}$$\r\n",
        "\r\n",
        "$$ \\vec{X}\t=\t\\left[x_{1,}x_{2},\\ldots,x_{N}\\right]^{T}$$\r\n",
        "\r\n",
        "$$ \\vec{0}\t=\t\\left[x_{1,}x_{2},\\ldots,x_{N}\\right]^{T}$$\r\n",
        "\r\n",
        "Y considerando que cada una de las $f_{i}$ son ecuaciones lineales.\r\n",
        "\r\n",
        "En reresentación matricial se representa de la siguiente forma\r\n",
        "\r\n",
        "$$A\\vec{x}=\\vec{b}$$\r\n",
        "\r\n",
        "Con $A\\in M_{n\\times n}$ y $\\vec{x}, \\vec{b} \\in \\mathbb{R}^{n}$, es decir.\r\n",
        "\r\n",
        "$$\\left(\\begin{array}{ccccccc}\r\n",
        "a_{11} & a_{12} & \\cdots & \\cdots & \\cdots & \\cdots & a_{1n}\\\\\r\n",
        "a_{21} & a_{22} & \\cdots & \\cdots & \\cdots & \\cdots & a_{2n}\\\\\r\n",
        "\\vdots & \\ddots & \\ddots & \\ddots & \\ddots & \\ddots & \\vdots\\\\\r\n",
        "\\vdots & \\ddots & \\ddots & \\ddots & \\ddots & \\ddots & \\vdots\\\\\r\n",
        "\\vdots & \\ddots & \\ddots & \\ddots & \\ddots & \\ddots & \\vdots\\\\\r\n",
        "a_{n1} & \\cdots & \\cdots & \\cdots & \\cdots & \\cdots & a_{nn}\r\n",
        "\\end{array}\\right)\\left(\\begin{array}{c}\r\n",
        "x_{1}\\\\\r\n",
        "x_{2}\\\\\r\n",
        "\\vdots\\\\\r\n",
        "\\vdots\\\\\r\n",
        "\\vdots\\\\\r\n",
        "x_{n}\r\n",
        "\\end{array}\\right)=\\left(\\begin{array}{c}\r\n",
        "0\\\\\r\n",
        "0\\\\\r\n",
        "\\vdots\\\\\r\n",
        "\\vdots\\\\\r\n",
        "\\vdots\\\\\r\n",
        "0\r\n",
        "\\end{array}\\right)$$\r\n",
        "\r\n",
        "Al intentar resolver un sistema lineal de ecuaciones, nos podemos topar con las siguientes opciones:\r\n",
        "\r\n",
        "*   Sistema incompatible (carece de solución).\r\n",
        "*   Sistema compatible y determinado (solución única).\r\n",
        "*   Sistema compatible e indeterminado (infinitas soluciones).\r\n",
        "\r\n",
        "Supongamos que tenemos un sistema lineal de 2 ecuaciones con 2 incognitas, es decir que tenemos las ecuaciones de dos rectas:\r\n",
        "\r\n",
        "$$\r\n",
        "\\begin{matrix}\r\n",
        "a_{00} x_0 + a_{01} x_1 = b_0 \\\\\r\n",
        "a_{10} x_0 + a_{11} x_1 = b_1\r\n",
        "\\end{matrix}\r\n",
        "$$\r\n",
        "\r\n",
        "La solución (en caso de existir) representa el **punto en el cual estas dos rectas se intersectan**. Por el contrario, en caso de que no exista solución eso significa que **ambas rectas son paralelas**, por lo que no existe intersección. Finalmente en caso de que ambas rectas no sean linealmente independientes, podemos decir que **existe una infinidad de soluciones** al sistema.\r\n",
        "\r\n",
        "La solución de un sistema de 2 ecuaciones lineales con 2 incógnitas representa **el punto en $\\mathbb{R}^{2}$ donde ambas rectas se intersectan**. Por otro lado, la solución de un sistema de 3 ecuaciones lineales con 3 incógnitas representa **el punto en $\\mathbb{R}^{3}$** donde se genera de la intersección de los 3 planos. De manera general podemos decir que la solución de un sistema de $n$-ecuaciones lineales con $n$-incógnitas representa el vector $\\vec{x} \\in \\mathbb{R}^{n}$ donde se da la intersección de los subespacios generados por los vectores columna de la matriz $A\\in M_{n\\times n}$.\r\n",
        "\r\n",
        "En caso de que el sistema $A\\vec{x}=\\vec{b}$ tenga solución es decir que el determinante de la matriz $A$ sea diferente de cero, un camino para resolver este sistema es mediante la inversa de $A$, es decir que en caso de que exista $A^{-1}$ entonces se tiene que.\r\n",
        "\r\n",
        "$$A\\vec{x}=\\vec{b} \\Longrightarrow (A^{-1}A)\\vec{x}=(A^{-1}\\vec{b}) \\Longrightarrow \\vec{x}=A^{-1}\\vec{b}$$\r\n",
        "\r\n",
        "Si se quiere tener mayor información sobre este tema, así como ejemplos interactivos y videos se puede visitar el notebook de <a href=https://colab.research.google.com/github/jugernaut/Prometeo/blob/desarrollo/02_AlgebraLineal/07_SistemasLineales/07_SistemasLineales.ipynb>*Sistemas Lineales*</a>"
      ]
    }
  ]
}