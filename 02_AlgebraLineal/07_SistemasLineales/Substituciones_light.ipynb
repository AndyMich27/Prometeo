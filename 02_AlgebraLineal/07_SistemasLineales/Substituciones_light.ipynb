{
  "nbformat": 4,
  "nbformat_minor": 0,
  "metadata": {
    "colab": {
      "name": "Substituciones_light.ipynb",
      "provenance": [],
      "collapsed_sections": []
    },
    "kernelspec": {
      "name": "python3",
      "display_name": "Python 3"
    }
  },
  "cells": [
    {
      "cell_type": "markdown",
      "metadata": {
        "id": "99Znk-jxx769"
      },
      "source": [
        "# Substituciones\r\n",
        "## Trabajo realizado con el apoyo del Programa UNAM-DGAPA-PAPIME PE101019\r\n",
        "- Autor: Miguel Angel Pérez León\r\n",
        "- Rev: Dom ene 10 10:22:11 CDT 2021"
      ]
    },
    {
      "cell_type": "markdown",
      "metadata": {
        "id": "u6zmdrkYyIOY"
      },
      "source": [
        "Gran parte de las factorizaciones empleadas para evitar el cálculo de la matriz inversa (si no es que todas) hacen uso de la substitución hacia adelante y substitución hacia atrás.\r\n",
        "\r\n",
        "La idea general es que dado un sistema del tipo $A\\vec{x}=\\vec{b}$, la matriz $A\\in M_{n\\times n}$ puede ser factorizada empleando alguno de los métodos previamente mencionados *(LU, QR, Cholesky)* y una vez que se tenga alguna de estas factorizaciones es posible emplear algun tipo de subtitución para resolver el sistema original."
      ]
    },
    {
      "cell_type": "markdown",
      "metadata": {
        "id": "AnzbFd4KymLD"
      },
      "source": [
        "## Substitución hacia adelante\r\n",
        "\r\n",
        "Supongamos que se tiene una matríz triangular inferior $L\\in M_{n\\times n}$ sobre $\\mathbb{R}$ y los correspondientes vectores, $\\vec{y},\\vec{b}\\in\\mathbb{R}^{n}$ podemos pensar en resolver el sistema:\r\n",
        "\r\n",
        "$$L\\vec{y}=\\vec{b}$$\r\n",
        "\r\n",
        "Para resolver dicho sistema empleamos el siguiente algoritmo de substitución:\r\n",
        "\r\n",
        "$$y_{i}=\\frac{b_{i}-\\displaystyle\\sum_{j=0}^{i-1}l_{ij}y_{j}}{l_{ii}}\\quad i=0,\\ldots,(n-1)$$"
      ]
    },
    {
      "cell_type": "markdown",
      "metadata": {
        "id": "P-5xUUQ5yvNy"
      },
      "source": [
        "## Substitución hacia atrás\r\n",
        "\r\n",
        "Supongamos que se tiene una matríz triangular superior $U \\in M_{n\\times n}$ sobre $\\mathbb{R}$ y los correspondientes vectores, $\\vec{x},\\vec{y}\\in\\mathbb{R}^{n}$ podemos pensar en resolver el sistema.\r\n",
        "\r\n",
        "$$U\\vec{x}=\\vec{y}$$\r\n",
        "\r\n",
        "Para resolver dicho sistema empleamos el siguiente algoritmo de substitución:\r\n",
        "\r\n",
        "$$x_{i}=\\frac{y_{i}-\\displaystyle\\sum_{j=i+1}^{n-1}u_{ij}x_{j}}{u_{ii}}\\quad i=(n-1),\\ldots,0$$"
      ]
    },
    {
      "cell_type": "markdown",
      "metadata": {
        "id": "_lGk9sXZy32W"
      },
      "source": [
        "Si se quiere tener mayor información sobre este tema, así como ejemplos interactivos  se puede visitar el notebook de <a href=https://colab.research.google.com/github/jugernaut/Prometeo/blob/desarrollo/02_AlgebraLineal/07_SistemasLineales/11_Substituciones.ipynb>*Substituciones*</a>."
      ]
    }
  ]
}