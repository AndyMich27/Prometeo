{
  "nbformat": 4,
  "nbformat_minor": 0,
  "metadata": {
    "kernelspec": {
      "display_name": "Python 3",
      "language": "python",
      "name": "python3"
    },
    "language_info": {
      "codemirror_mode": {
        "name": "ipython",
        "version": 3
      },
      "file_extension": ".py",
      "mimetype": "text/x-python",
      "name": "python",
      "nbconvert_exporter": "python",
      "pygments_lexer": "ipython3",
      "version": "3.8.2"
    },
    "colab": {
      "name": "06_Normas.ipynb",
      "provenance": [],
      "toc_visible": true,
      "include_colab_link": true
    }
  },
  "cells": [
    {
      "cell_type": "markdown",
      "metadata": {
        "id": "view-in-github",
        "colab_type": "text"
      },
      "source": [
        "<a href=\"https://colab.research.google.com/github/jugernaut/Prometeo/blob/desarrollo/02_AlgebraLineal/06_Normas/06_Normas.ipynb\" target=\"_parent\"><img src=\"https://colab.research.google.com/assets/colab-badge.svg\" alt=\"Open In Colab\"/></a>"
      ]
    },
    {
      "cell_type": "markdown",
      "metadata": {
        "id": "CC6730PTbtG7"
      },
      "source": [
        "## Normas\n",
        "### Proyecto PAPIME PE101019\n",
        "- Autor: Miguel Angel Pérez León\n",
        "- Rev: mar jun  24 17:08:27 CDT 2020"
      ]
    },
    {
      "cell_type": "markdown",
      "metadata": {
        "id": "xZ94b-Zu7-Fv"
      },
      "source": [
        "## Introducción\n",
        "\n",
        "En todo espacio vectorial es de suma importancia definir una metrica, es decir, una forma de conocer la distancia entre los diferentes elementos dentro de este espacio vectorial o la distancia de cada uno de estos al origen.\n",
        "\n",
        "El concepto de distancia es de gran importancia para el estudio de los espacios vectoriales, tales como el espacio de los vectores o las matrices.\n",
        "\n",
        "Por ejemplo, la distancia entre un vector $\\vec{x}$ y un vector $\\vec{y}$ puede ser de gran importancia, ya que estos vectores pueden representar la solución para un determinado problema. O la distancia entre la matriz $A$ y la matriz $B$ tambien puede ser de gran importancia ya que esa distancia nos puede ayudar a determinar cual de esas dos matrices es una mejor solución para algún algoritmo.\n",
        "\n",
        "Es por este motivo que definir una forma de poder medir estas distancias en cualquier espacio vectorial es de suma importancia. A este concepto se le conoce como **norma**."
      ]
    },
    {
      "cell_type": "markdown",
      "metadata": {
        "id": "d45aBwlx7-Fx"
      },
      "source": [
        "## Norma Vectorial\n",
        "\n",
        "Muy a menudo se necesita la magnitud de un vector o matriz, para poder cuantificar los errores en algún algoritmo, o simplemente para establecer una distancia (métrica).\n",
        "\n",
        "\n",
        "**Norma**: Sea $V$ un espacio vectorial sobre $k$. Una función $\\left\\Vert \\cdot\\right\\Vert $\n",
        "de vectores, se denomina norma vectorial a $\\left\\Vert \\cdot\\right\\Vert $\n",
        "si, para cualesquiera vectores $\\vec{x},\\vec{y},$ se satisfacen las\n",
        "siguientes propiedades.\\\n",
        "1.- $\\left\\Vert \\vec{x}\\right\\Vert \\geq0$\\\n",
        "2.- $\\left\\Vert \\vec{x}\\right\\Vert =0\\,\\Longleftrightarrow\\vec{x}=0$\\\n",
        "3.- $\\left\\Vert \\alpha\\vec{x}\\right\\Vert =\\left|\\alpha\\right|\\left\\Vert \\vec{x}\\right\\Vert$\\\n",
        "4.- $\\left\\Vert \\vec{x}+\\vec{y}\\right\\Vert \\leq\\left\\Vert \\vec{x}\\right\\Vert +\\left\\Vert \\vec{y}\\right\\Vert$\n",
        "\n",
        "¿Conoces alguna función $\\left\\Vert \\cdot\\right\\Vert$ que cumpla con las propiedades anteriores?. "
      ]
    },
    {
      "cell_type": "markdown",
      "metadata": {
        "id": "QZbmQZUy7-Fy"
      },
      "source": [
        "### Normas de Hölder\n",
        "\n",
        "Sea $p\\geq1.$ Las normas de *Hölder*, o *p-normas* están definidas por\n",
        "\n",
        "$$\\left\\Vert \\vec{x}\\right\\Vert _{p}:=\\left[\\sum_{i=1}^{n}\\left|x_{i}\\right|^{p}\\right]^{1/p}\\quad para\\,1\\leq p<\\infty$$\n",
        "\n",
        "De ellas, las mas importantes son: la 1-norma\n",
        "\n",
        "$$\\left\\Vert \\vec{x}\\right\\Vert _{1}:=\\sum_{i=1}^{n}\\left|x_{i}\\right|$$\n",
        "\n",
        "La $2-norma$ (norma euclidiana)\n",
        "\n",
        "$$\\left\\Vert \\vec{x}\\right\\Vert _{2}:=\\left[\\sum_{i=1}^{n}\\left|x_{i}\\right|^{2}\\right]^{1/2}$$\n",
        "\n",
        "y la $\\infty-norma$ (norma del supremo)\n",
        "\n",
        "$$\\left\\Vert \\vec{x}\\right\\Vert _{\\infty}:= max_{1\\leq i\\leq n}\\left|x_{i}\\right|$$"
      ]
    },
    {
      "cell_type": "markdown",
      "metadata": {
        "id": "6m3XA2ft7-Fz"
      },
      "source": [
        "### La 1-norma es norma vectorial\n",
        "\n",
        "Para poder afirmar que una función sobre un espacio vectorial es norma, es necesario probar que cumple con la definición.\n",
        "\n",
        "*P.D. 1-norma, es norma vectorial.*\n",
        "\n",
        "*1.-*$$\\left\\Vert \\vec{x}\\right\\Vert _{1}=\\left|x_{1}\\right|+\\left|x_{2}\\right|+\\cdots+\\left|x_{n}\\right|\\overset{\\underbrace{prop.\\,val.\\,abs.}}{\\geq}0$$\n",
        "\n",
        "*2.-*$$\\left\\Vert \\vec{x}\\right\\Vert _{1}=0\\Longleftrightarrow \\sum_{i=1}^{n}\\left|x_{i}\\right|=0\\Longleftrightarrow x_{1}=x_{2}=\\cdots=x_{n}=0\\Longleftrightarrow\\vec{x}=0$$\n",
        "\n",
        "*3.-*$$\\begin{eqnarray*}\n",
        "\\left\\Vert \\alpha\\vec{x}\\right\\Vert _{1} & \\overset{\\underbrace{def.}}{=} & \\left|\\alpha x_{1}\\right|+\\left|\\alpha x_{2}\\right|+\\cdots+\\left|\\alpha x_{n}\\right|\\\\\n",
        " & \\overset{\\underbrace{v.a.}}{=} & \\left|\\alpha\\right|\\left(\\left|x_{1}\\right|+\\left|x_{2}\\right|+\\cdots+\\left|x_{n}\\right|\\right)\\\\\n",
        " & = & \\left|\\alpha\\right|\\left\\Vert \\vec{x}\\right\\Vert _{1}\n",
        "\\end{eqnarray*}$$\n",
        "\n",
        "*4.-*$$\\begin{eqnarray*}\n",
        "\\left\\Vert \\vec{x}+\\vec{y}\\right\\Vert _{1} & \\overset{\\underbrace{def.}}{=} & \\sum_{i=1}^{n}\\left|x_{i}+y_{i}\\right|\\overset{\\underbrace{des.triang.}}{\\leq}\\sum_{i=1}^{n}\\left|x_{i}\\right|+\\sum_{i=1}^{n}\\left|y_{i}\\right|\\\\\n",
        " & = & \\left\\Vert \\vec{x}\\right\\Vert _{1}+\\left\\Vert \\vec{y}\\right\\Vert _{1}\n",
        "\\end{eqnarray*}$$\n",
        "\n",
        "Queda como ejercicio al lector demostrar que la $2-norma$ y la $\\infty-norma$ son normas vectoriales."
      ]
    },
    {
      "cell_type": "markdown",
      "metadata": {
        "id": "aVke81xi9Gy_"
      },
      "source": [
        "#### Ejemplo\n",
        "\n",
        "Sea $\\vec{x} \\in\\mathbb{R}^{2}$, $\\vec{x}=(2,5)$, calcúle las normas de Hölder.\n",
        "\n",
        "*1-norma*\n",
        "\n",
        "$$\\left\\Vert \\vec{x}\\right\\Vert _{1}=\\sum_{i=1}^{2}\\left|x_{i}\\right|=\\left|x_{1}\\right|+\\left|x_{2}\\right|=2+5=7$$\n",
        "\n",
        "*2-norma (norma euclidiana)*\n",
        "\n",
        "$$\\left\\Vert \\vec{x}\\right\\Vert _{2}=\\left[\\sum_{i=1}^{2}\\left|x_{i}\\right|^{2}\\right]^{1/2}=\\sqrt{\\left|x_{1}\\right|^{2}+\\left|x_{2}\\right|^{2}}=\\sqrt{\\left|2\\right|^{2}+\\left|5\\right|^{2}}=\\sqrt{4+25}=\\sqrt{29}$$\n",
        "\n",
        "y la $\\infty-norma$ (norma del supremo)\n",
        "\n",
        "$$\\left\\Vert \\vec{x}\\right\\Vert _{\\infty}= max_{1\\leq i\\leq 2}\\left|x_{i}\\right|=max\\{|2|,|5|\\}=max\\{2,5\\}=5$$\n",
        "\n",
        "Con *numpy* podemos comprobar los resultados"
      ]
    },
    {
      "cell_type": "markdown",
      "metadata": {
        "id": "-swPnp7X9LHi"
      },
      "source": [
        "### Definición de Distancia\n",
        "\n",
        "Sean $\\vec{x}$, $\\vec{y}$ $\\in \\mathbb{R}^{n}$ la distancia entre $\\vec{x}$, $\\vec{y}$ se define de la siguiente manera.\n",
        "\n",
        "$$d\\left(\\vec{x},\\vec{y}\\right):=\\left\\Vert \\vec{x}-\\vec{y}\\right\\Vert$$\n",
        "\n",
        "La importancia de una norma es que una vez definida la norma\n",
        "en $\\mathbb{R}^{n}$ es sencillo establecer una métrica    (distancia entre vectores).\n",
        "\n",
        "Si consideramos un espacio bidimensional y la 1-norma tenemos que. \n",
        "\n",
        "$$d_{1}\\left(\\vec{x},\\vec{y}\\right)=\\left\\Vert \\vec{x}-\\vec{y}\\right\\Vert _{1}=\\sum_{i=1}^{2}\\left|x_{i}-y_{i}\\right|$$\n",
        "\n",
        "Si además se considera el producto punto, notese que.\n",
        "\n",
        "$$d(\\vec{x},\\vec{0})=\\left\\Vert \\vec{x}-\\vec{0} \\right\\Vert=\\left\\Vert \\vec{x} \\right\\Vert=\\sqrt{(\\vec{x}\\cdot\\vec{x})}$$"
      ]
    },
    {
      "cell_type": "markdown",
      "metadata": {
        "id": "IrH_-UfP9Uj5"
      },
      "source": [
        "#### Bola (Esfera) Unitaria\n",
        "\n",
        "Es importante notar, cómo es que la elección de la norma, modifica la forma en la que se percibe el espacio vectorial en cuestión.\n",
        "\n",
        "Para cada norma, se dibuja a manera de ilustración la bola de unidad definida como.\n",
        "\n",
        "$$\\bar{B}\\left(0,1\\right):=\\left\\{ \\vec{x}\\in\\mathbb{R}^{2}\\mid\\left\\Vert \\vec{x}\\right\\Vert _{p}\\leq1\\right\\}$$\n",
        "\n",
        "<img src=\"https://github.com/jugernaut/Prometeo/blob/desarrollo/Figuras/1norma.png?raw=1\" width=\"150\"> \n",
        "\n",
        "<img src=\"https://github.com/jugernaut/Prometeo/blob/desarrollo/Figuras/2norma.png?raw=1\" width=\"150\">  \n",
        "\n",
        "<img src=\"https://github.com/jugernaut/Prometeo/blob/desarrollo/Figuras/normaInf.png?raw=1\" width=\"150\"> \n",
        "\n",
        "<img src=\"https://github.com/jugernaut/Prometeo/blob/desarrollo/Figuras/normaMedios.png?raw=1\" width=\"150\"> \n",
        "\n",
        "Lo que muestra la bola unitaria en realidad son todas las $x\\in R^{2}$\n",
        "cuya distancia al origen es menor ó igual que 1, es decir que podemos\n",
        "pensar en la bola unitaria de la siguiente manera.\n",
        "$$\\bar{B}\\left(0,1\\right)=\\left\\{ \\vec{x}\\in\\mathbb{R}^{2}\\mid d_{p}\\left(\\vec{x}-0\\right)\\leq1\\right\\} $$"
      ]
    },
    {
      "cell_type": "markdown",
      "metadata": {
        "id": "t7Qirk_g-PNl"
      },
      "source": [
        "## Propiedades de las normas\n",
        "\n",
        "Existe una gran cantidad de propiedades sobre las normas vectoriales.\n",
        "\n",
        "Debido a los alcances del curso, no es posible demostrar todas las\n",
        "propiedades de las normas."
      ]
    },
    {
      "cell_type": "markdown",
      "metadata": {
        "id": "rR-SQ_Jt7-F0"
      },
      "source": [
        "### Desigualdad de Hölder\n",
        "\n",
        "Sean $p,q\\in(1,\\infty]$ tales que\n",
        "$\\frac{1}{p}+\\frac{1}{q}=1.$ Entonces para cuales quiera vectores\n",
        "$\\vec{x},\\vec{y}\\in\\mathbb{R}^{n}$ se cumple que \n",
        "$$\\begin{eqnarray*}\n",
        "\\left\\Vert \\vec{x}\\vec{y}\\right\\Vert _{1} & \\leq & \\left\\Vert \\vec{x}\\right\\Vert _{p}\\left\\Vert \\vec{y}\\right\\Vert _{q}\n",
        "\\end{eqnarray*}$$\n",
        "\n",
        "La desigualdad de Hölder es una de las propiedades que cumplen las normas y ayuda a establecer relaciones entre las mismas."
      ]
    },
    {
      "cell_type": "markdown",
      "metadata": {
        "id": "wYSISPgm-U_-"
      },
      "source": [
        "### Desigualdad de Cauchy-Schwarz\n",
        "\n",
        "Sean $\\vec{x},\\vec{y}\\in\\mathbb{R}^{n}$ y $\\cdot$ el producto punto para vectores, entonces.\n",
        "\n",
        "$$\\vec{x} \\cdot \\vec{y} \\leq \\Vert\\vec{x}\\Vert\\Vert\\vec{y}\\Vert$$\n",
        "\n",
        "Donde $\\Vert\\vec{x}\\Vert:=\\sqrt{\\vec{x}\\cdot\\vec{x}}$ es la longitud del $\\vec{x}$.\n",
        "\n",
        "\n",
        "La desigualdad de Cauchy-Schwarz es útil para demostrar propiedades de las normas."
      ]
    },
    {
      "cell_type": "markdown",
      "metadata": {
        "id": "NuRUJUYI-nsq"
      },
      "source": [
        "### Desigualdad del triangulo (versión norma)\n",
        "\n",
        "Sean $\\vec{x},\\vec{y}\\in\\mathbb{R}^{n}$\n",
        "\n",
        "$$\\begin{eqnarray*}\n",
        "\\left\\Vert \\vec{x}+\\vec{y}\\right\\Vert ^{2} & \\overset{\\underbrace{distancia}}{=} & \\left(\\sqrt{\\left(\\vec{x}+\\vec{y}\\right)\\cdot\\left(\\vec{x}+\\vec{y}\\right)}\\right)^{2}\\\\\n",
        " & = & \\left(\\vec{x}+\\vec{y}\\right)\\cdot\\left(\\vec{x}+\\vec{y}\\right)\\\\\n",
        " & \\overset{\\underbrace{def.prod.punto}}{=} & \\sum_{i=1}^{n}\\left(x_{i}+y_{i}\\right)\\left(x_{i}+y_{i}\\right)\\\\\n",
        " & \\overset{\\underbrace{prod.notables}}{=} & \\sum_{i=1}^{n}\\left(x_{i}^{2}+2x_{i}y_{i}+y_{i}^{2}\\right)\\\\\n",
        " & \\overset{\\underbrace{axioma}}{=} & \\sum_{i=1}^{n}x_{i}^{2}+\\sum_{i=1}^{n}2x_{i}y_{i}+\\sum_{i=1}^{n}y_{i}^{2}\\\\\n",
        " & \\overset{\\underbrace{def.potencia}}{=} & \\sum_{i=1}^{n}\\left(x_{i}x_{i}\\right)+2\\sum_{i=1}^{n}x_{i}y_{i}+\\sum_{i=1}^{n}\\left(y_{i}y_{i}\\right)\\\\\n",
        " & \\overset{\\underbrace{def.prod.punto}}{=} & \\vec{x}\\cdot\\vec{x}+2\\left(\\vec{x}\\cdot\\vec{y}\\right)+\\vec{y}\\cdot\\vec{y}\\\\\n",
        " & \\overset{\\underbrace{distancia}}{=} & \\left\\Vert \\vec{x}\\right\\Vert +2\\left(\\vec{x}\\cdot\\vec{y}\\right)+\\left\\Vert \\vec{y}\\right\\Vert \\\\\n",
        " & \\overset{\\underbrace{Cauchy}}{\\leq} & \\left\\Vert \\vec{x}\\right\\Vert +2\\left\\Vert \\vec{x}\\right\\Vert \\left\\Vert \\vec{y}\\right\\Vert +\\left\\Vert \\vec{y}\\right\\Vert \\\\\n",
        " & \\overset{\\underbrace{prod.notables}}{=} & \\left(\\left\\Vert \\vec{x}\\right\\Vert +\\left\\Vert \\vec{y}\\right\\Vert \\right)^{2}\n",
        "\\end{eqnarray*}$$\n",
        "\n",
        "Por lo tanto.\n",
        "\n",
        "$$\\left\\Vert \\vec{x}+\\vec{y}\\right\\Vert ^{2}\\leq \\left(\\left\\Vert \\vec{x}\\right\\Vert +\\left\\Vert \\vec{y}\\right\\Vert \\right)^{2}$$\n",
        "\n",
        "Finalmente.\n",
        "\n",
        "$$\\left\\Vert \\vec{x}+\\vec{y}\\right\\Vert ^{2}\\leq\\left(\\left\\Vert \\vec{x}\\right\\Vert +\\left\\Vert \\vec{y}\\right\\Vert \\right)^{2}\\Longrightarrow\\left\\Vert \\vec{x}+\\vec{y}\\right\\Vert \\leq\\left\\Vert \\vec{x}\\right\\Vert +\\left\\Vert \\vec{y}\\right\\Vert$$\n",
        "\n",
        "Así que.\n",
        "\n",
        "$$\\left\\Vert \\vec{x}+\\vec{y}\\right\\Vert \\leq\\left\\Vert \\vec{x}\\right\\Vert +\\left\\Vert \\vec{y}\\right\\Vert \\ldots\\blacksquare$$"
      ]
    },
    {
      "cell_type": "code",
      "metadata": {
        "id": "5YmrjV5h_OdC"
      },
      "source": [
        "import matplotlib.pyplot as plt\n",
        "\n",
        "u = [0,0,1,6]\n",
        "v = [0,0,4,2]\n",
        "u_bis = [1,6,v[2],v[3]]\n",
        "w = [0,0,5,8]\n",
        "plt.quiver([u[0], u_bis[0], w[0]],\n",
        "           [u[1], u_bis[1], w[1]],\n",
        "           [u[2], u_bis[2], w[2]],\n",
        "           [u[3], u_bis[3], w[3]],\n",
        "           angles='xy', scale_units='xy', scale=1, color='y')\n",
        "\n",
        "plt.xlim(-2, 6)\n",
        "plt.ylim(-2, 9)\n",
        "plt.axvline(x=0, color='grey')\n",
        "plt.axhline(y=0, color='grey')\n",
        "\n",
        "plt.text(-1, 3.5, r'$||\\vec{x}||$', size=20, color='r')\n",
        "plt.text(2.5, 7.5, r'$||\\vec{y}||$', size=20, color='b')\n",
        "plt.text(2, 2, r'$||\\vec{x}+\\vec{y}||$', size=20, color='g')\n",
        "\n",
        "plt.show()"
      ],
      "execution_count": null,
      "outputs": []
    },
    {
      "cell_type": "markdown",
      "metadata": {
        "id": "U2weZXOi-zfw"
      },
      "source": [
        "#### Corolario\n",
        "\n",
        "Sean $\\vec{x},\\vec{y},\\vec{z}\\in\\mathbb{R}^{n}$ \n",
        "$$\\begin{eqnarray*}\n",
        "\\left\\Vert \\vec{z}-\\vec{x}\\right\\Vert  & \\leq & \\left\\Vert \\vec{z}-\\vec{y}\\right\\Vert +\\left\\Vert \\vec{y}-\\vec{x}\\right\\Vert \n",
        "\\end{eqnarray*}$$\n",
        "\n",
        "*P.D.* $\\left\\Vert \\vec{z}-\\vec{x}\\right\\Vert \\leq\\left\\Vert \\vec{z}-\\vec{y}\\right\\Vert +\\left\\Vert \\vec{y}-\\vec{x}\\right\\Vert $\n",
        "$$\\begin{eqnarray*}\n",
        "\\left\\Vert \\vec{z}-\\vec{x}\\right\\Vert  & = & \\left\\Vert \\vec{z}+\\vec{0}-\\vec{x}\\right\\Vert =\\left\\Vert \\vec{z}-\\vec{y}+\\vec{y}-\\vec{x}\\right\\Vert \\\\\n",
        " & = & \\left\\Vert \\left(\\vec{z}-\\vec{y}\\right)+\\left(\\vec{y}-\\vec{x}\\right)\\right\\Vert \\\\\n",
        " & \\overset{\\underbrace{prop.norma}}{\\leq} & \\left\\Vert \\vec{z}-\\vec{y}\\right\\Vert +\\left\\Vert \\vec{y}-\\vec{x}\\right\\Vert \\\\\n",
        " & \\therefore & \\left\\Vert \\vec{z}-\\vec{x}\\right\\Vert \\leq\\left\\Vert \\vec{z}-\\vec{y}\\right\\Vert +\\left\\Vert \\vec{y}-\\vec{x}\\right\\Vert \n",
        "\\end{eqnarray*}$$"
      ]
    },
    {
      "cell_type": "markdown",
      "metadata": {
        "id": "F8sZC5Sm-4re"
      },
      "source": [
        "### Equivalencia entre normas\n",
        "\n",
        "*Definición:* Dos normas $\\left\\Vert \\cdot\\right\\Vert _{p}$ y $\\left\\Vert \\cdot\\right\\Vert _{q}$\n",
        "son equivalentes en $\\mathbb{R}^{n}$ si existen 2 constantes universales\n",
        "positivas $\\alpha,\\beta$ tales que\n",
        "\n",
        "$$\\forall\\vec{x}\\in\\mathbb{R}^{n}\\qquad\\alpha\\left\\Vert \\vec{x}\\right\\Vert _{p}\\leq\\left\\Vert \\vec{x}\\right\\Vert _{q}\\leq\\beta\\left\\Vert \\vec{x}\\right\\Vert _{p}$$\n",
        "\n",
        "$$\\begin{eqnarray*}\n",
        "1)\\left\\Vert \\vec{x}\\right\\Vert _{2}\\; & \\leq & \\left\\Vert \\vec{x}\\right\\Vert _{1}\\leq\\sqrt{n}\\left\\Vert \\vec{x}\\right\\Vert _{2}\\\\\n",
        "2)\\left\\Vert \\vec{x}\\right\\Vert _{\\infty} & \\leq & \\left\\Vert \\vec{x}\\right\\Vert _{2}\\leq\\sqrt{n}\\left\\Vert \\vec{x}\\right\\Vert _{\\infty}\\\\\n",
        "3)\\left\\Vert \\vec{x}\\right\\Vert _{\\infty} & \\leq & \\left\\Vert \\vec{x}\\right\\Vert _{1}\\leq n\\left\\Vert \\vec{x}\\right\\Vert _{\\infty}\n",
        "\\end{eqnarray*}$$\n",
        "\n",
        "## Lema 1)\n",
        "*Sean* $a,b\\geq0$ p.d. $\\sqrt{a+b}\\leq\\sqrt{a}+\\sqrt{b}$\n",
        "\n",
        "p.d. $\\sqrt{a+b}\\leq\\sqrt{a}+\\sqrt{b}$\n",
        "\n",
        "$$\\sqrt{a+b}\\leq\\sqrt{a+2\\sqrt{ab}+b}=\\sqrt{\\left(\\sqrt{a}+\\sqrt{b}\\right)^{2}}=\\left|\\sqrt{a}+\\sqrt{b}\\right|=\\sqrt{a}+\\sqrt{b}$$"
      ]
    },
    {
      "cell_type": "markdown",
      "metadata": {
        "id": "aPP1-tSs_BIU"
      },
      "source": [
        "### La $\\left\\Vert \\vec{x}\\right\\Vert _{2}$ es menor que $\\left\\Vert \\vec{x}\\right\\Vert _{1}$\n",
        "\n",
        "Veamos que relación de equivalencia guardan la norma eculidiana y la 1-norma.\n",
        "\n",
        "Sea $\\vec{x}\\in\\mathbb{R}^{n}$ P.D.\n",
        "$$\\left\\Vert \\vec{x}\\right\\Vert _{2}\\leq\\left\\Vert \\vec{x}\\right\\Vert _{1}$$\n",
        "\n",
        "Haremos uso del *lema 1)* para realizar esta demostración.\n",
        "$$\\begin{eqnarray*}\n",
        "\\left\\Vert \\vec{x}\\right\\Vert _{2} & = & \\sqrt{\\sum_{i=1}^{n}\\left|x_{i}\\right|^{2}}\\\\\n",
        " & \\overset{\\underbrace{val.abs}}{=} & \\sqrt{\\sum_{i=1}^{n}\\left(x_{i}\\right)^{2}}\\\\\n",
        " & \\overset{\\underbrace{lema\\,1)}}{\\leq} & \\sum_{i=1}^{n}\\sqrt{\\left(x_{i}\\right)^{2}}\\\\\n",
        " & = & \\sum_{i=1}^{n}\\left|x_{i}\\right|\\\\\n",
        " & = & \\left\\Vert x\\right\\Vert _{1}\\\\\n",
        "\\therefore\\left\\Vert \\vec{x}\\right\\Vert _{2} & \\leq & \\left\\Vert \\vec{x}\\right\\Vert _{1}\n",
        "\\end{eqnarray*}$$\n",
        "\n",
        "**Se recomienda enfáticamente realizar las demostraciones faltantes de las equivalencias de normas vectoriales**.\n",
        "\n",
        "Veremos algúnos ejemplos de como utilizar python y numpy para calcular las diferentes tipos de normas vectoriales descritas previamente"
      ]
    },
    {
      "cell_type": "code",
      "metadata": {
        "id": "J7QEEMbC7-F5",
        "outputId": "ce9b683b-18f3-4181-e509-89d3b1c148fb",
        "colab": {
          "base_uri": "https://localhost:8080/",
          "height": 89
        }
      },
      "source": [
        "import numpy as np\n",
        "\n",
        "# se define un vector x\n",
        "x = np.array([1, 2, 3, 4])\n",
        "\n",
        "# se muestra el vector x\n",
        "print(x)\n",
        "\n",
        "# calculamos la norma 1\n",
        "print(np.linalg.norm(x, 1))\n",
        "\n",
        "# calculamos la norma 2\n",
        "print(np.linalg.norm(x, 2))\n",
        "\n",
        "# calculamos la norma del supremo\n",
        "print(np.linalg.norm(x, np.inf))"
      ],
      "execution_count": null,
      "outputs": [
        {
          "output_type": "stream",
          "text": [
            "[1 2 3 4]\n",
            "10.0\n",
            "5.477225575051661\n",
            "4.0\n"
          ],
          "name": "stdout"
        }
      ]
    },
    {
      "cell_type": "markdown",
      "metadata": {
        "id": "OMkqMpE77-F_"
      },
      "source": [
        "Existemas mas normas que pueden calcularse mediante el modulo de álgebra lineal de numpy. La documentación de dicho módulo se puede encontrar en [numpy.linalg.norm](https://numpy.org/doc/stable/reference/generated/numpy.linalg.norm.html)."
      ]
    },
    {
      "cell_type": "markdown",
      "metadata": {
        "id": "7SL8ZW2IcxjD"
      },
      "source": [
        "## Referencias\n",
        "\n",
        "\n",
        "*   Riswan Butt, Numerical Analysys Using Matlab, Jones and Bartlett.\n",
        "*   Ward Cheney, David Kincaid, Métodos Numéricos y Computación, Cenage Learning.\n",
        "*   Richard L. Burden, J. Douglas Faires, Análisis Numérico, Math Learning.\n",
        "*   Yuri N. Skiba, Introducción a los Métodos Numéricos. "
      ]
    }
  ]
}