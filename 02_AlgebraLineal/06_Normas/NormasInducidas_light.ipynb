{
  "nbformat": 4,
  "nbformat_minor": 0,
  "metadata": {
    "colab": {
      "name": "NormasInducidas_light.ipynb",
      "provenance": [],
      "collapsed_sections": []
    },
    "kernelspec": {
      "name": "python3",
      "display_name": "Python 3"
    }
  },
  "cells": [
    {
      "cell_type": "markdown",
      "metadata": {
        "id": "CnkUChshNPmi"
      },
      "source": [
        "##Normas Inducidas\r\n",
        "### Trabajo realizado con el apoyo del Programa UNAM-DGAPA-PAPIME PE101019\r\n",
        "- Autor: Miguel Angel Pérez León\r\n",
        "- Rev: mar ene  12 16:06:33 CDT 2020"
      ]
    },
    {
      "cell_type": "markdown",
      "metadata": {
        "id": "CFtrIq4kNeD8"
      },
      "source": [
        "En cualquier espacio vectorial o subespacio es muy útil definir el concepto de norma para poder establecer una forma de medir distancias por tal motivo veremos cómo se define el concepto de norma para el subespacio de las matrices cuadradas sobre $\\mathbb{R}$.\r\n",
        "\r\n",
        "**Una función** $\\left\\Vert \\cdot\\right\\Vert$ de matrices, se denomina **norma matricia**l $\\left\\Vert \\cdot\\right\\Vert$  si para cualesquiera matrices $A, B \\in M_{n\\times n}$ sobre $\\mathbb{R}$ se satisfacen las siguientes propiedades.\r\n",
        "\r\n",
        "1.- $\\left\\Vert A\\right\\Vert \\geq0$.\r\n",
        "\r\n",
        "2.- $\\left\\Vert A\\right\\Vert =0\\,\\Longleftrightarrow A=0$.\r\n",
        "\r\n",
        "3.- $\\left\\Vert \\alpha A\\right\\Vert =\\left|\\alpha\\right|\\left\\Vert A\\right\\Vert$.\r\n",
        "\r\n",
        "4.- $\\left\\Vert A+B\\right\\Vert \\leq\\left\\Vert A\\right\\Vert +\\left\\Vert B\\right\\Vert$ (desigualdad triangular).\r\n",
        "\r\n",
        "5.- $\\left\\Vert AB\\right\\Vert \\leq\\left\\Vert A\\right\\Vert \\left\\Vert B\\right\\Vert$ (compatibilidad o consistencia).\r\n",
        "\r\n",
        "\r\n"
      ]
    },
    {
      "cell_type": "markdown",
      "metadata": {
        "id": "hBVJ3xptQBGu"
      },
      "source": [
        "## Norma Matricial inducida (subordinada)\r\n",
        "\r\n",
        "**Definición** Sea $p\\geq1,\\:\\vec{x}\\in\\mathbb{R}^{n}$, la p-norma de una matriz $A\\in M_{n\\times n}$ esta definida por.\r\n",
        "\r\n",
        "$$\\left\\Vert A\\right\\Vert _{p}:=\\underset{\\vec{x}\\neq\\vec{0}}{sup}\\frac{\\left\\Vert A\\vec{x}\\right\\Vert _{p}}{\\left\\Vert \\vec{x}\\right\\Vert _{p}}$$\r\n"
      ]
    },
    {
      "cell_type": "markdown",
      "metadata": {
        "id": "P0ifeHXYQn_Q"
      },
      "source": [
        "## La 2-norma o norma espectral\r\n",
        "\r\n",
        "**Definición.** La norma espectral se define de la siguiente manera, sea $A\\in M_{n\\times n}$ sobre $\\mathbb{R}^{n}$ y $\\vec{x}\\in\\mathbb{R}^{n}$.\r\n",
        "\r\n",
        "$$\\left\\Vert A\\right\\Vert _{2}=\\underset{\\vec{x}\\neq\\vec{0}}{sup}\\frac{\\left\\Vert A\\vec{x}\\right\\Vert _{2}}{\\left\\Vert \\vec{x}\\right\\Vert _{2}}$$\r\n",
        " \r\n",
        "También se puede demostrar que \r\n",
        "$$\\left\\Vert A\\right\\Vert _{2}=\\sqrt{max\\,eigenvalor\\,A^{T}A}$$"
      ]
    },
    {
      "cell_type": "markdown",
      "metadata": {
        "id": "xLLtoT1kRFd7"
      },
      "source": [
        "## Norma de Frobenius\r\n",
        "\r\n",
        "**Definición:** Sea $A\\in M_{n\\times n}$ sobre $\\mathbb{R}^{n}$ y $\\vec{x}\\in\\mathbb{R}^{n}$, la norma de Frobenius se define de la siguiente forma.\r\n",
        "\r\n",
        "$$\\left\\Vert A\\right\\Vert _{F}=\\left(\\sum_{i=1}^{n}\\sum_{j=1}^{n}\\left|a_{ij}\\right|^{2}\\right)^{1/2}$$\r\n",
        "\r\n",
        "Es una de las normas matriciales que más se emplea y ademas es compatible con la norma vectorial $\\left\\Vert \\vec{x}\\right\\Vert _{2}$.\r\n",
        "\r\n",
        "\r\n"
      ]
    },
    {
      "cell_type": "markdown",
      "metadata": {
        "id": "zbYazyEuR8Ti"
      },
      "source": [
        "Si se quiere obtener mas información, propiedades, ejemplos y poder interactuar acerca de este tema se puede visitar el notebook de <a href=https://colab.research.google.com/github/jugernaut/Prometeo/blob/desarrollo/02_AlgebraLineal/06_Normas/07_NormasInducidas.ipynb>*Normas Inducidas*</a>."
      ]
    }
  ]
}