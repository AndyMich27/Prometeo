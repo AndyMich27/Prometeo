{
  "nbformat": 4,
  "nbformat_minor": 0,
  "metadata": {
    "colab": {
      "name": "Normas_light.ipynb",
      "provenance": [],
      "collapsed_sections": []
    },
    "kernelspec": {
      "name": "python3",
      "display_name": "Python 3"
    }
  },
  "cells": [
    {
      "cell_type": "markdown",
      "metadata": {
        "id": "EWSnOKC30I4F"
      },
      "source": [
        "## Normas\r\n",
        "### Trabajo realizado con el apoyo del Programa UNAM-DGAPA-PAPIME PE101019\r\n",
        "- Autor: Miguel Angel Pérez León\r\n",
        "- Rev: mar ene 12 21:36:29 CDT 2021"
      ]
    },
    {
      "cell_type": "markdown",
      "metadata": {
        "id": "OqeFXWHP0aoU"
      },
      "source": [
        "El concepto de distancia es de gran importancia para el estudio de los espacios vectoriales, tales como el espacio de los vectores o las matrices.\r\n",
        "Es por este motivo que definir una forma de poder medir estas distancias en cualquier espacio vectorial es de suma importancia. A este concepto se le conoce como norma.\r\n",
        "\r\n",
        "**Norma**: Sea $V$ un espacio vectorial sobre $k$. Una función $\\left\\Vert \\cdot\\right\\Vert $\r\n",
        "de vectores, se denomina norma vectorial a $\\left\\Vert \\cdot\\right\\Vert $\r\n",
        "si, para cualesquiera vectores $\\vec{x},\\vec{y},$ se satisfacen las\r\n",
        "siguientes propiedades.\\\r\n",
        "1.- $\\left\\Vert \\vec{x}\\right\\Vert \\geq0$\\\r\n",
        "2.- $\\left\\Vert \\vec{x}\\right\\Vert =0\\,\\Longleftrightarrow\\vec{x}=\\vec{0}$\\\r\n",
        "3.- $\\left\\Vert \\alpha\\vec{x}\\right\\Vert =\\left|\\alpha\\right|\\left\\Vert \\vec{x}\\right\\Vert$\\\r\n",
        "4.- $\\left\\Vert \\vec{x}+\\vec{y}\\right\\Vert \\leq\\left\\Vert \\vec{x}\\right\\Vert +\\left\\Vert \\vec{y}\\right\\Vert$\r\n",
        "\r\n",
        "\r\n",
        "### Normas de Hölder\r\n",
        "\r\n",
        "Sea $p\\geq1.$ Las normas de *Hölder*, o *p-normas* están definidas por\r\n",
        "\r\n",
        "$$\\left\\Vert \\vec{x}\\right\\Vert _{p}:=\\left[\\sum_{i=1}^{n}\\left|x_{i}\\right|^{p}\\right]^{1/p}\\quad para\\,1\\leq p<\\infty$$\r\n",
        "\r\n",
        "De ellas, las mas importantes son:\r\n",
        "\r\n",
        "La $1-norma$\r\n",
        "\r\n",
        "$$\\left\\Vert \\vec{x}\\right\\Vert _{1}:=\\sum_{i=1}^{n}\\left|x_{i}\\right|$$\r\n",
        "\r\n",
        "La $2-norma$ (norma euclidiana)\r\n",
        "\r\n",
        "$$\\left\\Vert \\vec{x}\\right\\Vert _{2}:=\\left[\\sum_{i=1}^{n}\\left|x_{i}\\right|^{2}\\right]^{1/2}$$\r\n",
        "\r\n",
        "y la $\\infty-norma$ (norma del supremo)\r\n",
        "\r\n",
        "$$\\left\\Vert \\vec{x}\\right\\Vert _{\\infty}:= max_{1\\leq i\\leq n}\\left|x_{i}\\right|$$\r\n",
        "\r\n",
        "Sean $\\vec{x}$, $\\vec{y}$ $\\in \\mathbb{R}^{n}$ la distancia entre $\\vec{x}$, $\\vec{y}$ se define de la siguiente manera.\r\n",
        "\r\n",
        "$$d\\left(\\vec{x},\\vec{y}\\right):=\\left\\Vert \\vec{x}-\\vec{y}\\right\\Vert$$\r\n",
        "\r\n",
        "\r\n",
        "La importancia de una norma es que una vez definida la norma\r\n",
        "en $\\mathbb{R}^{n}$ es sencillo establecer una métrica    (distancia entre vectores).\r\n",
        "\r\n",
        "Existen algunas propiedades de las normas asi como ejemplos interactivos y una explicación mas a fondo que se pueden ver en el notebook de <a href=https://colab.research.google.com/github/jugernaut/Prometeo/blob/desarrollo/02_AlgebraLineal/06_Normas/06_Normas.ipynb>*Normas*</a>"
      ]
    }
  ]
}