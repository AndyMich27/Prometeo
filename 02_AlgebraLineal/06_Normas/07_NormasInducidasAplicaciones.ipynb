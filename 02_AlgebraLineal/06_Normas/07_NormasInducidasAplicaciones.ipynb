{
  "nbformat": 4,
  "nbformat_minor": 0,
  "metadata": {
    "colab": {
      "name": "07_NormasInducidasAplicacion.ipynb",
      "provenance": [],
      "toc_visible": true,
      "authorship_tag": "ABX9TyMKSRdjc5hIzGOHzTrpszU9",
      "include_colab_link": true
    },
    "kernelspec": {
      "name": "python3",
      "display_name": "Python 3"
    }
  },
  "cells": [
    {
      "cell_type": "markdown",
      "metadata": {
        "id": "view-in-github",
        "colab_type": "text"
      },
      "source": [
        "<a href=\"https://colab.research.google.com/github/jugernaut/Prometeo/blob/desarrollo/02_AlgebraLineal/06_Normas/07_NormasInducidasAplicaciones.ipynb\" target=\"_parent\"><img src=\"https://colab.research.google.com/assets/colab-badge.svg\" alt=\"Open In Colab\"/></a>"
      ]
    },
    {
      "cell_type": "markdown",
      "metadata": {
        "id": "XKcKm7OJbfaC"
      },
      "source": [
        "##Normas Inducidas Aplicación\n",
        "### Proyecto PAPIME PE101019\n",
        "- Autor: Miguel Angel Pérez León\n",
        "- Rev: mar oct  1 17:08:27 CDT 2020"
      ]
    },
    {
      "cell_type": "markdown",
      "metadata": {
        "id": "pL3l51BpO_hL"
      },
      "source": [
        "## Introducción\n",
        "\n",
        "El concepto de norma es de gran importancia en el contexto de los espacios vectoriales, tiene multiples aplicaciones y una de ellas es para definir metricas en dichos espacios para poder medir distancias entre los elementos que pertenecen a estos espacios vectoriales.\n",
        "\n",
        "La distancia entre un vector y el origen o entre una matriz y otra puede tener multiples interpretaciones, en este documento veremos como el concepto de norma se aplica al campo de la inteligencia artificial y en particular en las redes neuronales.\n",
        "\n",
        "Las redes neuronales y el aprendizaje de máquina es de las areas de las ciencias que han tenido más desarrollo en las últimas epocas.\n",
        "\n",
        "Y una de las areas en las que mayor aplicación han tenido estas disciplinas es en la **clasificicación automatizada**.\n",
        "\n",
        "Supongamos que nos interesa clasificar colores y dado que los colores se pueden ver como vectores con 3 componentes entonces podemos establecer distancias entre estos vectores para determinar que tan \"similares\" o \"distintos\" son unos de otros.\n",
        "\n",
        "A partir de este concepto de \"distancia\" (norma en un espacio vectorial) podemos comenzar a clasificar cualquier cosa que pueda ser caracterizada por un vector."
      ]
    },
    {
      "cell_type": "markdown",
      "metadata": {
        "id": "YUR6fBxlqMgC"
      },
      "source": [
        "## Mapa auto organizado (SOM)\n",
        "\n",
        "Un mapa auto organizado o SOM por sus siglas en inglés (self-organized map) es una de las redes neuronales más sencilla y facile de implementar pero no por eso es un algoritmo que que no tenga aplicación actualmente.\n",
        "\n",
        "Este tipo de red neuronal fue creado en la decada de los 80's por el por el finlandés Teuvo Kohonen y se basa en modelos matemáticos de Alan Turing.\n",
        "\n",
        "La idea detras de este algoritmo es muy sencilla y se describe de manera breve a continuación:\n",
        "\n",
        "*   Comenzamos con una red o mapa (matriz) de vectores o incluso de matrices en la cual todas las neuronas o entradas del mapa contienen valores aleatorios.\n",
        "*   Por cada elemento en la lista de entrenamiento, se evalua la norma (distancia) de este elemento contra cada neurona en la red.\n",
        "*   Tomamos aquella neurona cuya norma haya sido la menor y modificamos los valores de las neuronas vecinas para que parezcan un poco al vector evaluado en esa iteración.\n",
        "*   Se repite este proceso hasta terminar las interaciones o si la norma de la red actual y la red anterior no difiere mucho.\n",
        "\n",
        "\n",
        "\n"
      ]
    },
    {
      "cell_type": "markdown",
      "metadata": {
        "id": "FQdgCiNDrBRg"
      },
      "source": [
        "### Formalización del algoritmo\n",
        "\n",
        "Para dar un formalización de este algoritmo es necesario definir un conjunto de variables que son usadas durante el proceso de entrenamiento y clasificación de la red nuronal\n"
      ]
    },
    {
      "cell_type": "markdown",
      "metadata": {
        "id": "JGzJ_yoeEYGI"
      },
      "source": [
        "#### Variables\n",
        "\n",
        "*   $s$ es la iteración actual.\n",
        "*   $\\lambda$ cantidad de ciclos de entrenamiento o epocas.\n",
        "*   $t$ es el índice del vector de entrada en el conjunto de datos de entrada $D$.\n",
        "*   $D(t)$ es un vector de entrada de índice $t$ del conjunto de datos de entrada $D$.\n",
        "*   $v$ es el índice de una neurona en el mapa.\n",
        "*   $W_v$ es el vector de pesos de la neurona v.\n",
        "*   $u$ es el índice de la neurona cuya norma es la menor con respecto de $W_v$\n",
        "*   $\\Theta (u,v,s)$ es la función de vecindad que determina cuáles neuronas seran modificadas.\n",
        "*   $\\alpha (s)$ es una función que restrinje el aprendizaje conforme avanzan las iteraciones."
      ]
    },
    {
      "cell_type": "markdown",
      "metadata": {
        "id": "iNvm0iYHEaVH"
      },
      "source": [
        "#### Algoritmo\n",
        "\n",
        "1.   Hacer un mapa (red) de neuronas con vectores de pesos aleatorios.\n",
        "2.   Tomar un vector de entrada $D(t)$.\n",
        "\n",
        ">1.   Iterar por cada neurona del mapa.\n",
        "\n",
        ">>1.   Calcular la distancia entre el vector de entrada y los vectores de pesos de las neuronas del mapa.\n",
        "2.   Mantener la neurona que ha tenido la menor distancia (norma), esta neurona será el best matching unit (BMU).\n",
        "\n",
        ">2.   Actualizar las neuronas en la vecindad del BMU.\n",
        "\n",
        ">> 1.   $W_{v}\\left(s+1\\right)=W_{v}\\left(s\\right)+\\Theta\\left(u,v,s\\right)\\alpha\\left(s\\right)\\left(D\\left(t\\right)-W_{v}\\left(s\\right)\\right)$\n",
        "\n",
        "3.   Incrementar $s$ y volver al paso 2, mientras $s<\\lambda$.\n",
        "\n",
        "\n"
      ]
    },
    {
      "cell_type": "markdown",
      "metadata": {
        "id": "2t_BRrcZMhm1"
      },
      "source": [
        "## Tensor Flow\n",
        "\n",
        "Tensor Flow es un API desarrollado por Google que tiene la finalidad de facilitar la implementación de redes neuronales.\n",
        "\n",
        "Se usa en multiples aplicaciones de Google como su **reconocimiento automatizado de imagenes** en el buscador o en el **reconocimiento de patrones de voz** para su asistente virtual.\n",
        "\n",
        "Existen versiones de Tensor Flow optimizadas para hacer uso de GPU's (unidades de procesamiento grafico) o incluso de TPU's (unidades de procesamiento tensorial).\n",
        "\n",
        "Actualmente se encuentra en su versión 2.3 sin embargo para el ejemplo que veremos haremos uso de la versión 1.1.\n",
        "\n",
        "Su funcionamiento es muy intuitivo y se recomienda revisar su [documentación](https://www.tensorflow.org/api_docs) para una mayor comprensión del código mostrado a continuación"
      ]
    },
    {
      "cell_type": "markdown",
      "metadata": {
        "id": "pdVDqeHfJZW1"
      },
      "source": [
        "## Implementación\n",
        "\n",
        "Para tener una mejor organización del algoritmo y mediante el paradigma orientado a objetos, se crea la **clase SOM** que encapsula las acciones que podemos llevar a cabo con un SOM.\n",
        "\n",
        "El código ha sido comentado para su mejor comprensión pero de manera general implementa el algoritmo descrito previamente."
      ]
    },
    {
      "cell_type": "code",
      "metadata": {
        "id": "85Aws8yJGKXm",
        "outputId": "a5f157bb-86e5-4726-cbeb-cccfa98c0d99",
        "colab": {
          "base_uri": "https://localhost:8080/",
          "height": 474
        }
      },
      "source": [
        "!pip install tensorflow==1.1\n",
        "import tensorflow as tf\n",
        "import numpy as np\n",
        "from matplotlib import pyplot as plt\n",
        "#%tensorflow_version 1.x\n",
        " \n",
        "class SOM(object):\n",
        "    \"\"\"\n",
        "    Clase que representa una red neuronal tipo SOM.\n",
        "    \"\"\"\n",
        " \n",
        "    #Para revisar si la red ya ha sido entrenada\n",
        "    _trained = False\n",
        " \n",
        "    def __init__(self, m, n, dim, n_iterations=100, alpha=None, sigma=None):\n",
        "        \"\"\"\n",
        "        Constructor que toma como parametros los valores descritos en el\n",
        "        algoritmo SOM. Genera un mapa de m renglones por n columnas y se entrenara\n",
        "        con n_iterations\n",
        "        \"\"\"\n",
        " \n",
        "        #Se inicializan variables que seran usadas a lo largo del coidgo\n",
        "        self._m = m\n",
        "        self._n = n\n",
        "        if alpha is None:\n",
        "            alpha = 0.3\n",
        "        else:\n",
        "            alpha = float(alpha)\n",
        "        if sigma is None:\n",
        "            sigma = max(m, n) / 2.0\n",
        "        else:\n",
        "            sigma = float(sigma)\n",
        "        self._n_iterations = abs(int(n_iterations))\n",
        " \n",
        "        '''SE NECESITA UNA GRAFICA (PLANO), hay una grafica\n",
        "        por default pero la guardamos en _graph'''\n",
        "        self._graph = tf.Graph()\n",
        " \n",
        "        '''SE CREAN LOS ELEMENTOS NECESARIOS EN LA GRAFICA'''\n",
        "        with self._graph.as_default():\n",
        "            '''SE CREAN TODAS LAS NEURONAS CON tf.Variable, son m*n\n",
        "            neuronas con dim pesos, que seran comparados con los pesos\n",
        "            de la entrada y la que tenga la menor distancia sera la\n",
        "            neurona ganadora. Antes de iniciar el entrenamiento, hay\n",
        "            hay que inicializar TODAS las variables'''\n",
        "            \n",
        "            '''Lista de pesos de los vectores de la red neuronal'''\n",
        "            self._weightage_vects = tf.Variable(tf.random_normal(\n",
        "                [m*n, dim]))\n",
        " \n",
        "            '''Lista de 600 entradas, y cada entrada representa una\n",
        "            coordenada en la cual se encuentra cada neurona'''\n",
        "            self._location_vects = tf.constant(np.array(\n",
        "                list(self._neuron_locations(m, n))))\n",
        " \n",
        "            '''self._vect_input es un placeholder de tamano dim, ya que\n",
        "            es el objeto que sera alimentado con el vector de entrada y\n",
        "            a su vez este sera comparado con los pesos de cada neurona.\n",
        "            Esto es asi por el framework que da tensorflow'''\n",
        "            self._vect_input = tf.placeholder(\"float\", [dim])\n",
        "            \n",
        "            '''Lo mismo sucede con esta variable, la diferencia es que en\n",
        "            este punto aun no se sabe cuantas iteraciones (epocas) seran\n",
        "            necesarias, asi que se deja en cero.'''\n",
        "            self._iter_input = tf.placeholder(\"float\")\n",
        " \n",
        "            '''Devuelve el indice con el menor valor, es decir la neurona mas cercana.'''\n",
        "            bmu_index = tf.argmin(tf.sqrt(tf.reduce_sum(\n",
        "                tf.pow(tf.subtract(self._weightage_vects, tf.stack(\n",
        "                    [self._vect_input for i in range(m*n)])), 2), 1)),\n",
        "                                  0)\n",
        " \n",
        "            '''Variable que guarda el indice y un espacio para el sus\n",
        "            coordenada'''\n",
        "            slice_input = tf.pad(tf.reshape(bmu_index, [1]),\n",
        "                                 np.array([[0, 1]]))\n",
        "            bmu_loc = tf.reshape(tf.slice(self._location_vects, slice_input,\n",
        "                                          tf.constant(np.array([1, 2]))),\n",
        "                                 [2])\n",
        " \n",
        "            '''Valores necesario para actualizar los pesos de las neuronas\n",
        "            de acuerdo a la iteracion (epoca)'''\n",
        "            learning_rate_op = tf.subtract(1.0, tf.div(self._iter_input,\n",
        "                                                  self._n_iterations))\n",
        "            _alpha_op = tf.multiply(alpha, learning_rate_op)\n",
        "            _sigma_op = tf.multiply(sigma, learning_rate_op)\n",
        " \n",
        "            '''Calcula las distancias al cuadrado por cada neurona con respecto\n",
        "            a la neurona GANADORA (BMU). De tal manera que estos valores\n",
        "            puedan ser empleados para actualizar los pesos de los vecinos'''\n",
        "            bmu_distance_squares = tf.reduce_sum(tf.pow(tf.subtract(\n",
        "                self._location_vects, tf.stack(\n",
        "                    [bmu_loc for i in range(m*n)])), 2), 1)\n",
        "            neighbourhood_func = tf.exp(tf.negative(tf.div(tf.cast(\n",
        "                bmu_distance_squares, \"float32\"), tf.pow(_sigma_op, 2))))\n",
        "            learning_rate_op = tf.multiply(_alpha_op, neighbourhood_func)\n",
        " \n",
        "            '''Tasa de aprendizaje para actualizar los pesos de las neuronas'''\n",
        "            learning_rate_multiplier = tf.stack([tf.tile(tf.slice(\n",
        "                learning_rate_op, np.array([i]), np.array([1])), [dim])\n",
        "                                               for i in range(m*n)])\n",
        "            weightage_delta = tf.multiply(\n",
        "                learning_rate_multiplier,\n",
        "                tf.subtract(tf.stack([self._vect_input for i in range(m*n)]),\n",
        "                       self._weightage_vects)) \n",
        "            \n",
        "            '''Actualiza todos los pesos de las neuronas de acuerdo a los\n",
        "            parametros calculados previamente'''                                        \n",
        "            new_weightages_op = tf.add(self._weightage_vects,\n",
        "                                       weightage_delta)\n",
        "            \n",
        "            '''Se guarda la ultima operacion realizada en la SOM, ya que\n",
        "            esta operacion sera la que se ejecute y a su vez ejecuta todas\n",
        "            las operaciones previar al llamar a sess.run()'''\n",
        "            self._training_op = tf.assign(self._weightage_vects,\n",
        "                                          new_weightages_op)                                       \n",
        " \n",
        "            '''En tensorflow todo debe ocurrir dentro de una sesion, es por\n",
        "            este motivo que se guarda la sesion'''\n",
        "            self._sess = tf.Session()\n",
        " \n",
        "            '''Forma en la tensorflow inicializa sus variables antes de ser\n",
        "            utilizadas'''\n",
        "            init_op = tf.initialize_all_variables()\n",
        "            self._sess.run(init_op)\n",
        "            \n",
        "            '''centroid_grid es un mapa de bits en el cual se guardan los\n",
        "            valores de las neuronas. Es de tamano m, por que para cada renglon\n",
        "            se tienen n neuronas y sus respectivos valores. '''\n",
        "            centroid_grid = [[] for i in range(self._m)]\n",
        "            self._weightages = list(self._sess.run(self._weightage_vects))\n",
        "            self._locations = list(self._sess.run(self._location_vects))\n",
        "    \n",
        "            '''Con este for, se accede a cada neurona por posicion y se guarda\n",
        "            en centroid_grid sus pesos. El resultado es un mapa de bits que puede\n",
        "            ser facilmente graficado por matplotlib. Es el mapa incial (SIN ENTRENAR)'''\n",
        "            for i, loc in enumerate(self._locations):\n",
        "                centroid_grid[loc[0]].append(self._weightages[i])\n",
        "            self._mapa_inicial = centroid_grid\n",
        " \n",
        "    def _neuron_locations(self, m, n):\n",
        "        '''Yield regresa un generador flojo, y hasta que es necesario\n",
        "        se evalua. Esto se hace para que no haya informacion no necesaria\n",
        "        en memoria. En el constructor el resultado de esta funcion se\n",
        "        mete en una lista para que sea accesible de inmediato'''\n",
        "        for i in range(m):\n",
        "            for j in range(n):\n",
        "                yield np.array([i, j])\n",
        " \n",
        "    def train(self, input_vects):\n",
        "        '''Para cada iteracion (epoca) se realiza el entrenamiento'''\n",
        "        for iter_no in range(self._n_iterations):\n",
        "            actual = self._sess.run(tf.norm(self._weightage_vects))\n",
        "            #Se entrena con cada vector uno por uno\n",
        "            for input_vect in input_vects:\n",
        "                self._sess.run(self._training_op,\n",
        "                               feed_dict={self._vect_input: input_vect,\n",
        "                                          self._iter_input: iter_no})\n",
        "            siguiente = self._sess.run(tf.norm(self._weightage_vects))\n",
        "            '''Si la norma del mapa actual no varia mucho con respecto\n",
        "            al siguiente, se rompe el ciclo de las epocas'''\n",
        "            if abs(siguiente - actual) <= 0.000001:\n",
        "                break\n",
        " \n",
        "        '''centroid_grid es un mapa de bits en el cual se guardan los\n",
        "            valores de las neuronas. Es de tamano m, por que para cada renglon\n",
        "            se tienen n neuronas y sus respectivos valores. '''\n",
        "        centroid_grid = [[] for i in range(self._m)]\n",
        "        self._weightages = list(self._sess.run(self._weightage_vects))\n",
        "        self._locations = list(self._sess.run(self._location_vects))\n",
        "        \n",
        "        '''Con este for, se accede a cada neurona por posicion y se guarda\n",
        "            en centroid_grid sus pesos. El resultado es un mapa de bits que puede\n",
        "            ser facilmente graficado por matplotlib. En este punto la red ya esta entrenada.'''\n",
        "        for i, loc in enumerate(self._locations):\n",
        "            centroid_grid[loc[0]].append(self._weightages[i])\n",
        "        self._centroid_grid = centroid_grid\n",
        " \n",
        "        '''En este punto la red ya esta entrenada.'''\n",
        "        self._trained = True\n",
        " \n",
        "    def get_centroids(self):\n",
        "        # Solo devuelve los centroides para que puendan ser graficados\n",
        "        if not self._trained:\n",
        "            raise ValueError(\"La red aun no ha sido entrenada\")\n",
        "        return self._centroid_grid\n",
        " \n",
        "    def map_vects(self, input_vects):\n",
        "        '''to_return es la lista que contiene las coordenadas (x,y) de la\n",
        "        neurona que mas se parece a cada una de las entradas de input_vects\n",
        "        en el mismo orden'''\n",
        " \n",
        "        if not self._trained:\n",
        "            raise ValueError(\"SOM not trained yet\")\n",
        " \n",
        "        to_return = []\n",
        "        for vect in input_vects:\n",
        "            min_index = min([i for i in range(len(self._weightages))],\n",
        "                            key=lambda x: np.linalg.norm(vect-\n",
        "                                                         self._weightages[x]))\n",
        "            to_return.append(self._locations[min_index])\n",
        " \n",
        "        return to_return\n",
        "    \n",
        "    def map_vect(self, vect):\n",
        "        '''\n",
        "        Mapea un solo vector y devuelve la clasificacion vista como\n",
        "        un indice relacionado a la coordenada (x,y) de la neurona\n",
        "        '''\n",
        "\n",
        "        min_index = min([i for i in range(len(self._weightages))],\n",
        "                        key=lambda x: np.linalg.norm(\n",
        "                            vect - self._weightages[x]))\n",
        "        pos2D = self._locations[min_index]\n",
        "        # polinomio de direccionamiento de la neurona\n",
        "        #return pos2D[0]*self._m + pos2D[1], pos2D\n",
        "        return (pos2D[1], pos2D[0])"
      ],
      "execution_count": 1,
      "outputs": [
        {
          "output_type": "stream",
          "text": [
            "Collecting tensorflow==1.1\n",
            "\u001b[?25l  Downloading https://files.pythonhosted.org/packages/cd/e4/b2a8bcd1fa689489050386ec70c5c547e4a75d06f2cc2b55f45463cd092c/tensorflow-1.1.0-cp36-cp36m-manylinux1_x86_64.whl (31.4MB)\n",
            "\u001b[K     |████████████████████████████████| 31.4MB 143kB/s \n",
            "\u001b[?25hRequirement already satisfied: numpy>=1.11.0 in /usr/local/lib/python3.6/dist-packages (from tensorflow==1.1) (1.18.5)\n",
            "Requirement already satisfied: werkzeug>=0.11.10 in /usr/local/lib/python3.6/dist-packages (from tensorflow==1.1) (1.0.1)\n",
            "Requirement already satisfied: protobuf>=3.2.0 in /usr/local/lib/python3.6/dist-packages (from tensorflow==1.1) (3.12.4)\n",
            "Requirement already satisfied: six>=1.10.0 in /usr/local/lib/python3.6/dist-packages (from tensorflow==1.1) (1.15.0)\n",
            "Requirement already satisfied: wheel>=0.26 in /usr/local/lib/python3.6/dist-packages (from tensorflow==1.1) (0.35.1)\n",
            "Requirement already satisfied: setuptools in /usr/local/lib/python3.6/dist-packages (from protobuf>=3.2.0->tensorflow==1.1) (50.3.0)\n",
            "Installing collected packages: tensorflow\n",
            "  Found existing installation: tensorflow 2.3.0\n",
            "    Uninstalling tensorflow-2.3.0:\n",
            "      Successfully uninstalled tensorflow-2.3.0\n",
            "Successfully installed tensorflow-1.1.0\n"
          ],
          "name": "stdout"
        },
        {
          "output_type": "stream",
          "text": [
            "/usr/local/lib/python3.6/dist-packages/tensorflow/python/framework/dtypes.py:455: FutureWarning: Passing (type, 1) or '1type' as a synonym of type is deprecated; in a future version of numpy, it will be understood as (type, (1,)) / '(1,)type'.\n",
            "  _np_qint8 = np.dtype([(\"qint8\", np.int8, 1)])\n",
            "/usr/local/lib/python3.6/dist-packages/tensorflow/python/framework/dtypes.py:456: FutureWarning: Passing (type, 1) or '1type' as a synonym of type is deprecated; in a future version of numpy, it will be understood as (type, (1,)) / '(1,)type'.\n",
            "  _np_quint8 = np.dtype([(\"quint8\", np.uint8, 1)])\n",
            "/usr/local/lib/python3.6/dist-packages/tensorflow/python/framework/dtypes.py:457: FutureWarning: Passing (type, 1) or '1type' as a synonym of type is deprecated; in a future version of numpy, it will be understood as (type, (1,)) / '(1,)type'.\n",
            "  _np_qint16 = np.dtype([(\"qint16\", np.int16, 1)])\n",
            "/usr/local/lib/python3.6/dist-packages/tensorflow/python/framework/dtypes.py:458: FutureWarning: Passing (type, 1) or '1type' as a synonym of type is deprecated; in a future version of numpy, it will be understood as (type, (1,)) / '(1,)type'.\n",
            "  _np_quint16 = np.dtype([(\"quint16\", np.uint16, 1)])\n",
            "/usr/local/lib/python3.6/dist-packages/tensorflow/python/framework/dtypes.py:459: FutureWarning: Passing (type, 1) or '1type' as a synonym of type is deprecated; in a future version of numpy, it will be understood as (type, (1,)) / '(1,)type'.\n",
            "  _np_qint32 = np.dtype([(\"qint32\", np.int32, 1)])\n",
            "/usr/local/lib/python3.6/dist-packages/tensorflow/python/framework/dtypes.py:462: FutureWarning: Passing (type, 1) or '1type' as a synonym of type is deprecated; in a future version of numpy, it will be understood as (type, (1,)) / '(1,)type'.\n",
            "  np_resource = np.dtype([(\"resource\", np.ubyte, 1)])\n"
          ],
          "name": "stderr"
        }
      ]
    },
    {
      "cell_type": "markdown",
      "metadata": {
        "id": "ZABpYxgBKIpq"
      },
      "source": [
        "### Métodos relevantes\n",
        "\n",
        "Todo el código escrito para la clase SOM tiene un objetivo en específico sin embargo para fines prácticos nos enfocaremos en un par de métodos que tienen relación directa con el concepto de norma."
      ]
    },
    {
      "cell_type": "markdown",
      "metadata": {
        "id": "TYXbD2XBKhTb"
      },
      "source": [
        "#### Método *train*\n",
        "\n",
        "Este método se encarga de realizar el ciclo de entrenamiento de la red neuronal, en este método se compara cada uno de los vectores de entrada contra todas las neuronas de la red.\n",
        "\n",
        "Una vez que se localiza la BMU se actualizan los pesos de las neuronas vecinas empleando la funcion de vecindad y la funcion de aprendizaje.\n",
        "\n",
        "El entrenamiento concluye una vez que han terminado las iteraciones o epocas, aunque también se concluye el entrenamiento si las redes en la iteración actual y en la siguiente no difieren demasiado y eso lo sabemos **calculando la norma a ambas redes**."
      ]
    },
    {
      "cell_type": "markdown",
      "metadata": {
        "id": "xHbfmowIXru0"
      },
      "source": [
        "#### Método *map_vect*\n",
        "\n",
        "Este método es el encargado de recibir un vector y devolvernos la neurona (en forma de coordenada dentro del mapa) cuya distancia (empleando la norma) sea la menor, eso significa que esa neurona es la más parecida al vector de entrada, en otras palabras obtenemos la clasificación del vector que le mostramos a la red.\n",
        "\n",
        "Si conocemos el nombre o identificador de la neurona que se parece al vector de entrada podemos asignarle esa clasificación al vector de entrada.\n",
        "\n",
        "En esta implementación se usan colores, de manera que al mostrar un color en forma de vector (R, G, B) esta red nos indica a que color se parece mas un vector."
      ]
    },
    {
      "cell_type": "markdown",
      "metadata": {
        "id": "C_Ym3FtKRP1t"
      },
      "source": [
        "## Ejecución\n",
        "\n",
        "Se define una lista de colores en formato RGB (red blue green) para entrenar a la red neuronal. De igual manera se crea una lista con los nombres de los colores en la lista de colores.\n",
        "\n",
        "Se genera un objeto de tipo SOM con sus respectivos parametros.\n",
        "\n",
        "Mostramos la red inicial con colores aleatorios.\n",
        "\n",
        "Se entrena la red de acuerdo a la descripción del algoritmo y a las restricciones del mismo.\n",
        "\n",
        "Posteriormente se muestra la red entrenada.\n",
        "\n",
        "Finalmente se le muestra un color en forma de vector a la red neuronal ya entrenada y esta devuelve un par de coordenadas, lo que en otras palabras significa que nos vevuelve las coordenadas de la neurona que se parece más al color mostrado. En otras palabras nos devuelve una clasificación del color mostrado."
      ]
    },
    {
      "cell_type": "code",
      "metadata": {
        "id": "oYjY41_oGwmq",
        "outputId": "a9ca814c-7967-440a-c0d5-d8e287604101",
        "colab": {
          "base_uri": "https://localhost:8080/",
          "height": 649
        }
      },
      "source": [
        "import numpy as np\n",
        "from matplotlib import pyplot as plt\n",
        " \n",
        "# Vectores de entrenamiento RGBcolors\n",
        "colores = np.array(\n",
        "     [[0., 0., 0.],\n",
        "      [0., 0., 1.],\n",
        "      [0., 0., 0.5],\n",
        "      [0.125, 0.529, 1.0],\n",
        "      [0.33, 0.4, 0.67],\n",
        "      [0.6, 0.5, 1.0],\n",
        "      [0., 1., 0.],\n",
        "      [1., 0., 0.],\n",
        "      [0., 1., 1.],\n",
        "      [1., 0., 1.],\n",
        "      [1., 1., 0.],\n",
        "      [1., 1., 1.],\n",
        "      [.33, .33, .33],\n",
        "      [.5, .5, .5],\n",
        "      [.66, .66, .66]])\n",
        "nombres_colores = \\\n",
        "    ['negro', 'azul', 'azul marino', 'azul cielo',\n",
        "     'gris azulado', 'lila', 'verde', 'rojo',\n",
        "     'cyan', 'violeta', 'amarillo', 'blanco',\n",
        "     'gris obscuro', 'gris medio', 'gris claro']\n",
        " \n",
        "# Creamos un SOM de 20x30, cada entrada de la red\n",
        "# es un vector de tamano 3 (R,G,B) y se entrena 400 veces\n",
        "som = SOM(20, 30, 3, 400)\n",
        "\n",
        "# Se muestra el mapa inicial\n",
        "mapa_inicial = som._mapa_inicial\n",
        "plt.imshow(mapa_inicial)\n",
        "plt.title('Red Neuronal Inicial')\n",
        "plt.show()\n",
        "\n",
        "# Se entrena la red con un conjunto de colores\n",
        "som.train(colores)\n",
        " \n",
        "# Obtenemos el SOM ya entrenado\n",
        "red_entrenada = som.get_centroids()\n",
        " \n",
        "# Contiene la lista de coordenadas de los correspondientes colores\n",
        "mapped = som.map_vects(colores)\n",
        " \n",
        "# Grafica\n",
        "plt.imshow(red_entrenada)\n",
        "plt.title('Red Neuronal Entrenada')\n",
        "for i, m in enumerate(mapped):\n",
        "    plt.text(m[1], m[0], nombres_colores[i], ha='center', va='center',\n",
        "             bbox=dict(facecolor='white', alpha=0.5, lw=0))\n",
        "plt.show()\n",
        "\n",
        "# Se le muestra un color en forma de vector, en este caso azul cielo\n",
        "# para que indique a que neurona se parece mas\n",
        "print(\"El color azul cielo se encuentra en la neurona \"+str(som.map_vect([0.125, 0.529, 1.0])))\n",
        "\n"
      ],
      "execution_count": 3,
      "outputs": [
        {
          "output_type": "stream",
          "text": [
            "WARNING:tensorflow:From <ipython-input-1-81768f1a0663>:124: initialize_all_variables (from tensorflow.python.ops.variables) is deprecated and will be removed after 2017-03-02.\n",
            "Instructions for updating:\n",
            "Use `tf.global_variables_initializer` instead.\n"
          ],
          "name": "stdout"
        },
        {
          "output_type": "stream",
          "text": [
            "Clipping input data to the valid range for imshow with RGB data ([0..1] for floats or [0..255] for integers).\n"
          ],
          "name": "stderr"
        },
        {
          "output_type": "display_data",
          "data": {
            "image/png": "[encoded data removed]",
            "text/plain": [
              "<Figure size 432x288 with 1 Axes>"
            ]
          },
          "metadata": {
            "tags": [],
            "needs_background": "light"
          }
        },
        {
          "output_type": "display_data",
          "data": {
            "image/png": "[encoded data removed]",
            "text/plain": [
              "<Figure size 432x288 with 1 Axes>"
            ]
          },
          "metadata": {
            "tags": [],
            "needs_background": "light"
          }
        },
        {
          "output_type": "stream",
          "text": [
            "El color azul cielo se encuentra en la neurona (23, 0)\n"
          ],
          "name": "stdout"
        }
      ]
    },
    {
      "cell_type": "markdown",
      "metadata": {
        "id": "7nKaftH_QgXy"
      },
      "source": [
        "### Mostrando mas colores\n",
        "\n",
        "Una vez que la red (mapa) ya fue entrenada, es posible mostrarle cualquier color en forma de vector (R,G,B) y la red nos mostrara que clasificación le corresponde, por ejemplo."
      ]
    },
    {
      "cell_type": "code",
      "metadata": {
        "id": "MCR8gKF2Q70u",
        "outputId": "057055b4-f40d-4bbb-d44c-73f934c78c8d",
        "colab": {
          "base_uri": "https://localhost:8080/",
          "height": 34
        }
      },
      "source": [
        "print(\"El color amarillo se encuentra en la neurona \"+str(som.map_vect([1., 1., 0.])))\n"
      ],
      "execution_count": 8,
      "outputs": [
        {
          "output_type": "stream",
          "text": [
            "El color amarillo se encuentra en la neurona (21, 19)\n"
          ],
          "name": "stdout"
        }
      ]
    },
    {
      "cell_type": "markdown",
      "metadata": {
        "id": "Jd-B7cS3caHl"
      },
      "source": [
        "## Extendiendo este modelo\n",
        "\n",
        "La implementación en este documento se realizo con colores, ya que facilitan la comprensión del funcionamiento del algoritmo en general.\n",
        "\n",
        "Sin ambargo esta red neuronal puede ser aplicada a cualquier espacio vectorial, en otras palabras, este algoritmo puede ser aplicado a cualquier objeto que podamos representar en forma de vector o matriz."
      ]
    },
    {
      "cell_type": "markdown",
      "metadata": {
        "id": "DOr5r_Zfdzg4"
      },
      "source": [
        "### Clasificación de Documentos o Imágenes\n",
        "\n",
        "Para clasificar documentos el algoritmo es exactamente el mismo, lo único que cambia es que tenemos que obtener un **vector caracteristico** para los documentos que nos interes clasificar. Este vector caracteristico se puede obtener de formas muy variadas y una de ellas es **contando la frecuencia de las plabras** que aparecen en dicho documento.\n",
        "\n",
        "Respecto a la clasificación de imágenes, una imagen finalmente es un **mapa de pixeles**, mismo que puede ser representado por un vector de vectores, es decir un **vector de colores**, lo que en si ya un vector caracteristico de dicha imágen."
      ]
    },
    {
      "cell_type": "markdown",
      "metadata": {
        "id": "dAh_UjLcaKr7"
      },
      "source": [
        "## Referencias\n",
        "\n",
        "*   https://codesachin.wordpress.com/2015/11/28/self-organizing-maps-with-googles-tensorflow/\n",
        "*   http://www.saedsayad.com/clustering_som.htm\n",
        "*   https://www.tensorflow.org/install\n",
        "*   https://relopezbriega.github.io/blog/2016/06/05/tensorflow-y-redes-neuronales/\n",
        "\n"
      ]
    }
  ]
}