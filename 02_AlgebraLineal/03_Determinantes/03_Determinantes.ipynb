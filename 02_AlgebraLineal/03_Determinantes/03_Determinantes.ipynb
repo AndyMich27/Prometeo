{
  "nbformat": 4,
  "nbformat_minor": 0,
  "metadata": {
    "colab": {
      "name": "Determinantes.ipynb",
      "provenance": []
    },
    "kernelspec": {
      "name": "python3",
      "display_name": "Python 3"
    }
  },
  "cells": [
    {
      "cell_type": "markdown",
      "metadata": {
        "id": "PXwwyE67obC2",
        "colab_type": "text"
      },
      "source": [
        "# Determinantes\n",
        "# Papime pe101019\n",
        "### Última modificación: 9-Septiembre-2020 12:59\n",
        "### Autor: Maria Fernanda Ocampo \n",
        "\n",
        "\n",
        "### Problema inicial\n",
        "\n",
        "Calcular el área de un triángulo cuyos vértices son: A(2, 0), B(3,4) y C(-2,5)\n",
        "\n",
        "### Introducción\n",
        "\n",
        "La función determinante de una matriz es una herramienta que nos permite clasificar los sistemas de ecuaciones lineales según sus soluciones.\n",
        "La definicón de determinante no es sencilla, sin embargo existen reglas que ayudan a obtenerlo dependeiendo la dimensión de la matriz, es importante saber que esto solo funciona con matrices cuadradas.\n",
        "\n",
        "Algo que tambien es importante mencionar es que los determinantes son de gran utilidad por ejemplo para:\n",
        "\n",
        "- CÁLCULO DE ÁREAS DE FIGURAS EN EL PLANO\n",
        "El cálculo de áreas de polígonos en el plano, de los que se conocen o bien las coordenadas de los vértices o bien las de ciertos vectores, puede efectuarse mediante el cálculo de determinantes. \n",
        "\n",
        "-OBTENCIÓN DE LA ECUACIÓN IMPLÍCITA DE UN PLANO\n",
        "La obtención de la ecuación implícita de un plano, puede efectuarse mediante el desarrollo de un determinante nulo, cuyas entradas están en función de las coordenadas de tres puntos no alineados de dicho plano.\n",
        "\n",
        "\n",
        "Si tenemos una matriz de la siguiente forma:\n",
        "\n",
        "\n",
        "\\begin{equation} A_{1x1}=\n",
        "\\begin{pmatrix}\n",
        " a_{11} \n",
        "\\end{pmatrix}\n",
        "\\end{equation}\n",
        "\n",
        "entonces det(A)= $ a_{11} $\n",
        "\n",
        "para una matriz de 2x2, es decir:\n",
        "\n",
        "\\begin{equation} A_{2x2} =\n",
        "\\begin{pmatrix}\n",
        "a_{11} & a_{12} \\\\\n",
        "a_{21} & a_{22} \n",
        "\\end{pmatrix}\n",
        "\\end{equation}\n",
        "\n",
        "entonces det(A)= $ a_{11} $ x $ a_{22} $ - $ a_{12} $ x $ a_{21} $"
      ]
    },
    {
      "cell_type": "markdown",
      "metadata": {
        "id": "u6UWbzAaodEw",
        "colab_type": "text"
      },
      "source": [
        "El cálculo de los determinantes se vuelve mas complejo conforme la dimensión de la matriz aumenta.\n",
        "A continuación se muestra como otener el determinante con numpy."
      ]
    },
    {
      "cell_type": "code",
      "metadata": {
        "id": "ULGrQZtf8p0_",
        "colab_type": "code",
        "colab": {
          "base_uri": "https://localhost:8080/",
          "height": 238
        },
        "outputId": "0ec1f9d9-164f-4aa0-9925-c7e1020064fe"
      },
      "source": [
        "import numpy as np\n",
        "print(\"Ingrese la matriz a la que se le sacará el determinante\")\n",
        "#pedimos que nos de el número de filas y columnas que tiene la matriz\n",
        "print(\"Recuerde que debe ingresar una matriz cuadrada\")\n",
        "filas = int(input (\"Indique el número de filas: \"))\n",
        "\n",
        "#creamos la matriz en las que se guardarán los valores que el usuario proporcione \n",
        "matriz1 = np.zeros((filas,filas))\n",
        "#le pedimos que ingrese la matriz elemento por elemento y vamos llenando\n",
        "print ('Ingrese la matriz')\n",
        "for i in range(filas):\n",
        "\t\tfor j in range(filas):\n",
        "\t\t\tmatriz1[i][j] = np.array( float(input('Elemento (%d,%d): ' % (i, j))))\n",
        "print(\"su matriz es:\")\n",
        "print(matriz1)\n",
        "#sacamos el determinante\n",
        "print(\"El determinante de su matriz es:\")\n",
        "z= np.linalg.det(matriz1)\n",
        "print(z)"
      ],
      "execution_count": null,
      "outputs": [
        {
          "output_type": "stream",
          "text": [
            "Ingrese la matriz a la que se le sacará el determinante\n",
            "Recuerde que debe ingresar una matriz cuadrada\n",
            "Indique el número de filas: 2\n",
            "Ingrese la matriz\n",
            "Elemento (0,0): 11\n",
            "Elemento (0,1): 21\n",
            "Elemento (1,0): 34\n",
            "Elemento (1,1): 2\n",
            "su matriz es:\n",
            "[[11. 21.]\n",
            " [34.  2.]]\n",
            "El determinante de su matriz es:\n",
            "-691.9999999999998\n"
          ],
          "name": "stdout"
        }
      ]
    },
    {
      "cell_type": "markdown",
      "metadata": {
        "id": "xYIjLIRBVmk7",
        "colab_type": "text"
      },
      "source": [
        "## Propiedades de los determinantes\n",
        "\n",
        "* El determinante de una matriz triangular es igual al producto de sus componentes en la diagonal.\n",
        "Es decir que sea A una matriz como la que se muestra a continuacion:\n",
        "\n",
        "\\begin{equation} A_{nxn} =\n",
        "\\begin{pmatrix}\n",
        "a_{11} & 0 & \\cdots & 0\\\\\n",
        "a_{21} & a_{22} & \\cdots & 0\\\\\n",
        "\\vdots & \\vdots & \\ddots & \\vdots\\\\\n",
        "a_{n1} & a_{n2} & \\cdots & a_{nn}\n",
        "\\end{pmatrix}\n",
        "\\end{equation}\n",
        "\n",
        "Entonces det(A)= $a_{11}$*$a_{22}$*$a_{33}$*....*$a_{nn}$\n",
        "\n"
      ]
    },
    {
      "cell_type": "code",
      "metadata": {
        "id": "dWKrxIHwablP",
        "colab_type": "code",
        "colab": {
          "base_uri": "https://localhost:8080/",
          "height": 119
        },
        "outputId": "3b112f09-e07f-4828-da8c-240a9859f36a"
      },
      "source": [
        "#Matriz diagonal \n",
        "import numpy as np\n",
        "print(\"Matriz diagonal A de dimensión 3x3, :\")\n",
        "\n",
        "A= np.array([[11,2,3],[0,1,4],[0,0,2]])\n",
        "print(A)\n",
        "\n",
        "#sacamos el determinante\n",
        "print(\"El determinante de su matriz es:\")\n",
        "d= np.linalg.det(A)\n",
        "print(d)"
      ],
      "execution_count": null,
      "outputs": [
        {
          "output_type": "stream",
          "text": [
            "Matriz A de dimensión 3x3, :\n",
            "[[11  2  3]\n",
            " [ 0  1  4]\n",
            " [ 0  0  2]]\n",
            "El determinante de su matriz es:\n",
            "22.000000000000004\n"
          ],
          "name": "stdout"
        }
      ]
    },
    {
      "cell_type": "markdown",
      "metadata": {
        "id": "o2mh1-BtdpMG",
        "colab_type": "text"
      },
      "source": [
        "Si una matriz B se obtiene intercambiando dos filas o intercambiando dos columnas de una matriz A entonces det(B) = −det(A)"
      ]
    },
    {
      "cell_type": "code",
      "metadata": {
        "id": "KfO7F7aueROm",
        "colab_type": "code",
        "colab": {
          "base_uri": "https://localhost:8080/",
          "height": 221
        },
        "outputId": "90cc47b3-a60e-47f7-f8ad-bcba0d327919"
      },
      "source": [
        " \n",
        "import numpy as np\n",
        "print(\"Matriz A de dimensión 2x2, :\")\n",
        "\n",
        "A= np.array([[11,2,3],[0,1,4],[6,4,2]])\n",
        "print(A)\n",
        "\n",
        "#sacamos el determinante de A\n",
        "print(\"El determinante de su matriz A es:\")\n",
        "d= np.linalg.det(A)\n",
        "print(d)\n",
        "print(\"Matriz B de dimensión 2x2, :\")\n",
        "B= np.array([[2,11,3],[1,0,4],[4,6,2]])\n",
        "print(B)\n",
        "\n",
        "#sacamos el determinante de B\n",
        "print(\"El determinante de su matriz B es:\")\n",
        "l= np.linalg.det(B)\n",
        "print(l)\n"
      ],
      "execution_count": null,
      "outputs": [
        {
          "output_type": "stream",
          "text": [
            "Matriz A de dimensión 2x2, :\n",
            "[[11  2  3]\n",
            " [ 0  1  4]\n",
            " [ 6  4  2]]\n",
            "El determinante de su matriz A es:\n",
            "-124.00000000000003\n",
            "Matriz B de dimensión 2x2, :\n",
            "[[ 2 11  3]\n",
            " [ 1  0  4]\n",
            " [ 4  6  2]]\n",
            "El determinante de su matriz B es:\n",
            "123.99999999999991\n"
          ],
          "name": "stdout"
        }
      ]
    },
    {
      "cell_type": "markdown",
      "metadata": {
        "id": "E2Uyf0gYoIK7",
        "colab_type": "text"
      },
      "source": [
        "Si A y B son matrices diagonales de nxn, entonces det AB=det A det B. \n",
        "\n",
        "Si A y B son matrices triangulares inferiores, entonces AB=det A det B. "
      ]
    },
    {
      "cell_type": "code",
      "metadata": {
        "id": "3y4O6h_-o2bH",
        "colab_type": "code",
        "colab": {
          "base_uri": "https://localhost:8080/",
          "height": 476
        },
        "outputId": "df7da644-fd0b-46dc-c4af-6167fff6387d"
      },
      "source": [
        "import numpy as np\n",
        "#primero pedimos que se nos den las matrices \n",
        "print(\"recuerde que deben ser matrices cuadradas y diagonales\")\n",
        "filas1 = int(input (\"Indique el número de filas y columnas de la matriz: \"))\n",
        "\n",
        "\n",
        "#creamos las matrices en las que se guardarán los valores que el usuario proporcione y los de la suma\n",
        "A = np.zeros((filas1,filas1))    \n",
        "B = np.zeros((filas1,filas1))   \n",
        " #llenamos la matriz 1 con los datos del usuario\n",
        "print (\"Ingrese la primer matriz\")\n",
        "\n",
        "for i in range(filas1):\n",
        "        for j in range(filas1):\n",
        "            A[i][j] = float(input('Elemento (%d,%d): ' % (i, j)))\n",
        "print( \"su matriz 1 es:\")\n",
        "print(A)\n",
        "#llenamos la matriz 2\n",
        "print (\"Ingrese la segunda matriz\")\n",
        "for i in range(filas1):\n",
        "        for j in range(filas1):\n",
        "            B[i][j] = float(input('Elemento (%d,%d): ' % (i, j)))\n",
        "print( \"su matriz 2 es:\")\n",
        "print(B)\n",
        "\n",
        "\n",
        "C = A.dot(B)\n",
        "print(\"El producto de las matrices es:\")\n",
        "    \n",
        "print (C)\n",
        "\n",
        "print(\"El determinante de su matriz A es:\")\n",
        "m= np.linalg.det(A)\n",
        "print(m)\n",
        "\n",
        "print(\"El determinante de su matriz B es:\")\n",
        "n= np.linalg.det(B)\n",
        "print(n)\n",
        "\n",
        "print(\"El determinante de su matriz A*B es:\")\n",
        "l= np.linalg.det(C)\n",
        "print(l)\n"
      ],
      "execution_count": null,
      "outputs": [
        {
          "output_type": "stream",
          "text": [
            "recuerde que deben ser matrices cuadradas y diagonales\n",
            "Indique el número de filas y columnas de la matriz: 2\n",
            "Ingrese la primer matriz\n",
            "Elemento (0,0): 2\n",
            "Elemento (0,1): 3\n",
            "Elemento (1,0): 0\n",
            "Elemento (1,1): 3\n",
            "su matriz 1 es:\n",
            "[[2. 3.]\n",
            " [0. 3.]]\n",
            "Ingrese la segunda matriz\n",
            "Elemento (0,0): 3\n",
            "Elemento (0,1): 4\n",
            "Elemento (1,0): 0\n",
            "Elemento (1,1): 3\n",
            "su matriz 2 es:\n",
            "[[3. 4.]\n",
            " [0. 3.]]\n",
            "El producto de las matrices es:\n",
            "[[ 6. 17.]\n",
            " [ 0.  9.]]\n",
            "El determinante de su matriz A es:\n",
            "6.0\n",
            "El determinante de su matriz B es:\n",
            "9.000000000000002\n",
            "El determinante de su matriz A*B es:\n",
            "54.00000000000001\n"
          ],
          "name": "stdout"
        }
      ]
    },
    {
      "cell_type": "markdown",
      "metadata": {
        "id": "SmK11jwsqwGI",
        "colab_type": "text"
      },
      "source": [
        "No se cumple en general que el det (A + B)=det A + det B"
      ]
    },
    {
      "cell_type": "code",
      "metadata": {
        "id": "6F1tMr4BrdHc",
        "colab_type": "code",
        "colab": {
          "base_uri": "https://localhost:8080/",
          "height": 204
        },
        "outputId": "ecf89577-1d68-4407-ac59-4a719b6e9d00"
      },
      "source": [
        "\n",
        "import numpy as np\n",
        "\n",
        "A= np.array([[11,2],[0,1]])\n",
        "print(A)\n",
        "\n",
        "#sacamos el determinante\n",
        "print(\"El determinante de su matriz es:\")\n",
        "d= np.linalg.det(A)\n",
        "print(d)\n",
        "\n",
        "S= np.array([[23,12],[11,3]])\n",
        "print(S)\n",
        "\n",
        "#sacamos el determinante\n",
        "print(\"El determinante de su matriz es:\")\n",
        "m= np.linalg.det(S)\n",
        "print(m)\n",
        "\n",
        "print(\"La suma de las matrices es:\")\n",
        "T=A+S\n",
        "\n",
        "print(\"El determinante de su matriz suma es:\")\n",
        "o= np.linalg.det(T)\n",
        "print(o)"
      ],
      "execution_count": null,
      "outputs": [
        {
          "output_type": "stream",
          "text": [
            "[[11  2]\n",
            " [ 0  1]]\n",
            "El determinante de su matriz es:\n",
            "11.000000000000002\n",
            "[[23 12]\n",
            " [11  3]]\n",
            "El determinante de su matriz es:\n",
            "-62.99999999999999\n",
            "La suma de las matrices es:\n",
            "El determinante de su matriz suma es:\n",
            "-17.999999999999996\n"
          ],
          "name": "stdout"
        }
      ]
    },
    {
      "cell_type": "markdown",
      "metadata": {
        "id": "6R1EMSFKtpoU",
        "colab_type": "text"
      },
      "source": [
        "Si dos filas (columnas) de A son iguales, entonces det(A) = 0"
      ]
    },
    {
      "cell_type": "code",
      "metadata": {
        "id": "mtUNg_3UuCf6",
        "colab_type": "code",
        "colab": {
          "base_uri": "https://localhost:8080/",
          "height": 85
        },
        "outputId": "d8b0cc1d-2696-4946-e46d-145a1554b276"
      },
      "source": [
        "S= np.array([[23,12],[23,12]])\n",
        "print(S)\n",
        "\n",
        "#sacamos el determinante\n",
        "print(\"El determinante de su matriz es:\")\n",
        "m= np.linalg.det(S)\n",
        "print(m)"
      ],
      "execution_count": null,
      "outputs": [
        {
          "output_type": "stream",
          "text": [
            "[[23 12]\n",
            " [23 12]]\n",
            "El determinante de su matriz es:\n",
            "0.0\n"
          ],
          "name": "stdout"
        }
      ]
    },
    {
      "cell_type": "markdown",
      "metadata": {
        "id": "i9e4iz6luYaf",
        "colab_type": "text"
      },
      "source": [
        "El determinante de una matriz con un escalar es el escalar por el determinante de la matriz, es decir:\n",
        "\n",
        "Si C= $\\tau$*$A_{nxn}$ ,  \n",
        "entonces det(C)= $\\tau$ * det($A_{nxn}$)"
      ]
    },
    {
      "cell_type": "markdown",
      "metadata": {
        "id": "LCs2APyMyoQu",
        "colab_type": "text"
      },
      "source": [
        "Estas son solo algunas de las propiedades que los determinantes poseen.\n",
        "\n",
        "Fuentes que se consultaron y quedan como sugerencia al lector: \n",
        "\n",
        "+ Kolman, B., & Hill, D. R. (2006). Álgebra Lineal. México: Pearson.\n",
        "\n",
        "+ S., S. I., & Godoy, J. J. (2012). Álgebra Lineal. México: McGrawll -Hill Companies."
      ]
    }
  ]
}
