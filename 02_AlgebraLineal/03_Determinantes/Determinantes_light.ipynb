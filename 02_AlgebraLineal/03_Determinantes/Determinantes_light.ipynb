{
  "nbformat": 4,
  "nbformat_minor": 0,
  "metadata": {
    "colab": {
      "name": "Determinantes_light.ipynb",
      "provenance": [],
      "collapsed_sections": [],
      "toc_visible": true,
      "include_colab_link": true
    },
    "kernelspec": {
      "name": "python3",
      "display_name": "Python 3"
    }
  },
  "cells": [
    {
      "cell_type": "markdown",
      "metadata": {
        "id": "view-in-github",
        "colab_type": "text"
      },
      "source": [
        "<a href=\"https://colab.research.google.com/github/jugernaut/Prometeo/blob/ligera/02_AlgebraLineal/03_Determinantes/Determinantes_light.ipynb\" target=\"_parent\"><img src=\"https://colab.research.google.com/assets/colab-badge.svg\" alt=\"Open In Colab\"/></a>"
      ]
    },
    {
      "cell_type": "markdown",
      "metadata": {
        "id": "AwelXUk1eAXi"
      },
      "source": [
        "# Determinantes\r\n",
        "### Trabajo realizado con el apoyo del Programa UNAM-DGAPA-PAPIME PE101019\r\n",
        "\r\n",
        "*   Autor: \r\n",
        "    - Ocampo Nava Maria Fernanda\r\n",
        "*   Rev: mar 12 ene 2021 20:00:03 CST"
      ]
    },
    {
      "cell_type": "markdown",
      "metadata": {
        "id": "6DfKoL71eQZL"
      },
      "source": [
        "La función determinante de una matriz permite clasificar los sistemas de ecuaciones lineales según sus soluciones, existen reglas que ayudan a obtenerlo dependeiendo la dimensión de la matriz, es importante saber que esto solo funciona con matrices cuadradas.\r\n",
        "\r\n",
        "\r\n",
        "Sea $A \\in M_{n\\times n}$ sobre $\\mathbb{R}$ el determinante de $A$ se define como sigue.\r\n",
        "\r\n",
        "$$det(A)=\\begin{cases}\r\n",
        "a_{0,0}*a_{1,1}-a_{0,1}*a_{1,0} & n=2\\\\\r\n",
        "\\sum_{i=0}^{n-1}\\left(-1\\right)^{i}*a_{0,i}*det\\left(subMatriz_{0,i}\\left(A\\right)\\right) & n\\geq2\r\n",
        "\\end{cases}$$\r\n",
        "\r\n",
        "Donde la función $subMatriz_{0,i}\\left(A\\right)$ elimina el renglón cero y la columna $i$ de la matriz $A$.\r\n",
        "\r\n",
        "\r\n",
        "Existen algunas propiedades que los determinantes cumplen, asi como también se han implementado diversos métodos para obtenerlo.\r\n",
        "\r\n",
        "## **Cálculo de determinantes por el método de desarrollo por menores**\r\n",
        "\r\n",
        "Para el cálculo de determinantes por este método se toma como referencia una fila o una columna y se va eliminando sus elementos (de acuerdo a su posición) y formando los determinantes de un orden inferior a la matriz original; el cual queda multiplicado por este elemento y su signo de posición. Es decir cada elemento de la fila o la columna seleccionada se multiplica por su determinante menor y el signo de posición. \r\n",
        "\r\n",
        "Los signos de posición se obtienen siempre comenzando con positivo y alternando luego.\r\n",
        "\r\n",
        "Entonces como primer paso tomamos el primer elemento y lo multiplicamos por el determinante de la matriz que se obtiene al eliminar la primera fila y la primer columna, es decir:\r\n",
        "\r\n",
        "- primer elemento del determinante :\r\n",
        "\r\n",
        "$$\\begin{equation}\r\n",
        "a_{11}*\\begin{vmatrix}\r\n",
        "a_{22} & a_{23}\\\\\r\n",
        "a_{32} & a_{33}\r\n",
        "\\end{vmatrix}= + a_{11}*[(a_{22}*a_{33})-(a_{23}*a_{32})]=a\r\n",
        "\\end{equation}$$\r\n",
        "\r\n",
        "- segundo elemento del determinante :\r\n",
        "para este se toma el segundo elemento de la matriz y se multiplica por el determinante de la matriz que resta al quitar el primer renglón y la segunda columna.\r\n",
        "\r\n",
        "\r\n",
        "$$\\begin{equation}\r\n",
        "-a_{12}*\\begin{vmatrix}\r\n",
        "a_{21} & a_{23}\\\\\r\n",
        "a_{31} & a_{33}\r\n",
        "\\end{vmatrix}= - a_{12}*[(a_{21}*a_{33})-(a_{23}*a_{31})]=b\r\n",
        "\\end{equation}$$\r\n",
        "\r\n",
        "\r\n",
        "- tercer elemento del determinante :\r\n",
        "para este se toma el tercer elemento de la matriz y se multiplica por el determinante de la matriz que resta al quitar el primer renglón y la tercer columna.\r\n",
        "\r\n",
        "$$\\begin{equation}\r\n",
        "+a_{13}*\\begin{vmatrix}\r\n",
        "a_{21} & a_{22}\\\\\r\n",
        "a_{31} & a_{32}\r\n",
        "\\end{vmatrix}= a_{13}*[(a_{21}*a_{32})-(a_{22}*a_{31})]=c\r\n",
        "\\end{equation}$$\r\n",
        "\r\n",
        "Asi se lleva a cabo el procedimieto dependiendo la dimensión de la matriz disminuyendo hasta un orden cuyo determinante sea mas fácil calcular.\r\n",
        "\r\n",
        "Por último se obtiene que:\r\n",
        "\r\n",
        "\r\n",
        "$$\\begin{equation} det(A) = \r\n",
        "\\begin{pmatrix}\r\n",
        "a_{11} & a_{12} & a_{13} \\\\\r\n",
        "a_{21}& a_{22} & a_{23}\\\\\r\n",
        "a_{31}& a_{32}& a_{33}\r\n",
        "\\end{pmatrix} = \\pm a \\pm b \\pm c\r\n",
        "\\end{equation}$$\r\n",
        "\r\n",
        "\r\n",
        "Para obtener ejemplos interactivos y mayor información de este tema se puede consultar nuestro notebook de <a href=https://colab.research.google.com/github/jugernaut/Prometeo/blob/desarrollo/02_AlgebraLineal/03_Determinantes/03_Determinantes.ipynb >*Determinantes.*</a>\r\n"
      ]
    }
  ]
}