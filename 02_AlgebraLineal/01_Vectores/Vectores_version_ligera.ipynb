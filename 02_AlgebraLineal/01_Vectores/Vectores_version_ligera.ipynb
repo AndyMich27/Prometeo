{
  "nbformat": 4,
  "nbformat_minor": 0,
  "metadata": {
    "colab": {
      "name": "Vectores_version_ligera.ipynb",
      "provenance": []
    },
    "kernelspec": {
      "name": "python3",
      "display_name": "Python 3"
    }
  },
  "cells": [
    {
      "cell_type": "markdown",
      "metadata": {
        "id": "g3QgIeV1q69L"
      },
      "source": [
        "# Vectores\n",
        "\n",
        "## Versión ligera\n",
        "\n",
        "### Trabajo realizado con el apoyo del Programa UNAM-DGAPA-PAPIME PE101019\n",
        "\n",
        "*   Autor: \n",
        "  - Jaime Jesús Ortega Ibarra\n",
        "*   Rev: miercoles enero 13 20:14:01 CDT 2020"
      ]
    },
    {
      "cell_type": "markdown",
      "metadata": {
        "id": "vvfFwnelrMdo"
      },
      "source": [
        "## Introducción\n",
        "   + **¿Qué es un vector?**\\\n",
        "Dentro del área de la física, se le conoce como vector a un segmento de recta en el espacio que parte de un punto hacia otro, es decir, que tiene dirección y sentido. Los vectores en física tienen por función expresar las llamadas magnitudes vectoriales. En computación, un vector representa una lista de números que pueden tomar muchos valores.\n",
        "En matemáticas se define vector como un elemento de un espacio vectorial. Esta noción es más abstracta y para muchos espacios vectoriales no es posible representar sus vectores mediante el módulo y la dirección, en particular los espacios de dimensión infinita sin producto escalar no son representables de ese modo. Los vectores en un espacio euclídeo se pueden representar geométricamente como segmentos de recta $\\mathbb{R}$, en el plano $\\mathbb{R}^{2}$ (bidimensional), o en el espacio $\\mathbb{R}^{3}$ (tridimensional).\n",
        "\n",
        "Mientras en el área de la computación, los vectores son una forma de almacenar datos que permiten contener una serie de valores del mismo tipo, cada uno de los valores contenidos tiene una posición asociada que se usará para accederlos. Está posición o índice será siempre un número entero positivo."
      ]
    },
    {
      "cell_type": "markdown",
      "metadata": {
        "id": "6HG8jAm5rV9R"
      },
      "source": [
        "# Suma y resta de vectores\n",
        "\n",
        "Para sumar dos vectores $\\vec{a}$  y $\\vec{b}$ se suma $\\vec{a}$ con el vector $\\vec{b}$, es decir, se suman los componentes de cada vector:\n",
        "\n",
        "\\begin{equation}\n",
        "\\vec{a}+\\vec{b} = (a_{1}+b_{1},a_{2}+b_{2},a_{3}+b_{3})\n",
        "\\end{equation}\n",
        "\n",
        "### Ejemplo\n",
        "\n",
        "Sean $\\vec{a}=(3,2,-4)$ y $\\vec{b}=(-3,2,7)$, calcula el vector $\\vec{a}+\\vec{b}$\n",
        "\\begin{equation}\n",
        "\\vec{a}+\\vec{b} = (3+(-3),2+2,-4+7)=(0,4,3)\n",
        "\\end{equation}\n",
        "\n",
        "Para restar dos vectores $\\vec a$ y $\\vec b$ se suma $\\vec a$ con el opuesto del vector $\\vec b$, es decir:}\n",
        "\\begin{equation}\n",
        "\\vec a- \\vec b = (\\vec a_{1}- \\vec b_{1}, \\vec a_{2}- \\vec b_{2},\\vec a_{3}- \\vec b_{3})\n",
        "\\end{equation}\n",
        "Por ejemplo:\\\n",
        "Sea $\\vec a=(5,2,4)$ y $\\vec b=(-3,5,9)$, calcular el vector $\\vec a- \\vec b$\n",
        "\\begin{equation}\n",
        "\\vec a- \\vec b=(5-(-3),2-5,4-9)=(8,-3,-5)\n",
        "\\end{equation}\n"
      ]
    },
    {
      "cell_type": "markdown",
      "metadata": {
        "id": "cbyma1Yorer-"
      },
      "source": [
        "# Multiplicación de un Vector por un escalar\n",
        "\n",
        "La multiplicación por un escalar proviene de la definición ya que este valor por el cuál vamos a multiplicar un vector en realidad solo va a agrandar ó a dismininuir la magnitud del vector (lo va a escalar).\n",
        "\n",
        "## Ejemplo\n",
        "\n",
        "Al multiplicar un vector $\\vec{x}$ por un escalar $\\lambda$, obtenemos como resultado un nuevo vector $\\vec{y}=(\\lambda)(\\vec{x})$ que cumple con las siguientes características:\\\n",
        "Si $\\lambda$ es:\\\n",
        "\\\n",
        "~ Positivo entonces $\\vec{x}$ y $\\vec{y}$ tendrán el mismo sentido.\\\n",
        "~ Negativo entonces $\\vec{x}$ y $\\vec{y}$ tendrán sentido opuesto.\\\n",
        "\\\n",
        "Por ejemplo:\\\n",
        "Sea $\\vec{x} =(2,4,1,2)$ y $\\lambda=2$\\\n",
        "\\begin{equation}\n",
        "(\\vec{x})(\\lambda) = 2(2,4,1,2) = (4,8,2,4)\n",
        "\\end{equation}\n",
        "\n",
        "No importa cuantas componentes tenga nuestro vector, el escalar $\\lambda$ multiplica cada una de las componentes del vector. Un ejemplo en 2 dimensiones es el siguiente."
      ]
    },
    {
      "cell_type": "markdown",
      "metadata": {
        "id": "Khl-4ztHrpZN"
      },
      "source": [
        "# Producto Punto entre vectores\n",
        "\n",
        "El producto punto o producto escalar de dos vectores es una operación que da como resultado un número real. Hay distintas formas de definir esta operación, una de ellas es por medio de multiplicar el producto de los módulos de los vectores por el coseno del ángulo que forman, esto es:\n",
        "\n",
        "\\begin{equation}\n",
        "\\vec{u} \\cdot \\vec{v} = |\\vec{u}||\\vec{v}| \\cos{\\alpha}\n",
        "\\end{equation}\n",
        "\n",
        "Sin embargo, la forma más común de definir el producto punto no es esa, sino por medio de la suma de los productos de sus respecticas coordenadas, es decir, si $$\\vec{u} = (u_1, u_2, \\dots, u_n)$$ y $$\\vec{v} = (v_1, v_2, \\dots, v_n)$$, entonces podemos definir el producto punto como:\n",
        "\n",
        " $$\\vec{u} \\cdot \\vec{v} = u_1v_1 + u_2v_2 + \\cdots + u_nv_n = \\sum_{i=1}^{n}{u_iv_i}$$"
      ]
    },
    {
      "cell_type": "markdown",
      "metadata": {
        "id": "CUoPhWMuruBE"
      },
      "source": [
        "# Ortogonalidad\n",
        "Dos vectores son ortogonales o perpendiculares si su producto escalar es cero, es decir:\n",
        "$$\\vec{u} \\cdot \\vec{v} = 0$$\n",
        "\n",
        "\n",
        "\n",
        "$$v_1 \\cdot u_1, v_2 \\cdot u_2,...,v_n \\cdot u_n = 0$$\n",
        "\n",
        "## Ejercicio\n",
        "Determinar si los vectores $\\vec{a}$ = (1, 2)  y  $\\vec{b}$ = (-2, 1) son ortogonales.\n",
        "\n",
        "Como $$\\vec{a} = (1, 2) y \\vec{b} = (-2, 1),$$  entonces:\n",
        "\n",
        "$$\\vec{a} \\cdot \\vec{b} = (1)(-2) + (2)(1) = 0 $$\n",
        "\n",
        "$\\therefore$ Son Ortogonales"
      ]
    },
    {
      "cell_type": "markdown",
      "metadata": {
        "id": "Bt1MVi34uIHd"
      },
      "source": [
        "En la siguiente celda, podemos observar la representación de un vector dentro del lenguaje de programación $Python$\n"
      ]
    },
    {
      "cell_type": "code",
      "metadata": {
        "colab": {
          "base_uri": "https://localhost:8080/",
          "height": 286
        },
        "id": "YPrQLVnIr9zO",
        "outputId": "7a11aee7-8aa3-44bd-ffea-7c12dba84f14"
      },
      "source": [
        "import matplotlib.pyplot as plt\n",
        "\n",
        "vector = [1,2]\n",
        "print('Un vector: ', vector, 'podría verse de la siguiente manera:')\n",
        "plt.plot([0,2],label='Vector (1,2)')\n",
        "plt.plot([0,2], 'v', ms=10, mfc='red')\n",
        "plt.xlim([0,1.5])\n",
        "plt.ylim([0,2.5])\n",
        "plt.legend()\n",
        "plt.grid()"
      ],
      "execution_count": 27,
      "outputs": [
        {
          "output_type": "stream",
          "text": [
            "Un vector:  [1, 2] podría verse de la siguiente manera:\n"
          ],
          "name": "stdout"
        },
        {
          "output_type": "display_data",
          "data": {
            "image/png": "[encoded data removed]",
            "text/plain": [
              "<Figure size 432x288 with 1 Axes>"
            ]
          },
          "metadata": {
            "tags": [],
            "needs_background": "light"
          }
        }
      ]
    },
    {
      "cell_type": "markdown",
      "metadata": {
        "id": "GiV_i7tpuEZ2"
      },
      "source": [
        "#Referencias\n",
        "\n",
        "Para mayor aprendizaje se recomienda al lector visitar las diversas fuentes de donde se obtuvo la información anterior: \n",
        "- https://www.fisicalab.com/apartado/producto-de-vector-y-escalar\n",
        "- https://www.educaplus.org/movi/1_4sumavector.html \\\n",
        "- http://euclides.us.es/da/apuntes/alige/alige-I-4.pdff"
      ]
    }
  ]
}