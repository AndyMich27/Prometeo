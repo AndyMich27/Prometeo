{
  "nbformat": 4,
  "nbformat_minor": 0,
  "metadata": {
    "colab": {
      "name": "05_Espacios_Vectoriales.ipynb",
      "provenance": [],
      "include_colab_link": true
    },
    "kernelspec": {
      "name": "python3",
      "display_name": "Python 3"
    }
  },
  "cells": [
    {
      "cell_type": "markdown",
      "metadata": {
        "id": "view-in-github",
        "colab_type": "text"
      },
      "source": [
        "<a href=\"https://colab.research.google.com/github/jugernaut/Prometeo/blob/desarrollo/02_AlgebraLineal/05_Espacios_Vectoriales.ipynb\" target=\"_parent\"><img src=\"https://colab.research.google.com/assets/colab-badge.svg\" alt=\"Open In Colab\"/></a>"
      ]
    },
    {
      "cell_type": "markdown",
      "metadata": {
        "id": "XJNNtDmlTBiP",
        "colab_type": "text"
      },
      "source": [
        "# Espacios Vectoriales\n",
        "## Proyecto PAPIME PE101019\n",
        "- Autor: Ortega Ibarra Jaime\n",
        "- Rev: 25 Junio 2020\n",
        "\n",
        "**¿Alguna vez has visitado un Billar?**\n",
        "\n",
        "Dentro de este juego, se debe golpear una bola con cierta fuerza y dirección, de tal manera que pueda trazar una ruta hacía otra bola con el objetivo de introducirla dentro de alguna tronera (Esquina de la mesa), pero ¿Qué es esto?, pues esto al tener más de un vector, cada uno con cierta dirección y sentido, pueden verse como un espacio vectorial.\n",
        "\n",
        "### Introducción \n",
        "En álgebra abstracta, un espacio vectorial es una estructura algebraica creada a partir de un conjunto no vacío, una operación interna (llamada suma, definida para los elementos del conjunto) y una operación externa (llamada producto por un escalar, definida entre dicho conjunto y otro conjunto, con estructura de cuerpo), con 8 propiedades fundamentales. A los elementos de un espacio vectorial se les llama vectores y a los elementos del cuerpo, escalares.\n",
        "\n",
        "- Un espacio vectorial sobre un cuerpo  $K$ (como el cuerpo de los números reales o los números complejos) es un conjunto $V$  no vacío, dotado de dos operaciones para las cuales será cerrado:\n",
        "\\begin{equation}\n",
        "Suma : VxV \\rightarrow V\n",
        "\\end{equation}\n",
        "\\begin{equation}\n",
        "(u,v) \\rightarrow w=u+v\n",
        "\\end{equation}\n",
        "Operación interna tal que contenga las siguientes propiedades:\n",
        "  - Propiedad Conmutativa:\n",
        "\\begin{equation}\n",
        "u+v = v+u,  \n",
        "\\end{equation}\n",
        "\\begin{equation}\n",
        "\\forall n,v \\in V\n",
        "\\end{equation}\n",
        "  - Propiedad Asociativa:\n",
        "\\begin{equation}\n",
        "u+(u+w)=(u+v)+w, \n",
        "\\end{equation}\n",
        "\\begin{equation}\n",
        "\\forall n,v,w \\in V\n",
        "\\end{equation}\n",
        "  - Exista el elemento neutro:\n",
        "\\begin{equation}\n",
        "\\exists e \\in V:u+e=u,\n",
        "\\end{equation}\n",
        "\\begin{equation}\n",
        "\\forall u \\in V\n",
        "\\end{equation}\n",
        "  - Exista el elemento opuesto:\n",
        "\\begin{equation}\n",
        "\\forall u \\in V, \\exists -u \\in V:u+(-u)=e\n",
        "\\end{equation}\n",
        "Y tenga la operación productio por un escalar:\n",
        "\\begin{equation}\n",
        "Proudcto: KxV \\rightarrow V\n",
        "\\end{equation}\n",
        "\\begin{equation}\n",
        "(a,u) \\rightarrow v=a \\cdot u\n",
        "\\end{equation}\n",
        "operación externa tal que:\n",
        "  - Tenga la propiedad Asociativa:\n",
        "\\begin{equation}\n",
        "a \\cdot (b \\cdot u) = (a \\cdot b) \\cdot u\n",
        "\\end{equation}\n",
        "\\begin{equation}\n",
        "\\forall a,b \\in K, \\forall u \\in V\n",
        "\\end{equation}\n",
        "  - Exista el elemento neutro:\n",
        "\\begin{equation}\n",
        " \\exists e \\in K:e \\cdot u = u,\n",
        "\\end{equation}\n",
        "\\begin{equation}\n",
        "\\forall u \\in V\n",
        "\\end{equation}\n",
        "  - Tenga la propiedad distributiva respecto de la suma vectorial:\n",
        "\\begin{equation}\n",
        "a \\cdot (u+v) = a \\cdot u + a \\cdot v,\n",
        "\\end{equation}\n",
        "\\begin{equation}\n",
        "\\forall a \\in K, \\forall u,v \\in V\n",
        "\\end{equation}\n",
        "  - Tenga la propiedad distributiva respecto de la suma escalar:\n",
        "\\begin{equation}\n",
        "(a+b) \\cdot u = a \\cdot u + b \\cdot u,\n",
        "\\end{equation}\n",
        "\\begin{equation}\n",
        "\\forall a,b \\in K, \\forall u \\in V\n",
        "\\end{equation}\n"
      ]
    },
    {
      "cell_type": "code",
      "metadata": {
        "id": "u4t1dF44TDBD",
        "colab_type": "code",
        "colab": {}
      },
      "source": [
        "import matplotlib.pyplot as plt\n",
        "import numpy as np\n",
        "import scipy.sparse as sp\n",
        "import scipy.linalg as la\n",
        "import sympy\n",
        "import math\n",
        "%matplotlib inline"
      ],
      "execution_count": null,
      "outputs": []
    },
    {
      "cell_type": "code",
      "metadata": {
        "id": "cp_bJCg6TEhp",
        "colab_type": "code",
        "colab": {
          "base_uri": "https://localhost:8080/",
          "height": 285
        },
        "outputId": "3071f87e-d4da-46fa-f4f3-72c56f67d5a3"
      },
      "source": [
        "fix, ax = plt.subplots()\n",
        "for spine in ['left', 'bottom']:\n",
        "  ax.spines[spine].set_position('zero')\n",
        "\n",
        "for spine in ['right', 'top']:\n",
        "  ax.spines[spine].set_color('none')\n",
        "\n",
        "ax.set_xlim(-5,5)\n",
        "ax.set_ylim(-5,5)\n",
        "ax.grid()\n",
        "vector = [2,5]\n",
        "ax.annotate(\" \", xy = vector, xytext=[0,0],color='red',\n",
        "            arrowprops=dict(facecolor = 'red',\n",
        "                            shrink=0,\n",
        "                            alpha=0.7,\n",
        "                            width=0.5))\n",
        "ax.text(1.1*vector[0], 1.1*vector[1], vector)"
      ],
      "execution_count": null,
      "outputs": [
        {
          "output_type": "execute_result",
          "data": {
            "text/plain": [
              "Text(2.2, 5.5, '[2, 5]')"
            ]
          },
          "metadata": {
            "tags": []
          },
          "execution_count": 2
        },
        {
          "output_type": "display_data",
          "data": {
            "image/png": "[encoded data removed]",
            "text/plain": [
              "<Figure size 432x288 with 1 Axes>"
            ]
          },
          "metadata": {
            "tags": [],
            "needs_background": "light"
          }
        }
      ]
    },
    {
      "cell_type": "markdown",
      "metadata": {
        "id": "etVQzwC-TPDW",
        "colab_type": "text"
      },
      "source": [
        "## Combinaciones lineales\n",
        "\n",
        "Cuando trabajamos vectores, nos podemos encontrar con dos operaciones fundamentales, la suma y la multiplicación por escalares. Cuando sumamos dos vectores v y w, sumamos elemento por elemento, del siguiente modo:\n",
        "\\begin{equation}\n",
        "v+w = \\begin{bmatrix} v_1 \\\\ v_2 \\\\ . \\\\ .\\\\ . \\\\ v_n  \\end{bmatrix} + \n",
        "\\begin{bmatrix} w_1 \\\\ w_2 \\\\ . \\\\ . \\\\ . \\\\ w_n \\end{bmatrix} =\n",
        "\\begin{bmatrix} v_1 + w_1 \\\\ v_2 + w_2 \\\\ . \\\\ . \\\\ . \\\\ v_n + w_n \\end{bmatrix}\n",
        "\\end{equation}\n",
        "\n",
        "En el siguiente código podemos ejemplificar lo dicho anteriormente."
      ]
    },
    {
      "cell_type": "code",
      "metadata": {
        "id": "JBkaHGjmTJ2A",
        "colab_type": "code",
        "colab": {
          "base_uri": "https://localhost:8080/",
          "height": 266
        },
        "outputId": "9f96817d-ebd2-4de6-ee8d-b1e7bc362921"
      },
      "source": [
        "fix, ax = plt.subplots()\n",
        "for spine in ['left', 'bottom']:\n",
        "  ax.spines[spine].set_position('zero')\n",
        "\n",
        "for spine in ['right', 'top']:\n",
        "  ax.spines[spine].set_color('none')\n",
        "ax.set_xlim(-5, 5)\n",
        "ax.set_ylim(-5 , 5)\n",
        "ax.grid()\n",
        "\n",
        "vectores = [[2, 4], [2, -2]]\n",
        "for vector in vectores:\n",
        "  ax.annotate(\" \", xy = vector, xytext=[0,0],color='red',\n",
        "            arrowprops=dict(facecolor = 'red',\n",
        "                            shrink=0,\n",
        "                            alpha=0.7,\n",
        "                            width=0.5))\n",
        "  \n",
        "vector = np.array([2,4]) + np.array([2, -2])\n",
        "ax.annotate(\" \", xy = vector, xytext=[0,0],color='red',\n",
        "            arrowprops=dict(facecolor = 'red',\n",
        "                            shrink=0,\n",
        "                            alpha=0.7,\n",
        "                            width=0.5))\n",
        "\n",
        "ax.plot(vectores[0], [-2,2], linestyle='--')\n",
        "ax.plot(vectores[0], [4,2], linestyle='--')"
      ],
      "execution_count": null,
      "outputs": [
        {
          "output_type": "execute_result",
          "data": {
            "text/plain": [
              "[<matplotlib.lines.Line2D at 0x7f4f556f56d8>]"
            ]
          },
          "metadata": {
            "tags": []
          },
          "execution_count": 3
        },
        {
          "output_type": "display_data",
          "data": {
            "image/png": "[encoded data removed]",
            "text/plain": [
              "<Figure size 432x288 with 1 Axes>"
            ]
          },
          "metadata": {
            "tags": [],
            "needs_background": "light"
          }
        }
      ]
    },
    {
      "cell_type": "markdown",
      "metadata": {
        "id": "ST1yV2EOTpmE",
        "colab_type": "text"
      },
      "source": [
        "## Transformaciones Lineales\n",
        "una transformación lineal es una función. Por ser función, tiene su dominio y su codominio, con la particularidad de que éstos son espacios vectoriales. Tenemos dos espacios vectoriales $V$ y $W$, y una función que va de $V$ a $W$. O sea una regla de asignación que transforma vectores de $V$ en vectores de $W$. Pero no toda función que transforme vectores de $V$ en vectores de $W$ es una transformación lineal. Debe cumplir ciertas condiciones:\n",
        "\n",
        "$$F: V \\rightarrow W$$ es una transformación lienal si y sólo si:\n",
        "1. $$F(u+v)=F(u)+F(v)$$ $$\\forall u,v \\in V$$\n",
        "\n",
        "2. $$F(k \\cdot v)= k \\cdot F(v)$$ $$\\forall v \\in V, \\forall k \\in \\mathbb R$$\n"
      ]
    },
    {
      "cell_type": "code",
      "metadata": {
        "id": "yVLM4FajTqUw",
        "colab_type": "code",
        "colab": {
          "base_uri": "https://localhost:8080/",
          "height": 179
        },
        "outputId": "8af90991-b102-41d9-cae5-736411c55f96"
      },
      "source": [
        "A = np.array([[-1,3],[2, -2]])\n",
        "print('Matriz:\\n', A, '\\n')\n",
        "vector = np.array([[2], [1]])\n",
        "print('Vector: \\n', vector, '\\n')\n",
        "print(vector.flatten())"
      ],
      "execution_count": null,
      "outputs": [
        {
          "output_type": "stream",
          "text": [
            "Matriz:\n",
            " [[-1  3]\n",
            " [ 2 -2]] \n",
            "\n",
            "Vector: \n",
            " [[2]\n",
            " [1]] \n",
            "\n",
            "[2 1]\n"
          ],
          "name": "stdout"
        }
      ]
    },
    {
      "cell_type": "code",
      "metadata": {
        "id": "UYycbyR1T8Dx",
        "colab_type": "code",
        "colab": {
          "base_uri": "https://localhost:8080/",
          "height": 269
        },
        "outputId": "ba7fdc01-c86e-4999-8499-aee0586a4936"
      },
      "source": [
        "alpha = 1\n",
        "cols = ['blue']\n",
        "vecs = [vector.flatten()]\n",
        "plt.axvline(x=0, color='#A9A9A9', zorder=0)\n",
        "plt.axhline(y=0, color='#A9A9A9', zorder=0)\n",
        "plt.ylim(-1, 4)\n",
        "plt.xlim(-1, 4)\n",
        "for i in range(len(vecs)):\n",
        "  if (isinstance(alpha, list)):\n",
        "    alpha_i = alpha[i]\n",
        "  else:\n",
        "    alpha_i = alpha\n",
        "  x = np.concatenate([[0,0],vecs[i]])\n",
        "  plt.quiver([x[0]],\n",
        "             [x[1]],\n",
        "             [x[2]],\n",
        "             [x[3]],\n",
        "             angles='xy', scale_units='xy', scale=1, color=cols[i],\n",
        "             alpha=alpha_i)\n"
      ],
      "execution_count": null,
      "outputs": [
        {
          "output_type": "display_data",
          "data": {
            "image/png": "[encoded data removed]",
            "text/plain": [
              "<Figure size 432x288 with 1 Axes>"
            ]
          },
          "metadata": {
            "tags": [],
            "needs_background": "light"
          }
        }
      ]
    },
    {
      "cell_type": "code",
      "metadata": {
        "id": "WaOWHs00T8kv",
        "colab_type": "code",
        "colab": {
          "base_uri": "https://localhost:8080/",
          "height": 269
        },
        "outputId": "d192a71a-fe16-45be-9ba3-b41d79948bb2"
      },
      "source": [
        "A.dot(vector)\n",
        "vector_transformado = A.dot(vector)\n",
        "vecs = [vector.flatten(), vector_transformado.flatten()]\n",
        "cols = ['blue', 'red']\n",
        "plt.axvline(x=0, color='#A9A9A9', zorder=0)\n",
        "plt.axhline(y=0, color='#A9A9A9', zorder=0)\n",
        "plt.ylim(-1, 4)\n",
        "plt.xlim(-1, 4)\n",
        "for i in range(len(vecs)):\n",
        "  if (isinstance(alpha, list)):\n",
        "    alpha_i = alpha[i]\n",
        "  else:\n",
        "    alpha_i = alpha\n",
        "  x = np.concatenate([[0,0],vecs[i]])\n",
        "  plt.quiver([x[0]],\n",
        "             [x[1]],\n",
        "             [x[2]],\n",
        "             [x[3]],\n",
        "             angles='xy', scale_units='xy', scale=1, color=cols[i],\n",
        "             alpha=alpha_i)"
      ],
      "execution_count": null,
      "outputs": [
        {
          "output_type": "display_data",
          "data": {
            "image/png": "[encoded data removed]",
            "text/plain": [
              "<Figure size 432x288 with 1 Axes>"
            ]
          },
          "metadata": {
            "tags": [],
            "needs_background": "light"
          }
        }
      ]
    },
    {
      "cell_type": "markdown",
      "metadata": {
        "id": "hZn2WUOJYuKr",
        "colab_type": "text"
      },
      "source": [
        "## Espacios y Subespacios\n",
        "De acuerdo con las propiedades vistas inicialmente, se puede afirmar que $\\mathbb R^3$ es un espacio vectorial, por lo que podemos definir un subespacio vectorial de la siguiente manera:\\\n",
        "Sea $V$ un espacio vectorial y $W$ un subconjunto no vacío de $V$.\\\n",
        "$W$ es un subespacio de $V$ si $W$ es en sí mismo un espacio vectorial con las mismas operaciones (suma de vectores y producto por un escalar) definidas en $V$, es decir:\\\n",
        "i) $$\\forall u,v \\in W, u+v \\in W$$\n",
        "ii) $$\\forall u \\in U, \\forall k \\in K, ku \\in U $$\n"
      ]
    },
    {
      "cell_type": "markdown",
      "metadata": {
        "id": "sWF2yPlYYYH1",
        "colab_type": "text"
      },
      "source": [
        "Para mayor aprendizaje, se recomienda al lector visitar las diversas fuentes de donde se obtuvo la información anterior:\n",
        "- https://www.educaplus.org/movi/1_4sumavector.html \\\n",
        "- http://euclides.us.es/da/apuntes/alige/alige-I-4.pdf\n",
        "- https://sites.google.com/site/sistemasalgebralineal/unidad-4---espacios-vectoriales/definicion-de-espacio-vectorial"
      ]
    }
  ]
}